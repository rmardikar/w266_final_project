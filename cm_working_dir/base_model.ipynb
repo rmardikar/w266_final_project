{
  "cells": [
    {
      "cell_type": "markdown",
      "metadata": {
        "id": "z9rigx9lYp0r"
      },
      "source": [
        "***\n",
        "# EDA emotions_with_neutrals_220228.csv dataset\n",
        "Concatenated the neutrals from Kaggle dataset with Huggingface dataset<br>\n",
        "https://github.com/dair-ai/emotion_dataset<br>\n",
        "https://huggingface.co/datasets/dair-ai/emotion\n",
        "***"
      ]
    },
    {
      "cell_type": "markdown",
      "metadata": {
        "id": "kX3XryQmcWhL"
      },
      "source": [
        "***\n",
        "## 1 Load the train/test/val datasets\n",
        " <span style=\"color:red\">!!!Make sure to comment out the correct source (Google drive or local)!!!</span>"
      ]
    },
    {
      "cell_type": "code",
      "source": [
        "import pandas as pd\n",
        "import numpy as np\n",
        "import random\n",
        "\n",
        "# mount google drive\n",
        "from google.colab import drive \n",
        "drive.mount('/content/gdrive')"
      ],
      "metadata": {
        "id": "06sIOQnaaF9P",
        "colab": {
          "base_uri": "https://localhost:8080/"
        },
        "outputId": "de2dac67-ffb5-4692-c779-7f1ce26100aa"
      },
      "execution_count": 1,
      "outputs": [
        {
          "output_type": "stream",
          "name": "stdout",
          "text": [
            "Drive already mounted at /content/gdrive; to attempt to forcibly remount, call drive.mount(\"/content/gdrive\", force_remount=True).\n"
          ]
        }
      ]
    },
    {
      "cell_type": "code",
      "execution_count": 2,
      "metadata": {
        "id": "9j2cEQQtYMBR"
      },
      "outputs": [],
      "source": [
        "# read from the google drive\n",
        "project_folder = '/content/gdrive/MyDrive/266_Final_Project_Folder'\n",
        "\n",
        "train_source = project_folder + '/datasets/train_data_imbalanced_stratified.csv'\n",
        "test_source = project_folder + '/datasets/test_data_imbalanced_stratified.csv'\n",
        "val_source = project_folder + '/datasets/validation_data_imbalanced_stratified.csv'\n",
        "\n",
        "# Load the dfs\n",
        "train_df = pd.read_csv(train_source)\n",
        "test_df = pd.read_csv(test_source)\n",
        "val_df = pd.read_csv(val_source)"
      ]
    },
    {
      "cell_type": "code",
      "source": [
        "# drop the tweet_id column\n",
        "train_df.drop(columns=train_df.columns[0], axis=1, inplace=True)\n",
        "test_df.drop(columns=test_df.columns[0], axis=1, inplace=True)\n",
        "val_df.drop(columns=val_df.columns[0], axis=1, inplace=True)"
      ],
      "metadata": {
        "id": "h48ApL-1cvqP"
      },
      "execution_count": 3,
      "outputs": []
    },
    {
      "cell_type": "code",
      "source": [
        "train_df"
      ],
      "metadata": {
        "colab": {
          "base_uri": "https://localhost:8080/",
          "height": 423
        },
        "id": "7W2PlC_Ulv0O",
        "outputId": "af64d313-4580-4d37-9980-f04d55b13b9e"
      },
      "execution_count": 4,
      "outputs": [
        {
          "output_type": "execute_result",
          "data": {
            "text/plain": [
              "                                                     text emotions\n",
              "0       i know what it s like to feel empty and to be ...  sadness\n",
              "1       i wanted to give it texture make it feel real ...  sadness\n",
              "2       i dont know and if i feel petty and ungrateful...    anger\n",
              "3           i feel like my life is really shaky right now     fear\n",
              "4       i feel like some valuable social etiquette has...      joy\n",
              "...                                                   ...      ...\n",
              "223354  i have really enjoyed the break from eastender...      joy\n",
              "223355  im feeling utterly exhausted i imagine sitting...  sadness\n",
              "223356  i love how girly the shade is and i always fee...      joy\n",
              "223357  i can understand how they feel i m thrilled th...      joy\n",
              "223358                           im feeling pretty crappy  sadness\n",
              "\n",
              "[223359 rows x 2 columns]"
            ],
            "text/html": [
              "\n",
              "  <div id=\"df-e6426412-5120-4f44-9f42-d1807cbac19c\">\n",
              "    <div class=\"colab-df-container\">\n",
              "      <div>\n",
              "<style scoped>\n",
              "    .dataframe tbody tr th:only-of-type {\n",
              "        vertical-align: middle;\n",
              "    }\n",
              "\n",
              "    .dataframe tbody tr th {\n",
              "        vertical-align: top;\n",
              "    }\n",
              "\n",
              "    .dataframe thead th {\n",
              "        text-align: right;\n",
              "    }\n",
              "</style>\n",
              "<table border=\"1\" class=\"dataframe\">\n",
              "  <thead>\n",
              "    <tr style=\"text-align: right;\">\n",
              "      <th></th>\n",
              "      <th>text</th>\n",
              "      <th>emotions</th>\n",
              "    </tr>\n",
              "  </thead>\n",
              "  <tbody>\n",
              "    <tr>\n",
              "      <th>0</th>\n",
              "      <td>i know what it s like to feel empty and to be ...</td>\n",
              "      <td>sadness</td>\n",
              "    </tr>\n",
              "    <tr>\n",
              "      <th>1</th>\n",
              "      <td>i wanted to give it texture make it feel real ...</td>\n",
              "      <td>sadness</td>\n",
              "    </tr>\n",
              "    <tr>\n",
              "      <th>2</th>\n",
              "      <td>i dont know and if i feel petty and ungrateful...</td>\n",
              "      <td>anger</td>\n",
              "    </tr>\n",
              "    <tr>\n",
              "      <th>3</th>\n",
              "      <td>i feel like my life is really shaky right now</td>\n",
              "      <td>fear</td>\n",
              "    </tr>\n",
              "    <tr>\n",
              "      <th>4</th>\n",
              "      <td>i feel like some valuable social etiquette has...</td>\n",
              "      <td>joy</td>\n",
              "    </tr>\n",
              "    <tr>\n",
              "      <th>...</th>\n",
              "      <td>...</td>\n",
              "      <td>...</td>\n",
              "    </tr>\n",
              "    <tr>\n",
              "      <th>223354</th>\n",
              "      <td>i have really enjoyed the break from eastender...</td>\n",
              "      <td>joy</td>\n",
              "    </tr>\n",
              "    <tr>\n",
              "      <th>223355</th>\n",
              "      <td>im feeling utterly exhausted i imagine sitting...</td>\n",
              "      <td>sadness</td>\n",
              "    </tr>\n",
              "    <tr>\n",
              "      <th>223356</th>\n",
              "      <td>i love how girly the shade is and i always fee...</td>\n",
              "      <td>joy</td>\n",
              "    </tr>\n",
              "    <tr>\n",
              "      <th>223357</th>\n",
              "      <td>i can understand how they feel i m thrilled th...</td>\n",
              "      <td>joy</td>\n",
              "    </tr>\n",
              "    <tr>\n",
              "      <th>223358</th>\n",
              "      <td>im feeling pretty crappy</td>\n",
              "      <td>sadness</td>\n",
              "    </tr>\n",
              "  </tbody>\n",
              "</table>\n",
              "<p>223359 rows × 2 columns</p>\n",
              "</div>\n",
              "      <button class=\"colab-df-convert\" onclick=\"convertToInteractive('df-e6426412-5120-4f44-9f42-d1807cbac19c')\"\n",
              "              title=\"Convert this dataframe to an interactive table.\"\n",
              "              style=\"display:none;\">\n",
              "        \n",
              "  <svg xmlns=\"http://www.w3.org/2000/svg\" height=\"24px\"viewBox=\"0 0 24 24\"\n",
              "       width=\"24px\">\n",
              "    <path d=\"M0 0h24v24H0V0z\" fill=\"none\"/>\n",
              "    <path d=\"M18.56 5.44l.94 2.06.94-2.06 2.06-.94-2.06-.94-.94-2.06-.94 2.06-2.06.94zm-11 1L8.5 8.5l.94-2.06 2.06-.94-2.06-.94L8.5 2.5l-.94 2.06-2.06.94zm10 10l.94 2.06.94-2.06 2.06-.94-2.06-.94-.94-2.06-.94 2.06-2.06.94z\"/><path d=\"M17.41 7.96l-1.37-1.37c-.4-.4-.92-.59-1.43-.59-.52 0-1.04.2-1.43.59L10.3 9.45l-7.72 7.72c-.78.78-.78 2.05 0 2.83L4 21.41c.39.39.9.59 1.41.59.51 0 1.02-.2 1.41-.59l7.78-7.78 2.81-2.81c.8-.78.8-2.07 0-2.86zM5.41 20L4 18.59l7.72-7.72 1.47 1.35L5.41 20z\"/>\n",
              "  </svg>\n",
              "      </button>\n",
              "      \n",
              "  <style>\n",
              "    .colab-df-container {\n",
              "      display:flex;\n",
              "      flex-wrap:wrap;\n",
              "      gap: 12px;\n",
              "    }\n",
              "\n",
              "    .colab-df-convert {\n",
              "      background-color: #E8F0FE;\n",
              "      border: none;\n",
              "      border-radius: 50%;\n",
              "      cursor: pointer;\n",
              "      display: none;\n",
              "      fill: #1967D2;\n",
              "      height: 32px;\n",
              "      padding: 0 0 0 0;\n",
              "      width: 32px;\n",
              "    }\n",
              "\n",
              "    .colab-df-convert:hover {\n",
              "      background-color: #E2EBFA;\n",
              "      box-shadow: 0px 1px 2px rgba(60, 64, 67, 0.3), 0px 1px 3px 1px rgba(60, 64, 67, 0.15);\n",
              "      fill: #174EA6;\n",
              "    }\n",
              "\n",
              "    [theme=dark] .colab-df-convert {\n",
              "      background-color: #3B4455;\n",
              "      fill: #D2E3FC;\n",
              "    }\n",
              "\n",
              "    [theme=dark] .colab-df-convert:hover {\n",
              "      background-color: #434B5C;\n",
              "      box-shadow: 0px 1px 3px 1px rgba(0, 0, 0, 0.15);\n",
              "      filter: drop-shadow(0px 1px 2px rgba(0, 0, 0, 0.3));\n",
              "      fill: #FFFFFF;\n",
              "    }\n",
              "  </style>\n",
              "\n",
              "      <script>\n",
              "        const buttonEl =\n",
              "          document.querySelector('#df-e6426412-5120-4f44-9f42-d1807cbac19c button.colab-df-convert');\n",
              "        buttonEl.style.display =\n",
              "          google.colab.kernel.accessAllowed ? 'block' : 'none';\n",
              "\n",
              "        async function convertToInteractive(key) {\n",
              "          const element = document.querySelector('#df-e6426412-5120-4f44-9f42-d1807cbac19c');\n",
              "          const dataTable =\n",
              "            await google.colab.kernel.invokeFunction('convertToInteractive',\n",
              "                                                     [key], {});\n",
              "          if (!dataTable) return;\n",
              "\n",
              "          const docLinkHtml = 'Like what you see? Visit the ' +\n",
              "            '<a target=\"_blank\" href=https://colab.research.google.com/notebooks/data_table.ipynb>data table notebook</a>'\n",
              "            + ' to learn more about interactive tables.';\n",
              "          element.innerHTML = '';\n",
              "          dataTable['output_type'] = 'display_data';\n",
              "          await google.colab.output.renderOutput(dataTable, element);\n",
              "          const docLink = document.createElement('div');\n",
              "          docLink.innerHTML = docLinkHtml;\n",
              "          element.appendChild(docLink);\n",
              "        }\n",
              "      </script>\n",
              "    </div>\n",
              "  </div>\n",
              "  "
            ]
          },
          "metadata": {},
          "execution_count": 4
        }
      ]
    },
    {
      "cell_type": "code",
      "source": [
        "test_df"
      ],
      "metadata": {
        "colab": {
          "base_uri": "https://localhost:8080/",
          "height": 423
        },
        "id": "-fIcWgjQly2u",
        "outputId": "8bc9859b-d54d-4f39-a993-9363d4b19299"
      },
      "execution_count": 5,
      "outputs": [
        {
          "output_type": "execute_result",
          "data": {
            "text/plain": [
              "                                                     text emotions\n",
              "0       i wait to hear her soft laugh and feel her gen...     love\n",
              "1                           i feel antsy and dissatisfied    anger\n",
              "2       i could feel his blood pressure slowly start t...      joy\n",
              "3       i have been overwhelmed with a feeling of disc...  sadness\n",
              "4       i feel like i never learn anything truly usefu...      joy\n",
              "...                                                   ...      ...\n",
              "127630  i was feeling adventurous and poured this into...      joy\n",
              "127631  im feeling pretty good but once at the bus sto...      joy\n",
              "127632  i really feel glad that i didnt avoid him when...      joy\n",
              "127633                     im feeling a bit more peaceful      joy\n",
              "127634  i imagine going out whenever i m feeling horny...     love\n",
              "\n",
              "[127635 rows x 2 columns]"
            ],
            "text/html": [
              "\n",
              "  <div id=\"df-aac76c02-920d-44d6-a4de-609be35a653d\">\n",
              "    <div class=\"colab-df-container\">\n",
              "      <div>\n",
              "<style scoped>\n",
              "    .dataframe tbody tr th:only-of-type {\n",
              "        vertical-align: middle;\n",
              "    }\n",
              "\n",
              "    .dataframe tbody tr th {\n",
              "        vertical-align: top;\n",
              "    }\n",
              "\n",
              "    .dataframe thead th {\n",
              "        text-align: right;\n",
              "    }\n",
              "</style>\n",
              "<table border=\"1\" class=\"dataframe\">\n",
              "  <thead>\n",
              "    <tr style=\"text-align: right;\">\n",
              "      <th></th>\n",
              "      <th>text</th>\n",
              "      <th>emotions</th>\n",
              "    </tr>\n",
              "  </thead>\n",
              "  <tbody>\n",
              "    <tr>\n",
              "      <th>0</th>\n",
              "      <td>i wait to hear her soft laugh and feel her gen...</td>\n",
              "      <td>love</td>\n",
              "    </tr>\n",
              "    <tr>\n",
              "      <th>1</th>\n",
              "      <td>i feel antsy and dissatisfied</td>\n",
              "      <td>anger</td>\n",
              "    </tr>\n",
              "    <tr>\n",
              "      <th>2</th>\n",
              "      <td>i could feel his blood pressure slowly start t...</td>\n",
              "      <td>joy</td>\n",
              "    </tr>\n",
              "    <tr>\n",
              "      <th>3</th>\n",
              "      <td>i have been overwhelmed with a feeling of disc...</td>\n",
              "      <td>sadness</td>\n",
              "    </tr>\n",
              "    <tr>\n",
              "      <th>4</th>\n",
              "      <td>i feel like i never learn anything truly usefu...</td>\n",
              "      <td>joy</td>\n",
              "    </tr>\n",
              "    <tr>\n",
              "      <th>...</th>\n",
              "      <td>...</td>\n",
              "      <td>...</td>\n",
              "    </tr>\n",
              "    <tr>\n",
              "      <th>127630</th>\n",
              "      <td>i was feeling adventurous and poured this into...</td>\n",
              "      <td>joy</td>\n",
              "    </tr>\n",
              "    <tr>\n",
              "      <th>127631</th>\n",
              "      <td>im feeling pretty good but once at the bus sto...</td>\n",
              "      <td>joy</td>\n",
              "    </tr>\n",
              "    <tr>\n",
              "      <th>127632</th>\n",
              "      <td>i really feel glad that i didnt avoid him when...</td>\n",
              "      <td>joy</td>\n",
              "    </tr>\n",
              "    <tr>\n",
              "      <th>127633</th>\n",
              "      <td>im feeling a bit more peaceful</td>\n",
              "      <td>joy</td>\n",
              "    </tr>\n",
              "    <tr>\n",
              "      <th>127634</th>\n",
              "      <td>i imagine going out whenever i m feeling horny...</td>\n",
              "      <td>love</td>\n",
              "    </tr>\n",
              "  </tbody>\n",
              "</table>\n",
              "<p>127635 rows × 2 columns</p>\n",
              "</div>\n",
              "      <button class=\"colab-df-convert\" onclick=\"convertToInteractive('df-aac76c02-920d-44d6-a4de-609be35a653d')\"\n",
              "              title=\"Convert this dataframe to an interactive table.\"\n",
              "              style=\"display:none;\">\n",
              "        \n",
              "  <svg xmlns=\"http://www.w3.org/2000/svg\" height=\"24px\"viewBox=\"0 0 24 24\"\n",
              "       width=\"24px\">\n",
              "    <path d=\"M0 0h24v24H0V0z\" fill=\"none\"/>\n",
              "    <path d=\"M18.56 5.44l.94 2.06.94-2.06 2.06-.94-2.06-.94-.94-2.06-.94 2.06-2.06.94zm-11 1L8.5 8.5l.94-2.06 2.06-.94-2.06-.94L8.5 2.5l-.94 2.06-2.06.94zm10 10l.94 2.06.94-2.06 2.06-.94-2.06-.94-.94-2.06-.94 2.06-2.06.94z\"/><path d=\"M17.41 7.96l-1.37-1.37c-.4-.4-.92-.59-1.43-.59-.52 0-1.04.2-1.43.59L10.3 9.45l-7.72 7.72c-.78.78-.78 2.05 0 2.83L4 21.41c.39.39.9.59 1.41.59.51 0 1.02-.2 1.41-.59l7.78-7.78 2.81-2.81c.8-.78.8-2.07 0-2.86zM5.41 20L4 18.59l7.72-7.72 1.47 1.35L5.41 20z\"/>\n",
              "  </svg>\n",
              "      </button>\n",
              "      \n",
              "  <style>\n",
              "    .colab-df-container {\n",
              "      display:flex;\n",
              "      flex-wrap:wrap;\n",
              "      gap: 12px;\n",
              "    }\n",
              "\n",
              "    .colab-df-convert {\n",
              "      background-color: #E8F0FE;\n",
              "      border: none;\n",
              "      border-radius: 50%;\n",
              "      cursor: pointer;\n",
              "      display: none;\n",
              "      fill: #1967D2;\n",
              "      height: 32px;\n",
              "      padding: 0 0 0 0;\n",
              "      width: 32px;\n",
              "    }\n",
              "\n",
              "    .colab-df-convert:hover {\n",
              "      background-color: #E2EBFA;\n",
              "      box-shadow: 0px 1px 2px rgba(60, 64, 67, 0.3), 0px 1px 3px 1px rgba(60, 64, 67, 0.15);\n",
              "      fill: #174EA6;\n",
              "    }\n",
              "\n",
              "    [theme=dark] .colab-df-convert {\n",
              "      background-color: #3B4455;\n",
              "      fill: #D2E3FC;\n",
              "    }\n",
              "\n",
              "    [theme=dark] .colab-df-convert:hover {\n",
              "      background-color: #434B5C;\n",
              "      box-shadow: 0px 1px 3px 1px rgba(0, 0, 0, 0.15);\n",
              "      filter: drop-shadow(0px 1px 2px rgba(0, 0, 0, 0.3));\n",
              "      fill: #FFFFFF;\n",
              "    }\n",
              "  </style>\n",
              "\n",
              "      <script>\n",
              "        const buttonEl =\n",
              "          document.querySelector('#df-aac76c02-920d-44d6-a4de-609be35a653d button.colab-df-convert');\n",
              "        buttonEl.style.display =\n",
              "          google.colab.kernel.accessAllowed ? 'block' : 'none';\n",
              "\n",
              "        async function convertToInteractive(key) {\n",
              "          const element = document.querySelector('#df-aac76c02-920d-44d6-a4de-609be35a653d');\n",
              "          const dataTable =\n",
              "            await google.colab.kernel.invokeFunction('convertToInteractive',\n",
              "                                                     [key], {});\n",
              "          if (!dataTable) return;\n",
              "\n",
              "          const docLinkHtml = 'Like what you see? Visit the ' +\n",
              "            '<a target=\"_blank\" href=https://colab.research.google.com/notebooks/data_table.ipynb>data table notebook</a>'\n",
              "            + ' to learn more about interactive tables.';\n",
              "          element.innerHTML = '';\n",
              "          dataTable['output_type'] = 'display_data';\n",
              "          await google.colab.output.renderOutput(dataTable, element);\n",
              "          const docLink = document.createElement('div');\n",
              "          docLink.innerHTML = docLinkHtml;\n",
              "          element.appendChild(docLink);\n",
              "        }\n",
              "      </script>\n",
              "    </div>\n",
              "  </div>\n",
              "  "
            ]
          },
          "metadata": {},
          "execution_count": 5
        }
      ]
    },
    {
      "cell_type": "code",
      "source": [
        "val_df"
      ],
      "metadata": {
        "colab": {
          "base_uri": "https://localhost:8080/",
          "height": 423
        },
        "id": "DbdHIPy4l0s_",
        "outputId": "fb0b4427-2d19-497a-d0f6-fac0aa14c022"
      },
      "execution_count": 6,
      "outputs": [
        {
          "output_type": "execute_result",
          "data": {
            "text/plain": [
              "                                                    text emotions\n",
              "0                              i am feeling a bit shaken     fear\n",
              "1      i feel that no matter what i do they look terr...  sadness\n",
              "2      @MRHYPERPCS Thanks, but the Elance course is n...  neutral\n",
              "3      i feel a few times since judges and law clerks...  sadness\n",
              "4      i have been feeling quite bitter and angry at ...    anger\n",
              "...                                                  ...      ...\n",
              "74448  i woke up sad still feeling delicate like yest...     love\n",
              "74449     i feel essentially that it s a supporting cast     love\n",
              "74450         i remember feeling so calm in his presence      joy\n",
              "74451  i choose to major in interior design because i...      joy\n",
              "74452  i feel very pleased with myself for getting up...      joy\n",
              "\n",
              "[74453 rows x 2 columns]"
            ],
            "text/html": [
              "\n",
              "  <div id=\"df-b4f4c7c9-b5d5-4dad-8a0c-afa9f4f9aaea\">\n",
              "    <div class=\"colab-df-container\">\n",
              "      <div>\n",
              "<style scoped>\n",
              "    .dataframe tbody tr th:only-of-type {\n",
              "        vertical-align: middle;\n",
              "    }\n",
              "\n",
              "    .dataframe tbody tr th {\n",
              "        vertical-align: top;\n",
              "    }\n",
              "\n",
              "    .dataframe thead th {\n",
              "        text-align: right;\n",
              "    }\n",
              "</style>\n",
              "<table border=\"1\" class=\"dataframe\">\n",
              "  <thead>\n",
              "    <tr style=\"text-align: right;\">\n",
              "      <th></th>\n",
              "      <th>text</th>\n",
              "      <th>emotions</th>\n",
              "    </tr>\n",
              "  </thead>\n",
              "  <tbody>\n",
              "    <tr>\n",
              "      <th>0</th>\n",
              "      <td>i am feeling a bit shaken</td>\n",
              "      <td>fear</td>\n",
              "    </tr>\n",
              "    <tr>\n",
              "      <th>1</th>\n",
              "      <td>i feel that no matter what i do they look terr...</td>\n",
              "      <td>sadness</td>\n",
              "    </tr>\n",
              "    <tr>\n",
              "      <th>2</th>\n",
              "      <td>@MRHYPERPCS Thanks, but the Elance course is n...</td>\n",
              "      <td>neutral</td>\n",
              "    </tr>\n",
              "    <tr>\n",
              "      <th>3</th>\n",
              "      <td>i feel a few times since judges and law clerks...</td>\n",
              "      <td>sadness</td>\n",
              "    </tr>\n",
              "    <tr>\n",
              "      <th>4</th>\n",
              "      <td>i have been feeling quite bitter and angry at ...</td>\n",
              "      <td>anger</td>\n",
              "    </tr>\n",
              "    <tr>\n",
              "      <th>...</th>\n",
              "      <td>...</td>\n",
              "      <td>...</td>\n",
              "    </tr>\n",
              "    <tr>\n",
              "      <th>74448</th>\n",
              "      <td>i woke up sad still feeling delicate like yest...</td>\n",
              "      <td>love</td>\n",
              "    </tr>\n",
              "    <tr>\n",
              "      <th>74449</th>\n",
              "      <td>i feel essentially that it s a supporting cast</td>\n",
              "      <td>love</td>\n",
              "    </tr>\n",
              "    <tr>\n",
              "      <th>74450</th>\n",
              "      <td>i remember feeling so calm in his presence</td>\n",
              "      <td>joy</td>\n",
              "    </tr>\n",
              "    <tr>\n",
              "      <th>74451</th>\n",
              "      <td>i choose to major in interior design because i...</td>\n",
              "      <td>joy</td>\n",
              "    </tr>\n",
              "    <tr>\n",
              "      <th>74452</th>\n",
              "      <td>i feel very pleased with myself for getting up...</td>\n",
              "      <td>joy</td>\n",
              "    </tr>\n",
              "  </tbody>\n",
              "</table>\n",
              "<p>74453 rows × 2 columns</p>\n",
              "</div>\n",
              "      <button class=\"colab-df-convert\" onclick=\"convertToInteractive('df-b4f4c7c9-b5d5-4dad-8a0c-afa9f4f9aaea')\"\n",
              "              title=\"Convert this dataframe to an interactive table.\"\n",
              "              style=\"display:none;\">\n",
              "        \n",
              "  <svg xmlns=\"http://www.w3.org/2000/svg\" height=\"24px\"viewBox=\"0 0 24 24\"\n",
              "       width=\"24px\">\n",
              "    <path d=\"M0 0h24v24H0V0z\" fill=\"none\"/>\n",
              "    <path d=\"M18.56 5.44l.94 2.06.94-2.06 2.06-.94-2.06-.94-.94-2.06-.94 2.06-2.06.94zm-11 1L8.5 8.5l.94-2.06 2.06-.94-2.06-.94L8.5 2.5l-.94 2.06-2.06.94zm10 10l.94 2.06.94-2.06 2.06-.94-2.06-.94-.94-2.06-.94 2.06-2.06.94z\"/><path d=\"M17.41 7.96l-1.37-1.37c-.4-.4-.92-.59-1.43-.59-.52 0-1.04.2-1.43.59L10.3 9.45l-7.72 7.72c-.78.78-.78 2.05 0 2.83L4 21.41c.39.39.9.59 1.41.59.51 0 1.02-.2 1.41-.59l7.78-7.78 2.81-2.81c.8-.78.8-2.07 0-2.86zM5.41 20L4 18.59l7.72-7.72 1.47 1.35L5.41 20z\"/>\n",
              "  </svg>\n",
              "      </button>\n",
              "      \n",
              "  <style>\n",
              "    .colab-df-container {\n",
              "      display:flex;\n",
              "      flex-wrap:wrap;\n",
              "      gap: 12px;\n",
              "    }\n",
              "\n",
              "    .colab-df-convert {\n",
              "      background-color: #E8F0FE;\n",
              "      border: none;\n",
              "      border-radius: 50%;\n",
              "      cursor: pointer;\n",
              "      display: none;\n",
              "      fill: #1967D2;\n",
              "      height: 32px;\n",
              "      padding: 0 0 0 0;\n",
              "      width: 32px;\n",
              "    }\n",
              "\n",
              "    .colab-df-convert:hover {\n",
              "      background-color: #E2EBFA;\n",
              "      box-shadow: 0px 1px 2px rgba(60, 64, 67, 0.3), 0px 1px 3px 1px rgba(60, 64, 67, 0.15);\n",
              "      fill: #174EA6;\n",
              "    }\n",
              "\n",
              "    [theme=dark] .colab-df-convert {\n",
              "      background-color: #3B4455;\n",
              "      fill: #D2E3FC;\n",
              "    }\n",
              "\n",
              "    [theme=dark] .colab-df-convert:hover {\n",
              "      background-color: #434B5C;\n",
              "      box-shadow: 0px 1px 3px 1px rgba(0, 0, 0, 0.15);\n",
              "      filter: drop-shadow(0px 1px 2px rgba(0, 0, 0, 0.3));\n",
              "      fill: #FFFFFF;\n",
              "    }\n",
              "  </style>\n",
              "\n",
              "      <script>\n",
              "        const buttonEl =\n",
              "          document.querySelector('#df-b4f4c7c9-b5d5-4dad-8a0c-afa9f4f9aaea button.colab-df-convert');\n",
              "        buttonEl.style.display =\n",
              "          google.colab.kernel.accessAllowed ? 'block' : 'none';\n",
              "\n",
              "        async function convertToInteractive(key) {\n",
              "          const element = document.querySelector('#df-b4f4c7c9-b5d5-4dad-8a0c-afa9f4f9aaea');\n",
              "          const dataTable =\n",
              "            await google.colab.kernel.invokeFunction('convertToInteractive',\n",
              "                                                     [key], {});\n",
              "          if (!dataTable) return;\n",
              "\n",
              "          const docLinkHtml = 'Like what you see? Visit the ' +\n",
              "            '<a target=\"_blank\" href=https://colab.research.google.com/notebooks/data_table.ipynb>data table notebook</a>'\n",
              "            + ' to learn more about interactive tables.';\n",
              "          element.innerHTML = '';\n",
              "          dataTable['output_type'] = 'display_data';\n",
              "          await google.colab.output.renderOutput(dataTable, element);\n",
              "          const docLink = document.createElement('div');\n",
              "          docLink.innerHTML = docLinkHtml;\n",
              "          element.appendChild(docLink);\n",
              "        }\n",
              "      </script>\n",
              "    </div>\n",
              "  </div>\n",
              "  "
            ]
          },
          "metadata": {},
          "execution_count": 6
        }
      ]
    },
    {
      "cell_type": "markdown",
      "metadata": {
        "id": "6IFXAvHAcWhN"
      },
      "source": [
        "***\n",
        "## 2 Tokenizer"
      ]
    },
    {
      "cell_type": "markdown",
      "source": [
        "### Find the top word count (frequency > 10)"
      ],
      "metadata": {
        "id": "s4tMqwk8mRsF"
      }
    },
    {
      "cell_type": "code",
      "source": [
        "# Split the text column into a list of words\n",
        "words_df = train_df['text'].str.split().to_frame('words')\n",
        "\n",
        "# Explode the list of words into separate rows\n",
        "words_df = words_df.explode('words')\n",
        "\n",
        "# Group by the words and count their occurrences\n",
        "words_df = words_df.groupby('words').size().reset_index(name='count')\n",
        "words_df"
      ],
      "metadata": {
        "colab": {
          "base_uri": "https://localhost:8080/",
          "height": 423
        },
        "id": "WboHk47gn6Mm",
        "outputId": "0ba1e3ef-0167-4ede-91fa-1f2e37e263ef"
      },
      "execution_count": 7,
      "outputs": [
        {
          "output_type": "execute_result",
          "data": {
            "text/plain": [
              "                          words  count\n",
              "0                             !     35\n",
              "1                            !!      5\n",
              "2                           !!!      2\n",
              "3                          !!!!      1\n",
              "4                          !!my      1\n",
              "...                         ...    ...\n",
              "66419                      ï¿½6      1\n",
              "66420                  ï¿½Iï¿½M      1\n",
              "66421  ï¿½o_0ï¿½*giggles*ï¿½who      1\n",
              "66422                ï¿½tearï¿½      1\n",
              "66423                    ï¿½ï¿½      2\n",
              "\n",
              "[66424 rows x 2 columns]"
            ],
            "text/html": [
              "\n",
              "  <div id=\"df-18733813-0dd8-4be6-aa6c-d449d10abc25\">\n",
              "    <div class=\"colab-df-container\">\n",
              "      <div>\n",
              "<style scoped>\n",
              "    .dataframe tbody tr th:only-of-type {\n",
              "        vertical-align: middle;\n",
              "    }\n",
              "\n",
              "    .dataframe tbody tr th {\n",
              "        vertical-align: top;\n",
              "    }\n",
              "\n",
              "    .dataframe thead th {\n",
              "        text-align: right;\n",
              "    }\n",
              "</style>\n",
              "<table border=\"1\" class=\"dataframe\">\n",
              "  <thead>\n",
              "    <tr style=\"text-align: right;\">\n",
              "      <th></th>\n",
              "      <th>words</th>\n",
              "      <th>count</th>\n",
              "    </tr>\n",
              "  </thead>\n",
              "  <tbody>\n",
              "    <tr>\n",
              "      <th>0</th>\n",
              "      <td>!</td>\n",
              "      <td>35</td>\n",
              "    </tr>\n",
              "    <tr>\n",
              "      <th>1</th>\n",
              "      <td>!!</td>\n",
              "      <td>5</td>\n",
              "    </tr>\n",
              "    <tr>\n",
              "      <th>2</th>\n",
              "      <td>!!!</td>\n",
              "      <td>2</td>\n",
              "    </tr>\n",
              "    <tr>\n",
              "      <th>3</th>\n",
              "      <td>!!!!</td>\n",
              "      <td>1</td>\n",
              "    </tr>\n",
              "    <tr>\n",
              "      <th>4</th>\n",
              "      <td>!!my</td>\n",
              "      <td>1</td>\n",
              "    </tr>\n",
              "    <tr>\n",
              "      <th>...</th>\n",
              "      <td>...</td>\n",
              "      <td>...</td>\n",
              "    </tr>\n",
              "    <tr>\n",
              "      <th>66419</th>\n",
              "      <td>ï¿½6</td>\n",
              "      <td>1</td>\n",
              "    </tr>\n",
              "    <tr>\n",
              "      <th>66420</th>\n",
              "      <td>ï¿½Iï¿½M</td>\n",
              "      <td>1</td>\n",
              "    </tr>\n",
              "    <tr>\n",
              "      <th>66421</th>\n",
              "      <td>ï¿½o_0ï¿½*giggles*ï¿½who</td>\n",
              "      <td>1</td>\n",
              "    </tr>\n",
              "    <tr>\n",
              "      <th>66422</th>\n",
              "      <td>ï¿½tearï¿½</td>\n",
              "      <td>1</td>\n",
              "    </tr>\n",
              "    <tr>\n",
              "      <th>66423</th>\n",
              "      <td>ï¿½ï¿½</td>\n",
              "      <td>2</td>\n",
              "    </tr>\n",
              "  </tbody>\n",
              "</table>\n",
              "<p>66424 rows × 2 columns</p>\n",
              "</div>\n",
              "      <button class=\"colab-df-convert\" onclick=\"convertToInteractive('df-18733813-0dd8-4be6-aa6c-d449d10abc25')\"\n",
              "              title=\"Convert this dataframe to an interactive table.\"\n",
              "              style=\"display:none;\">\n",
              "        \n",
              "  <svg xmlns=\"http://www.w3.org/2000/svg\" height=\"24px\"viewBox=\"0 0 24 24\"\n",
              "       width=\"24px\">\n",
              "    <path d=\"M0 0h24v24H0V0z\" fill=\"none\"/>\n",
              "    <path d=\"M18.56 5.44l.94 2.06.94-2.06 2.06-.94-2.06-.94-.94-2.06-.94 2.06-2.06.94zm-11 1L8.5 8.5l.94-2.06 2.06-.94-2.06-.94L8.5 2.5l-.94 2.06-2.06.94zm10 10l.94 2.06.94-2.06 2.06-.94-2.06-.94-.94-2.06-.94 2.06-2.06.94z\"/><path d=\"M17.41 7.96l-1.37-1.37c-.4-.4-.92-.59-1.43-.59-.52 0-1.04.2-1.43.59L10.3 9.45l-7.72 7.72c-.78.78-.78 2.05 0 2.83L4 21.41c.39.39.9.59 1.41.59.51 0 1.02-.2 1.41-.59l7.78-7.78 2.81-2.81c.8-.78.8-2.07 0-2.86zM5.41 20L4 18.59l7.72-7.72 1.47 1.35L5.41 20z\"/>\n",
              "  </svg>\n",
              "      </button>\n",
              "      \n",
              "  <style>\n",
              "    .colab-df-container {\n",
              "      display:flex;\n",
              "      flex-wrap:wrap;\n",
              "      gap: 12px;\n",
              "    }\n",
              "\n",
              "    .colab-df-convert {\n",
              "      background-color: #E8F0FE;\n",
              "      border: none;\n",
              "      border-radius: 50%;\n",
              "      cursor: pointer;\n",
              "      display: none;\n",
              "      fill: #1967D2;\n",
              "      height: 32px;\n",
              "      padding: 0 0 0 0;\n",
              "      width: 32px;\n",
              "    }\n",
              "\n",
              "    .colab-df-convert:hover {\n",
              "      background-color: #E2EBFA;\n",
              "      box-shadow: 0px 1px 2px rgba(60, 64, 67, 0.3), 0px 1px 3px 1px rgba(60, 64, 67, 0.15);\n",
              "      fill: #174EA6;\n",
              "    }\n",
              "\n",
              "    [theme=dark] .colab-df-convert {\n",
              "      background-color: #3B4455;\n",
              "      fill: #D2E3FC;\n",
              "    }\n",
              "\n",
              "    [theme=dark] .colab-df-convert:hover {\n",
              "      background-color: #434B5C;\n",
              "      box-shadow: 0px 1px 3px 1px rgba(0, 0, 0, 0.15);\n",
              "      filter: drop-shadow(0px 1px 2px rgba(0, 0, 0, 0.3));\n",
              "      fill: #FFFFFF;\n",
              "    }\n",
              "  </style>\n",
              "\n",
              "      <script>\n",
              "        const buttonEl =\n",
              "          document.querySelector('#df-18733813-0dd8-4be6-aa6c-d449d10abc25 button.colab-df-convert');\n",
              "        buttonEl.style.display =\n",
              "          google.colab.kernel.accessAllowed ? 'block' : 'none';\n",
              "\n",
              "        async function convertToInteractive(key) {\n",
              "          const element = document.querySelector('#df-18733813-0dd8-4be6-aa6c-d449d10abc25');\n",
              "          const dataTable =\n",
              "            await google.colab.kernel.invokeFunction('convertToInteractive',\n",
              "                                                     [key], {});\n",
              "          if (!dataTable) return;\n",
              "\n",
              "          const docLinkHtml = 'Like what you see? Visit the ' +\n",
              "            '<a target=\"_blank\" href=https://colab.research.google.com/notebooks/data_table.ipynb>data table notebook</a>'\n",
              "            + ' to learn more about interactive tables.';\n",
              "          element.innerHTML = '';\n",
              "          dataTable['output_type'] = 'display_data';\n",
              "          await google.colab.output.renderOutput(dataTable, element);\n",
              "          const docLink = document.createElement('div');\n",
              "          docLink.innerHTML = docLinkHtml;\n",
              "          element.appendChild(docLink);\n",
              "        }\n",
              "      </script>\n",
              "    </div>\n",
              "  </div>\n",
              "  "
            ]
          },
          "metadata": {},
          "execution_count": 7
        }
      ]
    },
    {
      "cell_type": "code",
      "source": [
        "# find the words with 'count' > 10\n",
        "condition = words_df['count'] > 10\n",
        "\n",
        "# sort the words based on count\n",
        "new_words_df = words_df[condition].sort_values('count', ascending=False)\n",
        "\n",
        "new_words_df"
      ],
      "metadata": {
        "colab": {
          "base_uri": "https://localhost:8080/",
          "height": 423
        },
        "id": "rjvGdb_erVyw",
        "outputId": "cc582f84-18a9-440c-8f69-bd868178f88b"
      },
      "execution_count": 8,
      "outputs": [
        {
          "output_type": "execute_result",
          "data": {
            "text/plain": [
              "            words   count\n",
              "31705           i  355407\n",
              "25037        feel  151992\n",
              "8449          and  132152\n",
              "59904          to  123853\n",
              "59061         the  115099\n",
              "...           ...     ...\n",
              "12295      bodily      11\n",
              "56913     strides      11\n",
              "63760        wage      11\n",
              "60547  translates      11\n",
              "26137    footwear      11\n",
              "\n",
              "[10179 rows x 2 columns]"
            ],
            "text/html": [
              "\n",
              "  <div id=\"df-edfb2b9b-2ba0-43fb-a41a-dd742bf4c8be\">\n",
              "    <div class=\"colab-df-container\">\n",
              "      <div>\n",
              "<style scoped>\n",
              "    .dataframe tbody tr th:only-of-type {\n",
              "        vertical-align: middle;\n",
              "    }\n",
              "\n",
              "    .dataframe tbody tr th {\n",
              "        vertical-align: top;\n",
              "    }\n",
              "\n",
              "    .dataframe thead th {\n",
              "        text-align: right;\n",
              "    }\n",
              "</style>\n",
              "<table border=\"1\" class=\"dataframe\">\n",
              "  <thead>\n",
              "    <tr style=\"text-align: right;\">\n",
              "      <th></th>\n",
              "      <th>words</th>\n",
              "      <th>count</th>\n",
              "    </tr>\n",
              "  </thead>\n",
              "  <tbody>\n",
              "    <tr>\n",
              "      <th>31705</th>\n",
              "      <td>i</td>\n",
              "      <td>355407</td>\n",
              "    </tr>\n",
              "    <tr>\n",
              "      <th>25037</th>\n",
              "      <td>feel</td>\n",
              "      <td>151992</td>\n",
              "    </tr>\n",
              "    <tr>\n",
              "      <th>8449</th>\n",
              "      <td>and</td>\n",
              "      <td>132152</td>\n",
              "    </tr>\n",
              "    <tr>\n",
              "      <th>59904</th>\n",
              "      <td>to</td>\n",
              "      <td>123853</td>\n",
              "    </tr>\n",
              "    <tr>\n",
              "      <th>59061</th>\n",
              "      <td>the</td>\n",
              "      <td>115099</td>\n",
              "    </tr>\n",
              "    <tr>\n",
              "      <th>...</th>\n",
              "      <td>...</td>\n",
              "      <td>...</td>\n",
              "    </tr>\n",
              "    <tr>\n",
              "      <th>12295</th>\n",
              "      <td>bodily</td>\n",
              "      <td>11</td>\n",
              "    </tr>\n",
              "    <tr>\n",
              "      <th>56913</th>\n",
              "      <td>strides</td>\n",
              "      <td>11</td>\n",
              "    </tr>\n",
              "    <tr>\n",
              "      <th>63760</th>\n",
              "      <td>wage</td>\n",
              "      <td>11</td>\n",
              "    </tr>\n",
              "    <tr>\n",
              "      <th>60547</th>\n",
              "      <td>translates</td>\n",
              "      <td>11</td>\n",
              "    </tr>\n",
              "    <tr>\n",
              "      <th>26137</th>\n",
              "      <td>footwear</td>\n",
              "      <td>11</td>\n",
              "    </tr>\n",
              "  </tbody>\n",
              "</table>\n",
              "<p>10179 rows × 2 columns</p>\n",
              "</div>\n",
              "      <button class=\"colab-df-convert\" onclick=\"convertToInteractive('df-edfb2b9b-2ba0-43fb-a41a-dd742bf4c8be')\"\n",
              "              title=\"Convert this dataframe to an interactive table.\"\n",
              "              style=\"display:none;\">\n",
              "        \n",
              "  <svg xmlns=\"http://www.w3.org/2000/svg\" height=\"24px\"viewBox=\"0 0 24 24\"\n",
              "       width=\"24px\">\n",
              "    <path d=\"M0 0h24v24H0V0z\" fill=\"none\"/>\n",
              "    <path d=\"M18.56 5.44l.94 2.06.94-2.06 2.06-.94-2.06-.94-.94-2.06-.94 2.06-2.06.94zm-11 1L8.5 8.5l.94-2.06 2.06-.94-2.06-.94L8.5 2.5l-.94 2.06-2.06.94zm10 10l.94 2.06.94-2.06 2.06-.94-2.06-.94-.94-2.06-.94 2.06-2.06.94z\"/><path d=\"M17.41 7.96l-1.37-1.37c-.4-.4-.92-.59-1.43-.59-.52 0-1.04.2-1.43.59L10.3 9.45l-7.72 7.72c-.78.78-.78 2.05 0 2.83L4 21.41c.39.39.9.59 1.41.59.51 0 1.02-.2 1.41-.59l7.78-7.78 2.81-2.81c.8-.78.8-2.07 0-2.86zM5.41 20L4 18.59l7.72-7.72 1.47 1.35L5.41 20z\"/>\n",
              "  </svg>\n",
              "      </button>\n",
              "      \n",
              "  <style>\n",
              "    .colab-df-container {\n",
              "      display:flex;\n",
              "      flex-wrap:wrap;\n",
              "      gap: 12px;\n",
              "    }\n",
              "\n",
              "    .colab-df-convert {\n",
              "      background-color: #E8F0FE;\n",
              "      border: none;\n",
              "      border-radius: 50%;\n",
              "      cursor: pointer;\n",
              "      display: none;\n",
              "      fill: #1967D2;\n",
              "      height: 32px;\n",
              "      padding: 0 0 0 0;\n",
              "      width: 32px;\n",
              "    }\n",
              "\n",
              "    .colab-df-convert:hover {\n",
              "      background-color: #E2EBFA;\n",
              "      box-shadow: 0px 1px 2px rgba(60, 64, 67, 0.3), 0px 1px 3px 1px rgba(60, 64, 67, 0.15);\n",
              "      fill: #174EA6;\n",
              "    }\n",
              "\n",
              "    [theme=dark] .colab-df-convert {\n",
              "      background-color: #3B4455;\n",
              "      fill: #D2E3FC;\n",
              "    }\n",
              "\n",
              "    [theme=dark] .colab-df-convert:hover {\n",
              "      background-color: #434B5C;\n",
              "      box-shadow: 0px 1px 3px 1px rgba(0, 0, 0, 0.15);\n",
              "      filter: drop-shadow(0px 1px 2px rgba(0, 0, 0, 0.3));\n",
              "      fill: #FFFFFF;\n",
              "    }\n",
              "  </style>\n",
              "\n",
              "      <script>\n",
              "        const buttonEl =\n",
              "          document.querySelector('#df-edfb2b9b-2ba0-43fb-a41a-dd742bf4c8be button.colab-df-convert');\n",
              "        buttonEl.style.display =\n",
              "          google.colab.kernel.accessAllowed ? 'block' : 'none';\n",
              "\n",
              "        async function convertToInteractive(key) {\n",
              "          const element = document.querySelector('#df-edfb2b9b-2ba0-43fb-a41a-dd742bf4c8be');\n",
              "          const dataTable =\n",
              "            await google.colab.kernel.invokeFunction('convertToInteractive',\n",
              "                                                     [key], {});\n",
              "          if (!dataTable) return;\n",
              "\n",
              "          const docLinkHtml = 'Like what you see? Visit the ' +\n",
              "            '<a target=\"_blank\" href=https://colab.research.google.com/notebooks/data_table.ipynb>data table notebook</a>'\n",
              "            + ' to learn more about interactive tables.';\n",
              "          element.innerHTML = '';\n",
              "          dataTable['output_type'] = 'display_data';\n",
              "          await google.colab.output.renderOutput(dataTable, element);\n",
              "          const docLink = document.createElement('div');\n",
              "          docLink.innerHTML = docLinkHtml;\n",
              "          element.appendChild(docLink);\n",
              "        }\n",
              "      </script>\n",
              "    </div>\n",
              "  </div>\n",
              "  "
            ]
          },
          "metadata": {},
          "execution_count": 8
        }
      ]
    },
    {
      "cell_type": "code",
      "source": [
        "# how many words are > 10?\n",
        "top_word_count = len(new_words_df) # 10,179 words are greater than 10 count"
      ],
      "metadata": {
        "id": "RJehRAE2zWhl"
      },
      "execution_count": 9,
      "outputs": []
    },
    {
      "cell_type": "markdown",
      "source": [
        "### Let's tokenize the train tweets!"
      ],
      "metadata": {
        "id": "GSm2HlDyzZ8_"
      }
    },
    {
      "cell_type": "code",
      "source": [
        "from tensorflow.keras.preprocessing.text import Tokenizer"
      ],
      "metadata": {
        "id": "gCxK46QPyoe1"
      },
      "execution_count": 10,
      "outputs": []
    },
    {
      "cell_type": "code",
      "source": [
        "tokenizer = Tokenizer(num_words=top_word_count, oov_token='<UNK>')\n",
        "tokenizer.fit_on_texts(train_df['text']) # pass in tweets from training set"
      ],
      "metadata": {
        "id": "5bs47LbLwBl4"
      },
      "execution_count": 11,
      "outputs": []
    },
    {
      "cell_type": "code",
      "source": [
        "# this is what the tweet looks like as words\n",
        "train_df['text'][0]"
      ],
      "metadata": {
        "colab": {
          "base_uri": "https://localhost:8080/",
          "height": 36
        },
        "id": "DPD0Tjjuy0Ko",
        "outputId": "174543df-de7f-42ee-b802-a53dfd08452b"
      },
      "execution_count": 12,
      "outputs": [
        {
          "output_type": "execute_result",
          "data": {
            "text/plain": [
              "'i know what it s like to feel empty and to be happy about the feeling'"
            ],
            "application/vnd.google.colaboratory.intrinsic+json": {
              "type": "string"
            }
          },
          "metadata": {},
          "execution_count": 12
        }
      ]
    },
    {
      "cell_type": "code",
      "source": [
        "# this is what the tokenized version of the tweet looks like\n",
        "tokenizer.texts_to_sequences([train_df['text'][0]])"
      ],
      "metadata": {
        "colab": {
          "base_uri": "https://localhost:8080/"
        },
        "id": "yHPzHkTcye8y",
        "outputId": "4661f57c-4b15-4384-a137-bce4bc0ff847"
      },
      "execution_count": 13,
      "outputs": [
        {
          "output_type": "execute_result",
          "data": {
            "text/plain": [
              "[[2, 44, 50, 13, 85, 14, 5, 3, 472, 4, 5, 27, 149, 28, 6, 8]]"
            ]
          },
          "metadata": {},
          "execution_count": 13
        }
      ]
    },
    {
      "cell_type": "code",
      "source": [
        "import matplotlib.pyplot as plt\n",
        "\n",
        "# check to see what lenghts of the tweets in the dataset\n",
        "lengths = [len(t.split(' ')) for t in train_df['text']]\n",
        "plt.hist(lengths, bins=len(set(lengths)))"
      ],
      "metadata": {
        "id": "NtdXLYGFjcPO",
        "colab": {
          "base_uri": "https://localhost:8080/",
          "height": 974
        },
        "outputId": "b2d27b94-e7c7-4ffd-bc04-d18b547359db"
      },
      "execution_count": 14,
      "outputs": [
        {
          "output_type": "execute_result",
          "data": {
            "text/plain": [
              "(array([1.0910e+03, 1.1347e+04, 1.6750e+04, 1.7445e+04, 1.7888e+04,\n",
              "        2.6940e+04, 1.7135e+04, 1.5995e+04, 1.4593e+04, 1.3154e+04,\n",
              "        1.6867e+04, 9.4430e+03, 7.7700e+03, 6.6560e+03, 5.5320e+03,\n",
              "        4.6270e+03, 5.6070e+03, 2.9100e+03, 2.4000e+03, 1.9730e+03,\n",
              "        1.6600e+03, 1.9760e+03, 1.0500e+03, 7.9200e+02, 6.3600e+02,\n",
              "        4.7700e+02, 2.9000e+02, 2.2900e+02, 7.3000e+01, 2.3000e+01,\n",
              "        1.2000e+01, 6.0000e+00, 3.0000e+00, 2.0000e+00, 1.0000e+00,\n",
              "        2.0000e+00, 1.0000e+00, 0.0000e+00, 0.0000e+00, 0.0000e+00,\n",
              "        0.0000e+00, 0.0000e+00, 1.0000e+00, 0.0000e+00, 0.0000e+00,\n",
              "        1.0000e+00, 0.0000e+00, 0.0000e+00, 0.0000e+00, 0.0000e+00,\n",
              "        0.0000e+00, 0.0000e+00, 0.0000e+00, 0.0000e+00, 0.0000e+00,\n",
              "        0.0000e+00, 0.0000e+00, 0.0000e+00, 0.0000e+00, 0.0000e+00,\n",
              "        0.0000e+00, 0.0000e+00, 0.0000e+00, 0.0000e+00, 0.0000e+00,\n",
              "        0.0000e+00, 0.0000e+00, 0.0000e+00, 0.0000e+00, 0.0000e+00,\n",
              "        0.0000e+00, 0.0000e+00, 0.0000e+00, 0.0000e+00, 0.0000e+00,\n",
              "        0.0000e+00, 0.0000e+00, 0.0000e+00, 0.0000e+00, 0.0000e+00,\n",
              "        1.0000e+00]),\n",
              " array([  1.        ,   3.18518519,   5.37037037,   7.55555556,\n",
              "          9.74074074,  11.92592593,  14.11111111,  16.2962963 ,\n",
              "         18.48148148,  20.66666667,  22.85185185,  25.03703704,\n",
              "         27.22222222,  29.40740741,  31.59259259,  33.77777778,\n",
              "         35.96296296,  38.14814815,  40.33333333,  42.51851852,\n",
              "         44.7037037 ,  46.88888889,  49.07407407,  51.25925926,\n",
              "         53.44444444,  55.62962963,  57.81481481,  60.        ,\n",
              "         62.18518519,  64.37037037,  66.55555556,  68.74074074,\n",
              "         70.92592593,  73.11111111,  75.2962963 ,  77.48148148,\n",
              "         79.66666667,  81.85185185,  84.03703704,  86.22222222,\n",
              "         88.40740741,  90.59259259,  92.77777778,  94.96296296,\n",
              "         97.14814815,  99.33333333, 101.51851852, 103.7037037 ,\n",
              "        105.88888889, 108.07407407, 110.25925926, 112.44444444,\n",
              "        114.62962963, 116.81481481, 119.        , 121.18518519,\n",
              "        123.37037037, 125.55555556, 127.74074074, 129.92592593,\n",
              "        132.11111111, 134.2962963 , 136.48148148, 138.66666667,\n",
              "        140.85185185, 143.03703704, 145.22222222, 147.40740741,\n",
              "        149.59259259, 151.77777778, 153.96296296, 156.14814815,\n",
              "        158.33333333, 160.51851852, 162.7037037 , 164.88888889,\n",
              "        167.07407407, 169.25925926, 171.44444444, 173.62962963,\n",
              "        175.81481481, 178.        ]),\n",
              " <BarContainer object of 81 artists>)"
            ]
          },
          "metadata": {},
          "execution_count": 14
        },
        {
          "output_type": "display_data",
          "data": {
            "text/plain": [
              "<Figure size 432x288 with 1 Axes>"
            ],
            "image/png": "[encoded data removed]"
          },
          "metadata": {
            "needs_background": "light"
          }
        }
      ]
    },
    {
      "cell_type": "code",
      "source": [
        "import statistics\n",
        "\n",
        "# Apply the lambda function to the 'content' column and list called word_count_list'\n",
        "word_count_list = list(train_df['text'].apply(lambda x: len(x.split(' '))))\n",
        "\n",
        "# display the maximum and minimum lengths\n",
        "print('Maximum word length:', max(word_count_list))\n",
        "print('Minimum word length:', min(word_count_list))\n",
        "print('Mean word length:', statistics.mean(word_count_list))\n",
        "print('Median word length:', statistics.median(word_count_list))\n",
        "print('75th percentile word length:', np.percentile(word_count_list, 75))\n",
        "print('85th percentile word length:', np.percentile(word_count_list, 85))\n",
        "print('95th percentile word length:', np.percentile(word_count_list, 95))"
      ],
      "metadata": {
        "colab": {
          "base_uri": "https://localhost:8080/"
        },
        "id": "Ht7mWyXS18Sd",
        "outputId": "039541c0-e97e-432b-e63d-dd3b51ff592b"
      },
      "execution_count": 15,
      "outputs": [
        {
          "output_type": "stream",
          "name": "stdout",
          "text": [
            "Maximum word length: 178\n",
            "Minimum word length: 1\n",
            "Mean word length: 19.04250108569612\n",
            "Median word length: 17\n",
            "75th percentile word length: 25.0\n",
            "85th percentile word length: 30.0\n",
            "95th percentile word length: 41.0\n"
          ]
        }
      ]
    },
    {
      "cell_type": "markdown",
      "source": [
        "The max number of words is 178. We ultimately decided that we are going to keep all the words in the tweet. BERT can handle more than 200 so setting max_len = 200"
      ],
      "metadata": {
        "id": "G9ZVTKh01wGa"
      }
    },
    {
      "cell_type": "markdown",
      "source": [
        "## 3 Padding and truncating the sequences to make sure that the shape is the same for each string."
      ],
      "metadata": {
        "id": "59O4aXaA0ljh"
      }
    },
    {
      "cell_type": "code",
      "source": [
        "max_len = 200 # set the largest tweet size, >200 words -- truncate, <200 words -- pad\n",
        "\n",
        "from tensorflow.keras.preprocessing.sequence import pad_sequences"
      ],
      "metadata": {
        "id": "Y715X4Xg0zSg"
      },
      "execution_count": 16,
      "outputs": []
    },
    {
      "cell_type": "code",
      "execution_count": 17,
      "metadata": {
        "id": "iEuNYWMScWhY"
      },
      "outputs": [],
      "source": [
        "def get_sequences(tokenizer, tweets):\n",
        "  sequences = tokenizer.texts_to_sequences(tweets)\n",
        "  padded = pad_sequences(sequences, truncating='post', padding='post', maxlen=max_len) # truncating happens at the end of the sequence (post)\n",
        "  return padded # all examples will be the returned with same input size"
      ]
    },
    {
      "cell_type": "code",
      "source": [
        "padded_train_seq = get_sequences(tokenizer, train_df['text'])\n",
        "padded_train_seq[0]"
      ],
      "metadata": {
        "colab": {
          "base_uri": "https://localhost:8080/"
        },
        "id": "V2CMHoto0plB",
        "outputId": "7c6b077c-8771-4471-cf56-b4a39217309d"
      },
      "execution_count": 18,
      "outputs": [
        {
          "output_type": "execute_result",
          "data": {
            "text/plain": [
              "array([  2,  44,  50,  13,  85,  14,   5,   3, 472,   4,   5,  27, 149,\n",
              "        28,   6,   8,   0,   0,   0,   0,   0,   0,   0,   0,   0,   0,\n",
              "         0,   0,   0,   0,   0,   0,   0,   0,   0,   0,   0,   0,   0,\n",
              "         0,   0,   0,   0,   0,   0,   0,   0,   0,   0,   0,   0,   0,\n",
              "         0,   0,   0,   0,   0,   0,   0,   0,   0,   0,   0,   0,   0,\n",
              "         0,   0,   0,   0,   0,   0,   0,   0,   0,   0,   0,   0,   0,\n",
              "         0,   0,   0,   0,   0,   0,   0,   0,   0,   0,   0,   0,   0,\n",
              "         0,   0,   0,   0,   0,   0,   0,   0,   0,   0,   0,   0,   0,\n",
              "         0,   0,   0,   0,   0,   0,   0,   0,   0,   0,   0,   0,   0,\n",
              "         0,   0,   0,   0,   0,   0,   0,   0,   0,   0,   0,   0,   0,\n",
              "         0,   0,   0,   0,   0,   0,   0,   0,   0,   0,   0,   0,   0,\n",
              "         0,   0,   0,   0,   0,   0,   0,   0,   0,   0,   0,   0,   0,\n",
              "         0,   0,   0,   0,   0,   0,   0,   0,   0,   0,   0,   0,   0,\n",
              "         0,   0,   0,   0,   0,   0,   0,   0,   0,   0,   0,   0,   0,\n",
              "         0,   0,   0,   0,   0,   0,   0,   0,   0,   0,   0,   0,   0,\n",
              "         0,   0,   0,   0,   0], dtype=int32)"
            ]
          },
          "metadata": {},
          "execution_count": 18
        }
      ]
    },
    {
      "cell_type": "markdown",
      "source": [
        "## 4 Convert labels to numeric"
      ],
      "metadata": {
        "id": "wAVdCL7s2YA6"
      }
    },
    {
      "cell_type": "markdown",
      "source": [
        "### Function to convert text labels to numeric (reuse for train, test, val)"
      ],
      "metadata": {
        "id": "cjoAOp23ROll"
      }
    },
    {
      "cell_type": "code",
      "source": [
        "def convert_labels_to_numeric(data):\n",
        "  classes = set(data)\n",
        "\n",
        "  # convert class to index\n",
        "  c_to_i = dict((c, i) for i, c in enumerate(classes))\n",
        "  i_to_c = dict((v, k) for k, v in c_to_i.items())\n",
        "  \n",
        "  return c_to_i"
      ],
      "metadata": {
        "id": "lLaCJSQV8_3E"
      },
      "execution_count": 19,
      "outputs": []
    },
    {
      "cell_type": "code",
      "source": [
        "class_to_index_train = convert_labels_to_numeric(train_df['emotions'])\n",
        "class_to_index_train"
      ],
      "metadata": {
        "colab": {
          "base_uri": "https://localhost:8080/"
        },
        "id": "Fz-HIqgg9WTn",
        "outputId": "52746953-1b2a-4be4-833c-3f50e89cc9ce"
      },
      "execution_count": 20,
      "outputs": [
        {
          "output_type": "execute_result",
          "data": {
            "text/plain": [
              "{'joy': 0,\n",
              " 'surprise': 1,\n",
              " 'fear': 2,\n",
              " 'love': 3,\n",
              " 'sadness': 4,\n",
              " 'neutral': 5,\n",
              " 'anger': 6}"
            ]
          },
          "metadata": {},
          "execution_count": 20
        }
      ]
    },
    {
      "cell_type": "code",
      "source": [
        "def names_to_ids(class_to_index, data):\n",
        "  return np.array([class_to_index.get(x) for x in data])"
      ],
      "metadata": {
        "id": "LshrgGmE3Vw1"
      },
      "execution_count": 21,
      "outputs": []
    },
    {
      "cell_type": "code",
      "source": [
        "# confirming if it worked (change index) and they should line up with above dict\n",
        "index = 7\n",
        "train_labels = names_to_ids(class_to_index_train, train_df['emotions'])\n",
        "print('train_df.iloc[7]:\\n', train_df.iloc[index])\n",
        "print('numeric label:', train_labels[index])"
      ],
      "metadata": {
        "colab": {
          "base_uri": "https://localhost:8080/"
        },
        "id": "6EKQbC433hL-",
        "outputId": "6ff33b5b-9ffa-4573-a2a6-62f9690e7fb7"
      },
      "execution_count": 22,
      "outputs": [
        {
          "output_type": "stream",
          "name": "stdout",
          "text": [
            "train_df.iloc[7]:\n",
            " text        i mean literally just posting lists of my acti...\n",
            "emotions                                             surprise\n",
            "Name: 7, dtype: object\n",
            "numeric label: 1\n"
          ]
        }
      ]
    },
    {
      "cell_type": "markdown",
      "source": [
        "## 5 Create the model"
      ],
      "metadata": {
        "id": "JqCOVtUd5SN1"
      }
    },
    {
      "cell_type": "code",
      "source": [
        "%matplotlib inline\n",
        "\n",
        "import tensorflow as tf\n",
        "import numpy as np\n",
        "import matplotlib.pyplot as plt\n",
        "# import nlp\n",
        "import random\n",
        "\n",
        "\n",
        "def show_history(h):\n",
        "    epochs_trained = len(h.history['loss'])\n",
        "    plt.figure(figsize=(16, 6))\n",
        "\n",
        "    plt.subplot(1, 2, 1)\n",
        "    plt.plot(range(0, epochs_trained), h.history.get('accuracy'), label='Training')\n",
        "    plt.plot(range(0, epochs_trained), h.history.get('val_accuracy'), label='Validation')\n",
        "    plt.ylim([0., 1.])\n",
        "    plt.xlabel('Epochs')\n",
        "    plt.ylabel('Accuracy')\n",
        "    plt.legend()\n",
        "\n",
        "    plt.subplot(1, 2, 2)\n",
        "    plt.plot(range(0, epochs_trained), h.history.get('loss'), label='Training')\n",
        "    plt.plot(range(0, epochs_trained), h.history.get('val_loss'), label='Validation')\n",
        "    plt.xlabel('Epochs')\n",
        "    plt.ylabel('Loss')\n",
        "    plt.legend()\n",
        "    plt.show()\n",
        "\n",
        "    \n",
        "def show_confusion_matrix(y_true, y_pred, classes):\n",
        "    from sklearn.metrics import confusion_matrix\n",
        "    \n",
        "    cm = confusion_matrix(y_true, y_pred, normalize='true')\n",
        "\n",
        "    plt.figure(figsize=(8, 8))\n",
        "    sp = plt.subplot(1, 1, 1)\n",
        "    ctx = sp.matshow(cm)\n",
        "    plt.xticks(list(range(0, 6)), labels=classes)\n",
        "    plt.yticks(list(range(0, 6)), labels=classes)\n",
        "    plt.colorbar(ctx)\n",
        "    plt.show()\n",
        "\n",
        "    \n",
        "print('Using TensorFlow version', tf.__version__)"
      ],
      "metadata": {
        "colab": {
          "base_uri": "https://localhost:8080/"
        },
        "id": "0x19MiiQ5s7S",
        "outputId": "4c575f64-899a-4786-d432-7fec5a724275"
      },
      "execution_count": 23,
      "outputs": [
        {
          "output_type": "stream",
          "name": "stdout",
          "text": [
            "Using TensorFlow version 2.11.0\n"
          ]
        }
      ]
    },
    {
      "cell_type": "code",
      "source": [
        "model = tf.keras.models.Sequential([\n",
        "    tf.keras.layers.Embedding(input_dim=10179, output_dim=8, input_length=max_len),\n",
        "    \n",
        "    # the RNN part of the model\n",
        "    # tf.keras.layers.Bidirectional(tf.keras.layers.LSTM(10, return_sequences=True)), # since using an LSTM layer inside a bidrectional layer, context can go in either direction; return_sequences=True means at every time step, there is an output\n",
        "    tf.keras.layers.Bidirectional(tf.keras.layers.LSTM(10, )),\n",
        "\n",
        "    tf.keras.layers.Dense(7, activation='softmax') # 7 for the six classes\n",
        "\n",
        "])\n",
        "\n",
        "model.compile(\n",
        "    loss='sparse_categorical_crossentropy', # since this is a multiclass classification problem, use categorical crossentropy; since classes are integers (not one hot encoded/binary), use sparse (just like in A3)\n",
        "    optimizer='adam',\n",
        "    metrics=['accuracy']\n",
        ")"
      ],
      "metadata": {
        "id": "ZmbxOHXS5VoW"
      },
      "execution_count": 24,
      "outputs": []
    },
    {
      "cell_type": "code",
      "source": [
        "model.summary()"
      ],
      "metadata": {
        "id": "zsYrBdzP6lNv",
        "colab": {
          "base_uri": "https://localhost:8080/"
        },
        "outputId": "2cba10c5-694b-49fd-b009-b732ceb531f3"
      },
      "execution_count": 25,
      "outputs": [
        {
          "output_type": "stream",
          "name": "stdout",
          "text": [
            "Model: \"sequential\"\n",
            "_________________________________________________________________\n",
            " Layer (type)                Output Shape              Param #   \n",
            "=================================================================\n",
            " embedding (Embedding)       (None, 200, 8)            81432     \n",
            "                                                                 \n",
            " bidirectional (Bidirectiona  (None, 20)               1520      \n",
            " l)                                                              \n",
            "                                                                 \n",
            " dense (Dense)               (None, 7)                 147       \n",
            "                                                                 \n",
            "=================================================================\n",
            "Total params: 83,099\n",
            "Trainable params: 83,099\n",
            "Non-trainable params: 0\n",
            "_________________________________________________________________\n"
          ]
        }
      ]
    },
    {
      "cell_type": "markdown",
      "source": [
        "## 6 Train the model"
      ],
      "metadata": {
        "id": "idlS4gpC67sM"
      }
    },
    {
      "cell_type": "markdown",
      "source": [
        "### Convert the labels of the validation set to numeric (just like the training set"
      ],
      "metadata": {
        "id": "lQQwKn13Qrm9"
      }
    },
    {
      "cell_type": "code",
      "source": [
        "class_to_index_val = convert_labels_to_numeric(val_df['emotions'])\n",
        "class_to_index_val"
      ],
      "metadata": {
        "colab": {
          "base_uri": "https://localhost:8080/"
        },
        "id": "yNF1izoe_fPt",
        "outputId": "eb34434a-3c8c-47d5-c7d3-c90495c3be43"
      },
      "execution_count": 26,
      "outputs": [
        {
          "output_type": "execute_result",
          "data": {
            "text/plain": [
              "{'joy': 0,\n",
              " 'surprise': 1,\n",
              " 'fear': 2,\n",
              " 'love': 3,\n",
              " 'sadness': 4,\n",
              " 'neutral': 5,\n",
              " 'anger': 6}"
            ]
          },
          "metadata": {},
          "execution_count": 26
        }
      ]
    },
    {
      "cell_type": "code",
      "source": [
        "val_seq = get_sequences(tokenizer, val_df['text'])\n",
        "val_labels = names_to_ids(class_to_index_val, val_df['emotions'])"
      ],
      "metadata": {
        "id": "bQmthZKy7B6A"
      },
      "execution_count": 27,
      "outputs": []
    },
    {
      "cell_type": "code",
      "source": [
        "val_seq[0], val_df['text'][0], val_df['emotions'][0]"
      ],
      "metadata": {
        "colab": {
          "base_uri": "https://localhost:8080/"
        },
        "id": "b1KDU5Hi8IWQ",
        "outputId": "32438010-53c8-4880-cefe-736885df9b6f"
      },
      "execution_count": 28,
      "outputs": [
        {
          "output_type": "execute_result",
          "data": {
            "text/plain": [
              "(array([  2,  24,   8,   7,  88, 749,   0,   0,   0,   0,   0,   0,   0,\n",
              "          0,   0,   0,   0,   0,   0,   0,   0,   0,   0,   0,   0,   0,\n",
              "          0,   0,   0,   0,   0,   0,   0,   0,   0,   0,   0,   0,   0,\n",
              "          0,   0,   0,   0,   0,   0,   0,   0,   0,   0,   0,   0,   0,\n",
              "          0,   0,   0,   0,   0,   0,   0,   0,   0,   0,   0,   0,   0,\n",
              "          0,   0,   0,   0,   0,   0,   0,   0,   0,   0,   0,   0,   0,\n",
              "          0,   0,   0,   0,   0,   0,   0,   0,   0,   0,   0,   0,   0,\n",
              "          0,   0,   0,   0,   0,   0,   0,   0,   0,   0,   0,   0,   0,\n",
              "          0,   0,   0,   0,   0,   0,   0,   0,   0,   0,   0,   0,   0,\n",
              "          0,   0,   0,   0,   0,   0,   0,   0,   0,   0,   0,   0,   0,\n",
              "          0,   0,   0,   0,   0,   0,   0,   0,   0,   0,   0,   0,   0,\n",
              "          0,   0,   0,   0,   0,   0,   0,   0,   0,   0,   0,   0,   0,\n",
              "          0,   0,   0,   0,   0,   0,   0,   0,   0,   0,   0,   0,   0,\n",
              "          0,   0,   0,   0,   0,   0,   0,   0,   0,   0,   0,   0,   0,\n",
              "          0,   0,   0,   0,   0,   0,   0,   0,   0,   0,   0,   0,   0,\n",
              "          0,   0,   0,   0,   0], dtype=int32),\n",
              " 'i am feeling a bit shaken',\n",
              " 'fear')"
            ]
          },
          "metadata": {},
          "execution_count": 28
        }
      ]
    },
    {
      "cell_type": "code",
      "source": [
        "print('val_df.iloc[0]:\\n', val_df.iloc[0])\n",
        "print('numeric label:', val_labels[0])"
      ],
      "metadata": {
        "colab": {
          "base_uri": "https://localhost:8080/"
        },
        "id": "VCjxGzpW7rCT",
        "outputId": "fe60dfa5-9445-444b-84de-1042b141b82d"
      },
      "execution_count": 29,
      "outputs": [
        {
          "output_type": "stream",
          "name": "stdout",
          "text": [
            "val_df.iloc[0]:\n",
            " text        i am feeling a bit shaken\n",
            "emotions                         fear\n",
            "Name: 0, dtype: object\n",
            "numeric label: 2\n"
          ]
        }
      ]
    },
    {
      "cell_type": "markdown",
      "source": [
        "#### Check out the shape to make sure they're as expected"
      ],
      "metadata": {
        "id": "RdCRJ_QdQ2B6"
      }
    },
    {
      "cell_type": "code",
      "source": [
        "padded_train_seq.shape"
      ],
      "metadata": {
        "colab": {
          "base_uri": "https://localhost:8080/"
        },
        "id": "ynlY2BgkA7in",
        "outputId": "2659a8d6-a21f-428b-80a9-51a01281a264"
      },
      "execution_count": 30,
      "outputs": [
        {
          "output_type": "execute_result",
          "data": {
            "text/plain": [
              "(223359, 200)"
            ]
          },
          "metadata": {},
          "execution_count": 30
        }
      ]
    },
    {
      "cell_type": "code",
      "source": [
        "train_labels.shape"
      ],
      "metadata": {
        "colab": {
          "base_uri": "https://localhost:8080/"
        },
        "id": "Y5fiYZr7Bz0W",
        "outputId": "8cd77115-edb2-4dbf-aaf7-1398e79520f6"
      },
      "execution_count": 31,
      "outputs": [
        {
          "output_type": "execute_result",
          "data": {
            "text/plain": [
              "(223359,)"
            ]
          },
          "metadata": {},
          "execution_count": 31
        }
      ]
    },
    {
      "cell_type": "code",
      "source": [
        "val_seq.shape"
      ],
      "metadata": {
        "colab": {
          "base_uri": "https://localhost:8080/"
        },
        "id": "Ht_KveuuB30e",
        "outputId": "a6a675b7-081b-4688-be85-aaaba98e7ec0"
      },
      "execution_count": 32,
      "outputs": [
        {
          "output_type": "execute_result",
          "data": {
            "text/plain": [
              "(74453, 200)"
            ]
          },
          "metadata": {},
          "execution_count": 32
        }
      ]
    },
    {
      "cell_type": "code",
      "source": [
        "val_labels.shape"
      ],
      "metadata": {
        "colab": {
          "base_uri": "https://localhost:8080/"
        },
        "id": "jN1vULmpB6gE",
        "outputId": "eb30f7d0-2eb3-44b2-a940-f1ab29b80b21"
      },
      "execution_count": 33,
      "outputs": [
        {
          "output_type": "execute_result",
          "data": {
            "text/plain": [
              "(74453,)"
            ]
          },
          "metadata": {},
          "execution_count": 33
        }
      ]
    },
    {
      "cell_type": "markdown",
      "source": [
        "### From Natalie's Notebook\n",
        "https://github.com/datasci-w266/2023-spring-main/blob/master/materials/walkthrough_notebooks/keras_with_limited_ram/keras_training_with_limited_ram.ipynb<br><br>\n",
        "https://edstem.org/us/courses/32607/discussion/2699088?comment=6229916"
      ],
      "metadata": {
        "id": "yIzq6Av3QPt8"
      }
    },
    {
      "cell_type": "markdown",
      "source": [
        "#### Inspired by Natalie's notebook, made my own generator that chunks up my data into pieces that won't make my machine run out of memory before completing one epoch"
      ],
      "metadata": {
        "id": "xXt_pSdk8hNd"
      }
    },
    {
      "cell_type": "code",
      "source": [
        "# Define a generator function\n",
        "def generator(data, labels, batch_size):\n",
        "    num_samples = len(data)\n",
        "    while True:\n",
        "        indices = np.random.randint(num_samples, size=batch_size)\n",
        "        yield data[indices], labels[indices]"
      ],
      "metadata": {
        "id": "VqlRB7kLgciK"
      },
      "execution_count": 34,
      "outputs": []
    },
    {
      "cell_type": "code",
      "source": [
        "# Create the generator\n",
        "batch_size = 6 # using batch size 6 because that's what seemed reasonable based on the number of records in the training dataset\n",
        "gen = generator(data=padded_train_seq, labels=train_labels, batch_size=batch_size)"
      ],
      "metadata": {
        "id": "nct6qudng5T4"
      },
      "execution_count": 35,
      "outputs": []
    },
    {
      "cell_type": "code",
      "source": [
        "!ls '/content/gdrive/MyDrive/266_Final_Project_Folder/cm_working_dir/cm_checkpoints/'"
      ],
      "metadata": {
        "id": "UYF2mq-rnikf"
      },
      "execution_count": 36,
      "outputs": []
    },
    {
      "cell_type": "code",
      "source": [
        "checkpoint_dir = project_folder + '/cm_working_dir/cm_checkpoints'\n",
        "checkpoint_filepath = checkpoint_dir + '/weights.{epoch:02d}-{val_accuracy:.2f}.hdf5'\n",
        "model_checkpoint_callback = tf.keras.callbacks.ModelCheckpoint(\n",
        "    filepath=checkpoint_filepath,\n",
        "    save_weights_only=True)"
      ],
      "metadata": {
        "id": "fWUjoVx_oQ1p"
      },
      "execution_count": 37,
      "outputs": []
    },
    {
      "cell_type": "code",
      "source": [
        "print(checkpoint_filepath)"
      ],
      "metadata": {
        "colab": {
          "base_uri": "https://localhost:8080/"
        },
        "id": "vEGdADVWY5aV",
        "outputId": "f76f9b55-1c61-4a6c-f0bb-9914f83949f6"
      },
      "execution_count": 38,
      "outputs": [
        {
          "output_type": "stream",
          "name": "stdout",
          "text": [
            "/content/gdrive/MyDrive/266_Final_Project_Folder/cm_working_dir/cm_checkpoints/weights.{epoch:02d}-{val_accuracy:.2f}.hdf5\n"
          ]
        }
      ]
    },
    {
      "cell_type": "markdown",
      "source": [
        "### Training the Model!!!"
      ],
      "metadata": {
        "id": "Tu0tD3XEQYxO"
      }
    },
    {
      "cell_type": "code",
      "source": [
        "# uncomment below when loading checkpoints\n",
        "# hdf5_checkpoint = 'weights.05-0.75.hdf5' # change this to the right filename for the checkpoint\n",
        "# checkpoint_filepath = checkpoint_dir + 'weights.05-0.93.hdf5'\n",
        "# model.load_weights(checkpoint_filepath)"
      ],
      "metadata": {
        "id": "wm6zmRBWPA4F"
      },
      "execution_count": 39,
      "outputs": []
    },
    {
      "cell_type": "code",
      "source": [
        "steps_per_epoch = len(padded_train_seq) // batch_size\n",
        "\n",
        "history = model.fit(\n",
        "    gen,\n",
        "    validation_data=(val_seq, val_labels),\n",
        "    steps_per_epoch=steps_per_epoch,\n",
        "    epochs=5,\n",
        "    callbacks=[\n",
        "        tf.keras.callbacks.EarlyStopping(monitor='val_accuracy', patience=2), # if model doesn't see improvement in val_accuracy after 2 epochs, it will stop training\n",
        "        model_checkpoint_callback\n",
        "    ]\n",
        ")"
      ],
      "metadata": {
        "colab": {
          "base_uri": "https://localhost:8080/"
        },
        "id": "oCfI-LfAn9nR",
        "outputId": "ce40ebe0-2b1a-483b-aef1-a8b83ba43b0d"
      },
      "execution_count": 40,
      "outputs": [
        {
          "output_type": "stream",
          "name": "stdout",
          "text": [
            "Epoch 1/5\n",
            "37226/37226 [==============================] - 664s 18ms/step - loss: 0.3780 - accuracy: 0.8606 - val_loss: 0.2011 - val_accuracy: 0.9143\n",
            "Epoch 2/5\n",
            "37226/37226 [==============================] - 627s 17ms/step - loss: 0.1394 - accuracy: 0.9338 - val_loss: 0.1481 - val_accuracy: 0.9249\n",
            "Epoch 3/5\n",
            "37226/37226 [==============================] - 610s 16ms/step - loss: 0.1176 - accuracy: 0.9395 - val_loss: 0.1364 - val_accuracy: 0.9276\n",
            "Epoch 4/5\n",
            "37226/37226 [==============================] - 591s 16ms/step - loss: 0.1066 - accuracy: 0.9434 - val_loss: 0.1298 - val_accuracy: 0.9264\n",
            "Epoch 5/5\n",
            "37226/37226 [==============================] - 586s 16ms/step - loss: 0.1006 - accuracy: 0.9458 - val_loss: 0.1304 - val_accuracy: 0.9266\n"
          ]
        }
      ]
    },
    {
      "cell_type": "code",
      "source": [
        "show_history(history)"
      ],
      "metadata": {
        "colab": {
          "base_uri": "https://localhost:8080/",
          "height": 392
        },
        "id": "1mfKwJdT1YFz",
        "outputId": "5f4409ff-e13a-4ff2-c0af-9b8de98afa91"
      },
      "execution_count": 41,
      "outputs": [
        {
          "output_type": "display_data",
          "data": {
            "text/plain": [
              "<Figure size 1152x432 with 2 Axes>"
            ],
            "image/png": "[encoded data removed]"
          },
          "metadata": {
            "needs_background": "light"
          }
        }
      ]
    },
    {
      "cell_type": "markdown",
      "source": [
        "## 7 Evaluate the model using test_df"
      ],
      "metadata": {
        "id": "cBYWJDCg5eN1"
      }
    },
    {
      "cell_type": "code",
      "source": [
        "padded_test_seq = get_sequences(tokenizer, test_df['text'])\n",
        "padded_test_seq[0]"
      ],
      "metadata": {
        "colab": {
          "base_uri": "https://localhost:8080/"
        },
        "id": "gEMdQ78M2Rz-",
        "outputId": "5b81c8ba-2e0c-4e62-976c-c2262adbf03e"
      },
      "execution_count": 42,
      "outputs": [
        {
          "output_type": "execute_result",
          "data": {
            "text/plain": [
              "array([   2,  809,    5,  381,   66, 1508, 1128,    4,    3,   66,  562,\n",
              "        511,   29,   11, 1979,    0,    0,    0,    0,    0,    0,    0,\n",
              "          0,    0,    0,    0,    0,    0,    0,    0,    0,    0,    0,\n",
              "          0,    0,    0,    0,    0,    0,    0,    0,    0,    0,    0,\n",
              "          0,    0,    0,    0,    0,    0,    0,    0,    0,    0,    0,\n",
              "          0,    0,    0,    0,    0,    0,    0,    0,    0,    0,    0,\n",
              "          0,    0,    0,    0,    0,    0,    0,    0,    0,    0,    0,\n",
              "          0,    0,    0,    0,    0,    0,    0,    0,    0,    0,    0,\n",
              "          0,    0,    0,    0,    0,    0,    0,    0,    0,    0,    0,\n",
              "          0,    0,    0,    0,    0,    0,    0,    0,    0,    0,    0,\n",
              "          0,    0,    0,    0,    0,    0,    0,    0,    0,    0,    0,\n",
              "          0,    0,    0,    0,    0,    0,    0,    0,    0,    0,    0,\n",
              "          0,    0,    0,    0,    0,    0,    0,    0,    0,    0,    0,\n",
              "          0,    0,    0,    0,    0,    0,    0,    0,    0,    0,    0,\n",
              "          0,    0,    0,    0,    0,    0,    0,    0,    0,    0,    0,\n",
              "          0,    0,    0,    0,    0,    0,    0,    0,    0,    0,    0,\n",
              "          0,    0,    0,    0,    0,    0,    0,    0,    0,    0,    0,\n",
              "          0,    0,    0,    0,    0,    0,    0,    0,    0,    0,    0,\n",
              "          0,    0], dtype=int32)"
            ]
          },
          "metadata": {},
          "execution_count": 42
        }
      ]
    },
    {
      "cell_type": "code",
      "source": [
        "class_to_index_test = convert_labels_to_numeric(test_df['emotions'])\n",
        "class_to_index_test"
      ],
      "metadata": {
        "colab": {
          "base_uri": "https://localhost:8080/"
        },
        "id": "jBACmE2L2sW1",
        "outputId": "4440c8ee-6cf7-437a-a04f-9524532316d6"
      },
      "execution_count": 43,
      "outputs": [
        {
          "output_type": "execute_result",
          "data": {
            "text/plain": [
              "{'joy': 0,\n",
              " 'surprise': 1,\n",
              " 'fear': 2,\n",
              " 'love': 3,\n",
              " 'sadness': 4,\n",
              " 'neutral': 5,\n",
              " 'anger': 6}"
            ]
          },
          "metadata": {},
          "execution_count": 43
        }
      ]
    },
    {
      "cell_type": "code",
      "source": [
        "# confirming if it worked (change index) and they should line up with above dict\n",
        "index = 7\n",
        "test_labels = names_to_ids(class_to_index_test, test_df['emotions'])\n",
        "print('test_df.iloc[7]:\\n', test_df.iloc[index])\n",
        "print('numeric label:', test_labels[index])"
      ],
      "metadata": {
        "colab": {
          "base_uri": "https://localhost:8080/"
        },
        "id": "hm-MP1dM3HQL",
        "outputId": "afc65547-d7df-4c8c-84c5-5c58aec64e93"
      },
      "execution_count": 44,
      "outputs": [
        {
          "output_type": "stream",
          "name": "stdout",
          "text": [
            "test_df.iloc[7]:\n",
            " text        i feel awkward annoying and unwanted pagetitle...\n",
            "emotions                                              sadness\n",
            "Name: 7, dtype: object\n",
            "numeric label: 4\n"
          ]
        }
      ]
    },
    {
      "cell_type": "markdown",
      "source": [
        "### Evaluating the model!!!"
      ],
      "metadata": {
        "id": "3sQ_CJUk6cHw"
      }
    },
    {
      "cell_type": "code",
      "source": [
        "_ = model.evaluate(padded_test_seq, test_labels)"
      ],
      "metadata": {
        "colab": {
          "base_uri": "https://localhost:8080/"
        },
        "id": "053kYMU11ufb",
        "outputId": "7f9fa349-0ed0-456f-949e-df5793f05cd6"
      },
      "execution_count": 45,
      "outputs": [
        {
          "output_type": "stream",
          "name": "stdout",
          "text": [
            "3989/3989 [==============================] - 32s 8ms/step - loss: 0.1286 - accuracy: 0.9286\n"
          ]
        }
      ]
    },
    {
      "cell_type": "markdown",
      "source": [
        "### Find random records, print, then predict and see if the prediction matches the label"
      ],
      "metadata": {
        "id": "3-ekehsJ54yk"
      }
    },
    {
      "cell_type": "code",
      "source": [
        "i = random.randint(0, len(test_labels) - 1)\n",
        "\n",
        "print('Sentence:', test_df.iloc[i])\n",
        "print('Emotion:', test_labels[i]) #index_to_class[test_labels[i]])\n",
        "\n",
        "p = model.predict(np.expand_dims(padded_test_seq[i], axis=0))[0]\n",
        "pred_class = np.argmax(p).astype('uint8')\n",
        "\n",
        "print('Predicted Emotion:', pred_class)"
      ],
      "metadata": {
        "colab": {
          "base_uri": "https://localhost:8080/"
        },
        "id": "wyu3GMil3mJX",
        "outputId": "a0edf46b-6d4c-46a1-f233-3e7e25f28a04"
      },
      "execution_count": 66,
      "outputs": [
        {
          "output_type": "stream",
          "name": "stdout",
          "text": [
            "Sentence: text        i feel it i know what i feel is real but i m n...\n",
            "emotions                                                  joy\n",
            "Name: 41559, dtype: object\n",
            "Emotion: 0\n",
            "1/1 [==============================] - 0s 48ms/step\n",
            "Predicted Emotion: 0\n"
          ]
        }
      ]
    }
  ],
  "metadata": {
    "colab": {
      "provenance": []
    },
    "kernelspec": {
      "display_name": "Python 3 (ipykernel)",
      "language": "python",
      "name": "python3"
    },
    "language_info": {
      "codemirror_mode": {
        "name": "ipython",
        "version": 3
      },
      "file_extension": ".py",
      "mimetype": "text/x-python",
      "name": "python",
      "nbconvert_exporter": "python",
      "pygments_lexer": "ipython3",
      "version": "3.9.12"
    },
    "gpuClass": "standard",
    "accelerator": "GPU"
  },
  "nbformat": 4,
  "nbformat_minor": 0
}