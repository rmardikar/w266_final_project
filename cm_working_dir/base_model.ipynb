{
  "cells": [
    {
      "cell_type": "markdown",
      "metadata": {
        "id": "z9rigx9lYp0r"
      },
      "source": [
        "***\n",
        "# Base Bi-LSTM Model<br>\n",
        "***"
      ]
    },
    {
      "cell_type": "markdown",
      "metadata": {
        "id": "kX3XryQmcWhL"
      },
      "source": [
        "***\n",
        "## 1 Load the train/val/test/balanced test datasets\n",
        "emotions_with_neutrals_220228.csv concatenated the neutrals from Kaggle dataset<br>\n",
        "https://github.com/dair-ai/emotion_dataset<br>\n",
        "https://huggingface.co/datasets/dair-ai/emotion<br>"
      ]
    },
    {
      "cell_type": "code",
      "source": [
        "import pandas as pd\n",
        "import numpy as np\n",
        "\n",
        "# mount google drive\n",
        "from google.colab import drive \n",
        "drive.mount('/content/gdrive')"
      ],
      "metadata": {
        "id": "06sIOQnaaF9P",
        "colab": {
          "base_uri": "https://localhost:8080/"
        },
        "outputId": "63b52b3c-4d76-47a0-81e8-7b32978e2fd9"
      },
      "execution_count": 2,
      "outputs": [
        {
          "output_type": "stream",
          "name": "stdout",
          "text": [
            "Mounted at /content/gdrive\n"
          ]
        }
      ]
    },
    {
      "cell_type": "code",
      "execution_count": 3,
      "metadata": {
        "id": "9j2cEQQtYMBR"
      },
      "outputs": [],
      "source": [
        "# read from the google drive\n",
        "project_folder = '/content/gdrive/MyDrive/266_Final_Project_Folder'\n",
        "\n",
        "train_source = project_folder + '/datasets/train_data_imbalanced_stratified_no_dupe.csv'\n",
        "test_source = project_folder + '/datasets/test_data_imbalanced_stratified_no_dupe.csv'\n",
        "val_source = project_folder + '/datasets/validation_data_imbalanced_stratified_no_dupe.csv'\n",
        "balanced_test_source = project_folder + '/datasets/test_data_balanced_no_dupe.csv'\n",
        "\n",
        "# Load the dfs\n",
        "train_df = pd.read_csv(train_source)\n",
        "test_df = pd.read_csv(test_source)\n",
        "val_df = pd.read_csv(val_source)\n",
        "balanced_test_df = pd.read_csv(balanced_test_source)\n",
        "\n",
        "# drop the tweet_id column\n",
        "train_df.drop(columns=train_df.columns[0], axis=1, inplace=True)\n",
        "test_df.drop(columns=test_df.columns[0], axis=1, inplace=True)\n",
        "val_df.drop(columns=val_df.columns[0], axis=1, inplace=True)\n",
        "balanced_test_df.drop(columns=balanced_test_df.columns[0], axis=1, inplace=True)"
      ]
    },
    {
      "cell_type": "markdown",
      "source": [
        "### Confirm no overlapping records "
      ],
      "metadata": {
        "id": "IbaQ2JZUcJcH"
      }
    },
    {
      "cell_type": "code",
      "source": [
        "# Check if there are any records in train_df that are in val_df\n",
        "overlap = train_df['text'].isin(val_df['text'])\n",
        "print(f\"Number of overlapping records, train-val: {overlap.sum()}\")\n",
        "\n",
        "# Check if there are any records in val_df that are in train_df\n",
        "overlap = val_df['text'].isin(train_df['text'])\n",
        "print(f\"Number of overlapping records, val-train: {overlap.sum()}\")\n",
        "\n",
        "\n",
        "# Check if there are any records in train_df that are in test_df\n",
        "overlap = train_df['text'].isin(test_df['text'])\n",
        "print(f\"Number of overlapping records, train-test: {overlap.sum()}\")\n",
        "\n",
        "# Check if there are any records in test_df that are in train_df\n",
        "overlap = test_df['text'].isin(train_df['text'])\n",
        "print(f\"Number of overlapping records, test-train: {overlap.sum()}\")\n",
        "\n",
        "\n",
        "# Check if there are any records in train_df that are in balanced_test_df\n",
        "overlap = train_df['text'].isin(balanced_test_df['text'])\n",
        "print(f\"Number of overlapping records, train-balanced test: {overlap.sum()}\")\n",
        "\n",
        "# Check if there are any records in train_df that are in balanced_test_df\n",
        "overlap = balanced_test_df['text'].isin(train_df['text'])\n",
        "print(f\"Number of overlapping records, balanced test, train: {overlap.sum()}\")"
      ],
      "metadata": {
        "id": "PIydFV55QM8H",
        "colab": {
          "base_uri": "https://localhost:8080/"
        },
        "outputId": "88be4038-ded2-452f-c3e9-6bb0d839899e"
      },
      "execution_count": 4,
      "outputs": [
        {
          "output_type": "stream",
          "name": "stdout",
          "text": [
            "Number of overlapping records, train-val: 0\n",
            "Number of overlapping records, val-train: 0\n",
            "Number of overlapping records, train-test: 0\n",
            "Number of overlapping records, test-train: 0\n",
            "Number of overlapping records, train-balanced test: 0\n",
            "Number of overlapping records, balanced test, train: 0\n"
          ]
        }
      ]
    },
    {
      "cell_type": "code",
      "source": [
        "train_df"
      ],
      "metadata": {
        "id": "7W2PlC_Ulv0O",
        "colab": {
          "base_uri": "https://localhost:8080/",
          "height": 424
        },
        "outputId": "6cbee926-7c4a-41e6-bad2-d51ac928837d"
      },
      "execution_count": 5,
      "outputs": [
        {
          "output_type": "execute_result",
          "data": {
            "text/plain": [
              "                                                     text  emotions\n",
              "0                         ive been feeling rather jealous     anger\n",
              "1            ive officially started to feel uncomfortable      fear\n",
              "2       im acting like the rotten person i am who feel...   sadness\n",
              "3                                 i feel a mournful grasp   sadness\n",
              "4                                  i started to feel smug       joy\n",
              "...                                                   ...       ...\n",
              "256227  i don t get that one feeling anymore just curi...  surprise\n",
              "256228  i was feeling a little unhappy in almost all a...   sadness\n",
              "256229  i was there and soon to be berlin feeling gloo...   sadness\n",
              "256230  im feeling a little too violent and my mother ...     anger\n",
              "256231  i wake up already feeling listless and have be...   sadness\n",
              "\n",
              "[256232 rows x 2 columns]"
            ],
            "text/html": [
              "\n",
              "  <div id=\"df-5ee29f12-52ca-4299-a9fd-98ddcc1de44d\">\n",
              "    <div class=\"colab-df-container\">\n",
              "      <div>\n",
              "<style scoped>\n",
              "    .dataframe tbody tr th:only-of-type {\n",
              "        vertical-align: middle;\n",
              "    }\n",
              "\n",
              "    .dataframe tbody tr th {\n",
              "        vertical-align: top;\n",
              "    }\n",
              "\n",
              "    .dataframe thead th {\n",
              "        text-align: right;\n",
              "    }\n",
              "</style>\n",
              "<table border=\"1\" class=\"dataframe\">\n",
              "  <thead>\n",
              "    <tr style=\"text-align: right;\">\n",
              "      <th></th>\n",
              "      <th>text</th>\n",
              "      <th>emotions</th>\n",
              "    </tr>\n",
              "  </thead>\n",
              "  <tbody>\n",
              "    <tr>\n",
              "      <th>0</th>\n",
              "      <td>ive been feeling rather jealous</td>\n",
              "      <td>anger</td>\n",
              "    </tr>\n",
              "    <tr>\n",
              "      <th>1</th>\n",
              "      <td>ive officially started to feel uncomfortable</td>\n",
              "      <td>fear</td>\n",
              "    </tr>\n",
              "    <tr>\n",
              "      <th>2</th>\n",
              "      <td>im acting like the rotten person i am who feel...</td>\n",
              "      <td>sadness</td>\n",
              "    </tr>\n",
              "    <tr>\n",
              "      <th>3</th>\n",
              "      <td>i feel a mournful grasp</td>\n",
              "      <td>sadness</td>\n",
              "    </tr>\n",
              "    <tr>\n",
              "      <th>4</th>\n",
              "      <td>i started to feel smug</td>\n",
              "      <td>joy</td>\n",
              "    </tr>\n",
              "    <tr>\n",
              "      <th>...</th>\n",
              "      <td>...</td>\n",
              "      <td>...</td>\n",
              "    </tr>\n",
              "    <tr>\n",
              "      <th>256227</th>\n",
              "      <td>i don t get that one feeling anymore just curi...</td>\n",
              "      <td>surprise</td>\n",
              "    </tr>\n",
              "    <tr>\n",
              "      <th>256228</th>\n",
              "      <td>i was feeling a little unhappy in almost all a...</td>\n",
              "      <td>sadness</td>\n",
              "    </tr>\n",
              "    <tr>\n",
              "      <th>256229</th>\n",
              "      <td>i was there and soon to be berlin feeling gloo...</td>\n",
              "      <td>sadness</td>\n",
              "    </tr>\n",
              "    <tr>\n",
              "      <th>256230</th>\n",
              "      <td>im feeling a little too violent and my mother ...</td>\n",
              "      <td>anger</td>\n",
              "    </tr>\n",
              "    <tr>\n",
              "      <th>256231</th>\n",
              "      <td>i wake up already feeling listless and have be...</td>\n",
              "      <td>sadness</td>\n",
              "    </tr>\n",
              "  </tbody>\n",
              "</table>\n",
              "<p>256232 rows × 2 columns</p>\n",
              "</div>\n",
              "      <button class=\"colab-df-convert\" onclick=\"convertToInteractive('df-5ee29f12-52ca-4299-a9fd-98ddcc1de44d')\"\n",
              "              title=\"Convert this dataframe to an interactive table.\"\n",
              "              style=\"display:none;\">\n",
              "        \n",
              "  <svg xmlns=\"http://www.w3.org/2000/svg\" height=\"24px\"viewBox=\"0 0 24 24\"\n",
              "       width=\"24px\">\n",
              "    <path d=\"M0 0h24v24H0V0z\" fill=\"none\"/>\n",
              "    <path d=\"M18.56 5.44l.94 2.06.94-2.06 2.06-.94-2.06-.94-.94-2.06-.94 2.06-2.06.94zm-11 1L8.5 8.5l.94-2.06 2.06-.94-2.06-.94L8.5 2.5l-.94 2.06-2.06.94zm10 10l.94 2.06.94-2.06 2.06-.94-2.06-.94-.94-2.06-.94 2.06-2.06.94z\"/><path d=\"M17.41 7.96l-1.37-1.37c-.4-.4-.92-.59-1.43-.59-.52 0-1.04.2-1.43.59L10.3 9.45l-7.72 7.72c-.78.78-.78 2.05 0 2.83L4 21.41c.39.39.9.59 1.41.59.51 0 1.02-.2 1.41-.59l7.78-7.78 2.81-2.81c.8-.78.8-2.07 0-2.86zM5.41 20L4 18.59l7.72-7.72 1.47 1.35L5.41 20z\"/>\n",
              "  </svg>\n",
              "      </button>\n",
              "      \n",
              "  <style>\n",
              "    .colab-df-container {\n",
              "      display:flex;\n",
              "      flex-wrap:wrap;\n",
              "      gap: 12px;\n",
              "    }\n",
              "\n",
              "    .colab-df-convert {\n",
              "      background-color: #E8F0FE;\n",
              "      border: none;\n",
              "      border-radius: 50%;\n",
              "      cursor: pointer;\n",
              "      display: none;\n",
              "      fill: #1967D2;\n",
              "      height: 32px;\n",
              "      padding: 0 0 0 0;\n",
              "      width: 32px;\n",
              "    }\n",
              "\n",
              "    .colab-df-convert:hover {\n",
              "      background-color: #E2EBFA;\n",
              "      box-shadow: 0px 1px 2px rgba(60, 64, 67, 0.3), 0px 1px 3px 1px rgba(60, 64, 67, 0.15);\n",
              "      fill: #174EA6;\n",
              "    }\n",
              "\n",
              "    [theme=dark] .colab-df-convert {\n",
              "      background-color: #3B4455;\n",
              "      fill: #D2E3FC;\n",
              "    }\n",
              "\n",
              "    [theme=dark] .colab-df-convert:hover {\n",
              "      background-color: #434B5C;\n",
              "      box-shadow: 0px 1px 3px 1px rgba(0, 0, 0, 0.15);\n",
              "      filter: drop-shadow(0px 1px 2px rgba(0, 0, 0, 0.3));\n",
              "      fill: #FFFFFF;\n",
              "    }\n",
              "  </style>\n",
              "\n",
              "      <script>\n",
              "        const buttonEl =\n",
              "          document.querySelector('#df-5ee29f12-52ca-4299-a9fd-98ddcc1de44d button.colab-df-convert');\n",
              "        buttonEl.style.display =\n",
              "          google.colab.kernel.accessAllowed ? 'block' : 'none';\n",
              "\n",
              "        async function convertToInteractive(key) {\n",
              "          const element = document.querySelector('#df-5ee29f12-52ca-4299-a9fd-98ddcc1de44d');\n",
              "          const dataTable =\n",
              "            await google.colab.kernel.invokeFunction('convertToInteractive',\n",
              "                                                     [key], {});\n",
              "          if (!dataTable) return;\n",
              "\n",
              "          const docLinkHtml = 'Like what you see? Visit the ' +\n",
              "            '<a target=\"_blank\" href=https://colab.research.google.com/notebooks/data_table.ipynb>data table notebook</a>'\n",
              "            + ' to learn more about interactive tables.';\n",
              "          element.innerHTML = '';\n",
              "          dataTable['output_type'] = 'display_data';\n",
              "          await google.colab.output.renderOutput(dataTable, element);\n",
              "          const docLink = document.createElement('div');\n",
              "          docLink.innerHTML = docLinkHtml;\n",
              "          element.appendChild(docLink);\n",
              "        }\n",
              "      </script>\n",
              "    </div>\n",
              "  </div>\n",
              "  "
            ]
          },
          "metadata": {},
          "execution_count": 5
        }
      ]
    },
    {
      "cell_type": "code",
      "source": [
        "test_df"
      ],
      "metadata": {
        "id": "-fIcWgjQly2u",
        "colab": {
          "base_uri": "https://localhost:8080/",
          "height": 424
        },
        "outputId": "7852f7f1-524a-4831-8aaf-1789dcf45ad3"
      },
      "execution_count": 6,
      "outputs": [
        {
          "output_type": "execute_result",
          "data": {
            "text/plain": [
              "                                                    text emotions\n",
              "0                 i feel impatient to get moving forward    anger\n",
              "1      i have decided to open wb to a few thoughtful ...      joy\n",
              "2      i resolved at that moment to do my bit when i ...  sadness\n",
              "3      i like his tip especially if you need assistan...      joy\n",
              "4      i feel that if he did not want to be on the sh...      joy\n",
              "...                                                  ...      ...\n",
              "37956  i am serving alongside other leaders in the de...     fear\n",
              "37957  i am a little tipsy and feeling quite fond of ...     love\n",
              "37958  i made my way to the front of the stage feelin...     fear\n",
              "37959  i feel like nicholas is a really smart guy and...      joy\n",
              "37960  i have been praying spiritually disciplining m...      joy\n",
              "\n",
              "[37961 rows x 2 columns]"
            ],
            "text/html": [
              "\n",
              "  <div id=\"df-9e2a89d9-f314-4297-a9da-1877725dce42\">\n",
              "    <div class=\"colab-df-container\">\n",
              "      <div>\n",
              "<style scoped>\n",
              "    .dataframe tbody tr th:only-of-type {\n",
              "        vertical-align: middle;\n",
              "    }\n",
              "\n",
              "    .dataframe tbody tr th {\n",
              "        vertical-align: top;\n",
              "    }\n",
              "\n",
              "    .dataframe thead th {\n",
              "        text-align: right;\n",
              "    }\n",
              "</style>\n",
              "<table border=\"1\" class=\"dataframe\">\n",
              "  <thead>\n",
              "    <tr style=\"text-align: right;\">\n",
              "      <th></th>\n",
              "      <th>text</th>\n",
              "      <th>emotions</th>\n",
              "    </tr>\n",
              "  </thead>\n",
              "  <tbody>\n",
              "    <tr>\n",
              "      <th>0</th>\n",
              "      <td>i feel impatient to get moving forward</td>\n",
              "      <td>anger</td>\n",
              "    </tr>\n",
              "    <tr>\n",
              "      <th>1</th>\n",
              "      <td>i have decided to open wb to a few thoughtful ...</td>\n",
              "      <td>joy</td>\n",
              "    </tr>\n",
              "    <tr>\n",
              "      <th>2</th>\n",
              "      <td>i resolved at that moment to do my bit when i ...</td>\n",
              "      <td>sadness</td>\n",
              "    </tr>\n",
              "    <tr>\n",
              "      <th>3</th>\n",
              "      <td>i like his tip especially if you need assistan...</td>\n",
              "      <td>joy</td>\n",
              "    </tr>\n",
              "    <tr>\n",
              "      <th>4</th>\n",
              "      <td>i feel that if he did not want to be on the sh...</td>\n",
              "      <td>joy</td>\n",
              "    </tr>\n",
              "    <tr>\n",
              "      <th>...</th>\n",
              "      <td>...</td>\n",
              "      <td>...</td>\n",
              "    </tr>\n",
              "    <tr>\n",
              "      <th>37956</th>\n",
              "      <td>i am serving alongside other leaders in the de...</td>\n",
              "      <td>fear</td>\n",
              "    </tr>\n",
              "    <tr>\n",
              "      <th>37957</th>\n",
              "      <td>i am a little tipsy and feeling quite fond of ...</td>\n",
              "      <td>love</td>\n",
              "    </tr>\n",
              "    <tr>\n",
              "      <th>37958</th>\n",
              "      <td>i made my way to the front of the stage feelin...</td>\n",
              "      <td>fear</td>\n",
              "    </tr>\n",
              "    <tr>\n",
              "      <th>37959</th>\n",
              "      <td>i feel like nicholas is a really smart guy and...</td>\n",
              "      <td>joy</td>\n",
              "    </tr>\n",
              "    <tr>\n",
              "      <th>37960</th>\n",
              "      <td>i have been praying spiritually disciplining m...</td>\n",
              "      <td>joy</td>\n",
              "    </tr>\n",
              "  </tbody>\n",
              "</table>\n",
              "<p>37961 rows × 2 columns</p>\n",
              "</div>\n",
              "      <button class=\"colab-df-convert\" onclick=\"convertToInteractive('df-9e2a89d9-f314-4297-a9da-1877725dce42')\"\n",
              "              title=\"Convert this dataframe to an interactive table.\"\n",
              "              style=\"display:none;\">\n",
              "        \n",
              "  <svg xmlns=\"http://www.w3.org/2000/svg\" height=\"24px\"viewBox=\"0 0 24 24\"\n",
              "       width=\"24px\">\n",
              "    <path d=\"M0 0h24v24H0V0z\" fill=\"none\"/>\n",
              "    <path d=\"M18.56 5.44l.94 2.06.94-2.06 2.06-.94-2.06-.94-.94-2.06-.94 2.06-2.06.94zm-11 1L8.5 8.5l.94-2.06 2.06-.94-2.06-.94L8.5 2.5l-.94 2.06-2.06.94zm10 10l.94 2.06.94-2.06 2.06-.94-2.06-.94-.94-2.06-.94 2.06-2.06.94z\"/><path d=\"M17.41 7.96l-1.37-1.37c-.4-.4-.92-.59-1.43-.59-.52 0-1.04.2-1.43.59L10.3 9.45l-7.72 7.72c-.78.78-.78 2.05 0 2.83L4 21.41c.39.39.9.59 1.41.59.51 0 1.02-.2 1.41-.59l7.78-7.78 2.81-2.81c.8-.78.8-2.07 0-2.86zM5.41 20L4 18.59l7.72-7.72 1.47 1.35L5.41 20z\"/>\n",
              "  </svg>\n",
              "      </button>\n",
              "      \n",
              "  <style>\n",
              "    .colab-df-container {\n",
              "      display:flex;\n",
              "      flex-wrap:wrap;\n",
              "      gap: 12px;\n",
              "    }\n",
              "\n",
              "    .colab-df-convert {\n",
              "      background-color: #E8F0FE;\n",
              "      border: none;\n",
              "      border-radius: 50%;\n",
              "      cursor: pointer;\n",
              "      display: none;\n",
              "      fill: #1967D2;\n",
              "      height: 32px;\n",
              "      padding: 0 0 0 0;\n",
              "      width: 32px;\n",
              "    }\n",
              "\n",
              "    .colab-df-convert:hover {\n",
              "      background-color: #E2EBFA;\n",
              "      box-shadow: 0px 1px 2px rgba(60, 64, 67, 0.3), 0px 1px 3px 1px rgba(60, 64, 67, 0.15);\n",
              "      fill: #174EA6;\n",
              "    }\n",
              "\n",
              "    [theme=dark] .colab-df-convert {\n",
              "      background-color: #3B4455;\n",
              "      fill: #D2E3FC;\n",
              "    }\n",
              "\n",
              "    [theme=dark] .colab-df-convert:hover {\n",
              "      background-color: #434B5C;\n",
              "      box-shadow: 0px 1px 3px 1px rgba(0, 0, 0, 0.15);\n",
              "      filter: drop-shadow(0px 1px 2px rgba(0, 0, 0, 0.3));\n",
              "      fill: #FFFFFF;\n",
              "    }\n",
              "  </style>\n",
              "\n",
              "      <script>\n",
              "        const buttonEl =\n",
              "          document.querySelector('#df-9e2a89d9-f314-4297-a9da-1877725dce42 button.colab-df-convert');\n",
              "        buttonEl.style.display =\n",
              "          google.colab.kernel.accessAllowed ? 'block' : 'none';\n",
              "\n",
              "        async function convertToInteractive(key) {\n",
              "          const element = document.querySelector('#df-9e2a89d9-f314-4297-a9da-1877725dce42');\n",
              "          const dataTable =\n",
              "            await google.colab.kernel.invokeFunction('convertToInteractive',\n",
              "                                                     [key], {});\n",
              "          if (!dataTable) return;\n",
              "\n",
              "          const docLinkHtml = 'Like what you see? Visit the ' +\n",
              "            '<a target=\"_blank\" href=https://colab.research.google.com/notebooks/data_table.ipynb>data table notebook</a>'\n",
              "            + ' to learn more about interactive tables.';\n",
              "          element.innerHTML = '';\n",
              "          dataTable['output_type'] = 'display_data';\n",
              "          await google.colab.output.renderOutput(dataTable, element);\n",
              "          const docLink = document.createElement('div');\n",
              "          docLink.innerHTML = docLinkHtml;\n",
              "          element.appendChild(docLink);\n",
              "        }\n",
              "      </script>\n",
              "    </div>\n",
              "  </div>\n",
              "  "
            ]
          },
          "metadata": {},
          "execution_count": 6
        }
      ]
    },
    {
      "cell_type": "code",
      "source": [
        "val_df"
      ],
      "metadata": {
        "id": "DbdHIPy4l0s_",
        "colab": {
          "base_uri": "https://localhost:8080/",
          "height": 424
        },
        "outputId": "1596e4d3-2077-4781-8237-ee6b1ca943e3"
      },
      "execution_count": 7,
      "outputs": [
        {
          "output_type": "execute_result",
          "data": {
            "text/plain": [
              "                                                    text emotions\n",
              "0        im starting to feel a lot less terrified of her     fear\n",
              "1      i can t appease everyone my lives are mainly i...  sadness\n",
              "2      i feel for him is so valuable absolute and rar...      joy\n",
              "3      i am friendly and so easy to talk to if only y...     fear\n",
              "4      i came into the game feeling a bit lonely and ...  sadness\n",
              "...                                                  ...      ...\n",
              "85406  i miss feeling insulted or feeling discouraged...    anger\n",
              "85407              i feel like they liked my rough draft     love\n",
              "85408  i just need to adjust my mindset to feel pleas...      joy\n",
              "85409  id be working a max of hours if theyre feeling...      joy\n",
              "85410  i feel very strongly against fake trees but si...  sadness\n",
              "\n",
              "[85411 rows x 2 columns]"
            ],
            "text/html": [
              "\n",
              "  <div id=\"df-99528bfd-0840-47ba-af03-8f9d8f42e80e\">\n",
              "    <div class=\"colab-df-container\">\n",
              "      <div>\n",
              "<style scoped>\n",
              "    .dataframe tbody tr th:only-of-type {\n",
              "        vertical-align: middle;\n",
              "    }\n",
              "\n",
              "    .dataframe tbody tr th {\n",
              "        vertical-align: top;\n",
              "    }\n",
              "\n",
              "    .dataframe thead th {\n",
              "        text-align: right;\n",
              "    }\n",
              "</style>\n",
              "<table border=\"1\" class=\"dataframe\">\n",
              "  <thead>\n",
              "    <tr style=\"text-align: right;\">\n",
              "      <th></th>\n",
              "      <th>text</th>\n",
              "      <th>emotions</th>\n",
              "    </tr>\n",
              "  </thead>\n",
              "  <tbody>\n",
              "    <tr>\n",
              "      <th>0</th>\n",
              "      <td>im starting to feel a lot less terrified of her</td>\n",
              "      <td>fear</td>\n",
              "    </tr>\n",
              "    <tr>\n",
              "      <th>1</th>\n",
              "      <td>i can t appease everyone my lives are mainly i...</td>\n",
              "      <td>sadness</td>\n",
              "    </tr>\n",
              "    <tr>\n",
              "      <th>2</th>\n",
              "      <td>i feel for him is so valuable absolute and rar...</td>\n",
              "      <td>joy</td>\n",
              "    </tr>\n",
              "    <tr>\n",
              "      <th>3</th>\n",
              "      <td>i am friendly and so easy to talk to if only y...</td>\n",
              "      <td>fear</td>\n",
              "    </tr>\n",
              "    <tr>\n",
              "      <th>4</th>\n",
              "      <td>i came into the game feeling a bit lonely and ...</td>\n",
              "      <td>sadness</td>\n",
              "    </tr>\n",
              "    <tr>\n",
              "      <th>...</th>\n",
              "      <td>...</td>\n",
              "      <td>...</td>\n",
              "    </tr>\n",
              "    <tr>\n",
              "      <th>85406</th>\n",
              "      <td>i miss feeling insulted or feeling discouraged...</td>\n",
              "      <td>anger</td>\n",
              "    </tr>\n",
              "    <tr>\n",
              "      <th>85407</th>\n",
              "      <td>i feel like they liked my rough draft</td>\n",
              "      <td>love</td>\n",
              "    </tr>\n",
              "    <tr>\n",
              "      <th>85408</th>\n",
              "      <td>i just need to adjust my mindset to feel pleas...</td>\n",
              "      <td>joy</td>\n",
              "    </tr>\n",
              "    <tr>\n",
              "      <th>85409</th>\n",
              "      <td>id be working a max of hours if theyre feeling...</td>\n",
              "      <td>joy</td>\n",
              "    </tr>\n",
              "    <tr>\n",
              "      <th>85410</th>\n",
              "      <td>i feel very strongly against fake trees but si...</td>\n",
              "      <td>sadness</td>\n",
              "    </tr>\n",
              "  </tbody>\n",
              "</table>\n",
              "<p>85411 rows × 2 columns</p>\n",
              "</div>\n",
              "      <button class=\"colab-df-convert\" onclick=\"convertToInteractive('df-99528bfd-0840-47ba-af03-8f9d8f42e80e')\"\n",
              "              title=\"Convert this dataframe to an interactive table.\"\n",
              "              style=\"display:none;\">\n",
              "        \n",
              "  <svg xmlns=\"http://www.w3.org/2000/svg\" height=\"24px\"viewBox=\"0 0 24 24\"\n",
              "       width=\"24px\">\n",
              "    <path d=\"M0 0h24v24H0V0z\" fill=\"none\"/>\n",
              "    <path d=\"M18.56 5.44l.94 2.06.94-2.06 2.06-.94-2.06-.94-.94-2.06-.94 2.06-2.06.94zm-11 1L8.5 8.5l.94-2.06 2.06-.94-2.06-.94L8.5 2.5l-.94 2.06-2.06.94zm10 10l.94 2.06.94-2.06 2.06-.94-2.06-.94-.94-2.06-.94 2.06-2.06.94z\"/><path d=\"M17.41 7.96l-1.37-1.37c-.4-.4-.92-.59-1.43-.59-.52 0-1.04.2-1.43.59L10.3 9.45l-7.72 7.72c-.78.78-.78 2.05 0 2.83L4 21.41c.39.39.9.59 1.41.59.51 0 1.02-.2 1.41-.59l7.78-7.78 2.81-2.81c.8-.78.8-2.07 0-2.86zM5.41 20L4 18.59l7.72-7.72 1.47 1.35L5.41 20z\"/>\n",
              "  </svg>\n",
              "      </button>\n",
              "      \n",
              "  <style>\n",
              "    .colab-df-container {\n",
              "      display:flex;\n",
              "      flex-wrap:wrap;\n",
              "      gap: 12px;\n",
              "    }\n",
              "\n",
              "    .colab-df-convert {\n",
              "      background-color: #E8F0FE;\n",
              "      border: none;\n",
              "      border-radius: 50%;\n",
              "      cursor: pointer;\n",
              "      display: none;\n",
              "      fill: #1967D2;\n",
              "      height: 32px;\n",
              "      padding: 0 0 0 0;\n",
              "      width: 32px;\n",
              "    }\n",
              "\n",
              "    .colab-df-convert:hover {\n",
              "      background-color: #E2EBFA;\n",
              "      box-shadow: 0px 1px 2px rgba(60, 64, 67, 0.3), 0px 1px 3px 1px rgba(60, 64, 67, 0.15);\n",
              "      fill: #174EA6;\n",
              "    }\n",
              "\n",
              "    [theme=dark] .colab-df-convert {\n",
              "      background-color: #3B4455;\n",
              "      fill: #D2E3FC;\n",
              "    }\n",
              "\n",
              "    [theme=dark] .colab-df-convert:hover {\n",
              "      background-color: #434B5C;\n",
              "      box-shadow: 0px 1px 3px 1px rgba(0, 0, 0, 0.15);\n",
              "      filter: drop-shadow(0px 1px 2px rgba(0, 0, 0, 0.3));\n",
              "      fill: #FFFFFF;\n",
              "    }\n",
              "  </style>\n",
              "\n",
              "      <script>\n",
              "        const buttonEl =\n",
              "          document.querySelector('#df-99528bfd-0840-47ba-af03-8f9d8f42e80e button.colab-df-convert');\n",
              "        buttonEl.style.display =\n",
              "          google.colab.kernel.accessAllowed ? 'block' : 'none';\n",
              "\n",
              "        async function convertToInteractive(key) {\n",
              "          const element = document.querySelector('#df-99528bfd-0840-47ba-af03-8f9d8f42e80e');\n",
              "          const dataTable =\n",
              "            await google.colab.kernel.invokeFunction('convertToInteractive',\n",
              "                                                     [key], {});\n",
              "          if (!dataTable) return;\n",
              "\n",
              "          const docLinkHtml = 'Like what you see? Visit the ' +\n",
              "            '<a target=\"_blank\" href=https://colab.research.google.com/notebooks/data_table.ipynb>data table notebook</a>'\n",
              "            + ' to learn more about interactive tables.';\n",
              "          element.innerHTML = '';\n",
              "          dataTable['output_type'] = 'display_data';\n",
              "          await google.colab.output.renderOutput(dataTable, element);\n",
              "          const docLink = document.createElement('div');\n",
              "          docLink.innerHTML = docLinkHtml;\n",
              "          element.appendChild(docLink);\n",
              "        }\n",
              "      </script>\n",
              "    </div>\n",
              "  </div>\n",
              "  "
            ]
          },
          "metadata": {},
          "execution_count": 7
        }
      ]
    },
    {
      "cell_type": "code",
      "source": [
        "balanced_test_df"
      ],
      "metadata": {
        "id": "TiJHw1f3cDIn",
        "colab": {
          "base_uri": "https://localhost:8080/",
          "height": 424
        },
        "outputId": "014c2c7b-a3bc-4360-f39e-bd85087bc727"
      },
      "execution_count": 8,
      "outputs": [
        {
          "output_type": "execute_result",
          "data": {
            "text/plain": [
              "                                                   text  emotions\n",
              "0     i will get at the heart of the matter that you...     anger\n",
              "1                i still feel selfish about it at times     anger\n",
              "2      i feel a sarcastic emptyness and void in my life     anger\n",
              "3     overeating a traditional type of food blood pu...     anger\n",
              "4     i just have this feeling that im going to be b...     anger\n",
              "...                                                 ...       ...\n",
              "6015    i am giving myself permission to feel funny aga  surprise\n",
              "6016                      i feel shocked angry confused  surprise\n",
              "6017  im writing this blog post and feeling totally ...  surprise\n",
              "6018  i feel this for all my grandchildren and with ...  surprise\n",
              "6019  i think that s the prevailing feeling with all...  surprise\n",
              "\n",
              "[6020 rows x 2 columns]"
            ],
            "text/html": [
              "\n",
              "  <div id=\"df-b7f0fd83-749c-43b1-8a8e-be927225808e\">\n",
              "    <div class=\"colab-df-container\">\n",
              "      <div>\n",
              "<style scoped>\n",
              "    .dataframe tbody tr th:only-of-type {\n",
              "        vertical-align: middle;\n",
              "    }\n",
              "\n",
              "    .dataframe tbody tr th {\n",
              "        vertical-align: top;\n",
              "    }\n",
              "\n",
              "    .dataframe thead th {\n",
              "        text-align: right;\n",
              "    }\n",
              "</style>\n",
              "<table border=\"1\" class=\"dataframe\">\n",
              "  <thead>\n",
              "    <tr style=\"text-align: right;\">\n",
              "      <th></th>\n",
              "      <th>text</th>\n",
              "      <th>emotions</th>\n",
              "    </tr>\n",
              "  </thead>\n",
              "  <tbody>\n",
              "    <tr>\n",
              "      <th>0</th>\n",
              "      <td>i will get at the heart of the matter that you...</td>\n",
              "      <td>anger</td>\n",
              "    </tr>\n",
              "    <tr>\n",
              "      <th>1</th>\n",
              "      <td>i still feel selfish about it at times</td>\n",
              "      <td>anger</td>\n",
              "    </tr>\n",
              "    <tr>\n",
              "      <th>2</th>\n",
              "      <td>i feel a sarcastic emptyness and void in my life</td>\n",
              "      <td>anger</td>\n",
              "    </tr>\n",
              "    <tr>\n",
              "      <th>3</th>\n",
              "      <td>overeating a traditional type of food blood pu...</td>\n",
              "      <td>anger</td>\n",
              "    </tr>\n",
              "    <tr>\n",
              "      <th>4</th>\n",
              "      <td>i just have this feeling that im going to be b...</td>\n",
              "      <td>anger</td>\n",
              "    </tr>\n",
              "    <tr>\n",
              "      <th>...</th>\n",
              "      <td>...</td>\n",
              "      <td>...</td>\n",
              "    </tr>\n",
              "    <tr>\n",
              "      <th>6015</th>\n",
              "      <td>i am giving myself permission to feel funny aga</td>\n",
              "      <td>surprise</td>\n",
              "    </tr>\n",
              "    <tr>\n",
              "      <th>6016</th>\n",
              "      <td>i feel shocked angry confused</td>\n",
              "      <td>surprise</td>\n",
              "    </tr>\n",
              "    <tr>\n",
              "      <th>6017</th>\n",
              "      <td>im writing this blog post and feeling totally ...</td>\n",
              "      <td>surprise</td>\n",
              "    </tr>\n",
              "    <tr>\n",
              "      <th>6018</th>\n",
              "      <td>i feel this for all my grandchildren and with ...</td>\n",
              "      <td>surprise</td>\n",
              "    </tr>\n",
              "    <tr>\n",
              "      <th>6019</th>\n",
              "      <td>i think that s the prevailing feeling with all...</td>\n",
              "      <td>surprise</td>\n",
              "    </tr>\n",
              "  </tbody>\n",
              "</table>\n",
              "<p>6020 rows × 2 columns</p>\n",
              "</div>\n",
              "      <button class=\"colab-df-convert\" onclick=\"convertToInteractive('df-b7f0fd83-749c-43b1-8a8e-be927225808e')\"\n",
              "              title=\"Convert this dataframe to an interactive table.\"\n",
              "              style=\"display:none;\">\n",
              "        \n",
              "  <svg xmlns=\"http://www.w3.org/2000/svg\" height=\"24px\"viewBox=\"0 0 24 24\"\n",
              "       width=\"24px\">\n",
              "    <path d=\"M0 0h24v24H0V0z\" fill=\"none\"/>\n",
              "    <path d=\"M18.56 5.44l.94 2.06.94-2.06 2.06-.94-2.06-.94-.94-2.06-.94 2.06-2.06.94zm-11 1L8.5 8.5l.94-2.06 2.06-.94-2.06-.94L8.5 2.5l-.94 2.06-2.06.94zm10 10l.94 2.06.94-2.06 2.06-.94-2.06-.94-.94-2.06-.94 2.06-2.06.94z\"/><path d=\"M17.41 7.96l-1.37-1.37c-.4-.4-.92-.59-1.43-.59-.52 0-1.04.2-1.43.59L10.3 9.45l-7.72 7.72c-.78.78-.78 2.05 0 2.83L4 21.41c.39.39.9.59 1.41.59.51 0 1.02-.2 1.41-.59l7.78-7.78 2.81-2.81c.8-.78.8-2.07 0-2.86zM5.41 20L4 18.59l7.72-7.72 1.47 1.35L5.41 20z\"/>\n",
              "  </svg>\n",
              "      </button>\n",
              "      \n",
              "  <style>\n",
              "    .colab-df-container {\n",
              "      display:flex;\n",
              "      flex-wrap:wrap;\n",
              "      gap: 12px;\n",
              "    }\n",
              "\n",
              "    .colab-df-convert {\n",
              "      background-color: #E8F0FE;\n",
              "      border: none;\n",
              "      border-radius: 50%;\n",
              "      cursor: pointer;\n",
              "      display: none;\n",
              "      fill: #1967D2;\n",
              "      height: 32px;\n",
              "      padding: 0 0 0 0;\n",
              "      width: 32px;\n",
              "    }\n",
              "\n",
              "    .colab-df-convert:hover {\n",
              "      background-color: #E2EBFA;\n",
              "      box-shadow: 0px 1px 2px rgba(60, 64, 67, 0.3), 0px 1px 3px 1px rgba(60, 64, 67, 0.15);\n",
              "      fill: #174EA6;\n",
              "    }\n",
              "\n",
              "    [theme=dark] .colab-df-convert {\n",
              "      background-color: #3B4455;\n",
              "      fill: #D2E3FC;\n",
              "    }\n",
              "\n",
              "    [theme=dark] .colab-df-convert:hover {\n",
              "      background-color: #434B5C;\n",
              "      box-shadow: 0px 1px 3px 1px rgba(0, 0, 0, 0.15);\n",
              "      filter: drop-shadow(0px 1px 2px rgba(0, 0, 0, 0.3));\n",
              "      fill: #FFFFFF;\n",
              "    }\n",
              "  </style>\n",
              "\n",
              "      <script>\n",
              "        const buttonEl =\n",
              "          document.querySelector('#df-b7f0fd83-749c-43b1-8a8e-be927225808e button.colab-df-convert');\n",
              "        buttonEl.style.display =\n",
              "          google.colab.kernel.accessAllowed ? 'block' : 'none';\n",
              "\n",
              "        async function convertToInteractive(key) {\n",
              "          const element = document.querySelector('#df-b7f0fd83-749c-43b1-8a8e-be927225808e');\n",
              "          const dataTable =\n",
              "            await google.colab.kernel.invokeFunction('convertToInteractive',\n",
              "                                                     [key], {});\n",
              "          if (!dataTable) return;\n",
              "\n",
              "          const docLinkHtml = 'Like what you see? Visit the ' +\n",
              "            '<a target=\"_blank\" href=https://colab.research.google.com/notebooks/data_table.ipynb>data table notebook</a>'\n",
              "            + ' to learn more about interactive tables.';\n",
              "          element.innerHTML = '';\n",
              "          dataTable['output_type'] = 'display_data';\n",
              "          await google.colab.output.renderOutput(dataTable, element);\n",
              "          const docLink = document.createElement('div');\n",
              "          docLink.innerHTML = docLinkHtml;\n",
              "          element.appendChild(docLink);\n",
              "        }\n",
              "      </script>\n",
              "    </div>\n",
              "  </div>\n",
              "  "
            ]
          },
          "metadata": {},
          "execution_count": 8
        }
      ]
    },
    {
      "cell_type": "markdown",
      "metadata": {
        "id": "6IFXAvHAcWhN"
      },
      "source": [
        "***\n",
        "## 2 Tokenizer"
      ]
    },
    {
      "cell_type": "markdown",
      "source": [
        "### Find the top word count (frequency > 10)\n",
        "We'll use this number as our vocabulary size"
      ],
      "metadata": {
        "id": "s4tMqwk8mRsF"
      }
    },
    {
      "cell_type": "code",
      "source": [
        "# Split the text column into a list of words\n",
        "words_df = train_df['text'].str.split().to_frame('words')\n",
        "\n",
        "# Explode the list of words into separate rows\n",
        "words_df = words_df.explode('words')\n",
        "\n",
        "# Group by the words and count their occurrences\n",
        "words_df = words_df.groupby('words').size().reset_index(name='count')\n",
        "words_df"
      ],
      "metadata": {
        "id": "WboHk47gn6Mm",
        "colab": {
          "base_uri": "https://localhost:8080/",
          "height": 424
        },
        "outputId": "96e23bf0-c266-43c6-fd93-36c106371e03"
      },
      "execution_count": 9,
      "outputs": [
        {
          "output_type": "execute_result",
          "data": {
            "text/plain": [
              "                          words  count\n",
              "0                             !     43\n",
              "1                            !!      9\n",
              "2                           !!!      3\n",
              "3                          !!!!      1\n",
              "4                  !!!!!!!!!!!!      1\n",
              "...                         ...    ...\n",
              "73765  ï¿½o_0ï¿½*giggles*ï¿½who      1\n",
              "73766                ï¿½tearï¿½      1\n",
              "73767                   ï¿½ureo      1\n",
              "73768                   ï¿½why?      1\n",
              "73769                    ï¿½ï¿½      2\n",
              "\n",
              "[73770 rows x 2 columns]"
            ],
            "text/html": [
              "\n",
              "  <div id=\"df-e2dac7bd-df78-4734-be20-c2009935ca1a\">\n",
              "    <div class=\"colab-df-container\">\n",
              "      <div>\n",
              "<style scoped>\n",
              "    .dataframe tbody tr th:only-of-type {\n",
              "        vertical-align: middle;\n",
              "    }\n",
              "\n",
              "    .dataframe tbody tr th {\n",
              "        vertical-align: top;\n",
              "    }\n",
              "\n",
              "    .dataframe thead th {\n",
              "        text-align: right;\n",
              "    }\n",
              "</style>\n",
              "<table border=\"1\" class=\"dataframe\">\n",
              "  <thead>\n",
              "    <tr style=\"text-align: right;\">\n",
              "      <th></th>\n",
              "      <th>words</th>\n",
              "      <th>count</th>\n",
              "    </tr>\n",
              "  </thead>\n",
              "  <tbody>\n",
              "    <tr>\n",
              "      <th>0</th>\n",
              "      <td>!</td>\n",
              "      <td>43</td>\n",
              "    </tr>\n",
              "    <tr>\n",
              "      <th>1</th>\n",
              "      <td>!!</td>\n",
              "      <td>9</td>\n",
              "    </tr>\n",
              "    <tr>\n",
              "      <th>2</th>\n",
              "      <td>!!!</td>\n",
              "      <td>3</td>\n",
              "    </tr>\n",
              "    <tr>\n",
              "      <th>3</th>\n",
              "      <td>!!!!</td>\n",
              "      <td>1</td>\n",
              "    </tr>\n",
              "    <tr>\n",
              "      <th>4</th>\n",
              "      <td>!!!!!!!!!!!!</td>\n",
              "      <td>1</td>\n",
              "    </tr>\n",
              "    <tr>\n",
              "      <th>...</th>\n",
              "      <td>...</td>\n",
              "      <td>...</td>\n",
              "    </tr>\n",
              "    <tr>\n",
              "      <th>73765</th>\n",
              "      <td>ï¿½o_0ï¿½*giggles*ï¿½who</td>\n",
              "      <td>1</td>\n",
              "    </tr>\n",
              "    <tr>\n",
              "      <th>73766</th>\n",
              "      <td>ï¿½tearï¿½</td>\n",
              "      <td>1</td>\n",
              "    </tr>\n",
              "    <tr>\n",
              "      <th>73767</th>\n",
              "      <td>ï¿½ureo</td>\n",
              "      <td>1</td>\n",
              "    </tr>\n",
              "    <tr>\n",
              "      <th>73768</th>\n",
              "      <td>ï¿½why?</td>\n",
              "      <td>1</td>\n",
              "    </tr>\n",
              "    <tr>\n",
              "      <th>73769</th>\n",
              "      <td>ï¿½ï¿½</td>\n",
              "      <td>2</td>\n",
              "    </tr>\n",
              "  </tbody>\n",
              "</table>\n",
              "<p>73770 rows × 2 columns</p>\n",
              "</div>\n",
              "      <button class=\"colab-df-convert\" onclick=\"convertToInteractive('df-e2dac7bd-df78-4734-be20-c2009935ca1a')\"\n",
              "              title=\"Convert this dataframe to an interactive table.\"\n",
              "              style=\"display:none;\">\n",
              "        \n",
              "  <svg xmlns=\"http://www.w3.org/2000/svg\" height=\"24px\"viewBox=\"0 0 24 24\"\n",
              "       width=\"24px\">\n",
              "    <path d=\"M0 0h24v24H0V0z\" fill=\"none\"/>\n",
              "    <path d=\"M18.56 5.44l.94 2.06.94-2.06 2.06-.94-2.06-.94-.94-2.06-.94 2.06-2.06.94zm-11 1L8.5 8.5l.94-2.06 2.06-.94-2.06-.94L8.5 2.5l-.94 2.06-2.06.94zm10 10l.94 2.06.94-2.06 2.06-.94-2.06-.94-.94-2.06-.94 2.06-2.06.94z\"/><path d=\"M17.41 7.96l-1.37-1.37c-.4-.4-.92-.59-1.43-.59-.52 0-1.04.2-1.43.59L10.3 9.45l-7.72 7.72c-.78.78-.78 2.05 0 2.83L4 21.41c.39.39.9.59 1.41.59.51 0 1.02-.2 1.41-.59l7.78-7.78 2.81-2.81c.8-.78.8-2.07 0-2.86zM5.41 20L4 18.59l7.72-7.72 1.47 1.35L5.41 20z\"/>\n",
              "  </svg>\n",
              "      </button>\n",
              "      \n",
              "  <style>\n",
              "    .colab-df-container {\n",
              "      display:flex;\n",
              "      flex-wrap:wrap;\n",
              "      gap: 12px;\n",
              "    }\n",
              "\n",
              "    .colab-df-convert {\n",
              "      background-color: #E8F0FE;\n",
              "      border: none;\n",
              "      border-radius: 50%;\n",
              "      cursor: pointer;\n",
              "      display: none;\n",
              "      fill: #1967D2;\n",
              "      height: 32px;\n",
              "      padding: 0 0 0 0;\n",
              "      width: 32px;\n",
              "    }\n",
              "\n",
              "    .colab-df-convert:hover {\n",
              "      background-color: #E2EBFA;\n",
              "      box-shadow: 0px 1px 2px rgba(60, 64, 67, 0.3), 0px 1px 3px 1px rgba(60, 64, 67, 0.15);\n",
              "      fill: #174EA6;\n",
              "    }\n",
              "\n",
              "    [theme=dark] .colab-df-convert {\n",
              "      background-color: #3B4455;\n",
              "      fill: #D2E3FC;\n",
              "    }\n",
              "\n",
              "    [theme=dark] .colab-df-convert:hover {\n",
              "      background-color: #434B5C;\n",
              "      box-shadow: 0px 1px 3px 1px rgba(0, 0, 0, 0.15);\n",
              "      filter: drop-shadow(0px 1px 2px rgba(0, 0, 0, 0.3));\n",
              "      fill: #FFFFFF;\n",
              "    }\n",
              "  </style>\n",
              "\n",
              "      <script>\n",
              "        const buttonEl =\n",
              "          document.querySelector('#df-e2dac7bd-df78-4734-be20-c2009935ca1a button.colab-df-convert');\n",
              "        buttonEl.style.display =\n",
              "          google.colab.kernel.accessAllowed ? 'block' : 'none';\n",
              "\n",
              "        async function convertToInteractive(key) {\n",
              "          const element = document.querySelector('#df-e2dac7bd-df78-4734-be20-c2009935ca1a');\n",
              "          const dataTable =\n",
              "            await google.colab.kernel.invokeFunction('convertToInteractive',\n",
              "                                                     [key], {});\n",
              "          if (!dataTable) return;\n",
              "\n",
              "          const docLinkHtml = 'Like what you see? Visit the ' +\n",
              "            '<a target=\"_blank\" href=https://colab.research.google.com/notebooks/data_table.ipynb>data table notebook</a>'\n",
              "            + ' to learn more about interactive tables.';\n",
              "          element.innerHTML = '';\n",
              "          dataTable['output_type'] = 'display_data';\n",
              "          await google.colab.output.renderOutput(dataTable, element);\n",
              "          const docLink = document.createElement('div');\n",
              "          docLink.innerHTML = docLinkHtml;\n",
              "          element.appendChild(docLink);\n",
              "        }\n",
              "      </script>\n",
              "    </div>\n",
              "  </div>\n",
              "  "
            ]
          },
          "metadata": {},
          "execution_count": 9
        }
      ]
    },
    {
      "cell_type": "code",
      "source": [
        "# find the words with 'count' > 10\n",
        "condition = words_df['count'] > 10\n",
        "\n",
        "# sort the words based on count\n",
        "new_words_df = words_df[condition].sort_values('count', ascending=False)\n",
        "new_words_df"
      ],
      "metadata": {
        "id": "rjvGdb_erVyw",
        "colab": {
          "base_uri": "https://localhost:8080/",
          "height": 424
        },
        "outputId": "556914cd-4f72-436c-bf74-ebd99598beb0"
      },
      "execution_count": 10,
      "outputs": [
        {
          "output_type": "execute_result",
          "data": {
            "text/plain": [
              "            words   count\n",
              "35522           i  406035\n",
              "28222        feel  173555\n",
              "10149         and  150667\n",
              "66570          to  140963\n",
              "65637         the  131883\n",
              "...           ...     ...\n",
              "66925        tore      11\n",
              "24444       doula      11\n",
              "11821    autonomy      11\n",
              "48630  operations      11\n",
              "24343    doorstep      11\n",
              "\n",
              "[11039 rows x 2 columns]"
            ],
            "text/html": [
              "\n",
              "  <div id=\"df-7aa071f1-1a91-4f68-a908-c2c205e05aed\">\n",
              "    <div class=\"colab-df-container\">\n",
              "      <div>\n",
              "<style scoped>\n",
              "    .dataframe tbody tr th:only-of-type {\n",
              "        vertical-align: middle;\n",
              "    }\n",
              "\n",
              "    .dataframe tbody tr th {\n",
              "        vertical-align: top;\n",
              "    }\n",
              "\n",
              "    .dataframe thead th {\n",
              "        text-align: right;\n",
              "    }\n",
              "</style>\n",
              "<table border=\"1\" class=\"dataframe\">\n",
              "  <thead>\n",
              "    <tr style=\"text-align: right;\">\n",
              "      <th></th>\n",
              "      <th>words</th>\n",
              "      <th>count</th>\n",
              "    </tr>\n",
              "  </thead>\n",
              "  <tbody>\n",
              "    <tr>\n",
              "      <th>35522</th>\n",
              "      <td>i</td>\n",
              "      <td>406035</td>\n",
              "    </tr>\n",
              "    <tr>\n",
              "      <th>28222</th>\n",
              "      <td>feel</td>\n",
              "      <td>173555</td>\n",
              "    </tr>\n",
              "    <tr>\n",
              "      <th>10149</th>\n",
              "      <td>and</td>\n",
              "      <td>150667</td>\n",
              "    </tr>\n",
              "    <tr>\n",
              "      <th>66570</th>\n",
              "      <td>to</td>\n",
              "      <td>140963</td>\n",
              "    </tr>\n",
              "    <tr>\n",
              "      <th>65637</th>\n",
              "      <td>the</td>\n",
              "      <td>131883</td>\n",
              "    </tr>\n",
              "    <tr>\n",
              "      <th>...</th>\n",
              "      <td>...</td>\n",
              "      <td>...</td>\n",
              "    </tr>\n",
              "    <tr>\n",
              "      <th>66925</th>\n",
              "      <td>tore</td>\n",
              "      <td>11</td>\n",
              "    </tr>\n",
              "    <tr>\n",
              "      <th>24444</th>\n",
              "      <td>doula</td>\n",
              "      <td>11</td>\n",
              "    </tr>\n",
              "    <tr>\n",
              "      <th>11821</th>\n",
              "      <td>autonomy</td>\n",
              "      <td>11</td>\n",
              "    </tr>\n",
              "    <tr>\n",
              "      <th>48630</th>\n",
              "      <td>operations</td>\n",
              "      <td>11</td>\n",
              "    </tr>\n",
              "    <tr>\n",
              "      <th>24343</th>\n",
              "      <td>doorstep</td>\n",
              "      <td>11</td>\n",
              "    </tr>\n",
              "  </tbody>\n",
              "</table>\n",
              "<p>11039 rows × 2 columns</p>\n",
              "</div>\n",
              "      <button class=\"colab-df-convert\" onclick=\"convertToInteractive('df-7aa071f1-1a91-4f68-a908-c2c205e05aed')\"\n",
              "              title=\"Convert this dataframe to an interactive table.\"\n",
              "              style=\"display:none;\">\n",
              "        \n",
              "  <svg xmlns=\"http://www.w3.org/2000/svg\" height=\"24px\"viewBox=\"0 0 24 24\"\n",
              "       width=\"24px\">\n",
              "    <path d=\"M0 0h24v24H0V0z\" fill=\"none\"/>\n",
              "    <path d=\"M18.56 5.44l.94 2.06.94-2.06 2.06-.94-2.06-.94-.94-2.06-.94 2.06-2.06.94zm-11 1L8.5 8.5l.94-2.06 2.06-.94-2.06-.94L8.5 2.5l-.94 2.06-2.06.94zm10 10l.94 2.06.94-2.06 2.06-.94-2.06-.94-.94-2.06-.94 2.06-2.06.94z\"/><path d=\"M17.41 7.96l-1.37-1.37c-.4-.4-.92-.59-1.43-.59-.52 0-1.04.2-1.43.59L10.3 9.45l-7.72 7.72c-.78.78-.78 2.05 0 2.83L4 21.41c.39.39.9.59 1.41.59.51 0 1.02-.2 1.41-.59l7.78-7.78 2.81-2.81c.8-.78.8-2.07 0-2.86zM5.41 20L4 18.59l7.72-7.72 1.47 1.35L5.41 20z\"/>\n",
              "  </svg>\n",
              "      </button>\n",
              "      \n",
              "  <style>\n",
              "    .colab-df-container {\n",
              "      display:flex;\n",
              "      flex-wrap:wrap;\n",
              "      gap: 12px;\n",
              "    }\n",
              "\n",
              "    .colab-df-convert {\n",
              "      background-color: #E8F0FE;\n",
              "      border: none;\n",
              "      border-radius: 50%;\n",
              "      cursor: pointer;\n",
              "      display: none;\n",
              "      fill: #1967D2;\n",
              "      height: 32px;\n",
              "      padding: 0 0 0 0;\n",
              "      width: 32px;\n",
              "    }\n",
              "\n",
              "    .colab-df-convert:hover {\n",
              "      background-color: #E2EBFA;\n",
              "      box-shadow: 0px 1px 2px rgba(60, 64, 67, 0.3), 0px 1px 3px 1px rgba(60, 64, 67, 0.15);\n",
              "      fill: #174EA6;\n",
              "    }\n",
              "\n",
              "    [theme=dark] .colab-df-convert {\n",
              "      background-color: #3B4455;\n",
              "      fill: #D2E3FC;\n",
              "    }\n",
              "\n",
              "    [theme=dark] .colab-df-convert:hover {\n",
              "      background-color: #434B5C;\n",
              "      box-shadow: 0px 1px 3px 1px rgba(0, 0, 0, 0.15);\n",
              "      filter: drop-shadow(0px 1px 2px rgba(0, 0, 0, 0.3));\n",
              "      fill: #FFFFFF;\n",
              "    }\n",
              "  </style>\n",
              "\n",
              "      <script>\n",
              "        const buttonEl =\n",
              "          document.querySelector('#df-7aa071f1-1a91-4f68-a908-c2c205e05aed button.colab-df-convert');\n",
              "        buttonEl.style.display =\n",
              "          google.colab.kernel.accessAllowed ? 'block' : 'none';\n",
              "\n",
              "        async function convertToInteractive(key) {\n",
              "          const element = document.querySelector('#df-7aa071f1-1a91-4f68-a908-c2c205e05aed');\n",
              "          const dataTable =\n",
              "            await google.colab.kernel.invokeFunction('convertToInteractive',\n",
              "                                                     [key], {});\n",
              "          if (!dataTable) return;\n",
              "\n",
              "          const docLinkHtml = 'Like what you see? Visit the ' +\n",
              "            '<a target=\"_blank\" href=https://colab.research.google.com/notebooks/data_table.ipynb>data table notebook</a>'\n",
              "            + ' to learn more about interactive tables.';\n",
              "          element.innerHTML = '';\n",
              "          dataTable['output_type'] = 'display_data';\n",
              "          await google.colab.output.renderOutput(dataTable, element);\n",
              "          const docLink = document.createElement('div');\n",
              "          docLink.innerHTML = docLinkHtml;\n",
              "          element.appendChild(docLink);\n",
              "        }\n",
              "      </script>\n",
              "    </div>\n",
              "  </div>\n",
              "  "
            ]
          },
          "metadata": {},
          "execution_count": 10
        }
      ]
    },
    {
      "cell_type": "code",
      "source": [
        "# how many words are > 10?\n",
        "top_word_count = len(new_words_df)\n",
        "print('Vocabulary size:', top_word_count)"
      ],
      "metadata": {
        "id": "RJehRAE2zWhl",
        "colab": {
          "base_uri": "https://localhost:8080/"
        },
        "outputId": "d74ee191-d828-4bff-c429-526d5edabab8"
      },
      "execution_count": 11,
      "outputs": [
        {
          "output_type": "stream",
          "name": "stdout",
          "text": [
            "Vocabulary size: 11039\n"
          ]
        }
      ]
    },
    {
      "cell_type": "markdown",
      "source": [
        "### Let's tokenize the train tweets!"
      ],
      "metadata": {
        "id": "GSm2HlDyzZ8_"
      }
    },
    {
      "cell_type": "code",
      "source": [
        "from tensorflow.keras.preprocessing.text import Tokenizer"
      ],
      "metadata": {
        "id": "gCxK46QPyoe1"
      },
      "execution_count": 12,
      "outputs": []
    },
    {
      "cell_type": "code",
      "source": [
        "tokenizer = Tokenizer(num_words=top_word_count, oov_token='<UNK>')\n",
        "tokenizer.fit_on_texts(train_df['text']) # pass in tweets from training set"
      ],
      "metadata": {
        "id": "5bs47LbLwBl4"
      },
      "execution_count": 13,
      "outputs": []
    },
    {
      "cell_type": "code",
      "source": [
        "# this is what the tweet looks like as words\n",
        "train_df['text'][0]"
      ],
      "metadata": {
        "id": "DPD0Tjjuy0Ko",
        "colab": {
          "base_uri": "https://localhost:8080/",
          "height": 35
        },
        "outputId": "50cc9f9d-53b0-4383-cef5-c6715f386beb"
      },
      "execution_count": 14,
      "outputs": [
        {
          "output_type": "execute_result",
          "data": {
            "text/plain": [
              "'ive been feeling rather jealous'"
            ],
            "application/vnd.google.colaboratory.intrinsic+json": {
              "type": "string"
            }
          },
          "metadata": {},
          "execution_count": 14
        }
      ]
    },
    {
      "cell_type": "code",
      "source": [
        "# this is what the tokenized version of the tweet looks like\n",
        "tokenizer.texts_to_sequences([train_df['text'][0]])"
      ],
      "metadata": {
        "id": "yHPzHkTcye8y",
        "colab": {
          "base_uri": "https://localhost:8080/"
        },
        "outputId": "7dbb356c-5a0a-40b5-cae9-157c5f719391"
      },
      "execution_count": 15,
      "outputs": [
        {
          "output_type": "execute_result",
          "data": {
            "text/plain": [
              "[[74, 47, 8, 194, 427]]"
            ]
          },
          "metadata": {},
          "execution_count": 15
        }
      ]
    },
    {
      "cell_type": "code",
      "source": [
        "import matplotlib.pyplot as plt\n",
        "\n",
        "# check to see what lenghts of the tweets in the dataset\n",
        "lengths = [len(t.split(' ')) for t in train_df['text']]\n",
        "plt.hist(lengths, bins=len(set(lengths)))"
      ],
      "metadata": {
        "id": "NtdXLYGFjcPO",
        "colab": {
          "base_uri": "https://localhost:8080/",
          "height": 926
        },
        "outputId": "08559fba-1055-4b29-d2d9-f408de5f1b86"
      },
      "execution_count": 16,
      "outputs": [
        {
          "output_type": "execute_result",
          "data": {
            "text/plain": [
              "(array([2.7100e+02, 8.3600e+02, 4.9050e+03, 1.7587e+04, 1.0099e+04,\n",
              "        9.9730e+03, 1.0327e+04, 2.0549e+04, 1.0492e+04, 1.0265e+04,\n",
              "        1.0004e+04, 1.9662e+04, 9.2690e+03, 9.1240e+03, 8.4760e+03,\n",
              "        1.5868e+04, 7.4850e+03, 6.7480e+03, 1.2427e+04, 5.6720e+03,\n",
              "        5.1510e+03, 4.7190e+03, 8.3660e+03, 3.5790e+03, 3.2520e+03,\n",
              "        3.0450e+03, 5.3200e+03, 2.3020e+03, 2.0350e+03, 1.8770e+03,\n",
              "        3.2480e+03, 1.4790e+03, 1.3510e+03, 2.2750e+03, 9.8900e+02,\n",
              "        9.3000e+02, 8.1000e+02, 1.3820e+03, 5.7900e+02, 5.5500e+02,\n",
              "        5.3000e+02, 8.3000e+02, 3.5300e+02, 3.0100e+02, 2.3900e+02,\n",
              "        3.1500e+02, 1.0900e+02, 8.1000e+01, 1.0200e+02, 2.8000e+01,\n",
              "        1.8000e+01, 1.4000e+01, 1.2000e+01, 5.0000e+00, 0.0000e+00,\n",
              "        1.0000e+00, 2.0000e+00, 3.0000e+00, 1.0000e+00, 1.0000e+00,\n",
              "        1.0000e+00, 1.0000e+00, 0.0000e+00, 0.0000e+00, 0.0000e+00,\n",
              "        0.0000e+00, 0.0000e+00, 0.0000e+00, 0.0000e+00, 0.0000e+00,\n",
              "        0.0000e+00, 0.0000e+00, 0.0000e+00, 0.0000e+00, 0.0000e+00,\n",
              "        0.0000e+00, 0.0000e+00, 0.0000e+00, 2.0000e+00]),\n",
              " array([  1.        ,   2.26582278,   3.53164557,   4.79746835,\n",
              "          6.06329114,   7.32911392,   8.59493671,   9.86075949,\n",
              "         11.12658228,  12.39240506,  13.65822785,  14.92405063,\n",
              "         16.18987342,  17.4556962 ,  18.72151899,  19.98734177,\n",
              "         21.25316456,  22.51898734,  23.78481013,  25.05063291,\n",
              "         26.3164557 ,  27.58227848,  28.84810127,  30.11392405,\n",
              "         31.37974684,  32.64556962,  33.91139241,  35.17721519,\n",
              "         36.44303797,  37.70886076,  38.97468354,  40.24050633,\n",
              "         41.50632911,  42.7721519 ,  44.03797468,  45.30379747,\n",
              "         46.56962025,  47.83544304,  49.10126582,  50.36708861,\n",
              "         51.63291139,  52.89873418,  54.16455696,  55.43037975,\n",
              "         56.69620253,  57.96202532,  59.2278481 ,  60.49367089,\n",
              "         61.75949367,  63.02531646,  64.29113924,  65.55696203,\n",
              "         66.82278481,  68.08860759,  69.35443038,  70.62025316,\n",
              "         71.88607595,  73.15189873,  74.41772152,  75.6835443 ,\n",
              "         76.94936709,  78.21518987,  79.48101266,  80.74683544,\n",
              "         82.01265823,  83.27848101,  84.5443038 ,  85.81012658,\n",
              "         87.07594937,  88.34177215,  89.60759494,  90.87341772,\n",
              "         92.13924051,  93.40506329,  94.67088608,  95.93670886,\n",
              "         97.20253165,  98.46835443,  99.73417722, 101.        ]),\n",
              " <BarContainer object of 79 artists>)"
            ]
          },
          "metadata": {},
          "execution_count": 16
        },
        {
          "output_type": "display_data",
          "data": {
            "text/plain": [
              "<Figure size 432x288 with 1 Axes>"
            ],
            "image/png": "[encoded data removed]"
          },
          "metadata": {
            "needs_background": "light"
          }
        }
      ]
    },
    {
      "cell_type": "code",
      "source": [
        "import statistics\n",
        "\n",
        "# Apply the lambda function to the 'content' column and list called word_count_list'\n",
        "word_count_list = list(train_df['text'].apply(lambda x: len(x.split(' '))))\n",
        "\n",
        "# display the maximum and minimum lengths\n",
        "print('Maximum word count:', max(word_count_list))\n",
        "print('Minimum word count:', min(word_count_list))\n",
        "print('Mean word count:', statistics.mean(word_count_list))\n",
        "print('Median word count:', statistics.median(word_count_list))\n",
        "print('75th percentile word count:', np.percentile(word_count_list, 75))\n",
        "print('85th percentile word count:', np.percentile(word_count_list, 85))\n",
        "print('95th percentile word count:', np.percentile(word_count_list, 95))"
      ],
      "metadata": {
        "id": "Ht7mWyXS18Sd",
        "colab": {
          "base_uri": "https://localhost:8080/"
        },
        "outputId": "52a2fd67-439d-43a7-bda6-9af99b8b890f"
      },
      "execution_count": 17,
      "outputs": [
        {
          "output_type": "stream",
          "name": "stdout",
          "text": [
            "Maximum word count: 101\n",
            "Minimum word count: 1\n",
            "Mean word count: 18.995761653501514\n",
            "Median word count: 17.0\n",
            "75th percentile word count: 25.0\n",
            "85th percentile word count: 30.0\n",
            "95th percentile word count: 41.0\n"
          ]
        }
      ]
    },
    {
      "cell_type": "markdown",
      "source": [
        "The max number of words is 101. We ultimately decided that we are going to keep all the words in the tweet. BERT can handle more than 200 so setting max_len = 200"
      ],
      "metadata": {
        "id": "G9ZVTKh01wGa"
      }
    },
    {
      "cell_type": "markdown",
      "source": [
        "***\n",
        "## 3 Padding and truncating the training data sequences to make sure that the shape is the same for each string."
      ],
      "metadata": {
        "id": "59O4aXaA0ljh"
      }
    },
    {
      "cell_type": "code",
      "source": [
        "from tensorflow.keras.preprocessing.sequence import pad_sequences"
      ],
      "metadata": {
        "id": "Y715X4Xg0zSg"
      },
      "execution_count": 18,
      "outputs": []
    },
    {
      "cell_type": "code",
      "execution_count": 19,
      "metadata": {
        "id": "iEuNYWMScWhY"
      },
      "outputs": [],
      "source": [
        "max_len = 200 # set the largest tweet size, >200 words -> truncate, <200 words -> pad\n",
        "\n",
        "def get_sequences(tokenizer, tweets):\n",
        "  sequences = tokenizer.texts_to_sequences(tweets)\n",
        "  padded = pad_sequences(sequences, truncating='post', padding='post', maxlen=max_len) # truncating happens at the end of the sequence (post)\n",
        "  return padded # all examples will be the returned with same input size"
      ]
    },
    {
      "cell_type": "code",
      "source": [
        "padded_train_seq = get_sequences(tokenizer, train_df['text'])\n",
        "padded_train_seq[0]"
      ],
      "metadata": {
        "id": "V2CMHoto0plB",
        "colab": {
          "base_uri": "https://localhost:8080/"
        },
        "outputId": "32ad4a92-40e6-4159-df4d-0a842db9c94a"
      },
      "execution_count": 20,
      "outputs": [
        {
          "output_type": "execute_result",
          "data": {
            "text/plain": [
              "array([ 74,  47,   8, 194, 427,   0,   0,   0,   0,   0,   0,   0,   0,\n",
              "         0,   0,   0,   0,   0,   0,   0,   0,   0,   0,   0,   0,   0,\n",
              "         0,   0,   0,   0,   0,   0,   0,   0,   0,   0,   0,   0,   0,\n",
              "         0,   0,   0,   0,   0,   0,   0,   0,   0,   0,   0,   0,   0,\n",
              "         0,   0,   0,   0,   0,   0,   0,   0,   0,   0,   0,   0,   0,\n",
              "         0,   0,   0,   0,   0,   0,   0,   0,   0,   0,   0,   0,   0,\n",
              "         0,   0,   0,   0,   0,   0,   0,   0,   0,   0,   0,   0,   0,\n",
              "         0,   0,   0,   0,   0,   0,   0,   0,   0,   0,   0,   0,   0,\n",
              "         0,   0,   0,   0,   0,   0,   0,   0,   0,   0,   0,   0,   0,\n",
              "         0,   0,   0,   0,   0,   0,   0,   0,   0,   0,   0,   0,   0,\n",
              "         0,   0,   0,   0,   0,   0,   0,   0,   0,   0,   0,   0,   0,\n",
              "         0,   0,   0,   0,   0,   0,   0,   0,   0,   0,   0,   0,   0,\n",
              "         0,   0,   0,   0,   0,   0,   0,   0,   0,   0,   0,   0,   0,\n",
              "         0,   0,   0,   0,   0,   0,   0,   0,   0,   0,   0,   0,   0,\n",
              "         0,   0,   0,   0,   0,   0,   0,   0,   0,   0,   0,   0,   0,\n",
              "         0,   0,   0,   0,   0], dtype=int32)"
            ]
          },
          "metadata": {},
          "execution_count": 20
        }
      ]
    },
    {
      "cell_type": "markdown",
      "source": [
        "***\n",
        "## 4 Convert labels to numeric"
      ],
      "metadata": {
        "id": "wAVdCL7s2YA6"
      }
    },
    {
      "cell_type": "markdown",
      "source": [
        "### Function to convert text labels to numeric (reuse for all datasets)"
      ],
      "metadata": {
        "id": "cjoAOp23ROll"
      }
    },
    {
      "cell_type": "code",
      "source": [
        "def convert_labels_to_numeric(data):\n",
        "  classes = set(data)\n",
        "\n",
        "  # convert class to index\n",
        "  c_to_i = dict((c, i) for i, c in enumerate(classes))\n",
        "  i_to_c = dict((v, k) for k, v in c_to_i.items())\n",
        "  \n",
        "  return c_to_i"
      ],
      "metadata": {
        "id": "lLaCJSQV8_3E"
      },
      "execution_count": 21,
      "outputs": []
    },
    {
      "cell_type": "code",
      "source": [
        "class_to_index_dict = convert_labels_to_numeric(train_df['emotions'])\n",
        "class_to_index_dict"
      ],
      "metadata": {
        "id": "Fz-HIqgg9WTn",
        "colab": {
          "base_uri": "https://localhost:8080/"
        },
        "outputId": "455f0dac-6dec-40a5-bbaa-59b311d69bdd"
      },
      "execution_count": 22,
      "outputs": [
        {
          "output_type": "execute_result",
          "data": {
            "text/plain": [
              "{'joy': 0,\n",
              " 'love': 1,\n",
              " 'surprise': 2,\n",
              " 'sadness': 3,\n",
              " 'fear': 4,\n",
              " 'neutral': 5,\n",
              " 'anger': 6}"
            ]
          },
          "metadata": {},
          "execution_count": 22
        }
      ]
    },
    {
      "cell_type": "code",
      "source": [
        "def names_to_ids(class_to_index, data):\n",
        "  return np.array([class_to_index.get(x) for x in data])"
      ],
      "metadata": {
        "id": "LshrgGmE3Vw1"
      },
      "execution_count": 23,
      "outputs": []
    },
    {
      "cell_type": "code",
      "source": [
        "# confirming if it worked (change index) and they should line up with above dict\n",
        "index = 7\n",
        "train_labels = names_to_ids(class_to_index_dict, train_df['emotions'])\n",
        "print('train_df.iloc[7]:\\n', train_df.iloc[index])\n",
        "print('numeric label:', train_labels[index])"
      ],
      "metadata": {
        "id": "6EKQbC433hL-",
        "colab": {
          "base_uri": "https://localhost:8080/"
        },
        "outputId": "a4d78dbd-f758-48f1-cd45-4f229c7f8367"
      },
      "execution_count": 24,
      "outputs": [
        {
          "output_type": "stream",
          "name": "stdout",
          "text": [
            "train_df.iloc[7]:\n",
            " text        i do think that with a heartfelt discussion my...\n",
            "emotions                                                 fear\n",
            "Name: 7, dtype: object\n",
            "numeric label: 4\n"
          ]
        }
      ]
    },
    {
      "cell_type": "markdown",
      "source": [
        "***\n",
        "## 5 Create the model"
      ],
      "metadata": {
        "id": "JqCOVtUd5SN1"
      }
    },
    {
      "cell_type": "code",
      "source": [
        "%matplotlib inline\n",
        "\n",
        "import tensorflow as tf\n",
        "import matplotlib.pyplot as plt\n",
        "import random\n",
        "\n",
        "def show_history(h):\n",
        "    epochs_trained = len(h.history['loss'])\n",
        "    plt.figure(figsize=(16, 6))\n",
        "\n",
        "    plt.subplot(1, 2, 1)\n",
        "    plt.plot(range(0, epochs_trained), h.history.get('accuracy'), label='Training')\n",
        "    plt.plot(range(0, epochs_trained), h.history.get('val_accuracy'), label='Validation')\n",
        "    plt.ylim([0., 1.])\n",
        "    plt.xlabel('Epochs')\n",
        "    plt.ylabel('Accuracy')\n",
        "    plt.legend()\n",
        "\n",
        "    plt.subplot(1, 2, 2)\n",
        "    plt.plot(range(0, epochs_trained), h.history.get('loss'), label='Training')\n",
        "    plt.plot(range(0, epochs_trained), h.history.get('val_loss'), label='Validation')\n",
        "    plt.xlabel('Epochs')\n",
        "    plt.ylabel('Loss')\n",
        "    plt.legend()\n",
        "    plt.show()\n",
        "    \n",
        "print('Using TensorFlow version', tf.__version__)"
      ],
      "metadata": {
        "id": "0x19MiiQ5s7S",
        "colab": {
          "base_uri": "https://localhost:8080/"
        },
        "outputId": "a26c1b48-b821-4cdc-e098-212f86233125"
      },
      "execution_count": 25,
      "outputs": [
        {
          "output_type": "stream",
          "name": "stdout",
          "text": [
            "Using TensorFlow version 2.11.0\n"
          ]
        }
      ]
    },
    {
      "cell_type": "code",
      "source": [
        "# ref: https://machinelearningmastery.com/develop-bidirectional-lstm-sequence-classification-python-keras/\n",
        "# ref: https://analyticsindiamag.com/complete-guide-to-bidirectional-lstm-with-python-codes/\n",
        "# ref: https://stackoverflow.com/questions/40331510/how-to-stack-multiple-lstm-in-keras\n",
        "\n",
        "model = tf.keras.models.Sequential([\n",
        "    tf.keras.layers.Embedding(input_dim=top_word_count, output_dim=8, input_length=max_len),\n",
        "    \n",
        "    # the RNN part of the model\n",
        "    # tf.keras.layers.Bidirectional(tf.keras.layers.LSTM(10, return_sequences=True)), # since using an LSTM layer inside a bidrectional layer, context can go in either direction; return_sequences=True means at every time step, there is an output\n",
        "    tf.keras.layers.Bidirectional(tf.keras.layers.LSTM(10, )),\n",
        "\n",
        "    tf.keras.layers.Dense(7, activation='softmax') # 7 for the seven classes\n",
        "\n",
        "])\n",
        "\n",
        "model.compile(\n",
        "    loss='sparse_categorical_crossentropy', # since this is a multiclass classification problem, use categorical crossentropy; since classes are integers (not one hot encoded/binary), use sparse (just like in A3)\n",
        "    optimizer='adam',\n",
        "    metrics=['accuracy']\n",
        ")"
      ],
      "metadata": {
        "id": "ZmbxOHXS5VoW"
      },
      "execution_count": 26,
      "outputs": []
    },
    {
      "cell_type": "code",
      "source": [
        "model.summary()"
      ],
      "metadata": {
        "id": "zsYrBdzP6lNv",
        "colab": {
          "base_uri": "https://localhost:8080/"
        },
        "outputId": "900bff04-e65c-4393-892d-cd874df6f13a"
      },
      "execution_count": 27,
      "outputs": [
        {
          "output_type": "stream",
          "name": "stdout",
          "text": [
            "Model: \"sequential\"\n",
            "_________________________________________________________________\n",
            " Layer (type)                Output Shape              Param #   \n",
            "=================================================================\n",
            " embedding (Embedding)       (None, 200, 8)            88312     \n",
            "                                                                 \n",
            " bidirectional (Bidirectiona  (None, 20)               1520      \n",
            " l)                                                              \n",
            "                                                                 \n",
            " dense (Dense)               (None, 7)                 147       \n",
            "                                                                 \n",
            "=================================================================\n",
            "Total params: 89,979\n",
            "Trainable params: 89,979\n",
            "Non-trainable params: 0\n",
            "_________________________________________________________________\n"
          ]
        }
      ]
    },
    {
      "cell_type": "markdown",
      "source": [
        "***\n",
        "## 6 Train the model"
      ],
      "metadata": {
        "id": "idlS4gpC67sM"
      }
    },
    {
      "cell_type": "markdown",
      "source": [
        "### Convert the labels of the validation set to numeric (just like the training set)"
      ],
      "metadata": {
        "id": "lQQwKn13Qrm9"
      }
    },
    {
      "cell_type": "code",
      "source": [
        "# reminder of the class_to_index mapping\n",
        "class_to_index_dict"
      ],
      "metadata": {
        "id": "yNF1izoe_fPt",
        "colab": {
          "base_uri": "https://localhost:8080/"
        },
        "outputId": "7c572c59-2326-4695-c3ba-a028bfdc61ee"
      },
      "execution_count": 28,
      "outputs": [
        {
          "output_type": "execute_result",
          "data": {
            "text/plain": [
              "{'joy': 0,\n",
              " 'love': 1,\n",
              " 'surprise': 2,\n",
              " 'sadness': 3,\n",
              " 'fear': 4,\n",
              " 'neutral': 5,\n",
              " 'anger': 6}"
            ]
          },
          "metadata": {},
          "execution_count": 28
        }
      ]
    },
    {
      "cell_type": "code",
      "source": [
        "val_seq = get_sequences(tokenizer, val_df['text'])\n",
        "val_labels = names_to_ids(class_to_index_dict, val_df['emotions'])"
      ],
      "metadata": {
        "id": "bQmthZKy7B6A"
      },
      "execution_count": 29,
      "outputs": []
    },
    {
      "cell_type": "code",
      "source": [
        "# checking out the first input in validation sequence\n",
        "val_seq[0], val_df['text'][0], val_df['emotions'][0]"
      ],
      "metadata": {
        "id": "b1KDU5Hi8IWQ",
        "colab": {
          "base_uri": "https://localhost:8080/"
        },
        "outputId": "98f98325-2e25-4fa6-d148-b9d7ae273ada"
      },
      "execution_count": 30,
      "outputs": [
        {
          "output_type": "execute_result",
          "data": {
            "text/plain": [
              "(array([ 17, 306,   5,   3,   7, 160, 170, 486,  10,  68,   0,   0,   0,\n",
              "          0,   0,   0,   0,   0,   0,   0,   0,   0,   0,   0,   0,   0,\n",
              "          0,   0,   0,   0,   0,   0,   0,   0,   0,   0,   0,   0,   0,\n",
              "          0,   0,   0,   0,   0,   0,   0,   0,   0,   0,   0,   0,   0,\n",
              "          0,   0,   0,   0,   0,   0,   0,   0,   0,   0,   0,   0,   0,\n",
              "          0,   0,   0,   0,   0,   0,   0,   0,   0,   0,   0,   0,   0,\n",
              "          0,   0,   0,   0,   0,   0,   0,   0,   0,   0,   0,   0,   0,\n",
              "          0,   0,   0,   0,   0,   0,   0,   0,   0,   0,   0,   0,   0,\n",
              "          0,   0,   0,   0,   0,   0,   0,   0,   0,   0,   0,   0,   0,\n",
              "          0,   0,   0,   0,   0,   0,   0,   0,   0,   0,   0,   0,   0,\n",
              "          0,   0,   0,   0,   0,   0,   0,   0,   0,   0,   0,   0,   0,\n",
              "          0,   0,   0,   0,   0,   0,   0,   0,   0,   0,   0,   0,   0,\n",
              "          0,   0,   0,   0,   0,   0,   0,   0,   0,   0,   0,   0,   0,\n",
              "          0,   0,   0,   0,   0,   0,   0,   0,   0,   0,   0,   0,   0,\n",
              "          0,   0,   0,   0,   0,   0,   0,   0,   0,   0,   0,   0,   0,\n",
              "          0,   0,   0,   0,   0], dtype=int32),\n",
              " 'im starting to feel a lot less terrified of her',\n",
              " 'fear')"
            ]
          },
          "metadata": {},
          "execution_count": 30
        }
      ]
    },
    {
      "cell_type": "code",
      "source": [
        "print('val_df.iloc[0]:\\n', val_df.iloc[0])\n",
        "print('numeric label:', val_labels[0])"
      ],
      "metadata": {
        "id": "VCjxGzpW7rCT",
        "colab": {
          "base_uri": "https://localhost:8080/"
        },
        "outputId": "1826fae1-6507-4127-fd56-4a9aff5210e3"
      },
      "execution_count": 31,
      "outputs": [
        {
          "output_type": "stream",
          "name": "stdout",
          "text": [
            "val_df.iloc[0]:\n",
            " text        im starting to feel a lot less terrified of her\n",
            "emotions                                               fear\n",
            "Name: 0, dtype: object\n",
            "numeric label: 4\n"
          ]
        }
      ]
    },
    {
      "cell_type": "markdown",
      "source": [
        "#### Check out the shape to make sure they're as expected"
      ],
      "metadata": {
        "id": "RdCRJ_QdQ2B6"
      }
    },
    {
      "cell_type": "code",
      "source": [
        "padded_train_seq.shape"
      ],
      "metadata": {
        "id": "ynlY2BgkA7in",
        "colab": {
          "base_uri": "https://localhost:8080/"
        },
        "outputId": "55b43cba-fc39-4b1d-ce1d-de690507ad0c"
      },
      "execution_count": 32,
      "outputs": [
        {
          "output_type": "execute_result",
          "data": {
            "text/plain": [
              "(256232, 200)"
            ]
          },
          "metadata": {},
          "execution_count": 32
        }
      ]
    },
    {
      "cell_type": "code",
      "source": [
        "train_labels.shape"
      ],
      "metadata": {
        "id": "Y5fiYZr7Bz0W",
        "colab": {
          "base_uri": "https://localhost:8080/"
        },
        "outputId": "15a614ba-b2f5-4335-f886-01105b063a0f"
      },
      "execution_count": 33,
      "outputs": [
        {
          "output_type": "execute_result",
          "data": {
            "text/plain": [
              "(256232,)"
            ]
          },
          "metadata": {},
          "execution_count": 33
        }
      ]
    },
    {
      "cell_type": "code",
      "source": [
        "val_seq.shape"
      ],
      "metadata": {
        "id": "Ht_KveuuB30e",
        "colab": {
          "base_uri": "https://localhost:8080/"
        },
        "outputId": "90776271-4636-4a5a-8112-03eb581bf76a"
      },
      "execution_count": 34,
      "outputs": [
        {
          "output_type": "execute_result",
          "data": {
            "text/plain": [
              "(85411, 200)"
            ]
          },
          "metadata": {},
          "execution_count": 34
        }
      ]
    },
    {
      "cell_type": "code",
      "source": [
        "val_labels.shape"
      ],
      "metadata": {
        "id": "jN1vULmpB6gE",
        "colab": {
          "base_uri": "https://localhost:8080/"
        },
        "outputId": "d7df764a-83ac-4758-ae4b-a3f8e6aa4719"
      },
      "execution_count": 35,
      "outputs": [
        {
          "output_type": "execute_result",
          "data": {
            "text/plain": [
              "(85411,)"
            ]
          },
          "metadata": {},
          "execution_count": 35
        }
      ]
    },
    {
      "cell_type": "markdown",
      "source": [
        "### From Natalie's Notebook\n",
        "https://github.com/datasci-w266/2023-spring-main/blob/master/materials/walkthrough_notebooks/keras_with_limited_ram/keras_training_with_limited_ram.ipynb<br><br>\n",
        "https://edstem.org/us/courses/32607/discussion/2699088?comment=6229916"
      ],
      "metadata": {
        "id": "yIzq6Av3QPt8"
      }
    },
    {
      "cell_type": "markdown",
      "source": [
        "#### Inspired by Natalie's notebook, made my own generator that chunks up my data into pieces that won't make my machine run out of memory before completing one epoch"
      ],
      "metadata": {
        "id": "xXt_pSdk8hNd"
      }
    },
    {
      "cell_type": "code",
      "source": [
        "from sklearn.utils.random import sample_without_replacement\n",
        "\n",
        "# Define a generator function\n",
        "def generator(data, labels, batch_size):\n",
        "    # num_samples = len(data)\n",
        "    # while True:\n",
        "    #     indices = np.random.randint(num_samples, size=batch_size)\n",
        "    #     yield data[indices], labels[indices]\n",
        "\n",
        "    # Loop over batches\n",
        "    for i in range(0, len(data), batch_size):\n",
        "      \n",
        "      # Get a batch of indices using sample_without_replacement()\n",
        "      batch_indices = sample_without_replacement(n_population=len(data), n_samples=batch_size)\n",
        "      \n",
        "      # Yield a batch of features and labels using the indices\n",
        "      yield data[batch_indices], labels[batch_indices]"
      ],
      "metadata": {
        "id": "VqlRB7kLgciK"
      },
      "execution_count": 36,
      "outputs": []
    },
    {
      "cell_type": "code",
      "source": [
        "# Create the generator\n",
        "# batch_size = 1 # using this batch size because that's what seemed reasonable based on the number of records in the training dataset\n",
        "# gen = generator(data=padded_train_seq, labels=train_labels, batch_size=batch_size)"
      ],
      "metadata": {
        "id": "nct6qudng5T4"
      },
      "execution_count": 37,
      "outputs": []
    },
    {
      "cell_type": "code",
      "source": [
        "!ls '/content/gdrive/MyDrive/266_Final_Project_Folder/cm_working_dir/cm_checkpoints/'"
      ],
      "metadata": {
        "id": "UYF2mq-rnikf",
        "colab": {
          "base_uri": "https://localhost:8080/"
        },
        "outputId": "92c075f9-fed3-4d5a-c574-cab819f17efa"
      },
      "execution_count": 38,
      "outputs": [
        {
          "output_type": "stream",
          "name": "stdout",
          "text": [
            "archive\t\t      weights.02-0.96.hdf5  weights.04-0.98.hdf5\n",
            "weights.01-0.92.hdf5  weights.02-0.98.hdf5  weights.04-0.99.hdf5\n",
            "weights.01-0.97.hdf5  weights.02-0.99.hdf5  weights.05-0.98.hdf5\n",
            "weights.01-0.98.hdf5  weights.03-0.97.hdf5  weights.05-0.99.hdf5\n",
            "weights.01-0.99.hdf5  weights.03-0.99.hdf5\n"
          ]
        }
      ]
    },
    {
      "cell_type": "code",
      "source": [
        "checkpoint_dir = project_folder + '/cm_working_dir/cm_checkpoints'\n",
        "checkpoint_filepath = checkpoint_dir + '/weights.{epoch:02d}-{val_accuracy:.2f}.hdf5'\n",
        "model_checkpoint_callback = tf.keras.callbacks.ModelCheckpoint(\n",
        "    filepath=checkpoint_filepath,\n",
        "    save_weights_only=True)"
      ],
      "metadata": {
        "id": "fWUjoVx_oQ1p"
      },
      "execution_count": 39,
      "outputs": []
    },
    {
      "cell_type": "code",
      "source": [
        "print(checkpoint_filepath)"
      ],
      "metadata": {
        "id": "vEGdADVWY5aV",
        "colab": {
          "base_uri": "https://localhost:8080/"
        },
        "outputId": "be34fec7-f931-4ac6-b7dd-10cab55ad3a5"
      },
      "execution_count": 40,
      "outputs": [
        {
          "output_type": "stream",
          "name": "stdout",
          "text": [
            "/content/gdrive/MyDrive/266_Final_Project_Folder/cm_working_dir/cm_checkpoints/weights.{epoch:02d}-{val_accuracy:.2f}.hdf5\n"
          ]
        }
      ]
    },
    {
      "cell_type": "markdown",
      "source": [
        "### Training the Model!!!"
      ],
      "metadata": {
        "id": "Tu0tD3XEQYxO"
      }
    },
    {
      "cell_type": "markdown",
      "source": [
        "##### Uncomment cell below to load checkpoints; else keep commented to start fresh"
      ],
      "metadata": {
        "id": "kGXLqEfMvIUu"
      }
    },
    {
      "cell_type": "code",
      "source": [
        "# uncomment below when loading checkpoints\n",
        "# hdf5_checkpoint = 'weights.05-0.99' # change this to the right filename for the checkpoint\n",
        "# checkpoint_filepath = checkpoint_dir + '/' + hdf5_checkpoint + '.hdf5'\n",
        "# model.load_weights(checkpoint_filepath)"
      ],
      "metadata": {
        "id": "wm6zmRBWPA4F"
      },
      "execution_count": 41,
      "outputs": []
    },
    {
      "cell_type": "code",
      "source": [
        "# steps_per_epoch = len(padded_train_seq) // batch_size\n",
        "\n",
        "# history = model.fit(\n",
        "#     gen,\n",
        "#     validation_data=(val_seq, val_labels),\n",
        "#     steps_per_epoch=steps_per_epoch,\n",
        "#     epochs=1,\n",
        "#     callbacks=[\n",
        "#         tf.keras.callbacks.EarlyStopping(monitor='val_accuracy', patience=2), # if model doesn't see improvement in val_accuracy after 2 epochs, it will stop training\n",
        "#         model_checkpoint_callback\n",
        "#     ]\n",
        "# )"
      ],
      "metadata": {
        "id": "WrvGsgIf9Z2W"
      },
      "execution_count": 42,
      "outputs": []
    },
    {
      "cell_type": "markdown",
      "source": [
        "##### Training a fresh model (don't run this if running cells above)"
      ],
      "metadata": {
        "id": "nrrGcqfzvbnA"
      }
    },
    {
      "cell_type": "code",
      "source": [
        "batch_size = 64\n",
        "steps_per_epoch = len(padded_train_seq) / batch_size\n",
        "\n",
        "history = model.fit(\n",
        "    # gen,\n",
        "    padded_train_seq,\n",
        "    train_labels,\n",
        "    validation_data=(val_seq, val_labels),\n",
        "    steps_per_epoch=steps_per_epoch,\n",
        "    epochs=5,\n",
        "    callbacks=[\n",
        "        tf.keras.callbacks.EarlyStopping(monitor='val_accuracy', patience=2), # if model doesn't see improvement in val_accuracy after 2 epochs, it will stop training\n",
        "        model_checkpoint_callback\n",
        "    ]\n",
        ")"
      ],
      "metadata": {
        "colab": {
          "base_uri": "https://localhost:8080/"
        },
        "id": "oCfI-LfAn9nR",
        "outputId": "7868d514-5fd2-4a79-c9b3-392ff3f1d357"
      },
      "execution_count": 43,
      "outputs": [
        {
          "output_type": "stream",
          "name": "stdout",
          "text": [
            "Epoch 1/5\n",
            "4003/4003 [==============================] - 131s 30ms/step - loss: 0.6152 - accuracy: 0.7940 - val_loss: 0.2002 - val_accuracy: 0.9381\n",
            "Epoch 2/5\n",
            "4003/4003 [==============================] - 80s 20ms/step - loss: 0.1350 - accuracy: 0.9619 - val_loss: 0.1018 - val_accuracy: 0.9708\n",
            "Epoch 3/5\n",
            "4003/4003 [==============================] - 83s 21ms/step - loss: 0.0772 - accuracy: 0.9772 - val_loss: 0.0850 - val_accuracy: 0.9735\n",
            "Epoch 4/5\n",
            "4003/4003 [==============================] - 85s 21ms/step - loss: 0.0547 - accuracy: 0.9835 - val_loss: 0.0719 - val_accuracy: 0.9781\n",
            "Epoch 5/5\n",
            "4003/4003 [==============================] - 81s 20ms/step - loss: 0.0433 - accuracy: 0.9868 - val_loss: 0.0627 - val_accuracy: 0.9812\n"
          ]
        }
      ]
    },
    {
      "cell_type": "code",
      "source": [
        "show_history(history)"
      ],
      "metadata": {
        "colab": {
          "base_uri": "https://localhost:8080/",
          "height": 392
        },
        "id": "1mfKwJdT1YFz",
        "outputId": "556d93b5-323b-478c-8fcb-85b940f5bbe2"
      },
      "execution_count": 44,
      "outputs": [
        {
          "output_type": "display_data",
          "data": {
            "text/plain": [
              "<Figure size 1152x432 with 2 Axes>"
            ],
            "image/png": "[encoded data removed]"
          },
          "metadata": {
            "needs_background": "light"
          }
        }
      ]
    },
    {
      "cell_type": "markdown",
      "source": [
        "***\n",
        "## 7 Evaluate the model using imbalanced test_df"
      ],
      "metadata": {
        "id": "cBYWJDCg5eN1"
      }
    },
    {
      "cell_type": "code",
      "source": [
        "# classification report (cr) and confusion matrix (cm) from A3\n",
        "from sklearn.metrics import classification_report\n",
        "import seaborn as sns\n",
        "\n",
        "def make_cr_cm(preds, labels):\n",
        "\n",
        "  predictions_model = tf.argmax(preds, axis=-1)\n",
        "  predictions_model\n",
        "\n",
        "  # convert labels to string because classification_report needs target_names as str\n",
        "  # labels are currently ints, but will change to str of in (i.e. '0', '1', etc)\n",
        "  class_names = list(set([str(digit) for digit in labels]))\n",
        "\n",
        "  # convert digits in target_names to the actual name of the emotion from the \n",
        "  # using class_to_index dictionary (i.e. '0' -> 'love', '5' -> 'neutral', etc.)\n",
        "  class_names = [list(class_to_index_dict.keys())[list(class_to_index_dict.values()).index(int(name))] for name in class_names]\n",
        "\n",
        "  print('Classification Report:\\n\\n', classification_report(labels, predictions_model.numpy(), target_names=class_names))\n",
        "\n",
        "  print('Confusion Matrix:\\n')\n",
        "  # confusion matrix from A3\n",
        "  cm = tf.math.confusion_matrix(labels, predictions_model)\n",
        "  cm = cm/cm.numpy().sum(axis=1)[:, tf.newaxis]\n",
        "\n",
        "  plt.figure(figsize=(20,7))\n",
        "  sns.heatmap(\n",
        "      cm, annot=True,\n",
        "      xticklabels=class_names,\n",
        "      yticklabels=class_names)\n",
        "  plt.xlabel(\"Predicted\")\n",
        "  plt.ylabel(\"True\")\n",
        "  plt.show()"
      ],
      "metadata": {
        "id": "nDap2-694dQM"
      },
      "execution_count": 76,
      "outputs": []
    },
    {
      "cell_type": "markdown",
      "source": [
        "### Padding the imbalanced test set for evaluation"
      ],
      "metadata": {
        "id": "_a6PRIxbbDzo"
      }
    },
    {
      "cell_type": "code",
      "source": [
        "padded_test_seq = get_sequences(tokenizer, test_df['text'])\n",
        "padded_test_seq[0]"
      ],
      "metadata": {
        "colab": {
          "base_uri": "https://localhost:8080/"
        },
        "id": "gEMdQ78M2Rz-",
        "outputId": "9c51cd4f-41b1-4636-f234-ce5a814b32cd"
      },
      "execution_count": 46,
      "outputs": [
        {
          "output_type": "execute_result",
          "data": {
            "text/plain": [
              "array([  2,   3, 537,   5,  54, 885, 754,   0,   0,   0,   0,   0,   0,\n",
              "         0,   0,   0,   0,   0,   0,   0,   0,   0,   0,   0,   0,   0,\n",
              "         0,   0,   0,   0,   0,   0,   0,   0,   0,   0,   0,   0,   0,\n",
              "         0,   0,   0,   0,   0,   0,   0,   0,   0,   0,   0,   0,   0,\n",
              "         0,   0,   0,   0,   0,   0,   0,   0,   0,   0,   0,   0,   0,\n",
              "         0,   0,   0,   0,   0,   0,   0,   0,   0,   0,   0,   0,   0,\n",
              "         0,   0,   0,   0,   0,   0,   0,   0,   0,   0,   0,   0,   0,\n",
              "         0,   0,   0,   0,   0,   0,   0,   0,   0,   0,   0,   0,   0,\n",
              "         0,   0,   0,   0,   0,   0,   0,   0,   0,   0,   0,   0,   0,\n",
              "         0,   0,   0,   0,   0,   0,   0,   0,   0,   0,   0,   0,   0,\n",
              "         0,   0,   0,   0,   0,   0,   0,   0,   0,   0,   0,   0,   0,\n",
              "         0,   0,   0,   0,   0,   0,   0,   0,   0,   0,   0,   0,   0,\n",
              "         0,   0,   0,   0,   0,   0,   0,   0,   0,   0,   0,   0,   0,\n",
              "         0,   0,   0,   0,   0,   0,   0,   0,   0,   0,   0,   0,   0,\n",
              "         0,   0,   0,   0,   0,   0,   0,   0,   0,   0,   0,   0,   0,\n",
              "         0,   0,   0,   0,   0], dtype=int32)"
            ]
          },
          "metadata": {},
          "execution_count": 46
        }
      ]
    },
    {
      "cell_type": "code",
      "source": [
        "# reminder of the class_to_index mapping\n",
        "class_to_index_dict"
      ],
      "metadata": {
        "colab": {
          "base_uri": "https://localhost:8080/"
        },
        "id": "jBACmE2L2sW1",
        "outputId": "2a27292b-c00b-4b7c-8137-ce253ae71d7f"
      },
      "execution_count": 47,
      "outputs": [
        {
          "output_type": "execute_result",
          "data": {
            "text/plain": [
              "{'joy': 0,\n",
              " 'love': 1,\n",
              " 'surprise': 2,\n",
              " 'sadness': 3,\n",
              " 'fear': 4,\n",
              " 'neutral': 5,\n",
              " 'anger': 6}"
            ]
          },
          "metadata": {},
          "execution_count": 47
        }
      ]
    },
    {
      "cell_type": "code",
      "source": [
        "# confirming if it worked (change index) and they should line up with above dict\n",
        "index = 7\n",
        "test_labels = names_to_ids(class_to_index_dict, test_df['emotions'])\n",
        "print('test_df.iloc[7]:\\n', test_df.iloc[index])\n",
        "print('numeric label:', test_labels[index])"
      ],
      "metadata": {
        "colab": {
          "base_uri": "https://localhost:8080/"
        },
        "id": "YbXURKrqVaou",
        "outputId": "a0f6410f-cd3b-44b1-fdb7-0f95cb86326e"
      },
      "execution_count": 48,
      "outputs": [
        {
          "output_type": "stream",
          "name": "stdout",
          "text": [
            "test_df.iloc[7]:\n",
            " text        i never orgasm the feeling is lovely\n",
            "emotions                                    love\n",
            "Name: 7, dtype: object\n",
            "numeric label: 1\n"
          ]
        }
      ]
    },
    {
      "cell_type": "markdown",
      "source": [
        "### Evaluating the model using test_df!!!"
      ],
      "metadata": {
        "id": "3sQ_CJUk6cHw"
      }
    },
    {
      "cell_type": "code",
      "source": [
        "model.evaluate(padded_test_seq, test_labels)"
      ],
      "metadata": {
        "colab": {
          "base_uri": "https://localhost:8080/"
        },
        "id": "053kYMU11ufb",
        "outputId": "e4ae45a0-3413-4677-c6ed-5c8a807b1813"
      },
      "execution_count": 49,
      "outputs": [
        {
          "output_type": "stream",
          "name": "stdout",
          "text": [
            "1187/1187 [==============================] - 9s 8ms/step - loss: 0.0629 - accuracy: 0.9803\n"
          ]
        },
        {
          "output_type": "execute_result",
          "data": {
            "text/plain": [
              "[0.06292107701301575, 0.9803482294082642]"
            ]
          },
          "metadata": {},
          "execution_count": 49
        }
      ]
    },
    {
      "cell_type": "code",
      "source": [
        "# printing out a random tweet and its label, then calling\n",
        "# model.predict to see what the model predicts\n",
        "i = random.randint(0, len(test_labels) - 1)\n",
        "\n",
        "print('Sentence:', test_df.iloc[i])\n",
        "print('Emotion:', test_labels[i])\n",
        "\n",
        "p = model.predict(np.expand_dims(padded_test_seq[i], axis=0))[0]\n",
        "pred_class = np.argmax(p).astype('uint8')\n",
        "\n",
        "print('Predicted Emotion:', pred_class)"
      ],
      "metadata": {
        "colab": {
          "base_uri": "https://localhost:8080/"
        },
        "id": "wyu3GMil3mJX",
        "outputId": "6a9cd4d0-7f7d-4f07-d7d6-83c46fd732e5"
      },
      "execution_count": 50,
      "outputs": [
        {
          "output_type": "stream",
          "name": "stdout",
          "text": [
            "Sentence: text        i know the miles have got you feeling low\n",
            "emotions                                      sadness\n",
            "Name: 9736, dtype: object\n",
            "Emotion: 3\n",
            "1/1 [==============================] - 1s 720ms/step\n",
            "Predicted Emotion: 3\n"
          ]
        }
      ]
    },
    {
      "cell_type": "code",
      "source": [
        "preds_imbalanced_test_set = model.predict(padded_test_seq)"
      ],
      "metadata": {
        "colab": {
          "base_uri": "https://localhost:8080/"
        },
        "id": "91fRNuUubO7U",
        "outputId": "9920583c-e63b-46b3-9fd3-fca6d96fc930"
      },
      "execution_count": 78,
      "outputs": [
        {
          "output_type": "stream",
          "name": "stdout",
          "text": [
            "1187/1187 [==============================] - 7s 6ms/step\n"
          ]
        }
      ]
    },
    {
      "cell_type": "code",
      "source": [
        "make_cr_cm(preds_imbalanced_test_set, test_labels)"
      ],
      "metadata": {
        "colab": {
          "base_uri": "https://localhost:8080/",
          "height": 763
        },
        "id": "0d24DBx7-Jft",
        "outputId": "ee9fbeba-4890-428d-f78c-b97484d2982a"
      },
      "execution_count": 79,
      "outputs": [
        {
          "output_type": "stream",
          "name": "stdout",
          "text": [
            "Classification Report:\n",
            "               precision    recall  f1-score   support\n",
            "\n",
            "        love       0.99      0.98      0.99     12917\n",
            "     sadness       0.98      0.99      0.98      2434\n",
            "        fear       0.96      0.97      0.97       982\n",
            "       anger       0.98      0.99      0.98     11587\n",
            "    surprise       0.97      0.97      0.97      3955\n",
            "     neutral       0.92      0.97      0.95       860\n",
            "         joy       0.98      0.96      0.97      5226\n",
            "\n",
            "    accuracy                           0.98     37961\n",
            "   macro avg       0.97      0.98      0.97     37961\n",
            "weighted avg       0.98      0.98      0.98     37961\n",
            "\n",
            "\n",
            "Confusion Matrix:\n",
            "\n"
          ]
        },
        {
          "output_type": "display_data",
          "data": {
            "text/plain": [
              "<Figure size 1440x504 with 2 Axes>"
            ],
            "image/png": "[encoded data removed]"
          },
          "metadata": {
            "needs_background": "light"
          }
        }
      ]
    },
    {
      "cell_type": "markdown",
      "source": [
        "***\n",
        "## 8 Evaluating the model again, but with balanced_test_df!!!"
      ],
      "metadata": {
        "id": "3-ekehsJ54yk"
      }
    },
    {
      "cell_type": "markdown",
      "source": [
        "### Padding the balanced test set for evaluation"
      ],
      "metadata": {
        "id": "OSNNBLBDbU_J"
      }
    },
    {
      "cell_type": "code",
      "source": [
        "padded_balanced_test_seq = get_sequences(tokenizer, balanced_test_df['text'])\n",
        "padded_balanced_test_seq[0]"
      ],
      "metadata": {
        "colab": {
          "base_uri": "https://localhost:8080/"
        },
        "id": "z_w8r3SeVAWx",
        "outputId": "3babec92-bb44-4cb1-b4d1-323c07d2f9ab"
      },
      "execution_count": 62,
      "outputs": [
        {
          "output_type": "execute_result",
          "data": {
            "text/plain": [
              "array([   2,   57,   54,   33,    6,  233,   10,    6,  507,    9,   31,\n",
              "        114,   31,   69,   25,    4,    3,   60,    6,  233,    9, 1084,\n",
              "         31,   36,  141,  731,    6, 2215,   10,  121, 7038,   10,  107,\n",
              "         31,  796, 1263,   19,    7, 1046,  881,    1, 2250,    0,    0,\n",
              "          0,    0,    0,    0,    0,    0,    0,    0,    0,    0,    0,\n",
              "          0,    0,    0,    0,    0,    0,    0,    0,    0,    0,    0,\n",
              "          0,    0,    0,    0,    0,    0,    0,    0,    0,    0,    0,\n",
              "          0,    0,    0,    0,    0,    0,    0,    0,    0,    0,    0,\n",
              "          0,    0,    0,    0,    0,    0,    0,    0,    0,    0,    0,\n",
              "          0,    0,    0,    0,    0,    0,    0,    0,    0,    0,    0,\n",
              "          0,    0,    0,    0,    0,    0,    0,    0,    0,    0,    0,\n",
              "          0,    0,    0,    0,    0,    0,    0,    0,    0,    0,    0,\n",
              "          0,    0,    0,    0,    0,    0,    0,    0,    0,    0,    0,\n",
              "          0,    0,    0,    0,    0,    0,    0,    0,    0,    0,    0,\n",
              "          0,    0,    0,    0,    0,    0,    0,    0,    0,    0,    0,\n",
              "          0,    0,    0,    0,    0,    0,    0,    0,    0,    0,    0,\n",
              "          0,    0,    0,    0,    0,    0,    0,    0,    0,    0,    0,\n",
              "          0,    0,    0,    0,    0,    0,    0,    0,    0,    0,    0,\n",
              "          0,    0], dtype=int32)"
            ]
          },
          "metadata": {},
          "execution_count": 62
        }
      ]
    },
    {
      "cell_type": "code",
      "source": [
        "# reminder of the class_to_index mapping\n",
        "class_to_index_dict"
      ],
      "metadata": {
        "colab": {
          "base_uri": "https://localhost:8080/"
        },
        "id": "cedRkeI7VPig",
        "outputId": "f150808d-02ea-4c68-b418-b9204629034d"
      },
      "execution_count": 63,
      "outputs": [
        {
          "output_type": "execute_result",
          "data": {
            "text/plain": [
              "{'joy': 0,\n",
              " 'love': 1,\n",
              " 'surprise': 2,\n",
              " 'sadness': 3,\n",
              " 'fear': 4,\n",
              " 'neutral': 5,\n",
              " 'anger': 6}"
            ]
          },
          "metadata": {},
          "execution_count": 63
        }
      ]
    },
    {
      "cell_type": "code",
      "source": [
        "# confirming if it worked (change index) and they should line up with above dict\n",
        "index = 7\n",
        "balanced_test_labels = names_to_ids(class_to_index_dict, balanced_test_df['emotions'])\n",
        "print('balanced_test_df.iloc[7]:\\n', balanced_test_df.iloc[index])\n",
        "print('numeric label:', balanced_test_labels[index])"
      ],
      "metadata": {
        "colab": {
          "base_uri": "https://localhost:8080/"
        },
        "id": "hm-MP1dM3HQL",
        "outputId": "6f63acc6-a522-42bb-c00f-0129cfb11acf"
      },
      "execution_count": 64,
      "outputs": [
        {
          "output_type": "stream",
          "name": "stdout",
          "text": [
            "balanced_test_df.iloc[7]:\n",
            " text        i feel like i m wronged\n",
            "emotions                      anger\n",
            "Name: 7, dtype: object\n",
            "numeric label: 6\n"
          ]
        }
      ]
    },
    {
      "cell_type": "markdown",
      "source": [
        "### Evaluating the model using balanced_test_df!!!"
      ],
      "metadata": {
        "id": "MJasH3YlbfCW"
      }
    },
    {
      "cell_type": "code",
      "source": [
        "model.evaluate(padded_balanced_test_seq, balanced_test_labels)"
      ],
      "metadata": {
        "colab": {
          "base_uri": "https://localhost:8080/"
        },
        "id": "1X2dswfs83FG",
        "outputId": "cf57fe4e-f08e-4df3-a51a-76c861af6b7f"
      },
      "execution_count": 65,
      "outputs": [
        {
          "output_type": "stream",
          "name": "stdout",
          "text": [
            "189/189 [==============================] - 3s 13ms/step - loss: 0.0827 - accuracy: 0.9777\n"
          ]
        },
        {
          "output_type": "execute_result",
          "data": {
            "text/plain": [
              "[0.08270388096570969, 0.9777408838272095]"
            ]
          },
          "metadata": {},
          "execution_count": 65
        }
      ]
    },
    {
      "cell_type": "code",
      "source": [
        "# printing out a random tweet and its label, then calling\n",
        "# model.predict to see what the model predicts\n",
        "i = random.randint(0, len(balanced_test_labels) - 1)\n",
        "\n",
        "print('Sentence:', balanced_test_df.iloc[i])\n",
        "print('Emotion:', balanced_test_labels[i])\n",
        "\n",
        "p = model.predict(np.expand_dims(padded_balanced_test_seq[i], axis=0))[0]\n",
        "pred_class = np.argmax(p).astype('uint8')\n",
        "\n",
        "print('Predicted Emotion:', pred_class)"
      ],
      "metadata": {
        "colab": {
          "base_uri": "https://localhost:8080/"
        },
        "id": "v98-_YwrV2t_",
        "outputId": "5493f49c-f3a7-4731-849b-e6e3218a91e3"
      },
      "execution_count": 66,
      "outputs": [
        {
          "output_type": "stream",
          "name": "stdout",
          "text": [
            "Sentence: text        i feel terrified every time i draw back out of...\n",
            "emotions                                                 fear\n",
            "Name: 1108, dtype: object\n",
            "Emotion: 4\n",
            "1/1 [==============================] - 0s 41ms/step\n",
            "Predicted Emotion: 4\n"
          ]
        }
      ]
    },
    {
      "cell_type": "code",
      "source": [
        "preds_balanced_test_set = model.predict(padded_balanced_test_seq)"
      ],
      "metadata": {
        "colab": {
          "base_uri": "https://localhost:8080/"
        },
        "id": "VtERWaIyiQ2k",
        "outputId": "b4282cf9-0c91-460f-bfd3-14a350a6ac50"
      },
      "execution_count": 80,
      "outputs": [
        {
          "output_type": "stream",
          "name": "stdout",
          "text": [
            "189/189 [==============================] - 2s 9ms/step\n"
          ]
        }
      ]
    },
    {
      "cell_type": "code",
      "source": [
        "make_cr_cm(preds_balanced_test_set, balanced_test_labels)"
      ],
      "metadata": {
        "colab": {
          "base_uri": "https://localhost:8080/",
          "height": 763
        },
        "id": "I5qqhODF-hyO",
        "outputId": "2f5d1a3b-e89b-4fb0-e077-9690a7174881"
      },
      "execution_count": 81,
      "outputs": [
        {
          "output_type": "stream",
          "name": "stdout",
          "text": [
            "Classification Report:\n",
            "               precision    recall  f1-score   support\n",
            "\n",
            "        love       0.95      0.98      0.97       860\n",
            "     sadness       0.99      0.99      0.99       860\n",
            "        fear       0.99      0.97      0.98       860\n",
            "       anger       0.96      0.99      0.97       860\n",
            "    surprise       0.97      0.98      0.98       860\n",
            "     neutral       1.00      0.97      0.98       860\n",
            "         joy       0.99      0.96      0.97       860\n",
            "\n",
            "    accuracy                           0.98      6020\n",
            "   macro avg       0.98      0.98      0.98      6020\n",
            "weighted avg       0.98      0.98      0.98      6020\n",
            "\n",
            "\n",
            "Confusion Matrix:\n",
            "\n"
          ]
        },
        {
          "output_type": "display_data",
          "data": {
            "text/plain": [
              "<Figure size 1440x504 with 2 Axes>"
            ],
            "image/png": "[encoded data removed]"
          },
          "metadata": {
            "needs_background": "light"
          }
        }
      ]
    },
    {
      "cell_type": "markdown",
      "source": [
        "# Code Graveyard\n",
        "This will probably be deleted later"
      ],
      "metadata": {
        "id": "8LC3BBx7wX41"
      }
    },
    {
      "cell_type": "code",
      "source": [
        "# # classification report from A3\n",
        "\n",
        "# predictions_model2 = tf.argmax(preds2, axis=-1)\n",
        "# predictions_model2\n",
        "\n",
        "# target_names2 = list(set([str(digit) for digit in balanced_test_labels]))\n",
        "\n",
        "# print(classification_report(balanced_test_labels, predictions_model2.numpy(), target_names=target_names2))"
      ],
      "metadata": {
        "id": "HFaiD1X7iY4M"
      },
      "execution_count": 69,
      "outputs": []
    },
    {
      "cell_type": "code",
      "source": [
        "# # confusion matrix from A3\n",
        "# cm = tf.math.confusion_matrix(balanced_test_labels, predictions_model2)\n",
        "# cm = cm/cm.numpy().sum(axis=1)[:, tf.newaxis]\n",
        "\n",
        "# plt.figure(figsize=(20,7))\n",
        "# sns.heatmap(\n",
        "#     cm, annot=True,\n",
        "#     xticklabels=target_names2,\n",
        "#     yticklabels=target_names2)\n",
        "# plt.xlabel(\"Predicted\")\n",
        "# plt.ylabel(\"True\")"
      ],
      "metadata": {
        "id": "10OqHZNZiulo"
      },
      "execution_count": 70,
      "outputs": []
    },
    {
      "cell_type": "code",
      "source": [
        "# import seaborn as sns\n",
        "\n",
        "# # confusion matrix from A3\n",
        "# cm = tf.math.confusion_matrix(test_labels, predictions_model1)\n",
        "# cm = cm/cm.numpy().sum(axis=1)[:, tf.newaxis]\n",
        "\n",
        "# plt.figure(figsize=(20,7))\n",
        "# sns.heatmap(\n",
        "#     cm, annot=True,\n",
        "#     xticklabels=target_names,\n",
        "#     yticklabels=target_names)\n",
        "# plt.xlabel(\"Predicted\")\n",
        "# plt.ylabel(\"True\")"
      ],
      "metadata": {
        "id": "llWEEEP6a4MA"
      },
      "execution_count": 71,
      "outputs": []
    },
    {
      "cell_type": "code",
      "source": [
        "# classification report from A3\n",
        "# from sklearn.metrics import classification_report\n",
        "\n",
        "# predictions_model1 = tf.argmax(preds, axis=-1)\n",
        "# predictions_model1\n",
        "\n",
        "# target_names = list(set([str(digit) for digit in test_labels]))\n",
        "\n",
        "# print(classification_report(test_labels, predictions_model1.numpy(), target_names=target_names))"
      ],
      "metadata": {
        "id": "a7Ss3leneV_m"
      },
      "execution_count": 72,
      "outputs": []
    }
  ],
  "metadata": {
    "colab": {
      "provenance": []
    },
    "kernelspec": {
      "display_name": "Python 3 (ipykernel)",
      "language": "python",
      "name": "python3"
    },
    "language_info": {
      "codemirror_mode": {
        "name": "ipython",
        "version": 3
      },
      "file_extension": ".py",
      "mimetype": "text/x-python",
      "name": "python",
      "nbconvert_exporter": "python",
      "pygments_lexer": "ipython3",
      "version": "3.9.12"
    },
    "gpuClass": "standard",
    "accelerator": "GPU"
  },
  "nbformat": 4,
  "nbformat_minor": 0
}