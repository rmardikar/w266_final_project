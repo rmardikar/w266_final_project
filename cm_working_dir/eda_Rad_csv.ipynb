{
 "cells": [
  {
   "cell_type": "markdown",
   "metadata": {
    "id": "z9rigx9lYp0r"
   },
   "source": [
    "***\n",
    "# EDA emotions_with_neutrals_220228.csv dataset\n",
    "Concatenated the neutrals from Kaggle dataset with Huggingface dataset<br>\n",
    "https://github.com/dair-ai/emotion_dataset<br>\n",
    "https://huggingface.co/datasets/dair-ai/emotion\n",
    "***"
   ]
  },
  {
   "cell_type": "markdown",
   "metadata": {},
   "source": [
    "***\n",
    "## 1 Load the dataset\n",
    " <span style=\"color:red\">!!!Make sure to comment out the correct source (Google drive or local)!!!</span>"
   ]
  },
  {
   "cell_type": "code",
   "execution_count": 1,
   "metadata": {
    "colab": {
     "base_uri": "https://localhost:8080/"
    },
    "id": "9j2cEQQtYMBR",
    "outputId": "6f2ae201-8489-40f7-cefd-8d0715350d94"
   },
   "outputs": [
    {
     "name": "stdout",
     "output_type": "stream",
     "text": [
      "   Unnamed: 0                                               text emotions\n",
      "0       27383  i feel awful about it too because it s my job ...  sadness\n",
      "1      110083                              im alone i feel awful  sadness\n",
      "2      140764  ive probably mentioned this before but i reall...      joy\n",
      "3      100071           i was feeling a little low few days back  sadness\n",
      "4        2837  i beleive that i am much more sensitive to oth...     love\n"
     ]
    }
   ],
   "source": [
    "import pandas as pd\n",
    "import numpy as np\n",
    "import random\n",
    "\n",
    "# read from the google drive\n",
    "# url = 'https://drive.google.com/file/d/1e-w7djzvn1LUFutmDgnOh16mYjiVX34s/view?usp=sharing'\n",
    "# source = 'https://drive.google.com/uc?id=' + url.split('/')[-2]\n",
    "\n",
    "# read from local\n",
    "source = '../datasets/emotions_with_neutrals_220228.csv'\n",
    "\n",
    "# Load the pickled DataFrame\n",
    "df = pd.read_csv(source)\n",
    "\n",
    "print(df.head())"
   ]
  },
  {
   "cell_type": "markdown",
   "metadata": {},
   "source": [
    "***\n",
    "## 2 Basic EDA"
   ]
  },
  {
   "cell_type": "markdown",
   "metadata": {},
   "source": [
    "### Datatypes for each of the columns in our dataframe"
   ]
  },
  {
   "cell_type": "code",
   "execution_count": 2,
   "metadata": {},
   "outputs": [
    {
     "name": "stdout",
     "output_type": "stream",
     "text": [
      "Unnamed: 0     int64\n",
      "text          object\n",
      "emotions      object\n",
      "dtype: object\n"
     ]
    }
   ],
   "source": [
    "print(df.dtypes)"
   ]
  },
  {
   "cell_type": "markdown",
   "metadata": {},
   "source": [
    "### Rename the columns to match the other data to make it easier to reuse code"
   ]
  },
  {
   "cell_type": "code",
   "execution_count": 3,
   "metadata": {},
   "outputs": [
    {
     "name": "stdout",
     "output_type": "stream",
     "text": [
      "Unnamed: 0     int64\n",
      "content       object\n",
      "sentiment     object\n",
      "dtype: object\n"
     ]
    }
   ],
   "source": [
    "# Rename columns using rename() method\n",
    "df.rename(columns={'text': 'content', 'emotions': 'sentiment'}, inplace=True)\n",
    "print(df.dtypes)"
   ]
  },
  {
   "cell_type": "markdown",
   "metadata": {},
   "source": [
    "### Unique types and count of sentiments in the dataset"
   ]
  },
  {
   "cell_type": "code",
   "execution_count": 4,
   "metadata": {},
   "outputs": [
    {
     "name": "stdout",
     "output_type": "stream",
     "text": [
      "           count  percentage\n",
      "joy       141067   33.157362\n",
      "sadness   121187   28.484629\n",
      "anger      57317   13.472183\n",
      "fear       47712   11.214558\n",
      "love       34554    8.121811\n",
      "surprise   14972    3.519122\n",
      "neutral     8638    2.030335\n"
     ]
    }
   ],
   "source": [
    "# get the value counts of each unique value\n",
    "counts = df['sentiment'].value_counts()\n",
    "\n",
    "# convert the counts to percentages\n",
    "percentages = counts / counts.sum() * 100\n",
    "\n",
    "cp_df = pd.DataFrame({'count': counts, 'percentage': percentages})\n",
    "\n",
    "print(cp_df)"
   ]
  },
  {
   "cell_type": "markdown",
   "metadata": {},
   "source": [
    "### Max and min lengths of words in the text"
   ]
  },
  {
   "cell_type": "code",
   "execution_count": 44,
   "metadata": {},
   "outputs": [
    {
     "name": "stdout",
     "output_type": "stream",
     "text": [
      "Maximum word length: 178\n",
      "Minimum word length: 1\n",
      "Mean word length: 19.058693562300355\n",
      "Median word length: 17\n",
      "75th percentile word length: 25.0\n",
      "85th percentile word length: 30.0\n",
      "95th percentile word length: 41.0\n"
     ]
    }
   ],
   "source": [
    "import statistics\n",
    "\n",
    "# Apply the lambda function to the 'content' column and list called word_count_list'\n",
    "word_count_list = list(df['content'].apply(lambda x: len(x.split(' '))))\n",
    "\n",
    "# display the maximum and minimum lengths\n",
    "print('Maximum word length:', max(word_count_list))\n",
    "print('Minimum word length:', min(word_count_list))\n",
    "print('Mean word length:', statistics.mean(word_count_list))\n",
    "print('Median word length:', statistics.median(word_count_list))\n",
    "print('75th percentile word length:', np.percentile(word_count_list, 75))\n",
    "print('85th percentile word length:', np.percentile(word_count_list, 85))\n",
    "print('95th percentile word length:', np.percentile(word_count_list, 95))"
   ]
  },
  {
   "cell_type": "code",
   "execution_count": 36,
   "metadata": {
    "scrolled": true
   },
   "outputs": [
    {
     "data": {
      "text/plain": [
       "(array([2.0860e+03, 2.1312e+04, 3.1886e+04, 3.3226e+04, 3.4129e+04,\n",
       "        3.4441e+04, 3.3288e+04, 3.1458e+04, 2.9109e+04, 2.6666e+04,\n",
       "        2.3666e+04, 2.0754e+04, 2.5957e+04, 1.3887e+04, 1.1442e+04,\n",
       "        9.7050e+03, 8.0990e+03, 6.6180e+03, 5.5650e+03, 4.6280e+03,\n",
       "        3.7870e+03, 3.1830e+03, 2.5530e+03, 2.1370e+03, 2.5210e+03,\n",
       "        1.2620e+03, 8.8100e+02, 5.4200e+02, 3.4200e+02, 1.7100e+02,\n",
       "        7.4000e+01, 3.3000e+01, 1.8000e+01, 3.0000e+00, 2.0000e+00,\n",
       "        4.0000e+00, 3.0000e+00, 2.0000e+00, 0.0000e+00, 0.0000e+00,\n",
       "        0.0000e+00, 0.0000e+00, 0.0000e+00, 0.0000e+00, 1.0000e+00,\n",
       "        0.0000e+00, 0.0000e+00, 2.0000e+00, 2.0000e+00, 0.0000e+00,\n",
       "        0.0000e+00, 0.0000e+00, 1.0000e+00, 0.0000e+00, 0.0000e+00,\n",
       "        0.0000e+00, 0.0000e+00, 0.0000e+00, 0.0000e+00, 0.0000e+00,\n",
       "        0.0000e+00, 0.0000e+00, 0.0000e+00, 0.0000e+00, 0.0000e+00,\n",
       "        0.0000e+00, 0.0000e+00, 0.0000e+00, 0.0000e+00, 0.0000e+00,\n",
       "        0.0000e+00, 0.0000e+00, 0.0000e+00, 0.0000e+00, 0.0000e+00,\n",
       "        0.0000e+00, 0.0000e+00, 0.0000e+00, 0.0000e+00, 0.0000e+00,\n",
       "        0.0000e+00, 0.0000e+00, 0.0000e+00, 0.0000e+00, 1.0000e+00]),\n",
       " array([  1.        ,   3.08235294,   5.16470588,   7.24705882,\n",
       "          9.32941176,  11.41176471,  13.49411765,  15.57647059,\n",
       "         17.65882353,  19.74117647,  21.82352941,  23.90588235,\n",
       "         25.98823529,  28.07058824,  30.15294118,  32.23529412,\n",
       "         34.31764706,  36.4       ,  38.48235294,  40.56470588,\n",
       "         42.64705882,  44.72941176,  46.81176471,  48.89411765,\n",
       "         50.97647059,  53.05882353,  55.14117647,  57.22352941,\n",
       "         59.30588235,  61.38823529,  63.47058824,  65.55294118,\n",
       "         67.63529412,  69.71764706,  71.8       ,  73.88235294,\n",
       "         75.96470588,  78.04705882,  80.12941176,  82.21176471,\n",
       "         84.29411765,  86.37647059,  88.45882353,  90.54117647,\n",
       "         92.62352941,  94.70588235,  96.78823529,  98.87058824,\n",
       "        100.95294118, 103.03529412, 105.11764706, 107.2       ,\n",
       "        109.28235294, 111.36470588, 113.44705882, 115.52941176,\n",
       "        117.61176471, 119.69411765, 121.77647059, 123.85882353,\n",
       "        125.94117647, 128.02352941, 130.10588235, 132.18823529,\n",
       "        134.27058824, 136.35294118, 138.43529412, 140.51764706,\n",
       "        142.6       , 144.68235294, 146.76470588, 148.84705882,\n",
       "        150.92941176, 153.01176471, 155.09411765, 157.17647059,\n",
       "        159.25882353, 161.34117647, 163.42352941, 165.50588235,\n",
       "        167.58823529, 169.67058824, 171.75294118, 173.83529412,\n",
       "        175.91764706, 178.        ]),\n",
       " <BarContainer object of 85 artists>)"
      ]
     },
     "execution_count": 36,
     "metadata": {},
     "output_type": "execute_result"
    },
    {
     "data": {
      "image/png": "[encoded data removed]",
      "text/plain": [
       "<Figure size 432x288 with 1 Axes>"
      ]
     },
     "metadata": {
      "needs_background": "light"
     },
     "output_type": "display_data"
    }
   ],
   "source": [
    "import matplotlib.pyplot as plt\n",
    "\n",
    "plt.hist(word_count_list, bins=len(set(lengths)))"
   ]
  },
  {
   "cell_type": "markdown",
   "metadata": {},
   "source": [
    "#### Initial thoughts on this dataset\n",
    "\n",
    "This dataset, while a bit imbalanced, isn't as imbalanced as the Kaggle dataset that we had looked at initially. Additionally, unlike the Tweet dataset, we have content that is up to 830 characters."
   ]
  },
  {
   "cell_type": "markdown",
   "metadata": {},
   "source": [
    "***\n",
    "## 3 Check each sentiment to see what type of content there is to see if it's legit"
   ]
  },
  {
   "cell_type": "markdown",
   "metadata": {},
   "source": [
    "### All the sentiments"
   ]
  },
  {
   "cell_type": "code",
   "execution_count": 45,
   "metadata": {},
   "outputs": [
    {
     "name": "stdout",
     "output_type": "stream",
     "text": [
      "['anger', 'fear', 'joy', 'love', 'neutral', 'sadness', 'surprise']\n"
     ]
    }
   ],
   "source": [
    "all_sentiments = sorted(df['sentiment'].unique())\n",
    "print(all_sentiments)"
   ]
  },
  {
   "cell_type": "markdown",
   "metadata": {},
   "source": [
    "### A function to explore the sentiments"
   ]
  },
  {
   "cell_type": "code",
   "execution_count": 46,
   "metadata": {},
   "outputs": [],
   "source": [
    "# pass the emotion and number of random text to see\n",
    "def explore(emotion=None, num_tweets=5):\n",
    "    if emotion == None:\n",
    "        return 'no emotion provided'\n",
    "    elif emotion not in all_sentiments:\n",
    "        return 'not one of the sentiments in the dataframe'\n",
    "    else:\n",
    "        content = df.loc[df['sentiment'] == emotion, 'content']\n",
    "\n",
    "        random_nums = random.sample(range(len(content)), num_tweets)\n",
    "        \n",
    "        print(f\"Number of tweets for '{emotion}': {len(content)}\")\n",
    "        print(f\"Percentage of the dataset: {cp_df.loc[emotion].percentage}\")\n",
    "        print(f\"Random indices: {random_nums}\", end='\\n\\n')\n",
    "        print(f\"Random {num_tweets} Tweets for emotion '{emotion}':\")\n",
    "\n",
    "        counter = 1\n",
    "        for tweet in content.iloc[random_nums]:\n",
    "            print(f\"{counter}: {tweet}\", end='\\n')\n",
    "            counter = counter + 1"
   ]
  },
  {
   "cell_type": "markdown",
   "metadata": {},
   "source": [
    "### Uncomment to see all sentiments at once"
   ]
  },
  {
   "cell_type": "code",
   "execution_count": 8,
   "metadata": {},
   "outputs": [],
   "source": [
    "# this cell prints all of the sentiments all at once,\n",
    "# but keeping it commented out for now\n",
    "\n",
    "# for emotion in all_sentiments:\n",
    "#     explore(emotion)\n",
    "#     print('**********************************************************\\n**********************************************************\\n')"
   ]
  },
  {
   "cell_type": "markdown",
   "metadata": {},
   "source": [
    "### Let's explore 'anger'"
   ]
  },
  {
   "cell_type": "code",
   "execution_count": 9,
   "metadata": {},
   "outputs": [
    {
     "name": "stdout",
     "output_type": "stream",
     "text": [
      "Number of tweets for 'anger': 57317\n",
      "Percentage of the dataset: 13.751382527728529\n",
      "Random indices: [13314, 39770, 43293, 22191, 26200]\n",
      "\n",
      "Random 5 Tweets for emotion 'anger':\n",
      "1: im really feeling very impatient\n",
      "2: i feel frustration because i cant see beyond petty desires\n",
      "3: i shouldnt feel so angry\n",
      "4: i feel ya on the rude people thing and what are you wearing thing\n",
      "5: i used to feel so jealous of amanda\n"
     ]
    }
   ],
   "source": [
    "explore('anger')"
   ]
  },
  {
   "cell_type": "markdown",
   "metadata": {},
   "source": [
    "#### Initial thoughts on 'anger':\n",
    "\n",
    "The number of 'anger' text, is 57317, is the third highest amount in this dataset and represents 13.75% of the dataset.<br>\n",
    "<br>\n",
    "Most of these texts feel very spot-on with the label 'anger' (e.g. \"i left feeling really quite angry and frustrated\", \"i feel disgusted and frustrated\", \"i am now well aware of his intention and feeling insulted\").<br>\n",
    "<br>\n",
    "There are some that may not fit exactly 'anger' (e.g. \"i want to be honest and blunt and tell it like it is and not worry that i might hurt someones feelings or make them make mad me\", \"i feel gleefully rebellious\", \"i find the easiest way to calm down if im feeling agitated is by satisfying each of the five senses\") but can reasonably assessed as such.<br>\n",
    "<br>\n",
    "In general, though, after looking through several random batches of these, amounting to several hundred short texts, it seems that the 'anger' label is fitting."
   ]
  },
  {
   "cell_type": "markdown",
   "metadata": {},
   "source": [
    "### Let's explore 'fear'"
   ]
  },
  {
   "cell_type": "code",
   "execution_count": 10,
   "metadata": {},
   "outputs": [
    {
     "name": "stdout",
     "output_type": "stream",
     "text": [
      "Number of tweets for 'fear': 47712\n",
      "Percentage of the dataset: 11.446969715145308\n",
      "Random indices: [44797, 35331, 33709, 32952, 46468]\n",
      "\n",
      "Random 5 Tweets for emotion 'fear':\n",
      "1: i took a couple deep breaths before the feel of his lips of my neck startled me\n",
      "2: one night i was lying in my bed awake but i had my eyes closed i saw figures with terrible faces and black frocks bending over me and touching me i opened my eyes but i could still see them i had the feeling that somebody was in the room it was terrible only when i turned on the light i was able to go to sleep\n",
      "3: i was is constantly feeling restless and asked if we could walk around for a bit\n",
      "4: i feel like ive been tortured in my sleep lately and im not quite sure why\n",
      "5: i have gone from feeling apprehensive to feeling strong within hours\n"
     ]
    }
   ],
   "source": [
    "explore('fear')"
   ]
  },
  {
   "cell_type": "markdown",
   "metadata": {},
   "source": [
    "#### Initial thoughts on 'fear':\n",
    "\n",
    "Like 'anger', these texts seem to be in line with their labeled emotion ('fear')."
   ]
  },
  {
   "cell_type": "markdown",
   "metadata": {},
   "source": [
    "### Let's explore 'joy'"
   ]
  },
  {
   "cell_type": "code",
   "execution_count": 11,
   "metadata": {},
   "outputs": [
    {
     "name": "stdout",
     "output_type": "stream",
     "text": [
      "Number of tweets for 'joy': 141067\n",
      "Percentage of the dataset: 33.84451871240784\n",
      "Random indices: [134418, 91432, 104653, 37242, 8904]\n",
      "\n",
      "Random 5 Tweets for emotion 'joy':\n",
      "1: i am feeling energetic\n",
      "2: i want people to believe that you can feel as delighted to see your spouse after being married for days which will be how many days my parents have been married come december th as you did while you were dating\n",
      "3: i that is the conscious me would interpret these actions as meaning that everything was okay and i following my body s lead would feel calm\n",
      "4: i feel delighted when i think of it\n",
      "5: i can laugh at quite a bit of it now and feel ok about some of it but that was only after deciding that i had to not let it get to me and sort the shit out\n"
     ]
    }
   ],
   "source": [
    "explore('joy')"
   ]
  },
  {
   "cell_type": "markdown",
   "metadata": {},
   "source": [
    "#### Initial thoughts on 'joy'\n",
    "\n",
    "The 'joy' label seems to be a mixed bag. There are some that seem to fit the label (e.g. \"i feel good about the way im going to look that day\", \"i never feel so bouncy and happy like this since i was kid\") while others definitely do not fit (e.g. \"i didnt really feel satisfied with the solution\", \"i feel no less pain feel no less resolved in my head about why\")."
   ]
  },
  {
   "cell_type": "markdown",
   "metadata": {},
   "source": [
    "### Let's explore 'love'"
   ]
  },
  {
   "cell_type": "code",
   "execution_count": 12,
   "metadata": {},
   "outputs": [
    {
     "name": "stdout",
     "output_type": "stream",
     "text": [
      "Number of tweets for 'love': 34554\n",
      "Percentage of the dataset: 8.29012809224369\n",
      "Random indices: [17334, 23894, 29975, 29405, 25024]\n",
      "\n",
      "Random 5 Tweets for emotion 'love':\n",
      "1: i look at her face i feel a loss of interest in all females and anyone for romantic intimacy\n",
      "2: i turned her in his arms her hair slowly ask mo and my heart quite some mixed feelings i no longer own also belongs to these lovely like flowers girl sometimes i did really hurt their heart but i was always unable to manage their own\n",
      "3: i still feel that way dwelling in the shelter of tender memories and deep rooted affection\n",
      "4: i feel like i should be a citizen of iran for caring as much as i do\n",
      "5: i like the line theyre toeing with michael fiona right now where they both know they still have feelings for each other and theyre at a place where theyre being a little more affectionate with each other than they have been in the past but theyre not really together either\n"
     ]
    }
   ],
   "source": [
    "explore('love')"
   ]
  },
  {
   "cell_type": "markdown",
   "metadata": {},
   "source": [
    "#### Initial thoughts on 'love':\n",
    "\n",
    "Same as 'joy'. Labeling is a mixed bag."
   ]
  },
  {
   "cell_type": "markdown",
   "metadata": {},
   "source": [
    "### Let's explore 'sadness'"
   ]
  },
  {
   "cell_type": "code",
   "execution_count": 13,
   "metadata": {},
   "outputs": [
    {
     "name": "stdout",
     "output_type": "stream",
     "text": [
      "Number of tweets for 'sadness': 121187\n",
      "Percentage of the dataset: 29.07494799776396\n",
      "Random indices: [116704, 23708, 14941, 61977, 83478]\n",
      "\n",
      "Random 5 Tweets for emotion 'sadness':\n",
      "1: i feel like i am just going to fill your screen with a bunch of useless information because lets face it i do spend the majority of my week at work\n",
      "2: i started thinking about all the times that people were jerks and there was nothing really that i could do except go home write unsatisfying angry complaints into the internetsphere and generally feel helpless marginalized and disregarded by society\n",
      "3: i used to feel infinitely needy and insecure around any woman who i really wanted\n",
      "4: i feel he should have been punished\n",
      "5: i have read many of these posts and it makes me feel dumb to say that i m feeling like this\n"
     ]
    }
   ],
   "source": [
    "explore('sadness')"
   ]
  },
  {
   "cell_type": "markdown",
   "metadata": {},
   "source": [
    "#### Initial thoughts on 'sadness':\n",
    "\n",
    "More of these feel like texts along the lines of 'sadness' than do 'love' and 'joy'; however, there are some that also seem mislabeled, though not as many proportionally. This is among the largest cohort in the dataset."
   ]
  },
  {
   "cell_type": "markdown",
   "metadata": {},
   "source": [
    "### Let's explore 'surprise'"
   ]
  },
  {
   "cell_type": "code",
   "execution_count": 14,
   "metadata": {},
   "outputs": [
    {
     "name": "stdout",
     "output_type": "stream",
     "text": [
      "Number of tweets for 'surprise': 14972\n",
      "Percentage of the dataset: 3.5920529547106708\n",
      "Random indices: [3788, 7820, 13723, 8241, 8371]\n",
      "\n",
      "Random 5 Tweets for emotion 'surprise':\n",
      "1: i visit nepenthe its like i feel some connection with him i dont know its funny but i do\n",
      "2: i feel surprised by how much i get from my family and friends from all around the world which can make me feel like a phoney because they seem to have more faith in me than i have\n",
      "3: i feel love funny videos fun jokes videos humor comedy videos free lotto extraterrestrial aliens link rel stylesheet type text css href http megalegit\n",
      "4: im really excited about it but im also feeling a bit overwhelmed by the internet lately\n",
      "5: i feel like i just had myself a dazed and confused moment there for a minute\n"
     ]
    }
   ],
   "source": [
    "explore('surprise')"
   ]
  },
  {
   "cell_type": "markdown",
   "metadata": {},
   "source": [
    "#### Initial thoughts on 'surprise':\n",
    "\n",
    "Comments same as 'sadness'."
   ]
  },
  {
   "cell_type": "markdown",
   "metadata": {},
   "source": [
    "### General thoughts about the contents of these tweets:\n",
    "\n",
    "This data appears to have been pre-processed: no apostrophes (replaced with whitespace), no numerical digits, all lowercase, and punctuation removed.<br>\n",
    "<br>\n",
    "In general this data seems to be more or less on target with the labels. There are some, of course, that may seem out of place for the label in question, but generally speaking the labels within each cohort seem to be on track."
   ]
  },
  {
   "cell_type": "markdown",
   "metadata": {},
   "source": [
    "***\n",
    "## 4 Work with the data"
   ]
  },
  {
   "cell_type": "markdown",
   "metadata": {},
   "source": [
    "### Padding and truncating the sequences to make sure that the shape is the same for each string."
   ]
  },
  {
   "cell_type": "code",
   "execution_count": null,
   "metadata": {},
   "outputs": [],
   "source": [
    "def get_sequences(tokenizer, tweets):\n",
    "  sequences = tokenizer.texts_to_sequences(tweets)\n",
    "  padded = pad_sequences(sequences, truncating='post', padding='post', maxlen=maxlen) # truncating happens at the end of the sequence (post)\n",
    "  return padded # all examples will be the returned with same input size"
   ]
  }
 ],
 "metadata": {
  "colab": {
   "provenance": []
  },
  "kernelspec": {
   "display_name": "Python 3 (ipykernel)",
   "language": "python",
   "name": "python3"
  },
  "language_info": {
   "codemirror_mode": {
    "name": "ipython",
    "version": 3
   },
   "file_extension": ".py",
   "mimetype": "text/x-python",
   "name": "python",
   "nbconvert_exporter": "python",
   "pygments_lexer": "ipython3",
   "version": "3.9.12"
  }
 },
 "nbformat": 4,
 "nbformat_minor": 1
}
