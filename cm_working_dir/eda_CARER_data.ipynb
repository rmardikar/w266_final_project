{
 "cells": [
  {
   "cell_type": "markdown",
   "metadata": {
    "id": "z9rigx9lYp0r"
   },
   "source": [
    "***\n",
    "# EDA for tweet_emotions.csv dataset\n",
    "https://github.com/dair-ai/emotion_dataset<br>\n",
    "https://huggingface.co/datasets/dair-ai/emotion\n",
    "***"
   ]
  },
  {
   "cell_type": "markdown",
   "metadata": {},
   "source": [
    "***\n",
    "## 1 Load the CARER dataset\n",
    " <span style=\"color:red\">!!!Make sure to comment out the correct source (Google drive or local)!!!</span>"
   ]
  },
  {
   "cell_type": "code",
   "execution_count": 1,
   "metadata": {
    "colab": {
     "base_uri": "https://localhost:8080/"
    },
    "id": "9j2cEQQtYMBR",
    "outputId": "6f2ae201-8489-40f7-cefd-8d0715350d94"
   },
   "outputs": [
    {
     "name": "stdout",
     "output_type": "stream",
     "text": [
      "                                                     text emotions\n",
      "27383   i feel awful about it too because it s my job ...  sadness\n",
      "110083                              im alone i feel awful  sadness\n",
      "140764  ive probably mentioned this before but i reall...      joy\n",
      "100071           i was feeling a little low few days back  sadness\n",
      "2837    i beleive that i am much more sensitive to oth...     love\n"
     ]
    }
   ],
   "source": [
    "import pandas as pd\n",
    "import numpy as np\n",
    "import random\n",
    "\n",
    "# read from the google drive\n",
    "# url = 'https://drive.google.com/file/d/1e-w7djzvn1LUFutmDgnOh16mYjiVX34s/view?usp=sharing'\n",
    "# source = 'https://drive.google.com/uc?id=' + url.split('/')[-2]\n",
    "\n",
    "# read from local\n",
    "source = '../datasets/carer_data.pkl'\n",
    "\n",
    "# Load the pickled DataFrame\n",
    "df = pd.read_pickle(source)\n",
    "\n",
    "print(df.head())"
   ]
  },
  {
   "cell_type": "markdown",
   "metadata": {},
   "source": [
    "***\n",
    "## 2 Basic EDA"
   ]
  },
  {
   "cell_type": "markdown",
   "metadata": {},
   "source": [
    "### Datatypes for each of the columns in our dataframe"
   ]
  },
  {
   "cell_type": "code",
   "execution_count": 2,
   "metadata": {},
   "outputs": [
    {
     "name": "stdout",
     "output_type": "stream",
     "text": [
      "text        object\n",
      "emotions    object\n",
      "dtype: object\n"
     ]
    }
   ],
   "source": [
    "print(df.dtypes)"
   ]
  },
  {
   "cell_type": "markdown",
   "metadata": {},
   "source": [
    "### Rename the columns to match the other data to make it easier to reuse code"
   ]
  },
  {
   "cell_type": "code",
   "execution_count": 3,
   "metadata": {},
   "outputs": [
    {
     "name": "stdout",
     "output_type": "stream",
     "text": [
      "content      object\n",
      "sentiment    object\n",
      "dtype: object\n"
     ]
    }
   ],
   "source": [
    "# Rename columns using rename() method\n",
    "df.rename(columns={'text': 'content', 'emotions': 'sentiment'}, inplace=True)\n",
    "print(df.dtypes)"
   ]
  },
  {
   "cell_type": "markdown",
   "metadata": {},
   "source": [
    "### Unique types and count of sentiments in the dataset"
   ]
  },
  {
   "cell_type": "code",
   "execution_count": 4,
   "metadata": {},
   "outputs": [
    {
     "name": "stdout",
     "output_type": "stream",
     "text": [
      "           count  percentage\n",
      "joy       141067   33.844519\n",
      "sadness   121187   29.074948\n",
      "anger      57317   13.751383\n",
      "fear       47712   11.446970\n",
      "love       34554    8.290128\n",
      "surprise   14972    3.592053\n"
     ]
    }
   ],
   "source": [
    "# get the value counts of each unique value\n",
    "counts = df['sentiment'].value_counts()\n",
    "\n",
    "# convert the counts to percentages\n",
    "percentages = counts / counts.sum() * 100\n",
    "\n",
    "cp_df = pd.DataFrame({'count': counts, 'percentage': percentages})\n",
    "\n",
    "print(cp_df)"
   ]
  },
  {
   "cell_type": "markdown",
   "metadata": {},
   "source": [
    "### Max and min lengths of the text"
   ]
  },
  {
   "cell_type": "code",
   "execution_count": 5,
   "metadata": {},
   "outputs": [
    {
     "name": "stdout",
     "output_type": "stream",
     "text": [
      "Maximum length: 830\n",
      "Minimum length: 2\n"
     ]
    }
   ],
   "source": [
    "lengths = df['content'].str.len()\n",
    "\n",
    "# display the maximum and minimum lengths\n",
    "print('Maximum length:', lengths.max())\n",
    "print('Minimum length:', lengths.min())"
   ]
  },
  {
   "cell_type": "markdown",
   "metadata": {},
   "source": [
    "#### Initial thoughts on this dataset\n",
    "\n",
    "This dataset, while a bit imbalanced, isn't as imbalanced as the Kaggle dataset that we had looked at initially. Additionally, unlike the Tweet dataset, we have content that is up to 830 characters."
   ]
  },
  {
   "cell_type": "markdown",
   "metadata": {},
   "source": [
    "***\n",
    "## 3 Check each sentiment to see what type of content there is to see if it's legit"
   ]
  },
  {
   "cell_type": "markdown",
   "metadata": {},
   "source": [
    "### All the sentiments"
   ]
  },
  {
   "cell_type": "code",
   "execution_count": 6,
   "metadata": {},
   "outputs": [
    {
     "name": "stdout",
     "output_type": "stream",
     "text": [
      "['anger', 'fear', 'joy', 'love', 'sadness', 'surprise']\n"
     ]
    }
   ],
   "source": [
    "all_sentiments = sorted(df['sentiment'].unique())\n",
    "print(all_sentiments)"
   ]
  },
  {
   "cell_type": "markdown",
   "metadata": {},
   "source": [
    "### A function to explore the sentiments"
   ]
  },
  {
   "cell_type": "code",
   "execution_count": 7,
   "metadata": {},
   "outputs": [],
   "source": [
    "# pass the emotion and number of random text to see\n",
    "def explore(emotion=None, num_tweets=5):\n",
    "    if emotion == None:\n",
    "        return 'no emotion provided'\n",
    "    elif emotion not in all_sentiments:\n",
    "        return 'not one of the sentiments in the dataframe'\n",
    "    else:\n",
    "        content = df.loc[df['sentiment'] == emotion, 'content']\n",
    "\n",
    "        random_nums = random.sample(range(len(content)), num_tweets)\n",
    "        \n",
    "        print(f\"Number of tweets for '{emotion}': {len(content)}\")\n",
    "        print(f\"Percentage of the dataset: {cp_df.loc[emotion].percentage}\")\n",
    "        print(f\"Random indices: {random_nums}\", end='\\n\\n')\n",
    "        print(f\"Random {num_tweets} Tweets for emotion '{emotion}':\")\n",
    "\n",
    "        counter = 1\n",
    "        for tweet in content.iloc[random_nums]:\n",
    "            print(f\"{counter}: {tweet}\", end='\\n')\n",
    "            counter = counter + 1"
   ]
  },
  {
   "cell_type": "markdown",
   "metadata": {},
   "source": [
    "### Uncomment to see all sentiments at once"
   ]
  },
  {
   "cell_type": "code",
   "execution_count": null,
   "metadata": {},
   "outputs": [],
   "source": [
    "# this cell prints all of the sentiments all at once,\n",
    "# but keeping it commented out for now\n",
    "\n",
    "# for emotion in all_sentiments:\n",
    "#     explore(emotion)\n",
    "#     print('**********************************************************\\n**********************************************************\\n')"
   ]
  },
  {
   "cell_type": "markdown",
   "metadata": {},
   "source": [
    "### Let's explore 'anger'"
   ]
  },
  {
   "cell_type": "code",
   "execution_count": 14,
   "metadata": {},
   "outputs": [
    {
     "name": "stdout",
     "output_type": "stream",
     "text": [
      "Number of tweets for 'anger': 57317\n",
      "Percentage of the dataset: 13.751382527728529\n",
      "Random indices: [42056, 35423, 6828, 47484, 43194, 48884, 3388, 34684, 36074, 31702, 53310, 56489, 23852, 29231, 48830, 35377, 49213, 65, 49108, 35234, 7412, 46070, 34341, 40859, 28649, 36722, 43145, 4272, 29431, 32807, 25849, 48247, 13090, 243, 55931, 11339, 2015, 32141, 39816, 46324]\n",
      "\n",
      "Random 40 Tweets for emotion 'anger':\n",
      "1: i feel so distracted right now\n",
      "2: i am old and am not fit for the struggle i am not even capable of hatred i can only grieve inwardly feel irritated and vexed but at night my head is hot from the rush of ideas and i cannot sleep\n",
      "3: i was feeling all grumpy and grouchy so it was perfect timing to stumble across this lovely a href http katearends\n",
      "4: i like to get up and not feel rushed on race day\n",
      "5: i want to be and being too late and just feeling like an all around a fucked up mess\n",
      "6: i left feeling really quite angry and frustrated\n",
      "7: i feel angry that one man without self control can be the end of a girl s future\n",
      "8: im feeling a little grouchy amp a touch sarcastic today\n",
      "9: i could feel a cold coming on\n",
      "10: ive been feeling irritable lately largely due to lack of sleep and a hectic pace frustrated with my own slips and misses and annoyed by one crew members tendency to anxiously micro manage on not her own shoots among other things that rankle\n",
      "11: i feel like ive been angry the last couple weeks about the friendships that ive lost because i felt as i said before betrayed\n",
      "12: i feel like a petty attention seeker\n",
      "13: i feel grumpy and out of sorts i know that it is time to make the extra effort to exercise\n",
      "14: i wanted to save myself for marriage the thought that someone else had touched me before and now someone else is doing it again makes me feel really disgusted and impure about myself\n",
      "15: i feel rushed and panicked and as if everything is spiralling out of control\n",
      "16: im feeling so so so grouchy i guess its the monday blues if it is then im having severe symptoms of monday blues\n",
      "17: i just feel so dissatisfied with so many things\n",
      "18: i don t feel mega rushed\n",
      "19: i know how it feels to look in the mirror and be disgusted by what you see yup ive been down that road before\n",
      "20: i feel outraged on behalf of my generation and those younger that we are in some sense being fundamentally misunderstood\n",
      "21: i obviously didnt explain it well enough to d amp m who got lost and despite leaving an hour before us arrived an hour later feeling very grumpy\n",
      "22: i just feel that i can live with the sarcastic relations i have at school right now\n",
      "23: i remember an evening when i was feeling strongly dissatisfied and discontented\n",
      "24: i don t want to feel i am in a vicious circle and it is paralysing me\n",
      "25: im feeling very bitchy whiny irritated overall\n",
      "26: i have started to feel a little enraged every time i see plus sized women clothes models getting described as curvy curvy friendly and so on and so forth\n",
      "27: i feel disgusted and frustrated\n",
      "28: i am now well aware of his intention and feeling insulted\n",
      "29: i feel like the pace of play is too rushed\n",
      "30: i dreaded any time we looked at health and fitness in class feeling like i was the only one that would fail the hateful pinch test or not be able to do push ups as part of a fitness evaluation\n",
      "31: i threw himself down on a seat feeling utterly infuriated by her\n",
      "32: i feel a little bothered by reports of a a href http www\n",
      "33: i feel aggravated and need to find a release for all that pent up anger and that s when i know that i need to first let out the physical reaction i mean the gym or a long run not throwing the computer out the window\n",
      "34: i feel that the temptation to misuse these abilities can be dangerous\n",
      "35: i realize that when i m feeling irritable i mentally tag that as something to change\n",
      "36: i live in pensacola fl i feel like the church is in a very dangerous limbo\n",
      "37: i was trying to avoid the reality of my weight or maybe i already felt guilty enough that focusing on me would just make me feel selfish that i wasnt giving everything to elliot\n",
      "38: i am thankful for being here at this very moment and feeling the cold air in the morning on my cheeks and the sun on my back in the afternoon to curl up at night on our dear comfy bed under our down warm and snugly sweet moments happy thanksgiving\n",
      "39: i really tell them how i feel theyll get frustrated vexed affected sad or angry\n",
      "40: i know he has feelings cares about me very much but he s distracted lol\n"
     ]
    }
   ],
   "source": [
    "explore('anger', 40)"
   ]
  },
  {
   "cell_type": "markdown",
   "metadata": {},
   "source": [
    "#### Initial thoughts on 'anger':\n",
    "\n",
    "The number of 'anger' text, is 57317, is the third highest amount in this dataset and represents 13.75% of the dataset.<br>\n",
    "<br>\n",
    "Most of these texts feel very spot-on with the label 'anger' (e.g. \"i left feeling really quite angry and frustrated\", \"i feel disgusted and frustrated\", \"i am now well aware of his intention and feeling insulted\").<br>\n",
    "<br>\n",
    "There are some that may not fit exactly 'anger' (e.g. \"i want to be honest and blunt and tell it like it is and not worry that i might hurt someones feelings or make them make mad me\", \"i feel gleefully rebellious\", \"i find the easiest way to calm down if im feeling agitated is by satisfying each of the five senses\") but can reasonably assessed as such.<br>\n",
    "<br>\n",
    "In general, though, after looking through several random batches of these, amounting to several hundred short texts, it seems that the 'anger' label is fitting."
   ]
  },
  {
   "cell_type": "markdown",
   "metadata": {},
   "source": [
    "### Let's explore 'fear'"
   ]
  },
  {
   "cell_type": "code",
   "execution_count": 9,
   "metadata": {},
   "outputs": [
    {
     "name": "stdout",
     "output_type": "stream",
     "text": [
      "Number of tweets for 'fear': 47712\n",
      "Percentage of the dataset: 11.446969715145308\n",
      "Random indices: [37445, 6189, 33005, 1591, 18605]\n",
      "\n",
      "Random 5 Tweets for emotion 'fear':\n",
      "1: i wake on a monday feeling frantic world spinning before my feet hit the ground\n",
      "2: im so torn between my wants and my needs that its making me feel a little anxious\n",
      "3: i feel a bit apprehensive the captain has hours and hours of sailing experience and a few years back he sailed to hawaii by himself\n",
      "4: i love monos mom and some others in the family but as a whole that family is sick and irritating and i just feel tortured when i am with them\n",
      "5: i just got bad news at work or had a fight with a friend and am already feeling vulnerable theres no way im going to read reviews\n"
     ]
    }
   ],
   "source": [
    "explore('fear')"
   ]
  },
  {
   "cell_type": "markdown",
   "metadata": {},
   "source": [
    "#### Initial thoughts on 'fear':\n",
    "\n",
    "<span style=\"color:red\"><----this section needs to be redone-----></span>\n",
    "\n",
    "This is the second lowest sentiment category with only 179 Tweets representing 0.4475% of the dataset. Like anger, this will be an imbalance issue.<br>\n",
    "<br>\n",
    "The interpretation of 'bored' seems to vary from the traditional sense (e.g. \"I am sooooooo bored in textiles !\", \"is bored. my BFF doesn't want to hang out\") to \"this person must be bored because they have nothing better to do than write this Tweet\" (e.g. \"aw now where's that little asian girl who runs round pooping her pants in public? i miss laughing at her.\", \"my neighbours are far too loud in thier back garden, all I can hear is this loud woman that won't stop laughing\")."
   ]
  },
  {
   "cell_type": "markdown",
   "metadata": {},
   "source": [
    "### Let's explore 'joy'"
   ]
  },
  {
   "cell_type": "code",
   "execution_count": 10,
   "metadata": {},
   "outputs": [
    {
     "name": "stdout",
     "output_type": "stream",
     "text": [
      "Number of tweets for 'joy': 141067\n",
      "Percentage of the dataset: 33.84451871240784\n",
      "Random indices: [3106, 54160, 99782, 112861, 77798]\n",
      "\n",
      "Random 5 Tweets for emotion 'joy':\n",
      "1: i finally stop attempting to save face and tell the staff that i have to go to the hotel doctor i have already been once for the vomiting and did not feel the need to develop any sort of friendly relationship with the doctor\n",
      "2: i mentioned this on my fb profile but i ve gotten to the point where if i see a pilot with a well worn leather pilot s bag that s seen some serious milage all scratched up and almost falling apart i feel reassured\n",
      "3: i feel a bit more assured it s going in the right direction\n",
      "4: i makes me feel more appreciative for the people around me\n",
      "5: i have been feeling jeweltones and rich metallics\n"
     ]
    }
   ],
   "source": [
    "explore('joy')"
   ]
  },
  {
   "cell_type": "markdown",
   "metadata": {},
   "source": [
    "#### Initial thoughts on 'joy'\n",
    "\n",
    "<span style=\"color:red\"><----this section needs to be redone-----></span>\n",
    "\n",
    "It seems that the 'empty' sentiment is very random. At times, there are two or more sentiments expressed (e.g. \"back from grimsby  it sucks bein back but was amazin wknd anyway!!\"). Other times they are just statements of fact or questions (e.g. \"On the way to santa monica\", \"@spook68 morning.any plans for today?\"). Still other times they are just words (\"HELLOO\"). Sometimes, there are Tweets that seem like they should be labeled with one of the other emotions (e.g. \"yay, joss is coming over on saturday\" should probably be labeled 'happiness' or 'enthusiasm') and perhaps because there are possibly two different labels in that last example, the labeler chose to leave it empty.<br>\n",
    "<br>\n",
    "There are 827 of the 'empty' Tweets representing 2.0675% of the dataset. We should consider removing these from the dataset since these seem to be the \"unknown\" type of Tweets."
   ]
  },
  {
   "cell_type": "markdown",
   "metadata": {},
   "source": [
    "### Let's explore 'love'"
   ]
  },
  {
   "cell_type": "code",
   "execution_count": 11,
   "metadata": {},
   "outputs": [
    {
     "name": "stdout",
     "output_type": "stream",
     "text": [
      "Number of tweets for 'love': 34554\n",
      "Percentage of the dataset: 8.29012809224369\n",
      "Random indices: [27129, 10567, 11524, 2481, 26676]\n",
      "\n",
      "Random 5 Tweets for emotion 'love':\n",
      "1: i must be going to sleep feeling longing for something or nothing at all for i feel even number when i wake up\n",
      "2: i feel like again daniel franco didnt get the fullest shake he could have gotten though he was extremely nobel and gracious about it\n",
      "3: i feel we are blessed to live in such a beautiful area and i wouldnt choose anywhere else to live in the world\n",
      "4: i wouldnt fall that deep for you jaslyn but those words u said really make me feel loved\n",
      "5: i am feeling generous and happy today\n"
     ]
    }
   ],
   "source": [
    "explore('love')"
   ]
  },
  {
   "cell_type": "markdown",
   "metadata": {},
   "source": [
    "#### Initial thoughts on 'love':\n",
    "\n",
    "<span style=\"color:red\"><----this section needs to be redone-----></span>\n",
    "\n",
    "These set of Tweets also suffer from some mislabeling issues (e.g. \"I'm bored, extremely bored. in the car. waiting for my dad. and dinner. chinese. yummm.\", \"wishes I could be the one going to our conference in the Bahamas next week\"). Some Tweets seemed to be mislabeled as 'enthusiasm' due to certain keywords (e.g. \"I made my parents add u guys on the family myspace...they were impressed by the song\" -- 'impressed') or perhaps the number of exclamantion points (e.g. \"im so new!! and i need ur help\")."
   ]
  },
  {
   "cell_type": "markdown",
   "metadata": {},
   "source": [
    "### Let's explore 'sadness'"
   ]
  },
  {
   "cell_type": "code",
   "execution_count": null,
   "metadata": {},
   "outputs": [],
   "source": [
    "explore('sadness')"
   ]
  },
  {
   "cell_type": "markdown",
   "metadata": {},
   "source": [
    "#### Initial thoughts on 'sadness':\n",
    "\n",
    "<span style=\"color:red\"><----this section needs to be redone-----></span>\n",
    "\n",
    "This emotion is a bit hard to nail down in terms of what the labelers were going. And, as in other emotions, it seems that there are a lot of mislabeled Tweets."
   ]
  },
  {
   "cell_type": "markdown",
   "metadata": {},
   "source": [
    "### Let's explore 'surprise'"
   ]
  },
  {
   "cell_type": "code",
   "execution_count": null,
   "metadata": {},
   "outputs": [],
   "source": [
    "explore('surprise')"
   ]
  },
  {
   "cell_type": "markdown",
   "metadata": {},
   "source": [
    "#### Initial thoughts on 'surprise':\n",
    "\n",
    "<span style=\"color:red\"><----this section needs to be redone-----></span>\n",
    "\n",
    "Have not gotten to this."
   ]
  },
  {
   "cell_type": "markdown",
   "metadata": {},
   "source": [
    "### General thoughts about the contents of these tweets:\n",
    "\n",
    "There are @mentions, URLs, and character entities (\"\\&nbsp;\", \"\\&quot;\", \"\\&amp;\") that we may want to remove as part of data cleaning since they are superfluous in terms of indicating emotion. There are also hashtags that we may or may not consider removing. Some of these hashtags don't actually add to the sentiment, but some do so we may consider keeping them.<br>\n",
    "<br>\n",
    "Additionally, there are multiple emotions that have a proportionally small amount of records when compared to others ('anger' with 110 records and 'neutral' with 8638). We will have to deal with this somehow, perhaps by using stratified sampling techniquest (https://stackoverflow.com/questions/70849127/training-validation-and-test-sets-for-imbalanced-datasets-in-machine-learning) rather than a random train/test/validation split which may overrepresent the 'neutral' emotion."
   ]
  },
  {
   "cell_type": "markdown",
   "metadata": {},
   "source": [
    "***\n",
    "## 4 Clean the data"
   ]
  },
  {
   "cell_type": "markdown",
   "metadata": {},
   "source": [
    "### Clean the data by removing any @mentions from the content"
   ]
  },
  {
   "cell_type": "code",
   "execution_count": null,
   "metadata": {},
   "outputs": [],
   "source": [
    "# remove @mentions from the 'content' column\n",
    "df['content'] = df['content'].str.replace(r'@\\w+', '')\n",
    "\n",
    "# display the resulting DataFrame\n",
    "print(df.head())"
   ]
  },
  {
   "cell_type": "markdown",
   "metadata": {},
   "source": [
    "### Clean the data by removing any whitespace from the front and end of each tweet"
   ]
  },
  {
   "cell_type": "code",
   "execution_count": null,
   "metadata": {},
   "outputs": [],
   "source": [
    "df['content'] = df['content'].str.strip()\n",
    "\n",
    "# display the resulting DataFrame\n",
    "print(df.head())"
   ]
  }
 ],
 "metadata": {
  "colab": {
   "provenance": []
  },
  "kernelspec": {
   "display_name": "Python 3 (ipykernel)",
   "language": "python",
   "name": "python3"
  },
  "language_info": {
   "codemirror_mode": {
    "name": "ipython",
    "version": 3
   },
   "file_extension": ".py",
   "mimetype": "text/x-python",
   "name": "python",
   "nbconvert_exporter": "python",
   "pygments_lexer": "ipython3",
   "version": "3.9.12"
  }
 },
 "nbformat": 4,
 "nbformat_minor": 1
}
