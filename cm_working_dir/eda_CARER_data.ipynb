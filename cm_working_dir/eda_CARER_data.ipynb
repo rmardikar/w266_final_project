{
 "cells": [
  {
   "cell_type": "markdown",
   "metadata": {
    "id": "z9rigx9lYp0r"
   },
   "source": [
    "***\n",
    "# EDA for tweet_emotions.csv dataset\n",
    "https://github.com/dair-ai/emotion_dataset<br>\n",
    "https://huggingface.co/datasets/dair-ai/emotion\n",
    "***"
   ]
  },
  {
   "cell_type": "markdown",
   "metadata": {},
   "source": [
    "***\n",
    "## 1 Load the CARER dataset\n",
    " <span style=\"color:red\">!!!Make sure to comment out the correct source (Google drive or local)!!!</span>"
   ]
  },
  {
   "cell_type": "code",
   "execution_count": 1,
   "metadata": {
    "colab": {
     "base_uri": "https://localhost:8080/"
    },
    "id": "9j2cEQQtYMBR",
    "outputId": "6f2ae201-8489-40f7-cefd-8d0715350d94"
   },
   "outputs": [
    {
     "name": "stdout",
     "output_type": "stream",
     "text": [
      "                                                     text emotions\n",
      "27383   i feel awful about it too because it s my job ...  sadness\n",
      "110083                              im alone i feel awful  sadness\n",
      "140764  ive probably mentioned this before but i reall...      joy\n",
      "100071           i was feeling a little low few days back  sadness\n",
      "2837    i beleive that i am much more sensitive to oth...     love\n"
     ]
    }
   ],
   "source": [
    "import pandas as pd\n",
    "import numpy as np\n",
    "import random\n",
    "\n",
    "# read from the google drive\n",
    "# url = 'https://drive.google.com/file/d/1e-w7djzvn1LUFutmDgnOh16mYjiVX34s/view?usp=sharing'\n",
    "# source = 'https://drive.google.com/uc?id=' + url.split('/')[-2]\n",
    "\n",
    "# read from local\n",
    "source = '../datasets/carer_data.pkl'\n",
    "\n",
    "# Load the pickled DataFrame\n",
    "df = pd.read_pickle(source)\n",
    "\n",
    "print(df.head())"
   ]
  },
  {
   "cell_type": "markdown",
   "metadata": {},
   "source": [
    "***\n",
    "## 2 Basic EDA"
   ]
  },
  {
   "cell_type": "markdown",
   "metadata": {},
   "source": [
    "### Datatypes for each of the columns in our dataframe"
   ]
  },
  {
   "cell_type": "code",
   "execution_count": 2,
   "metadata": {},
   "outputs": [
    {
     "name": "stdout",
     "output_type": "stream",
     "text": [
      "text        object\n",
      "emotions    object\n",
      "dtype: object\n"
     ]
    }
   ],
   "source": [
    "print(df.dtypes)"
   ]
  },
  {
   "cell_type": "markdown",
   "metadata": {},
   "source": [
    "### Rename the columns to match the other data to make it easier to reuse code"
   ]
  },
  {
   "cell_type": "code",
   "execution_count": 3,
   "metadata": {},
   "outputs": [
    {
     "name": "stdout",
     "output_type": "stream",
     "text": [
      "content      object\n",
      "sentiment    object\n",
      "dtype: object\n"
     ]
    }
   ],
   "source": [
    "# Rename columns using rename() method\n",
    "df.rename(columns={'text': 'content', 'emotions': 'sentiment'}, inplace=True)\n",
    "print(df.dtypes)"
   ]
  },
  {
   "cell_type": "markdown",
   "metadata": {},
   "source": [
    "### Unique types and count of sentiments in the dataset"
   ]
  },
  {
   "cell_type": "code",
   "execution_count": 4,
   "metadata": {},
   "outputs": [
    {
     "name": "stdout",
     "output_type": "stream",
     "text": [
      "           count  percentage\n",
      "joy       141067   33.844519\n",
      "sadness   121187   29.074948\n",
      "anger      57317   13.751383\n",
      "fear       47712   11.446970\n",
      "love       34554    8.290128\n",
      "surprise   14972    3.592053\n"
     ]
    }
   ],
   "source": [
    "# get the value counts of each unique value\n",
    "counts = df['sentiment'].value_counts()\n",
    "\n",
    "# convert the counts to percentages\n",
    "percentages = counts / counts.sum() * 100\n",
    "\n",
    "cp_df = pd.DataFrame({'count': counts, 'percentage': percentages})\n",
    "\n",
    "print(cp_df)"
   ]
  },
  {
   "cell_type": "markdown",
   "metadata": {},
   "source": [
    "### Max and min lengths of the text"
   ]
  },
  {
   "cell_type": "code",
   "execution_count": 5,
   "metadata": {},
   "outputs": [
    {
     "name": "stdout",
     "output_type": "stream",
     "text": [
      "Maximum length: 830\n",
      "Minimum length: 2\n"
     ]
    }
   ],
   "source": [
    "lengths = df['content'].str.len()\n",
    "\n",
    "# display the maximum and minimum lengths\n",
    "print('Maximum length:', lengths.max())\n",
    "print('Minimum length:', lengths.min())"
   ]
  },
  {
   "cell_type": "markdown",
   "metadata": {},
   "source": [
    "#### Initial thoughts on this dataset\n",
    "\n",
    "This dataset, while a bit imbalanced, isn't as imbalanced as the Kaggle dataset that we had looked at initially. Additionally, unlike the Tweet dataset, we have content that is up to 830 characters."
   ]
  },
  {
   "cell_type": "markdown",
   "metadata": {},
   "source": [
    "***\n",
    "## 3 Check each sentiment to see what type of content there is to see if it's legit"
   ]
  },
  {
   "cell_type": "markdown",
   "metadata": {},
   "source": [
    "### All the sentiments"
   ]
  },
  {
   "cell_type": "code",
   "execution_count": 6,
   "metadata": {},
   "outputs": [
    {
     "name": "stdout",
     "output_type": "stream",
     "text": [
      "['anger', 'fear', 'joy', 'love', 'sadness', 'surprise']\n"
     ]
    }
   ],
   "source": [
    "all_sentiments = sorted(df['sentiment'].unique())\n",
    "print(all_sentiments)"
   ]
  },
  {
   "cell_type": "markdown",
   "metadata": {},
   "source": [
    "### A function to explore the sentiments"
   ]
  },
  {
   "cell_type": "code",
   "execution_count": 7,
   "metadata": {},
   "outputs": [],
   "source": [
    "# pass the emotion and number of random text to see\n",
    "def explore(emotion=None, num_tweets=5):\n",
    "    if emotion == None:\n",
    "        return 'no emotion provided'\n",
    "    elif emotion not in all_sentiments:\n",
    "        return 'not one of the sentiments in the dataframe'\n",
    "    else:\n",
    "        content = df.loc[df['sentiment'] == emotion, 'content']\n",
    "\n",
    "        random_nums = random.sample(range(len(content)), num_tweets)\n",
    "        \n",
    "        print(f\"Number of tweets for '{emotion}': {len(content)}\")\n",
    "        print(f\"Percentage of the dataset: {cp_df.loc[emotion].percentage}\")\n",
    "        print(f\"Random indices: {random_nums}\", end='\\n\\n')\n",
    "        print(f\"Random {num_tweets} Tweets for emotion '{emotion}':\")\n",
    "\n",
    "        counter = 1\n",
    "        for tweet in content.iloc[random_nums]:\n",
    "            print(f\"{counter}: {tweet}\", end='\\n')\n",
    "            counter = counter + 1"
   ]
  },
  {
   "cell_type": "markdown",
   "metadata": {},
   "source": [
    "### Uncomment to see all sentiments at once"
   ]
  },
  {
   "cell_type": "code",
   "execution_count": null,
   "metadata": {},
   "outputs": [],
   "source": [
    "# this cell prints all of the sentiments all at once,\n",
    "# but keeping it commented out for now\n",
    "\n",
    "# for emotion in all_sentiments:\n",
    "#     explore(emotion)\n",
    "#     print('**********************************************************\\n**********************************************************\\n')"
   ]
  },
  {
   "cell_type": "markdown",
   "metadata": {},
   "source": [
    "### Let's explore 'anger'"
   ]
  },
  {
   "cell_type": "code",
   "execution_count": 15,
   "metadata": {},
   "outputs": [
    {
     "name": "stdout",
     "output_type": "stream",
     "text": [
      "Number of tweets for 'anger': 57317\n",
      "Percentage of the dataset: 13.751382527728529\n",
      "Random indices: [22018, 21561, 1230, 44874, 48454]\n",
      "\n",
      "Random 5 Tweets for emotion 'anger':\n",
      "1: i know he isn t doing these things on purpose i still feel irritated\n",
      "2: id break down my question like this if the bunch of us feels dissatisfied with the current state of uu theology would we read a new crop of publications specialized blogs online magazines new periodicals books\n",
      "3: i am more aware of my self in the dynamic of the relationship and speak up if ever i feel disrespected or offended\n",
      "4: i finished with that article not feeling particularly enraged just annoyed i saw there was a second featured article beneath it called a style font weight bold href http health\n",
      "5: i feel despised and i dont deserve that\n"
     ]
    }
   ],
   "source": [
    "explore('anger')"
   ]
  },
  {
   "cell_type": "markdown",
   "metadata": {},
   "source": [
    "#### Initial thoughts on 'anger':\n",
    "\n",
    "The number of 'anger' text, is 57317, is the third highest amount in this dataset and represents 13.75% of the dataset.<br>\n",
    "<br>\n",
    "Most of these texts feel very spot-on with the label 'anger' (e.g. \"i left feeling really quite angry and frustrated\", \"i feel disgusted and frustrated\", \"i am now well aware of his intention and feeling insulted\").<br>\n",
    "<br>\n",
    "There are some that may not fit exactly 'anger' (e.g. \"i want to be honest and blunt and tell it like it is and not worry that i might hurt someones feelings or make them make mad me\", \"i feel gleefully rebellious\", \"i find the easiest way to calm down if im feeling agitated is by satisfying each of the five senses\") but can reasonably assessed as such.<br>\n",
    "<br>\n",
    "In general, though, after looking through several random batches of these, amounting to several hundred short texts, it seems that the 'anger' label is fitting."
   ]
  },
  {
   "cell_type": "markdown",
   "metadata": {},
   "source": [
    "### Let's explore 'fear'"
   ]
  },
  {
   "cell_type": "code",
   "execution_count": 20,
   "metadata": {},
   "outputs": [
    {
     "name": "stdout",
     "output_type": "stream",
     "text": [
      "Number of tweets for 'fear': 47712\n",
      "Percentage of the dataset: 11.446969715145308\n",
      "Random indices: [46142, 11482, 2207, 35121, 17262]\n",
      "\n",
      "Random 5 Tweets for emotion 'fear':\n",
      "1: i do not feel threatened at all by spain\n",
      "2: i feel reluctant to go back to the vivos maybe i still prefer heel or midfoot strike over the forefoot one\n",
      "3: i feel scared when you don t call\n",
      "4: i feel pressured by christian culture\n",
      "5: i now feel alarmed and uneasy\n"
     ]
    }
   ],
   "source": [
    "explore('fear')"
   ]
  },
  {
   "cell_type": "markdown",
   "metadata": {},
   "source": [
    "#### Initial thoughts on 'fear':\n",
    "\n",
    "Like 'anger', these texts seem to be in line with their labeled emotion ('fear')."
   ]
  },
  {
   "cell_type": "markdown",
   "metadata": {},
   "source": [
    "### Let's explore 'joy'"
   ]
  },
  {
   "cell_type": "code",
   "execution_count": 25,
   "metadata": {},
   "outputs": [
    {
     "name": "stdout",
     "output_type": "stream",
     "text": [
      "Number of tweets for 'joy': 141067\n",
      "Percentage of the dataset: 33.84451871240784\n",
      "Random indices: [50833, 63199, 6679, 130321, 85511]\n",
      "\n",
      "Random 5 Tweets for emotion 'joy':\n",
      "1: i feel as if it would be more useful for your computer at home that you use for social network\n",
      "2: i feel assured and do not have to worry about missing out any important work anymore\n",
      "3: i hadn t planned my route i was slightly dehydrated and did not feel particularly energetic\n",
      "4: i feel venus is gifting us is the perfect opportunity to reconcile the masculine and feminine within and also integrate our divine selves with our physical selves\n",
      "5: i feel artistic at times i always lose steam on projects quickly\n"
     ]
    }
   ],
   "source": [
    "explore('joy')"
   ]
  },
  {
   "cell_type": "markdown",
   "metadata": {},
   "source": [
    "#### Initial thoughts on 'joy'\n",
    "\n",
    "The 'joy' label seems to be a mixed bag. There are some that seem to fit the label (e.g. \"i feel good about the way im going to look that day\", \"i never feel so bouncy and happy like this since i was kid\") while others definitely do not fit (e.g. \"i didnt really feel satisfied with the solution\", \"i feel no less pain feel no less resolved in my head about why\")."
   ]
  },
  {
   "cell_type": "markdown",
   "metadata": {},
   "source": [
    "### Let's explore 'love'"
   ]
  },
  {
   "cell_type": "code",
   "execution_count": 29,
   "metadata": {},
   "outputs": [
    {
     "name": "stdout",
     "output_type": "stream",
     "text": [
      "Number of tweets for 'love': 34554\n",
      "Percentage of the dataset: 8.29012809224369\n",
      "Random indices: [25723, 11862, 21503, 28868, 17146]\n",
      "\n",
      "Random 5 Tweets for emotion 'love':\n",
      "1: i feel quite passionate about the subject of religious tolerance\n",
      "2: i feel every ounce of his love in his adoring mouth every bit of more in his strong arms that hold me securely to him\n",
      "3: i feel it when i enjoy the humidity of a summer day or talk about loving to read genealogies or want to really see the cows at the fair rather than just walk by them to say i did\n",
      "4: i will return shortly to the lyrics but it must be said that as a whole these songs musically capture a feeling of longing and loneliness for which i suspect there is not as direct a comparison in most rock music\n",
      "5: i dont know about my siblings since for the past two years they arent around everytime i go back but i feel very sympathetic for him\n"
     ]
    }
   ],
   "source": [
    "explore('love')"
   ]
  },
  {
   "cell_type": "markdown",
   "metadata": {},
   "source": [
    "#### Initial thoughts on 'love':\n",
    "\n",
    "Same as 'joy'. Labeling is a mixed bag."
   ]
  },
  {
   "cell_type": "markdown",
   "metadata": {},
   "source": [
    "### Let's explore 'sadness'"
   ]
  },
  {
   "cell_type": "code",
   "execution_count": 40,
   "metadata": {},
   "outputs": [
    {
     "name": "stdout",
     "output_type": "stream",
     "text": [
      "Number of tweets for 'sadness': 121187\n",
      "Percentage of the dataset: 29.07494799776396\n",
      "Random indices: [88468, 76346, 70461, 113469, 87187]\n",
      "\n",
      "Random 5 Tweets for emotion 'sadness':\n",
      "1: i feel terrible about myself\n",
      "2: i feel it in my bones broke some records here en route to a multi stay run at put one out every year but they just released a greatest hits set direct hits with only two new tracks including the shot in the night with nothing seasonal on it\n",
      "3: i were left alone for large chunks of time in the delivery room feeling helpless clueless and upset\n",
      "4: i have thought id feel so heartbroken again\n",
      "5: i always check my posing list that i accumulate beforehand i really have to know what kind of poses photos i m going to produce and take it from there otherwise i feel so blank during a shoot\n"
     ]
    }
   ],
   "source": [
    "explore('sadness')"
   ]
  },
  {
   "cell_type": "markdown",
   "metadata": {},
   "source": [
    "#### Initial thoughts on 'sadness':\n",
    "\n",
    "More of these feel like texts along the lines of 'sadness' than do 'love' and 'joy'; however, there are some that also seem mislabeled, though not as many proportionally. This is among the largest cohort in the dataset."
   ]
  },
  {
   "cell_type": "markdown",
   "metadata": {},
   "source": [
    "### Let's explore 'surprise'"
   ]
  },
  {
   "cell_type": "code",
   "execution_count": 46,
   "metadata": {},
   "outputs": [
    {
     "name": "stdout",
     "output_type": "stream",
     "text": [
      "Number of tweets for 'surprise': 14972\n",
      "Percentage of the dataset: 3.5920529547106708\n",
      "Random indices: [5586, 148, 3583, 10757, 3001, 1792, 6451, 2819, 5562, 1267, 3772, 4799, 2690, 9363, 10623]\n",
      "\n",
      "Random 15 Tweets for emotion 'surprise':\n",
      "1: i feel so weird right now so far away from everyone just in my own fucking world doing whatever i please\n",
      "2: i haven t had short hair in a long time and am feeling curious\n",
      "3: i too feel surprised to be headed down this path\n",
      "4: i really liked the book though it had a lot of good things to say and i thought the story was one in which many people could find enjoyment once they get past feeling shocked about some of the issues that come up\n",
      "5: im feeling amazed by the blessings in this life of mine\n",
      "6: i feel that i should give thanks for my amazing family\n",
      "7: i had a feeling i was going to be less than impressed once j davey hit the stage because it was going to sound so craptacular\n",
      "8: i like it when i came out of the cinema feeling impressed\n",
      "9: i continued to feel more like a curious observer than a mom\n",
      "10: i always feel a bit strange watching tt stuff because before i was born my father raced there on his brough superior cc bike it is impossible for me to visualise him flipping his weight around at a hundred miles an hour but im sure he did\n",
      "11: i remember uploading the photos of the kit to the etsy shop and i was feeling funny\n",
      "12: i am excited to draw paint collage and get my hands dirty but for whatever reason i am feeling a bit overwhelmed\n",
      "13: i could see them but i was starting to feel dazed\n",
      "14: i feel as though it shouldnt have shocked me like it did but it in fact terrified me\n",
      "15: i feel strange confidence about it\n"
     ]
    }
   ],
   "source": [
    "explore('surprise', 15)"
   ]
  },
  {
   "cell_type": "markdown",
   "metadata": {},
   "source": [
    "#### Initial thoughts on 'surprise':\n",
    "\n",
    "Comments same as 'sadness'."
   ]
  },
  {
   "cell_type": "markdown",
   "metadata": {},
   "source": [
    "### General thoughts about the contents of these tweets:\n",
    "\n",
    "This data appears to have been pre-processed: no apostrophes (replaced with whitespace), no numerical digits, all lowercase, and punctuation removed.<br>\n",
    "<br>\n",
    "In general this data seems to be more or less on target with the labels. There are some, of course, that may seem out of place for the label in question, but generally speaking the labels within each cohort seem to be on track."
   ]
  },
  {
   "cell_type": "markdown",
   "metadata": {},
   "source": [
    "***\n",
    "## 4 Clean the data"
   ]
  },
  {
   "cell_type": "markdown",
   "metadata": {},
   "source": [
    "### Clean the data by removing any @mentions from the content"
   ]
  },
  {
   "cell_type": "code",
   "execution_count": 47,
   "metadata": {},
   "outputs": [
    {
     "name": "stdout",
     "output_type": "stream",
     "text": [
      "                                                  content sentiment\n",
      "27383   i feel awful about it too because it s my job ...   sadness\n",
      "110083                              im alone i feel awful   sadness\n",
      "140764  ive probably mentioned this before but i reall...       joy\n",
      "100071           i was feeling a little low few days back   sadness\n",
      "2837    i beleive that i am much more sensitive to oth...      love\n"
     ]
    },
    {
     "name": "stderr",
     "output_type": "stream",
     "text": [
      "/var/folders/98/1dx552ps4m9367dbldkwdp0h0000gn/T/ipykernel_40455/3023358060.py:2: FutureWarning: The default value of regex will change from True to False in a future version.\n",
      "  df['content'] = df['content'].str.replace(r'@\\w+', '')\n"
     ]
    }
   ],
   "source": [
    "# remove @mentions from the 'content' column\n",
    "df['content'] = df['content'].str.replace(r'@\\w+', '')\n",
    "\n",
    "# display the resulting DataFrame\n",
    "print(df.head())"
   ]
  },
  {
   "cell_type": "markdown",
   "metadata": {},
   "source": [
    "### Clean the data by removing any whitespace from the front and end of each tweet"
   ]
  },
  {
   "cell_type": "code",
   "execution_count": 48,
   "metadata": {},
   "outputs": [
    {
     "name": "stdout",
     "output_type": "stream",
     "text": [
      "                                                  content sentiment\n",
      "27383   i feel awful about it too because it s my job ...   sadness\n",
      "110083                              im alone i feel awful   sadness\n",
      "140764  ive probably mentioned this before but i reall...       joy\n",
      "100071           i was feeling a little low few days back   sadness\n",
      "2837    i beleive that i am much more sensitive to oth...      love\n"
     ]
    }
   ],
   "source": [
    "df['content'] = df['content'].str.strip()\n",
    "\n",
    "# display the resulting DataFrame\n",
    "print(df.head())"
   ]
  }
 ],
 "metadata": {
  "colab": {
   "provenance": []
  },
  "kernelspec": {
   "display_name": "Python 3 (ipykernel)",
   "language": "python",
   "name": "python3"
  },
  "language_info": {
   "codemirror_mode": {
    "name": "ipython",
    "version": 3
   },
   "file_extension": ".py",
   "mimetype": "text/x-python",
   "name": "python",
   "nbconvert_exporter": "python",
   "pygments_lexer": "ipython3",
   "version": "3.9.12"
  }
 },
 "nbformat": 4,
 "nbformat_minor": 1
}
