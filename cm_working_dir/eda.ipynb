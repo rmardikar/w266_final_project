{
 "cells": [
  {
   "cell_type": "markdown",
   "metadata": {
    "id": "z9rigx9lYp0r"
   },
   "source": [
    "***\n",
    "# EDA for tweet_emotions.csv dataset\n",
    "***\n",
    "https://www.kaggle.com/datasets/pashupatigupta/emotion-detection-from-text"
   ]
  },
  {
   "cell_type": "markdown",
   "metadata": {},
   "source": [
    "***\n",
    "## Load the dataset\n",
    " <span style=\"color:red\">!!!Make sure to comment out the correct source (Google drive or local)!!!</span>"
   ]
  },
  {
   "cell_type": "code",
   "execution_count": 1,
   "metadata": {
    "colab": {
     "base_uri": "https://localhost:8080/"
    },
    "id": "9j2cEQQtYMBR",
    "outputId": "6f2ae201-8489-40f7-cefd-8d0715350d94"
   },
   "outputs": [
    {
     "name": "stdout",
     "output_type": "stream",
     "text": [
      "     tweet_id   sentiment                                            content\n",
      "0  1956967341       empty  @tiffanylue i know  i was listenin to bad habi...\n",
      "1  1956967666     sadness  Layin n bed with a headache  ughhhh...waitin o...\n",
      "2  1956967696     sadness                Funeral ceremony...gloomy friday...\n",
      "3  1956967789  enthusiasm               wants to hang out with friends SOON!\n",
      "4  1956968416     neutral  @dannycastillo We want to trade with someone w...\n"
     ]
    }
   ],
   "source": [
    "import pandas as pd\n",
    "import numpy as np\n",
    "import random\n",
    "\n",
    "# read from the google drive\n",
    "# url = 'https://drive.google.com/file/d/1xv5hff4DntWz6gn4KMXkBQ6t5_Vs16MQ/view?usp=sharing'\n",
    "# url = 'https://drive.google.com/uc?id=' + url.split('/')[-2]\n",
    "\n",
    "# read from local\n",
    "url = '../datasets/tweet_emotions.csv'\n",
    "\n",
    "df = pd.read_csv(url)\n",
    "\n",
    "print(df.head())"
   ]
  },
  {
   "cell_type": "markdown",
   "metadata": {},
   "source": [
    "## These are the datatypes for each of the columns in our dataframe"
   ]
  },
  {
   "cell_type": "code",
   "execution_count": 2,
   "metadata": {},
   "outputs": [
    {
     "name": "stdout",
     "output_type": "stream",
     "text": [
      "tweet_id      int64\n",
      "sentiment    object\n",
      "content      object\n",
      "dtype: object\n"
     ]
    }
   ],
   "source": [
    "print(df.dtypes)"
   ]
  },
  {
   "cell_type": "markdown",
   "metadata": {},
   "source": [
    "## These are the unique types and count of sentiments captured in the dataset"
   ]
  },
  {
   "cell_type": "code",
   "execution_count": 3,
   "metadata": {},
   "outputs": [
    {
     "name": "stdout",
     "output_type": "stream",
     "text": [
      "            count  percentage\n",
      "neutral      8638     21.5950\n",
      "worry        8459     21.1475\n",
      "happiness    5209     13.0225\n",
      "sadness      5165     12.9125\n",
      "love         3842      9.6050\n",
      "surprise     2187      5.4675\n",
      "fun          1776      4.4400\n",
      "relief       1526      3.8150\n",
      "hate         1323      3.3075\n",
      "empty         827      2.0675\n",
      "enthusiasm    759      1.8975\n",
      "boredom       179      0.4475\n",
      "anger         110      0.2750\n"
     ]
    }
   ],
   "source": [
    "# get the value counts of each unique value\n",
    "counts = df['sentiment'].value_counts()\n",
    "\n",
    "# convert the counts to percentages\n",
    "percentages = counts / counts.sum() * 100\n",
    "\n",
    "print(pd.DataFrame({'count': counts, 'percentage': percentages}))"
   ]
  },
  {
   "cell_type": "markdown",
   "metadata": {},
   "source": [
    "## What are the max and min lengths of the tweets that we're dealing with?"
   ]
  },
  {
   "cell_type": "code",
   "execution_count": 4,
   "metadata": {},
   "outputs": [
    {
     "name": "stdout",
     "output_type": "stream",
     "text": [
      "Maximum length: 167\n",
      "Minimum length: 1\n"
     ]
    }
   ],
   "source": [
    "lengths = df['content'].str.len()\n",
    "\n",
    "# display the maximum and minimum lengths\n",
    "print('Maximum length:', lengths.max())\n",
    "print('Minimum length:', lengths.min())"
   ]
  },
  {
   "cell_type": "markdown",
   "metadata": {},
   "source": [
    "***\n",
    "***\n",
    "## Check each sentiment to see what type of content there is to see if it's legit"
   ]
  },
  {
   "cell_type": "code",
   "execution_count": 5,
   "metadata": {},
   "outputs": [
    {
     "name": "stdout",
     "output_type": "stream",
     "text": [
      "['anger', 'boredom', 'empty', 'enthusiasm', 'fun', 'happiness', 'hate', 'love', 'neutral', 'relief', 'sadness', 'surprise', 'worry']\n"
     ]
    }
   ],
   "source": [
    "print(sorted(df['sentiment'].unique()))"
   ]
  },
  {
   "cell_type": "code",
   "execution_count": null,
   "metadata": {},
   "outputs": [],
   "source": [
    "# this cell prints all of the sentiments all at once,\n",
    "# but keeping it commented out for now\n",
    "\n",
    "# unique_sentiments = df['sentiment'].unique()\n",
    "\n",
    "# for emotion in unique_sentiments:\n",
    "#     content = df.loc[df['sentiment'] == emotion, 'content']\n",
    "#     print(f\"Random 5 elements of 'content' column for emotion '{emotion}':\")\n",
    "\n",
    "#     random_nums = random.sample(range(len(content)), 5)\n",
    "#     print(f\"Number of tweets for '{emotion}': {len(content)}\\nRandom indices:' {random_nums}\", end='\\n\\n')\n",
    "#     print(f\"Random 5 elements of 'content' column for emotion '{emotion}'\")\n",
    "    \n",
    "#     counter = 0\n",
    "#     for tweet in content.iloc[random_nums]:\n",
    "#         print(f\"{counter}: {tweet}\")\n",
    "#         counter = counter + 1\n",
    "    \n",
    "#     print('\\n')"
   ]
  },
  {
   "cell_type": "markdown",
   "metadata": {},
   "source": [
    "***\n",
    "### Let's explore 'anger'"
   ]
  },
  {
   "cell_type": "code",
   "execution_count": 12,
   "metadata": {},
   "outputs": [
    {
     "name": "stdout",
     "output_type": "stream",
     "text": [
      "Number of tweets for 'anger': 110\n",
      "Random indices:' [59, 30, 37, 13, 78]\n",
      "\n",
      "Random 5 elements of 'content' column for emotion 'anger'\n",
      "0: sam and sean are teasing me saying they are gonna get wings without me\n",
      "1: @aranarose Murphy's Law?  Sorry that your computer is not cooperating when you have lots of work. My kids are .. http://tinyurl.com/km235x\n",
      "2: Very bad things.......I need to stop thinking!\n",
      "3: @drakesizzle  If you don't want to come then don't come. JEEEEEZ.\n",
      "4: @PENLDN just got in, gonna go upto bed in a sec, not drunk! I'm disgusted with myself  haha\n"
     ]
    }
   ],
   "source": [
    "emotion = 'anger'\n",
    "\n",
    "content = df.loc[df['sentiment'] == emotion, 'content']\n",
    "\n",
    "random_nums = random.sample(range(len(content)), 5)\n",
    "print(f\"Number of tweets for '{emotion}': {len(content)}\\nRandom indices:' {random_nums}\", end='\\n\\n')\n",
    "print(f\"Random 5 elements of 'content' column for emotion '{emotion}'\")\n",
    "\n",
    "counter = 0\n",
    "for tweet in content.iloc[random_nums]:\n",
    "    print(f\"{counter}: {tweet}\", end='\\n')\n",
    "    counter = counter + 1"
   ]
  },
  {
   "cell_type": "markdown",
   "metadata": {},
   "source": [
    "#### Initial thoughts on 'anger':\n",
    "\n",
    "The number of 'anger' tweets, 110, is the lowest count in the dataset and represents just 0.2750% of the dataset. This will lead to an imbalance issue.<br>\n",
    "<br>\n",
    "Some of these Tweets seem to be mislabeled (e.g. \"omg! goooood ass nappy nap  jusss woke up bout 2 clean up a lil then get ready\", \"OIL IS CHANGED!  And I am filthy.    But it's an accomplished filthy.\", \"Just sittin here waitin for my coffee to be full grown on farm town before going to bed\"). But most seem to be labeled correctly (e.g. \"What did I do to you!  sheesh\", \"The &quot;Catch Me If You Can&quot; DVD that I rented from Blockbuster.com yesterday was cracked. Figured it out about 35 minutes into the movie.\", \"@drakesizzle  If you don't want to come then don't come. JEEEEEZ.\").<br>\n",
    "***"
   ]
  },
  {
   "cell_type": "markdown",
   "metadata": {},
   "source": [
    "***\n",
    "### Let's explore 'boredom'"
   ]
  },
  {
   "cell_type": "code",
   "execution_count": 16,
   "metadata": {},
   "outputs": [
    {
     "name": "stdout",
     "output_type": "stream",
     "text": [
      "Number of tweets for 'boredom': 179\n",
      "Random indices:' [86, 32, 22, 47, 36]\n",
      "\n",
      "Random 5 elements of 'content' column for emotion 'boredom'\n",
      "0: @random_nexus he has to have a new suitcase, but he is just so bloody indecicive, everytime he wants to buy something it takes HOURS\n",
      "1: nomatter how much i sleep am still tired\n",
      "2: why im not sleeping  !!\n",
      "3: I want to go to my home!!! D: I don't like stay in the work all alone\n",
      "4: I am sooooooo bored in textiles !\n"
     ]
    }
   ],
   "source": [
    "emotion = 'boredom'\n",
    "\n",
    "content = df.loc[df['sentiment'] == emotion, 'content']\n",
    "\n",
    "random_nums = random.sample(range(len(content)), 5)\n",
    "print(f\"Number of tweets for '{emotion}': {len(content)}\\nRandom indices:' {random_nums}\", end='\\n\\n')\n",
    "print(f\"Random 5 elements of 'content' column for emotion '{emotion}'\")\n",
    "\n",
    "counter = 0\n",
    "for tweet in content.iloc[random_nums]:\n",
    "    print(f\"{counter}: {tweet}\", end='\\n')\n",
    "    counter = counter + 1"
   ]
  },
  {
   "cell_type": "markdown",
   "metadata": {},
   "source": [
    "#### Initial thoughts on 'boredom':\n",
    "\n",
    "This is the second lowest sentiment category with only 179 Tweets representing 0.4475% of the dataset. Like anger, this will be an imbalance issue.<br>\n",
    "<br>\n",
    "The interpretation of 'bored' seems to vary from the traditional sense (e.g. \"I am sooooooo bored in textiles !\", \"is bored. my BFF doesn't want to hang out\") to \"this person must be bored because they have nothing better to do than write this Tweet\" (e.g. \"aw now where's that little asian girl who runs round pooping her pants in public? i miss laughing at her.\", \"my neighbours are far too loud in thier back garden, all I can hear is this loud woman that won't stop laughing\")"
   ]
  },
  {
   "cell_type": "markdown",
   "metadata": {},
   "source": [
    "### Let's explore 'empty'"
   ]
  },
  {
   "cell_type": "code",
   "execution_count": null,
   "metadata": {},
   "outputs": [],
   "source": [
    "emotion = 'empty'\n",
    "\n",
    "content = df.loc[df['sentiment'] == emotion, 'content']\n",
    "print(f\"Random 5 elements of 'content' column for emotion '{emotion}':\")\n",
    "\n",
    "random_nums = np.random.randint(0, len(content), size=5)\n",
    "\n",
    "counter = 0\n",
    "for tweet in content.iloc[random_nums]:\n",
    "    print(f\"{counter}: {tweet}\", end='\\n')\n",
    "    counter = counter + 1"
   ]
  },
  {
   "cell_type": "markdown",
   "metadata": {},
   "source": [
    "#### Initial thoughts on 'empty'\n",
    "\n",
    "It seems that the 'empty' sentiment is very random. At times, there are two or more sentiments expressed (\"back from grimsby  it sucks bein back but was amazin wknd anyway!!\"). Other times they are just statements of fact or questions (\"On the way to santa monica\", \"@spook68 morning.any plans for today?\"). Still other times they are just words (\"HELLOO\"). Sometimes, there are Tweets that seem like they should be labeled with an emotion (\"yay, joss is coming over on saturday\" should probably be labeled 'happiness' or 'enthusiasm') and perhaps because there are possibly two different labels, the labeler chose to leave it empty."
   ]
  },
  {
   "cell_type": "markdown",
   "metadata": {},
   "source": [
    "### Let's explore 'enthusiasm'"
   ]
  },
  {
   "cell_type": "code",
   "execution_count": null,
   "metadata": {},
   "outputs": [],
   "source": [
    "emotion = 'enthusiasm'\n",
    "\n",
    "content = df.loc[df['sentiment'] == emotion, 'content']\n",
    "print(f\"Random 5 elements of 'content' column for emotion '{emotion}':\")\n",
    "\n",
    "random_nums = np.random.randint(0, len(content), size=5)\n",
    "\n",
    "counter = 0\n",
    "for tweet in content.iloc[random_nums]:\n",
    "    print(f\"{counter}: {tweet}\", end='\\n')\n",
    "    counter = counter + 1"
   ]
  },
  {
   "cell_type": "markdown",
   "metadata": {},
   "source": [
    "#### Initial thoughts on 'enthusiasm':\n",
    "\n",
    "asdf"
   ]
  },
  {
   "cell_type": "markdown",
   "metadata": {},
   "source": [
    "### Let's explore 'fun'"
   ]
  },
  {
   "cell_type": "code",
   "execution_count": null,
   "metadata": {},
   "outputs": [],
   "source": [
    "emotion = 'fun'\n",
    "\n",
    "content = df.loc[df['sentiment'] == emotion, 'content']\n",
    "print(f\"Random 5 elements of 'content' column for emotion '{emotion}':\")\n",
    "\n",
    "random_nums = np.random.randint(0, len(content), size=5)\n",
    "\n",
    "counter = 0\n",
    "for tweet in content.iloc[random_nums]:\n",
    "    print(f\"{counter}: {tweet}\", end='\\n')\n",
    "    counter = counter + 1"
   ]
  },
  {
   "cell_type": "markdown",
   "metadata": {},
   "source": [
    "#### Initial thoughts on 'fun':\n",
    "\n",
    "asdf"
   ]
  },
  {
   "cell_type": "markdown",
   "metadata": {},
   "source": [
    "### Let's explore 'happiness'"
   ]
  },
  {
   "cell_type": "code",
   "execution_count": null,
   "metadata": {},
   "outputs": [],
   "source": [
    "emotion = 'happiness'\n",
    "\n",
    "content = df.loc[df['sentiment'] == emotion, 'content']\n",
    "print(f\"Random 5 elements of 'content' column for emotion '{emotion}':\")\n",
    "\n",
    "random_nums = np.random.randint(0, len(content), size=5)\n",
    "\n",
    "counter = 0\n",
    "for tweet in content.iloc[random_nums]:\n",
    "    print(f\"{counter}: {tweet}\", end='\\n')\n",
    "    counter = counter + 1"
   ]
  },
  {
   "cell_type": "markdown",
   "metadata": {},
   "source": [
    "#### Initial thoughts on 'happiness':\n",
    "\n",
    "asdf"
   ]
  },
  {
   "cell_type": "markdown",
   "metadata": {},
   "source": [
    "### Let's explore 'hate'"
   ]
  },
  {
   "cell_type": "code",
   "execution_count": null,
   "metadata": {},
   "outputs": [],
   "source": [
    "emotion = 'hate'\n",
    "\n",
    "content = df.loc[df['sentiment'] == emotion, 'content']\n",
    "print(f\"Random 5 elements of 'content' column for emotion '{emotion}':\")\n",
    "\n",
    "random_nums = np.random.randint(0, len(content), size=5)\n",
    "\n",
    "counter = 0\n",
    "for tweet in content.iloc[random_nums]:\n",
    "    print(f\"{counter}: {tweet}\", end='\\n')\n",
    "    counter = counter + 1"
   ]
  },
  {
   "cell_type": "markdown",
   "metadata": {},
   "source": [
    "#### Initial thoughts on 'hate':\n",
    "\n",
    "asdf"
   ]
  },
  {
   "cell_type": "markdown",
   "metadata": {},
   "source": [
    "### Let's explore 'love'"
   ]
  },
  {
   "cell_type": "code",
   "execution_count": null,
   "metadata": {},
   "outputs": [],
   "source": [
    "emotion = 'love'\n",
    "\n",
    "content = df.loc[df['sentiment'] == emotion, 'content']\n",
    "print(f\"Random 5 elements of 'content' column for emotion '{emotion}':\")\n",
    "\n",
    "random_nums = np.random.randint(0, len(content), size=5)\n",
    "\n",
    "counter = 0\n",
    "for tweet in content.iloc[random_nums]:\n",
    "    print(f\"{counter}: {tweet}\", end='\\n')\n",
    "    counter = counter + 1"
   ]
  },
  {
   "cell_type": "markdown",
   "metadata": {},
   "source": [
    "#### Initial thoughts on 'love':\n",
    "\n",
    "asdf"
   ]
  },
  {
   "cell_type": "markdown",
   "metadata": {},
   "source": [
    "### Let's explore 'neutral'"
   ]
  },
  {
   "cell_type": "code",
   "execution_count": null,
   "metadata": {},
   "outputs": [],
   "source": [
    "emotion = 'neutral'\n",
    "\n",
    "content = df.loc[df['sentiment'] == emotion, 'content']\n",
    "print(f\"Random 5 elements of 'content' column for emotion '{emotion}':\")\n",
    "\n",
    "random_nums = np.random.randint(0, len(content), size=5)\n",
    "\n",
    "counter = 0\n",
    "for tweet in content.iloc[random_nums]:\n",
    "    print(f\"{counter}: {tweet}\", end='\\n')\n",
    "    counter = counter + 1"
   ]
  },
  {
   "cell_type": "markdown",
   "metadata": {},
   "source": [
    "#### Initial thoughts on 'neutral':\n",
    "\n",
    "asdf"
   ]
  },
  {
   "cell_type": "markdown",
   "metadata": {},
   "source": [
    "### Let's explore 'relief'"
   ]
  },
  {
   "cell_type": "code",
   "execution_count": null,
   "metadata": {},
   "outputs": [],
   "source": [
    "emotion = 'relief'\n",
    "\n",
    "content = df.loc[df['sentiment'] == emotion, 'content']\n",
    "print(f\"Random 5 elements of 'content' column for emotion '{emotion}':\")\n",
    "\n",
    "random_nums = np.random.randint(0, len(content), size=5)\n",
    "\n",
    "counter = 0\n",
    "for tweet in content.iloc[random_nums]:\n",
    "    print(f\"{counter}: {tweet}\", end='\\n')\n",
    "    counter = counter + 1"
   ]
  },
  {
   "cell_type": "markdown",
   "metadata": {},
   "source": [
    "#### Initial thoughts on 'relief':\n",
    "\n",
    "asdf"
   ]
  },
  {
   "cell_type": "markdown",
   "metadata": {},
   "source": [
    "### Let's explore 'sadness'"
   ]
  },
  {
   "cell_type": "code",
   "execution_count": null,
   "metadata": {},
   "outputs": [],
   "source": [
    "emotion = 'sadness'\n",
    "\n",
    "content = df.loc[df['sentiment'] == emotion, 'content']\n",
    "print(f\"Random 5 elements of 'content' column for emotion '{emotion}':\")\n",
    "\n",
    "random_nums = np.random.randint(0, len(content), size=5)\n",
    "\n",
    "counter = 0\n",
    "for tweet in content.iloc[random_nums]:\n",
    "    print(f\"{counter}: {tweet}\", end='\\n')\n",
    "    counter = counter + 1"
   ]
  },
  {
   "cell_type": "markdown",
   "metadata": {},
   "source": [
    "#### Initial thoughts on 'sadness':\n",
    "\n",
    "asdf"
   ]
  },
  {
   "cell_type": "markdown",
   "metadata": {},
   "source": [
    "### Let's explore 'surprise'"
   ]
  },
  {
   "cell_type": "code",
   "execution_count": null,
   "metadata": {},
   "outputs": [],
   "source": [
    "emotion = 'surprise'\n",
    "\n",
    "content = df.loc[df['sentiment'] == emotion, 'content']\n",
    "print(f\"Random 5 elements of 'content' column for emotion '{emotion}':\")\n",
    "\n",
    "random_nums = np.random.randint(0, len(content), size=5)\n",
    "\n",
    "counter = 0\n",
    "for tweet in content.iloc[random_nums]:\n",
    "    print(f\"{counter}: {tweet}\", end='\\n')\n",
    "    counter = counter + 1"
   ]
  },
  {
   "cell_type": "markdown",
   "metadata": {},
   "source": [
    "#### Initial thoughts on 'surprise':\n",
    "\n",
    "asdf"
   ]
  },
  {
   "cell_type": "markdown",
   "metadata": {},
   "source": [
    "### Let's explore 'worry'"
   ]
  },
  {
   "cell_type": "code",
   "execution_count": null,
   "metadata": {},
   "outputs": [],
   "source": [
    "emotion = 'worry'\n",
    "\n",
    "content = df.loc[df['sentiment'] == emotion, 'content']\n",
    "print(f\"Random 5 elements of 'content' column for emotion '{emotion}':\")\n",
    "\n",
    "random_nums = np.random.randint(0, len(content), size=5)\n",
    "\n",
    "counter = 0\n",
    "for tweet in content.iloc[random_nums]:\n",
    "    print(f\"{counter}: {tweet}\", end='\\n')\n",
    "    counter = counter + 1"
   ]
  },
  {
   "cell_type": "markdown",
   "metadata": {},
   "source": [
    "#### Initial thoughts on 'worry':\n",
    "\n",
    "asdf"
   ]
  },
  {
   "cell_type": "markdown",
   "metadata": {},
   "source": [
    "### General thoughts about the contents of these tweets:\n",
    "\n",
    "There are @mentions, URLs, and character entities (&nbsp;, &quot;, &amp;) that we may want to remove as part of data cleaning since they are superfluous in terms of indicating emotion."
   ]
  },
  {
   "cell_type": "markdown",
   "metadata": {},
   "source": [
    "### Clean the data by removing any @mentions from the content"
   ]
  },
  {
   "cell_type": "code",
   "execution_count": null,
   "metadata": {},
   "outputs": [],
   "source": [
    "# remove @mentions from the 'content' column\n",
    "df['content'] = df['content'].str.replace(r'@\\w+', '')\n",
    "\n",
    "# display the resulting DataFrame\n",
    "print(df.head())"
   ]
  },
  {
   "cell_type": "markdown",
   "metadata": {},
   "source": [
    "### Clean the data by removing any whitespace from the front and end of each tweet"
   ]
  },
  {
   "cell_type": "code",
   "execution_count": null,
   "metadata": {},
   "outputs": [],
   "source": [
    "df['content'] = df['content'].str.strip()\n",
    "\n",
    "# display the resulting DataFrame\n",
    "print(df.head())"
   ]
  },
  {
   "cell_type": "code",
   "execution_count": null,
   "metadata": {},
   "outputs": [],
   "source": [
    "for tweet in df.head()['content']:]\n",
    "    \n",
    "    print(tweet, end='\\n')"
   ]
  },
  {
   "cell_type": "code",
   "execution_count": null,
   "metadata": {},
   "outputs": [],
   "source": [
    "type(df.head())"
   ]
  }
 ],
 "metadata": {
  "colab": {
   "provenance": []
  },
  "kernelspec": {
   "display_name": "Python 3 (ipykernel)",
   "language": "python",
   "name": "python3"
  },
  "language_info": {
   "codemirror_mode": {
    "name": "ipython",
    "version": 3
   },
   "file_extension": ".py",
   "mimetype": "text/x-python",
   "name": "python",
   "nbconvert_exporter": "python",
   "pygments_lexer": "ipython3",
   "version": "3.9.12"
  }
 },
 "nbformat": 4,
 "nbformat_minor": 1
}
