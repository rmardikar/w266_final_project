{
 "cells": [
  {
   "cell_type": "markdown",
   "metadata": {
    "id": "z9rigx9lYp0r"
   },
   "source": [
    "***\n",
    "# EDA for tweet_emotions.csv dataset\n",
    "https://www.kaggle.com/datasets/pashupatigupta/emotion-detection-from-text\n",
    "***"
   ]
  },
  {
   "cell_type": "markdown",
   "metadata": {},
   "source": [
    "***\n",
    "## 1 Load the dataset\n",
    " <span style=\"color:red\">!!!Make sure to comment out the correct source (Google drive or local)!!!</span>"
   ]
  },
  {
   "cell_type": "code",
   "execution_count": 1,
   "metadata": {
    "colab": {
     "base_uri": "https://localhost:8080/"
    },
    "id": "9j2cEQQtYMBR",
    "outputId": "6f2ae201-8489-40f7-cefd-8d0715350d94"
   },
   "outputs": [
    {
     "name": "stdout",
     "output_type": "stream",
     "text": [
      "     tweet_id   sentiment                                            content\n",
      "0  1956967341       empty  @tiffanylue i know  i was listenin to bad habi...\n",
      "1  1956967666     sadness  Layin n bed with a headache  ughhhh...waitin o...\n",
      "2  1956967696     sadness                Funeral ceremony...gloomy friday...\n",
      "3  1956967789  enthusiasm               wants to hang out with friends SOON!\n",
      "4  1956968416     neutral  @dannycastillo We want to trade with someone w...\n"
     ]
    }
   ],
   "source": [
    "import pandas as pd\n",
    "import numpy as np\n",
    "import random\n",
    "\n",
    "# read from the google drive\n",
    "# url = 'https://drive.google.com/file/d/1xv5hff4DntWz6gn4KMXkBQ6t5_Vs16MQ/view?usp=sharing'\n",
    "# source = 'https://drive.google.com/uc?id=' + url.split('/')[-2]\n",
    "\n",
    "# read from local\n",
    "source = '../datasets/tweet_emotions.csv'\n",
    "\n",
    "df = pd.read_csv(source)\n",
    "\n",
    "print(df.head())"
   ]
  },
  {
   "cell_type": "markdown",
   "metadata": {},
   "source": [
    "***\n",
    "## 2 Basic EDA"
   ]
  },
  {
   "cell_type": "markdown",
   "metadata": {},
   "source": [
    "### Datatypes for each of the columns in our dataframe"
   ]
  },
  {
   "cell_type": "code",
   "execution_count": 2,
   "metadata": {},
   "outputs": [
    {
     "name": "stdout",
     "output_type": "stream",
     "text": [
      "tweet_id      int64\n",
      "sentiment    object\n",
      "content      object\n",
      "dtype: object\n"
     ]
    }
   ],
   "source": [
    "print(df.dtypes)"
   ]
  },
  {
   "cell_type": "markdown",
   "metadata": {},
   "source": [
    "### Unique types and count of sentiments in the dataset"
   ]
  },
  {
   "cell_type": "code",
   "execution_count": 3,
   "metadata": {},
   "outputs": [
    {
     "name": "stdout",
     "output_type": "stream",
     "text": [
      "            count  percentage\n",
      "neutral      8638     21.5950\n",
      "worry        8459     21.1475\n",
      "happiness    5209     13.0225\n",
      "sadness      5165     12.9125\n",
      "love         3842      9.6050\n",
      "surprise     2187      5.4675\n",
      "fun          1776      4.4400\n",
      "relief       1526      3.8150\n",
      "hate         1323      3.3075\n",
      "empty         827      2.0675\n",
      "enthusiasm    759      1.8975\n",
      "boredom       179      0.4475\n",
      "anger         110      0.2750\n"
     ]
    }
   ],
   "source": [
    "# get the value counts of each unique value\n",
    "counts = df['sentiment'].value_counts()\n",
    "\n",
    "# convert the counts to percentages\n",
    "percentages = counts / counts.sum() * 100\n",
    "\n",
    "cp_df = pd.DataFrame({'count': counts, 'percentage': percentages})\n",
    "\n",
    "print(cp_df)"
   ]
  },
  {
   "cell_type": "markdown",
   "metadata": {},
   "source": [
    "### Max and min lengths of the tweets"
   ]
  },
  {
   "cell_type": "code",
   "execution_count": 4,
   "metadata": {},
   "outputs": [
    {
     "name": "stdout",
     "output_type": "stream",
     "text": [
      "Maximum length: 167\n",
      "Minimum length: 1\n"
     ]
    }
   ],
   "source": [
    "lengths = df['content'].str.len()\n",
    "\n",
    "# display the maximum and minimum lengths\n",
    "print('Maximum length:', lengths.max())\n",
    "print('Minimum length:', lengths.min())"
   ]
  },
  {
   "cell_type": "markdown",
   "metadata": {},
   "source": [
    "***\n",
    "## 3 Check each sentiment to see what type of content there is to see if it's legit"
   ]
  },
  {
   "cell_type": "markdown",
   "metadata": {},
   "source": [
    "### A function to explore the sentiments"
   ]
  },
  {
   "cell_type": "code",
   "execution_count": 5,
   "metadata": {},
   "outputs": [],
   "source": [
    "# pass the emotion and number of random tweets to see\n",
    "def explore(emotion=None, num_tweets=5):\n",
    "    if emotion == None:\n",
    "        return 'no emotion provided'\n",
    "    elif emotion not in all_sentiments:\n",
    "        return 'not one of the sentiments in the dataframe'\n",
    "    else:\n",
    "        content = df.loc[df['sentiment'] == emotion, 'content']\n",
    "\n",
    "        random_nums = random.sample(range(len(content)), num_tweets)\n",
    "        \n",
    "        print(f\"Number of tweets for '{emotion}': {len(content)}\")\n",
    "        print(f\"Percentage of the dataset: {cp_df.loc[emotion].percentage}\")\n",
    "        print(f\"Random indices: {random_nums}\", end='\\n\\n')\n",
    "        print(f\"Random {num_tweets} Tweets for emotion '{emotion}':\")\n",
    "\n",
    "        counter = 1\n",
    "        for tweet in content.iloc[random_nums]:\n",
    "            print(f\"{counter}: {tweet}\", end='\\n')\n",
    "            counter = counter + 1"
   ]
  },
  {
   "cell_type": "markdown",
   "metadata": {},
   "source": [
    "### All the sentiments"
   ]
  },
  {
   "cell_type": "code",
   "execution_count": 6,
   "metadata": {},
   "outputs": [
    {
     "name": "stdout",
     "output_type": "stream",
     "text": [
      "['anger', 'boredom', 'empty', 'enthusiasm', 'fun', 'happiness', 'hate', 'love', 'neutral', 'relief', 'sadness', 'surprise', 'worry']\n"
     ]
    }
   ],
   "source": [
    "all_sentiments = sorted(df['sentiment'].unique())\n",
    "print(all_sentiments)"
   ]
  },
  {
   "cell_type": "code",
   "execution_count": 7,
   "metadata": {},
   "outputs": [],
   "source": [
    "# this cell prints all of the sentiments all at once,\n",
    "# but keeping it commented out for now\n",
    "\n",
    "# for emotion in all_sentiments:\n",
    "#     explore(emotion)\n",
    "#     print('**********************************************************\\n**********************************************************\\n')"
   ]
  },
  {
   "cell_type": "markdown",
   "metadata": {},
   "source": [
    "### Let's explore 'anger'"
   ]
  },
  {
   "cell_type": "code",
   "execution_count": 8,
   "metadata": {},
   "outputs": [
    {
     "name": "stdout",
     "output_type": "stream",
     "text": [
      "Number of tweets for 'anger': 110\n",
      "Percentage of the dataset: 0.27499999999999997\n",
      "Random indices: [66, 52, 55, 65, 16]\n",
      "\n",
      "Random 5 Tweets for emotion 'anger':\n",
      "1: Had a shower. it's 5:55 PM. Triple 5's! Crap, it just turned 5:56\n",
      "2: @tommcfly Why do you not respond me?\n",
      "3: @FafsaHelp i don't know what lender it was? yea these people definitely sucked butt toes. NOT friendly or helpful.\n",
      "4: @JennyTaylor94  yer it is...poor little cock  but she well doesnt deserve the stick off everyone! cowell once again going against producer\n",
      "5: stuck in stupid Jeuno with flag up.  Wish I was in Windy fishing\n"
     ]
    }
   ],
   "source": [
    "explore('anger')"
   ]
  },
  {
   "cell_type": "markdown",
   "metadata": {},
   "source": [
    "#### Initial thoughts on 'anger':\n",
    "\n",
    "The number of 'anger' tweets, 110, is the lowest count in the dataset and represents just 0.2750% of the dataset. This will lead to an imbalance issue.<br>\n",
    "<br>\n",
    "Some of these Tweets seem to be mislabeled (e.g. \"omg! goooood ass nappy nap  jusss woke up bout 2 clean up a lil then get ready\", \"OIL IS CHANGED!  And I am filthy.    But it's an accomplished filthy.\", \"Just sittin here waitin for my coffee to be full grown on farm town before going to bed\"). But most seem to be labeled correctly (e.g. \"What did I do to you!  sheesh\", \"The &quot;Catch Me If You Can&quot; DVD that I rented from Blockbuster.com yesterday was cracked. Figured it out about 35 minutes into the movie.\", \"@drakesizzle  If you don't want to come then don't come. JEEEEEZ.\")."
   ]
  },
  {
   "cell_type": "markdown",
   "metadata": {},
   "source": [
    "### Let's explore 'boredom'"
   ]
  },
  {
   "cell_type": "code",
   "execution_count": 9,
   "metadata": {},
   "outputs": [
    {
     "name": "stdout",
     "output_type": "stream",
     "text": [
      "Number of tweets for 'boredom': 179\n",
      "Percentage of the dataset: 0.4475\n",
      "Random indices: [68, 23, 85, 1, 91]\n",
      "\n",
      "Random 5 Tweets for emotion 'boredom':\n",
      "1: @starstruckfeie  i have no one to watch it with! ma peeps  are actually focused on their finals already!\n",
      "2: i think that studying has really started taking its toll..\n",
      "3: Ditto that, my friend...BORED! Oops, now I have an exciting problem\n",
      "4: Waiting in line @ tryst\n",
      "5: Very bored. All day, no one 2 talk 2. Missing my BF (and his kisses). Hols almost over,  don't wanna go back 2 skool.\n"
     ]
    }
   ],
   "source": [
    "explore('boredom')"
   ]
  },
  {
   "cell_type": "markdown",
   "metadata": {},
   "source": [
    "#### Initial thoughts on 'boredom':\n",
    "\n",
    "This is the second lowest sentiment category with only 179 Tweets representing 0.4475% of the dataset. Like anger, this will be an imbalance issue.<br>\n",
    "<br>\n",
    "The interpretation of 'bored' seems to vary from the traditional sense (e.g. \"I am sooooooo bored in textiles !\", \"is bored. my BFF doesn't want to hang out\") to \"this person must be bored because they have nothing better to do than write this Tweet\" (e.g. \"aw now where's that little asian girl who runs round pooping her pants in public? i miss laughing at her.\", \"my neighbours are far too loud in thier back garden, all I can hear is this loud woman that won't stop laughing\")."
   ]
  },
  {
   "cell_type": "markdown",
   "metadata": {},
   "source": [
    "### Let's explore 'empty'"
   ]
  },
  {
   "cell_type": "code",
   "execution_count": 10,
   "metadata": {},
   "outputs": [
    {
     "name": "stdout",
     "output_type": "stream",
     "text": [
      "Number of tweets for 'empty': 827\n",
      "Percentage of the dataset: 2.0675\n",
      "Random indices: [613, 13, 544, 65, 113]\n",
      "\n",
      "Random 5 Tweets for emotion 'empty':\n",
      "1: @sroxy good morning...did you break 5 digits yet?\n",
      "2: wut do i do now????\n",
      "3: has got my xbox back  , i have a really sore knee cant walk\n",
      "4: Woe, it's definitely NO fun to travel first class with a bike. You have to fight your way through 7 coaches 'til you reach your seat\n",
      "5: @lovelene I aint blanco either..Yo 100% Puerto Rican mami....yo show muy amor yi tu...but yo no se...\n"
     ]
    }
   ],
   "source": [
    "explore('empty')"
   ]
  },
  {
   "cell_type": "markdown",
   "metadata": {},
   "source": [
    "#### Initial thoughts on 'empty'\n",
    "\n",
    "It seems that the 'empty' sentiment is very random. At times, there are two or more sentiments expressed (e.g. \"back from grimsby  it sucks bein back but was amazin wknd anyway!!\"). Other times they are just statements of fact or questions (e.g. \"On the way to santa monica\", \"@spook68 morning.any plans for today?\"). Still other times they are just words (\"HELLOO\"). Sometimes, there are Tweets that seem like they should be labeled with one of the other emotions (e.g. \"yay, joss is coming over on saturday\" should probably be labeled 'happiness' or 'enthusiasm') and perhaps because there are possibly two different labels in that last example, the labeler chose to leave it empty.<br>\n",
    "<br>\n",
    "There are 827 of the 'empty' Tweets representing 2.0675% of the dataset. We should consider removing these from the dataset since these seem to be the \"unknown\" type of Tweets."
   ]
  },
  {
   "cell_type": "markdown",
   "metadata": {},
   "source": [
    "### Let's explore 'enthusiasm'"
   ]
  },
  {
   "cell_type": "code",
   "execution_count": 11,
   "metadata": {},
   "outputs": [
    {
     "name": "stdout",
     "output_type": "stream",
     "text": [
      "Number of tweets for 'enthusiasm': 759\n",
      "Percentage of the dataset: 1.8975\n",
      "Random indices: [573, 426, 509, 745, 68]\n",
      "\n",
      "Random 5 Tweets for emotion 'enthusiasm':\n",
      "1: is ur boyfriend better than mine? hell no!\n",
      "2: @oninobaka you know it's a place with &quot;Action&quot;\n",
      "3: @jstueve Oh LOL! Yes, on Facebook! That's a nice safe environment. Like a church basement!\n",
      "4: @BlokesLib i look forward to that. if u ever write 5 Things a Misanthrope Must Do to be at Peace w Humanity i'm up for that as well\n",
      "5: fcuk! ayoko na!! I said that in tagalog cuz idk what to do anymore!\n"
     ]
    }
   ],
   "source": [
    "explore('enthusiasm')"
   ]
  },
  {
   "cell_type": "markdown",
   "metadata": {},
   "source": [
    "#### Initial thoughts on 'enthusiasm':\n",
    "\n",
    "These set of Tweets also suffer from some mislabeling issues (e.g. \"I'm bored, extremely bored. in the car. waiting for my dad. and dinner. chinese. yummm.\", \"wishes I could be the one going to our conference in the Bahamas next week\"). Some Tweets seemed to be mislabeled as 'enthusiasm' due to certain keywords (e.g. \"I made my parents add u guys on the family myspace...they were impressed by the song\" -- 'impressed') or perhaps the number of exclamantion points (e.g. \"im so new!! and i need ur help\")."
   ]
  },
  {
   "cell_type": "markdown",
   "metadata": {},
   "source": [
    "### Let's explore 'fun'"
   ]
  },
  {
   "cell_type": "code",
   "execution_count": 12,
   "metadata": {},
   "outputs": [
    {
     "name": "stdout",
     "output_type": "stream",
     "text": [
      "Number of tweets for 'fun': 1776\n",
      "Percentage of the dataset: 4.44\n",
      "Random indices: [1254, 319, 1446, 737, 1482]\n",
      "\n",
      "Random 5 Tweets for emotion 'fun':\n",
      "1: @A77boy i.m with u on the internet surfing part lol but we.re drinking\n",
      "2: @skaterdays LOL, such a dork. Hmm, is that book pretty good? Maybe I should check it out. That's why 4gb sucks  8 isn't much better.\n",
      "3: my sidekick is awkward flashing. oh well. leaving my mommy out her flowers and stuff\n",
      "4: Morning Twitterland! Countdown to TCI begins again... Will get through Monday to Wed. knowing that I'm outta here on Thursday! Woo hoo!\n",
      "5: @Sayshunshow Hi  how are you doing ???  *just joined twitter...*\n"
     ]
    }
   ],
   "source": [
    "explore('fun')"
   ]
  },
  {
   "cell_type": "markdown",
   "metadata": {},
   "source": [
    "#### Initial thoughts on 'fun':\n",
    "\n",
    "This emotion is a bit hard to nail down in terms of what the labelers were going. And, as in other emotions, it seems that there are a lot of mislabeled Tweets."
   ]
  },
  {
   "cell_type": "markdown",
   "metadata": {},
   "source": [
    "### Let's explore 'happiness'"
   ]
  },
  {
   "cell_type": "code",
   "execution_count": null,
   "metadata": {},
   "outputs": [],
   "source": [
    "explore('happiness')"
   ]
  },
  {
   "cell_type": "markdown",
   "metadata": {},
   "source": [
    "#### Initial thoughts on 'happiness':\n",
    "\n",
    "Have not gotten to this."
   ]
  },
  {
   "cell_type": "markdown",
   "metadata": {},
   "source": [
    "### Let's explore 'hate'"
   ]
  },
  {
   "cell_type": "code",
   "execution_count": 13,
   "metadata": {},
   "outputs": [
    {
     "name": "stdout",
     "output_type": "stream",
     "text": [
      "Number of tweets for 'hate': 1323\n",
      "Percentage of the dataset: 3.3075\n",
      "Random indices: [182, 261, 936, 199, 124]\n",
      "\n",
      "Random 5 Tweets for emotion 'hate':\n",
      "1: i can't studyyyyyyyyyyyyyyyyyyyyyyyyy  i have an exam tom\n",
      "2: Back in Glasgow, stuck in traffic on the M8\n",
      "3: Stupid storm. No river for us tonight\n",
      "4: @lordlucan i had terrible trouble with 'sp' words as a child, would drop the 's' pider, pade etc, needed lessons. bad memories\n",
      "5: bah, i h8 waking up\n"
     ]
    }
   ],
   "source": [
    "explore('hate')"
   ]
  },
  {
   "cell_type": "markdown",
   "metadata": {},
   "source": [
    "#### Initial thoughts on 'hate':\n",
    "\n",
    "There are 1132 Tweets labeled 'hate'. They seem to strongly resemble 'anger' and can possibly be relabeled as such. In so doing, we would increase the number of 'anger' Tweets to help with the imbalance issue."
   ]
  },
  {
   "cell_type": "markdown",
   "metadata": {},
   "source": [
    "### Let's explore 'love'"
   ]
  },
  {
   "cell_type": "code",
   "execution_count": null,
   "metadata": {},
   "outputs": [],
   "source": [
    "explore('love')"
   ]
  },
  {
   "cell_type": "markdown",
   "metadata": {},
   "source": [
    "#### Initial thoughts on 'love':\n",
    "\n",
    "Have not gotten to this."
   ]
  },
  {
   "cell_type": "markdown",
   "metadata": {},
   "source": [
    "### Let's explore 'neutral'"
   ]
  },
  {
   "cell_type": "code",
   "execution_count": null,
   "metadata": {},
   "outputs": [],
   "source": [
    "explore('neutral')"
   ]
  },
  {
   "cell_type": "markdown",
   "metadata": {},
   "source": [
    "#### Initial thoughts on 'neutral':\n",
    "\n",
    "Have not gotten to this."
   ]
  },
  {
   "cell_type": "markdown",
   "metadata": {},
   "source": [
    "### Let's explore 'relief'"
   ]
  },
  {
   "cell_type": "code",
   "execution_count": null,
   "metadata": {},
   "outputs": [],
   "source": [
    "explore('relief')"
   ]
  },
  {
   "cell_type": "markdown",
   "metadata": {},
   "source": [
    "#### Initial thoughts on 'relief':\n",
    "\n",
    "Have not gotten to this."
   ]
  },
  {
   "cell_type": "markdown",
   "metadata": {},
   "source": [
    "### Let's explore 'sadness'"
   ]
  },
  {
   "cell_type": "code",
   "execution_count": null,
   "metadata": {},
   "outputs": [],
   "source": [
    "explore('sadness')"
   ]
  },
  {
   "cell_type": "markdown",
   "metadata": {},
   "source": [
    "#### Initial thoughts on 'sadness':\n",
    "\n",
    "Have not gotten to this."
   ]
  },
  {
   "cell_type": "markdown",
   "metadata": {},
   "source": [
    "### Let's explore 'surprise'"
   ]
  },
  {
   "cell_type": "code",
   "execution_count": null,
   "metadata": {},
   "outputs": [],
   "source": [
    "explore('surprise')"
   ]
  },
  {
   "cell_type": "markdown",
   "metadata": {},
   "source": [
    "#### Initial thoughts on 'surprise':\n",
    "\n",
    "Have not gotten to this."
   ]
  },
  {
   "cell_type": "markdown",
   "metadata": {},
   "source": [
    "### Let's explore 'worry'"
   ]
  },
  {
   "cell_type": "code",
   "execution_count": null,
   "metadata": {},
   "outputs": [],
   "source": [
    "explore('worry')"
   ]
  },
  {
   "cell_type": "markdown",
   "metadata": {},
   "source": [
    "#### Initial thoughts on 'worry':\n",
    "\n",
    "Have not gotten to this."
   ]
  },
  {
   "cell_type": "markdown",
   "metadata": {},
   "source": [
    "### General thoughts about the contents of these tweets:\n",
    "\n",
    "There are @mentions, URLs, and character entities (\"\\&nbsp;\", \"\\&quot;\", \"\\&amp;\") that we may want to remove as part of data cleaning since they are superfluous in terms of indicating emotion. There are also hashtags that we may or may not consider removing. Some of these hashtags don't actually add to the sentiment, but some do so we may consider keeping them.<br>\n",
    "<br>\n",
    "Additionally, there are multiple emotions that have a proportionally small amount of records when compared to others ('anger' with 110 records and 'neutral' with 8638). We will have to deal with this somehow, perhaps by using stratified sampling techniquest (https://stackoverflow.com/questions/70849127/training-validation-and-test-sets-for-imbalanced-datasets-in-machine-learning) rather than a random train/test/validation split which may overrepresent the 'neutral' emotion."
   ]
  },
  {
   "cell_type": "markdown",
   "metadata": {},
   "source": [
    "***\n",
    "## 4 Clean the data"
   ]
  },
  {
   "cell_type": "markdown",
   "metadata": {},
   "source": [
    "### Clean the data by removing any @mentions from the content"
   ]
  },
  {
   "cell_type": "code",
   "execution_count": null,
   "metadata": {},
   "outputs": [],
   "source": [
    "# remove @mentions from the 'content' column\n",
    "df['content'] = df['content'].str.replace(r'@\\w+', '')\n",
    "\n",
    "# display the resulting DataFrame\n",
    "print(df.head())"
   ]
  },
  {
   "cell_type": "markdown",
   "metadata": {},
   "source": [
    "### Clean the data by removing any whitespace from the front and end of each tweet"
   ]
  },
  {
   "cell_type": "code",
   "execution_count": null,
   "metadata": {},
   "outputs": [],
   "source": [
    "df['content'] = df['content'].str.strip()\n",
    "\n",
    "# display the resulting DataFrame\n",
    "print(df.head())"
   ]
  }
 ],
 "metadata": {
  "colab": {
   "provenance": []
  },
  "kernelspec": {
   "display_name": "Python 3 (ipykernel)",
   "language": "python",
   "name": "python3"
  },
  "language_info": {
   "codemirror_mode": {
    "name": "ipython",
    "version": 3
   },
   "file_extension": ".py",
   "mimetype": "text/x-python",
   "name": "python",
   "nbconvert_exporter": "python",
   "pygments_lexer": "ipython3",
   "version": "3.9.12"
  }
 },
 "nbformat": 4,
 "nbformat_minor": 1
}
