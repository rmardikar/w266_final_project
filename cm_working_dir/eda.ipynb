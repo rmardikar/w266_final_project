{
 "cells": [
  {
   "cell_type": "markdown",
   "metadata": {
    "id": "z9rigx9lYp0r"
   },
   "source": [
    "***\n",
    "# EDA for tweet_emotions.csv dataset\n",
    "https://www.kaggle.com/datasets/pashupatigupta/emotion-detection-from-text\n",
    "***"
   ]
  },
  {
   "cell_type": "markdown",
   "metadata": {},
   "source": [
    "***\n",
    "## 1 Load the dataset\n",
    " <span style=\"color:red\">!!!Make sure to comment out the correct source (Google drive or local)!!!</span>"
   ]
  },
  {
   "cell_type": "code",
   "execution_count": 1,
   "metadata": {
    "colab": {
     "base_uri": "https://localhost:8080/"
    },
    "id": "9j2cEQQtYMBR",
    "outputId": "6f2ae201-8489-40f7-cefd-8d0715350d94"
   },
   "outputs": [
    {
     "name": "stdout",
     "output_type": "stream",
     "text": [
      "     tweet_id   sentiment                                            content\n",
      "0  1956967341       empty  @tiffanylue i know  i was listenin to bad habi...\n",
      "1  1956967666     sadness  Layin n bed with a headache  ughhhh...waitin o...\n",
      "2  1956967696     sadness                Funeral ceremony...gloomy friday...\n",
      "3  1956967789  enthusiasm               wants to hang out with friends SOON!\n",
      "4  1956968416     neutral  @dannycastillo We want to trade with someone w...\n"
     ]
    }
   ],
   "source": [
    "import pandas as pd\n",
    "import numpy as np\n",
    "import random\n",
    "\n",
    "# read from the google drive\n",
    "# url = 'https://drive.google.com/file/d/1xv5hff4DntWz6gn4KMXkBQ6t5_Vs16MQ/view?usp=sharing'\n",
    "# url = 'https://drive.google.com/uc?id=' + url.split('/')[-2]\n",
    "\n",
    "# read from local\n",
    "url = '../datasets/tweet_emotions.csv'\n",
    "\n",
    "df = pd.read_csv(url)\n",
    "\n",
    "print(df.head())"
   ]
  },
  {
   "cell_type": "markdown",
   "metadata": {},
   "source": [
    "***\n",
    "## 2 Basic EDA"
   ]
  },
  {
   "cell_type": "markdown",
   "metadata": {},
   "source": [
    "### Datatypes for each of the columns in our dataframe"
   ]
  },
  {
   "cell_type": "code",
   "execution_count": 2,
   "metadata": {},
   "outputs": [
    {
     "name": "stdout",
     "output_type": "stream",
     "text": [
      "tweet_id      int64\n",
      "sentiment    object\n",
      "content      object\n",
      "dtype: object\n"
     ]
    }
   ],
   "source": [
    "print(df.dtypes)"
   ]
  },
  {
   "cell_type": "markdown",
   "metadata": {},
   "source": [
    "### Unique types and count of sentiments in the dataset"
   ]
  },
  {
   "cell_type": "code",
   "execution_count": 25,
   "metadata": {},
   "outputs": [
    {
     "name": "stdout",
     "output_type": "stream",
     "text": [
      "            count  percentage\n",
      "neutral      8638     21.5950\n",
      "worry        8459     21.1475\n",
      "happiness    5209     13.0225\n",
      "sadness      5165     12.9125\n",
      "love         3842      9.6050\n",
      "surprise     2187      5.4675\n",
      "fun          1776      4.4400\n",
      "relief       1526      3.8150\n",
      "hate         1323      3.3075\n",
      "empty         827      2.0675\n",
      "enthusiasm    759      1.8975\n",
      "boredom       179      0.4475\n",
      "anger         110      0.2750\n"
     ]
    }
   ],
   "source": [
    "# get the value counts of each unique value\n",
    "counts = df['sentiment'].value_counts()\n",
    "\n",
    "# convert the counts to percentages\n",
    "percentages = counts / counts.sum() * 100\n",
    "\n",
    "cp_df = pd.DataFrame({'count': counts, 'percentage': percentages})\n",
    "\n",
    "print(cp_df)"
   ]
  },
  {
   "cell_type": "markdown",
   "metadata": {},
   "source": [
    "### Max and min lengths of the tweets"
   ]
  },
  {
   "cell_type": "code",
   "execution_count": 4,
   "metadata": {},
   "outputs": [
    {
     "name": "stdout",
     "output_type": "stream",
     "text": [
      "Maximum length: 167\n",
      "Minimum length: 1\n"
     ]
    }
   ],
   "source": [
    "lengths = df['content'].str.len()\n",
    "\n",
    "# display the maximum and minimum lengths\n",
    "print('Maximum length:', lengths.max())\n",
    "print('Minimum length:', lengths.min())"
   ]
  },
  {
   "cell_type": "markdown",
   "metadata": {},
   "source": [
    "***\n",
    "## 3 Check each sentiment to see what type of content there is to see if it's legit"
   ]
  },
  {
   "cell_type": "markdown",
   "metadata": {},
   "source": [
    "### A function to explore the sentiments"
   ]
  },
  {
   "cell_type": "code",
   "execution_count": 88,
   "metadata": {},
   "outputs": [],
   "source": [
    "def explore(emotion=None):\n",
    "    if emotion == None:\n",
    "        return 'no emotion provided'\n",
    "    elif emotion not in all_sentiments:\n",
    "        return 'not one of the sentiments in the dataframe'\n",
    "    else:\n",
    "        content = df.loc[df['sentiment'] == emotion, 'content']\n",
    "\n",
    "        random_nums = random.sample(range(len(content)), 5)\n",
    "        print(f\"Number of tweets for '{emotion}': {len(content)}\")\n",
    "        print(f\"Percentage of the dataset: {cp_df.loc[emotion].percentage}\")\n",
    "        print(f\"Random indices:' {random_nums}\", end='\\n\\n')\n",
    "        print(f\"Random {len(random_nums)} Tweets for emotion '{emotion}':\")\n",
    "\n",
    "        counter = 1\n",
    "        for tweet in content.iloc[random_nums]:\n",
    "            print(f\"{counter}: {tweet}\", end='\\n')\n",
    "            counter = counter + 1"
   ]
  },
  {
   "cell_type": "markdown",
   "metadata": {},
   "source": [
    "### All the sentiments"
   ]
  },
  {
   "cell_type": "code",
   "execution_count": 54,
   "metadata": {},
   "outputs": [
    {
     "name": "stdout",
     "output_type": "stream",
     "text": [
      "['anger', 'boredom', 'empty', 'enthusiasm', 'fun', 'happiness', 'hate', 'love', 'neutral', 'relief', 'sadness', 'surprise', 'worry']\n"
     ]
    }
   ],
   "source": [
    "all_sentiments = sorted(df['sentiment'].unique())\n",
    "print(all_sentiments)"
   ]
  },
  {
   "cell_type": "code",
   "execution_count": 73,
   "metadata": {},
   "outputs": [
    {
     "name": "stdout",
     "output_type": "stream",
     "text": [
      "Number of tweets for 'empty': 827\n",
      "Percentage of the dataset: 2.0675\n",
      "\n",
      "Random indices:' [609, 74, 260, 211, 822]\n",
      "Random 5 elements of 'content' column for emotion 'empty'\n",
      "1: cheese and onion! or as my father says 'cheese and minging'\n",
      "2: no wine here - I don;t drink  - but I have have plenty of forbidden cholocate\n",
      "3: At the pub with the dog but seems to have misplaced friend with drinks\n",
      "4: loads of insects are attacking me.. time to go inside\n",
      "5: Here we go again, back to work. Happy Mothers Day to all  Peace\n",
      "**********************************************************\n",
      "**********************************************************\n",
      "\n",
      "Number of tweets for 'sadness': 5165\n",
      "Percentage of the dataset: 12.9125\n",
      "\n",
      "Random indices:' [4153, 3718, 2283, 5094, 4605]\n",
      "Random 5 elements of 'content' column for emotion 'sadness'\n",
      "1: AWWWW  we're gonna miss you!\n",
      "2: the justice left when DJ Talent was voted off (N)\n",
      "3: Is at the botanical gardens and its beautiful but she forgot an extra memory card so no pictures today\n",
      "4: fighting with mum on mothers day\n",
      "5: Haha, she's up here to stay, it's nearly 2 hours on the coach for her to get here, may not be convenient for an hour of TV!\n",
      "**********************************************************\n",
      "**********************************************************\n",
      "\n",
      "Number of tweets for 'enthusiasm': 759\n",
      "Percentage of the dataset: 1.8975\n",
      "\n",
      "Random indices:' [513, 493, 336, 725, 379]\n",
      "Random 5 elements of 'content' column for emotion 'enthusiasm'\n",
      "1: u can see I just twitted them if its the real xmsirius that is. Let me know any other contact info. Lets transmit this!\n",
      "2: Healthy Wishes. I may just start saying that.\n",
      "3: I designed a new shirttttt.\n",
      "4: morrisons here i come!\n",
      "5: shopping tomorrow? I think yes\n",
      "**********************************************************\n",
      "**********************************************************\n",
      "\n",
      "Number of tweets for 'neutral': 8638\n",
      "Percentage of the dataset: 21.595\n",
      "\n",
      "Random indices:' [600, 667, 5049, 1885, 7002]\n",
      "Random 5 elements of 'content' column for emotion 'neutral'\n",
      "1: thanks  scared of dentists.. looks like I am going to have to get over it and go\n",
      "2: Moodle Intro training this morning... ages since i've done that... and only 2 bookings\n",
      "3: i am back\n",
      "4: If the drive is automatically ejecting supported discs (ie CD-R), and you can't boot from a disc, it's time for AppleCare\n",
      "5: Waiting for my friend to arrive so I can eat and stay alive.\n",
      "**********************************************************\n",
      "**********************************************************\n",
      "\n",
      "Number of tweets for 'worry': 8459\n",
      "Percentage of the dataset: 21.1475\n",
      "\n",
      "Random indices:' [6336, 7720, 5432, 2005, 4553]\n",
      "Random 5 elements of 'content' column for emotion 'worry'\n",
      "1: Hmm, I will hear more.\n",
      "2: My sister graduated today  it was amazing and super emotional. Wow ...\n",
      "3: r u still there? ? I guess not    i want to talk to you\n",
      "4: why is it so fucking cold ??!\n",
      "5: gear troubles all day long!\n",
      "**********************************************************\n",
      "**********************************************************\n",
      "\n",
      "Number of tweets for 'surprise': 2187\n",
      "Percentage of the dataset: 5.4675\n",
      "\n",
      "Random indices:' [353, 2150, 669, 577, 1865]\n",
      "Random 5 elements of 'content' column for emotion 'surprise'\n",
      "1: holy crap. where did all my time go? =/ gta4 has sucked away my life.. and wasted a whole week! ...i wish i had more self control\n",
      "2: If you come to a gig in Dublin you can be my dancing partner.  whatcha think? Hehe xxx\n",
      "3: They gave me a regular coke instead of diet. Really??\n",
      "4: do you have a password for the San Diego show? Mine is not working\n",
      "5: ok just between U and me  and all of  our  followers on twitter what do U really think of  ? lol\n",
      "**********************************************************\n",
      "**********************************************************\n",
      "\n",
      "Number of tweets for 'love': 3842\n",
      "Percentage of the dataset: 9.605\n",
      "\n",
      "Random indices:' [1506, 1530, 3704, 1600, 1466]\n",
      "Random 5 elements of 'content' column for emotion 'love'\n",
      "1: I know  haha night\n",
      "2: nuuuuu, i totally love may, it's the best for me cos i was born in may\n",
      "3: Did you get to meet Ace Frehley?  Love his guitar playing.  Not sure how coherent a speaker he might/might not be.\n",
      "4: unplugging for the rest of the day.  Have a good one everybody!!\n",
      "5: I kinda forgot how much I love the darkness\n",
      "**********************************************************\n",
      "**********************************************************\n",
      "\n",
      "Number of tweets for 'fun': 1776\n",
      "Percentage of the dataset: 4.44\n",
      "\n",
      "Random indices:' [1473, 1379, 1455, 733, 836]\n",
      "Random 5 elements of 'content' column for emotion 'fun'\n",
      "1: there are other signs too  of twitter addiction!!  Levels from 1 to 6.... LOL I am probably on level 4 ... lol\n",
      "2: BEP KILLED IT! Oh and leighton meester waved at us!\n",
      "3: Happy Mothersday btw! Look at the bright side, you can chill all day today\n",
      "4: I look forward to having one very soon\n",
      "5: i know  its nice haha\n",
      "**********************************************************\n",
      "**********************************************************\n",
      "\n",
      "Number of tweets for 'hate': 1323\n",
      "Percentage of the dataset: 3.3075\n",
      "\n",
      "Random indices:' [1164, 545, 107, 707, 629]\n",
      "Random 5 elements of 'content' column for emotion 'hate'\n",
      "1: has just joined twitter. reeeally dont understand how to use this lol\n",
      "2: anyone have tickets to the mtv movie awards? some guy scammed me\n",
      "3: Any city person want to trade n live in the country? House comes w racoons n skunks livin under deck. *sigh*\n",
      "4: #bgt What happened Greg.  That was a rubbish follow up.\n",
      "5: i got locked out my carrrr  had to call a lock smith. - $35.00\n",
      "**********************************************************\n",
      "**********************************************************\n",
      "\n",
      "Number of tweets for 'happiness': 5209\n",
      "Percentage of the dataset: 13.0225\n",
      "\n",
      "Random indices:' [1387, 585, 3799, 3199, 4159]\n",
      "Random 5 elements of 'content' column for emotion 'happiness'\n",
      "1: aaa new follower! hiii\n",
      "2: hahaha probably not  sorry. We've got some things to do around the house...and then we have to go to Jared's parents house\n",
      "3: HAPPY MOTHER'S DAY TO ALL THE WONDERFUL MOTHERS IN THE WORLD!!! myself included...\n",
      "4: Strawberry margaritas + baked stuffed shrimp =\n",
      "5: Thank you for smoking!!!!!!  viennoziimiigi\n",
      "**********************************************************\n",
      "**********************************************************\n",
      "\n",
      "Number of tweets for 'boredom': 179\n",
      "Percentage of the dataset: 0.4475\n",
      "\n",
      "Random indices:' [83, 79, 99, 89, 87]\n",
      "Random 5 elements of 'content' column for emotion 'boredom'\n",
      "1: I have to give up my beloved Red Sox tickets!! Argh! Meeting was just scheduled in CA...\n",
      "2: i don't know what to do... time is going by so fast.\n",
      "3: even though it's only 7am on Saturday morning, it feels like the weekend is already over. btw I'm awake because I had a bad dream..\n",
      "4: Sitting in the tax collectors office.    Getting ready to write a check.\n",
      "5: i can barely walk- they're twice the usual size  @ least its now&amp; not in NY ;) ive requested my song;) u retquestin owt 2nite?X\n",
      "**********************************************************\n",
      "**********************************************************\n",
      "\n",
      "Number of tweets for 'relief': 1526\n",
      "Percentage of the dataset: 3.8150000000000004\n",
      "\n",
      "Random indices:' [877, 815, 647, 401, 350]\n",
      "Random 5 elements of 'content' column for emotion 'relief'\n",
      "1: Six Flags this weekend? Sounds right!\n",
      "2: as long as you're not going to melt LOL. Hubby has an umbrella set up to keep him dry when he grills\n",
      "3: home from school today\n",
      "4: of course im almost there and theres traffic\n",
      "5: Always get my hopes up too soon...we were soooo close\n",
      "**********************************************************\n",
      "**********************************************************\n",
      "\n",
      "Number of tweets for 'anger': 110\n",
      "Percentage of the dataset: 0.27499999999999997\n",
      "\n",
      "Random indices:' [19, 73, 104, 65, 81]\n",
      "Random 5 elements of 'content' column for emotion 'anger'\n",
      "1: Confuzzled\n",
      "2: I am beginning to think sun blcok is a haox.\n",
      "3: Just sittin here waitin for my coffee to be full grown on farm town before going to bed\n",
      "4: yer it is...poor little cock  but she well doesnt deserve the stick off everyone! cowell once again going against producer\n",
      "5: Sitting in traffic while my car gets rained on. Just washed it on Sunday. Doesn't the weather know this is California?\n",
      "**********************************************************\n",
      "**********************************************************\n",
      "\n"
     ]
    }
   ],
   "source": [
    "# this cell prints all of the sentiments all at once,\n",
    "# but keeping it commented out for now\n",
    "\n",
    "# unique_sentiments = df['sentiment'].unique()\n",
    "\n",
    "# for emotion in unique_sentiments:\n",
    "#     explore(emotion)\n",
    "#     print('**********************************************************\\n**********************************************************\\n')"
   ]
  },
  {
   "cell_type": "markdown",
   "metadata": {},
   "source": [
    "### Let's explore 'anger'"
   ]
  },
  {
   "cell_type": "code",
   "execution_count": 84,
   "metadata": {},
   "outputs": [
    {
     "name": "stdout",
     "output_type": "stream",
     "text": [
      "Number of tweets for 'anger': 110\n",
      "Percentage of the dataset: 0.27499999999999997\n",
      "Random indices:' [63, 39, 77, 35, 6]\n",
      "\n",
      "Random 5 elements of 'content' column for emotion 'anger':\n",
      "1: And you could have it all, my empire of dirt! I'm in a&amp;e with dad I'm freezing fully shivering Every1 else is warm  no fones allowed ffs!\n",
      "2: *points at the gear question I just posted* I cant get the rest of my Dreadweave set\n",
      "3: my sisters fucking pc, just blued screened me\n",
      "4: MOtherfuck QW\n",
      "5: yes, boo for soar throats and earaches!\n"
     ]
    }
   ],
   "source": [
    "explore('anger')"
   ]
  },
  {
   "cell_type": "markdown",
   "metadata": {},
   "source": [
    "#### Initial thoughts on 'anger':\n",
    "\n",
    "The number of 'anger' tweets, 110, is the lowest count in the dataset and represents just 0.2750% of the dataset. This will lead to an imbalance issue.<br>\n",
    "<br>\n",
    "Some of these Tweets seem to be mislabeled (e.g. \"omg! goooood ass nappy nap  jusss woke up bout 2 clean up a lil then get ready\", \"OIL IS CHANGED!  And I am filthy.    But it's an accomplished filthy.\", \"Just sittin here waitin for my coffee to be full grown on farm town before going to bed\"). But most seem to be labeled correctly (e.g. \"What did I do to you!  sheesh\", \"The &quot;Catch Me If You Can&quot; DVD that I rented from Blockbuster.com yesterday was cracked. Figured it out about 35 minutes into the movie.\", \"@drakesizzle  If you don't want to come then don't come. JEEEEEZ.\")."
   ]
  },
  {
   "cell_type": "markdown",
   "metadata": {},
   "source": [
    "### Let's explore 'boredom'"
   ]
  },
  {
   "cell_type": "code",
   "execution_count": 85,
   "metadata": {},
   "outputs": [
    {
     "name": "stdout",
     "output_type": "stream",
     "text": [
      "Number of tweets for 'boredom': 179\n",
      "Percentage of the dataset: 0.4475\n",
      "Random indices:' [119, 152, 174, 80, 125]\n",
      "\n",
      "Random 5 elements of 'content' column for emotion 'boredom':\n",
      "1: oh that looks boring  and even more boring you have an exam on a saturday\n",
      "2: I'm SUPER tired and probably could sleep ALL day BUT I work 12:30 to 9:30 today in Tool Rental... Oh the Joy!!\n",
      "3: lol takes some getting use to  Just replying to your email. Power keeps cutting out here :S\n",
      "4: sitting at the chevy dealership in utah waiting for the van to be fixed\n",
      "5: waiting to go to the movies later for my 6th month. booored.\n"
     ]
    }
   ],
   "source": [
    "explore('boredom')"
   ]
  },
  {
   "cell_type": "markdown",
   "metadata": {},
   "source": [
    "#### Initial thoughts on 'boredom':\n",
    "\n",
    "This is the second lowest sentiment category with only 179 Tweets representing 0.4475% of the dataset. Like anger, this will be an imbalance issue.<br>\n",
    "<br>\n",
    "The interpretation of 'bored' seems to vary from the traditional sense (e.g. \"I am sooooooo bored in textiles !\", \"is bored. my BFF doesn't want to hang out\") to \"this person must be bored because they have nothing better to do than write this Tweet\" (e.g. \"aw now where's that little asian girl who runs round pooping her pants in public? i miss laughing at her.\", \"my neighbours are far too loud in thier back garden, all I can hear is this loud woman that won't stop laughing\")."
   ]
  },
  {
   "cell_type": "markdown",
   "metadata": {},
   "source": [
    "### Let's explore 'empty'"
   ]
  },
  {
   "cell_type": "code",
   "execution_count": 86,
   "metadata": {},
   "outputs": [
    {
     "name": "stdout",
     "output_type": "stream",
     "text": [
      "Number of tweets for 'empty': 827\n",
      "Percentage of the dataset: 2.0675\n",
      "Random indices:' [433, 637, 440, 184, 157]\n",
      "\n",
      "Random 5 elements of 'content' column for emotion 'empty':\n",
      "1: don't i know it! i live in the middle of nowhere, my house is spider central\n",
      "2: \n",
      "3: Boo Im lonely and bored\n",
      "4: Urgh.... feeling like crap today. Bad headache, tired, blood sugars too high.\n",
      "5: Wanting to leave work early today but stuff keeps accumulating.  this Friday is so a Monday in disguise. lol\n"
     ]
    }
   ],
   "source": [
    "explore('empty')"
   ]
  },
  {
   "cell_type": "markdown",
   "metadata": {},
   "source": [
    "#### Initial thoughts on 'empty'\n",
    "\n",
    "It seems that the 'empty' sentiment is very random. At times, there are two or more sentiments expressed (e.g. \"back from grimsby  it sucks bein back but was amazin wknd anyway!!\"). Other times they are just statements of fact or questions (e.g. \"On the way to santa monica\", \"@spook68 morning.any plans for today?\"). Still other times they are just words (\"HELLOO\"). Sometimes, there are Tweets that seem like they should be labeled with one of the other emotions (e.g. \"yay, joss is coming over on saturday\" should probably be labeled 'happiness' or 'enthusiasm') and perhaps because there are possibly two different labels in that last example, the labeler chose to leave it empty.<br>\n",
    "<br>\n",
    "There are 827 of the 'empty' Tweets representing 2.0675% of the dataset. We should consider removing these from the dataset since these seem to be the \"UNK\" type of Tweets."
   ]
  },
  {
   "cell_type": "markdown",
   "metadata": {},
   "source": [
    "### Let's explore 'enthusiasm'"
   ]
  },
  {
   "cell_type": "code",
   "execution_count": 94,
   "metadata": {},
   "outputs": [
    {
     "name": "stdout",
     "output_type": "stream",
     "text": [
      "Number of tweets for 'enthusiasm': 759\n",
      "Percentage of the dataset: 1.8975\n",
      "Random indices:' [686, 70, 503, 492, 477]\n",
      "\n",
      "Random 5 Tweets for emotion 'enthusiasm':\n",
      "1: lol.. ass monkey\n",
      "2: nah, he won't  but I will sit here and enjoy the view :-P\n",
      "3: making more muffinsss, wheat jerm AANNNDD psyillium husk\n",
      "4: Adventures with jamie and bethhh\n",
      "5: i don't have any excuse other than night shifts! we got our orphan lambs from a local farmer so we cheated\n"
     ]
    }
   ],
   "source": [
    "explore('enthusiasm')"
   ]
  },
  {
   "cell_type": "markdown",
   "metadata": {},
   "source": [
    "#### Initial thoughts on 'enthusiasm':\n",
    "\n",
    "asdf"
   ]
  },
  {
   "cell_type": "markdown",
   "metadata": {},
   "source": [
    "### Let's explore 'fun'"
   ]
  },
  {
   "cell_type": "code",
   "execution_count": 43,
   "metadata": {},
   "outputs": [
    {
     "name": "stdout",
     "output_type": "stream",
     "text": [
      "Number of tweets for 'fun': 1776\n",
      "Percentage of the dataset: 4.44\n",
      "\n",
      "Random indices:' [111, 584, 1127, 663, 1355]\n",
      "Random 5 elements of 'content' column for emotion 'fun'\n",
      "0: i got coupons to Popeye's chicken but I'll probably end up getting a burrito at freshii - this salad joint. healthy\n",
      "1: haha who thought that?\n",
      "2: just got back from six flags  wicked fun. even tho i almost died!\n",
      "3: haha neither am I. It doesn't matter though you guys do what you want\n",
      "4: We should have a twitter reunion it would be awesome to meet you all lol, iwonder howd iget that to pull off\n"
     ]
    }
   ],
   "source": [
    "explore('fun')"
   ]
  },
  {
   "cell_type": "markdown",
   "metadata": {},
   "source": [
    "#### Initial thoughts on 'fun':\n",
    "\n",
    "asdf"
   ]
  },
  {
   "cell_type": "markdown",
   "metadata": {},
   "source": [
    "### Let's explore 'happiness'"
   ]
  },
  {
   "cell_type": "code",
   "execution_count": 44,
   "metadata": {},
   "outputs": [
    {
     "name": "stdout",
     "output_type": "stream",
     "text": [
      "Number of tweets for 'happiness': 5209\n",
      "Percentage of the dataset: 13.0225\n",
      "\n",
      "Random indices:' [1169, 831, 4980, 776, 1475]\n",
      "Random 5 elements of 'content' column for emotion 'happiness'\n",
      "0: me too\n",
      "1: Still working in the database and trying to decide what I want to eat.\n",
      "2: I'm really happy for u n leigh  thnx for sharing this happiness with us, this means the world to us all!  love ya! Marta\n",
      "3: I am so glad it's Friday. I just got off work and I'm so tired.\n",
      "4: off to the land of pillows and blankets... mm, and the fan up on high... and did I mention the blankets? my favorite time ever.\n"
     ]
    }
   ],
   "source": [
    "explore('happiness')"
   ]
  },
  {
   "cell_type": "markdown",
   "metadata": {},
   "source": [
    "#### Initial thoughts on 'happiness':\n",
    "\n",
    "asdf"
   ]
  },
  {
   "cell_type": "markdown",
   "metadata": {},
   "source": [
    "### Let's explore 'hate'"
   ]
  },
  {
   "cell_type": "code",
   "execution_count": 45,
   "metadata": {},
   "outputs": [
    {
     "name": "stdout",
     "output_type": "stream",
     "text": [
      "Number of tweets for 'hate': 1323\n",
      "Percentage of the dataset: 3.3075\n",
      "\n",
      "Random indices:' [979, 412, 23, 1142, 320]\n",
      "Random 5 elements of 'content' column for emotion 'hate'\n",
      "0: Ouch. I used to hate it when I did that  (And then there are the irate callers who were trying to record, getting p***ed, etc)\n",
      "1: I'm drawning in emails\n",
      "2: Hahahaha! It's not horrible, if others were singing with I'm sure it could work. I wish I could afford my own drum set\n",
      "3: Yeah, yeah. Less #degenerate than current occupants of U.S. House of Reprehensibles. You can bet on that. Like MineThatBird.\n",
      "4: im tweeting... this is so hard... i dont get it...\n"
     ]
    }
   ],
   "source": [
    "explore('hate')"
   ]
  },
  {
   "cell_type": "markdown",
   "metadata": {},
   "source": [
    "#### Initial thoughts on 'hate':\n",
    "\n",
    "There are 1132 Tweets labeled 'hate'. They seem to strongly resemble 'anger' and can possibly be relabeled as such. In so doing, we would increase the number of 'anger' Tweets to help with the imbalance issue."
   ]
  },
  {
   "cell_type": "markdown",
   "metadata": {},
   "source": [
    "### Let's explore 'love'"
   ]
  },
  {
   "cell_type": "code",
   "execution_count": 46,
   "metadata": {},
   "outputs": [
    {
     "name": "stdout",
     "output_type": "stream",
     "text": [
      "Number of tweets for 'love': 3842\n",
      "Percentage of the dataset: 9.605\n",
      "\n",
      "Random indices:' [2472, 987, 1688, 2637, 3643]\n",
      "Random 5 elements of 'content' column for emotion 'love'\n",
      "0: Chicken beer and good company makes a good night...\n",
      "1: MY AUNTIE FROM QUEENSLAND IS DOWN TO STAY THE NIGHT! YAYA.\n",
      "2: good luck! It's not too bad, and if it is, it's curved grading so u might end up surprised\n",
      "3: no... But I met a new graphic design friend, so that was dooope!!!\n",
      "4: Happy Mother's Day to all the Mom's out there, but especially to my wonderfuly Mommy\n"
     ]
    }
   ],
   "source": [
    "explore('love')"
   ]
  },
  {
   "cell_type": "markdown",
   "metadata": {},
   "source": [
    "#### Initial thoughts on 'love':\n",
    "\n",
    "asdf"
   ]
  },
  {
   "cell_type": "markdown",
   "metadata": {},
   "source": [
    "### Let's explore 'neutral'"
   ]
  },
  {
   "cell_type": "code",
   "execution_count": 47,
   "metadata": {},
   "outputs": [
    {
     "name": "stdout",
     "output_type": "stream",
     "text": [
      "Number of tweets for 'neutral': 8638\n",
      "Percentage of the dataset: 21.595\n",
      "\n",
      "Random indices:' [5405, 5936, 8141, 8413, 7624]\n",
      "Random 5 elements of 'content' column for emotion 'neutral'\n",
      "0: I think I'll target it's original release date, which is July 29th.  Enough time to raise faux or ironic interest.\n",
      "1: Will be your DJ for a little while! Tune in if you want  www.soompiradio.com\n",
      "2: tweeten maar\n",
      "3: Here's a link to Gregg's performace, its amazing  http://bit.ly/GsWrk\n",
      "4: Have a good flight!\n"
     ]
    }
   ],
   "source": [
    "explore('neutral')"
   ]
  },
  {
   "cell_type": "markdown",
   "metadata": {},
   "source": [
    "#### Initial thoughts on 'neutral':\n",
    "\n",
    "asdf"
   ]
  },
  {
   "cell_type": "markdown",
   "metadata": {},
   "source": [
    "### Let's explore 'relief'"
   ]
  },
  {
   "cell_type": "code",
   "execution_count": 48,
   "metadata": {},
   "outputs": [
    {
     "name": "stdout",
     "output_type": "stream",
     "text": [
      "Number of tweets for 'relief': 1526\n",
      "Percentage of the dataset: 3.8150000000000004\n",
      "\n",
      "Random indices:' [1319, 421, 950, 237, 174]\n",
      "Random 5 elements of 'content' column for emotion 'relief'\n",
      "0: success!\n",
      "1: thanks.  I'm self so I don't see the &quot;my Account&quot; area.  I'll have to dig deeper it seems\n",
      "2: Relaxing after a busy week and a tedious Saturday . . .\n",
      "3: bored out of my mind. I guess im paying the price for having so much fun yesterday.\n",
      "4: Fighting a migraine   Medication is almost working.\n"
     ]
    }
   ],
   "source": [
    "explore('relief')"
   ]
  },
  {
   "cell_type": "markdown",
   "metadata": {},
   "source": [
    "#### Initial thoughts on 'relief':\n",
    "\n",
    "asdf"
   ]
  },
  {
   "cell_type": "markdown",
   "metadata": {},
   "source": [
    "### Let's explore 'sadness'"
   ]
  },
  {
   "cell_type": "code",
   "execution_count": 49,
   "metadata": {},
   "outputs": [
    {
     "name": "stdout",
     "output_type": "stream",
     "text": [
      "Number of tweets for 'sadness': 5165\n",
      "Percentage of the dataset: 12.9125\n",
      "\n",
      "Random indices:' [1250, 2304, 787, 2867, 3967]\n",
      "Random 5 elements of 'content' column for emotion 'sadness'\n",
      "0: I need to do some more post but I don't have time on this tour  ........... Apologies to all my supporters.\n",
      "1: me and Arlando are totally done. I havn'e talked to him in a LONG time!Now I just have to find a 'worth while' man...\n",
      "2: last thursday or yesterday that sucks i missed it  was it at lunch time ox\n",
      "3: p.s. sorry about ur uncle\n",
      "4: i give uppp a hour of tryin to tlk to   i love him but my minutesss lol\n"
     ]
    }
   ],
   "source": [
    "explore('sadness')"
   ]
  },
  {
   "cell_type": "markdown",
   "metadata": {},
   "source": [
    "#### Initial thoughts on 'sadness':\n",
    "\n",
    "asdf"
   ]
  },
  {
   "cell_type": "markdown",
   "metadata": {},
   "source": [
    "### Let's explore 'surprise'"
   ]
  },
  {
   "cell_type": "code",
   "execution_count": 50,
   "metadata": {},
   "outputs": [
    {
     "name": "stdout",
     "output_type": "stream",
     "text": [
      "Number of tweets for 'surprise': 2187\n",
      "Percentage of the dataset: 5.4675\n",
      "\n",
      "Random indices:' [146, 419, 1848, 1430, 1455]\n",
      "Random 5 elements of 'content' column for emotion 'surprise'\n",
      "0: YoYo door nazis refused me entry on account of no ID  gutted! Heard it was a good night tho.. Next time I'll come prepared!\n",
      "1: why did I ever delete my twitter?\n",
      "2: justin timberlake + snl = awesome ... dude should just become a regular\n",
      "3: Kyle is Cody's wee bro!\n",
      "4: http://www.myspace.com/dica_grl Just got a crush on this song! Disco's Out! Murder's In! ruleaz?, zic!  www.myspace.com/discosoutmurdersin\n"
     ]
    }
   ],
   "source": [
    "explore('surprise')"
   ]
  },
  {
   "cell_type": "markdown",
   "metadata": {},
   "source": [
    "#### Initial thoughts on 'surprise':\n",
    "\n",
    "asdf"
   ]
  },
  {
   "cell_type": "markdown",
   "metadata": {},
   "source": [
    "### Let's explore 'worry'"
   ]
  },
  {
   "cell_type": "code",
   "execution_count": 51,
   "metadata": {},
   "outputs": [
    {
     "name": "stdout",
     "output_type": "stream",
     "text": [
      "Number of tweets for 'worry': 8459\n",
      "Percentage of the dataset: 21.1475\n",
      "\n",
      "Random indices:' [4193, 6135, 1746, 6764, 293]\n",
      "Random 5 elements of 'content' column for emotion 'worry'\n",
      "0: At tweetup loc, but don't recognize anyone  am outside in turquoise shirt. Please see me! #g4c09\n",
      "1: i dont have a bank. i cash my shit at tom thumb. i've had four bank accounts--and they've all gone negative\n",
      "2: Mouth hurts\n",
      "3: oh dear, thats not good - I hope you get through it all with a smile\n",
      "4: &quot;my name is Tony!!!!!! ...not hey!!!!&quot; -  poor tony\n"
     ]
    }
   ],
   "source": [
    "explore('worry')"
   ]
  },
  {
   "cell_type": "markdown",
   "metadata": {},
   "source": [
    "#### Initial thoughts on 'worry':\n",
    "\n",
    "asdf"
   ]
  },
  {
   "cell_type": "markdown",
   "metadata": {},
   "source": [
    "### General thoughts about the contents of these tweets:\n",
    "\n",
    "There are @mentions, URLs, and character entities (\"\\&nbsp;\", \"\\&quot;\", \"\\&amp;\") that we may want to remove as part of data cleaning since they are superfluous in terms of indicating emotion."
   ]
  },
  {
   "cell_type": "markdown",
   "metadata": {},
   "source": [
    "***\n",
    "## Clean the data"
   ]
  },
  {
   "cell_type": "markdown",
   "metadata": {},
   "source": [
    "### Clean the data by removing any @mentions from the content"
   ]
  },
  {
   "cell_type": "code",
   "execution_count": 20,
   "metadata": {},
   "outputs": [
    {
     "name": "stdout",
     "output_type": "stream",
     "text": [
      "     tweet_id   sentiment                                            content\n",
      "0  1956967341       empty   i know  i was listenin to bad habit earlier a...\n",
      "1  1956967666     sadness  Layin n bed with a headache  ughhhh...waitin o...\n",
      "2  1956967696     sadness                Funeral ceremony...gloomy friday...\n",
      "3  1956967789  enthusiasm               wants to hang out with friends SOON!\n",
      "4  1956968416     neutral   We want to trade with someone who has Houston...\n"
     ]
    },
    {
     "name": "stderr",
     "output_type": "stream",
     "text": [
      "/var/folders/98/1dx552ps4m9367dbldkwdp0h0000gn/T/ipykernel_27158/3023358060.py:2: FutureWarning: The default value of regex will change from True to False in a future version.\n",
      "  df['content'] = df['content'].str.replace(r'@\\w+', '')\n"
     ]
    }
   ],
   "source": [
    "# remove @mentions from the 'content' column\n",
    "df['content'] = df['content'].str.replace(r'@\\w+', '')\n",
    "\n",
    "# display the resulting DataFrame\n",
    "print(df.head())"
   ]
  },
  {
   "cell_type": "markdown",
   "metadata": {},
   "source": [
    "### Clean the data by removing any whitespace from the front and end of each tweet"
   ]
  },
  {
   "cell_type": "code",
   "execution_count": 21,
   "metadata": {},
   "outputs": [
    {
     "name": "stdout",
     "output_type": "stream",
     "text": [
      "     tweet_id   sentiment                                            content\n",
      "0  1956967341       empty  i know  i was listenin to bad habit earlier an...\n",
      "1  1956967666     sadness  Layin n bed with a headache  ughhhh...waitin o...\n",
      "2  1956967696     sadness                Funeral ceremony...gloomy friday...\n",
      "3  1956967789  enthusiasm               wants to hang out with friends SOON!\n",
      "4  1956968416     neutral  We want to trade with someone who has Houston ...\n"
     ]
    }
   ],
   "source": [
    "df['content'] = df['content'].str.strip()\n",
    "\n",
    "# display the resulting DataFrame\n",
    "print(df.head())"
   ]
  },
  {
   "cell_type": "code",
   "execution_count": null,
   "metadata": {},
   "outputs": [],
   "source": [
    "type(df.head())"
   ]
  }
 ],
 "metadata": {
  "colab": {
   "provenance": []
  },
  "kernelspec": {
   "display_name": "Python 3 (ipykernel)",
   "language": "python",
   "name": "python3"
  },
  "language_info": {
   "codemirror_mode": {
    "name": "ipython",
    "version": 3
   },
   "file_extension": ".py",
   "mimetype": "text/x-python",
   "name": "python",
   "nbconvert_exporter": "python",
   "pygments_lexer": "ipython3",
   "version": "3.9.12"
  }
 },
 "nbformat": 4,
 "nbformat_minor": 1
}
