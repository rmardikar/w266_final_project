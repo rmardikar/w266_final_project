{
  "cells": [
    {
      "cell_type": "markdown",
      "metadata": {
        "id": "z9rigx9lYp0r"
      },
      "source": [
        "***\n",
        "# EDA emotions_with_neutrals_220228.csv dataset\n",
        "Concatenated the neutrals from Kaggle dataset with Huggingface dataset<br>\n",
        "https://github.com/dair-ai/emotion_dataset<br>\n",
        "https://huggingface.co/datasets/dair-ai/emotion\n",
        "***"
      ]
    },
    {
      "cell_type": "markdown",
      "metadata": {
        "id": "kX3XryQmcWhL"
      },
      "source": [
        "***\n",
        "## 1 Load the dataset\n",
        " <span style=\"color:red\">!!!Make sure to comment out the correct source (Google drive or local)!!!</span>"
      ]
    },
    {
      "cell_type": "code",
      "execution_count": 1,
      "metadata": {
        "colab": {
          "base_uri": "https://localhost:8080/"
        },
        "id": "9j2cEQQtYMBR",
        "outputId": "8da71ed4-9967-4f93-8d88-459bd121b80e"
      },
      "outputs": [
        {
          "output_type": "stream",
          "name": "stdout",
          "text": [
            "Drive already mounted at /content/gdrive; to attempt to forcibly remount, call drive.mount(\"/content/gdrive\", force_remount=True).\n",
            "   Unnamed: 0                                               text emotions\n",
            "0       27383  i feel awful about it too because it s my job ...  sadness\n",
            "1      110083                              im alone i feel awful  sadness\n",
            "2      140764  ive probably mentioned this before but i reall...      joy\n",
            "3      100071           i was feeling a little low few days back  sadness\n",
            "4        2837  i beleive that i am much more sensitive to oth...     love\n"
          ]
        }
      ],
      "source": [
        "import pandas as pd\n",
        "import numpy as np\n",
        "import random\n",
        "\n",
        "from google.colab import drive \n",
        "drive.mount('/content/gdrive')\n",
        "\n",
        "project_folder = '/content/gdrive/MyDrive/266_Final_Project_Folder'\n",
        "\n",
        "# read from the google drive\n",
        "source = project_folder + '/datasets/emotions_with_neutrals_220228.csv'\n",
        "\n",
        "# Load the pickled DataFrame\n",
        "df = pd.read_csv(source)\n",
        "\n",
        "print(df.head())"
      ]
    },
    {
      "cell_type": "markdown",
      "metadata": {
        "id": "6IFXAvHAcWhN"
      },
      "source": [
        "***\n",
        "## 2 Basic EDA"
      ]
    },
    {
      "cell_type": "markdown",
      "metadata": {
        "id": "cAGV4GGbcWhN"
      },
      "source": [
        "### Datatypes for each of the columns in our dataframe"
      ]
    },
    {
      "cell_type": "code",
      "execution_count": 2,
      "metadata": {
        "colab": {
          "base_uri": "https://localhost:8080/"
        },
        "id": "up5aftqqcWhN",
        "outputId": "b3a94325-631f-41e0-a6e2-e68e2e004f6b"
      },
      "outputs": [
        {
          "output_type": "stream",
          "name": "stdout",
          "text": [
            "Unnamed: 0     int64\n",
            "text          object\n",
            "emotions      object\n",
            "dtype: object\n"
          ]
        }
      ],
      "source": [
        "print(df.dtypes)"
      ]
    },
    {
      "cell_type": "markdown",
      "metadata": {
        "id": "e5ghNBozcWhP"
      },
      "source": [
        "### Unique types and count of sentiments in the dataset"
      ]
    },
    {
      "cell_type": "code",
      "source": [
        "def get_proportions(data):\n",
        "  # get the value counts of each unique value\n",
        "  counts = data.value_counts()\n",
        "\n",
        "  # convert the counts to percentages\n",
        "  percentages = counts / counts.sum() * 100\n",
        "\n",
        "  return pd.DataFrame({'count': counts, 'percentage': percentages})  "
      ],
      "metadata": {
        "id": "CG6sQk6rNylr"
      },
      "execution_count": 3,
      "outputs": []
    },
    {
      "cell_type": "code",
      "execution_count": 4,
      "metadata": {
        "colab": {
          "base_uri": "https://localhost:8080/"
        },
        "id": "6HgFtkVScWhP",
        "outputId": "0ef11818-9e4c-4ab2-8fcb-b8d635a7bee1"
      },
      "outputs": [
        {
          "output_type": "stream",
          "name": "stdout",
          "text": [
            "           count  percentage\n",
            "joy       141067   33.157362\n",
            "sadness   121187   28.484629\n",
            "anger      57317   13.472183\n",
            "fear       47712   11.214558\n",
            "love       34554    8.121811\n",
            "surprise   14972    3.519122\n",
            "neutral     8638    2.030335\n"
          ]
        }
      ],
      "source": [
        "cp_df = get_proportions(df['emotions'])\n",
        "print(cp_df)"
      ]
    },
    {
      "cell_type": "markdown",
      "metadata": {
        "id": "sfbehLypcWhQ"
      },
      "source": [
        "### Max and min lengths of words in the text"
      ]
    },
    {
      "cell_type": "code",
      "execution_count": 5,
      "metadata": {
        "colab": {
          "base_uri": "https://localhost:8080/"
        },
        "id": "pSSFgoZocWhR",
        "outputId": "529e8c4b-5f70-4116-ce45-629181239668"
      },
      "outputs": [
        {
          "output_type": "stream",
          "name": "stdout",
          "text": [
            "Maximum word length: 178\n",
            "Minimum word length: 1\n",
            "Mean word length: 19.058693562300355\n",
            "Median word length: 17\n",
            "75th percentile word length: 25.0\n",
            "85th percentile word length: 30.0\n",
            "95th percentile word length: 41.0\n"
          ]
        }
      ],
      "source": [
        "import statistics\n",
        "\n",
        "# Apply the lambda function to the 'content' column and list called word_count_list'\n",
        "word_count_list = list(df['text'].apply(lambda x: len(x.split(' '))))\n",
        "\n",
        "# display the maximum and minimum lengths\n",
        "print('Maximum word length:', max(word_count_list))\n",
        "print('Minimum word length:', min(word_count_list))\n",
        "print('Mean word length:', statistics.mean(word_count_list))\n",
        "print('Median word length:', statistics.median(word_count_list))\n",
        "print('75th percentile word length:', np.percentile(word_count_list, 75))\n",
        "print('85th percentile word length:', np.percentile(word_count_list, 85))\n",
        "print('95th percentile word length:', np.percentile(word_count_list, 95))"
      ]
    },
    {
      "cell_type": "code",
      "execution_count": 6,
      "metadata": {
        "scrolled": true,
        "colab": {
          "base_uri": "https://localhost:8080/",
          "height": 992
        },
        "id": "Bdmqz1NxcWhR",
        "outputId": "91451fbe-41f3-412d-87be-26ed4787e562"
      },
      "outputs": [
        {
          "output_type": "execute_result",
          "data": {
            "text/plain": [
              "(array([2.0860e+03, 2.1312e+04, 3.1886e+04, 3.3226e+04, 3.4129e+04,\n",
              "        3.4441e+04, 3.3288e+04, 3.1458e+04, 2.9109e+04, 2.6666e+04,\n",
              "        2.3666e+04, 2.0754e+04, 2.5957e+04, 1.3887e+04, 1.1442e+04,\n",
              "        9.7050e+03, 8.0990e+03, 6.6180e+03, 5.5650e+03, 4.6280e+03,\n",
              "        3.7870e+03, 3.1830e+03, 2.5530e+03, 2.1370e+03, 2.5210e+03,\n",
              "        1.2620e+03, 8.8100e+02, 5.4200e+02, 3.4200e+02, 1.7100e+02,\n",
              "        7.4000e+01, 3.3000e+01, 1.8000e+01, 3.0000e+00, 2.0000e+00,\n",
              "        4.0000e+00, 3.0000e+00, 2.0000e+00, 0.0000e+00, 0.0000e+00,\n",
              "        0.0000e+00, 0.0000e+00, 0.0000e+00, 0.0000e+00, 1.0000e+00,\n",
              "        0.0000e+00, 0.0000e+00, 2.0000e+00, 2.0000e+00, 0.0000e+00,\n",
              "        0.0000e+00, 0.0000e+00, 1.0000e+00, 0.0000e+00, 0.0000e+00,\n",
              "        0.0000e+00, 0.0000e+00, 0.0000e+00, 0.0000e+00, 0.0000e+00,\n",
              "        0.0000e+00, 0.0000e+00, 0.0000e+00, 0.0000e+00, 0.0000e+00,\n",
              "        0.0000e+00, 0.0000e+00, 0.0000e+00, 0.0000e+00, 0.0000e+00,\n",
              "        0.0000e+00, 0.0000e+00, 0.0000e+00, 0.0000e+00, 0.0000e+00,\n",
              "        0.0000e+00, 0.0000e+00, 0.0000e+00, 0.0000e+00, 0.0000e+00,\n",
              "        0.0000e+00, 0.0000e+00, 0.0000e+00, 0.0000e+00, 1.0000e+00]),\n",
              " array([  1.        ,   3.08235294,   5.16470588,   7.24705882,\n",
              "          9.32941176,  11.41176471,  13.49411765,  15.57647059,\n",
              "         17.65882353,  19.74117647,  21.82352941,  23.90588235,\n",
              "         25.98823529,  28.07058824,  30.15294118,  32.23529412,\n",
              "         34.31764706,  36.4       ,  38.48235294,  40.56470588,\n",
              "         42.64705882,  44.72941176,  46.81176471,  48.89411765,\n",
              "         50.97647059,  53.05882353,  55.14117647,  57.22352941,\n",
              "         59.30588235,  61.38823529,  63.47058824,  65.55294118,\n",
              "         67.63529412,  69.71764706,  71.8       ,  73.88235294,\n",
              "         75.96470588,  78.04705882,  80.12941176,  82.21176471,\n",
              "         84.29411765,  86.37647059,  88.45882353,  90.54117647,\n",
              "         92.62352941,  94.70588235,  96.78823529,  98.87058824,\n",
              "        100.95294118, 103.03529412, 105.11764706, 107.2       ,\n",
              "        109.28235294, 111.36470588, 113.44705882, 115.52941176,\n",
              "        117.61176471, 119.69411765, 121.77647059, 123.85882353,\n",
              "        125.94117647, 128.02352941, 130.10588235, 132.18823529,\n",
              "        134.27058824, 136.35294118, 138.43529412, 140.51764706,\n",
              "        142.6       , 144.68235294, 146.76470588, 148.84705882,\n",
              "        150.92941176, 153.01176471, 155.09411765, 157.17647059,\n",
              "        159.25882353, 161.34117647, 163.42352941, 165.50588235,\n",
              "        167.58823529, 169.67058824, 171.75294118, 173.83529412,\n",
              "        175.91764706, 178.        ]),\n",
              " <BarContainer object of 85 artists>)"
            ]
          },
          "metadata": {},
          "execution_count": 6
        },
        {
          "output_type": "display_data",
          "data": {
            "text/plain": [
              "<Figure size 432x288 with 1 Axes>"
            ],
            "image/png": "[encoded data removed]"
          },
          "metadata": {
            "needs_background": "light"
          }
        }
      ],
      "source": [
        "import matplotlib.pyplot as plt\n",
        "\n",
        "plt.hist(word_count_list, bins=len(set(word_count_list)))"
      ]
    },
    {
      "cell_type": "markdown",
      "metadata": {
        "id": "RjEnDt8VcWhX"
      },
      "source": [
        "***\n",
        "## 3 Split dataset into test/train/validation (imbalanced using stratify)"
      ]
    },
    {
      "cell_type": "markdown",
      "source": [
        "### Drop tweet_id column"
      ],
      "metadata": {
        "id": "4ULSWQrBGoLm"
      }
    },
    {
      "cell_type": "code",
      "source": [
        "df = df.drop(columns='Unnamed: 0')\n",
        "print(df.dtypes)"
      ],
      "metadata": {
        "colab": {
          "base_uri": "https://localhost:8080/"
        },
        "id": "qEYLRWeuGm73",
        "outputId": "c0e560d1-cc8b-4918-bd53-69e3cd2fca67"
      },
      "execution_count": 7,
      "outputs": [
        {
          "output_type": "stream",
          "name": "stdout",
          "text": [
            "text        object\n",
            "emotions    object\n",
            "dtype: object\n"
          ]
        }
      ]
    },
    {
      "cell_type": "markdown",
      "source": [
        "### Split the dataset: test = 30%, train = 70% then split train: train = 75% of initial train, validation = 25% of initial train. Stratifying the dataset to keep proportions."
      ],
      "metadata": {
        "id": "r9ES9o9EIKht"
      }
    },
    {
      "cell_type": "code",
      "source": [
        "from sklearn.model_selection import train_test_split\n",
        "# Split original dataset into train (70%) and test (30%) sets\n",
        "X_train, X_test, y_train, y_test = train_test_split(df['text'], df['emotions'],\n",
        "                                                    test_size=0.3,\n",
        "                                                    stratify=df['emotions'],\n",
        "                                                    random_state=11)\n",
        "\n",
        "# Split train set into train (75%) and validation (25%) sets\n",
        "X_train, X_val, y_train, y_val = train_test_split(X_train,\n",
        "                                                  y_train,\n",
        "                                                  test_size=0.25,\n",
        "                                                  stratify=y_train,\n",
        "                                                  random_state=11)"
      ],
      "metadata": {
        "id": "LeYVCt0wHFvU"
      },
      "execution_count": 8,
      "outputs": []
    },
    {
      "cell_type": "markdown",
      "source": [
        "### Check to see if splits are correct"
      ],
      "metadata": {
        "id": "9S9gTIz6L3do"
      }
    },
    {
      "cell_type": "code",
      "source": [
        "print('X_train:', len(X_train))\n",
        "print('X_test:', len(X_test))\n",
        "print('X_val:', len(X_val))\n",
        "\n",
        "print('X_train prop:', len(X_train) / len(df))\n",
        "print('X_test prop:', len(X_test) / len(df))\n",
        "print('X_val prop:', len(X_val) / len(df))"
      ],
      "metadata": {
        "colab": {
          "base_uri": "https://localhost:8080/"
        },
        "id": "yZcMcWxcKgyX",
        "outputId": "c9d30398-d00a-463e-95e8-7f35e9441cad"
      },
      "execution_count": 9,
      "outputs": [
        {
          "output_type": "stream",
          "name": "stdout",
          "text": [
            "X_train: 223359\n",
            "X_test: 127635\n",
            "X_val: 74453\n",
            "X_train prop: 0.5249984134334006\n",
            "X_test prop: 0.3000021154221325\n",
            "X_val prop: 0.17499947114446687\n"
          ]
        }
      ]
    },
    {
      "cell_type": "markdown",
      "source": [
        "### Check to see if the proportions of each class are still the same"
      ],
      "metadata": {
        "id": "0gwDNW0AMqMX"
      }
    },
    {
      "cell_type": "code",
      "source": [
        "# reminder of proportions of original df\n",
        "print(cp_df)"
      ],
      "metadata": {
        "colab": {
          "base_uri": "https://localhost:8080/"
        },
        "id": "jU4oy9L5MyWb",
        "outputId": "76209a91-2694-4616-9af5-7090c44c9cf1"
      },
      "execution_count": 10,
      "outputs": [
        {
          "output_type": "stream",
          "name": "stdout",
          "text": [
            "           count  percentage\n",
            "joy       141067   33.157362\n",
            "sadness   121187   28.484629\n",
            "anger      57317   13.472183\n",
            "fear       47712   11.214558\n",
            "love       34554    8.121811\n",
            "surprise   14972    3.519122\n",
            "neutral     8638    2.030335\n"
          ]
        }
      ]
    },
    {
      "cell_type": "code",
      "source": [
        "y_train_proportions = get_proportions(y_train)\n",
        "print(y_train_proportions)"
      ],
      "metadata": {
        "colab": {
          "base_uri": "https://localhost:8080/"
        },
        "id": "ZIXiTgWfMuti",
        "outputId": "d026b707-232c-438f-b578-6a2c5a452a92"
      },
      "execution_count": 11,
      "outputs": [
        {
          "output_type": "stream",
          "name": "stdout",
          "text": [
            "          count  percentage\n",
            "joy       74060   33.157383\n",
            "sadness   63623   28.484637\n",
            "anger     30092   13.472482\n",
            "fear      25048   11.214234\n",
            "love      18141    8.121902\n",
            "surprise   7860    3.518999\n",
            "neutral    4535    2.030364\n"
          ]
        }
      ]
    },
    {
      "cell_type": "code",
      "source": [
        "y_test_proportions = get_proportions(y_test)\n",
        "print(y_test_proportions)"
      ],
      "metadata": {
        "colab": {
          "base_uri": "https://localhost:8080/"
        },
        "id": "EOybVMU3Ol0N",
        "outputId": "795b29c3-870a-4a74-9b63-1d3ccf656e7e"
      },
      "execution_count": 12,
      "outputs": [
        {
          "output_type": "stream",
          "name": "stdout",
          "text": [
            "          count  percentage\n",
            "joy       42320   33.157049\n",
            "sadness   36356   28.484350\n",
            "anger     17195   13.472010\n",
            "fear      14314   11.214792\n",
            "love      10366    8.121597\n",
            "surprise   4492    3.519411\n",
            "neutral    2592    2.030791\n"
          ]
        }
      ]
    },
    {
      "cell_type": "code",
      "source": [
        "y_val_proportions = get_proportions(y_val)\n",
        "print(y_val_proportions)"
      ],
      "metadata": {
        "colab": {
          "base_uri": "https://localhost:8080/"
        },
        "id": "u29JP5Z5Ot5L",
        "outputId": "a1906501-3984-493a-f804-16e1ace6edf6"
      },
      "execution_count": 13,
      "outputs": [
        {
          "output_type": "stream",
          "name": "stdout",
          "text": [
            "          count  percentage\n",
            "joy       24687   33.157831\n",
            "sadness   21208   28.485085\n",
            "anger     10030   13.471586\n",
            "fear       8350   11.215129\n",
            "love       6047    8.121902\n",
            "surprise   2620    3.518999\n",
            "neutral    1511    2.029468\n"
          ]
        }
      ]
    },
    {
      "cell_type": "code",
      "source": [
        "print('yay!!')"
      ],
      "metadata": {
        "colab": {
          "base_uri": "https://localhost:8080/"
        },
        "id": "llxfTBJGO2dj",
        "outputId": "13012360-2f30-4bd1-d882-a79825f6ce39"
      },
      "execution_count": 14,
      "outputs": [
        {
          "output_type": "stream",
          "name": "stdout",
          "text": [
            "yay!!\n"
          ]
        }
      ]
    },
    {
      "cell_type": "markdown",
      "source": [
        "### Make csv of train, test, validation datasets"
      ],
      "metadata": {
        "id": "IBMNByKfQGgD"
      }
    },
    {
      "cell_type": "markdown",
      "source": [
        "#### Commenting out because I've already created the test_df"
      ],
      "metadata": {
        "id": "uPWRHLhpi29o"
      }
    },
    {
      "cell_type": "code",
      "source": [
        "train_df = pd.DataFrame({'text': X_train, 'emotions': y_train})\n",
        "train_df.to_csv(project_folder + '/datasets/train_data_imbalanced_stratified.csv')"
      ],
      "metadata": {
        "id": "wTEZLJ14QFmk"
      },
      "execution_count": 16,
      "outputs": []
    },
    {
      "cell_type": "code",
      "source": [
        "test_df = pd.DataFrame({'text': X_test, 'emotions': y_test})\n",
        "test_df.to_csv(project_folder + '/datasets/test_data_imbalanced_stratified.csv')"
      ],
      "metadata": {
        "id": "jGJ1GdjAQNRF"
      },
      "execution_count": 17,
      "outputs": []
    },
    {
      "cell_type": "code",
      "source": [
        "val_df = pd.DataFrame({'text': X_val, 'emotions': y_val})\n",
        "val_df.to_csv(project_folder + '/datasets/validation_data_imbalanced_stratified.csv')"
      ],
      "metadata": {
        "id": "ejHlUSvPRAPv"
      },
      "execution_count": 18,
      "outputs": []
    },
    {
      "cell_type": "markdown",
      "source": [
        "#### Make a balanced test set from the existing test_df set"
      ],
      "metadata": {
        "id": "9w2XUV85ip1S"
      }
    },
    {
      "cell_type": "code",
      "source": [
        "# used 2592 because the smallest number in the test_df\n",
        "balanced_test_df = test_df.groupby('emotions').sample(n=2592, random_state=11)\n",
        "balanced_test_df"
      ],
      "metadata": {
        "colab": {
          "base_uri": "https://localhost:8080/",
          "height": 423
        },
        "id": "e6GiWtm3gOG3",
        "outputId": "c48c93bc-6c50-4dbc-b2c4-7a873447384e"
      },
      "execution_count": 19,
      "outputs": [
        {
          "output_type": "execute_result",
          "data": {
            "text/plain": [
              "                                                     text  emotions\n",
              "219222  i just feel greedy daydreaming about hats and ...     anger\n",
              "389639  i cant be bothered to talk about the weather t...     anger\n",
              "251952  i feel infuriated that i have to say to a prof...     anger\n",
              "396969                         i feel distracted isolated     anger\n",
              "159585  i give myself completely to my child my partne...     anger\n",
              "...                                                   ...       ...\n",
              "87815                 i feel really overwhelmed with mine  surprise\n",
              "413773  i used to blog pretty regularly and i feel kin...  surprise\n",
              "289887  i feel in retrospect if i have the ability to ...  surprise\n",
              "11559   im thrilled to report that ive been feeling am...  surprise\n",
              "41863   i feel so strange and sick i have to wake up i...  surprise\n",
              "\n",
              "[18144 rows x 2 columns]"
            ],
            "text/html": [
              "\n",
              "  <div id=\"df-ab112fa6-efbd-4247-9978-04de56e9d2f5\">\n",
              "    <div class=\"colab-df-container\">\n",
              "      <div>\n",
              "<style scoped>\n",
              "    .dataframe tbody tr th:only-of-type {\n",
              "        vertical-align: middle;\n",
              "    }\n",
              "\n",
              "    .dataframe tbody tr th {\n",
              "        vertical-align: top;\n",
              "    }\n",
              "\n",
              "    .dataframe thead th {\n",
              "        text-align: right;\n",
              "    }\n",
              "</style>\n",
              "<table border=\"1\" class=\"dataframe\">\n",
              "  <thead>\n",
              "    <tr style=\"text-align: right;\">\n",
              "      <th></th>\n",
              "      <th>text</th>\n",
              "      <th>emotions</th>\n",
              "    </tr>\n",
              "  </thead>\n",
              "  <tbody>\n",
              "    <tr>\n",
              "      <th>219222</th>\n",
              "      <td>i just feel greedy daydreaming about hats and ...</td>\n",
              "      <td>anger</td>\n",
              "    </tr>\n",
              "    <tr>\n",
              "      <th>389639</th>\n",
              "      <td>i cant be bothered to talk about the weather t...</td>\n",
              "      <td>anger</td>\n",
              "    </tr>\n",
              "    <tr>\n",
              "      <th>251952</th>\n",
              "      <td>i feel infuriated that i have to say to a prof...</td>\n",
              "      <td>anger</td>\n",
              "    </tr>\n",
              "    <tr>\n",
              "      <th>396969</th>\n",
              "      <td>i feel distracted isolated</td>\n",
              "      <td>anger</td>\n",
              "    </tr>\n",
              "    <tr>\n",
              "      <th>159585</th>\n",
              "      <td>i give myself completely to my child my partne...</td>\n",
              "      <td>anger</td>\n",
              "    </tr>\n",
              "    <tr>\n",
              "      <th>...</th>\n",
              "      <td>...</td>\n",
              "      <td>...</td>\n",
              "    </tr>\n",
              "    <tr>\n",
              "      <th>87815</th>\n",
              "      <td>i feel really overwhelmed with mine</td>\n",
              "      <td>surprise</td>\n",
              "    </tr>\n",
              "    <tr>\n",
              "      <th>413773</th>\n",
              "      <td>i used to blog pretty regularly and i feel kin...</td>\n",
              "      <td>surprise</td>\n",
              "    </tr>\n",
              "    <tr>\n",
              "      <th>289887</th>\n",
              "      <td>i feel in retrospect if i have the ability to ...</td>\n",
              "      <td>surprise</td>\n",
              "    </tr>\n",
              "    <tr>\n",
              "      <th>11559</th>\n",
              "      <td>im thrilled to report that ive been feeling am...</td>\n",
              "      <td>surprise</td>\n",
              "    </tr>\n",
              "    <tr>\n",
              "      <th>41863</th>\n",
              "      <td>i feel so strange and sick i have to wake up i...</td>\n",
              "      <td>surprise</td>\n",
              "    </tr>\n",
              "  </tbody>\n",
              "</table>\n",
              "<p>18144 rows × 2 columns</p>\n",
              "</div>\n",
              "      <button class=\"colab-df-convert\" onclick=\"convertToInteractive('df-ab112fa6-efbd-4247-9978-04de56e9d2f5')\"\n",
              "              title=\"Convert this dataframe to an interactive table.\"\n",
              "              style=\"display:none;\">\n",
              "        \n",
              "  <svg xmlns=\"http://www.w3.org/2000/svg\" height=\"24px\"viewBox=\"0 0 24 24\"\n",
              "       width=\"24px\">\n",
              "    <path d=\"M0 0h24v24H0V0z\" fill=\"none\"/>\n",
              "    <path d=\"M18.56 5.44l.94 2.06.94-2.06 2.06-.94-2.06-.94-.94-2.06-.94 2.06-2.06.94zm-11 1L8.5 8.5l.94-2.06 2.06-.94-2.06-.94L8.5 2.5l-.94 2.06-2.06.94zm10 10l.94 2.06.94-2.06 2.06-.94-2.06-.94-.94-2.06-.94 2.06-2.06.94z\"/><path d=\"M17.41 7.96l-1.37-1.37c-.4-.4-.92-.59-1.43-.59-.52 0-1.04.2-1.43.59L10.3 9.45l-7.72 7.72c-.78.78-.78 2.05 0 2.83L4 21.41c.39.39.9.59 1.41.59.51 0 1.02-.2 1.41-.59l7.78-7.78 2.81-2.81c.8-.78.8-2.07 0-2.86zM5.41 20L4 18.59l7.72-7.72 1.47 1.35L5.41 20z\"/>\n",
              "  </svg>\n",
              "      </button>\n",
              "      \n",
              "  <style>\n",
              "    .colab-df-container {\n",
              "      display:flex;\n",
              "      flex-wrap:wrap;\n",
              "      gap: 12px;\n",
              "    }\n",
              "\n",
              "    .colab-df-convert {\n",
              "      background-color: #E8F0FE;\n",
              "      border: none;\n",
              "      border-radius: 50%;\n",
              "      cursor: pointer;\n",
              "      display: none;\n",
              "      fill: #1967D2;\n",
              "      height: 32px;\n",
              "      padding: 0 0 0 0;\n",
              "      width: 32px;\n",
              "    }\n",
              "\n",
              "    .colab-df-convert:hover {\n",
              "      background-color: #E2EBFA;\n",
              "      box-shadow: 0px 1px 2px rgba(60, 64, 67, 0.3), 0px 1px 3px 1px rgba(60, 64, 67, 0.15);\n",
              "      fill: #174EA6;\n",
              "    }\n",
              "\n",
              "    [theme=dark] .colab-df-convert {\n",
              "      background-color: #3B4455;\n",
              "      fill: #D2E3FC;\n",
              "    }\n",
              "\n",
              "    [theme=dark] .colab-df-convert:hover {\n",
              "      background-color: #434B5C;\n",
              "      box-shadow: 0px 1px 3px 1px rgba(0, 0, 0, 0.15);\n",
              "      filter: drop-shadow(0px 1px 2px rgba(0, 0, 0, 0.3));\n",
              "      fill: #FFFFFF;\n",
              "    }\n",
              "  </style>\n",
              "\n",
              "      <script>\n",
              "        const buttonEl =\n",
              "          document.querySelector('#df-ab112fa6-efbd-4247-9978-04de56e9d2f5 button.colab-df-convert');\n",
              "        buttonEl.style.display =\n",
              "          google.colab.kernel.accessAllowed ? 'block' : 'none';\n",
              "\n",
              "        async function convertToInteractive(key) {\n",
              "          const element = document.querySelector('#df-ab112fa6-efbd-4247-9978-04de56e9d2f5');\n",
              "          const dataTable =\n",
              "            await google.colab.kernel.invokeFunction('convertToInteractive',\n",
              "                                                     [key], {});\n",
              "          if (!dataTable) return;\n",
              "\n",
              "          const docLinkHtml = 'Like what you see? Visit the ' +\n",
              "            '<a target=\"_blank\" href=https://colab.research.google.com/notebooks/data_table.ipynb>data table notebook</a>'\n",
              "            + ' to learn more about interactive tables.';\n",
              "          element.innerHTML = '';\n",
              "          dataTable['output_type'] = 'display_data';\n",
              "          await google.colab.output.renderOutput(dataTable, element);\n",
              "          const docLink = document.createElement('div');\n",
              "          docLink.innerHTML = docLinkHtml;\n",
              "          element.appendChild(docLink);\n",
              "        }\n",
              "      </script>\n",
              "    </div>\n",
              "  </div>\n",
              "  "
            ]
          },
          "metadata": {},
          "execution_count": 19
        }
      ]
    },
    {
      "cell_type": "code",
      "source": [
        "# verify that the balanced_test_df is actually balanced\n",
        "print(get_proportions(balanced_test_df['emotions']))"
      ],
      "metadata": {
        "colab": {
          "base_uri": "https://localhost:8080/"
        },
        "id": "Y3Es_8MXgel-",
        "outputId": "0dc2492a-09ad-4584-edeb-7a06cac21cd7"
      },
      "execution_count": 23,
      "outputs": [
        {
          "output_type": "stream",
          "name": "stdout",
          "text": [
            "          count  percentage\n",
            "anger      2592   14.285714\n",
            "fear       2592   14.285714\n",
            "joy        2592   14.285714\n",
            "love       2592   14.285714\n",
            "neutral    2592   14.285714\n",
            "sadness    2592   14.285714\n",
            "surprise   2592   14.285714\n"
          ]
        }
      ]
    },
    {
      "cell_type": "code",
      "source": [
        "# write to CSV\n",
        "balanced_test_df.to_csv(project_folder + '/datasets/test_data_balanced.csv')"
      ],
      "metadata": {
        "id": "zhDHqRp7jCj3"
      },
      "execution_count": 24,
      "outputs": []
    }
  ],
  "metadata": {
    "colab": {
      "provenance": []
    },
    "kernelspec": {
      "display_name": "Python 3 (ipykernel)",
      "language": "python",
      "name": "python3"
    },
    "language_info": {
      "codemirror_mode": {
        "name": "ipython",
        "version": 3
      },
      "file_extension": ".py",
      "mimetype": "text/x-python",
      "name": "python",
      "nbconvert_exporter": "python",
      "pygments_lexer": "ipython3",
      "version": "3.9.12"
    },
    "gpuClass": "standard"
  },
  "nbformat": 4,
  "nbformat_minor": 0
}