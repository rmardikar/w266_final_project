{
 "cells": [
  {
   "cell_type": "markdown",
   "metadata": {
    "id": "z9rigx9lYp0r"
   },
   "source": [
    "***\n",
    "# Base Bi-LSTM Model using only 17k training and 5k of val of the original data of 90% training<br>\n",
    "***"
   ]
  },
  {
   "cell_type": "markdown",
   "metadata": {
    "id": "kX3XryQmcWhL"
   },
   "source": [
    "***\n",
    "## 1 Load the train/val/test/balanced test datasets"
   ]
  },
  {
   "cell_type": "code",
   "execution_count": 1,
   "metadata": {
    "colab": {
     "base_uri": "https://localhost:8080/"
    },
    "executionInfo": {
     "elapsed": 24805,
     "status": "ok",
     "timestamp": 1681013896140,
     "user": {
      "displayName": "Christian Montecillo",
      "userId": "02267957112746133644"
     },
     "user_tz": 360
    },
    "id": "06sIOQnaaF9P",
    "outputId": "990b605b-18bf-41e1-b9bb-03985cedaaab"
   },
   "outputs": [
    {
     "name": "stdout",
     "output_type": "stream",
     "text": [
      "Mounted at /content/gdrive\n"
     ]
    }
   ],
   "source": [
    "import pandas as pd\n",
    "import numpy as np\n",
    "\n",
    "# mount google drive\n",
    "from google.colab import drive \n",
    "drive.mount('/content/gdrive')"
   ]
  },
  {
   "cell_type": "code",
   "execution_count": 2,
   "metadata": {
    "executionInfo": {
     "elapsed": 3869,
     "status": "ok",
     "timestamp": 1681013900004,
     "user": {
      "displayName": "Christian Montecillo",
      "userId": "02267957112746133644"
     },
     "user_tz": 360
    },
    "id": "9j2cEQQtYMBR"
   },
   "outputs": [],
   "source": [
    "# read from the google drive\n",
    "project_folder = '/content/gdrive/MyDrive/266_Final_Project_Folder'\n",
    "\n",
    "train_source = project_folder + '/datasets/train_data_imbalanced_stratified_no_dupe_17k_5k.csv'\n",
    "test_source = project_folder + '/datasets/test_data_imbalanced_stratified_no_dupe.csv'\n",
    "val_source = project_folder + '/datasets/validation_data_imbalanced_stratified_no_dupe_17k_5k.csv'\n",
    "balanced_test_source = project_folder + '/datasets/test_data_balanced_no_dupe.csv'\n",
    "\n",
    "# Load the dfs\n",
    "train_df = pd.read_csv(train_source)\n",
    "test_df = pd.read_csv(test_source)\n",
    "val_df = pd.read_csv(val_source)\n",
    "balanced_test_df = pd.read_csv(balanced_test_source)\n",
    "\n",
    "# drop the tweet_id column\n",
    "train_df.drop(columns=train_df.columns[0], axis=1, inplace=True)\n",
    "test_df.drop(columns=test_df.columns[0], axis=1, inplace=True)\n",
    "val_df.drop(columns=val_df.columns[0], axis=1, inplace=True)\n",
    "balanced_test_df.drop(columns=balanced_test_df.columns[0], axis=1, inplace=True)"
   ]
  },
  {
   "cell_type": "markdown",
   "metadata": {
    "id": "IbaQ2JZUcJcH"
   },
   "source": [
    "### Confirm no overlapping records "
   ]
  },
  {
   "cell_type": "code",
   "execution_count": 3,
   "metadata": {
    "colab": {
     "base_uri": "https://localhost:8080/"
    },
    "executionInfo": {
     "elapsed": 230,
     "status": "ok",
     "timestamp": 1681013900229,
     "user": {
      "displayName": "Christian Montecillo",
      "userId": "02267957112746133644"
     },
     "user_tz": 360
    },
    "id": "PIydFV55QM8H",
    "outputId": "65eb2a73-330a-40be-94cf-47f6629e3f36"
   },
   "outputs": [
    {
     "name": "stdout",
     "output_type": "stream",
     "text": [
      "Number of overlapping records, train-val: 0\n",
      "Number of overlapping records, val-train: 0\n",
      "Number of overlapping records, train-test: 0\n",
      "Number of overlapping records, test-train: 0\n",
      "Number of overlapping records, train-balanced test: 0\n",
      "Number of overlapping records, balanced test, train: 0\n"
     ]
    }
   ],
   "source": [
    "# Check if there are any records in train_df that are in val_df\n",
    "overlap = train_df['text'].isin(val_df['text'])\n",
    "print(f\"Number of overlapping records, train-val: {overlap.sum()}\")\n",
    "\n",
    "# Check if there are any records in val_df that are in train_df\n",
    "overlap = val_df['text'].isin(train_df['text'])\n",
    "print(f\"Number of overlapping records, val-train: {overlap.sum()}\")\n",
    "\n",
    "\n",
    "# Check if there are any records in train_df that are in test_df\n",
    "overlap = train_df['text'].isin(test_df['text'])\n",
    "print(f\"Number of overlapping records, train-test: {overlap.sum()}\")\n",
    "\n",
    "# Check if there are any records in test_df that are in train_df\n",
    "overlap = test_df['text'].isin(train_df['text'])\n",
    "print(f\"Number of overlapping records, test-train: {overlap.sum()}\")\n",
    "\n",
    "\n",
    "# Check if there are any records in train_df that are in balanced_test_df\n",
    "overlap = train_df['text'].isin(balanced_test_df['text'])\n",
    "print(f\"Number of overlapping records, train-balanced test: {overlap.sum()}\")\n",
    "\n",
    "# Check if there are any records in train_df that are in balanced_test_df\n",
    "overlap = balanced_test_df['text'].isin(train_df['text'])\n",
    "print(f\"Number of overlapping records, balanced test, train: {overlap.sum()}\")"
   ]
  },
  {
   "cell_type": "code",
   "execution_count": 4,
   "metadata": {
    "colab": {
     "base_uri": "https://localhost:8080/",
     "height": 424
    },
    "executionInfo": {
     "elapsed": 28,
     "status": "ok",
     "timestamp": 1681013900229,
     "user": {
      "displayName": "Christian Montecillo",
      "userId": "02267957112746133644"
     },
     "user_tz": 360
    },
    "id": "7W2PlC_Ulv0O",
    "outputId": "28b6089b-d24b-47f1-a13d-e9b129f0fa51"
   },
   "outputs": [
    {
     "data": {
      "text/html": [
       "\n",
       "  <div id=\"df-67a79f21-244b-40fe-860f-0e99be7fe8af\">\n",
       "    <div class=\"colab-df-container\">\n",
       "      <div>\n",
       "<style scoped>\n",
       "    .dataframe tbody tr th:only-of-type {\n",
       "        vertical-align: middle;\n",
       "    }\n",
       "\n",
       "    .dataframe tbody tr th {\n",
       "        vertical-align: top;\n",
       "    }\n",
       "\n",
       "    .dataframe thead th {\n",
       "        text-align: right;\n",
       "    }\n",
       "</style>\n",
       "<table border=\"1\" class=\"dataframe\">\n",
       "  <thead>\n",
       "    <tr style=\"text-align: right;\">\n",
       "      <th></th>\n",
       "      <th>text</th>\n",
       "      <th>emotions</th>\n",
       "    </tr>\n",
       "  </thead>\n",
       "  <tbody>\n",
       "    <tr>\n",
       "      <th>0</th>\n",
       "      <td>i feel so repressed with this one now</td>\n",
       "      <td>sadness</td>\n",
       "    </tr>\n",
       "    <tr>\n",
       "      <th>1</th>\n",
       "      <td>im feeling very thankful this evening for many...</td>\n",
       "      <td>joy</td>\n",
       "    </tr>\n",
       "    <tr>\n",
       "      <th>2</th>\n",
       "      <td>i would not feel so dismayed everybody must ge...</td>\n",
       "      <td>sadness</td>\n",
       "    </tr>\n",
       "    <tr>\n",
       "      <th>3</th>\n",
       "      <td>i feel like i m rich in that department</td>\n",
       "      <td>joy</td>\n",
       "    </tr>\n",
       "    <tr>\n",
       "      <th>4</th>\n",
       "      <td>ill sink again a time or two before i can real...</td>\n",
       "      <td>joy</td>\n",
       "    </tr>\n",
       "    <tr>\n",
       "      <th>...</th>\n",
       "      <td>...</td>\n",
       "      <td>...</td>\n",
       "    </tr>\n",
       "    <tr>\n",
       "      <th>17077</th>\n",
       "      <td>i to feel angry and pissed when everything is ...</td>\n",
       "      <td>anger</td>\n",
       "    </tr>\n",
       "    <tr>\n",
       "      <th>17078</th>\n",
       "      <td>@oyfreakinvey rofl</td>\n",
       "      <td>neutral</td>\n",
       "    </tr>\n",
       "    <tr>\n",
       "      <th>17079</th>\n",
       "      <td>ive thought about killing myself so i wouldnt ...</td>\n",
       "      <td>sadness</td>\n",
       "    </tr>\n",
       "    <tr>\n",
       "      <th>17080</th>\n",
       "      <td>i feel eager to get started</td>\n",
       "      <td>joy</td>\n",
       "    </tr>\n",
       "    <tr>\n",
       "      <th>17081</th>\n",
       "      <td>i can also feel them in his tender caressing a...</td>\n",
       "      <td>love</td>\n",
       "    </tr>\n",
       "  </tbody>\n",
       "</table>\n",
       "<p>17082 rows × 2 columns</p>\n",
       "</div>\n",
       "      <button class=\"colab-df-convert\" onclick=\"convertToInteractive('df-67a79f21-244b-40fe-860f-0e99be7fe8af')\"\n",
       "              title=\"Convert this dataframe to an interactive table.\"\n",
       "              style=\"display:none;\">\n",
       "        \n",
       "  <svg xmlns=\"http://www.w3.org/2000/svg\" height=\"24px\"viewBox=\"0 0 24 24\"\n",
       "       width=\"24px\">\n",
       "    <path d=\"M0 0h24v24H0V0z\" fill=\"none\"/>\n",
       "    <path d=\"M18.56 5.44l.94 2.06.94-2.06 2.06-.94-2.06-.94-.94-2.06-.94 2.06-2.06.94zm-11 1L8.5 8.5l.94-2.06 2.06-.94-2.06-.94L8.5 2.5l-.94 2.06-2.06.94zm10 10l.94 2.06.94-2.06 2.06-.94-2.06-.94-.94-2.06-.94 2.06-2.06.94z\"/><path d=\"M17.41 7.96l-1.37-1.37c-.4-.4-.92-.59-1.43-.59-.52 0-1.04.2-1.43.59L10.3 9.45l-7.72 7.72c-.78.78-.78 2.05 0 2.83L4 21.41c.39.39.9.59 1.41.59.51 0 1.02-.2 1.41-.59l7.78-7.78 2.81-2.81c.8-.78.8-2.07 0-2.86zM5.41 20L4 18.59l7.72-7.72 1.47 1.35L5.41 20z\"/>\n",
       "  </svg>\n",
       "      </button>\n",
       "      \n",
       "  <style>\n",
       "    .colab-df-container {\n",
       "      display:flex;\n",
       "      flex-wrap:wrap;\n",
       "      gap: 12px;\n",
       "    }\n",
       "\n",
       "    .colab-df-convert {\n",
       "      background-color: #E8F0FE;\n",
       "      border: none;\n",
       "      border-radius: 50%;\n",
       "      cursor: pointer;\n",
       "      display: none;\n",
       "      fill: #1967D2;\n",
       "      height: 32px;\n",
       "      padding: 0 0 0 0;\n",
       "      width: 32px;\n",
       "    }\n",
       "\n",
       "    .colab-df-convert:hover {\n",
       "      background-color: #E2EBFA;\n",
       "      box-shadow: 0px 1px 2px rgba(60, 64, 67, 0.3), 0px 1px 3px 1px rgba(60, 64, 67, 0.15);\n",
       "      fill: #174EA6;\n",
       "    }\n",
       "\n",
       "    [theme=dark] .colab-df-convert {\n",
       "      background-color: #3B4455;\n",
       "      fill: #D2E3FC;\n",
       "    }\n",
       "\n",
       "    [theme=dark] .colab-df-convert:hover {\n",
       "      background-color: #434B5C;\n",
       "      box-shadow: 0px 1px 3px 1px rgba(0, 0, 0, 0.15);\n",
       "      filter: drop-shadow(0px 1px 2px rgba(0, 0, 0, 0.3));\n",
       "      fill: #FFFFFF;\n",
       "    }\n",
       "  </style>\n",
       "\n",
       "      <script>\n",
       "        const buttonEl =\n",
       "          document.querySelector('#df-67a79f21-244b-40fe-860f-0e99be7fe8af button.colab-df-convert');\n",
       "        buttonEl.style.display =\n",
       "          google.colab.kernel.accessAllowed ? 'block' : 'none';\n",
       "\n",
       "        async function convertToInteractive(key) {\n",
       "          const element = document.querySelector('#df-67a79f21-244b-40fe-860f-0e99be7fe8af');\n",
       "          const dataTable =\n",
       "            await google.colab.kernel.invokeFunction('convertToInteractive',\n",
       "                                                     [key], {});\n",
       "          if (!dataTable) return;\n",
       "\n",
       "          const docLinkHtml = 'Like what you see? Visit the ' +\n",
       "            '<a target=\"_blank\" href=https://colab.research.google.com/notebooks/data_table.ipynb>data table notebook</a>'\n",
       "            + ' to learn more about interactive tables.';\n",
       "          element.innerHTML = '';\n",
       "          dataTable['output_type'] = 'display_data';\n",
       "          await google.colab.output.renderOutput(dataTable, element);\n",
       "          const docLink = document.createElement('div');\n",
       "          docLink.innerHTML = docLinkHtml;\n",
       "          element.appendChild(docLink);\n",
       "        }\n",
       "      </script>\n",
       "    </div>\n",
       "  </div>\n",
       "  "
      ],
      "text/plain": [
       "                                                    text emotions\n",
       "0                  i feel so repressed with this one now  sadness\n",
       "1      im feeling very thankful this evening for many...      joy\n",
       "2      i would not feel so dismayed everybody must ge...  sadness\n",
       "3                i feel like i m rich in that department      joy\n",
       "4      ill sink again a time or two before i can real...      joy\n",
       "...                                                  ...      ...\n",
       "17077  i to feel angry and pissed when everything is ...    anger\n",
       "17078                                 @oyfreakinvey rofl  neutral\n",
       "17079  ive thought about killing myself so i wouldnt ...  sadness\n",
       "17080                        i feel eager to get started      joy\n",
       "17081  i can also feel them in his tender caressing a...     love\n",
       "\n",
       "[17082 rows x 2 columns]"
      ]
     },
     "execution_count": 4,
     "metadata": {},
     "output_type": "execute_result"
    }
   ],
   "source": [
    "train_df"
   ]
  },
  {
   "cell_type": "code",
   "execution_count": 5,
   "metadata": {
    "colab": {
     "base_uri": "https://localhost:8080/",
     "height": 424
    },
    "executionInfo": {
     "elapsed": 24,
     "status": "ok",
     "timestamp": 1681013900230,
     "user": {
      "displayName": "Christian Montecillo",
      "userId": "02267957112746133644"
     },
     "user_tz": 360
    },
    "id": "DbdHIPy4l0s_",
    "outputId": "c665df98-0086-4196-a2c0-899e1533a2ce"
   },
   "outputs": [
    {
     "data": {
      "text/html": [
       "\n",
       "  <div id=\"df-b8397de0-12db-401b-9ff1-94d238f2752d\">\n",
       "    <div class=\"colab-df-container\">\n",
       "      <div>\n",
       "<style scoped>\n",
       "    .dataframe tbody tr th:only-of-type {\n",
       "        vertical-align: middle;\n",
       "    }\n",
       "\n",
       "    .dataframe tbody tr th {\n",
       "        vertical-align: top;\n",
       "    }\n",
       "\n",
       "    .dataframe thead th {\n",
       "        text-align: right;\n",
       "    }\n",
       "</style>\n",
       "<table border=\"1\" class=\"dataframe\">\n",
       "  <thead>\n",
       "    <tr style=\"text-align: right;\">\n",
       "      <th></th>\n",
       "      <th>text</th>\n",
       "      <th>emotions</th>\n",
       "    </tr>\n",
       "  </thead>\n",
       "  <tbody>\n",
       "    <tr>\n",
       "      <th>0</th>\n",
       "      <td>i can feel that tomorrow i will remember this ...</td>\n",
       "      <td>joy</td>\n",
       "    </tr>\n",
       "    <tr>\n",
       "      <th>1</th>\n",
       "      <td>i can feel is grief for the innocent lives bli...</td>\n",
       "      <td>joy</td>\n",
       "    </tr>\n",
       "    <tr>\n",
       "      <th>2</th>\n",
       "      <td>i deprive all those who might have even an ink...</td>\n",
       "      <td>love</td>\n",
       "    </tr>\n",
       "    <tr>\n",
       "      <th>3</th>\n",
       "      <td>i remember reading it feeling terrified at the...</td>\n",
       "      <td>fear</td>\n",
       "    </tr>\n",
       "    <tr>\n",
       "      <th>4</th>\n",
       "      <td>i guess its her way of feeling like shes popul...</td>\n",
       "      <td>joy</td>\n",
       "    </tr>\n",
       "    <tr>\n",
       "      <th>...</th>\n",
       "      <td>...</td>\n",
       "      <td>...</td>\n",
       "    </tr>\n",
       "    <tr>\n",
       "      <th>5120</th>\n",
       "      <td>i went away feeling tremendously reassured</td>\n",
       "      <td>joy</td>\n",
       "    </tr>\n",
       "    <tr>\n",
       "      <th>5121</th>\n",
       "      <td>i feel completely listless about the holidays ...</td>\n",
       "      <td>sadness</td>\n",
       "    </tr>\n",
       "    <tr>\n",
       "      <th>5122</th>\n",
       "      <td>i feel more self assured and confident in my a...</td>\n",
       "      <td>joy</td>\n",
       "    </tr>\n",
       "    <tr>\n",
       "      <th>5123</th>\n",
       "      <td>i feel about talbots i dont care for their clo...</td>\n",
       "      <td>love</td>\n",
       "    </tr>\n",
       "    <tr>\n",
       "      <th>5124</th>\n",
       "      <td>i do feel reassured that perhaps the danger to...</td>\n",
       "      <td>joy</td>\n",
       "    </tr>\n",
       "  </tbody>\n",
       "</table>\n",
       "<p>5125 rows × 2 columns</p>\n",
       "</div>\n",
       "      <button class=\"colab-df-convert\" onclick=\"convertToInteractive('df-b8397de0-12db-401b-9ff1-94d238f2752d')\"\n",
       "              title=\"Convert this dataframe to an interactive table.\"\n",
       "              style=\"display:none;\">\n",
       "        \n",
       "  <svg xmlns=\"http://www.w3.org/2000/svg\" height=\"24px\"viewBox=\"0 0 24 24\"\n",
       "       width=\"24px\">\n",
       "    <path d=\"M0 0h24v24H0V0z\" fill=\"none\"/>\n",
       "    <path d=\"M18.56 5.44l.94 2.06.94-2.06 2.06-.94-2.06-.94-.94-2.06-.94 2.06-2.06.94zm-11 1L8.5 8.5l.94-2.06 2.06-.94-2.06-.94L8.5 2.5l-.94 2.06-2.06.94zm10 10l.94 2.06.94-2.06 2.06-.94-2.06-.94-.94-2.06-.94 2.06-2.06.94z\"/><path d=\"M17.41 7.96l-1.37-1.37c-.4-.4-.92-.59-1.43-.59-.52 0-1.04.2-1.43.59L10.3 9.45l-7.72 7.72c-.78.78-.78 2.05 0 2.83L4 21.41c.39.39.9.59 1.41.59.51 0 1.02-.2 1.41-.59l7.78-7.78 2.81-2.81c.8-.78.8-2.07 0-2.86zM5.41 20L4 18.59l7.72-7.72 1.47 1.35L5.41 20z\"/>\n",
       "  </svg>\n",
       "      </button>\n",
       "      \n",
       "  <style>\n",
       "    .colab-df-container {\n",
       "      display:flex;\n",
       "      flex-wrap:wrap;\n",
       "      gap: 12px;\n",
       "    }\n",
       "\n",
       "    .colab-df-convert {\n",
       "      background-color: #E8F0FE;\n",
       "      border: none;\n",
       "      border-radius: 50%;\n",
       "      cursor: pointer;\n",
       "      display: none;\n",
       "      fill: #1967D2;\n",
       "      height: 32px;\n",
       "      padding: 0 0 0 0;\n",
       "      width: 32px;\n",
       "    }\n",
       "\n",
       "    .colab-df-convert:hover {\n",
       "      background-color: #E2EBFA;\n",
       "      box-shadow: 0px 1px 2px rgba(60, 64, 67, 0.3), 0px 1px 3px 1px rgba(60, 64, 67, 0.15);\n",
       "      fill: #174EA6;\n",
       "    }\n",
       "\n",
       "    [theme=dark] .colab-df-convert {\n",
       "      background-color: #3B4455;\n",
       "      fill: #D2E3FC;\n",
       "    }\n",
       "\n",
       "    [theme=dark] .colab-df-convert:hover {\n",
       "      background-color: #434B5C;\n",
       "      box-shadow: 0px 1px 3px 1px rgba(0, 0, 0, 0.15);\n",
       "      filter: drop-shadow(0px 1px 2px rgba(0, 0, 0, 0.3));\n",
       "      fill: #FFFFFF;\n",
       "    }\n",
       "  </style>\n",
       "\n",
       "      <script>\n",
       "        const buttonEl =\n",
       "          document.querySelector('#df-b8397de0-12db-401b-9ff1-94d238f2752d button.colab-df-convert');\n",
       "        buttonEl.style.display =\n",
       "          google.colab.kernel.accessAllowed ? 'block' : 'none';\n",
       "\n",
       "        async function convertToInteractive(key) {\n",
       "          const element = document.querySelector('#df-b8397de0-12db-401b-9ff1-94d238f2752d');\n",
       "          const dataTable =\n",
       "            await google.colab.kernel.invokeFunction('convertToInteractive',\n",
       "                                                     [key], {});\n",
       "          if (!dataTable) return;\n",
       "\n",
       "          const docLinkHtml = 'Like what you see? Visit the ' +\n",
       "            '<a target=\"_blank\" href=https://colab.research.google.com/notebooks/data_table.ipynb>data table notebook</a>'\n",
       "            + ' to learn more about interactive tables.';\n",
       "          element.innerHTML = '';\n",
       "          dataTable['output_type'] = 'display_data';\n",
       "          await google.colab.output.renderOutput(dataTable, element);\n",
       "          const docLink = document.createElement('div');\n",
       "          docLink.innerHTML = docLinkHtml;\n",
       "          element.appendChild(docLink);\n",
       "        }\n",
       "      </script>\n",
       "    </div>\n",
       "  </div>\n",
       "  "
      ],
      "text/plain": [
       "                                                   text emotions\n",
       "0     i can feel that tomorrow i will remember this ...      joy\n",
       "1     i can feel is grief for the innocent lives bli...      joy\n",
       "2     i deprive all those who might have even an ink...     love\n",
       "3     i remember reading it feeling terrified at the...     fear\n",
       "4     i guess its her way of feeling like shes popul...      joy\n",
       "...                                                 ...      ...\n",
       "5120         i went away feeling tremendously reassured      joy\n",
       "5121  i feel completely listless about the holidays ...  sadness\n",
       "5122  i feel more self assured and confident in my a...      joy\n",
       "5123  i feel about talbots i dont care for their clo...     love\n",
       "5124  i do feel reassured that perhaps the danger to...      joy\n",
       "\n",
       "[5125 rows x 2 columns]"
      ]
     },
     "execution_count": 5,
     "metadata": {},
     "output_type": "execute_result"
    }
   ],
   "source": [
    "val_df"
   ]
  },
  {
   "cell_type": "code",
   "execution_count": 6,
   "metadata": {
    "colab": {
     "base_uri": "https://localhost:8080/",
     "height": 424
    },
    "executionInfo": {
     "elapsed": 22,
     "status": "ok",
     "timestamp": 1681013900230,
     "user": {
      "displayName": "Christian Montecillo",
      "userId": "02267957112746133644"
     },
     "user_tz": 360
    },
    "id": "-fIcWgjQly2u",
    "outputId": "34486441-3b51-4570-d219-aa846c4ef4dd"
   },
   "outputs": [
    {
     "data": {
      "text/html": [
       "\n",
       "  <div id=\"df-88c2d03b-27ea-48fc-bd89-78f44a18177b\">\n",
       "    <div class=\"colab-df-container\">\n",
       "      <div>\n",
       "<style scoped>\n",
       "    .dataframe tbody tr th:only-of-type {\n",
       "        vertical-align: middle;\n",
       "    }\n",
       "\n",
       "    .dataframe tbody tr th {\n",
       "        vertical-align: top;\n",
       "    }\n",
       "\n",
       "    .dataframe thead th {\n",
       "        text-align: right;\n",
       "    }\n",
       "</style>\n",
       "<table border=\"1\" class=\"dataframe\">\n",
       "  <thead>\n",
       "    <tr style=\"text-align: right;\">\n",
       "      <th></th>\n",
       "      <th>text</th>\n",
       "      <th>emotions</th>\n",
       "    </tr>\n",
       "  </thead>\n",
       "  <tbody>\n",
       "    <tr>\n",
       "      <th>0</th>\n",
       "      <td>i feel impatient to get moving forward</td>\n",
       "      <td>anger</td>\n",
       "    </tr>\n",
       "    <tr>\n",
       "      <th>1</th>\n",
       "      <td>i have decided to open wb to a few thoughtful ...</td>\n",
       "      <td>joy</td>\n",
       "    </tr>\n",
       "    <tr>\n",
       "      <th>2</th>\n",
       "      <td>i resolved at that moment to do my bit when i ...</td>\n",
       "      <td>sadness</td>\n",
       "    </tr>\n",
       "    <tr>\n",
       "      <th>3</th>\n",
       "      <td>i like his tip especially if you need assistan...</td>\n",
       "      <td>joy</td>\n",
       "    </tr>\n",
       "    <tr>\n",
       "      <th>4</th>\n",
       "      <td>i feel that if he did not want to be on the sh...</td>\n",
       "      <td>joy</td>\n",
       "    </tr>\n",
       "    <tr>\n",
       "      <th>...</th>\n",
       "      <td>...</td>\n",
       "      <td>...</td>\n",
       "    </tr>\n",
       "    <tr>\n",
       "      <th>37956</th>\n",
       "      <td>i am serving alongside other leaders in the de...</td>\n",
       "      <td>fear</td>\n",
       "    </tr>\n",
       "    <tr>\n",
       "      <th>37957</th>\n",
       "      <td>i am a little tipsy and feeling quite fond of ...</td>\n",
       "      <td>love</td>\n",
       "    </tr>\n",
       "    <tr>\n",
       "      <th>37958</th>\n",
       "      <td>i made my way to the front of the stage feelin...</td>\n",
       "      <td>fear</td>\n",
       "    </tr>\n",
       "    <tr>\n",
       "      <th>37959</th>\n",
       "      <td>i feel like nicholas is a really smart guy and...</td>\n",
       "      <td>joy</td>\n",
       "    </tr>\n",
       "    <tr>\n",
       "      <th>37960</th>\n",
       "      <td>i have been praying spiritually disciplining m...</td>\n",
       "      <td>joy</td>\n",
       "    </tr>\n",
       "  </tbody>\n",
       "</table>\n",
       "<p>37961 rows × 2 columns</p>\n",
       "</div>\n",
       "      <button class=\"colab-df-convert\" onclick=\"convertToInteractive('df-88c2d03b-27ea-48fc-bd89-78f44a18177b')\"\n",
       "              title=\"Convert this dataframe to an interactive table.\"\n",
       "              style=\"display:none;\">\n",
       "        \n",
       "  <svg xmlns=\"http://www.w3.org/2000/svg\" height=\"24px\"viewBox=\"0 0 24 24\"\n",
       "       width=\"24px\">\n",
       "    <path d=\"M0 0h24v24H0V0z\" fill=\"none\"/>\n",
       "    <path d=\"M18.56 5.44l.94 2.06.94-2.06 2.06-.94-2.06-.94-.94-2.06-.94 2.06-2.06.94zm-11 1L8.5 8.5l.94-2.06 2.06-.94-2.06-.94L8.5 2.5l-.94 2.06-2.06.94zm10 10l.94 2.06.94-2.06 2.06-.94-2.06-.94-.94-2.06-.94 2.06-2.06.94z\"/><path d=\"M17.41 7.96l-1.37-1.37c-.4-.4-.92-.59-1.43-.59-.52 0-1.04.2-1.43.59L10.3 9.45l-7.72 7.72c-.78.78-.78 2.05 0 2.83L4 21.41c.39.39.9.59 1.41.59.51 0 1.02-.2 1.41-.59l7.78-7.78 2.81-2.81c.8-.78.8-2.07 0-2.86zM5.41 20L4 18.59l7.72-7.72 1.47 1.35L5.41 20z\"/>\n",
       "  </svg>\n",
       "      </button>\n",
       "      \n",
       "  <style>\n",
       "    .colab-df-container {\n",
       "      display:flex;\n",
       "      flex-wrap:wrap;\n",
       "      gap: 12px;\n",
       "    }\n",
       "\n",
       "    .colab-df-convert {\n",
       "      background-color: #E8F0FE;\n",
       "      border: none;\n",
       "      border-radius: 50%;\n",
       "      cursor: pointer;\n",
       "      display: none;\n",
       "      fill: #1967D2;\n",
       "      height: 32px;\n",
       "      padding: 0 0 0 0;\n",
       "      width: 32px;\n",
       "    }\n",
       "\n",
       "    .colab-df-convert:hover {\n",
       "      background-color: #E2EBFA;\n",
       "      box-shadow: 0px 1px 2px rgba(60, 64, 67, 0.3), 0px 1px 3px 1px rgba(60, 64, 67, 0.15);\n",
       "      fill: #174EA6;\n",
       "    }\n",
       "\n",
       "    [theme=dark] .colab-df-convert {\n",
       "      background-color: #3B4455;\n",
       "      fill: #D2E3FC;\n",
       "    }\n",
       "\n",
       "    [theme=dark] .colab-df-convert:hover {\n",
       "      background-color: #434B5C;\n",
       "      box-shadow: 0px 1px 3px 1px rgba(0, 0, 0, 0.15);\n",
       "      filter: drop-shadow(0px 1px 2px rgba(0, 0, 0, 0.3));\n",
       "      fill: #FFFFFF;\n",
       "    }\n",
       "  </style>\n",
       "\n",
       "      <script>\n",
       "        const buttonEl =\n",
       "          document.querySelector('#df-88c2d03b-27ea-48fc-bd89-78f44a18177b button.colab-df-convert');\n",
       "        buttonEl.style.display =\n",
       "          google.colab.kernel.accessAllowed ? 'block' : 'none';\n",
       "\n",
       "        async function convertToInteractive(key) {\n",
       "          const element = document.querySelector('#df-88c2d03b-27ea-48fc-bd89-78f44a18177b');\n",
       "          const dataTable =\n",
       "            await google.colab.kernel.invokeFunction('convertToInteractive',\n",
       "                                                     [key], {});\n",
       "          if (!dataTable) return;\n",
       "\n",
       "          const docLinkHtml = 'Like what you see? Visit the ' +\n",
       "            '<a target=\"_blank\" href=https://colab.research.google.com/notebooks/data_table.ipynb>data table notebook</a>'\n",
       "            + ' to learn more about interactive tables.';\n",
       "          element.innerHTML = '';\n",
       "          dataTable['output_type'] = 'display_data';\n",
       "          await google.colab.output.renderOutput(dataTable, element);\n",
       "          const docLink = document.createElement('div');\n",
       "          docLink.innerHTML = docLinkHtml;\n",
       "          element.appendChild(docLink);\n",
       "        }\n",
       "      </script>\n",
       "    </div>\n",
       "  </div>\n",
       "  "
      ],
      "text/plain": [
       "                                                    text emotions\n",
       "0                 i feel impatient to get moving forward    anger\n",
       "1      i have decided to open wb to a few thoughtful ...      joy\n",
       "2      i resolved at that moment to do my bit when i ...  sadness\n",
       "3      i like his tip especially if you need assistan...      joy\n",
       "4      i feel that if he did not want to be on the sh...      joy\n",
       "...                                                  ...      ...\n",
       "37956  i am serving alongside other leaders in the de...     fear\n",
       "37957  i am a little tipsy and feeling quite fond of ...     love\n",
       "37958  i made my way to the front of the stage feelin...     fear\n",
       "37959  i feel like nicholas is a really smart guy and...      joy\n",
       "37960  i have been praying spiritually disciplining m...      joy\n",
       "\n",
       "[37961 rows x 2 columns]"
      ]
     },
     "execution_count": 6,
     "metadata": {},
     "output_type": "execute_result"
    }
   ],
   "source": [
    "test_df"
   ]
  },
  {
   "cell_type": "code",
   "execution_count": 7,
   "metadata": {
    "colab": {
     "base_uri": "https://localhost:8080/",
     "height": 424
    },
    "executionInfo": {
     "elapsed": 21,
     "status": "ok",
     "timestamp": 1681013900231,
     "user": {
      "displayName": "Christian Montecillo",
      "userId": "02267957112746133644"
     },
     "user_tz": 360
    },
    "id": "TiJHw1f3cDIn",
    "outputId": "f26fecf3-f129-4a09-8545-24e8c850cb59"
   },
   "outputs": [
    {
     "data": {
      "text/html": [
       "\n",
       "  <div id=\"df-8762dca4-66ac-4aeb-941f-495311048d8b\">\n",
       "    <div class=\"colab-df-container\">\n",
       "      <div>\n",
       "<style scoped>\n",
       "    .dataframe tbody tr th:only-of-type {\n",
       "        vertical-align: middle;\n",
       "    }\n",
       "\n",
       "    .dataframe tbody tr th {\n",
       "        vertical-align: top;\n",
       "    }\n",
       "\n",
       "    .dataframe thead th {\n",
       "        text-align: right;\n",
       "    }\n",
       "</style>\n",
       "<table border=\"1\" class=\"dataframe\">\n",
       "  <thead>\n",
       "    <tr style=\"text-align: right;\">\n",
       "      <th></th>\n",
       "      <th>text</th>\n",
       "      <th>emotions</th>\n",
       "    </tr>\n",
       "  </thead>\n",
       "  <tbody>\n",
       "    <tr>\n",
       "      <th>0</th>\n",
       "      <td>i will get at the heart of the matter that you...</td>\n",
       "      <td>anger</td>\n",
       "    </tr>\n",
       "    <tr>\n",
       "      <th>1</th>\n",
       "      <td>i still feel selfish about it at times</td>\n",
       "      <td>anger</td>\n",
       "    </tr>\n",
       "    <tr>\n",
       "      <th>2</th>\n",
       "      <td>i feel a sarcastic emptyness and void in my life</td>\n",
       "      <td>anger</td>\n",
       "    </tr>\n",
       "    <tr>\n",
       "      <th>3</th>\n",
       "      <td>overeating a traditional type of food blood pu...</td>\n",
       "      <td>anger</td>\n",
       "    </tr>\n",
       "    <tr>\n",
       "      <th>4</th>\n",
       "      <td>i just have this feeling that im going to be b...</td>\n",
       "      <td>anger</td>\n",
       "    </tr>\n",
       "    <tr>\n",
       "      <th>...</th>\n",
       "      <td>...</td>\n",
       "      <td>...</td>\n",
       "    </tr>\n",
       "    <tr>\n",
       "      <th>6015</th>\n",
       "      <td>i am giving myself permission to feel funny aga</td>\n",
       "      <td>surprise</td>\n",
       "    </tr>\n",
       "    <tr>\n",
       "      <th>6016</th>\n",
       "      <td>i feel shocked angry confused</td>\n",
       "      <td>surprise</td>\n",
       "    </tr>\n",
       "    <tr>\n",
       "      <th>6017</th>\n",
       "      <td>im writing this blog post and feeling totally ...</td>\n",
       "      <td>surprise</td>\n",
       "    </tr>\n",
       "    <tr>\n",
       "      <th>6018</th>\n",
       "      <td>i feel this for all my grandchildren and with ...</td>\n",
       "      <td>surprise</td>\n",
       "    </tr>\n",
       "    <tr>\n",
       "      <th>6019</th>\n",
       "      <td>i think that s the prevailing feeling with all...</td>\n",
       "      <td>surprise</td>\n",
       "    </tr>\n",
       "  </tbody>\n",
       "</table>\n",
       "<p>6020 rows × 2 columns</p>\n",
       "</div>\n",
       "      <button class=\"colab-df-convert\" onclick=\"convertToInteractive('df-8762dca4-66ac-4aeb-941f-495311048d8b')\"\n",
       "              title=\"Convert this dataframe to an interactive table.\"\n",
       "              style=\"display:none;\">\n",
       "        \n",
       "  <svg xmlns=\"http://www.w3.org/2000/svg\" height=\"24px\"viewBox=\"0 0 24 24\"\n",
       "       width=\"24px\">\n",
       "    <path d=\"M0 0h24v24H0V0z\" fill=\"none\"/>\n",
       "    <path d=\"M18.56 5.44l.94 2.06.94-2.06 2.06-.94-2.06-.94-.94-2.06-.94 2.06-2.06.94zm-11 1L8.5 8.5l.94-2.06 2.06-.94-2.06-.94L8.5 2.5l-.94 2.06-2.06.94zm10 10l.94 2.06.94-2.06 2.06-.94-2.06-.94-.94-2.06-.94 2.06-2.06.94z\"/><path d=\"M17.41 7.96l-1.37-1.37c-.4-.4-.92-.59-1.43-.59-.52 0-1.04.2-1.43.59L10.3 9.45l-7.72 7.72c-.78.78-.78 2.05 0 2.83L4 21.41c.39.39.9.59 1.41.59.51 0 1.02-.2 1.41-.59l7.78-7.78 2.81-2.81c.8-.78.8-2.07 0-2.86zM5.41 20L4 18.59l7.72-7.72 1.47 1.35L5.41 20z\"/>\n",
       "  </svg>\n",
       "      </button>\n",
       "      \n",
       "  <style>\n",
       "    .colab-df-container {\n",
       "      display:flex;\n",
       "      flex-wrap:wrap;\n",
       "      gap: 12px;\n",
       "    }\n",
       "\n",
       "    .colab-df-convert {\n",
       "      background-color: #E8F0FE;\n",
       "      border: none;\n",
       "      border-radius: 50%;\n",
       "      cursor: pointer;\n",
       "      display: none;\n",
       "      fill: #1967D2;\n",
       "      height: 32px;\n",
       "      padding: 0 0 0 0;\n",
       "      width: 32px;\n",
       "    }\n",
       "\n",
       "    .colab-df-convert:hover {\n",
       "      background-color: #E2EBFA;\n",
       "      box-shadow: 0px 1px 2px rgba(60, 64, 67, 0.3), 0px 1px 3px 1px rgba(60, 64, 67, 0.15);\n",
       "      fill: #174EA6;\n",
       "    }\n",
       "\n",
       "    [theme=dark] .colab-df-convert {\n",
       "      background-color: #3B4455;\n",
       "      fill: #D2E3FC;\n",
       "    }\n",
       "\n",
       "    [theme=dark] .colab-df-convert:hover {\n",
       "      background-color: #434B5C;\n",
       "      box-shadow: 0px 1px 3px 1px rgba(0, 0, 0, 0.15);\n",
       "      filter: drop-shadow(0px 1px 2px rgba(0, 0, 0, 0.3));\n",
       "      fill: #FFFFFF;\n",
       "    }\n",
       "  </style>\n",
       "\n",
       "      <script>\n",
       "        const buttonEl =\n",
       "          document.querySelector('#df-8762dca4-66ac-4aeb-941f-495311048d8b button.colab-df-convert');\n",
       "        buttonEl.style.display =\n",
       "          google.colab.kernel.accessAllowed ? 'block' : 'none';\n",
       "\n",
       "        async function convertToInteractive(key) {\n",
       "          const element = document.querySelector('#df-8762dca4-66ac-4aeb-941f-495311048d8b');\n",
       "          const dataTable =\n",
       "            await google.colab.kernel.invokeFunction('convertToInteractive',\n",
       "                                                     [key], {});\n",
       "          if (!dataTable) return;\n",
       "\n",
       "          const docLinkHtml = 'Like what you see? Visit the ' +\n",
       "            '<a target=\"_blank\" href=https://colab.research.google.com/notebooks/data_table.ipynb>data table notebook</a>'\n",
       "            + ' to learn more about interactive tables.';\n",
       "          element.innerHTML = '';\n",
       "          dataTable['output_type'] = 'display_data';\n",
       "          await google.colab.output.renderOutput(dataTable, element);\n",
       "          const docLink = document.createElement('div');\n",
       "          docLink.innerHTML = docLinkHtml;\n",
       "          element.appendChild(docLink);\n",
       "        }\n",
       "      </script>\n",
       "    </div>\n",
       "  </div>\n",
       "  "
      ],
      "text/plain": [
       "                                                   text  emotions\n",
       "0     i will get at the heart of the matter that you...     anger\n",
       "1                i still feel selfish about it at times     anger\n",
       "2      i feel a sarcastic emptyness and void in my life     anger\n",
       "3     overeating a traditional type of food blood pu...     anger\n",
       "4     i just have this feeling that im going to be b...     anger\n",
       "...                                                 ...       ...\n",
       "6015    i am giving myself permission to feel funny aga  surprise\n",
       "6016                      i feel shocked angry confused  surprise\n",
       "6017  im writing this blog post and feeling totally ...  surprise\n",
       "6018  i feel this for all my grandchildren and with ...  surprise\n",
       "6019  i think that s the prevailing feeling with all...  surprise\n",
       "\n",
       "[6020 rows x 2 columns]"
      ]
     },
     "execution_count": 7,
     "metadata": {},
     "output_type": "execute_result"
    }
   ],
   "source": [
    "balanced_test_df"
   ]
  },
  {
   "cell_type": "markdown",
   "metadata": {
    "id": "6IFXAvHAcWhN"
   },
   "source": [
    "***\n",
    "## 2 Tokenizer"
   ]
  },
  {
   "cell_type": "markdown",
   "metadata": {
    "id": "s4tMqwk8mRsF"
   },
   "source": [
    "### Find the top word count (frequency > 10)\n",
    "We'll use this number as our vocabulary size"
   ]
  },
  {
   "cell_type": "code",
   "execution_count": 8,
   "metadata": {
    "colab": {
     "base_uri": "https://localhost:8080/",
     "height": 424
    },
    "executionInfo": {
     "elapsed": 19,
     "status": "ok",
     "timestamp": 1681013900231,
     "user": {
      "displayName": "Christian Montecillo",
      "userId": "02267957112746133644"
     },
     "user_tz": 360
    },
    "id": "WboHk47gn6Mm",
    "outputId": "a651c6f2-7752-4058-aa8d-83becb94e721"
   },
   "outputs": [
    {
     "data": {
      "text/html": [
       "\n",
       "  <div id=\"df-b310c8cc-41e2-44a9-9e7f-8d9d678c58c8\">\n",
       "    <div class=\"colab-df-container\">\n",
       "      <div>\n",
       "<style scoped>\n",
       "    .dataframe tbody tr th:only-of-type {\n",
       "        vertical-align: middle;\n",
       "    }\n",
       "\n",
       "    .dataframe tbody tr th {\n",
       "        vertical-align: top;\n",
       "    }\n",
       "\n",
       "    .dataframe thead th {\n",
       "        text-align: right;\n",
       "    }\n",
       "</style>\n",
       "<table border=\"1\" class=\"dataframe\">\n",
       "  <thead>\n",
       "    <tr style=\"text-align: right;\">\n",
       "      <th></th>\n",
       "      <th>words</th>\n",
       "      <th>count</th>\n",
       "    </tr>\n",
       "  </thead>\n",
       "  <tbody>\n",
       "    <tr>\n",
       "      <th>0</th>\n",
       "      <td>!</td>\n",
       "      <td>2</td>\n",
       "    </tr>\n",
       "    <tr>\n",
       "      <th>1</th>\n",
       "      <td>!!</td>\n",
       "      <td>1</td>\n",
       "    </tr>\n",
       "    <tr>\n",
       "      <th>2</th>\n",
       "      <td>!!my</td>\n",
       "      <td>1</td>\n",
       "    </tr>\n",
       "    <tr>\n",
       "      <th>3</th>\n",
       "      <td>#cycling</td>\n",
       "      <td>1</td>\n",
       "    </tr>\n",
       "    <tr>\n",
       "      <th>4</th>\n",
       "      <td>#fb</td>\n",
       "      <td>2</td>\n",
       "    </tr>\n",
       "    <tr>\n",
       "      <th>...</th>\n",
       "      <td>...</td>\n",
       "      <td>...</td>\n",
       "    </tr>\n",
       "    <tr>\n",
       "      <th>17247</th>\n",
       "      <td>zyl</td>\n",
       "      <td>1</td>\n",
       "    </tr>\n",
       "    <tr>\n",
       "      <th>17248</th>\n",
       "      <td>|</td>\n",
       "      <td>1</td>\n",
       "    </tr>\n",
       "    <tr>\n",
       "      <th>17249</th>\n",
       "      <td>~</td>\n",
       "      <td>1</td>\n",
       "    </tr>\n",
       "    <tr>\n",
       "      <th>17250</th>\n",
       "      <td>ï¿½WHYYY????????</td>\n",
       "      <td>1</td>\n",
       "    </tr>\n",
       "    <tr>\n",
       "      <th>17251</th>\n",
       "      <td>ï¿½why?</td>\n",
       "      <td>1</td>\n",
       "    </tr>\n",
       "  </tbody>\n",
       "</table>\n",
       "<p>17252 rows × 2 columns</p>\n",
       "</div>\n",
       "      <button class=\"colab-df-convert\" onclick=\"convertToInteractive('df-b310c8cc-41e2-44a9-9e7f-8d9d678c58c8')\"\n",
       "              title=\"Convert this dataframe to an interactive table.\"\n",
       "              style=\"display:none;\">\n",
       "        \n",
       "  <svg xmlns=\"http://www.w3.org/2000/svg\" height=\"24px\"viewBox=\"0 0 24 24\"\n",
       "       width=\"24px\">\n",
       "    <path d=\"M0 0h24v24H0V0z\" fill=\"none\"/>\n",
       "    <path d=\"M18.56 5.44l.94 2.06.94-2.06 2.06-.94-2.06-.94-.94-2.06-.94 2.06-2.06.94zm-11 1L8.5 8.5l.94-2.06 2.06-.94-2.06-.94L8.5 2.5l-.94 2.06-2.06.94zm10 10l.94 2.06.94-2.06 2.06-.94-2.06-.94-.94-2.06-.94 2.06-2.06.94z\"/><path d=\"M17.41 7.96l-1.37-1.37c-.4-.4-.92-.59-1.43-.59-.52 0-1.04.2-1.43.59L10.3 9.45l-7.72 7.72c-.78.78-.78 2.05 0 2.83L4 21.41c.39.39.9.59 1.41.59.51 0 1.02-.2 1.41-.59l7.78-7.78 2.81-2.81c.8-.78.8-2.07 0-2.86zM5.41 20L4 18.59l7.72-7.72 1.47 1.35L5.41 20z\"/>\n",
       "  </svg>\n",
       "      </button>\n",
       "      \n",
       "  <style>\n",
       "    .colab-df-container {\n",
       "      display:flex;\n",
       "      flex-wrap:wrap;\n",
       "      gap: 12px;\n",
       "    }\n",
       "\n",
       "    .colab-df-convert {\n",
       "      background-color: #E8F0FE;\n",
       "      border: none;\n",
       "      border-radius: 50%;\n",
       "      cursor: pointer;\n",
       "      display: none;\n",
       "      fill: #1967D2;\n",
       "      height: 32px;\n",
       "      padding: 0 0 0 0;\n",
       "      width: 32px;\n",
       "    }\n",
       "\n",
       "    .colab-df-convert:hover {\n",
       "      background-color: #E2EBFA;\n",
       "      box-shadow: 0px 1px 2px rgba(60, 64, 67, 0.3), 0px 1px 3px 1px rgba(60, 64, 67, 0.15);\n",
       "      fill: #174EA6;\n",
       "    }\n",
       "\n",
       "    [theme=dark] .colab-df-convert {\n",
       "      background-color: #3B4455;\n",
       "      fill: #D2E3FC;\n",
       "    }\n",
       "\n",
       "    [theme=dark] .colab-df-convert:hover {\n",
       "      background-color: #434B5C;\n",
       "      box-shadow: 0px 1px 3px 1px rgba(0, 0, 0, 0.15);\n",
       "      filter: drop-shadow(0px 1px 2px rgba(0, 0, 0, 0.3));\n",
       "      fill: #FFFFFF;\n",
       "    }\n",
       "  </style>\n",
       "\n",
       "      <script>\n",
       "        const buttonEl =\n",
       "          document.querySelector('#df-b310c8cc-41e2-44a9-9e7f-8d9d678c58c8 button.colab-df-convert');\n",
       "        buttonEl.style.display =\n",
       "          google.colab.kernel.accessAllowed ? 'block' : 'none';\n",
       "\n",
       "        async function convertToInteractive(key) {\n",
       "          const element = document.querySelector('#df-b310c8cc-41e2-44a9-9e7f-8d9d678c58c8');\n",
       "          const dataTable =\n",
       "            await google.colab.kernel.invokeFunction('convertToInteractive',\n",
       "                                                     [key], {});\n",
       "          if (!dataTable) return;\n",
       "\n",
       "          const docLinkHtml = 'Like what you see? Visit the ' +\n",
       "            '<a target=\"_blank\" href=https://colab.research.google.com/notebooks/data_table.ipynb>data table notebook</a>'\n",
       "            + ' to learn more about interactive tables.';\n",
       "          element.innerHTML = '';\n",
       "          dataTable['output_type'] = 'display_data';\n",
       "          await google.colab.output.renderOutput(dataTable, element);\n",
       "          const docLink = document.createElement('div');\n",
       "          docLink.innerHTML = docLinkHtml;\n",
       "          element.appendChild(docLink);\n",
       "        }\n",
       "      </script>\n",
       "    </div>\n",
       "  </div>\n",
       "  "
      ],
      "text/plain": [
       "                  words  count\n",
       "0                     !      2\n",
       "1                    !!      1\n",
       "2                  !!my      1\n",
       "3              #cycling      1\n",
       "4                   #fb      2\n",
       "...                 ...    ...\n",
       "17247               zyl      1\n",
       "17248                 |      1\n",
       "17249                 ~      1\n",
       "17250  ï¿½WHYYY????????      1\n",
       "17251           ï¿½why?      1\n",
       "\n",
       "[17252 rows x 2 columns]"
      ]
     },
     "execution_count": 8,
     "metadata": {},
     "output_type": "execute_result"
    }
   ],
   "source": [
    "# Split the text column into a list of words\n",
    "words_df = train_df['text'].str.split().to_frame('words')\n",
    "\n",
    "# Explode the list of words into separate rows\n",
    "words_df = words_df.explode('words')\n",
    "\n",
    "# Group by the words and count their occurrences\n",
    "words_df = words_df.groupby('words').size().reset_index(name='count')\n",
    "words_df"
   ]
  },
  {
   "cell_type": "code",
   "execution_count": 9,
   "metadata": {
    "colab": {
     "base_uri": "https://localhost:8080/",
     "height": 424
    },
    "executionInfo": {
     "elapsed": 223,
     "status": "ok",
     "timestamp": 1681013900436,
     "user": {
      "displayName": "Christian Montecillo",
      "userId": "02267957112746133644"
     },
     "user_tz": 360
    },
    "id": "rjvGdb_erVyw",
    "outputId": "cca17736-f737-42bb-e699-5ca0c51ef713"
   },
   "outputs": [
    {
     "data": {
      "text/html": [
       "\n",
       "  <div id=\"df-d8f743ae-ddbd-40ff-a52b-6c83425648cc\">\n",
       "    <div class=\"colab-df-container\">\n",
       "      <div>\n",
       "<style scoped>\n",
       "    .dataframe tbody tr th:only-of-type {\n",
       "        vertical-align: middle;\n",
       "    }\n",
       "\n",
       "    .dataframe tbody tr th {\n",
       "        vertical-align: top;\n",
       "    }\n",
       "\n",
       "    .dataframe thead th {\n",
       "        text-align: right;\n",
       "    }\n",
       "</style>\n",
       "<table border=\"1\" class=\"dataframe\">\n",
       "  <thead>\n",
       "    <tr style=\"text-align: right;\">\n",
       "      <th></th>\n",
       "      <th>words</th>\n",
       "      <th>count</th>\n",
       "    </tr>\n",
       "  </thead>\n",
       "  <tbody>\n",
       "    <tr>\n",
       "      <th>7761</th>\n",
       "      <td>i</td>\n",
       "      <td>26872</td>\n",
       "    </tr>\n",
       "    <tr>\n",
       "      <th>6013</th>\n",
       "      <td>feel</td>\n",
       "      <td>11453</td>\n",
       "    </tr>\n",
       "    <tr>\n",
       "      <th>1256</th>\n",
       "      <td>and</td>\n",
       "      <td>9986</td>\n",
       "    </tr>\n",
       "    <tr>\n",
       "      <th>15479</th>\n",
       "      <td>to</td>\n",
       "      <td>9426</td>\n",
       "    </tr>\n",
       "    <tr>\n",
       "      <th>15264</th>\n",
       "      <td>the</td>\n",
       "      <td>8784</td>\n",
       "    </tr>\n",
       "    <tr>\n",
       "      <th>...</th>\n",
       "      <td>...</td>\n",
       "      <td>...</td>\n",
       "    </tr>\n",
       "    <tr>\n",
       "      <th>3323</th>\n",
       "      <td>clients</td>\n",
       "      <td>11</td>\n",
       "    </tr>\n",
       "    <tr>\n",
       "      <th>13123</th>\n",
       "      <td>rush</td>\n",
       "      <td>11</td>\n",
       "    </tr>\n",
       "    <tr>\n",
       "      <th>8149</th>\n",
       "      <td>instantly</td>\n",
       "      <td>11</td>\n",
       "    </tr>\n",
       "    <tr>\n",
       "      <th>8093</th>\n",
       "      <td>inner</td>\n",
       "      <td>11</td>\n",
       "    </tr>\n",
       "    <tr>\n",
       "      <th>11042</th>\n",
       "      <td>pains</td>\n",
       "      <td>11</td>\n",
       "    </tr>\n",
       "  </tbody>\n",
       "</table>\n",
       "<p>2056 rows × 2 columns</p>\n",
       "</div>\n",
       "      <button class=\"colab-df-convert\" onclick=\"convertToInteractive('df-d8f743ae-ddbd-40ff-a52b-6c83425648cc')\"\n",
       "              title=\"Convert this dataframe to an interactive table.\"\n",
       "              style=\"display:none;\">\n",
       "        \n",
       "  <svg xmlns=\"http://www.w3.org/2000/svg\" height=\"24px\"viewBox=\"0 0 24 24\"\n",
       "       width=\"24px\">\n",
       "    <path d=\"M0 0h24v24H0V0z\" fill=\"none\"/>\n",
       "    <path d=\"M18.56 5.44l.94 2.06.94-2.06 2.06-.94-2.06-.94-.94-2.06-.94 2.06-2.06.94zm-11 1L8.5 8.5l.94-2.06 2.06-.94-2.06-.94L8.5 2.5l-.94 2.06-2.06.94zm10 10l.94 2.06.94-2.06 2.06-.94-2.06-.94-.94-2.06-.94 2.06-2.06.94z\"/><path d=\"M17.41 7.96l-1.37-1.37c-.4-.4-.92-.59-1.43-.59-.52 0-1.04.2-1.43.59L10.3 9.45l-7.72 7.72c-.78.78-.78 2.05 0 2.83L4 21.41c.39.39.9.59 1.41.59.51 0 1.02-.2 1.41-.59l7.78-7.78 2.81-2.81c.8-.78.8-2.07 0-2.86zM5.41 20L4 18.59l7.72-7.72 1.47 1.35L5.41 20z\"/>\n",
       "  </svg>\n",
       "      </button>\n",
       "      \n",
       "  <style>\n",
       "    .colab-df-container {\n",
       "      display:flex;\n",
       "      flex-wrap:wrap;\n",
       "      gap: 12px;\n",
       "    }\n",
       "\n",
       "    .colab-df-convert {\n",
       "      background-color: #E8F0FE;\n",
       "      border: none;\n",
       "      border-radius: 50%;\n",
       "      cursor: pointer;\n",
       "      display: none;\n",
       "      fill: #1967D2;\n",
       "      height: 32px;\n",
       "      padding: 0 0 0 0;\n",
       "      width: 32px;\n",
       "    }\n",
       "\n",
       "    .colab-df-convert:hover {\n",
       "      background-color: #E2EBFA;\n",
       "      box-shadow: 0px 1px 2px rgba(60, 64, 67, 0.3), 0px 1px 3px 1px rgba(60, 64, 67, 0.15);\n",
       "      fill: #174EA6;\n",
       "    }\n",
       "\n",
       "    [theme=dark] .colab-df-convert {\n",
       "      background-color: #3B4455;\n",
       "      fill: #D2E3FC;\n",
       "    }\n",
       "\n",
       "    [theme=dark] .colab-df-convert:hover {\n",
       "      background-color: #434B5C;\n",
       "      box-shadow: 0px 1px 3px 1px rgba(0, 0, 0, 0.15);\n",
       "      filter: drop-shadow(0px 1px 2px rgba(0, 0, 0, 0.3));\n",
       "      fill: #FFFFFF;\n",
       "    }\n",
       "  </style>\n",
       "\n",
       "      <script>\n",
       "        const buttonEl =\n",
       "          document.querySelector('#df-d8f743ae-ddbd-40ff-a52b-6c83425648cc button.colab-df-convert');\n",
       "        buttonEl.style.display =\n",
       "          google.colab.kernel.accessAllowed ? 'block' : 'none';\n",
       "\n",
       "        async function convertToInteractive(key) {\n",
       "          const element = document.querySelector('#df-d8f743ae-ddbd-40ff-a52b-6c83425648cc');\n",
       "          const dataTable =\n",
       "            await google.colab.kernel.invokeFunction('convertToInteractive',\n",
       "                                                     [key], {});\n",
       "          if (!dataTable) return;\n",
       "\n",
       "          const docLinkHtml = 'Like what you see? Visit the ' +\n",
       "            '<a target=\"_blank\" href=https://colab.research.google.com/notebooks/data_table.ipynb>data table notebook</a>'\n",
       "            + ' to learn more about interactive tables.';\n",
       "          element.innerHTML = '';\n",
       "          dataTable['output_type'] = 'display_data';\n",
       "          await google.colab.output.renderOutput(dataTable, element);\n",
       "          const docLink = document.createElement('div');\n",
       "          docLink.innerHTML = docLinkHtml;\n",
       "          element.appendChild(docLink);\n",
       "        }\n",
       "      </script>\n",
       "    </div>\n",
       "  </div>\n",
       "  "
      ],
      "text/plain": [
       "           words  count\n",
       "7761           i  26872\n",
       "6013        feel  11453\n",
       "1256         and   9986\n",
       "15479         to   9426\n",
       "15264        the   8784\n",
       "...          ...    ...\n",
       "3323     clients     11\n",
       "13123       rush     11\n",
       "8149   instantly     11\n",
       "8093       inner     11\n",
       "11042      pains     11\n",
       "\n",
       "[2056 rows x 2 columns]"
      ]
     },
     "execution_count": 9,
     "metadata": {},
     "output_type": "execute_result"
    }
   ],
   "source": [
    "# find the words with 'count' > 10\n",
    "condition = words_df['count'] > 10\n",
    "\n",
    "# sort the words based on count\n",
    "new_words_df = words_df[condition].sort_values('count', ascending=False)\n",
    "new_words_df"
   ]
  },
  {
   "cell_type": "code",
   "execution_count": 10,
   "metadata": {
    "colab": {
     "base_uri": "https://localhost:8080/"
    },
    "executionInfo": {
     "elapsed": 6,
     "status": "ok",
     "timestamp": 1681013900437,
     "user": {
      "displayName": "Christian Montecillo",
      "userId": "02267957112746133644"
     },
     "user_tz": 360
    },
    "id": "RJehRAE2zWhl",
    "outputId": "78485ac0-cdbf-4088-c95d-063966ccf5a1"
   },
   "outputs": [
    {
     "name": "stdout",
     "output_type": "stream",
     "text": [
      "Vocabulary size: 2056\n"
     ]
    }
   ],
   "source": [
    "# how many words are > 10?\n",
    "top_word_count = len(new_words_df)\n",
    "print('Vocabulary size:', top_word_count)"
   ]
  },
  {
   "cell_type": "markdown",
   "metadata": {
    "id": "GSm2HlDyzZ8_"
   },
   "source": [
    "### Let's tokenize the train tweets!"
   ]
  },
  {
   "cell_type": "code",
   "execution_count": 11,
   "metadata": {
    "executionInfo": {
     "elapsed": 7355,
     "status": "ok",
     "timestamp": 1681013907789,
     "user": {
      "displayName": "Christian Montecillo",
      "userId": "02267957112746133644"
     },
     "user_tz": 360
    },
    "id": "gCxK46QPyoe1"
   },
   "outputs": [],
   "source": [
    "from tensorflow.keras.preprocessing.text import Tokenizer"
   ]
  },
  {
   "cell_type": "code",
   "execution_count": 12,
   "metadata": {
    "executionInfo": {
     "elapsed": 246,
     "status": "ok",
     "timestamp": 1681013908023,
     "user": {
      "displayName": "Christian Montecillo",
      "userId": "02267957112746133644"
     },
     "user_tz": 360
    },
    "id": "5bs47LbLwBl4"
   },
   "outputs": [],
   "source": [
    "tokenizer = Tokenizer(num_words=top_word_count, oov_token='<UNK>')\n",
    "tokenizer.fit_on_texts(train_df['text']) # pass in tweets from training set"
   ]
  },
  {
   "cell_type": "code",
   "execution_count": 13,
   "metadata": {
    "colab": {
     "base_uri": "https://localhost:8080/",
     "height": 36
    },
    "executionInfo": {
     "elapsed": 20,
     "status": "ok",
     "timestamp": 1681013908023,
     "user": {
      "displayName": "Christian Montecillo",
      "userId": "02267957112746133644"
     },
     "user_tz": 360
    },
    "id": "DPD0Tjjuy0Ko",
    "outputId": "33da8ab8-ed04-4003-fedd-642018f93380"
   },
   "outputs": [
    {
     "data": {
      "application/vnd.google.colaboratory.intrinsic+json": {
       "type": "string"
      },
      "text/plain": [
       "'i feel so repressed with this one now'"
      ]
     },
     "execution_count": 13,
     "metadata": {},
     "output_type": "execute_result"
    }
   ],
   "source": [
    "# this is what the tweet looks like as words\n",
    "train_df['text'][0]"
   ]
  },
  {
   "cell_type": "code",
   "execution_count": 14,
   "metadata": {
    "colab": {
     "base_uri": "https://localhost:8080/"
    },
    "executionInfo": {
     "elapsed": 13,
     "status": "ok",
     "timestamp": 1681013908023,
     "user": {
      "displayName": "Christian Montecillo",
      "userId": "02267957112746133644"
     },
     "user_tz": 360
    },
    "id": "yHPzHkTcye8y",
    "outputId": "4fb63718-040e-4c15-cd58-ec931689fc1d"
   },
   "outputs": [
    {
     "data": {
      "text/plain": [
       "[[2, 3, 18, 1479, 24, 25, 66, 57]]"
      ]
     },
     "execution_count": 14,
     "metadata": {},
     "output_type": "execute_result"
    }
   ],
   "source": [
    "# this is what the tokenized version of the tweet looks like\n",
    "tokenizer.texts_to_sequences([train_df['text'][0]])"
   ]
  },
  {
   "cell_type": "code",
   "execution_count": 15,
   "metadata": {
    "colab": {
     "base_uri": "https://localhost:8080/",
     "height": 933
    },
    "executionInfo": {
     "elapsed": 1366,
     "status": "ok",
     "timestamp": 1681013909385,
     "user": {
      "displayName": "Christian Montecillo",
      "userId": "02267957112746133644"
     },
     "user_tz": 360
    },
    "id": "NtdXLYGFjcPO",
    "outputId": "5a8f63f0-2f48-4717-f0c7-2e042add3e88"
   },
   "outputs": [
    {
     "data": {
      "text/plain": [
       "(array([2.000e+01, 5.200e+01, 3.150e+02, 5.290e+02, 5.850e+02, 6.630e+02,\n",
       "        6.860e+02, 6.890e+02, 6.670e+02, 6.710e+02, 7.120e+02, 1.311e+03,\n",
       "        6.880e+02, 6.780e+02, 6.480e+02, 6.260e+02, 6.030e+02, 5.450e+02,\n",
       "        5.290e+02, 4.620e+02, 4.560e+02, 4.320e+02, 7.680e+02, 3.060e+02,\n",
       "        3.230e+02, 2.940e+02, 2.580e+02, 2.400e+02, 2.290e+02, 2.260e+02,\n",
       "        1.820e+02, 1.770e+02, 1.690e+02, 2.620e+02, 1.150e+02, 1.100e+02,\n",
       "        1.040e+02, 8.800e+01, 7.100e+01, 6.900e+01, 6.700e+01, 5.400e+01,\n",
       "        6.200e+01, 4.900e+01, 7.400e+01, 3.700e+01, 2.400e+01, 3.600e+01,\n",
       "        2.700e+01, 2.000e+01, 2.000e+01, 1.800e+01, 1.500e+01, 4.000e+00,\n",
       "        5.000e+00, 6.000e+00, 1.000e+00, 2.000e+00, 1.000e+00, 1.000e+00,\n",
       "        0.000e+00, 0.000e+00, 0.000e+00, 0.000e+00, 0.000e+00, 0.000e+00,\n",
       "        1.000e+00]),\n",
       " array([ 1.        ,  2.08955224,  3.17910448,  4.26865672,  5.35820896,\n",
       "         6.44776119,  7.53731343,  8.62686567,  9.71641791, 10.80597015,\n",
       "        11.89552239, 12.98507463, 14.07462687, 15.1641791 , 16.25373134,\n",
       "        17.34328358, 18.43283582, 19.52238806, 20.6119403 , 21.70149254,\n",
       "        22.79104478, 23.88059701, 24.97014925, 26.05970149, 27.14925373,\n",
       "        28.23880597, 29.32835821, 30.41791045, 31.50746269, 32.59701493,\n",
       "        33.68656716, 34.7761194 , 35.86567164, 36.95522388, 38.04477612,\n",
       "        39.13432836, 40.2238806 , 41.31343284, 42.40298507, 43.49253731,\n",
       "        44.58208955, 45.67164179, 46.76119403, 47.85074627, 48.94029851,\n",
       "        50.02985075, 51.11940299, 52.20895522, 53.29850746, 54.3880597 ,\n",
       "        55.47761194, 56.56716418, 57.65671642, 58.74626866, 59.8358209 ,\n",
       "        60.92537313, 62.01492537, 63.10447761, 64.19402985, 65.28358209,\n",
       "        66.37313433, 67.46268657, 68.55223881, 69.64179104, 70.73134328,\n",
       "        71.82089552, 72.91044776, 74.        ]),\n",
       " <BarContainer object of 67 artists>)"
      ]
     },
     "execution_count": 15,
     "metadata": {},
     "output_type": "execute_result"
    },
    {
     "data": {
      "image/png": "[encoded data removed]",
      "text/plain": [
       "<Figure size 640x480 with 1 Axes>"
      ]
     },
     "metadata": {},
     "output_type": "display_data"
    }
   ],
   "source": [
    "import matplotlib.pyplot as plt\n",
    "\n",
    "# check to see what lenghts of the tweets in the dataset\n",
    "lengths = [len(t.split(' ')) for t in train_df['text']]\n",
    "plt.hist(lengths, bins=len(set(lengths)))"
   ]
  },
  {
   "cell_type": "code",
   "execution_count": 16,
   "metadata": {
    "colab": {
     "base_uri": "https://localhost:8080/"
    },
    "executionInfo": {
     "elapsed": 210,
     "status": "ok",
     "timestamp": 1681013909591,
     "user": {
      "displayName": "Christian Montecillo",
      "userId": "02267957112746133644"
     },
     "user_tz": 360
    },
    "id": "Ht7mWyXS18Sd",
    "outputId": "f568f42e-441f-4819-a74d-7d635ddb1ffc"
   },
   "outputs": [
    {
     "name": "stdout",
     "output_type": "stream",
     "text": [
      "Maximum word count: 74\n",
      "Minimum word count: 1\n",
      "Mean word count: 19.034656363423487\n",
      "Median word count: 17.0\n",
      "75th percentile word count: 25.0\n",
      "85th percentile word count: 31.0\n",
      "95th percentile word count: 41.0\n"
     ]
    }
   ],
   "source": [
    "import statistics\n",
    "\n",
    "# Apply the lambda function to the 'content' column and list called word_count_list'\n",
    "word_count_list = list(train_df['text'].apply(lambda x: len(x.split(' '))))\n",
    "\n",
    "# display the maximum and minimum lengths\n",
    "print('Maximum word count:', max(word_count_list))\n",
    "print('Minimum word count:', min(word_count_list))\n",
    "print('Mean word count:', statistics.mean(word_count_list))\n",
    "print('Median word count:', statistics.median(word_count_list))\n",
    "print('75th percentile word count:', np.percentile(word_count_list, 75))\n",
    "print('85th percentile word count:', np.percentile(word_count_list, 85))\n",
    "print('95th percentile word count:', np.percentile(word_count_list, 95))"
   ]
  },
  {
   "cell_type": "markdown",
   "metadata": {
    "id": "G9ZVTKh01wGa"
   },
   "source": [
    "The max number of words is 101. We ultimately decided that we are going to keep all the words in the tweet. BERT can handle more than 200 so setting max_len = 200"
   ]
  },
  {
   "cell_type": "markdown",
   "metadata": {
    "id": "59O4aXaA0ljh"
   },
   "source": [
    "***\n",
    "## 3 Padding and truncating the training data sequences to make sure that the shape is the same for each string."
   ]
  },
  {
   "cell_type": "code",
   "execution_count": 17,
   "metadata": {
    "executionInfo": {
     "elapsed": 1,
     "status": "ok",
     "timestamp": 1681013909591,
     "user": {
      "displayName": "Christian Montecillo",
      "userId": "02267957112746133644"
     },
     "user_tz": 360
    },
    "id": "Y715X4Xg0zSg"
   },
   "outputs": [],
   "source": [
    "from tensorflow.keras.preprocessing.sequence import pad_sequences"
   ]
  },
  {
   "cell_type": "code",
   "execution_count": 18,
   "metadata": {
    "executionInfo": {
     "elapsed": 1,
     "status": "ok",
     "timestamp": 1681013909591,
     "user": {
      "displayName": "Christian Montecillo",
      "userId": "02267957112746133644"
     },
     "user_tz": 360
    },
    "id": "iEuNYWMScWhY"
   },
   "outputs": [],
   "source": [
    "max_len = 200 # set the largest tweet size, >200 words -> truncate, <200 words -> pad\n",
    "\n",
    "def get_sequences(tokenizer, tweets):\n",
    "  sequences = tokenizer.texts_to_sequences(tweets)\n",
    "  padded = pad_sequences(sequences, truncating='post', padding='post', maxlen=max_len) # truncating happens at the end of the sequence (post)\n",
    "  return padded # all examples will be the returned with same input size"
   ]
  },
  {
   "cell_type": "code",
   "execution_count": 19,
   "metadata": {
    "colab": {
     "base_uri": "https://localhost:8080/"
    },
    "executionInfo": {
     "elapsed": 922,
     "status": "ok",
     "timestamp": 1681013910512,
     "user": {
      "displayName": "Christian Montecillo",
      "userId": "02267957112746133644"
     },
     "user_tz": 360
    },
    "id": "V2CMHoto0plB",
    "outputId": "442f3b34-f69d-4bd6-d2f7-588e38362818"
   },
   "outputs": [
    {
     "data": {
      "text/plain": [
       "array([   2,    3,   18, 1479,   24,   25,   66,   57,    0,    0,    0,\n",
       "          0,    0,    0,    0,    0,    0,    0,    0,    0,    0,    0,\n",
       "          0,    0,    0,    0,    0,    0,    0,    0,    0,    0,    0,\n",
       "          0,    0,    0,    0,    0,    0,    0,    0,    0,    0,    0,\n",
       "          0,    0,    0,    0,    0,    0,    0,    0,    0,    0,    0,\n",
       "          0,    0,    0,    0,    0,    0,    0,    0,    0,    0,    0,\n",
       "          0,    0,    0,    0,    0,    0,    0,    0,    0,    0,    0,\n",
       "          0,    0,    0,    0,    0,    0,    0,    0,    0,    0,    0,\n",
       "          0,    0,    0,    0,    0,    0,    0,    0,    0,    0,    0,\n",
       "          0,    0,    0,    0,    0,    0,    0,    0,    0,    0,    0,\n",
       "          0,    0,    0,    0,    0,    0,    0,    0,    0,    0,    0,\n",
       "          0,    0,    0,    0,    0,    0,    0,    0,    0,    0,    0,\n",
       "          0,    0,    0,    0,    0,    0,    0,    0,    0,    0,    0,\n",
       "          0,    0,    0,    0,    0,    0,    0,    0,    0,    0,    0,\n",
       "          0,    0,    0,    0,    0,    0,    0,    0,    0,    0,    0,\n",
       "          0,    0,    0,    0,    0,    0,    0,    0,    0,    0,    0,\n",
       "          0,    0,    0,    0,    0,    0,    0,    0,    0,    0,    0,\n",
       "          0,    0,    0,    0,    0,    0,    0,    0,    0,    0,    0,\n",
       "          0,    0], dtype=int32)"
      ]
     },
     "execution_count": 19,
     "metadata": {},
     "output_type": "execute_result"
    }
   ],
   "source": [
    "padded_train_seq = get_sequences(tokenizer, train_df['text'])\n",
    "padded_train_seq[0]"
   ]
  },
  {
   "cell_type": "markdown",
   "metadata": {
    "id": "wAVdCL7s2YA6"
   },
   "source": [
    "***\n",
    "## 4 Convert labels to numeric"
   ]
  },
  {
   "cell_type": "markdown",
   "metadata": {
    "id": "cjoAOp23ROll"
   },
   "source": [
    "### Function to convert text labels to numeric (reuse for all datasets)"
   ]
  },
  {
   "cell_type": "code",
   "execution_count": 20,
   "metadata": {
    "colab": {
     "base_uri": "https://localhost:8080/"
    },
    "executionInfo": {
     "elapsed": 12,
     "status": "ok",
     "timestamp": 1681013910512,
     "user": {
      "displayName": "Christian Montecillo",
      "userId": "02267957112746133644"
     },
     "user_tz": 360
    },
    "id": "Fz-HIqgg9WTn",
    "outputId": "8e07d7ba-95c5-42dc-a797-6d5fc677938b"
   },
   "outputs": [
    {
     "data": {
      "text/plain": [
       "{'sadness': 0,\n",
       " 'anger': 1,\n",
       " 'fear': 2,\n",
       " 'surprise': 3,\n",
       " 'joy': 4,\n",
       " 'love': 5,\n",
       " 'neutral': 6}"
      ]
     },
     "execution_count": 20,
     "metadata": {},
     "output_type": "execute_result"
    }
   ],
   "source": [
    "class_to_index_dict = {'sadness': 0, 'anger': 1, 'fear': 2, 'surprise': 3, 'joy': 4, 'love': 5, 'neutral': 6}\n",
    "class_to_index_dict"
   ]
  },
  {
   "cell_type": "code",
   "execution_count": 21,
   "metadata": {
    "executionInfo": {
     "elapsed": 7,
     "status": "ok",
     "timestamp": 1681013910512,
     "user": {
      "displayName": "Christian Montecillo",
      "userId": "02267957112746133644"
     },
     "user_tz": 360
    },
    "id": "LshrgGmE3Vw1"
   },
   "outputs": [],
   "source": [
    "def names_to_ids(class_to_index, data):\n",
    "  return np.array([class_to_index.get(x) for x in data])"
   ]
  },
  {
   "cell_type": "code",
   "execution_count": 22,
   "metadata": {
    "colab": {
     "base_uri": "https://localhost:8080/"
    },
    "executionInfo": {
     "elapsed": 6,
     "status": "ok",
     "timestamp": 1681013910512,
     "user": {
      "displayName": "Christian Montecillo",
      "userId": "02267957112746133644"
     },
     "user_tz": 360
    },
    "id": "6EKQbC433hL-",
    "outputId": "4ddd8e3c-ef0d-4afa-c503-88ce994750e5"
   },
   "outputs": [
    {
     "name": "stdout",
     "output_type": "stream",
     "text": [
      "train_df.iloc[7]:\n",
      " text        i didnt expect to feel so cool when i thought ...\n",
      "emotions                                                  joy\n",
      "Name: 7, dtype: object\n",
      "numeric label: 4\n"
     ]
    }
   ],
   "source": [
    "# confirming if it worked (change index) and they should line up with above dict\n",
    "index = 7\n",
    "train_labels = names_to_ids(class_to_index_dict, train_df['emotions'])\n",
    "print('train_df.iloc[7]:\\n', train_df.iloc[index])\n",
    "print('numeric label:', train_labels[index])"
   ]
  },
  {
   "cell_type": "markdown",
   "metadata": {
    "id": "JqCOVtUd5SN1"
   },
   "source": [
    "***\n",
    "## 5 Create the model"
   ]
  },
  {
   "cell_type": "code",
   "execution_count": 23,
   "metadata": {
    "colab": {
     "base_uri": "https://localhost:8080/"
    },
    "executionInfo": {
     "elapsed": 6,
     "status": "ok",
     "timestamp": 1681013910513,
     "user": {
      "displayName": "Christian Montecillo",
      "userId": "02267957112746133644"
     },
     "user_tz": 360
    },
    "id": "0x19MiiQ5s7S",
    "outputId": "3b85dc31-de84-43b2-8619-a89f3d5aefd9"
   },
   "outputs": [
    {
     "name": "stdout",
     "output_type": "stream",
     "text": [
      "Using TensorFlow version 2.12.0\n"
     ]
    }
   ],
   "source": [
    "%matplotlib inline\n",
    "\n",
    "import tensorflow as tf\n",
    "import matplotlib.pyplot as plt\n",
    "import random\n",
    "\n",
    "def show_history(h):\n",
    "    epochs_trained = len(h.history['loss'])\n",
    "    plt.figure(figsize=(16, 6))\n",
    "\n",
    "    plt.subplot(1, 2, 1)\n",
    "    plt.plot(range(0, epochs_trained), h.history.get('accuracy'), label='Training')\n",
    "    plt.plot(range(0, epochs_trained), h.history.get('val_accuracy'), label='Validation')\n",
    "    plt.ylim([0., 1.])\n",
    "    plt.xlabel('Epochs')\n",
    "    plt.ylabel('Accuracy')\n",
    "    plt.legend()\n",
    "\n",
    "    plt.subplot(1, 2, 2)\n",
    "    plt.plot(range(0, epochs_trained), h.history.get('loss'), label='Training')\n",
    "    plt.plot(range(0, epochs_trained), h.history.get('val_loss'), label='Validation')\n",
    "    plt.xlabel('Epochs')\n",
    "    plt.ylabel('Loss')\n",
    "    plt.legend()\n",
    "    plt.show()\n",
    "    \n",
    "print('Using TensorFlow version', tf.__version__)"
   ]
  },
  {
   "cell_type": "code",
   "execution_count": 60,
   "metadata": {
    "colab": {
     "base_uri": "https://localhost:8080/"
    },
    "executionInfo": {
     "elapsed": 173,
     "status": "ok",
     "timestamp": 1681014393694,
     "user": {
      "displayName": "Christian Montecillo",
      "userId": "02267957112746133644"
     },
     "user_tz": 360
    },
    "id": "aAX4XyMFxaX6",
    "outputId": "dd0de656-a82b-44c2-9021-47fa516b8573"
   },
   "outputs": [
    {
     "name": "stdout",
     "output_type": "stream",
     "text": [
      "top_word_count: 2056\n",
      "max_len: 200\n"
     ]
    }
   ],
   "source": [
    "print('top_word_count:', top_word_count)\n",
    "print('max_len:', max_len)"
   ]
  },
  {
   "cell_type": "code",
   "execution_count": 61,
   "metadata": {
    "executionInfo": {
     "elapsed": 517,
     "status": "ok",
     "timestamp": 1681014394577,
     "user": {
      "displayName": "Christian Montecillo",
      "userId": "02267957112746133644"
     },
     "user_tz": 360
    },
    "id": "ZmbxOHXS5VoW"
   },
   "outputs": [],
   "source": [
    "# ref: https://machinelearningmastery.com/develop-bidirectional-lstm-sequence-classification-python-keras/\n",
    "# ref: https://analyticsindiamag.com/complete-guide-to-bidirectional-lstm-with-python-codes/\n",
    "# ref: https://stackoverflow.com/questions/40331510/how-to-stack-multiple-lstm-in-keras\n",
    "\n",
    "# keep the vocabulary size the same as the base model, 11039\n",
    "model = tf.keras.models.Sequential([\n",
    "    tf.keras.layers.Embedding(input_dim=11039, output_dim=8, input_length=max_len),\n",
    "    \n",
    "    # the RNN part of the model\n",
    "    # tf.keras.layers.Bidirectional(tf.keras.layers.LSTM(10, return_sequences=True)), # since using an LSTM layer inside a bidrectional layer, context can go in either direction; return_sequences=True means at every time step, there is an output\n",
    "    tf.keras.layers.Bidirectional(tf.keras.layers.LSTM(10, )),\n",
    "\n",
    "    tf.keras.layers.Dense(7, activation='softmax') # 7 for the seven classes\n",
    "\n",
    "])\n",
    "\n",
    "model.compile(\n",
    "    loss='sparse_categorical_crossentropy', # since this is a multiclass classification problem, use categorical crossentropy; since classes are integers (not one hot encoded/binary), use sparse (just like in A3)\n",
    "    optimizer='adam',\n",
    "    metrics=['accuracy']\n",
    ")"
   ]
  },
  {
   "cell_type": "code",
   "execution_count": 62,
   "metadata": {
    "colab": {
     "base_uri": "https://localhost:8080/"
    },
    "executionInfo": {
     "elapsed": 9,
     "status": "ok",
     "timestamp": 1681014394578,
     "user": {
      "displayName": "Christian Montecillo",
      "userId": "02267957112746133644"
     },
     "user_tz": 360
    },
    "id": "zsYrBdzP6lNv",
    "outputId": "8838a38d-bb9f-4f9f-c1de-63f5eda8fc53"
   },
   "outputs": [
    {
     "name": "stdout",
     "output_type": "stream",
     "text": [
      "Model: \"sequential_1\"\n",
      "_________________________________________________________________\n",
      " Layer (type)                Output Shape              Param #   \n",
      "=================================================================\n",
      " embedding_1 (Embedding)     (None, 200, 8)            88312     \n",
      "                                                                 \n",
      " bidirectional_1 (Bidirectio  (None, 20)               1520      \n",
      " nal)                                                            \n",
      "                                                                 \n",
      " dense_1 (Dense)             (None, 7)                 147       \n",
      "                                                                 \n",
      "=================================================================\n",
      "Total params: 89,979\n",
      "Trainable params: 89,979\n",
      "Non-trainable params: 0\n",
      "_________________________________________________________________\n"
     ]
    }
   ],
   "source": [
    "model.summary()"
   ]
  },
  {
   "cell_type": "markdown",
   "metadata": {
    "id": "idlS4gpC67sM"
   },
   "source": [
    "***\n",
    "## 6 Train the model"
   ]
  },
  {
   "cell_type": "markdown",
   "metadata": {
    "id": "lQQwKn13Qrm9"
   },
   "source": [
    "### Convert the labels of the validation set to numeric (just like the training set)"
   ]
  },
  {
   "cell_type": "code",
   "execution_count": 63,
   "metadata": {
    "colab": {
     "base_uri": "https://localhost:8080/"
    },
    "executionInfo": {
     "elapsed": 7,
     "status": "ok",
     "timestamp": 1681014394578,
     "user": {
      "displayName": "Christian Montecillo",
      "userId": "02267957112746133644"
     },
     "user_tz": 360
    },
    "id": "yNF1izoe_fPt",
    "outputId": "a6448cc3-622b-41f2-d0b2-9ac0af62bbd3"
   },
   "outputs": [
    {
     "data": {
      "text/plain": [
       "{'sadness': 0,\n",
       " 'anger': 1,\n",
       " 'fear': 2,\n",
       " 'surprise': 3,\n",
       " 'joy': 4,\n",
       " 'love': 5,\n",
       " 'neutral': 6}"
      ]
     },
     "execution_count": 63,
     "metadata": {},
     "output_type": "execute_result"
    }
   ],
   "source": [
    "# reminder of the class_to_index mapping\n",
    "class_to_index_dict"
   ]
  },
  {
   "cell_type": "code",
   "execution_count": 64,
   "metadata": {
    "executionInfo": {
     "elapsed": 5,
     "status": "ok",
     "timestamp": 1681014394578,
     "user": {
      "displayName": "Christian Montecillo",
      "userId": "02267957112746133644"
     },
     "user_tz": 360
    },
    "id": "bQmthZKy7B6A"
   },
   "outputs": [],
   "source": [
    "val_seq = get_sequences(tokenizer, val_df['text'])\n",
    "val_labels = names_to_ids(class_to_index_dict, val_df['emotions'])"
   ]
  },
  {
   "cell_type": "code",
   "execution_count": 65,
   "metadata": {
    "colab": {
     "base_uri": "https://localhost:8080/"
    },
    "executionInfo": {
     "elapsed": 5,
     "status": "ok",
     "timestamp": 1681014394578,
     "user": {
      "displayName": "Christian Montecillo",
      "userId": "02267957112746133644"
     },
     "user_tz": 360
    },
    "id": "b1KDU5Hi8IWQ",
    "outputId": "0aa84fe8-624c-4a8d-88e9-5b813c47a0b3"
   },
   "outputs": [
    {
     "data": {
      "text/plain": [
       "(array([   2,   41,    3,   10,  715,    2,   54,  195,   25, 1707,  136,\n",
       "           0,    0,    0,    0,    0,    0,    0,    0,    0,    0,    0,\n",
       "           0,    0,    0,    0,    0,    0,    0,    0,    0,    0,    0,\n",
       "           0,    0,    0,    0,    0,    0,    0,    0,    0,    0,    0,\n",
       "           0,    0,    0,    0,    0,    0,    0,    0,    0,    0,    0,\n",
       "           0,    0,    0,    0,    0,    0,    0,    0,    0,    0,    0,\n",
       "           0,    0,    0,    0,    0,    0,    0,    0,    0,    0,    0,\n",
       "           0,    0,    0,    0,    0,    0,    0,    0,    0,    0,    0,\n",
       "           0,    0,    0,    0,    0,    0,    0,    0,    0,    0,    0,\n",
       "           0,    0,    0,    0,    0,    0,    0,    0,    0,    0,    0,\n",
       "           0,    0,    0,    0,    0,    0,    0,    0,    0,    0,    0,\n",
       "           0,    0,    0,    0,    0,    0,    0,    0,    0,    0,    0,\n",
       "           0,    0,    0,    0,    0,    0,    0,    0,    0,    0,    0,\n",
       "           0,    0,    0,    0,    0,    0,    0,    0,    0,    0,    0,\n",
       "           0,    0,    0,    0,    0,    0,    0,    0,    0,    0,    0,\n",
       "           0,    0,    0,    0,    0,    0,    0,    0,    0,    0,    0,\n",
       "           0,    0,    0,    0,    0,    0,    0,    0,    0,    0,    0,\n",
       "           0,    0,    0,    0,    0,    0,    0,    0,    0,    0,    0,\n",
       "           0,    0], dtype=int32),\n",
       " 'i can feel that tomorrow i will remember this workout well',\n",
       " 'joy')"
      ]
     },
     "execution_count": 65,
     "metadata": {},
     "output_type": "execute_result"
    }
   ],
   "source": [
    "# checking out the first input in validation sequence\n",
    "val_seq[0], val_df['text'][0], val_df['emotions'][0]"
   ]
  },
  {
   "cell_type": "code",
   "execution_count": 66,
   "metadata": {
    "colab": {
     "base_uri": "https://localhost:8080/"
    },
    "executionInfo": {
     "elapsed": 211,
     "status": "ok",
     "timestamp": 1681014394786,
     "user": {
      "displayName": "Christian Montecillo",
      "userId": "02267957112746133644"
     },
     "user_tz": 360
    },
    "id": "VCjxGzpW7rCT",
    "outputId": "a6d0c7f3-f2cb-496c-d682-b8b2de8ee60d"
   },
   "outputs": [
    {
     "name": "stdout",
     "output_type": "stream",
     "text": [
      "val_df.iloc[0]:\n",
      " text        i can feel that tomorrow i will remember this ...\n",
      "emotions                                                  joy\n",
      "Name: 0, dtype: object\n",
      "numeric label: 4\n"
     ]
    }
   ],
   "source": [
    "print('val_df.iloc[0]:\\n', val_df.iloc[0])\n",
    "print('numeric label:', val_labels[0])"
   ]
  },
  {
   "cell_type": "markdown",
   "metadata": {
    "id": "RdCRJ_QdQ2B6"
   },
   "source": [
    "#### Check out the shape to make sure they're as expected"
   ]
  },
  {
   "cell_type": "code",
   "execution_count": 67,
   "metadata": {
    "colab": {
     "base_uri": "https://localhost:8080/"
    },
    "executionInfo": {
     "elapsed": 17,
     "status": "ok",
     "timestamp": 1681014394788,
     "user": {
      "displayName": "Christian Montecillo",
      "userId": "02267957112746133644"
     },
     "user_tz": 360
    },
    "id": "ynlY2BgkA7in",
    "outputId": "2362d559-1751-4966-91f7-c6a92dcc3b21"
   },
   "outputs": [
    {
     "data": {
      "text/plain": [
       "(17082, 200)"
      ]
     },
     "execution_count": 67,
     "metadata": {},
     "output_type": "execute_result"
    }
   ],
   "source": [
    "padded_train_seq.shape"
   ]
  },
  {
   "cell_type": "code",
   "execution_count": 68,
   "metadata": {
    "colab": {
     "base_uri": "https://localhost:8080/"
    },
    "executionInfo": {
     "elapsed": 15,
     "status": "ok",
     "timestamp": 1681014394788,
     "user": {
      "displayName": "Christian Montecillo",
      "userId": "02267957112746133644"
     },
     "user_tz": 360
    },
    "id": "Y5fiYZr7Bz0W",
    "outputId": "88fa8d93-5bf5-43a9-9554-c837ad7ce2d1"
   },
   "outputs": [
    {
     "data": {
      "text/plain": [
       "(17082,)"
      ]
     },
     "execution_count": 68,
     "metadata": {},
     "output_type": "execute_result"
    }
   ],
   "source": [
    "train_labels.shape"
   ]
  },
  {
   "cell_type": "code",
   "execution_count": 69,
   "metadata": {
    "colab": {
     "base_uri": "https://localhost:8080/"
    },
    "executionInfo": {
     "elapsed": 13,
     "status": "ok",
     "timestamp": 1681014394788,
     "user": {
      "displayName": "Christian Montecillo",
      "userId": "02267957112746133644"
     },
     "user_tz": 360
    },
    "id": "Ht_KveuuB30e",
    "outputId": "2b88c059-0ed3-48c4-be73-b61065386ba7"
   },
   "outputs": [
    {
     "data": {
      "text/plain": [
       "(5125, 200)"
      ]
     },
     "execution_count": 69,
     "metadata": {},
     "output_type": "execute_result"
    }
   ],
   "source": [
    "val_seq.shape"
   ]
  },
  {
   "cell_type": "code",
   "execution_count": 70,
   "metadata": {
    "colab": {
     "base_uri": "https://localhost:8080/"
    },
    "executionInfo": {
     "elapsed": 11,
     "status": "ok",
     "timestamp": 1681014394788,
     "user": {
      "displayName": "Christian Montecillo",
      "userId": "02267957112746133644"
     },
     "user_tz": 360
    },
    "id": "jN1vULmpB6gE",
    "outputId": "387335c2-8b90-49a4-9426-ca809517c468"
   },
   "outputs": [
    {
     "data": {
      "text/plain": [
       "(5125,)"
      ]
     },
     "execution_count": 70,
     "metadata": {},
     "output_type": "execute_result"
    }
   ],
   "source": [
    "val_labels.shape"
   ]
  },
  {
   "cell_type": "markdown",
   "metadata": {
    "id": "yIzq6Av3QPt8"
   },
   "source": [
    "### From Natalie's Notebook\n",
    "https://github.com/datasci-w266/2023-spring-main/blob/master/materials/walkthrough_notebooks/keras_with_limited_ram/keras_training_with_limited_ram.ipynb<br><br>\n",
    "https://edstem.org/us/courses/32607/discussion/2699088?comment=6229916"
   ]
  },
  {
   "cell_type": "markdown",
   "metadata": {
    "id": "xXt_pSdk8hNd"
   },
   "source": [
    "#### Inspired by Natalie's notebook, made my own generator that chunks up my data into pieces that won't make my machine run out of memory before completing one epoch\n",
    "If generator is not used, might delete this section"
   ]
  },
  {
   "cell_type": "code",
   "execution_count": 71,
   "metadata": {
    "executionInfo": {
     "elapsed": 10,
     "status": "ok",
     "timestamp": 1681014394788,
     "user": {
      "displayName": "Christian Montecillo",
      "userId": "02267957112746133644"
     },
     "user_tz": 360
    },
    "id": "VqlRB7kLgciK"
   },
   "outputs": [],
   "source": [
    "# from sklearn.utils.random import sample_without_replacement\n",
    "\n",
    "# # Define a generator function\n",
    "# def generator(data, labels, batch_size):\n",
    "#     # num_samples = len(data)\n",
    "#     # while True:\n",
    "#     #     indices = np.random.randint(num_samples, size=batch_size)\n",
    "#     #     yield data[indices], labels[indices]\n",
    "\n",
    "#     # Loop over batches\n",
    "#     for i in range(0, len(data), batch_size):\n",
    "      \n",
    "#       # Get a batch of indices using sample_without_replacement()\n",
    "#       batch_indices = sample_without_replacement(n_population=len(data), n_samples=batch_size)\n",
    "      \n",
    "#       # Yield a batch of features and labels using the indices\n",
    "#       yield data[batch_indices], labels[batch_indices]"
   ]
  },
  {
   "cell_type": "code",
   "execution_count": 72,
   "metadata": {
    "executionInfo": {
     "elapsed": 10,
     "status": "ok",
     "timestamp": 1681014394788,
     "user": {
      "displayName": "Christian Montecillo",
      "userId": "02267957112746133644"
     },
     "user_tz": 360
    },
    "id": "nct6qudng5T4"
   },
   "outputs": [],
   "source": [
    "# Create the generator\n",
    "# batch_size = 1 # using this batch size because that's what seemed reasonable based on the number of records in the training dataset\n",
    "# gen = generator(data=padded_train_seq, labels=train_labels, batch_size=batch_size)"
   ]
  },
  {
   "cell_type": "markdown",
   "metadata": {
    "id": "5qWdOrSvDBxP"
   },
   "source": [
    "#### Setting up checkpoints"
   ]
  },
  {
   "cell_type": "code",
   "execution_count": 73,
   "metadata": {
    "colab": {
     "base_uri": "https://localhost:8080/"
    },
    "executionInfo": {
     "elapsed": 11,
     "status": "ok",
     "timestamp": 1681014394789,
     "user": {
      "displayName": "Christian Montecillo",
      "userId": "02267957112746133644"
     },
     "user_tz": 360
    },
    "id": "DLCin0Ms-_QM",
    "outputId": "e1159f59-789c-4f18-ed87-52b8ee02a20d"
   },
   "outputs": [
    {
     "name": "stdout",
     "output_type": "stream",
     "text": [
      "/2023-04-08-2226\n"
     ]
    }
   ],
   "source": [
    "# reference: https://pynative.com/python-timezone/\n",
    "# make a timestamp so it can be part of the folder name\n",
    "# otherwise, all the checkpoints get dumped into the same\n",
    "# folder and that's not great\n",
    "import datetime\n",
    "import pytz\n",
    "\n",
    "local_tz = pytz.timezone('America/Denver')\n",
    "local_dt = datetime.datetime.now(local_tz)\n",
    "\n",
    "# Format the datetime object as a string without spaces\n",
    "timestamp = local_dt.strftime('/%Y-%m-%d-%H%M')\n",
    "\n",
    "# Print the string\n",
    "print(timestamp)"
   ]
  },
  {
   "cell_type": "code",
   "execution_count": 74,
   "metadata": {
    "colab": {
     "base_uri": "https://localhost:8080/"
    },
    "executionInfo": {
     "elapsed": 210,
     "status": "ok",
     "timestamp": 1681014394990,
     "user": {
      "displayName": "Christian Montecillo",
      "userId": "02267957112746133644"
     },
     "user_tz": 360
    },
    "id": "UYF2mq-rnikf",
    "outputId": "63ab9938-c39c-44bb-e2fb-88744f111bc2"
   },
   "outputs": [
    {
     "name": "stdout",
     "output_type": "stream",
     "text": [
      "136_40_model  34_10_model  archive     clean_plus_kaggle_model\n",
      "17_5_model    68_20_model  base_model\n"
     ]
    }
   ],
   "source": [
    "!ls '/content/gdrive/MyDrive/266_Final_Project_Folder/cm_working_dir/cm_checkpoints/'"
   ]
  },
  {
   "cell_type": "code",
   "execution_count": 75,
   "metadata": {
    "executionInfo": {
     "elapsed": 13,
     "status": "ok",
     "timestamp": 1681014394990,
     "user": {
      "displayName": "Christian Montecillo",
      "userId": "02267957112746133644"
     },
     "user_tz": 360
    },
    "id": "fWUjoVx_oQ1p"
   },
   "outputs": [],
   "source": [
    "checkpoint_dir = project_folder + '/cm_working_dir/cm_checkpoints/17_5_model'\n",
    "checkpoint_filepath = checkpoint_dir + '/weights.{epoch:02d}-{val_accuracy:.2f}.hdf5' #+ timestamp + '/weights.{epoch:02d}-{val_accuracy:.2f}.hdf5'\n",
    "model_checkpoint_callback = tf.keras.callbacks.ModelCheckpoint(\n",
    "    filepath=checkpoint_filepath,\n",
    "    save_weights_only=True)"
   ]
  },
  {
   "cell_type": "code",
   "execution_count": 76,
   "metadata": {
    "colab": {
     "base_uri": "https://localhost:8080/"
    },
    "executionInfo": {
     "elapsed": 12,
     "status": "ok",
     "timestamp": 1681014394990,
     "user": {
      "displayName": "Christian Montecillo",
      "userId": "02267957112746133644"
     },
     "user_tz": 360
    },
    "id": "vEGdADVWY5aV",
    "outputId": "ab6fcf95-d8c9-4f78-ea89-12a3400fc833"
   },
   "outputs": [
    {
     "name": "stdout",
     "output_type": "stream",
     "text": [
      "/content/gdrive/MyDrive/266_Final_Project_Folder/cm_working_dir/cm_checkpoints/17_5_model/weights.{epoch:02d}-{val_accuracy:.2f}.hdf5\n"
     ]
    }
   ],
   "source": [
    "# check to make sure that the folder name is as expected\n",
    "# format: .....cm_checkpoints/YYYY-MM-DD-TIME/....\n",
    "print(checkpoint_filepath)"
   ]
  },
  {
   "cell_type": "markdown",
   "metadata": {
    "id": "Tu0tD3XEQYxO"
   },
   "source": [
    "### Training the Model!!!"
   ]
  },
  {
   "cell_type": "markdown",
   "metadata": {
    "id": "kGXLqEfMvIUu"
   },
   "source": [
    "##### Uncomment cell below to load checkpoints; else keep commented to start fresh"
   ]
  },
  {
   "cell_type": "code",
   "execution_count": 77,
   "metadata": {
    "executionInfo": {
     "elapsed": 4,
     "status": "ok",
     "timestamp": 1681014394990,
     "user": {
      "displayName": "Christian Montecillo",
      "userId": "02267957112746133644"
     },
     "user_tz": 360
    },
    "id": "wm6zmRBWPA4F"
   },
   "outputs": [],
   "source": [
    "# uncomment below when loading checkpoints\n",
    "# hdf5_checkpoint = 'weights.05-0.99' # change this to the right filename for the checkpoint\n",
    "# checkpoint_filepath = checkpoint_dir + '/' + hdf5_checkpoint + '.hdf5'\n",
    "# model.load_weights(checkpoint_filepath)"
   ]
  },
  {
   "cell_type": "code",
   "execution_count": 78,
   "metadata": {
    "executionInfo": {
     "elapsed": 4,
     "status": "ok",
     "timestamp": 1681014394990,
     "user": {
      "displayName": "Christian Montecillo",
      "userId": "02267957112746133644"
     },
     "user_tz": 360
    },
    "id": "WrvGsgIf9Z2W"
   },
   "outputs": [],
   "source": [
    "# batch_size = 64\n",
    "# steps_per_epoch = len(padded_train_seq) / batch_size\n",
    "\n",
    "# history = model.fit(\n",
    "#     gen,\n",
    "#     validation_data=(val_seq, val_labels),\n",
    "#     steps_per_epoch=steps_per_epoch,\n",
    "#     epochs=1,\n",
    "#     callbacks=[\n",
    "#         tf.keras.callbacks.EarlyStopping(monitor='val_accuracy', patience=2), # if model doesn't see improvement in val_accuracy after 2 epochs, it will stop training\n",
    "#         model_checkpoint_callback\n",
    "#     ]\n",
    "# )"
   ]
  },
  {
   "cell_type": "markdown",
   "metadata": {
    "id": "nrrGcqfzvbnA"
   },
   "source": [
    "##### Training a fresh model (don't run this if running cells above)"
   ]
  },
  {
   "cell_type": "code",
   "execution_count": 79,
   "metadata": {
    "colab": {
     "base_uri": "https://localhost:8080/"
    },
    "executionInfo": {
     "elapsed": 56656,
     "status": "ok",
     "timestamp": 1681014451642,
     "user": {
      "displayName": "Christian Montecillo",
      "userId": "02267957112746133644"
     },
     "user_tz": 360
    },
    "id": "oCfI-LfAn9nR",
    "outputId": "c7704384-bcd9-4034-bda1-c5deb1810e9e"
   },
   "outputs": [
    {
     "name": "stdout",
     "output_type": "stream",
     "text": [
      "Epoch 1/5\n",
      "266/266 [==============================] - 29s 94ms/step - loss: 1.6261 - accuracy: 0.3682 - val_loss: 1.5274 - val_accuracy: 0.4671\n",
      "Epoch 2/5\n",
      "266/266 [==============================] - 9s 33ms/step - loss: 1.2330 - accuracy: 0.5880 - val_loss: 1.0646 - val_accuracy: 0.6207\n",
      "Epoch 3/5\n",
      "266/266 [==============================] - 6s 23ms/step - loss: 0.9485 - accuracy: 0.6314 - val_loss: 0.8880 - val_accuracy: 0.6429\n",
      "Epoch 4/5\n",
      "266/266 [==============================] - 7s 27ms/step - loss: 0.7665 - accuracy: 0.7299 - val_loss: 0.7339 - val_accuracy: 0.7637\n",
      "Epoch 5/5\n",
      "266/266 [==============================] - 5s 20ms/step - loss: 0.6091 - accuracy: 0.8067 - val_loss: 0.5982 - val_accuracy: 0.8070\n"
     ]
    }
   ],
   "source": [
    "batch_size = 64\n",
    "steps_per_epoch = len(padded_train_seq) / batch_size\n",
    "\n",
    "history = model.fit(\n",
    "    # gen,\n",
    "    padded_train_seq,\n",
    "    train_labels,\n",
    "    validation_data=(val_seq, val_labels),\n",
    "    steps_per_epoch=steps_per_epoch,\n",
    "    epochs=5,\n",
    "    callbacks=[\n",
    "        tf.keras.callbacks.EarlyStopping(monitor='val_accuracy', patience=2), # if model doesn't see improvement in val_accuracy after 2 epochs, it will stop training\n",
    "        model_checkpoint_callback\n",
    "    ]\n",
    ")"
   ]
  },
  {
   "cell_type": "code",
   "execution_count": 80,
   "metadata": {
    "colab": {
     "base_uri": "https://localhost:8080/",
     "height": 547
    },
    "executionInfo": {
     "elapsed": 444,
     "status": "ok",
     "timestamp": 1681014452083,
     "user": {
      "displayName": "Christian Montecillo",
      "userId": "02267957112746133644"
     },
     "user_tz": 360
    },
    "id": "1mfKwJdT1YFz",
    "outputId": "1f409a1d-fe62-48c5-c176-5baddc600cca"
   },
   "outputs": [
    {
     "data": {
      "image/png": "[encoded data removed]",
      "text/plain": [
       "<Figure size 1600x600 with 2 Axes>"
      ]
     },
     "metadata": {},
     "output_type": "display_data"
    }
   ],
   "source": [
    "show_history(history)"
   ]
  },
  {
   "cell_type": "markdown",
   "metadata": {
    "id": "cBYWJDCg5eN1"
   },
   "source": [
    "***\n",
    "## 7 Evaluate the model using imbalanced test_df"
   ]
  },
  {
   "cell_type": "code",
   "execution_count": 81,
   "metadata": {
    "executionInfo": {
     "elapsed": 4,
     "status": "ok",
     "timestamp": 1681014452083,
     "user": {
      "displayName": "Christian Montecillo",
      "userId": "02267957112746133644"
     },
     "user_tz": 360
    },
    "id": "nDap2-694dQM"
   },
   "outputs": [],
   "source": [
    "# borrowing this from A3 assignment, but turned it into a function\n",
    "# classification report (cr) and confusion matrix (cm) from A3\n",
    "from sklearn.metrics import classification_report\n",
    "import seaborn as sns\n",
    "\n",
    "def make_cr_cm(preds, labels):\n",
    "\n",
    "  predictions_model = tf.argmax(preds, axis=-1)\n",
    "  predictions_model\n",
    "\n",
    "  # convert labels to string because classification_report needs target_names as str\n",
    "  # labels are currently ints, but will change to str of in (i.e. '0', '1', etc)\n",
    "  class_names = list(set([str(digit) for digit in labels]))\n",
    "\n",
    "  # convert digits in target_names to the actual name of the emotion from the \n",
    "  # using class_to_index dictionary (i.e. '0' -> 'love', '5' -> 'neutral', etc.)\n",
    "  class_names = [list(class_to_index_dict.keys())[list(class_to_index_dict.values()).index(int(name))] for name in class_names]\n",
    "\n",
    "  print('Classification Report:\\n\\n', classification_report(labels, predictions_model.numpy(), target_names=class_names))\n",
    "\n",
    "  print('Confusion Matrix:\\n')\n",
    "  \n",
    "  # confusion matrix from A3\n",
    "  cm = tf.math.confusion_matrix(labels, predictions_model)\n",
    "  cm = cm/cm.numpy().sum(axis=1)[:, tf.newaxis]\n",
    "\n",
    "  plt.figure(figsize=(20,7))\n",
    "  sns.heatmap(\n",
    "      cm, annot=True,\n",
    "      xticklabels=class_names,\n",
    "      yticklabels=class_names)\n",
    "  plt.xlabel(\"Predicted\")\n",
    "  plt.ylabel(\"True\")\n",
    "  plt.show()"
   ]
  },
  {
   "cell_type": "markdown",
   "metadata": {
    "id": "_a6PRIxbbDzo"
   },
   "source": [
    "### Padding the imbalanced test set for evaluation"
   ]
  },
  {
   "cell_type": "code",
   "execution_count": 82,
   "metadata": {
    "colab": {
     "base_uri": "https://localhost:8080/"
    },
    "executionInfo": {
     "elapsed": 1002,
     "status": "ok",
     "timestamp": 1681014453082,
     "user": {
      "displayName": "Christian Montecillo",
      "userId": "02267957112746133644"
     },
     "user_tz": 360
    },
    "id": "gEMdQ78M2Rz-",
    "outputId": "b332833d-7f55-4d83-e030-49960bdb1c54"
   },
   "outputs": [
    {
     "data": {
      "text/plain": [
       "array([  2,   3, 530,   5,  56, 838, 793,   0,   0,   0,   0,   0,   0,\n",
       "         0,   0,   0,   0,   0,   0,   0,   0,   0,   0,   0,   0,   0,\n",
       "         0,   0,   0,   0,   0,   0,   0,   0,   0,   0,   0,   0,   0,\n",
       "         0,   0,   0,   0,   0,   0,   0,   0,   0,   0,   0,   0,   0,\n",
       "         0,   0,   0,   0,   0,   0,   0,   0,   0,   0,   0,   0,   0,\n",
       "         0,   0,   0,   0,   0,   0,   0,   0,   0,   0,   0,   0,   0,\n",
       "         0,   0,   0,   0,   0,   0,   0,   0,   0,   0,   0,   0,   0,\n",
       "         0,   0,   0,   0,   0,   0,   0,   0,   0,   0,   0,   0,   0,\n",
       "         0,   0,   0,   0,   0,   0,   0,   0,   0,   0,   0,   0,   0,\n",
       "         0,   0,   0,   0,   0,   0,   0,   0,   0,   0,   0,   0,   0,\n",
       "         0,   0,   0,   0,   0,   0,   0,   0,   0,   0,   0,   0,   0,\n",
       "         0,   0,   0,   0,   0,   0,   0,   0,   0,   0,   0,   0,   0,\n",
       "         0,   0,   0,   0,   0,   0,   0,   0,   0,   0,   0,   0,   0,\n",
       "         0,   0,   0,   0,   0,   0,   0,   0,   0,   0,   0,   0,   0,\n",
       "         0,   0,   0,   0,   0,   0,   0,   0,   0,   0,   0,   0,   0,\n",
       "         0,   0,   0,   0,   0], dtype=int32)"
      ]
     },
     "execution_count": 82,
     "metadata": {},
     "output_type": "execute_result"
    }
   ],
   "source": [
    "padded_test_seq = get_sequences(tokenizer, test_df['text'])\n",
    "padded_test_seq[0]"
   ]
  },
  {
   "cell_type": "code",
   "execution_count": 83,
   "metadata": {
    "colab": {
     "base_uri": "https://localhost:8080/"
    },
    "executionInfo": {
     "elapsed": 9,
     "status": "ok",
     "timestamp": 1681014453083,
     "user": {
      "displayName": "Christian Montecillo",
      "userId": "02267957112746133644"
     },
     "user_tz": 360
    },
    "id": "jBACmE2L2sW1",
    "outputId": "81870a4e-ba9b-4155-be59-7782babbe445"
   },
   "outputs": [
    {
     "data": {
      "text/plain": [
       "{'sadness': 0,\n",
       " 'anger': 1,\n",
       " 'fear': 2,\n",
       " 'surprise': 3,\n",
       " 'joy': 4,\n",
       " 'love': 5,\n",
       " 'neutral': 6}"
      ]
     },
     "execution_count": 83,
     "metadata": {},
     "output_type": "execute_result"
    }
   ],
   "source": [
    "# reminder of the class_to_index mapping\n",
    "class_to_index_dict"
   ]
  },
  {
   "cell_type": "code",
   "execution_count": 84,
   "metadata": {
    "colab": {
     "base_uri": "https://localhost:8080/"
    },
    "executionInfo": {
     "elapsed": 9,
     "status": "ok",
     "timestamp": 1681014453083,
     "user": {
      "displayName": "Christian Montecillo",
      "userId": "02267957112746133644"
     },
     "user_tz": 360
    },
    "id": "YbXURKrqVaou",
    "outputId": "8949ec32-921e-45ba-d9ec-ad9874ca606b"
   },
   "outputs": [
    {
     "name": "stdout",
     "output_type": "stream",
     "text": [
      "test_df.iloc[7]:\n",
      " text        i never orgasm the feeling is lovely\n",
      "emotions                                    love\n",
      "Name: 7, dtype: object\n",
      "numeric label: 5\n"
     ]
    }
   ],
   "source": [
    "# confirming if it worked (change index) and they should line up with above dict\n",
    "index = 7\n",
    "test_labels = names_to_ids(class_to_index_dict, test_df['emotions'])\n",
    "print('test_df.iloc[7]:\\n', test_df.iloc[index])\n",
    "print('numeric label:', test_labels[index])"
   ]
  },
  {
   "cell_type": "markdown",
   "metadata": {
    "id": "3sQ_CJUk6cHw"
   },
   "source": [
    "### Evaluating the model using test_df!!!"
   ]
  },
  {
   "cell_type": "code",
   "execution_count": 85,
   "metadata": {
    "colab": {
     "base_uri": "https://localhost:8080/"
    },
    "executionInfo": {
     "elapsed": 9556,
     "status": "ok",
     "timestamp": 1681014462633,
     "user": {
      "displayName": "Christian Montecillo",
      "userId": "02267957112746133644"
     },
     "user_tz": 360
    },
    "id": "053kYMU11ufb",
    "outputId": "cb1e8b41-34c4-4461-8733-bc89de38003e"
   },
   "outputs": [
    {
     "name": "stdout",
     "output_type": "stream",
     "text": [
      "1187/1187 [==============================] - 10s 8ms/step - loss: 0.6105 - accuracy: 0.8011\n"
     ]
    },
    {
     "data": {
      "text/plain": [
       "[0.6105392575263977, 0.8011379837989807]"
      ]
     },
     "execution_count": 85,
     "metadata": {},
     "output_type": "execute_result"
    }
   ],
   "source": [
    "model.evaluate(padded_test_seq, test_labels)"
   ]
  },
  {
   "cell_type": "code",
   "execution_count": 86,
   "metadata": {
    "colab": {
     "base_uri": "https://localhost:8080/"
    },
    "executionInfo": {
     "elapsed": 946,
     "status": "ok",
     "timestamp": 1681014463574,
     "user": {
      "displayName": "Christian Montecillo",
      "userId": "02267957112746133644"
     },
     "user_tz": 360
    },
    "id": "wyu3GMil3mJX",
    "outputId": "6a3ac181-e449-42d3-850a-001a7055432e"
   },
   "outputs": [
    {
     "name": "stdout",
     "output_type": "stream",
     "text": [
      "Sentence: text        i wonder if thats how guys these days react ar...\n",
      "emotions                                                  joy\n",
      "Name: 14592, dtype: object\n",
      "Emotion: 4\n",
      "1/1 [==============================] - 1s 641ms/step\n",
      "Predicted Emotion: 4\n"
     ]
    }
   ],
   "source": [
    "# printing out a random tweet and its label, then calling\n",
    "# model.predict to see what the model predicts\n",
    "i = random.randint(0, len(test_labels) - 1)\n",
    "\n",
    "print('Sentence:', test_df.iloc[i])\n",
    "print('Emotion:', test_labels[i])\n",
    "\n",
    "p = model.predict(np.expand_dims(padded_test_seq[i], axis=0))[0]\n",
    "pred_class = np.argmax(p).astype('uint8')\n",
    "\n",
    "print('Predicted Emotion:', pred_class)"
   ]
  },
  {
   "cell_type": "code",
   "execution_count": 87,
   "metadata": {
    "colab": {
     "base_uri": "https://localhost:8080/"
    },
    "executionInfo": {
     "elapsed": 9934,
     "status": "ok",
     "timestamp": 1681014473694,
     "user": {
      "displayName": "Christian Montecillo",
      "userId": "02267957112746133644"
     },
     "user_tz": 360
    },
    "id": "91fRNuUubO7U",
    "outputId": "43150a73-67b0-4be4-f59a-e7f8313b269d"
   },
   "outputs": [
    {
     "name": "stdout",
     "output_type": "stream",
     "text": [
      "1187/1187 [==============================] - 8s 6ms/step\n"
     ]
    }
   ],
   "source": [
    "preds_imbalanced_test_set = model.predict(padded_test_seq)"
   ]
  },
  {
   "cell_type": "code",
   "execution_count": 88,
   "metadata": {
    "colab": {
     "base_uri": "https://localhost:8080/",
     "height": 1000
    },
    "executionInfo": {
     "elapsed": 746,
     "status": "ok",
     "timestamp": 1681014474437,
     "user": {
      "displayName": "Christian Montecillo",
      "userId": "02267957112746133644"
     },
     "user_tz": 360
    },
    "id": "0d24DBx7-Jft",
    "outputId": "841bfe2b-c077-44ac-c38b-36ac07718fc0"
   },
   "outputs": [
    {
     "name": "stderr",
     "output_type": "stream",
     "text": [
      "/usr/local/lib/python3.9/dist-packages/sklearn/metrics/_classification.py:1344: UndefinedMetricWarning: Precision and F-score are ill-defined and being set to 0.0 in labels with no predicted samples. Use `zero_division` parameter to control this behavior.\n",
      "  _warn_prf(average, modifier, msg_start, len(result))\n",
      "/usr/local/lib/python3.9/dist-packages/sklearn/metrics/_classification.py:1344: UndefinedMetricWarning: Precision and F-score are ill-defined and being set to 0.0 in labels with no predicted samples. Use `zero_division` parameter to control this behavior.\n",
      "  _warn_prf(average, modifier, msg_start, len(result))\n",
      "/usr/local/lib/python3.9/dist-packages/sklearn/metrics/_classification.py:1344: UndefinedMetricWarning: Precision and F-score are ill-defined and being set to 0.0 in labels with no predicted samples. Use `zero_division` parameter to control this behavior.\n",
      "  _warn_prf(average, modifier, msg_start, len(result))\n"
     ]
    },
    {
     "name": "stdout",
     "output_type": "stream",
     "text": [
      "Classification Report:\n",
      "\n",
      "               precision    recall  f1-score   support\n",
      "\n",
      "       anger       0.93      0.93      0.93     11587\n",
      "     sadness       0.71      0.79      0.75      5226\n",
      "        fear       0.45      0.88      0.59      3955\n",
      "    surprise       0.00      0.00      0.00       982\n",
      "         joy       0.95      0.93      0.94     12917\n",
      "     neutral       0.42      0.03      0.05      2434\n",
      "        love       0.00      0.00      0.00       860\n",
      "\n",
      "    accuracy                           0.80     37961\n",
      "   macro avg       0.49      0.51      0.47     37961\n",
      "weighted avg       0.78      0.80      0.77     37961\n",
      "\n",
      "Confusion Matrix:\n",
      "\n"
     ]
    },
    {
     "data": {
      "image/png": "[encoded data removed]",
      "text/plain": [
       "<Figure size 2000x700 with 2 Axes>"
      ]
     },
     "metadata": {},
     "output_type": "display_data"
    }
   ],
   "source": [
    "make_cr_cm(preds_imbalanced_test_set, test_labels)"
   ]
  },
  {
   "cell_type": "markdown",
   "metadata": {
    "id": "3-ekehsJ54yk"
   },
   "source": [
    "***\n",
    "## 8 Evaluating the model again, but with balanced_test_df!!!"
   ]
  },
  {
   "cell_type": "markdown",
   "metadata": {
    "id": "OSNNBLBDbU_J"
   },
   "source": [
    "### Padding the balanced test set for evaluation"
   ]
  },
  {
   "cell_type": "code",
   "execution_count": 89,
   "metadata": {
    "colab": {
     "base_uri": "https://localhost:8080/"
    },
    "executionInfo": {
     "elapsed": 21,
     "status": "ok",
     "timestamp": 1681014474438,
     "user": {
      "displayName": "Christian Montecillo",
      "userId": "02267957112746133644"
     },
     "user_tz": 360
    },
    "id": "z_w8r3SeVAWx",
    "outputId": "b9c71f95-f8ea-4a0f-8e9d-4d7fa47214c2"
   },
   "outputs": [
    {
     "data": {
      "text/plain": [
       "array([   2,   54,   56,   34,    6,  241,    9,    6,  548,   10,   30,\n",
       "        108,   30,   62,   24,    4,    3,   60,    6,  241,   10, 1104,\n",
       "         30,   36,  137,  726,    6, 1613,    9,  114,    1,    9,  110,\n",
       "         30,  835, 1634,   20,    7,  971,  881,    1,    1,    0,    0,\n",
       "          0,    0,    0,    0,    0,    0,    0,    0,    0,    0,    0,\n",
       "          0,    0,    0,    0,    0,    0,    0,    0,    0,    0,    0,\n",
       "          0,    0,    0,    0,    0,    0,    0,    0,    0,    0,    0,\n",
       "          0,    0,    0,    0,    0,    0,    0,    0,    0,    0,    0,\n",
       "          0,    0,    0,    0,    0,    0,    0,    0,    0,    0,    0,\n",
       "          0,    0,    0,    0,    0,    0,    0,    0,    0,    0,    0,\n",
       "          0,    0,    0,    0,    0,    0,    0,    0,    0,    0,    0,\n",
       "          0,    0,    0,    0,    0,    0,    0,    0,    0,    0,    0,\n",
       "          0,    0,    0,    0,    0,    0,    0,    0,    0,    0,    0,\n",
       "          0,    0,    0,    0,    0,    0,    0,    0,    0,    0,    0,\n",
       "          0,    0,    0,    0,    0,    0,    0,    0,    0,    0,    0,\n",
       "          0,    0,    0,    0,    0,    0,    0,    0,    0,    0,    0,\n",
       "          0,    0,    0,    0,    0,    0,    0,    0,    0,    0,    0,\n",
       "          0,    0,    0,    0,    0,    0,    0,    0,    0,    0,    0,\n",
       "          0,    0], dtype=int32)"
      ]
     },
     "execution_count": 89,
     "metadata": {},
     "output_type": "execute_result"
    }
   ],
   "source": [
    "padded_balanced_test_seq = get_sequences(tokenizer, balanced_test_df['text'])\n",
    "padded_balanced_test_seq[0]"
   ]
  },
  {
   "cell_type": "code",
   "execution_count": 90,
   "metadata": {
    "colab": {
     "base_uri": "https://localhost:8080/"
    },
    "executionInfo": {
     "elapsed": 16,
     "status": "ok",
     "timestamp": 1681014474439,
     "user": {
      "displayName": "Christian Montecillo",
      "userId": "02267957112746133644"
     },
     "user_tz": 360
    },
    "id": "cedRkeI7VPig",
    "outputId": "a3f7c8f5-cf95-4818-f326-9b2b000e73ca"
   },
   "outputs": [
    {
     "data": {
      "text/plain": [
       "{'sadness': 0,\n",
       " 'anger': 1,\n",
       " 'fear': 2,\n",
       " 'surprise': 3,\n",
       " 'joy': 4,\n",
       " 'love': 5,\n",
       " 'neutral': 6}"
      ]
     },
     "execution_count": 90,
     "metadata": {},
     "output_type": "execute_result"
    }
   ],
   "source": [
    "# reminder of the class_to_index mapping\n",
    "class_to_index_dict"
   ]
  },
  {
   "cell_type": "code",
   "execution_count": 91,
   "metadata": {
    "colab": {
     "base_uri": "https://localhost:8080/"
    },
    "executionInfo": {
     "elapsed": 14,
     "status": "ok",
     "timestamp": 1681014474440,
     "user": {
      "displayName": "Christian Montecillo",
      "userId": "02267957112746133644"
     },
     "user_tz": 360
    },
    "id": "hm-MP1dM3HQL",
    "outputId": "860d3c8b-dc51-4bd6-b0d1-4ada4888b8c0"
   },
   "outputs": [
    {
     "name": "stdout",
     "output_type": "stream",
     "text": [
      "balanced_test_df.iloc[7]:\n",
      " text        i feel like i m wronged\n",
      "emotions                      anger\n",
      "Name: 7, dtype: object\n",
      "numeric label: 1\n"
     ]
    }
   ],
   "source": [
    "# confirming if it worked (change index) and they should line up with above dict\n",
    "index = 7\n",
    "balanced_test_labels = names_to_ids(class_to_index_dict, balanced_test_df['emotions'])\n",
    "print('balanced_test_df.iloc[7]:\\n', balanced_test_df.iloc[index])\n",
    "print('numeric label:', balanced_test_labels[index])"
   ]
  },
  {
   "cell_type": "markdown",
   "metadata": {
    "id": "MJasH3YlbfCW"
   },
   "source": [
    "### Evaluating the model using balanced_test_df!!!"
   ]
  },
  {
   "cell_type": "code",
   "execution_count": 92,
   "metadata": {
    "colab": {
     "base_uri": "https://localhost:8080/"
    },
    "executionInfo": {
     "elapsed": 2383,
     "status": "ok",
     "timestamp": 1681014476812,
     "user": {
      "displayName": "Christian Montecillo",
      "userId": "02267957112746133644"
     },
     "user_tz": 360
    },
    "id": "1X2dswfs83FG",
    "outputId": "01490877-af2e-4767-ecca-be46bb734cf3"
   },
   "outputs": [
    {
     "name": "stdout",
     "output_type": "stream",
     "text": [
      "189/189 [==============================] - 1s 8ms/step - loss: 1.1880 - accuracy: 0.5100\n"
     ]
    },
    {
     "data": {
      "text/plain": [
       "[1.1879996061325073, 0.5099667906761169]"
      ]
     },
     "execution_count": 92,
     "metadata": {},
     "output_type": "execute_result"
    }
   ],
   "source": [
    "model.evaluate(padded_balanced_test_seq, balanced_test_labels)"
   ]
  },
  {
   "cell_type": "code",
   "execution_count": 93,
   "metadata": {
    "colab": {
     "base_uri": "https://localhost:8080/"
    },
    "executionInfo": {
     "elapsed": 208,
     "status": "ok",
     "timestamp": 1681014477018,
     "user": {
      "displayName": "Christian Montecillo",
      "userId": "02267957112746133644"
     },
     "user_tz": 360
    },
    "id": "v98-_YwrV2t_",
    "outputId": "dbb2d463-9a1e-4f7c-90b3-7c34bd89dfb5"
   },
   "outputs": [
    {
     "name": "stdout",
     "output_type": "stream",
     "text": [
      "Sentence: text        i feel like since i have shown commitment it m...\n",
      "emotions                                                  joy\n",
      "Name: 2357, dtype: object\n",
      "Emotion: 4\n",
      "1/1 [==============================] - 0s 22ms/step\n",
      "Predicted Emotion: 4\n"
     ]
    }
   ],
   "source": [
    "# printing out a random tweet and its label, then calling\n",
    "# model.predict to see what the model predicts\n",
    "i = random.randint(0, len(balanced_test_labels) - 1)\n",
    "\n",
    "print('Sentence:', balanced_test_df.iloc[i])\n",
    "print('Emotion:', balanced_test_labels[i])\n",
    "\n",
    "p = model.predict(np.expand_dims(padded_balanced_test_seq[i], axis=0))[0]\n",
    "pred_class = np.argmax(p).astype('uint8')\n",
    "\n",
    "print('Predicted Emotion:', pred_class)"
   ]
  },
  {
   "cell_type": "code",
   "execution_count": 94,
   "metadata": {
    "colab": {
     "base_uri": "https://localhost:8080/"
    },
    "executionInfo": {
     "elapsed": 1266,
     "status": "ok",
     "timestamp": 1681014478277,
     "user": {
      "displayName": "Christian Montecillo",
      "userId": "02267957112746133644"
     },
     "user_tz": 360
    },
    "id": "VtERWaIyiQ2k",
    "outputId": "6c61a8e9-c8e0-4794-f657-781431212852"
   },
   "outputs": [
    {
     "name": "stdout",
     "output_type": "stream",
     "text": [
      "189/189 [==============================] - 1s 6ms/step\n"
     ]
    }
   ],
   "source": [
    "preds_balanced_test_set = model.predict(padded_balanced_test_seq)"
   ]
  },
  {
   "cell_type": "code",
   "execution_count": 95,
   "metadata": {
    "colab": {
     "base_uri": "https://localhost:8080/",
     "height": 1000
    },
    "executionInfo": {
     "elapsed": 793,
     "status": "ok",
     "timestamp": 1681014479067,
     "user": {
      "displayName": "Christian Montecillo",
      "userId": "02267957112746133644"
     },
     "user_tz": 360
    },
    "id": "I5qqhODF-hyO",
    "outputId": "c7fe1e85-9236-4a53-cd3b-5d5b8efc55a5"
   },
   "outputs": [
    {
     "name": "stdout",
     "output_type": "stream",
     "text": [
      "Classification Report:\n",
      "\n",
      "               precision    recall  f1-score   support\n",
      "\n",
      "       anger       0.82      0.94      0.88       860\n",
      "     sadness       0.76      0.79      0.78       860\n",
      "        fear       0.25      0.88      0.38       860\n",
      "    surprise       0.00      0.00      0.00       860\n",
      "         joy       0.80      0.92      0.86       860\n",
      "     neutral       0.42      0.03      0.06       860\n",
      "        love       0.00      0.00      0.00       860\n",
      "\n",
      "    accuracy                           0.51      6020\n",
      "   macro avg       0.44      0.51      0.42      6020\n",
      "weighted avg       0.44      0.51      0.42      6020\n",
      "\n",
      "Confusion Matrix:\n",
      "\n"
     ]
    },
    {
     "name": "stderr",
     "output_type": "stream",
     "text": [
      "/usr/local/lib/python3.9/dist-packages/sklearn/metrics/_classification.py:1344: UndefinedMetricWarning: Precision and F-score are ill-defined and being set to 0.0 in labels with no predicted samples. Use `zero_division` parameter to control this behavior.\n",
      "  _warn_prf(average, modifier, msg_start, len(result))\n",
      "/usr/local/lib/python3.9/dist-packages/sklearn/metrics/_classification.py:1344: UndefinedMetricWarning: Precision and F-score are ill-defined and being set to 0.0 in labels with no predicted samples. Use `zero_division` parameter to control this behavior.\n",
      "  _warn_prf(average, modifier, msg_start, len(result))\n",
      "/usr/local/lib/python3.9/dist-packages/sklearn/metrics/_classification.py:1344: UndefinedMetricWarning: Precision and F-score are ill-defined and being set to 0.0 in labels with no predicted samples. Use `zero_division` parameter to control this behavior.\n",
      "  _warn_prf(average, modifier, msg_start, len(result))\n"
     ]
    },
    {
     "data": {
      "image/png": "[encoded data removed]",
      "text/plain": [
       "<Figure size 2000x700 with 2 Axes>"
      ]
     },
     "metadata": {},
     "output_type": "display_data"
    }
   ],
   "source": [
    "make_cr_cm(preds_balanced_test_set, balanced_test_labels)"
   ]
  }
 ],
 "metadata": {
  "accelerator": "GPU",
  "colab": {
   "provenance": [
    {
     "file_id": "1si0TY6-hs70VBlbYCS_6UQMdC1HopG7R",
     "timestamp": 1678417410096
    },
    {
     "file_id": "1GgqjlJKTRlHcJ97Fqdaa2dssTvFjb7jH",
     "timestamp": 1677994986960
    }
   ]
  },
  "gpuClass": "standard",
  "kernelspec": {
   "display_name": "Python 3 (ipykernel)",
   "language": "python",
   "name": "python3"
  },
  "language_info": {
   "codemirror_mode": {
    "name": "ipython",
    "version": 3
   },
   "file_extension": ".py",
   "mimetype": "text/x-python",
   "name": "python",
   "nbconvert_exporter": "python",
   "pygments_lexer": "ipython3",
   "version": "3.9.12"
  }
 },
 "nbformat": 4,
 "nbformat_minor": 1
}
