{
 "cells": [
  {
   "cell_type": "markdown",
   "metadata": {
    "id": "z9rigx9lYp0r"
   },
   "source": [
    "***\n",
    "# Base Bi-LSTM Model using only 68k training and 20k of val of the original data of 90% training<br>\n",
    "***"
   ]
  },
  {
   "cell_type": "markdown",
   "metadata": {
    "id": "kX3XryQmcWhL"
   },
   "source": [
    "***\n",
    "## 1 Load the train/val/test/balanced test datasets"
   ]
  },
  {
   "cell_type": "code",
   "execution_count": 1,
   "metadata": {
    "colab": {
     "base_uri": "https://localhost:8080/"
    },
    "executionInfo": {
     "elapsed": 19236,
     "status": "ok",
     "timestamp": 1681002494473,
     "user": {
      "displayName": "Christian Montecillo",
      "userId": "02267957112746133644"
     },
     "user_tz": 360
    },
    "id": "06sIOQnaaF9P",
    "outputId": "fa5c4ad0-bf69-44e0-87e1-eb7ea4f36663"
   },
   "outputs": [
    {
     "name": "stdout",
     "output_type": "stream",
     "text": [
      "Mounted at /content/gdrive\n"
     ]
    }
   ],
   "source": [
    "import pandas as pd\n",
    "import numpy as np\n",
    "\n",
    "# mount google drive\n",
    "from google.colab import drive \n",
    "drive.mount('/content/gdrive')"
   ]
  },
  {
   "cell_type": "code",
   "execution_count": 2,
   "metadata": {
    "executionInfo": {
     "elapsed": 3355,
     "status": "ok",
     "timestamp": 1681002497824,
     "user": {
      "displayName": "Christian Montecillo",
      "userId": "02267957112746133644"
     },
     "user_tz": 360
    },
    "id": "9j2cEQQtYMBR"
   },
   "outputs": [],
   "source": [
    "# read from the google drive\n",
    "project_folder = '/content/gdrive/MyDrive/266_Final_Project_Folder'\n",
    "\n",
    "version = '_68k_20k'\n",
    "\n",
    "train_source = project_folder + '/datasets/train_data_imbalanced_stratified_no_dupe' + version + '.csv'\n",
    "test_source = project_folder + '/datasets/test_data_imbalanced_stratified_no_dupe.csv'\n",
    "val_source = project_folder + '/datasets/validation_data_imbalanced_stratified_no_dupe' + version + '.csv'\n",
    "balanced_test_source = project_folder + '/datasets/test_data_balanced_no_dupe.csv'\n",
    "\n",
    "# Load the dfs\n",
    "train_df = pd.read_csv(train_source)\n",
    "test_df = pd.read_csv(test_source)\n",
    "val_df = pd.read_csv(val_source)\n",
    "balanced_test_df = pd.read_csv(balanced_test_source)\n",
    "\n",
    "# drop the tweet_id column\n",
    "train_df.drop(columns=train_df.columns[0], axis=1, inplace=True)\n",
    "test_df.drop(columns=test_df.columns[0], axis=1, inplace=True)\n",
    "val_df.drop(columns=val_df.columns[0], axis=1, inplace=True)\n",
    "balanced_test_df.drop(columns=balanced_test_df.columns[0], axis=1, inplace=True)"
   ]
  },
  {
   "cell_type": "markdown",
   "metadata": {
    "id": "IbaQ2JZUcJcH"
   },
   "source": [
    "### Confirm no overlapping records "
   ]
  },
  {
   "cell_type": "code",
   "execution_count": 3,
   "metadata": {
    "colab": {
     "base_uri": "https://localhost:8080/"
    },
    "executionInfo": {
     "elapsed": 519,
     "status": "ok",
     "timestamp": 1681002498336,
     "user": {
      "displayName": "Christian Montecillo",
      "userId": "02267957112746133644"
     },
     "user_tz": 360
    },
    "id": "PIydFV55QM8H",
    "outputId": "a571d0f1-ad35-4950-bed9-009ebc09816e"
   },
   "outputs": [
    {
     "name": "stdout",
     "output_type": "stream",
     "text": [
      "Number of overlapping records, train-val: 0\n",
      "Number of overlapping records, val-train: 0\n",
      "Number of overlapping records, train-test: 0\n",
      "Number of overlapping records, test-train: 0\n",
      "Number of overlapping records, train-balanced test: 0\n",
      "Number of overlapping records, balanced test, train: 0\n"
     ]
    }
   ],
   "source": [
    "# Check if there are any records in train_df that are in val_df\n",
    "overlap = train_df['text'].isin(val_df['text'])\n",
    "print(f\"Number of overlapping records, train-val: {overlap.sum()}\")\n",
    "\n",
    "# Check if there are any records in val_df that are in train_df\n",
    "overlap = val_df['text'].isin(train_df['text'])\n",
    "print(f\"Number of overlapping records, val-train: {overlap.sum()}\")\n",
    "\n",
    "\n",
    "# Check if there are any records in train_df that are in test_df\n",
    "overlap = train_df['text'].isin(test_df['text'])\n",
    "print(f\"Number of overlapping records, train-test: {overlap.sum()}\")\n",
    "\n",
    "# Check if there are any records in test_df that are in train_df\n",
    "overlap = test_df['text'].isin(train_df['text'])\n",
    "print(f\"Number of overlapping records, test-train: {overlap.sum()}\")\n",
    "\n",
    "\n",
    "# Check if there are any records in train_df that are in balanced_test_df\n",
    "overlap = train_df['text'].isin(balanced_test_df['text'])\n",
    "print(f\"Number of overlapping records, train-balanced test: {overlap.sum()}\")\n",
    "\n",
    "# Check if there are any records in train_df that are in balanced_test_df\n",
    "overlap = balanced_test_df['text'].isin(train_df['text'])\n",
    "print(f\"Number of overlapping records, balanced test, train: {overlap.sum()}\")"
   ]
  },
  {
   "cell_type": "code",
   "execution_count": 4,
   "metadata": {
    "colab": {
     "base_uri": "https://localhost:8080/",
     "height": 424
    },
    "executionInfo": {
     "elapsed": 17,
     "status": "ok",
     "timestamp": 1681002498337,
     "user": {
      "displayName": "Christian Montecillo",
      "userId": "02267957112746133644"
     },
     "user_tz": 360
    },
    "id": "7W2PlC_Ulv0O",
    "outputId": "bb8d5c5f-bffc-4c96-a347-902106a891a0"
   },
   "outputs": [
    {
     "data": {
      "text/html": [
       "\n",
       "  <div id=\"df-035cd1f6-0bb8-4e44-aff3-854b2e324d3a\">\n",
       "    <div class=\"colab-df-container\">\n",
       "      <div>\n",
       "<style scoped>\n",
       "    .dataframe tbody tr th:only-of-type {\n",
       "        vertical-align: middle;\n",
       "    }\n",
       "\n",
       "    .dataframe tbody tr th {\n",
       "        vertical-align: top;\n",
       "    }\n",
       "\n",
       "    .dataframe thead th {\n",
       "        text-align: right;\n",
       "    }\n",
       "</style>\n",
       "<table border=\"1\" class=\"dataframe\">\n",
       "  <thead>\n",
       "    <tr style=\"text-align: right;\">\n",
       "      <th></th>\n",
       "      <th>text</th>\n",
       "      <th>emotions</th>\n",
       "    </tr>\n",
       "  </thead>\n",
       "  <tbody>\n",
       "    <tr>\n",
       "      <th>0</th>\n",
       "      <td>i think i have been able to hide my feelings f...</td>\n",
       "      <td>joy</td>\n",
       "    </tr>\n",
       "    <tr>\n",
       "      <th>1</th>\n",
       "      <td>i wont even go into the details because thinki...</td>\n",
       "      <td>fear</td>\n",
       "    </tr>\n",
       "    <tr>\n",
       "      <th>2</th>\n",
       "      <td>i feel like even drowning would be rather glam...</td>\n",
       "      <td>joy</td>\n",
       "    </tr>\n",
       "    <tr>\n",
       "      <th>3</th>\n",
       "      <td>i was feeling it as we walked to the restauran...</td>\n",
       "      <td>joy</td>\n",
       "    </tr>\n",
       "    <tr>\n",
       "      <th>4</th>\n",
       "      <td>i wasn t happy about being made to feel foolis...</td>\n",
       "      <td>sadness</td>\n",
       "    </tr>\n",
       "    <tr>\n",
       "      <th>...</th>\n",
       "      <td>...</td>\n",
       "      <td>...</td>\n",
       "    </tr>\n",
       "    <tr>\n",
       "      <th>68323</th>\n",
       "      <td>i feel we all complain too much this is a gene...</td>\n",
       "      <td>joy</td>\n",
       "    </tr>\n",
       "    <tr>\n",
       "      <th>68324</th>\n",
       "      <td>i found myself feeling sympathetic toward him ...</td>\n",
       "      <td>love</td>\n",
       "    </tr>\n",
       "    <tr>\n",
       "      <th>68325</th>\n",
       "      <td>i know that i have the most incredible friends...</td>\n",
       "      <td>sadness</td>\n",
       "    </tr>\n",
       "    <tr>\n",
       "      <th>68326</th>\n",
       "      <td>i feel that he is also waking up spiritually a...</td>\n",
       "      <td>joy</td>\n",
       "    </tr>\n",
       "    <tr>\n",
       "      <th>68327</th>\n",
       "      <td>i think i want to hate someone my anger usuall...</td>\n",
       "      <td>sadness</td>\n",
       "    </tr>\n",
       "  </tbody>\n",
       "</table>\n",
       "<p>68328 rows × 2 columns</p>\n",
       "</div>\n",
       "      <button class=\"colab-df-convert\" onclick=\"convertToInteractive('df-035cd1f6-0bb8-4e44-aff3-854b2e324d3a')\"\n",
       "              title=\"Convert this dataframe to an interactive table.\"\n",
       "              style=\"display:none;\">\n",
       "        \n",
       "  <svg xmlns=\"http://www.w3.org/2000/svg\" height=\"24px\"viewBox=\"0 0 24 24\"\n",
       "       width=\"24px\">\n",
       "    <path d=\"M0 0h24v24H0V0z\" fill=\"none\"/>\n",
       "    <path d=\"M18.56 5.44l.94 2.06.94-2.06 2.06-.94-2.06-.94-.94-2.06-.94 2.06-2.06.94zm-11 1L8.5 8.5l.94-2.06 2.06-.94-2.06-.94L8.5 2.5l-.94 2.06-2.06.94zm10 10l.94 2.06.94-2.06 2.06-.94-2.06-.94-.94-2.06-.94 2.06-2.06.94z\"/><path d=\"M17.41 7.96l-1.37-1.37c-.4-.4-.92-.59-1.43-.59-.52 0-1.04.2-1.43.59L10.3 9.45l-7.72 7.72c-.78.78-.78 2.05 0 2.83L4 21.41c.39.39.9.59 1.41.59.51 0 1.02-.2 1.41-.59l7.78-7.78 2.81-2.81c.8-.78.8-2.07 0-2.86zM5.41 20L4 18.59l7.72-7.72 1.47 1.35L5.41 20z\"/>\n",
       "  </svg>\n",
       "      </button>\n",
       "      \n",
       "  <style>\n",
       "    .colab-df-container {\n",
       "      display:flex;\n",
       "      flex-wrap:wrap;\n",
       "      gap: 12px;\n",
       "    }\n",
       "\n",
       "    .colab-df-convert {\n",
       "      background-color: #E8F0FE;\n",
       "      border: none;\n",
       "      border-radius: 50%;\n",
       "      cursor: pointer;\n",
       "      display: none;\n",
       "      fill: #1967D2;\n",
       "      height: 32px;\n",
       "      padding: 0 0 0 0;\n",
       "      width: 32px;\n",
       "    }\n",
       "\n",
       "    .colab-df-convert:hover {\n",
       "      background-color: #E2EBFA;\n",
       "      box-shadow: 0px 1px 2px rgba(60, 64, 67, 0.3), 0px 1px 3px 1px rgba(60, 64, 67, 0.15);\n",
       "      fill: #174EA6;\n",
       "    }\n",
       "\n",
       "    [theme=dark] .colab-df-convert {\n",
       "      background-color: #3B4455;\n",
       "      fill: #D2E3FC;\n",
       "    }\n",
       "\n",
       "    [theme=dark] .colab-df-convert:hover {\n",
       "      background-color: #434B5C;\n",
       "      box-shadow: 0px 1px 3px 1px rgba(0, 0, 0, 0.15);\n",
       "      filter: drop-shadow(0px 1px 2px rgba(0, 0, 0, 0.3));\n",
       "      fill: #FFFFFF;\n",
       "    }\n",
       "  </style>\n",
       "\n",
       "      <script>\n",
       "        const buttonEl =\n",
       "          document.querySelector('#df-035cd1f6-0bb8-4e44-aff3-854b2e324d3a button.colab-df-convert');\n",
       "        buttonEl.style.display =\n",
       "          google.colab.kernel.accessAllowed ? 'block' : 'none';\n",
       "\n",
       "        async function convertToInteractive(key) {\n",
       "          const element = document.querySelector('#df-035cd1f6-0bb8-4e44-aff3-854b2e324d3a');\n",
       "          const dataTable =\n",
       "            await google.colab.kernel.invokeFunction('convertToInteractive',\n",
       "                                                     [key], {});\n",
       "          if (!dataTable) return;\n",
       "\n",
       "          const docLinkHtml = 'Like what you see? Visit the ' +\n",
       "            '<a target=\"_blank\" href=https://colab.research.google.com/notebooks/data_table.ipynb>data table notebook</a>'\n",
       "            + ' to learn more about interactive tables.';\n",
       "          element.innerHTML = '';\n",
       "          dataTable['output_type'] = 'display_data';\n",
       "          await google.colab.output.renderOutput(dataTable, element);\n",
       "          const docLink = document.createElement('div');\n",
       "          docLink.innerHTML = docLinkHtml;\n",
       "          element.appendChild(docLink);\n",
       "        }\n",
       "      </script>\n",
       "    </div>\n",
       "  </div>\n",
       "  "
      ],
      "text/plain": [
       "                                                    text emotions\n",
       "0      i think i have been able to hide my feelings f...      joy\n",
       "1      i wont even go into the details because thinki...     fear\n",
       "2      i feel like even drowning would be rather glam...      joy\n",
       "3      i was feeling it as we walked to the restauran...      joy\n",
       "4      i wasn t happy about being made to feel foolis...  sadness\n",
       "...                                                  ...      ...\n",
       "68323  i feel we all complain too much this is a gene...      joy\n",
       "68324  i found myself feeling sympathetic toward him ...     love\n",
       "68325  i know that i have the most incredible friends...  sadness\n",
       "68326  i feel that he is also waking up spiritually a...      joy\n",
       "68327  i think i want to hate someone my anger usuall...  sadness\n",
       "\n",
       "[68328 rows x 2 columns]"
      ]
     },
     "execution_count": 4,
     "metadata": {},
     "output_type": "execute_result"
    }
   ],
   "source": [
    "train_df"
   ]
  },
  {
   "cell_type": "code",
   "execution_count": 5,
   "metadata": {
    "colab": {
     "base_uri": "https://localhost:8080/",
     "height": 424
    },
    "executionInfo": {
     "elapsed": 14,
     "status": "ok",
     "timestamp": 1681002498338,
     "user": {
      "displayName": "Christian Montecillo",
      "userId": "02267957112746133644"
     },
     "user_tz": 360
    },
    "id": "DbdHIPy4l0s_",
    "outputId": "f466b649-53e3-4398-b2ac-9c6e04cc1076"
   },
   "outputs": [
    {
     "data": {
      "text/html": [
       "\n",
       "  <div id=\"df-40410947-0a20-4614-b8bd-7a6c3f81b9d6\">\n",
       "    <div class=\"colab-df-container\">\n",
       "      <div>\n",
       "<style scoped>\n",
       "    .dataframe tbody tr th:only-of-type {\n",
       "        vertical-align: middle;\n",
       "    }\n",
       "\n",
       "    .dataframe tbody tr th {\n",
       "        vertical-align: top;\n",
       "    }\n",
       "\n",
       "    .dataframe thead th {\n",
       "        text-align: right;\n",
       "    }\n",
       "</style>\n",
       "<table border=\"1\" class=\"dataframe\">\n",
       "  <thead>\n",
       "    <tr style=\"text-align: right;\">\n",
       "      <th></th>\n",
       "      <th>text</th>\n",
       "      <th>emotions</th>\n",
       "    </tr>\n",
       "  </thead>\n",
       "  <tbody>\n",
       "    <tr>\n",
       "      <th>0</th>\n",
       "      <td>i was feeling stupidly loyal to korea and unco...</td>\n",
       "      <td>love</td>\n",
       "    </tr>\n",
       "    <tr>\n",
       "      <th>1</th>\n",
       "      <td>i use them both to do something that each prom...</td>\n",
       "      <td>joy</td>\n",
       "    </tr>\n",
       "    <tr>\n",
       "      <th>2</th>\n",
       "      <td>i welcome spirits and i hope they feel welcomed</td>\n",
       "      <td>joy</td>\n",
       "    </tr>\n",
       "    <tr>\n",
       "      <th>3</th>\n",
       "      <td>i went through everything you all have too and...</td>\n",
       "      <td>joy</td>\n",
       "    </tr>\n",
       "    <tr>\n",
       "      <th>4</th>\n",
       "      <td>i was feeling more lively</td>\n",
       "      <td>joy</td>\n",
       "    </tr>\n",
       "    <tr>\n",
       "      <th>...</th>\n",
       "      <td>...</td>\n",
       "      <td>...</td>\n",
       "    </tr>\n",
       "    <tr>\n",
       "      <th>20494</th>\n",
       "      <td>im really good at feeling overwhelmed but igno...</td>\n",
       "      <td>fear</td>\n",
       "    </tr>\n",
       "    <tr>\n",
       "      <th>20495</th>\n",
       "      <td>i feel a blast of cold as the freezing air and...</td>\n",
       "      <td>anger</td>\n",
       "    </tr>\n",
       "    <tr>\n",
       "      <th>20496</th>\n",
       "      <td>i got out of the car and ran away feeling insu...</td>\n",
       "      <td>anger</td>\n",
       "    </tr>\n",
       "    <tr>\n",
       "      <th>20497</th>\n",
       "      <td>i kind of feel disgusted at what</td>\n",
       "      <td>anger</td>\n",
       "    </tr>\n",
       "    <tr>\n",
       "      <th>20498</th>\n",
       "      <td>i do not feel hesitant about sharing some of t...</td>\n",
       "      <td>fear</td>\n",
       "    </tr>\n",
       "  </tbody>\n",
       "</table>\n",
       "<p>20499 rows × 2 columns</p>\n",
       "</div>\n",
       "      <button class=\"colab-df-convert\" onclick=\"convertToInteractive('df-40410947-0a20-4614-b8bd-7a6c3f81b9d6')\"\n",
       "              title=\"Convert this dataframe to an interactive table.\"\n",
       "              style=\"display:none;\">\n",
       "        \n",
       "  <svg xmlns=\"http://www.w3.org/2000/svg\" height=\"24px\"viewBox=\"0 0 24 24\"\n",
       "       width=\"24px\">\n",
       "    <path d=\"M0 0h24v24H0V0z\" fill=\"none\"/>\n",
       "    <path d=\"M18.56 5.44l.94 2.06.94-2.06 2.06-.94-2.06-.94-.94-2.06-.94 2.06-2.06.94zm-11 1L8.5 8.5l.94-2.06 2.06-.94-2.06-.94L8.5 2.5l-.94 2.06-2.06.94zm10 10l.94 2.06.94-2.06 2.06-.94-2.06-.94-.94-2.06-.94 2.06-2.06.94z\"/><path d=\"M17.41 7.96l-1.37-1.37c-.4-.4-.92-.59-1.43-.59-.52 0-1.04.2-1.43.59L10.3 9.45l-7.72 7.72c-.78.78-.78 2.05 0 2.83L4 21.41c.39.39.9.59 1.41.59.51 0 1.02-.2 1.41-.59l7.78-7.78 2.81-2.81c.8-.78.8-2.07 0-2.86zM5.41 20L4 18.59l7.72-7.72 1.47 1.35L5.41 20z\"/>\n",
       "  </svg>\n",
       "      </button>\n",
       "      \n",
       "  <style>\n",
       "    .colab-df-container {\n",
       "      display:flex;\n",
       "      flex-wrap:wrap;\n",
       "      gap: 12px;\n",
       "    }\n",
       "\n",
       "    .colab-df-convert {\n",
       "      background-color: #E8F0FE;\n",
       "      border: none;\n",
       "      border-radius: 50%;\n",
       "      cursor: pointer;\n",
       "      display: none;\n",
       "      fill: #1967D2;\n",
       "      height: 32px;\n",
       "      padding: 0 0 0 0;\n",
       "      width: 32px;\n",
       "    }\n",
       "\n",
       "    .colab-df-convert:hover {\n",
       "      background-color: #E2EBFA;\n",
       "      box-shadow: 0px 1px 2px rgba(60, 64, 67, 0.3), 0px 1px 3px 1px rgba(60, 64, 67, 0.15);\n",
       "      fill: #174EA6;\n",
       "    }\n",
       "\n",
       "    [theme=dark] .colab-df-convert {\n",
       "      background-color: #3B4455;\n",
       "      fill: #D2E3FC;\n",
       "    }\n",
       "\n",
       "    [theme=dark] .colab-df-convert:hover {\n",
       "      background-color: #434B5C;\n",
       "      box-shadow: 0px 1px 3px 1px rgba(0, 0, 0, 0.15);\n",
       "      filter: drop-shadow(0px 1px 2px rgba(0, 0, 0, 0.3));\n",
       "      fill: #FFFFFF;\n",
       "    }\n",
       "  </style>\n",
       "\n",
       "      <script>\n",
       "        const buttonEl =\n",
       "          document.querySelector('#df-40410947-0a20-4614-b8bd-7a6c3f81b9d6 button.colab-df-convert');\n",
       "        buttonEl.style.display =\n",
       "          google.colab.kernel.accessAllowed ? 'block' : 'none';\n",
       "\n",
       "        async function convertToInteractive(key) {\n",
       "          const element = document.querySelector('#df-40410947-0a20-4614-b8bd-7a6c3f81b9d6');\n",
       "          const dataTable =\n",
       "            await google.colab.kernel.invokeFunction('convertToInteractive',\n",
       "                                                     [key], {});\n",
       "          if (!dataTable) return;\n",
       "\n",
       "          const docLinkHtml = 'Like what you see? Visit the ' +\n",
       "            '<a target=\"_blank\" href=https://colab.research.google.com/notebooks/data_table.ipynb>data table notebook</a>'\n",
       "            + ' to learn more about interactive tables.';\n",
       "          element.innerHTML = '';\n",
       "          dataTable['output_type'] = 'display_data';\n",
       "          await google.colab.output.renderOutput(dataTable, element);\n",
       "          const docLink = document.createElement('div');\n",
       "          docLink.innerHTML = docLinkHtml;\n",
       "          element.appendChild(docLink);\n",
       "        }\n",
       "      </script>\n",
       "    </div>\n",
       "  </div>\n",
       "  "
      ],
      "text/plain": [
       "                                                    text emotions\n",
       "0      i was feeling stupidly loyal to korea and unco...     love\n",
       "1      i use them both to do something that each prom...      joy\n",
       "2        i welcome spirits and i hope they feel welcomed      joy\n",
       "3      i went through everything you all have too and...      joy\n",
       "4                              i was feeling more lively      joy\n",
       "...                                                  ...      ...\n",
       "20494  im really good at feeling overwhelmed but igno...     fear\n",
       "20495  i feel a blast of cold as the freezing air and...    anger\n",
       "20496  i got out of the car and ran away feeling insu...    anger\n",
       "20497                   i kind of feel disgusted at what    anger\n",
       "20498  i do not feel hesitant about sharing some of t...     fear\n",
       "\n",
       "[20499 rows x 2 columns]"
      ]
     },
     "execution_count": 5,
     "metadata": {},
     "output_type": "execute_result"
    }
   ],
   "source": [
    "val_df"
   ]
  },
  {
   "cell_type": "code",
   "execution_count": 6,
   "metadata": {
    "colab": {
     "base_uri": "https://localhost:8080/",
     "height": 424
    },
    "executionInfo": {
     "elapsed": 13,
     "status": "ok",
     "timestamp": 1681002498338,
     "user": {
      "displayName": "Christian Montecillo",
      "userId": "02267957112746133644"
     },
     "user_tz": 360
    },
    "id": "-fIcWgjQly2u",
    "outputId": "ae1cab68-7e88-4ddb-9a27-0b1138c1d4cb"
   },
   "outputs": [
    {
     "data": {
      "text/html": [
       "\n",
       "  <div id=\"df-910a327e-2f8a-4068-827a-eb400cb74d32\">\n",
       "    <div class=\"colab-df-container\">\n",
       "      <div>\n",
       "<style scoped>\n",
       "    .dataframe tbody tr th:only-of-type {\n",
       "        vertical-align: middle;\n",
       "    }\n",
       "\n",
       "    .dataframe tbody tr th {\n",
       "        vertical-align: top;\n",
       "    }\n",
       "\n",
       "    .dataframe thead th {\n",
       "        text-align: right;\n",
       "    }\n",
       "</style>\n",
       "<table border=\"1\" class=\"dataframe\">\n",
       "  <thead>\n",
       "    <tr style=\"text-align: right;\">\n",
       "      <th></th>\n",
       "      <th>text</th>\n",
       "      <th>emotions</th>\n",
       "    </tr>\n",
       "  </thead>\n",
       "  <tbody>\n",
       "    <tr>\n",
       "      <th>0</th>\n",
       "      <td>i feel impatient to get moving forward</td>\n",
       "      <td>anger</td>\n",
       "    </tr>\n",
       "    <tr>\n",
       "      <th>1</th>\n",
       "      <td>i have decided to open wb to a few thoughtful ...</td>\n",
       "      <td>joy</td>\n",
       "    </tr>\n",
       "    <tr>\n",
       "      <th>2</th>\n",
       "      <td>i resolved at that moment to do my bit when i ...</td>\n",
       "      <td>sadness</td>\n",
       "    </tr>\n",
       "    <tr>\n",
       "      <th>3</th>\n",
       "      <td>i like his tip especially if you need assistan...</td>\n",
       "      <td>joy</td>\n",
       "    </tr>\n",
       "    <tr>\n",
       "      <th>4</th>\n",
       "      <td>i feel that if he did not want to be on the sh...</td>\n",
       "      <td>joy</td>\n",
       "    </tr>\n",
       "    <tr>\n",
       "      <th>...</th>\n",
       "      <td>...</td>\n",
       "      <td>...</td>\n",
       "    </tr>\n",
       "    <tr>\n",
       "      <th>37956</th>\n",
       "      <td>i am serving alongside other leaders in the de...</td>\n",
       "      <td>fear</td>\n",
       "    </tr>\n",
       "    <tr>\n",
       "      <th>37957</th>\n",
       "      <td>i am a little tipsy and feeling quite fond of ...</td>\n",
       "      <td>love</td>\n",
       "    </tr>\n",
       "    <tr>\n",
       "      <th>37958</th>\n",
       "      <td>i made my way to the front of the stage feelin...</td>\n",
       "      <td>fear</td>\n",
       "    </tr>\n",
       "    <tr>\n",
       "      <th>37959</th>\n",
       "      <td>i feel like nicholas is a really smart guy and...</td>\n",
       "      <td>joy</td>\n",
       "    </tr>\n",
       "    <tr>\n",
       "      <th>37960</th>\n",
       "      <td>i have been praying spiritually disciplining m...</td>\n",
       "      <td>joy</td>\n",
       "    </tr>\n",
       "  </tbody>\n",
       "</table>\n",
       "<p>37961 rows × 2 columns</p>\n",
       "</div>\n",
       "      <button class=\"colab-df-convert\" onclick=\"convertToInteractive('df-910a327e-2f8a-4068-827a-eb400cb74d32')\"\n",
       "              title=\"Convert this dataframe to an interactive table.\"\n",
       "              style=\"display:none;\">\n",
       "        \n",
       "  <svg xmlns=\"http://www.w3.org/2000/svg\" height=\"24px\"viewBox=\"0 0 24 24\"\n",
       "       width=\"24px\">\n",
       "    <path d=\"M0 0h24v24H0V0z\" fill=\"none\"/>\n",
       "    <path d=\"M18.56 5.44l.94 2.06.94-2.06 2.06-.94-2.06-.94-.94-2.06-.94 2.06-2.06.94zm-11 1L8.5 8.5l.94-2.06 2.06-.94-2.06-.94L8.5 2.5l-.94 2.06-2.06.94zm10 10l.94 2.06.94-2.06 2.06-.94-2.06-.94-.94-2.06-.94 2.06-2.06.94z\"/><path d=\"M17.41 7.96l-1.37-1.37c-.4-.4-.92-.59-1.43-.59-.52 0-1.04.2-1.43.59L10.3 9.45l-7.72 7.72c-.78.78-.78 2.05 0 2.83L4 21.41c.39.39.9.59 1.41.59.51 0 1.02-.2 1.41-.59l7.78-7.78 2.81-2.81c.8-.78.8-2.07 0-2.86zM5.41 20L4 18.59l7.72-7.72 1.47 1.35L5.41 20z\"/>\n",
       "  </svg>\n",
       "      </button>\n",
       "      \n",
       "  <style>\n",
       "    .colab-df-container {\n",
       "      display:flex;\n",
       "      flex-wrap:wrap;\n",
       "      gap: 12px;\n",
       "    }\n",
       "\n",
       "    .colab-df-convert {\n",
       "      background-color: #E8F0FE;\n",
       "      border: none;\n",
       "      border-radius: 50%;\n",
       "      cursor: pointer;\n",
       "      display: none;\n",
       "      fill: #1967D2;\n",
       "      height: 32px;\n",
       "      padding: 0 0 0 0;\n",
       "      width: 32px;\n",
       "    }\n",
       "\n",
       "    .colab-df-convert:hover {\n",
       "      background-color: #E2EBFA;\n",
       "      box-shadow: 0px 1px 2px rgba(60, 64, 67, 0.3), 0px 1px 3px 1px rgba(60, 64, 67, 0.15);\n",
       "      fill: #174EA6;\n",
       "    }\n",
       "\n",
       "    [theme=dark] .colab-df-convert {\n",
       "      background-color: #3B4455;\n",
       "      fill: #D2E3FC;\n",
       "    }\n",
       "\n",
       "    [theme=dark] .colab-df-convert:hover {\n",
       "      background-color: #434B5C;\n",
       "      box-shadow: 0px 1px 3px 1px rgba(0, 0, 0, 0.15);\n",
       "      filter: drop-shadow(0px 1px 2px rgba(0, 0, 0, 0.3));\n",
       "      fill: #FFFFFF;\n",
       "    }\n",
       "  </style>\n",
       "\n",
       "      <script>\n",
       "        const buttonEl =\n",
       "          document.querySelector('#df-910a327e-2f8a-4068-827a-eb400cb74d32 button.colab-df-convert');\n",
       "        buttonEl.style.display =\n",
       "          google.colab.kernel.accessAllowed ? 'block' : 'none';\n",
       "\n",
       "        async function convertToInteractive(key) {\n",
       "          const element = document.querySelector('#df-910a327e-2f8a-4068-827a-eb400cb74d32');\n",
       "          const dataTable =\n",
       "            await google.colab.kernel.invokeFunction('convertToInteractive',\n",
       "                                                     [key], {});\n",
       "          if (!dataTable) return;\n",
       "\n",
       "          const docLinkHtml = 'Like what you see? Visit the ' +\n",
       "            '<a target=\"_blank\" href=https://colab.research.google.com/notebooks/data_table.ipynb>data table notebook</a>'\n",
       "            + ' to learn more about interactive tables.';\n",
       "          element.innerHTML = '';\n",
       "          dataTable['output_type'] = 'display_data';\n",
       "          await google.colab.output.renderOutput(dataTable, element);\n",
       "          const docLink = document.createElement('div');\n",
       "          docLink.innerHTML = docLinkHtml;\n",
       "          element.appendChild(docLink);\n",
       "        }\n",
       "      </script>\n",
       "    </div>\n",
       "  </div>\n",
       "  "
      ],
      "text/plain": [
       "                                                    text emotions\n",
       "0                 i feel impatient to get moving forward    anger\n",
       "1      i have decided to open wb to a few thoughtful ...      joy\n",
       "2      i resolved at that moment to do my bit when i ...  sadness\n",
       "3      i like his tip especially if you need assistan...      joy\n",
       "4      i feel that if he did not want to be on the sh...      joy\n",
       "...                                                  ...      ...\n",
       "37956  i am serving alongside other leaders in the de...     fear\n",
       "37957  i am a little tipsy and feeling quite fond of ...     love\n",
       "37958  i made my way to the front of the stage feelin...     fear\n",
       "37959  i feel like nicholas is a really smart guy and...      joy\n",
       "37960  i have been praying spiritually disciplining m...      joy\n",
       "\n",
       "[37961 rows x 2 columns]"
      ]
     },
     "execution_count": 6,
     "metadata": {},
     "output_type": "execute_result"
    }
   ],
   "source": [
    "test_df"
   ]
  },
  {
   "cell_type": "code",
   "execution_count": 7,
   "metadata": {
    "colab": {
     "base_uri": "https://localhost:8080/",
     "height": 424
    },
    "executionInfo": {
     "elapsed": 5,
     "status": "ok",
     "timestamp": 1681002498484,
     "user": {
      "displayName": "Christian Montecillo",
      "userId": "02267957112746133644"
     },
     "user_tz": 360
    },
    "id": "TiJHw1f3cDIn",
    "outputId": "541ea243-6aba-433e-9715-8805f226ed00"
   },
   "outputs": [
    {
     "data": {
      "text/html": [
       "\n",
       "  <div id=\"df-639eaf62-99c9-4fe0-a639-d025e776dcd2\">\n",
       "    <div class=\"colab-df-container\">\n",
       "      <div>\n",
       "<style scoped>\n",
       "    .dataframe tbody tr th:only-of-type {\n",
       "        vertical-align: middle;\n",
       "    }\n",
       "\n",
       "    .dataframe tbody tr th {\n",
       "        vertical-align: top;\n",
       "    }\n",
       "\n",
       "    .dataframe thead th {\n",
       "        text-align: right;\n",
       "    }\n",
       "</style>\n",
       "<table border=\"1\" class=\"dataframe\">\n",
       "  <thead>\n",
       "    <tr style=\"text-align: right;\">\n",
       "      <th></th>\n",
       "      <th>text</th>\n",
       "      <th>emotions</th>\n",
       "    </tr>\n",
       "  </thead>\n",
       "  <tbody>\n",
       "    <tr>\n",
       "      <th>0</th>\n",
       "      <td>i will get at the heart of the matter that you...</td>\n",
       "      <td>anger</td>\n",
       "    </tr>\n",
       "    <tr>\n",
       "      <th>1</th>\n",
       "      <td>i still feel selfish about it at times</td>\n",
       "      <td>anger</td>\n",
       "    </tr>\n",
       "    <tr>\n",
       "      <th>2</th>\n",
       "      <td>i feel a sarcastic emptyness and void in my life</td>\n",
       "      <td>anger</td>\n",
       "    </tr>\n",
       "    <tr>\n",
       "      <th>3</th>\n",
       "      <td>overeating a traditional type of food blood pu...</td>\n",
       "      <td>anger</td>\n",
       "    </tr>\n",
       "    <tr>\n",
       "      <th>4</th>\n",
       "      <td>i just have this feeling that im going to be b...</td>\n",
       "      <td>anger</td>\n",
       "    </tr>\n",
       "    <tr>\n",
       "      <th>...</th>\n",
       "      <td>...</td>\n",
       "      <td>...</td>\n",
       "    </tr>\n",
       "    <tr>\n",
       "      <th>6015</th>\n",
       "      <td>i am giving myself permission to feel funny aga</td>\n",
       "      <td>surprise</td>\n",
       "    </tr>\n",
       "    <tr>\n",
       "      <th>6016</th>\n",
       "      <td>i feel shocked angry confused</td>\n",
       "      <td>surprise</td>\n",
       "    </tr>\n",
       "    <tr>\n",
       "      <th>6017</th>\n",
       "      <td>im writing this blog post and feeling totally ...</td>\n",
       "      <td>surprise</td>\n",
       "    </tr>\n",
       "    <tr>\n",
       "      <th>6018</th>\n",
       "      <td>i feel this for all my grandchildren and with ...</td>\n",
       "      <td>surprise</td>\n",
       "    </tr>\n",
       "    <tr>\n",
       "      <th>6019</th>\n",
       "      <td>i think that s the prevailing feeling with all...</td>\n",
       "      <td>surprise</td>\n",
       "    </tr>\n",
       "  </tbody>\n",
       "</table>\n",
       "<p>6020 rows × 2 columns</p>\n",
       "</div>\n",
       "      <button class=\"colab-df-convert\" onclick=\"convertToInteractive('df-639eaf62-99c9-4fe0-a639-d025e776dcd2')\"\n",
       "              title=\"Convert this dataframe to an interactive table.\"\n",
       "              style=\"display:none;\">\n",
       "        \n",
       "  <svg xmlns=\"http://www.w3.org/2000/svg\" height=\"24px\"viewBox=\"0 0 24 24\"\n",
       "       width=\"24px\">\n",
       "    <path d=\"M0 0h24v24H0V0z\" fill=\"none\"/>\n",
       "    <path d=\"M18.56 5.44l.94 2.06.94-2.06 2.06-.94-2.06-.94-.94-2.06-.94 2.06-2.06.94zm-11 1L8.5 8.5l.94-2.06 2.06-.94-2.06-.94L8.5 2.5l-.94 2.06-2.06.94zm10 10l.94 2.06.94-2.06 2.06-.94-2.06-.94-.94-2.06-.94 2.06-2.06.94z\"/><path d=\"M17.41 7.96l-1.37-1.37c-.4-.4-.92-.59-1.43-.59-.52 0-1.04.2-1.43.59L10.3 9.45l-7.72 7.72c-.78.78-.78 2.05 0 2.83L4 21.41c.39.39.9.59 1.41.59.51 0 1.02-.2 1.41-.59l7.78-7.78 2.81-2.81c.8-.78.8-2.07 0-2.86zM5.41 20L4 18.59l7.72-7.72 1.47 1.35L5.41 20z\"/>\n",
       "  </svg>\n",
       "      </button>\n",
       "      \n",
       "  <style>\n",
       "    .colab-df-container {\n",
       "      display:flex;\n",
       "      flex-wrap:wrap;\n",
       "      gap: 12px;\n",
       "    }\n",
       "\n",
       "    .colab-df-convert {\n",
       "      background-color: #E8F0FE;\n",
       "      border: none;\n",
       "      border-radius: 50%;\n",
       "      cursor: pointer;\n",
       "      display: none;\n",
       "      fill: #1967D2;\n",
       "      height: 32px;\n",
       "      padding: 0 0 0 0;\n",
       "      width: 32px;\n",
       "    }\n",
       "\n",
       "    .colab-df-convert:hover {\n",
       "      background-color: #E2EBFA;\n",
       "      box-shadow: 0px 1px 2px rgba(60, 64, 67, 0.3), 0px 1px 3px 1px rgba(60, 64, 67, 0.15);\n",
       "      fill: #174EA6;\n",
       "    }\n",
       "\n",
       "    [theme=dark] .colab-df-convert {\n",
       "      background-color: #3B4455;\n",
       "      fill: #D2E3FC;\n",
       "    }\n",
       "\n",
       "    [theme=dark] .colab-df-convert:hover {\n",
       "      background-color: #434B5C;\n",
       "      box-shadow: 0px 1px 3px 1px rgba(0, 0, 0, 0.15);\n",
       "      filter: drop-shadow(0px 1px 2px rgba(0, 0, 0, 0.3));\n",
       "      fill: #FFFFFF;\n",
       "    }\n",
       "  </style>\n",
       "\n",
       "      <script>\n",
       "        const buttonEl =\n",
       "          document.querySelector('#df-639eaf62-99c9-4fe0-a639-d025e776dcd2 button.colab-df-convert');\n",
       "        buttonEl.style.display =\n",
       "          google.colab.kernel.accessAllowed ? 'block' : 'none';\n",
       "\n",
       "        async function convertToInteractive(key) {\n",
       "          const element = document.querySelector('#df-639eaf62-99c9-4fe0-a639-d025e776dcd2');\n",
       "          const dataTable =\n",
       "            await google.colab.kernel.invokeFunction('convertToInteractive',\n",
       "                                                     [key], {});\n",
       "          if (!dataTable) return;\n",
       "\n",
       "          const docLinkHtml = 'Like what you see? Visit the ' +\n",
       "            '<a target=\"_blank\" href=https://colab.research.google.com/notebooks/data_table.ipynb>data table notebook</a>'\n",
       "            + ' to learn more about interactive tables.';\n",
       "          element.innerHTML = '';\n",
       "          dataTable['output_type'] = 'display_data';\n",
       "          await google.colab.output.renderOutput(dataTable, element);\n",
       "          const docLink = document.createElement('div');\n",
       "          docLink.innerHTML = docLinkHtml;\n",
       "          element.appendChild(docLink);\n",
       "        }\n",
       "      </script>\n",
       "    </div>\n",
       "  </div>\n",
       "  "
      ],
      "text/plain": [
       "                                                   text  emotions\n",
       "0     i will get at the heart of the matter that you...     anger\n",
       "1                i still feel selfish about it at times     anger\n",
       "2      i feel a sarcastic emptyness and void in my life     anger\n",
       "3     overeating a traditional type of food blood pu...     anger\n",
       "4     i just have this feeling that im going to be b...     anger\n",
       "...                                                 ...       ...\n",
       "6015    i am giving myself permission to feel funny aga  surprise\n",
       "6016                      i feel shocked angry confused  surprise\n",
       "6017  im writing this blog post and feeling totally ...  surprise\n",
       "6018  i feel this for all my grandchildren and with ...  surprise\n",
       "6019  i think that s the prevailing feeling with all...  surprise\n",
       "\n",
       "[6020 rows x 2 columns]"
      ]
     },
     "execution_count": 7,
     "metadata": {},
     "output_type": "execute_result"
    }
   ],
   "source": [
    "balanced_test_df"
   ]
  },
  {
   "cell_type": "markdown",
   "metadata": {
    "id": "6IFXAvHAcWhN"
   },
   "source": [
    "***\n",
    "## 2 Tokenizer"
   ]
  },
  {
   "cell_type": "markdown",
   "metadata": {
    "id": "s4tMqwk8mRsF"
   },
   "source": [
    "### Find the top word count (frequency > 10)\n",
    "We'll use this number as our vocabulary size"
   ]
  },
  {
   "cell_type": "code",
   "execution_count": 8,
   "metadata": {
    "colab": {
     "base_uri": "https://localhost:8080/",
     "height": 424
    },
    "executionInfo": {
     "elapsed": 1458,
     "status": "ok",
     "timestamp": 1681002499939,
     "user": {
      "displayName": "Christian Montecillo",
      "userId": "02267957112746133644"
     },
     "user_tz": 360
    },
    "id": "WboHk47gn6Mm",
    "outputId": "65a60352-3d1c-4977-ee08-9acdfe07fb28"
   },
   "outputs": [
    {
     "data": {
      "text/html": [
       "\n",
       "  <div id=\"df-a117e60c-6e5e-4012-ac18-66f553deae41\">\n",
       "    <div class=\"colab-df-container\">\n",
       "      <div>\n",
       "<style scoped>\n",
       "    .dataframe tbody tr th:only-of-type {\n",
       "        vertical-align: middle;\n",
       "    }\n",
       "\n",
       "    .dataframe tbody tr th {\n",
       "        vertical-align: top;\n",
       "    }\n",
       "\n",
       "    .dataframe thead th {\n",
       "        text-align: right;\n",
       "    }\n",
       "</style>\n",
       "<table border=\"1\" class=\"dataframe\">\n",
       "  <thead>\n",
       "    <tr style=\"text-align: right;\">\n",
       "      <th></th>\n",
       "      <th>words</th>\n",
       "      <th>count</th>\n",
       "    </tr>\n",
       "  </thead>\n",
       "  <tbody>\n",
       "    <tr>\n",
       "      <th>0</th>\n",
       "      <td>!</td>\n",
       "      <td>7</td>\n",
       "    </tr>\n",
       "    <tr>\n",
       "      <th>1</th>\n",
       "      <td>!!</td>\n",
       "      <td>2</td>\n",
       "    </tr>\n",
       "    <tr>\n",
       "      <th>2</th>\n",
       "      <td>!!my</td>\n",
       "      <td>1</td>\n",
       "    </tr>\n",
       "    <tr>\n",
       "      <th>3</th>\n",
       "      <td>#&amp;lt;3criminy</td>\n",
       "      <td>1</td>\n",
       "    </tr>\n",
       "    <tr>\n",
       "      <th>4</th>\n",
       "      <td>#3wordsaftersex</td>\n",
       "      <td>1</td>\n",
       "    </tr>\n",
       "    <tr>\n",
       "      <th>...</th>\n",
       "      <td>...</td>\n",
       "      <td>...</td>\n",
       "    </tr>\n",
       "    <tr>\n",
       "      <th>36210</th>\n",
       "      <td>}</td>\n",
       "      <td>1</td>\n",
       "    </tr>\n",
       "    <tr>\n",
       "      <th>36211</th>\n",
       "      <td>~</td>\n",
       "      <td>1</td>\n",
       "    </tr>\n",
       "    <tr>\n",
       "      <th>36212</th>\n",
       "      <td>ï¿½</td>\n",
       "      <td>4</td>\n",
       "    </tr>\n",
       "    <tr>\n",
       "      <th>36213</th>\n",
       "      <td>ï¿½WHYYY????????</td>\n",
       "      <td>1</td>\n",
       "    </tr>\n",
       "    <tr>\n",
       "      <th>36214</th>\n",
       "      <td>ï¿½why?</td>\n",
       "      <td>1</td>\n",
       "    </tr>\n",
       "  </tbody>\n",
       "</table>\n",
       "<p>36215 rows × 2 columns</p>\n",
       "</div>\n",
       "      <button class=\"colab-df-convert\" onclick=\"convertToInteractive('df-a117e60c-6e5e-4012-ac18-66f553deae41')\"\n",
       "              title=\"Convert this dataframe to an interactive table.\"\n",
       "              style=\"display:none;\">\n",
       "        \n",
       "  <svg xmlns=\"http://www.w3.org/2000/svg\" height=\"24px\"viewBox=\"0 0 24 24\"\n",
       "       width=\"24px\">\n",
       "    <path d=\"M0 0h24v24H0V0z\" fill=\"none\"/>\n",
       "    <path d=\"M18.56 5.44l.94 2.06.94-2.06 2.06-.94-2.06-.94-.94-2.06-.94 2.06-2.06.94zm-11 1L8.5 8.5l.94-2.06 2.06-.94-2.06-.94L8.5 2.5l-.94 2.06-2.06.94zm10 10l.94 2.06.94-2.06 2.06-.94-2.06-.94-.94-2.06-.94 2.06-2.06.94z\"/><path d=\"M17.41 7.96l-1.37-1.37c-.4-.4-.92-.59-1.43-.59-.52 0-1.04.2-1.43.59L10.3 9.45l-7.72 7.72c-.78.78-.78 2.05 0 2.83L4 21.41c.39.39.9.59 1.41.59.51 0 1.02-.2 1.41-.59l7.78-7.78 2.81-2.81c.8-.78.8-2.07 0-2.86zM5.41 20L4 18.59l7.72-7.72 1.47 1.35L5.41 20z\"/>\n",
       "  </svg>\n",
       "      </button>\n",
       "      \n",
       "  <style>\n",
       "    .colab-df-container {\n",
       "      display:flex;\n",
       "      flex-wrap:wrap;\n",
       "      gap: 12px;\n",
       "    }\n",
       "\n",
       "    .colab-df-convert {\n",
       "      background-color: #E8F0FE;\n",
       "      border: none;\n",
       "      border-radius: 50%;\n",
       "      cursor: pointer;\n",
       "      display: none;\n",
       "      fill: #1967D2;\n",
       "      height: 32px;\n",
       "      padding: 0 0 0 0;\n",
       "      width: 32px;\n",
       "    }\n",
       "\n",
       "    .colab-df-convert:hover {\n",
       "      background-color: #E2EBFA;\n",
       "      box-shadow: 0px 1px 2px rgba(60, 64, 67, 0.3), 0px 1px 3px 1px rgba(60, 64, 67, 0.15);\n",
       "      fill: #174EA6;\n",
       "    }\n",
       "\n",
       "    [theme=dark] .colab-df-convert {\n",
       "      background-color: #3B4455;\n",
       "      fill: #D2E3FC;\n",
       "    }\n",
       "\n",
       "    [theme=dark] .colab-df-convert:hover {\n",
       "      background-color: #434B5C;\n",
       "      box-shadow: 0px 1px 3px 1px rgba(0, 0, 0, 0.15);\n",
       "      filter: drop-shadow(0px 1px 2px rgba(0, 0, 0, 0.3));\n",
       "      fill: #FFFFFF;\n",
       "    }\n",
       "  </style>\n",
       "\n",
       "      <script>\n",
       "        const buttonEl =\n",
       "          document.querySelector('#df-a117e60c-6e5e-4012-ac18-66f553deae41 button.colab-df-convert');\n",
       "        buttonEl.style.display =\n",
       "          google.colab.kernel.accessAllowed ? 'block' : 'none';\n",
       "\n",
       "        async function convertToInteractive(key) {\n",
       "          const element = document.querySelector('#df-a117e60c-6e5e-4012-ac18-66f553deae41');\n",
       "          const dataTable =\n",
       "            await google.colab.kernel.invokeFunction('convertToInteractive',\n",
       "                                                     [key], {});\n",
       "          if (!dataTable) return;\n",
       "\n",
       "          const docLinkHtml = 'Like what you see? Visit the ' +\n",
       "            '<a target=\"_blank\" href=https://colab.research.google.com/notebooks/data_table.ipynb>data table notebook</a>'\n",
       "            + ' to learn more about interactive tables.';\n",
       "          element.innerHTML = '';\n",
       "          dataTable['output_type'] = 'display_data';\n",
       "          await google.colab.output.renderOutput(dataTable, element);\n",
       "          const docLink = document.createElement('div');\n",
       "          docLink.innerHTML = docLinkHtml;\n",
       "          element.appendChild(docLink);\n",
       "        }\n",
       "      </script>\n",
       "    </div>\n",
       "  </div>\n",
       "  "
      ],
      "text/plain": [
       "                  words  count\n",
       "0                     !      7\n",
       "1                    !!      2\n",
       "2                  !!my      1\n",
       "3         #&lt;3criminy      1\n",
       "4       #3wordsaftersex      1\n",
       "...                 ...    ...\n",
       "36210                 }      1\n",
       "36211                 ~      1\n",
       "36212               ï¿½      4\n",
       "36213  ï¿½WHYYY????????      1\n",
       "36214           ï¿½why?      1\n",
       "\n",
       "[36215 rows x 2 columns]"
      ]
     },
     "execution_count": 8,
     "metadata": {},
     "output_type": "execute_result"
    }
   ],
   "source": [
    "# Split the text column into a list of words\n",
    "words_df = train_df['text'].str.split().to_frame('words')\n",
    "\n",
    "# Explode the list of words into separate rows\n",
    "words_df = words_df.explode('words')\n",
    "\n",
    "# Group by the words and count their occurrences\n",
    "words_df = words_df.groupby('words').size().reset_index(name='count')\n",
    "words_df"
   ]
  },
  {
   "cell_type": "code",
   "execution_count": 9,
   "metadata": {
    "colab": {
     "base_uri": "https://localhost:8080/",
     "height": 424
    },
    "executionInfo": {
     "elapsed": 22,
     "status": "ok",
     "timestamp": 1681002499939,
     "user": {
      "displayName": "Christian Montecillo",
      "userId": "02267957112746133644"
     },
     "user_tz": 360
    },
    "id": "rjvGdb_erVyw",
    "outputId": "7ab24f7e-23c2-4c3a-c277-5d6a61a2a922"
   },
   "outputs": [
    {
     "data": {
      "text/html": [
       "\n",
       "  <div id=\"df-843f46f9-69ac-490e-a54b-c280037bfa8b\">\n",
       "    <div class=\"colab-df-container\">\n",
       "      <div>\n",
       "<style scoped>\n",
       "    .dataframe tbody tr th:only-of-type {\n",
       "        vertical-align: middle;\n",
       "    }\n",
       "\n",
       "    .dataframe tbody tr th {\n",
       "        vertical-align: top;\n",
       "    }\n",
       "\n",
       "    .dataframe thead th {\n",
       "        text-align: right;\n",
       "    }\n",
       "</style>\n",
       "<table border=\"1\" class=\"dataframe\">\n",
       "  <thead>\n",
       "    <tr style=\"text-align: right;\">\n",
       "      <th></th>\n",
       "      <th>words</th>\n",
       "      <th>count</th>\n",
       "    </tr>\n",
       "  </thead>\n",
       "  <tbody>\n",
       "    <tr>\n",
       "      <th>16815</th>\n",
       "      <td>i</td>\n",
       "      <td>107694</td>\n",
       "    </tr>\n",
       "    <tr>\n",
       "      <th>13225</th>\n",
       "      <td>feel</td>\n",
       "      <td>46225</td>\n",
       "    </tr>\n",
       "    <tr>\n",
       "      <th>3606</th>\n",
       "      <td>and</td>\n",
       "      <td>39556</td>\n",
       "    </tr>\n",
       "    <tr>\n",
       "      <th>32559</th>\n",
       "      <td>to</td>\n",
       "      <td>37404</td>\n",
       "    </tr>\n",
       "    <tr>\n",
       "      <th>32100</th>\n",
       "      <td>the</td>\n",
       "      <td>34658</td>\n",
       "    </tr>\n",
       "    <tr>\n",
       "      <th>...</th>\n",
       "      <td>...</td>\n",
       "      <td>...</td>\n",
       "    </tr>\n",
       "    <tr>\n",
       "      <th>21262</th>\n",
       "      <td>minimal</td>\n",
       "      <td>11</td>\n",
       "    </tr>\n",
       "    <tr>\n",
       "      <th>14401</th>\n",
       "      <td>garage</td>\n",
       "      <td>11</td>\n",
       "    </tr>\n",
       "    <tr>\n",
       "      <th>8670</th>\n",
       "      <td>constructive</td>\n",
       "      <td>11</td>\n",
       "    </tr>\n",
       "    <tr>\n",
       "      <th>6915</th>\n",
       "      <td>careless</td>\n",
       "      <td>11</td>\n",
       "    </tr>\n",
       "    <tr>\n",
       "      <th>17884</th>\n",
       "      <td>involves</td>\n",
       "      <td>11</td>\n",
       "    </tr>\n",
       "  </tbody>\n",
       "</table>\n",
       "<p>4914 rows × 2 columns</p>\n",
       "</div>\n",
       "      <button class=\"colab-df-convert\" onclick=\"convertToInteractive('df-843f46f9-69ac-490e-a54b-c280037bfa8b')\"\n",
       "              title=\"Convert this dataframe to an interactive table.\"\n",
       "              style=\"display:none;\">\n",
       "        \n",
       "  <svg xmlns=\"http://www.w3.org/2000/svg\" height=\"24px\"viewBox=\"0 0 24 24\"\n",
       "       width=\"24px\">\n",
       "    <path d=\"M0 0h24v24H0V0z\" fill=\"none\"/>\n",
       "    <path d=\"M18.56 5.44l.94 2.06.94-2.06 2.06-.94-2.06-.94-.94-2.06-.94 2.06-2.06.94zm-11 1L8.5 8.5l.94-2.06 2.06-.94-2.06-.94L8.5 2.5l-.94 2.06-2.06.94zm10 10l.94 2.06.94-2.06 2.06-.94-2.06-.94-.94-2.06-.94 2.06-2.06.94z\"/><path d=\"M17.41 7.96l-1.37-1.37c-.4-.4-.92-.59-1.43-.59-.52 0-1.04.2-1.43.59L10.3 9.45l-7.72 7.72c-.78.78-.78 2.05 0 2.83L4 21.41c.39.39.9.59 1.41.59.51 0 1.02-.2 1.41-.59l7.78-7.78 2.81-2.81c.8-.78.8-2.07 0-2.86zM5.41 20L4 18.59l7.72-7.72 1.47 1.35L5.41 20z\"/>\n",
       "  </svg>\n",
       "      </button>\n",
       "      \n",
       "  <style>\n",
       "    .colab-df-container {\n",
       "      display:flex;\n",
       "      flex-wrap:wrap;\n",
       "      gap: 12px;\n",
       "    }\n",
       "\n",
       "    .colab-df-convert {\n",
       "      background-color: #E8F0FE;\n",
       "      border: none;\n",
       "      border-radius: 50%;\n",
       "      cursor: pointer;\n",
       "      display: none;\n",
       "      fill: #1967D2;\n",
       "      height: 32px;\n",
       "      padding: 0 0 0 0;\n",
       "      width: 32px;\n",
       "    }\n",
       "\n",
       "    .colab-df-convert:hover {\n",
       "      background-color: #E2EBFA;\n",
       "      box-shadow: 0px 1px 2px rgba(60, 64, 67, 0.3), 0px 1px 3px 1px rgba(60, 64, 67, 0.15);\n",
       "      fill: #174EA6;\n",
       "    }\n",
       "\n",
       "    [theme=dark] .colab-df-convert {\n",
       "      background-color: #3B4455;\n",
       "      fill: #D2E3FC;\n",
       "    }\n",
       "\n",
       "    [theme=dark] .colab-df-convert:hover {\n",
       "      background-color: #434B5C;\n",
       "      box-shadow: 0px 1px 3px 1px rgba(0, 0, 0, 0.15);\n",
       "      filter: drop-shadow(0px 1px 2px rgba(0, 0, 0, 0.3));\n",
       "      fill: #FFFFFF;\n",
       "    }\n",
       "  </style>\n",
       "\n",
       "      <script>\n",
       "        const buttonEl =\n",
       "          document.querySelector('#df-843f46f9-69ac-490e-a54b-c280037bfa8b button.colab-df-convert');\n",
       "        buttonEl.style.display =\n",
       "          google.colab.kernel.accessAllowed ? 'block' : 'none';\n",
       "\n",
       "        async function convertToInteractive(key) {\n",
       "          const element = document.querySelector('#df-843f46f9-69ac-490e-a54b-c280037bfa8b');\n",
       "          const dataTable =\n",
       "            await google.colab.kernel.invokeFunction('convertToInteractive',\n",
       "                                                     [key], {});\n",
       "          if (!dataTable) return;\n",
       "\n",
       "          const docLinkHtml = 'Like what you see? Visit the ' +\n",
       "            '<a target=\"_blank\" href=https://colab.research.google.com/notebooks/data_table.ipynb>data table notebook</a>'\n",
       "            + ' to learn more about interactive tables.';\n",
       "          element.innerHTML = '';\n",
       "          dataTable['output_type'] = 'display_data';\n",
       "          await google.colab.output.renderOutput(dataTable, element);\n",
       "          const docLink = document.createElement('div');\n",
       "          docLink.innerHTML = docLinkHtml;\n",
       "          element.appendChild(docLink);\n",
       "        }\n",
       "      </script>\n",
       "    </div>\n",
       "  </div>\n",
       "  "
      ],
      "text/plain": [
       "              words   count\n",
       "16815             i  107694\n",
       "13225          feel   46225\n",
       "3606            and   39556\n",
       "32559            to   37404\n",
       "32100           the   34658\n",
       "...             ...     ...\n",
       "21262       minimal      11\n",
       "14401        garage      11\n",
       "8670   constructive      11\n",
       "6915       careless      11\n",
       "17884      involves      11\n",
       "\n",
       "[4914 rows x 2 columns]"
      ]
     },
     "execution_count": 9,
     "metadata": {},
     "output_type": "execute_result"
    }
   ],
   "source": [
    "# find the words with 'count' > 10\n",
    "condition = words_df['count'] > 10\n",
    "\n",
    "# sort the words based on count\n",
    "new_words_df = words_df[condition].sort_values('count', ascending=False)\n",
    "new_words_df"
   ]
  },
  {
   "cell_type": "code",
   "execution_count": 10,
   "metadata": {
    "colab": {
     "base_uri": "https://localhost:8080/"
    },
    "executionInfo": {
     "elapsed": 22,
     "status": "ok",
     "timestamp": 1681002499940,
     "user": {
      "displayName": "Christian Montecillo",
      "userId": "02267957112746133644"
     },
     "user_tz": 360
    },
    "id": "RJehRAE2zWhl",
    "outputId": "b62aa20f-933c-4177-a3fd-3a6001cbeb86"
   },
   "outputs": [
    {
     "name": "stdout",
     "output_type": "stream",
     "text": [
      "Vocabulary size: 4914\n"
     ]
    }
   ],
   "source": [
    "# how many words are > 10?\n",
    "top_word_count = len(new_words_df)\n",
    "print('Vocabulary size:', top_word_count)"
   ]
  },
  {
   "cell_type": "markdown",
   "metadata": {
    "id": "GSm2HlDyzZ8_"
   },
   "source": [
    "### Let's tokenize the train tweets!"
   ]
  },
  {
   "cell_type": "code",
   "execution_count": 11,
   "metadata": {
    "executionInfo": {
     "elapsed": 8048,
     "status": "ok",
     "timestamp": 1681002507982,
     "user": {
      "displayName": "Christian Montecillo",
      "userId": "02267957112746133644"
     },
     "user_tz": 360
    },
    "id": "gCxK46QPyoe1"
   },
   "outputs": [],
   "source": [
    "from tensorflow.keras.preprocessing.text import Tokenizer"
   ]
  },
  {
   "cell_type": "code",
   "execution_count": 12,
   "metadata": {
    "executionInfo": {
     "elapsed": 3202,
     "status": "ok",
     "timestamp": 1681002511177,
     "user": {
      "displayName": "Christian Montecillo",
      "userId": "02267957112746133644"
     },
     "user_tz": 360
    },
    "id": "5bs47LbLwBl4"
   },
   "outputs": [],
   "source": [
    "tokenizer = Tokenizer(num_words=top_word_count, oov_token='<UNK>')\n",
    "tokenizer.fit_on_texts(train_df['text']) # pass in tweets from training set"
   ]
  },
  {
   "cell_type": "code",
   "execution_count": 13,
   "metadata": {
    "colab": {
     "base_uri": "https://localhost:8080/",
     "height": 36
    },
    "executionInfo": {
     "elapsed": 11,
     "status": "ok",
     "timestamp": 1681002511178,
     "user": {
      "displayName": "Christian Montecillo",
      "userId": "02267957112746133644"
     },
     "user_tz": 360
    },
    "id": "DPD0Tjjuy0Ko",
    "outputId": "f254ebf8-bcd4-4201-d6bc-c848c1193598"
   },
   "outputs": [
    {
     "data": {
      "application/vnd.google.colaboratory.intrinsic+json": {
       "type": "string"
      },
      "text/plain": [
       "'i think i have been able to hide my feelings from her people think i have a friendly crush on her like i look up to her as a best friend'"
      ]
     },
     "execution_count": 13,
     "metadata": {},
     "output_type": "execute_result"
    }
   ],
   "source": [
    "# this is what the tweet looks like as words\n",
    "train_df['text'][0]"
   ]
  },
  {
   "cell_type": "code",
   "execution_count": 14,
   "metadata": {
    "colab": {
     "base_uri": "https://localhost:8080/"
    },
    "executionInfo": {
     "elapsed": 9,
     "status": "ok",
     "timestamp": 1681002511179,
     "user": {
      "displayName": "Christian Montecillo",
      "userId": "02267957112746133644"
     },
     "user_tz": 360
    },
    "id": "yHPzHkTcye8y",
    "outputId": "019e9ec4-0719-4c14-e9f4-2815684a1001"
   },
   "outputs": [
    {
     "data": {
      "text/plain": [
       "[[2,\n",
       "  66,\n",
       "  2,\n",
       "  18,\n",
       "  48,\n",
       "  203,\n",
       "  5,\n",
       "  1325,\n",
       "  11,\n",
       "  122,\n",
       "  59,\n",
       "  69,\n",
       "  64,\n",
       "  66,\n",
       "  2,\n",
       "  18,\n",
       "  7,\n",
       "  539,\n",
       "  3020,\n",
       "  29,\n",
       "  69,\n",
       "  14,\n",
       "  2,\n",
       "  168,\n",
       "  42,\n",
       "  5,\n",
       "  69,\n",
       "  31,\n",
       "  7,\n",
       "  297,\n",
       "  267]]"
      ]
     },
     "execution_count": 14,
     "metadata": {},
     "output_type": "execute_result"
    }
   ],
   "source": [
    "# this is what the tokenized version of the tweet looks like\n",
    "tokenizer.texts_to_sequences([train_df['text'][0]])"
   ]
  },
  {
   "cell_type": "code",
   "execution_count": 15,
   "metadata": {
    "colab": {
     "base_uri": "https://localhost:8080/",
     "height": 877
    },
    "executionInfo": {
     "elapsed": 687,
     "status": "ok",
     "timestamp": 1681002511860,
     "user": {
      "displayName": "Christian Montecillo",
      "userId": "02267957112746133644"
     },
     "user_tz": 360
    },
    "id": "NtdXLYGFjcPO",
    "outputId": "26221c0e-f4d7-488f-8248-20a943aa4a8a"
   },
   "outputs": [
    {
     "data": {
      "text/plain": [
       "(array([7.500e+01, 2.110e+02, 3.423e+03, 2.500e+03, 2.753e+03, 5.542e+03,\n",
       "        2.678e+03, 2.751e+03, 5.436e+03, 2.729e+03, 5.243e+03, 2.571e+03,\n",
       "        2.487e+03, 4.443e+03, 2.098e+03, 1.932e+03, 3.452e+03, 1.633e+03,\n",
       "        2.862e+03, 1.298e+03, 1.146e+03, 2.012e+03, 8.960e+02, 8.640e+02,\n",
       "        1.404e+03, 5.880e+02, 1.024e+03, 4.770e+02, 4.110e+02, 7.070e+02,\n",
       "        2.900e+02, 2.870e+02, 4.990e+02, 2.330e+02, 3.210e+02, 1.590e+02,\n",
       "        1.510e+02, 2.530e+02, 1.150e+02, 8.500e+01, 1.160e+02, 4.800e+01,\n",
       "        5.900e+01, 1.800e+01, 1.100e+01, 2.100e+01, 5.000e+00, 5.000e+00,\n",
       "        1.000e+00, 1.000e+00, 0.000e+00, 0.000e+00, 0.000e+00, 1.000e+00,\n",
       "        1.000e+00, 0.000e+00, 1.000e+00, 0.000e+00, 0.000e+00, 0.000e+00,\n",
       "        0.000e+00, 0.000e+00, 0.000e+00, 0.000e+00, 0.000e+00, 0.000e+00,\n",
       "        0.000e+00, 0.000e+00, 0.000e+00, 0.000e+00, 0.000e+00, 1.000e+00]),\n",
       " array([  1.   ,   2.375,   3.75 ,   5.125,   6.5  ,   7.875,   9.25 ,\n",
       "         10.625,  12.   ,  13.375,  14.75 ,  16.125,  17.5  ,  18.875,\n",
       "         20.25 ,  21.625,  23.   ,  24.375,  25.75 ,  27.125,  28.5  ,\n",
       "         29.875,  31.25 ,  32.625,  34.   ,  35.375,  36.75 ,  38.125,\n",
       "         39.5  ,  40.875,  42.25 ,  43.625,  45.   ,  46.375,  47.75 ,\n",
       "         49.125,  50.5  ,  51.875,  53.25 ,  54.625,  56.   ,  57.375,\n",
       "         58.75 ,  60.125,  61.5  ,  62.875,  64.25 ,  65.625,  67.   ,\n",
       "         68.375,  69.75 ,  71.125,  72.5  ,  73.875,  75.25 ,  76.625,\n",
       "         78.   ,  79.375,  80.75 ,  82.125,  83.5  ,  84.875,  86.25 ,\n",
       "         87.625,  89.   ,  90.375,  91.75 ,  93.125,  94.5  ,  95.875,\n",
       "         97.25 ,  98.625, 100.   ]),\n",
       " <BarContainer object of 72 artists>)"
      ]
     },
     "execution_count": 15,
     "metadata": {},
     "output_type": "execute_result"
    },
    {
     "data": {
      "image/png": "[encoded data removed]",
      "text/plain": [
       "<Figure size 640x480 with 1 Axes>"
      ]
     },
     "metadata": {},
     "output_type": "display_data"
    }
   ],
   "source": [
    "import matplotlib.pyplot as plt\n",
    "\n",
    "# check to see what lenghts of the tweets in the dataset\n",
    "lengths = [len(t.split(' ')) for t in train_df['text']]\n",
    "plt.hist(lengths, bins=len(set(lengths)))"
   ]
  },
  {
   "cell_type": "code",
   "execution_count": 16,
   "metadata": {
    "colab": {
     "base_uri": "https://localhost:8080/"
    },
    "executionInfo": {
     "elapsed": 152,
     "status": "ok",
     "timestamp": 1681002512010,
     "user": {
      "displayName": "Christian Montecillo",
      "userId": "02267957112746133644"
     },
     "user_tz": 360
    },
    "id": "Ht7mWyXS18Sd",
    "outputId": "6b168521-eb3f-4b28-d42b-16cc843d36c6"
   },
   "outputs": [
    {
     "name": "stdout",
     "output_type": "stream",
     "text": [
      "Maximum word count: 100\n",
      "Minimum word count: 1\n",
      "Mean word count: 18.926604027631424\n",
      "Median word count: 17.0\n",
      "75th percentile word count: 25.0\n",
      "85th percentile word count: 30.0\n",
      "95th percentile word count: 40.0\n"
     ]
    }
   ],
   "source": [
    "import statistics\n",
    "\n",
    "# Apply the lambda function to the 'content' column and list called word_count_list'\n",
    "word_count_list = list(train_df['text'].apply(lambda x: len(x.split(' '))))\n",
    "\n",
    "# display the maximum and minimum lengths\n",
    "print('Maximum word count:', max(word_count_list))\n",
    "print('Minimum word count:', min(word_count_list))\n",
    "print('Mean word count:', statistics.mean(word_count_list))\n",
    "print('Median word count:', statistics.median(word_count_list))\n",
    "print('75th percentile word count:', np.percentile(word_count_list, 75))\n",
    "print('85th percentile word count:', np.percentile(word_count_list, 85))\n",
    "print('95th percentile word count:', np.percentile(word_count_list, 95))"
   ]
  },
  {
   "cell_type": "markdown",
   "metadata": {
    "id": "G9ZVTKh01wGa"
   },
   "source": [
    "The max number of words is 101. We ultimately decided that we are going to keep all the words in the tweet. BERT can handle more than 200 so setting max_len = 200"
   ]
  },
  {
   "cell_type": "markdown",
   "metadata": {
    "id": "59O4aXaA0ljh"
   },
   "source": [
    "***\n",
    "## 3 Padding and truncating the training data sequences to make sure that the shape is the same for each string."
   ]
  },
  {
   "cell_type": "code",
   "execution_count": 17,
   "metadata": {
    "executionInfo": {
     "elapsed": 4,
     "status": "ok",
     "timestamp": 1681002512010,
     "user": {
      "displayName": "Christian Montecillo",
      "userId": "02267957112746133644"
     },
     "user_tz": 360
    },
    "id": "Y715X4Xg0zSg"
   },
   "outputs": [],
   "source": [
    "from tensorflow.keras.preprocessing.sequence import pad_sequences"
   ]
  },
  {
   "cell_type": "code",
   "execution_count": 18,
   "metadata": {
    "executionInfo": {
     "elapsed": 4,
     "status": "ok",
     "timestamp": 1681002512011,
     "user": {
      "displayName": "Christian Montecillo",
      "userId": "02267957112746133644"
     },
     "user_tz": 360
    },
    "id": "iEuNYWMScWhY"
   },
   "outputs": [],
   "source": [
    "max_len = 200 # set the largest tweet size, >200 words -> truncate, <200 words -> pad\n",
    "\n",
    "def get_sequences(tokenizer, tweets):\n",
    "  sequences = tokenizer.texts_to_sequences(tweets)\n",
    "  padded = pad_sequences(sequences, truncating='post', padding='post', maxlen=max_len) # truncating happens at the end of the sequence (post)\n",
    "  return padded # all examples will be the returned with same input size"
   ]
  },
  {
   "cell_type": "code",
   "execution_count": 19,
   "metadata": {
    "colab": {
     "base_uri": "https://localhost:8080/"
    },
    "executionInfo": {
     "elapsed": 1227,
     "status": "ok",
     "timestamp": 1681002513353,
     "user": {
      "displayName": "Christian Montecillo",
      "userId": "02267957112746133644"
     },
     "user_tz": 360
    },
    "id": "V2CMHoto0plB",
    "outputId": "42f38750-6970-47d0-810d-af217c9d657f"
   },
   "outputs": [
    {
     "data": {
      "text/plain": [
       "array([   2,   66,    2,   18,   48,  203,    5, 1325,   11,  122,   59,\n",
       "         69,   64,   66,    2,   18,    7,  539, 3020,   29,   69,   14,\n",
       "          2,  168,   42,    5,   69,   31,    7,  297,  267,    0,    0,\n",
       "          0,    0,    0,    0,    0,    0,    0,    0,    0,    0,    0,\n",
       "          0,    0,    0,    0,    0,    0,    0,    0,    0,    0,    0,\n",
       "          0,    0,    0,    0,    0,    0,    0,    0,    0,    0,    0,\n",
       "          0,    0,    0,    0,    0,    0,    0,    0,    0,    0,    0,\n",
       "          0,    0,    0,    0,    0,    0,    0,    0,    0,    0,    0,\n",
       "          0,    0,    0,    0,    0,    0,    0,    0,    0,    0,    0,\n",
       "          0,    0,    0,    0,    0,    0,    0,    0,    0,    0,    0,\n",
       "          0,    0,    0,    0,    0,    0,    0,    0,    0,    0,    0,\n",
       "          0,    0,    0,    0,    0,    0,    0,    0,    0,    0,    0,\n",
       "          0,    0,    0,    0,    0,    0,    0,    0,    0,    0,    0,\n",
       "          0,    0,    0,    0,    0,    0,    0,    0,    0,    0,    0,\n",
       "          0,    0,    0,    0,    0,    0,    0,    0,    0,    0,    0,\n",
       "          0,    0,    0,    0,    0,    0,    0,    0,    0,    0,    0,\n",
       "          0,    0,    0,    0,    0,    0,    0,    0,    0,    0,    0,\n",
       "          0,    0,    0,    0,    0,    0,    0,    0,    0,    0,    0,\n",
       "          0,    0], dtype=int32)"
      ]
     },
     "execution_count": 19,
     "metadata": {},
     "output_type": "execute_result"
    }
   ],
   "source": [
    "padded_train_seq = get_sequences(tokenizer, train_df['text'])\n",
    "padded_train_seq[0]"
   ]
  },
  {
   "cell_type": "markdown",
   "metadata": {
    "id": "wAVdCL7s2YA6"
   },
   "source": [
    "***\n",
    "## 4 Convert labels to numeric"
   ]
  },
  {
   "cell_type": "markdown",
   "metadata": {
    "id": "cjoAOp23ROll"
   },
   "source": [
    "### Function to convert text labels to numeric (reuse for all datasets)"
   ]
  },
  {
   "cell_type": "code",
   "execution_count": 20,
   "metadata": {
    "colab": {
     "base_uri": "https://localhost:8080/"
    },
    "executionInfo": {
     "elapsed": 7,
     "status": "ok",
     "timestamp": 1681002513353,
     "user": {
      "displayName": "Christian Montecillo",
      "userId": "02267957112746133644"
     },
     "user_tz": 360
    },
    "id": "Fz-HIqgg9WTn",
    "outputId": "6b27544e-3b29-436c-8759-8f67faddf148"
   },
   "outputs": [
    {
     "data": {
      "text/plain": [
       "{'sadness': 0,\n",
       " 'anger': 1,\n",
       " 'fear': 2,\n",
       " 'surprise': 3,\n",
       " 'joy': 4,\n",
       " 'love': 5,\n",
       " 'neutral': 6}"
      ]
     },
     "execution_count": 20,
     "metadata": {},
     "output_type": "execute_result"
    }
   ],
   "source": [
    "# keeping this consistent for all models\n",
    "class_to_index_dict = {'sadness': 0, 'anger': 1, 'fear': 2, 'surprise': 3, 'joy': 4, 'love': 5, 'neutral': 6}\n",
    "class_to_index_dict"
   ]
  },
  {
   "cell_type": "code",
   "execution_count": 21,
   "metadata": {
    "executionInfo": {
     "elapsed": 6,
     "status": "ok",
     "timestamp": 1681002513354,
     "user": {
      "displayName": "Christian Montecillo",
      "userId": "02267957112746133644"
     },
     "user_tz": 360
    },
    "id": "LshrgGmE3Vw1"
   },
   "outputs": [],
   "source": [
    "def names_to_ids(class_to_index, data):\n",
    "  return np.array([class_to_index.get(x) for x in data])"
   ]
  },
  {
   "cell_type": "code",
   "execution_count": 22,
   "metadata": {
    "colab": {
     "base_uri": "https://localhost:8080/"
    },
    "executionInfo": {
     "elapsed": 6,
     "status": "ok",
     "timestamp": 1681002513354,
     "user": {
      "displayName": "Christian Montecillo",
      "userId": "02267957112746133644"
     },
     "user_tz": 360
    },
    "id": "6EKQbC433hL-",
    "outputId": "5739a456-e624-4913-8bd6-3d483df583b6"
   },
   "outputs": [
    {
     "name": "stdout",
     "output_type": "stream",
     "text": [
      "train_df.iloc[7]:\n",
      " text        im feeling nostalgic but also grateful for how...\n",
      "emotions                                                 love\n",
      "Name: 7, dtype: object\n",
      "numeric label: 5\n"
     ]
    }
   ],
   "source": [
    "# confirming if it worked (change index) and they should line up with above dict\n",
    "index = 7\n",
    "train_labels = names_to_ids(class_to_index_dict, train_df['emotions'])\n",
    "print('train_df.iloc[7]:\\n', train_df.iloc[index])\n",
    "print('numeric label:', train_labels[index])"
   ]
  },
  {
   "cell_type": "markdown",
   "metadata": {
    "id": "JqCOVtUd5SN1"
   },
   "source": [
    "***\n",
    "## 5 Create the model"
   ]
  },
  {
   "cell_type": "code",
   "execution_count": 23,
   "metadata": {
    "colab": {
     "base_uri": "https://localhost:8080/"
    },
    "executionInfo": {
     "elapsed": 132,
     "status": "ok",
     "timestamp": 1681002513483,
     "user": {
      "displayName": "Christian Montecillo",
      "userId": "02267957112746133644"
     },
     "user_tz": 360
    },
    "id": "0x19MiiQ5s7S",
    "outputId": "c7fb8ddc-0002-444f-bfc4-ad977c1e97e7"
   },
   "outputs": [
    {
     "name": "stdout",
     "output_type": "stream",
     "text": [
      "Using TensorFlow version 2.12.0\n"
     ]
    }
   ],
   "source": [
    "%matplotlib inline\n",
    "\n",
    "import tensorflow as tf\n",
    "import matplotlib.pyplot as plt\n",
    "import random\n",
    "\n",
    "def show_history(h):\n",
    "    epochs_trained = len(h.history['loss'])\n",
    "    plt.figure(figsize=(16, 6))\n",
    "\n",
    "    plt.subplot(1, 2, 1)\n",
    "    plt.plot(range(0, epochs_trained), h.history.get('accuracy'), label='Training')\n",
    "    plt.plot(range(0, epochs_trained), h.history.get('val_accuracy'), label='Validation')\n",
    "    plt.ylim([0., 1.])\n",
    "    plt.xlabel('Epochs')\n",
    "    plt.ylabel('Accuracy')\n",
    "    plt.legend()\n",
    "\n",
    "    plt.subplot(1, 2, 2)\n",
    "    plt.plot(range(0, epochs_trained), h.history.get('loss'), label='Training')\n",
    "    plt.plot(range(0, epochs_trained), h.history.get('val_loss'), label='Validation')\n",
    "    plt.xlabel('Epochs')\n",
    "    plt.ylabel('Loss')\n",
    "    plt.legend()\n",
    "    plt.show()\n",
    "    \n",
    "print('Using TensorFlow version', tf.__version__)"
   ]
  },
  {
   "cell_type": "code",
   "execution_count": 60,
   "metadata": {
    "colab": {
     "base_uri": "https://localhost:8080/"
    },
    "executionInfo": {
     "elapsed": 106,
     "status": "ok",
     "timestamp": 1681002775528,
     "user": {
      "displayName": "Christian Montecillo",
      "userId": "02267957112746133644"
     },
     "user_tz": 360
    },
    "id": "4NdLnCye1ojm",
    "outputId": "79c3c08d-954a-416d-f065-4d0f8800181b"
   },
   "outputs": [
    {
     "name": "stdout",
     "output_type": "stream",
     "text": [
      "top_word_count: 4914\n",
      "max_len: 200\n"
     ]
    }
   ],
   "source": [
    "print('top_word_count:', top_word_count)\n",
    "print('max_len:', max_len)"
   ]
  },
  {
   "cell_type": "code",
   "execution_count": 61,
   "metadata": {
    "executionInfo": {
     "elapsed": 1108,
     "status": "ok",
     "timestamp": 1681002776784,
     "user": {
      "displayName": "Christian Montecillo",
      "userId": "02267957112746133644"
     },
     "user_tz": 360
    },
    "id": "ZmbxOHXS5VoW"
   },
   "outputs": [],
   "source": [
    "# ref: https://machinelearningmastery.com/develop-bidirectional-lstm-sequence-classification-python-keras/\n",
    "# ref: https://analyticsindiamag.com/complete-guide-to-bidirectional-lstm-with-python-codes/\n",
    "# ref: https://stackoverflow.com/questions/40331510/how-to-stack-multiple-lstm-in-keras\n",
    "\n",
    "# keep the vocabulary size the same as the base model, 11039\n",
    "model = tf.keras.models.Sequential([\n",
    "    tf.keras.layers.Embedding(input_dim=8000, output_dim=8, input_length=max_len),\n",
    "    \n",
    "    # the RNN part of the model\n",
    "    # tf.keras.layers.Bidirectional(tf.keras.layers.LSTM(10, return_sequences=True)), # since using an LSTM layer inside a bidrectional layer, context can go in either direction; return_sequences=True means at every time step, there is an output\n",
    "    tf.keras.layers.Bidirectional(tf.keras.layers.LSTM(10, )),\n",
    "\n",
    "    tf.keras.layers.Dense(7, activation='softmax') # 7 for the seven classes\n",
    "\n",
    "])\n",
    "\n",
    "model.compile(\n",
    "    loss='sparse_categorical_crossentropy', # since this is a multiclass classification problem, use categorical crossentropy; since classes are integers (not one hot encoded/binary), use sparse (just like in A3)\n",
    "    optimizer='adam',\n",
    "    metrics=['accuracy']\n",
    ")"
   ]
  },
  {
   "cell_type": "code",
   "execution_count": 62,
   "metadata": {
    "colab": {
     "base_uri": "https://localhost:8080/"
    },
    "executionInfo": {
     "elapsed": 5,
     "status": "ok",
     "timestamp": 1681002776784,
     "user": {
      "displayName": "Christian Montecillo",
      "userId": "02267957112746133644"
     },
     "user_tz": 360
    },
    "id": "zsYrBdzP6lNv",
    "outputId": "adb5ac88-fb6c-49cc-f764-518b34ad0403"
   },
   "outputs": [
    {
     "name": "stdout",
     "output_type": "stream",
     "text": [
      "Model: \"sequential_1\"\n",
      "_________________________________________________________________\n",
      " Layer (type)                Output Shape              Param #   \n",
      "=================================================================\n",
      " embedding_1 (Embedding)     (None, 200, 8)            64000     \n",
      "                                                                 \n",
      " bidirectional_1 (Bidirectio  (None, 20)               1520      \n",
      " nal)                                                            \n",
      "                                                                 \n",
      " dense_1 (Dense)             (None, 7)                 147       \n",
      "                                                                 \n",
      "=================================================================\n",
      "Total params: 65,667\n",
      "Trainable params: 65,667\n",
      "Non-trainable params: 0\n",
      "_________________________________________________________________\n"
     ]
    }
   ],
   "source": [
    "model.summary()"
   ]
  },
  {
   "cell_type": "markdown",
   "metadata": {
    "id": "idlS4gpC67sM"
   },
   "source": [
    "***\n",
    "## 6 Train the model"
   ]
  },
  {
   "cell_type": "markdown",
   "metadata": {
    "id": "lQQwKn13Qrm9"
   },
   "source": [
    "### Convert the labels of the validation set to numeric (just like the training set)"
   ]
  },
  {
   "cell_type": "code",
   "execution_count": 63,
   "metadata": {
    "colab": {
     "base_uri": "https://localhost:8080/"
    },
    "executionInfo": {
     "elapsed": 133,
     "status": "ok",
     "timestamp": 1681002776917,
     "user": {
      "displayName": "Christian Montecillo",
      "userId": "02267957112746133644"
     },
     "user_tz": 360
    },
    "id": "yNF1izoe_fPt",
    "outputId": "9a0c4ed6-622a-4e49-c207-61123d4ce6df"
   },
   "outputs": [
    {
     "data": {
      "text/plain": [
       "{'sadness': 0,\n",
       " 'anger': 1,\n",
       " 'fear': 2,\n",
       " 'surprise': 3,\n",
       " 'joy': 4,\n",
       " 'love': 5,\n",
       " 'neutral': 6}"
      ]
     },
     "execution_count": 63,
     "metadata": {},
     "output_type": "execute_result"
    }
   ],
   "source": [
    "# reminder of the class_to_index mapping\n",
    "class_to_index_dict"
   ]
  },
  {
   "cell_type": "code",
   "execution_count": 64,
   "metadata": {
    "executionInfo": {
     "elapsed": 743,
     "status": "ok",
     "timestamp": 1681002777657,
     "user": {
      "displayName": "Christian Montecillo",
      "userId": "02267957112746133644"
     },
     "user_tz": 360
    },
    "id": "bQmthZKy7B6A"
   },
   "outputs": [],
   "source": [
    "val_seq = get_sequences(tokenizer, val_df['text'])\n",
    "val_labels = names_to_ids(class_to_index_dict, val_df['emotions'])"
   ]
  },
  {
   "cell_type": "code",
   "execution_count": 65,
   "metadata": {
    "colab": {
     "base_uri": "https://localhost:8080/"
    },
    "executionInfo": {
     "elapsed": 10,
     "status": "ok",
     "timestamp": 1681002777657,
     "user": {
      "displayName": "Christian Montecillo",
      "userId": "02267957112746133644"
     },
     "user_tz": 360
    },
    "id": "b1KDU5Hi8IWQ",
    "outputId": "db4f33f0-4424-4ee5-a201-00bb51bd7124"
   },
   "outputs": [
    {
     "data": {
      "text/plain": [
       "(array([   2,   21,    8,    1,  738,    5,    1,    4,    1,  508,    9,\n",
       "         135, 2641,  470,   62,   27,   97,  988,   15,   19,    0,    0,\n",
       "           0,    0,    0,    0,    0,    0,    0,    0,    0,    0,    0,\n",
       "           0,    0,    0,    0,    0,    0,    0,    0,    0,    0,    0,\n",
       "           0,    0,    0,    0,    0,    0,    0,    0,    0,    0,    0,\n",
       "           0,    0,    0,    0,    0,    0,    0,    0,    0,    0,    0,\n",
       "           0,    0,    0,    0,    0,    0,    0,    0,    0,    0,    0,\n",
       "           0,    0,    0,    0,    0,    0,    0,    0,    0,    0,    0,\n",
       "           0,    0,    0,    0,    0,    0,    0,    0,    0,    0,    0,\n",
       "           0,    0,    0,    0,    0,    0,    0,    0,    0,    0,    0,\n",
       "           0,    0,    0,    0,    0,    0,    0,    0,    0,    0,    0,\n",
       "           0,    0,    0,    0,    0,    0,    0,    0,    0,    0,    0,\n",
       "           0,    0,    0,    0,    0,    0,    0,    0,    0,    0,    0,\n",
       "           0,    0,    0,    0,    0,    0,    0,    0,    0,    0,    0,\n",
       "           0,    0,    0,    0,    0,    0,    0,    0,    0,    0,    0,\n",
       "           0,    0,    0,    0,    0,    0,    0,    0,    0,    0,    0,\n",
       "           0,    0,    0,    0,    0,    0,    0,    0,    0,    0,    0,\n",
       "           0,    0,    0,    0,    0,    0,    0,    0,    0,    0,    0,\n",
       "           0,    0], dtype=int32),\n",
       " 'i was feeling stupidly loyal to korea and unconsciously decided that any japanese food would be too weird for me',\n",
       " 'love')"
      ]
     },
     "execution_count": 65,
     "metadata": {},
     "output_type": "execute_result"
    }
   ],
   "source": [
    "# checking out the first input in validation sequence\n",
    "val_seq[0], val_df['text'][0], val_df['emotions'][0]"
   ]
  },
  {
   "cell_type": "code",
   "execution_count": 66,
   "metadata": {
    "colab": {
     "base_uri": "https://localhost:8080/"
    },
    "executionInfo": {
     "elapsed": 8,
     "status": "ok",
     "timestamp": 1681002777657,
     "user": {
      "displayName": "Christian Montecillo",
      "userId": "02267957112746133644"
     },
     "user_tz": 360
    },
    "id": "VCjxGzpW7rCT",
    "outputId": "3beb2fce-e482-4cec-99bb-7145543e4872"
   },
   "outputs": [
    {
     "name": "stdout",
     "output_type": "stream",
     "text": [
      "val_df.iloc[0]:\n",
      " text        i was feeling stupidly loyal to korea and unco...\n",
      "emotions                                                 love\n",
      "Name: 0, dtype: object\n",
      "numeric label: 5\n"
     ]
    }
   ],
   "source": [
    "print('val_df.iloc[0]:\\n', val_df.iloc[0])\n",
    "print('numeric label:', val_labels[0])"
   ]
  },
  {
   "cell_type": "markdown",
   "metadata": {
    "id": "RdCRJ_QdQ2B6"
   },
   "source": [
    "#### Check out the shape to make sure they're as expected"
   ]
  },
  {
   "cell_type": "code",
   "execution_count": 67,
   "metadata": {
    "colab": {
     "base_uri": "https://localhost:8080/"
    },
    "executionInfo": {
     "elapsed": 5,
     "status": "ok",
     "timestamp": 1681002777658,
     "user": {
      "displayName": "Christian Montecillo",
      "userId": "02267957112746133644"
     },
     "user_tz": 360
    },
    "id": "ynlY2BgkA7in",
    "outputId": "a222904b-6869-4ee9-d7fb-0f1f0e5a8dae"
   },
   "outputs": [
    {
     "data": {
      "text/plain": [
       "(68328, 200)"
      ]
     },
     "execution_count": 67,
     "metadata": {},
     "output_type": "execute_result"
    }
   ],
   "source": [
    "padded_train_seq.shape"
   ]
  },
  {
   "cell_type": "code",
   "execution_count": 68,
   "metadata": {
    "colab": {
     "base_uri": "https://localhost:8080/"
    },
    "executionInfo": {
     "elapsed": 11,
     "status": "ok",
     "timestamp": 1681002778006,
     "user": {
      "displayName": "Christian Montecillo",
      "userId": "02267957112746133644"
     },
     "user_tz": 360
    },
    "id": "Y5fiYZr7Bz0W",
    "outputId": "61892253-ee8b-4498-d9d1-688dcf027715"
   },
   "outputs": [
    {
     "data": {
      "text/plain": [
       "(68328,)"
      ]
     },
     "execution_count": 68,
     "metadata": {},
     "output_type": "execute_result"
    }
   ],
   "source": [
    "train_labels.shape"
   ]
  },
  {
   "cell_type": "code",
   "execution_count": 69,
   "metadata": {
    "colab": {
     "base_uri": "https://localhost:8080/"
    },
    "executionInfo": {
     "elapsed": 10,
     "status": "ok",
     "timestamp": 1681002778006,
     "user": {
      "displayName": "Christian Montecillo",
      "userId": "02267957112746133644"
     },
     "user_tz": 360
    },
    "id": "Ht_KveuuB30e",
    "outputId": "7f6dcabd-5f4b-4772-c476-e7d9cd62ce57"
   },
   "outputs": [
    {
     "data": {
      "text/plain": [
       "(20499, 200)"
      ]
     },
     "execution_count": 69,
     "metadata": {},
     "output_type": "execute_result"
    }
   ],
   "source": [
    "val_seq.shape"
   ]
  },
  {
   "cell_type": "code",
   "execution_count": 70,
   "metadata": {
    "colab": {
     "base_uri": "https://localhost:8080/"
    },
    "executionInfo": {
     "elapsed": 8,
     "status": "ok",
     "timestamp": 1681002778006,
     "user": {
      "displayName": "Christian Montecillo",
      "userId": "02267957112746133644"
     },
     "user_tz": 360
    },
    "id": "jN1vULmpB6gE",
    "outputId": "2d9394c4-b6c9-4821-ddf0-5bbe15c96009"
   },
   "outputs": [
    {
     "data": {
      "text/plain": [
       "(20499,)"
      ]
     },
     "execution_count": 70,
     "metadata": {},
     "output_type": "execute_result"
    }
   ],
   "source": [
    "val_labels.shape"
   ]
  },
  {
   "cell_type": "markdown",
   "metadata": {
    "id": "yIzq6Av3QPt8"
   },
   "source": [
    "### From Natalie's Notebook\n",
    "https://github.com/datasci-w266/2023-spring-main/blob/master/materials/walkthrough_notebooks/keras_with_limited_ram/keras_training_with_limited_ram.ipynb<br><br>\n",
    "https://edstem.org/us/courses/32607/discussion/2699088?comment=6229916"
   ]
  },
  {
   "cell_type": "markdown",
   "metadata": {
    "id": "xXt_pSdk8hNd"
   },
   "source": [
    "#### Inspired by Natalie's notebook, made my own generator that chunks up my data into pieces that won't make my machine run out of memory before completing one epoch\n",
    "If generator is not used, might delete this section"
   ]
  },
  {
   "cell_type": "code",
   "execution_count": 71,
   "metadata": {
    "executionInfo": {
     "elapsed": 6,
     "status": "ok",
     "timestamp": 1681002778006,
     "user": {
      "displayName": "Christian Montecillo",
      "userId": "02267957112746133644"
     },
     "user_tz": 360
    },
    "id": "VqlRB7kLgciK"
   },
   "outputs": [],
   "source": [
    "# from sklearn.utils.random import sample_without_replacement\n",
    "\n",
    "# # Define a generator function\n",
    "# def generator(data, labels, batch_size):\n",
    "#     # num_samples = len(data)\n",
    "#     # while True:\n",
    "#     #     indices = np.random.randint(num_samples, size=batch_size)\n",
    "#     #     yield data[indices], labels[indices]\n",
    "\n",
    "#     # Loop over batches\n",
    "#     for i in range(0, len(data), batch_size):\n",
    "      \n",
    "#       # Get a batch of indices using sample_without_replacement()\n",
    "#       batch_indices = sample_without_replacement(n_population=len(data), n_samples=batch_size)\n",
    "      \n",
    "#       # Yield a batch of features and labels using the indices\n",
    "#       yield data[batch_indices], labels[batch_indices]"
   ]
  },
  {
   "cell_type": "code",
   "execution_count": 72,
   "metadata": {
    "executionInfo": {
     "elapsed": 6,
     "status": "ok",
     "timestamp": 1681002778006,
     "user": {
      "displayName": "Christian Montecillo",
      "userId": "02267957112746133644"
     },
     "user_tz": 360
    },
    "id": "nct6qudng5T4"
   },
   "outputs": [],
   "source": [
    "# Create the generator\n",
    "# batch_size = 1 # using this batch size because that's what seemed reasonable based on the number of records in the training dataset\n",
    "# gen = generator(data=padded_train_seq, labels=train_labels, batch_size=batch_size)"
   ]
  },
  {
   "cell_type": "markdown",
   "metadata": {
    "id": "5qWdOrSvDBxP"
   },
   "source": [
    "#### Setting up checkpoints"
   ]
  },
  {
   "cell_type": "code",
   "execution_count": 73,
   "metadata": {
    "colab": {
     "base_uri": "https://localhost:8080/"
    },
    "executionInfo": {
     "elapsed": 7,
     "status": "ok",
     "timestamp": 1681002778007,
     "user": {
      "displayName": "Christian Montecillo",
      "userId": "02267957112746133644"
     },
     "user_tz": 360
    },
    "id": "DLCin0Ms-_QM",
    "outputId": "43d465d2-244b-4061-a4d5-e4620c68d23d"
   },
   "outputs": [
    {
     "name": "stdout",
     "output_type": "stream",
     "text": [
      "/2023-04-08-1912\n"
     ]
    }
   ],
   "source": [
    "# reference: https://pynative.com/python-timezone/\n",
    "# make a timestamp so it can be part of the folder name\n",
    "# otherwise, all the checkpoints get dumped into the same\n",
    "# folder and that's not great\n",
    "import datetime\n",
    "import pytz\n",
    "\n",
    "local_tz = pytz.timezone('America/Denver')\n",
    "local_dt = datetime.datetime.now(local_tz)\n",
    "\n",
    "# Format the datetime object as a string without spaces\n",
    "timestamp = local_dt.strftime('/%Y-%m-%d-%H%M')\n",
    "\n",
    "# Print the string\n",
    "print(timestamp)"
   ]
  },
  {
   "cell_type": "code",
   "execution_count": 74,
   "metadata": {
    "colab": {
     "base_uri": "https://localhost:8080/"
    },
    "executionInfo": {
     "elapsed": 173,
     "status": "ok",
     "timestamp": 1681002778175,
     "user": {
      "displayName": "Christian Montecillo",
      "userId": "02267957112746133644"
     },
     "user_tz": 360
    },
    "id": "UYF2mq-rnikf",
    "outputId": "ae3d8ce5-f13f-449a-a06d-7c8bd08ffc05"
   },
   "outputs": [
    {
     "name": "stdout",
     "output_type": "stream",
     "text": [
      "136_40_model  34_10_model  68_20_model\tbase_model\n",
      "17_5_model    52_mixed\t   archive\tclean_plus_kaggle_model\n"
     ]
    }
   ],
   "source": [
    "!ls '/content/gdrive/MyDrive/266_Final_Project_Folder/cm_working_dir/cm_checkpoints/'"
   ]
  },
  {
   "cell_type": "code",
   "execution_count": 75,
   "metadata": {
    "executionInfo": {
     "elapsed": 7,
     "status": "ok",
     "timestamp": 1681002778176,
     "user": {
      "displayName": "Christian Montecillo",
      "userId": "02267957112746133644"
     },
     "user_tz": 360
    },
    "id": "fWUjoVx_oQ1p"
   },
   "outputs": [],
   "source": [
    "checkpoint_dir = project_folder + '/cm_working_dir/cm_checkpoints/68_20_model'\n",
    "checkpoint_filepath = checkpoint_dir + '/weights.{epoch:02d}-{val_accuracy:.2f}.hdf5' #+ timestamp + '/weights.{epoch:02d}-{val_accuracy:.2f}.hdf5'\n",
    "model_checkpoint_callback = tf.keras.callbacks.ModelCheckpoint(\n",
    "    filepath=checkpoint_filepath,\n",
    "    save_weights_only=True)"
   ]
  },
  {
   "cell_type": "code",
   "execution_count": 76,
   "metadata": {
    "colab": {
     "base_uri": "https://localhost:8080/"
    },
    "executionInfo": {
     "elapsed": 7,
     "status": "ok",
     "timestamp": 1681002778176,
     "user": {
      "displayName": "Christian Montecillo",
      "userId": "02267957112746133644"
     },
     "user_tz": 360
    },
    "id": "vEGdADVWY5aV",
    "outputId": "1e892cd2-ca5d-4f74-e929-4a31b94904d3"
   },
   "outputs": [
    {
     "name": "stdout",
     "output_type": "stream",
     "text": [
      "/content/gdrive/MyDrive/266_Final_Project_Folder/cm_working_dir/cm_checkpoints/68_20_model/weights.{epoch:02d}-{val_accuracy:.2f}.hdf5\n"
     ]
    }
   ],
   "source": [
    "# check to make sure that the folder name is as expected\n",
    "# format: .....cm_checkpoints/YYYY-MM-DD-TIME/....\n",
    "print(checkpoint_filepath)"
   ]
  },
  {
   "cell_type": "markdown",
   "metadata": {
    "id": "Tu0tD3XEQYxO"
   },
   "source": [
    "### Training the Model!!!"
   ]
  },
  {
   "cell_type": "markdown",
   "metadata": {
    "id": "kGXLqEfMvIUu"
   },
   "source": [
    "##### Uncomment cell below to load checkpoints; else keep commented to start fresh"
   ]
  },
  {
   "cell_type": "code",
   "execution_count": 77,
   "metadata": {
    "executionInfo": {
     "elapsed": 5,
     "status": "ok",
     "timestamp": 1681002778176,
     "user": {
      "displayName": "Christian Montecillo",
      "userId": "02267957112746133644"
     },
     "user_tz": 360
    },
    "id": "wm6zmRBWPA4F"
   },
   "outputs": [],
   "source": [
    "# uncomment below when loading checkpoints\n",
    "# hdf5_checkpoint = 'weights.05-0.99' # change this to the right filename for the checkpoint\n",
    "# checkpoint_filepath = checkpoint_dir + '/' + hdf5_checkpoint + '.hdf5'\n",
    "# model.load_weights(checkpoint_filepath)"
   ]
  },
  {
   "cell_type": "code",
   "execution_count": 78,
   "metadata": {
    "executionInfo": {
     "elapsed": 4,
     "status": "ok",
     "timestamp": 1681002778176,
     "user": {
      "displayName": "Christian Montecillo",
      "userId": "02267957112746133644"
     },
     "user_tz": 360
    },
    "id": "WrvGsgIf9Z2W"
   },
   "outputs": [],
   "source": [
    "# batch_size = 64\n",
    "# steps_per_epoch = len(padded_train_seq) / batch_size\n",
    "\n",
    "# history = model.fit(\n",
    "#     gen,\n",
    "#     validation_data=(val_seq, val_labels),\n",
    "#     steps_per_epoch=steps_per_epoch,\n",
    "#     epochs=1,\n",
    "#     callbacks=[\n",
    "#         tf.keras.callbacks.EarlyStopping(monitor='val_accuracy', patience=2), # if model doesn't see improvement in val_accuracy after 2 epochs, it will stop training\n",
    "#         model_checkpoint_callback\n",
    "#     ]\n",
    "# )"
   ]
  },
  {
   "cell_type": "markdown",
   "metadata": {
    "id": "nrrGcqfzvbnA"
   },
   "source": [
    "##### Training a fresh model (don't run this if running cells above)"
   ]
  },
  {
   "cell_type": "code",
   "execution_count": 79,
   "metadata": {
    "colab": {
     "base_uri": "https://localhost:8080/"
    },
    "executionInfo": {
     "elapsed": 204880,
     "status": "ok",
     "timestamp": 1681002983052,
     "user": {
      "displayName": "Christian Montecillo",
      "userId": "02267957112746133644"
     },
     "user_tz": 360
    },
    "id": "oCfI-LfAn9nR",
    "outputId": "1af7596c-b93d-4f10-c237-fa49caf5f705"
   },
   "outputs": [
    {
     "name": "stdout",
     "output_type": "stream",
     "text": [
      "Epoch 1/5\n",
      "1067/1067 [==============================] - 56s 49ms/step - loss: 1.2342 - accuracy: 0.5479 - val_loss: 0.9153 - val_accuracy: 0.6464\n",
      "Epoch 2/5\n",
      "1067/1067 [==============================] - 24s 23ms/step - loss: 0.6621 - accuracy: 0.7713 - val_loss: 0.4314 - val_accuracy: 0.8820\n",
      "Epoch 3/5\n",
      "1067/1067 [==============================] - 22s 21ms/step - loss: 0.2950 - accuracy: 0.9183 - val_loss: 0.2623 - val_accuracy: 0.9334\n",
      "Epoch 4/5\n",
      "1067/1067 [==============================] - 24s 22ms/step - loss: 0.1926 - accuracy: 0.9517 - val_loss: 0.2069 - val_accuracy: 0.9483\n",
      "Epoch 5/5\n",
      "1067/1067 [==============================] - 23s 21ms/step - loss: 0.1452 - accuracy: 0.9633 - val_loss: 0.1919 - val_accuracy: 0.9487\n"
     ]
    }
   ],
   "source": [
    "batch_size = 64\n",
    "steps_per_epoch = len(padded_train_seq) / batch_size\n",
    "\n",
    "history = model.fit(\n",
    "    # gen,\n",
    "    padded_train_seq,\n",
    "    train_labels,\n",
    "    validation_data=(val_seq, val_labels),\n",
    "    steps_per_epoch=steps_per_epoch,\n",
    "    epochs=5,\n",
    "    callbacks=[\n",
    "        tf.keras.callbacks.EarlyStopping(monitor='val_accuracy', patience=2), # if model doesn't see improvement in val_accuracy after 2 epochs, it will stop training\n",
    "        model_checkpoint_callback\n",
    "    ]\n",
    ")"
   ]
  },
  {
   "cell_type": "code",
   "execution_count": 80,
   "metadata": {
    "colab": {
     "base_uri": "https://localhost:8080/",
     "height": 547
    },
    "executionInfo": {
     "elapsed": 529,
     "status": "ok",
     "timestamp": 1681002983577,
     "user": {
      "displayName": "Christian Montecillo",
      "userId": "02267957112746133644"
     },
     "user_tz": 360
    },
    "id": "1mfKwJdT1YFz",
    "outputId": "05ddfa5c-49d5-44bb-cc79-5da26d63c43c"
   },
   "outputs": [
    {
     "data": {
      "image/png": "[encoded data removed]",
      "text/plain": [
       "<Figure size 1600x600 with 2 Axes>"
      ]
     },
     "metadata": {},
     "output_type": "display_data"
    }
   ],
   "source": [
    "show_history(history)"
   ]
  },
  {
   "cell_type": "markdown",
   "metadata": {
    "id": "cBYWJDCg5eN1"
   },
   "source": [
    "***\n",
    "## 7 Evaluate the model using imbalanced test_df"
   ]
  },
  {
   "cell_type": "code",
   "execution_count": 81,
   "metadata": {
    "executionInfo": {
     "elapsed": 9,
     "status": "ok",
     "timestamp": 1681002983578,
     "user": {
      "displayName": "Christian Montecillo",
      "userId": "02267957112746133644"
     },
     "user_tz": 360
    },
    "id": "nDap2-694dQM"
   },
   "outputs": [],
   "source": [
    "# borrowing this from A3 assignment, but turned it into a function\n",
    "# classification report (cr) and confusion matrix (cm) from A3\n",
    "from sklearn.metrics import classification_report\n",
    "import seaborn as sns\n",
    "\n",
    "def make_cr_cm(preds, labels):\n",
    "\n",
    "  predictions_model = tf.argmax(preds, axis=-1)\n",
    "  predictions_model\n",
    "\n",
    "  # convert labels to string because classification_report needs target_names as str\n",
    "  # labels are currently ints, but will change to str of in (i.e. '0', '1', etc)\n",
    "  class_names = list(set([str(digit) for digit in labels]))\n",
    "\n",
    "  # convert digits in target_names to the actual name of the emotion from the \n",
    "  # using class_to_index dictionary (i.e. '0' -> 'love', '5' -> 'neutral', etc.)\n",
    "  class_names = [list(class_to_index_dict.keys())[list(class_to_index_dict.values()).index(int(name))] for name in class_names]\n",
    "\n",
    "  print('Classification Report:\\n\\n', classification_report(labels, predictions_model.numpy(), target_names=class_names))\n",
    "\n",
    "  print('Confusion Matrix:\\n')\n",
    "  \n",
    "  # confusion matrix from A3\n",
    "  cm = tf.math.confusion_matrix(labels, predictions_model)\n",
    "  cm = cm/cm.numpy().sum(axis=1)[:, tf.newaxis]\n",
    "\n",
    "  plt.figure(figsize=(20,7))\n",
    "  sns.heatmap(\n",
    "      cm, annot=True,\n",
    "      xticklabels=class_names,\n",
    "      yticklabels=class_names)\n",
    "  plt.xlabel(\"Predicted\")\n",
    "  plt.ylabel(\"True\")\n",
    "  plt.show()"
   ]
  },
  {
   "cell_type": "markdown",
   "metadata": {
    "id": "_a6PRIxbbDzo"
   },
   "source": [
    "### Padding the imbalanced test set for evaluation"
   ]
  },
  {
   "cell_type": "code",
   "execution_count": 82,
   "metadata": {
    "colab": {
     "base_uri": "https://localhost:8080/"
    },
    "executionInfo": {
     "elapsed": 576,
     "status": "ok",
     "timestamp": 1681002984147,
     "user": {
      "displayName": "Christian Montecillo",
      "userId": "02267957112746133644"
     },
     "user_tz": 360
    },
    "id": "gEMdQ78M2Rz-",
    "outputId": "e66424dc-ad55-493b-b0dc-b8ca23c98df4"
   },
   "outputs": [
    {
     "data": {
      "text/plain": [
       "array([  2,   3, 535,   5,  54, 868, 733,   0,   0,   0,   0,   0,   0,\n",
       "         0,   0,   0,   0,   0,   0,   0,   0,   0,   0,   0,   0,   0,\n",
       "         0,   0,   0,   0,   0,   0,   0,   0,   0,   0,   0,   0,   0,\n",
       "         0,   0,   0,   0,   0,   0,   0,   0,   0,   0,   0,   0,   0,\n",
       "         0,   0,   0,   0,   0,   0,   0,   0,   0,   0,   0,   0,   0,\n",
       "         0,   0,   0,   0,   0,   0,   0,   0,   0,   0,   0,   0,   0,\n",
       "         0,   0,   0,   0,   0,   0,   0,   0,   0,   0,   0,   0,   0,\n",
       "         0,   0,   0,   0,   0,   0,   0,   0,   0,   0,   0,   0,   0,\n",
       "         0,   0,   0,   0,   0,   0,   0,   0,   0,   0,   0,   0,   0,\n",
       "         0,   0,   0,   0,   0,   0,   0,   0,   0,   0,   0,   0,   0,\n",
       "         0,   0,   0,   0,   0,   0,   0,   0,   0,   0,   0,   0,   0,\n",
       "         0,   0,   0,   0,   0,   0,   0,   0,   0,   0,   0,   0,   0,\n",
       "         0,   0,   0,   0,   0,   0,   0,   0,   0,   0,   0,   0,   0,\n",
       "         0,   0,   0,   0,   0,   0,   0,   0,   0,   0,   0,   0,   0,\n",
       "         0,   0,   0,   0,   0,   0,   0,   0,   0,   0,   0,   0,   0,\n",
       "         0,   0,   0,   0,   0], dtype=int32)"
      ]
     },
     "execution_count": 82,
     "metadata": {},
     "output_type": "execute_result"
    }
   ],
   "source": [
    "padded_test_seq = get_sequences(tokenizer, test_df['text'])\n",
    "padded_test_seq[0]"
   ]
  },
  {
   "cell_type": "code",
   "execution_count": 83,
   "metadata": {
    "colab": {
     "base_uri": "https://localhost:8080/"
    },
    "executionInfo": {
     "elapsed": 9,
     "status": "ok",
     "timestamp": 1681002984148,
     "user": {
      "displayName": "Christian Montecillo",
      "userId": "02267957112746133644"
     },
     "user_tz": 360
    },
    "id": "jBACmE2L2sW1",
    "outputId": "04586ee0-a4c7-4f18-e03a-53ced2365974"
   },
   "outputs": [
    {
     "data": {
      "text/plain": [
       "{'sadness': 0,\n",
       " 'anger': 1,\n",
       " 'fear': 2,\n",
       " 'surprise': 3,\n",
       " 'joy': 4,\n",
       " 'love': 5,\n",
       " 'neutral': 6}"
      ]
     },
     "execution_count": 83,
     "metadata": {},
     "output_type": "execute_result"
    }
   ],
   "source": [
    "# reminder of the class_to_index mapping\n",
    "class_to_index_dict"
   ]
  },
  {
   "cell_type": "code",
   "execution_count": 84,
   "metadata": {
    "colab": {
     "base_uri": "https://localhost:8080/"
    },
    "executionInfo": {
     "elapsed": 5,
     "status": "ok",
     "timestamp": 1681002984148,
     "user": {
      "displayName": "Christian Montecillo",
      "userId": "02267957112746133644"
     },
     "user_tz": 360
    },
    "id": "YbXURKrqVaou",
    "outputId": "fcbe87b4-16e2-4c5e-a974-bd60958f1151"
   },
   "outputs": [
    {
     "name": "stdout",
     "output_type": "stream",
     "text": [
      "test_df.iloc[7]:\n",
      " text        i never orgasm the feeling is lovely\n",
      "emotions                                    love\n",
      "Name: 7, dtype: object\n",
      "numeric label: 5\n"
     ]
    }
   ],
   "source": [
    "# confirming if it worked (change index) and they should line up with above dict\n",
    "index = 7\n",
    "test_labels = names_to_ids(class_to_index_dict, test_df['emotions'])\n",
    "print('test_df.iloc[7]:\\n', test_df.iloc[index])\n",
    "print('numeric label:', test_labels[index])"
   ]
  },
  {
   "cell_type": "markdown",
   "metadata": {
    "id": "3sQ_CJUk6cHw"
   },
   "source": [
    "### Evaluating the model using test_df!!!"
   ]
  },
  {
   "cell_type": "code",
   "execution_count": 85,
   "metadata": {
    "colab": {
     "base_uri": "https://localhost:8080/"
    },
    "executionInfo": {
     "elapsed": 10255,
     "status": "ok",
     "timestamp": 1681002994518,
     "user": {
      "displayName": "Christian Montecillo",
      "userId": "02267957112746133644"
     },
     "user_tz": 360
    },
    "id": "053kYMU11ufb",
    "outputId": "b0d4846c-31ba-4816-ea1d-907810434ed4"
   },
   "outputs": [
    {
     "name": "stdout",
     "output_type": "stream",
     "text": [
      "1187/1187 [==============================] - 10s 8ms/step - loss: 0.1896 - accuracy: 0.9500\n"
     ]
    },
    {
     "data": {
      "text/plain": [
       "[0.18963074684143066, 0.9500012993812561]"
      ]
     },
     "execution_count": 85,
     "metadata": {},
     "output_type": "execute_result"
    }
   ],
   "source": [
    "model.evaluate(padded_test_seq, test_labels)"
   ]
  },
  {
   "cell_type": "code",
   "execution_count": 86,
   "metadata": {
    "colab": {
     "base_uri": "https://localhost:8080/"
    },
    "executionInfo": {
     "elapsed": 750,
     "status": "ok",
     "timestamp": 1681002995265,
     "user": {
      "displayName": "Christian Montecillo",
      "userId": "02267957112746133644"
     },
     "user_tz": 360
    },
    "id": "wyu3GMil3mJX",
    "outputId": "038a54fb-f03a-4724-e80a-2d0440c6836c"
   },
   "outputs": [
    {
     "name": "stdout",
     "output_type": "stream",
     "text": [
      "Sentence: text        i am not sure if youve felt somewhat like me b...\n",
      "emotions                                                anger\n",
      "Name: 5304, dtype: object\n",
      "Emotion: 1\n",
      "1/1 [==============================] - 1s 656ms/step\n",
      "Predicted Emotion: 1\n"
     ]
    }
   ],
   "source": [
    "# printing out a random tweet and its label, then calling\n",
    "# model.predict to see what the model predicts\n",
    "i = random.randint(0, len(test_labels) - 1)\n",
    "\n",
    "print('Sentence:', test_df.iloc[i])\n",
    "print('Emotion:', test_labels[i])\n",
    "\n",
    "p = model.predict(np.expand_dims(padded_test_seq[i], axis=0))[0]\n",
    "pred_class = np.argmax(p).astype('uint8')\n",
    "\n",
    "print('Predicted Emotion:', pred_class)"
   ]
  },
  {
   "cell_type": "code",
   "execution_count": 87,
   "metadata": {
    "colab": {
     "base_uri": "https://localhost:8080/"
    },
    "executionInfo": {
     "elapsed": 10308,
     "status": "ok",
     "timestamp": 1681003005563,
     "user": {
      "displayName": "Christian Montecillo",
      "userId": "02267957112746133644"
     },
     "user_tz": 360
    },
    "id": "91fRNuUubO7U",
    "outputId": "94671b08-37ca-4ddd-cb81-662eea1826b3"
   },
   "outputs": [
    {
     "name": "stdout",
     "output_type": "stream",
     "text": [
      "1187/1187 [==============================] - 9s 7ms/step\n"
     ]
    }
   ],
   "source": [
    "preds_imbalanced_test_set = model.predict(padded_test_seq)"
   ]
  },
  {
   "cell_type": "code",
   "execution_count": 88,
   "metadata": {
    "colab": {
     "base_uri": "https://localhost:8080/",
     "height": 954
    },
    "executionInfo": {
     "elapsed": 502,
     "status": "ok",
     "timestamp": 1681003006049,
     "user": {
      "displayName": "Christian Montecillo",
      "userId": "02267957112746133644"
     },
     "user_tz": 360
    },
    "id": "0d24DBx7-Jft",
    "outputId": "39f40932-c193-4342-97d8-74636967a806"
   },
   "outputs": [
    {
     "name": "stdout",
     "output_type": "stream",
     "text": [
      "Classification Report:\n",
      "\n",
      "               precision    recall  f1-score   support\n",
      "\n",
      "       anger       0.97      0.98      0.97     11587\n",
      "     sadness       0.96      0.94      0.95      5226\n",
      "        love       0.95      0.95      0.95      3955\n",
      "        fear       0.90      0.91      0.90       982\n",
      "         joy       0.98      0.95      0.97     12917\n",
      "     neutral       0.79      0.88      0.83      2434\n",
      "    surprise       0.79      0.95      0.86       860\n",
      "\n",
      "    accuracy                           0.95     37961\n",
      "   macro avg       0.90      0.94      0.92     37961\n",
      "weighted avg       0.95      0.95      0.95     37961\n",
      "\n",
      "Confusion Matrix:\n",
      "\n"
     ]
    },
    {
     "data": {
      "image/png": "[encoded data removed]",
      "text/plain": [
       "<Figure size 2000x700 with 2 Axes>"
      ]
     },
     "metadata": {},
     "output_type": "display_data"
    }
   ],
   "source": [
    "make_cr_cm(preds_imbalanced_test_set, test_labels)"
   ]
  },
  {
   "cell_type": "markdown",
   "metadata": {
    "id": "3-ekehsJ54yk"
   },
   "source": [
    "***\n",
    "## 8 Evaluating the model again, but with balanced_test_df!!!"
   ]
  },
  {
   "cell_type": "markdown",
   "metadata": {
    "id": "OSNNBLBDbU_J"
   },
   "source": [
    "### Padding the balanced test set for evaluation"
   ]
  },
  {
   "cell_type": "code",
   "execution_count": 89,
   "metadata": {
    "colab": {
     "base_uri": "https://localhost:8080/"
    },
    "executionInfo": {
     "elapsed": 4,
     "status": "ok",
     "timestamp": 1681003006049,
     "user": {
      "displayName": "Christian Montecillo",
      "userId": "02267957112746133644"
     },
     "user_tz": 360
    },
    "id": "z_w8r3SeVAWx",
    "outputId": "8e3309cb-96ff-4c18-e9b5-80354eee0cf3"
   },
   "outputs": [
    {
     "data": {
      "text/plain": [
       "array([   2,   55,   54,   33,    6,  235,   10,    6,  529,    9,   30,\n",
       "        112,   30,   66,   25,    4,    3,   59,    6,  235,    9, 1030,\n",
       "         30,   36,  141,  748,    6, 1840,   10,  116,    1,   10,  110,\n",
       "         30,  753, 1174,   19,    7, 1029,  859,    1, 2145,    0,    0,\n",
       "          0,    0,    0,    0,    0,    0,    0,    0,    0,    0,    0,\n",
       "          0,    0,    0,    0,    0,    0,    0,    0,    0,    0,    0,\n",
       "          0,    0,    0,    0,    0,    0,    0,    0,    0,    0,    0,\n",
       "          0,    0,    0,    0,    0,    0,    0,    0,    0,    0,    0,\n",
       "          0,    0,    0,    0,    0,    0,    0,    0,    0,    0,    0,\n",
       "          0,    0,    0,    0,    0,    0,    0,    0,    0,    0,    0,\n",
       "          0,    0,    0,    0,    0,    0,    0,    0,    0,    0,    0,\n",
       "          0,    0,    0,    0,    0,    0,    0,    0,    0,    0,    0,\n",
       "          0,    0,    0,    0,    0,    0,    0,    0,    0,    0,    0,\n",
       "          0,    0,    0,    0,    0,    0,    0,    0,    0,    0,    0,\n",
       "          0,    0,    0,    0,    0,    0,    0,    0,    0,    0,    0,\n",
       "          0,    0,    0,    0,    0,    0,    0,    0,    0,    0,    0,\n",
       "          0,    0,    0,    0,    0,    0,    0,    0,    0,    0,    0,\n",
       "          0,    0,    0,    0,    0,    0,    0,    0,    0,    0,    0,\n",
       "          0,    0], dtype=int32)"
      ]
     },
     "execution_count": 89,
     "metadata": {},
     "output_type": "execute_result"
    }
   ],
   "source": [
    "padded_balanced_test_seq = get_sequences(tokenizer, balanced_test_df['text'])\n",
    "padded_balanced_test_seq[0]"
   ]
  },
  {
   "cell_type": "code",
   "execution_count": 90,
   "metadata": {
    "colab": {
     "base_uri": "https://localhost:8080/"
    },
    "executionInfo": {
     "elapsed": 8,
     "status": "ok",
     "timestamp": 1681003006187,
     "user": {
      "displayName": "Christian Montecillo",
      "userId": "02267957112746133644"
     },
     "user_tz": 360
    },
    "id": "cedRkeI7VPig",
    "outputId": "719a14b6-5488-45fc-a132-50a460046046"
   },
   "outputs": [
    {
     "data": {
      "text/plain": [
       "{'sadness': 0,\n",
       " 'anger': 1,\n",
       " 'fear': 2,\n",
       " 'surprise': 3,\n",
       " 'joy': 4,\n",
       " 'love': 5,\n",
       " 'neutral': 6}"
      ]
     },
     "execution_count": 90,
     "metadata": {},
     "output_type": "execute_result"
    }
   ],
   "source": [
    "# reminder of the class_to_index mapping\n",
    "class_to_index_dict"
   ]
  },
  {
   "cell_type": "code",
   "execution_count": 91,
   "metadata": {
    "colab": {
     "base_uri": "https://localhost:8080/"
    },
    "executionInfo": {
     "elapsed": 7,
     "status": "ok",
     "timestamp": 1681003006187,
     "user": {
      "displayName": "Christian Montecillo",
      "userId": "02267957112746133644"
     },
     "user_tz": 360
    },
    "id": "hm-MP1dM3HQL",
    "outputId": "981c702f-3d21-4518-eb2f-5833c0ce8965"
   },
   "outputs": [
    {
     "name": "stdout",
     "output_type": "stream",
     "text": [
      "balanced_test_df.iloc[7]:\n",
      " text        i feel like i m wronged\n",
      "emotions                      anger\n",
      "Name: 7, dtype: object\n",
      "numeric label: 1\n"
     ]
    }
   ],
   "source": [
    "# confirming if it worked (change index) and they should line up with above dict\n",
    "index = 7\n",
    "balanced_test_labels = names_to_ids(class_to_index_dict, balanced_test_df['emotions'])\n",
    "print('balanced_test_df.iloc[7]:\\n', balanced_test_df.iloc[index])\n",
    "print('numeric label:', balanced_test_labels[index])"
   ]
  },
  {
   "cell_type": "markdown",
   "metadata": {
    "id": "MJasH3YlbfCW"
   },
   "source": [
    "### Evaluating the model using balanced_test_df!!!"
   ]
  },
  {
   "cell_type": "code",
   "execution_count": 92,
   "metadata": {
    "colab": {
     "base_uri": "https://localhost:8080/"
    },
    "executionInfo": {
     "elapsed": 1587,
     "status": "ok",
     "timestamp": 1681003007770,
     "user": {
      "displayName": "Christian Montecillo",
      "userId": "02267957112746133644"
     },
     "user_tz": 360
    },
    "id": "1X2dswfs83FG",
    "outputId": "edb74978-36ab-4d90-80f5-dca535b8be99"
   },
   "outputs": [
    {
     "name": "stdout",
     "output_type": "stream",
     "text": [
      "189/189 [==============================] - 2s 8ms/step - loss: 0.2808 - accuracy: 0.9349\n"
     ]
    },
    {
     "data": {
      "text/plain": [
       "[0.2808496356010437, 0.934883713722229]"
      ]
     },
     "execution_count": 92,
     "metadata": {},
     "output_type": "execute_result"
    }
   ],
   "source": [
    "model.evaluate(padded_balanced_test_seq, balanced_test_labels)"
   ]
  },
  {
   "cell_type": "code",
   "execution_count": 93,
   "metadata": {
    "colab": {
     "base_uri": "https://localhost:8080/"
    },
    "executionInfo": {
     "elapsed": 8,
     "status": "ok",
     "timestamp": 1681003007771,
     "user": {
      "displayName": "Christian Montecillo",
      "userId": "02267957112746133644"
     },
     "user_tz": 360
    },
    "id": "v98-_YwrV2t_",
    "outputId": "50482582-bca3-400d-f42a-f317bb09e923"
   },
   "outputs": [
    {
     "name": "stdout",
     "output_type": "stream",
     "text": [
      "Sentence: text        @MSMyPhone I need a code\n",
      "emotions                     neutral\n",
      "Name: 3863, dtype: object\n",
      "Emotion: 6\n",
      "1/1 [==============================] - 0s 25ms/step\n",
      "Predicted Emotion: 6\n"
     ]
    }
   ],
   "source": [
    "# printing out a random tweet and its label, then calling\n",
    "# model.predict to see what the model predicts\n",
    "i = random.randint(0, len(balanced_test_labels) - 1)\n",
    "\n",
    "print('Sentence:', balanced_test_df.iloc[i])\n",
    "print('Emotion:', balanced_test_labels[i])\n",
    "\n",
    "p = model.predict(np.expand_dims(padded_balanced_test_seq[i], axis=0))[0]\n",
    "pred_class = np.argmax(p).astype('uint8')\n",
    "\n",
    "print('Predicted Emotion:', pred_class)"
   ]
  },
  {
   "cell_type": "code",
   "execution_count": 94,
   "metadata": {
    "colab": {
     "base_uri": "https://localhost:8080/"
    },
    "executionInfo": {
     "elapsed": 1327,
     "status": "ok",
     "timestamp": 1681003009094,
     "user": {
      "displayName": "Christian Montecillo",
      "userId": "02267957112746133644"
     },
     "user_tz": 360
    },
    "id": "VtERWaIyiQ2k",
    "outputId": "9be72241-2319-499f-a525-56e0dd3548d1"
   },
   "outputs": [
    {
     "name": "stdout",
     "output_type": "stream",
     "text": [
      "189/189 [==============================] - 1s 6ms/step\n"
     ]
    }
   ],
   "source": [
    "preds_balanced_test_set = model.predict(padded_balanced_test_seq)"
   ]
  },
  {
   "cell_type": "code",
   "execution_count": 95,
   "metadata": {
    "colab": {
     "base_uri": "https://localhost:8080/",
     "height": 954
    },
    "executionInfo": {
     "elapsed": 371,
     "status": "ok",
     "timestamp": 1681003009575,
     "user": {
      "displayName": "Christian Montecillo",
      "userId": "02267957112746133644"
     },
     "user_tz": 360
    },
    "id": "I5qqhODF-hyO",
    "outputId": "89a765a9-6c51-4ba1-e90f-89e47aca7261"
   },
   "outputs": [
    {
     "name": "stdout",
     "output_type": "stream",
     "text": [
      "Classification Report:\n",
      "\n",
      "               precision    recall  f1-score   support\n",
      "\n",
      "       anger       0.90      0.98      0.94       860\n",
      "     sadness       0.93      0.93      0.93       860\n",
      "        love       0.93      0.95      0.94       860\n",
      "        fear       0.97      0.91      0.94       860\n",
      "         joy       0.94      0.95      0.94       860\n",
      "     neutral       0.91      0.88      0.89       860\n",
      "    surprise       0.96      0.95      0.96       860\n",
      "\n",
      "    accuracy                           0.93      6020\n",
      "   macro avg       0.94      0.93      0.93      6020\n",
      "weighted avg       0.94      0.93      0.93      6020\n",
      "\n",
      "Confusion Matrix:\n",
      "\n"
     ]
    },
    {
     "data": {
      "image/png": "[encoded data removed]",
      "text/plain": [
       "<Figure size 2000x700 with 2 Axes>"
      ]
     },
     "metadata": {},
     "output_type": "display_data"
    }
   ],
   "source": [
    "make_cr_cm(preds_balanced_test_set, balanced_test_labels)"
   ]
  }
 ],
 "metadata": {
  "accelerator": "GPU",
  "colab": {
   "provenance": [
    {
     "file_id": "1si0TY6-hs70VBlbYCS_6UQMdC1HopG7R",
     "timestamp": 1678417410096
    },
    {
     "file_id": "1GgqjlJKTRlHcJ97Fqdaa2dssTvFjb7jH",
     "timestamp": 1677994986960
    }
   ]
  },
  "gpuClass": "standard",
  "kernelspec": {
   "display_name": "Python 3 (ipykernel)",
   "language": "python",
   "name": "python3"
  },
  "language_info": {
   "codemirror_mode": {
    "name": "ipython",
    "version": 3
   },
   "file_extension": ".py",
   "mimetype": "text/x-python",
   "name": "python",
   "nbconvert_exporter": "python",
   "pygments_lexer": "ipython3",
   "version": "3.9.12"
  }
 },
 "nbformat": 4,
 "nbformat_minor": 1
}
