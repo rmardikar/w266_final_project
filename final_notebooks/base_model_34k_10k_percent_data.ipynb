{
 "cells": [
  {
   "cell_type": "markdown",
   "metadata": {
    "id": "z9rigx9lYp0r"
   },
   "source": [
    "***\n",
    "# Base Bi-LSTM Model using only 34k training and 10k of val of the original data of 90% training<br>\n",
    "***"
   ]
  },
  {
   "cell_type": "markdown",
   "metadata": {
    "id": "kX3XryQmcWhL"
   },
   "source": [
    "***\n",
    "## 1 Load the train/val/test/balanced test datasets"
   ]
  },
  {
   "cell_type": "code",
   "execution_count": 1,
   "metadata": {
    "colab": {
     "base_uri": "https://localhost:8080/"
    },
    "executionInfo": {
     "elapsed": 23890,
     "status": "ok",
     "timestamp": 1681001897307,
     "user": {
      "displayName": "Christian Montecillo",
      "userId": "02267957112746133644"
     },
     "user_tz": 360
    },
    "id": "06sIOQnaaF9P",
    "outputId": "08907f7f-aefd-4e07-c1e3-582050eefb96"
   },
   "outputs": [
    {
     "name": "stdout",
     "output_type": "stream",
     "text": [
      "Mounted at /content/gdrive\n"
     ]
    }
   ],
   "source": [
    "import pandas as pd\n",
    "import numpy as np\n",
    "\n",
    "# mount google drive\n",
    "from google.colab import drive \n",
    "drive.mount('/content/gdrive')"
   ]
  },
  {
   "cell_type": "code",
   "execution_count": 2,
   "metadata": {
    "executionInfo": {
     "elapsed": 4166,
     "status": "ok",
     "timestamp": 1681001901464,
     "user": {
      "displayName": "Christian Montecillo",
      "userId": "02267957112746133644"
     },
     "user_tz": 360
    },
    "id": "9j2cEQQtYMBR"
   },
   "outputs": [],
   "source": [
    "# read from the google drive\n",
    "project_folder = '/content/gdrive/MyDrive/266_Final_Project_Folder'\n",
    "\n",
    "version = '_34k_10k'\n",
    "\n",
    "train_source = project_folder + '/datasets/train_data_imbalanced_stratified_no_dupe' + version + '.csv'\n",
    "test_source = project_folder + '/datasets/test_data_imbalanced_stratified_no_dupe.csv'\n",
    "val_source = project_folder + '/datasets/validation_data_imbalanced_stratified_no_dupe' + version + '.csv'\n",
    "balanced_test_source = project_folder + '/datasets/test_data_balanced_no_dupe.csv'\n",
    "\n",
    "# Load the dfs\n",
    "train_df = pd.read_csv(train_source)\n",
    "test_df = pd.read_csv(test_source)\n",
    "val_df = pd.read_csv(val_source)\n",
    "balanced_test_df = pd.read_csv(balanced_test_source)\n",
    "\n",
    "# drop the tweet_id column\n",
    "train_df.drop(columns=train_df.columns[0], axis=1, inplace=True)\n",
    "test_df.drop(columns=test_df.columns[0], axis=1, inplace=True)\n",
    "val_df.drop(columns=val_df.columns[0], axis=1, inplace=True)\n",
    "balanced_test_df.drop(columns=balanced_test_df.columns[0], axis=1, inplace=True)"
   ]
  },
  {
   "cell_type": "markdown",
   "metadata": {
    "id": "IbaQ2JZUcJcH"
   },
   "source": [
    "### Confirm no overlapping records "
   ]
  },
  {
   "cell_type": "code",
   "execution_count": 3,
   "metadata": {
    "colab": {
     "base_uri": "https://localhost:8080/"
    },
    "executionInfo": {
     "elapsed": 36,
     "status": "ok",
     "timestamp": 1681001901464,
     "user": {
      "displayName": "Christian Montecillo",
      "userId": "02267957112746133644"
     },
     "user_tz": 360
    },
    "id": "PIydFV55QM8H",
    "outputId": "150ce9d0-da12-451c-ee52-033afca13dfa"
   },
   "outputs": [
    {
     "name": "stdout",
     "output_type": "stream",
     "text": [
      "Number of overlapping records, train-val: 0\n",
      "Number of overlapping records, val-train: 0\n",
      "Number of overlapping records, train-test: 0\n",
      "Number of overlapping records, test-train: 0\n",
      "Number of overlapping records, train-balanced test: 0\n",
      "Number of overlapping records, balanced test, train: 0\n"
     ]
    }
   ],
   "source": [
    "# Check if there are any records in train_df that are in val_df\n",
    "overlap = train_df['text'].isin(val_df['text'])\n",
    "print(f\"Number of overlapping records, train-val: {overlap.sum()}\")\n",
    "\n",
    "# Check if there are any records in val_df that are in train_df\n",
    "overlap = val_df['text'].isin(train_df['text'])\n",
    "print(f\"Number of overlapping records, val-train: {overlap.sum()}\")\n",
    "\n",
    "\n",
    "# Check if there are any records in train_df that are in test_df\n",
    "overlap = train_df['text'].isin(test_df['text'])\n",
    "print(f\"Number of overlapping records, train-test: {overlap.sum()}\")\n",
    "\n",
    "# Check if there are any records in test_df that are in train_df\n",
    "overlap = test_df['text'].isin(train_df['text'])\n",
    "print(f\"Number of overlapping records, test-train: {overlap.sum()}\")\n",
    "\n",
    "\n",
    "# Check if there are any records in train_df that are in balanced_test_df\n",
    "overlap = train_df['text'].isin(balanced_test_df['text'])\n",
    "print(f\"Number of overlapping records, train-balanced test: {overlap.sum()}\")\n",
    "\n",
    "# Check if there are any records in train_df that are in balanced_test_df\n",
    "overlap = balanced_test_df['text'].isin(train_df['text'])\n",
    "print(f\"Number of overlapping records, balanced test, train: {overlap.sum()}\")"
   ]
  },
  {
   "cell_type": "code",
   "execution_count": 4,
   "metadata": {
    "executionInfo": {
     "elapsed": 33,
     "status": "ok",
     "timestamp": 1681001901466,
     "user": {
      "displayName": "Christian Montecillo",
      "userId": "02267957112746133644"
     },
     "user_tz": 360
    },
    "id": "qCHjPSgG21l1"
   },
   "outputs": [],
   "source": [
    "# returns a dataframe with emotions as rows and count of those emotions and percentage of total in that df\n",
    "def get_proportions(data):\n",
    "  # get the value counts of each unique value\n",
    "  counts = data.value_counts()\n",
    "\n",
    "  # convert the counts to percentages\n",
    "  percentages = counts / counts.sum() * 100\n",
    "\n",
    "  return pd.DataFrame({'count': counts, 'percentage': percentages})"
   ]
  },
  {
   "cell_type": "code",
   "execution_count": 5,
   "metadata": {
    "colab": {
     "base_uri": "https://localhost:8080/"
    },
    "executionInfo": {
     "elapsed": 33,
     "status": "ok",
     "timestamp": 1681001901466,
     "user": {
      "displayName": "Christian Montecillo",
      "userId": "02267957112746133644"
     },
     "user_tz": 360
    },
    "id": "v-hxl_Pv224s",
    "outputId": "0114f54b-5147-48dd-cd27-5cfcd41e8a38"
   },
   "outputs": [
    {
     "name": "stdout",
     "output_type": "stream",
     "text": [
      "          count  percentage\n",
      "joy       11625   34.027046\n",
      "sadness   10428   30.523358\n",
      "anger      4703   13.765952\n",
      "fear       3560   10.420325\n",
      "love       2190    6.410256\n",
      "surprise    884    2.587519\n",
      "neutral     774    2.265543\n"
     ]
    }
   ],
   "source": [
    "print(get_proportions(train_df['emotions']))"
   ]
  },
  {
   "cell_type": "code",
   "execution_count": 6,
   "metadata": {
    "colab": {
     "base_uri": "https://localhost:8080/"
    },
    "executionInfo": {
     "elapsed": 28,
     "status": "ok",
     "timestamp": 1681001901466,
     "user": {
      "displayName": "Christian Montecillo",
      "userId": "02267957112746133644"
     },
     "user_tz": 360
    },
    "id": "Tly-roQr3Dsr",
    "outputId": "7fa66a08-e526-4b38-c4ef-c29da3728cd2"
   },
   "outputs": [
    {
     "name": "stdout",
     "output_type": "stream",
     "text": [
      "          count  percentage\n",
      "joy        3488   34.029268\n",
      "sadness    3129   30.526829\n",
      "anger      1411   13.765854\n",
      "fear       1068   10.419512\n",
      "love        657    6.409756\n",
      "surprise    265    2.585366\n",
      "neutral     232    2.263415\n"
     ]
    }
   ],
   "source": [
    "print(get_proportions(val_df['emotions']))"
   ]
  },
  {
   "cell_type": "code",
   "execution_count": 7,
   "metadata": {
    "colab": {
     "base_uri": "https://localhost:8080/"
    },
    "executionInfo": {
     "elapsed": 27,
     "status": "ok",
     "timestamp": 1681001901467,
     "user": {
      "displayName": "Christian Montecillo",
      "userId": "02267957112746133644"
     },
     "user_tz": 360
    },
    "id": "QGxDJ1e_3G4J",
    "outputId": "7321d204-4b6b-4698-a3d9-feb2eb527196"
   },
   "outputs": [
    {
     "name": "stdout",
     "output_type": "stream",
     "text": [
      "          count  percentage\n",
      "joy       12917   34.027028\n",
      "sadness   11587   30.523432\n",
      "anger      5226   13.766761\n",
      "fear       3955   10.418587\n",
      "love       2434    6.411844\n",
      "surprise    982    2.586865\n",
      "neutral     860    2.265483\n"
     ]
    }
   ],
   "source": [
    "print(get_proportions(test_df['emotions']))"
   ]
  },
  {
   "cell_type": "code",
   "execution_count": 8,
   "metadata": {
    "colab": {
     "base_uri": "https://localhost:8080/",
     "height": 424
    },
    "executionInfo": {
     "elapsed": 25,
     "status": "ok",
     "timestamp": 1681001901467,
     "user": {
      "displayName": "Christian Montecillo",
      "userId": "02267957112746133644"
     },
     "user_tz": 360
    },
    "id": "7W2PlC_Ulv0O",
    "outputId": "c9980d4e-46de-45b5-e25b-17de4ffe3fee"
   },
   "outputs": [
    {
     "data": {
      "text/html": [
       "\n",
       "  <div id=\"df-8f1bdb65-fb85-443f-8192-c0ab009dccdf\">\n",
       "    <div class=\"colab-df-container\">\n",
       "      <div>\n",
       "<style scoped>\n",
       "    .dataframe tbody tr th:only-of-type {\n",
       "        vertical-align: middle;\n",
       "    }\n",
       "\n",
       "    .dataframe tbody tr th {\n",
       "        vertical-align: top;\n",
       "    }\n",
       "\n",
       "    .dataframe thead th {\n",
       "        text-align: right;\n",
       "    }\n",
       "</style>\n",
       "<table border=\"1\" class=\"dataframe\">\n",
       "  <thead>\n",
       "    <tr style=\"text-align: right;\">\n",
       "      <th></th>\n",
       "      <th>text</th>\n",
       "      <th>emotions</th>\n",
       "    </tr>\n",
       "  </thead>\n",
       "  <tbody>\n",
       "    <tr>\n",
       "      <th>0</th>\n",
       "      <td>i am feeling really impatient</td>\n",
       "      <td>anger</td>\n",
       "    </tr>\n",
       "    <tr>\n",
       "      <th>1</th>\n",
       "      <td>i have a feeling that i am going to using thes...</td>\n",
       "      <td>joy</td>\n",
       "    </tr>\n",
       "    <tr>\n",
       "      <th>2</th>\n",
       "      <td>i feel like my life has just gotten considerab...</td>\n",
       "      <td>sadness</td>\n",
       "    </tr>\n",
       "    <tr>\n",
       "      <th>3</th>\n",
       "      <td>i had to sharpen up and concentrate and stop f...</td>\n",
       "      <td>joy</td>\n",
       "    </tr>\n",
       "    <tr>\n",
       "      <th>4</th>\n",
       "      <td>i just feel so strongly because of how loyal t...</td>\n",
       "      <td>love</td>\n",
       "    </tr>\n",
       "    <tr>\n",
       "      <th>...</th>\n",
       "      <td>...</td>\n",
       "      <td>...</td>\n",
       "    </tr>\n",
       "    <tr>\n",
       "      <th>34159</th>\n",
       "      <td>i am feeling very festive at the moment i thou...</td>\n",
       "      <td>joy</td>\n",
       "    </tr>\n",
       "    <tr>\n",
       "      <th>34160</th>\n",
       "      <td>i feel so proud of him and i am so grateful fo...</td>\n",
       "      <td>joy</td>\n",
       "    </tr>\n",
       "    <tr>\n",
       "      <th>34161</th>\n",
       "      <td>@daniellemhicks lol what!! where is it!</td>\n",
       "      <td>neutral</td>\n",
       "    </tr>\n",
       "    <tr>\n",
       "      <th>34162</th>\n",
       "      <td>i feel dirty is a theme for a href http www</td>\n",
       "      <td>sadness</td>\n",
       "    </tr>\n",
       "    <tr>\n",
       "      <th>34163</th>\n",
       "      <td>i go and i feel so tragic</td>\n",
       "      <td>sadness</td>\n",
       "    </tr>\n",
       "  </tbody>\n",
       "</table>\n",
       "<p>34164 rows × 2 columns</p>\n",
       "</div>\n",
       "      <button class=\"colab-df-convert\" onclick=\"convertToInteractive('df-8f1bdb65-fb85-443f-8192-c0ab009dccdf')\"\n",
       "              title=\"Convert this dataframe to an interactive table.\"\n",
       "              style=\"display:none;\">\n",
       "        \n",
       "  <svg xmlns=\"http://www.w3.org/2000/svg\" height=\"24px\"viewBox=\"0 0 24 24\"\n",
       "       width=\"24px\">\n",
       "    <path d=\"M0 0h24v24H0V0z\" fill=\"none\"/>\n",
       "    <path d=\"M18.56 5.44l.94 2.06.94-2.06 2.06-.94-2.06-.94-.94-2.06-.94 2.06-2.06.94zm-11 1L8.5 8.5l.94-2.06 2.06-.94-2.06-.94L8.5 2.5l-.94 2.06-2.06.94zm10 10l.94 2.06.94-2.06 2.06-.94-2.06-.94-.94-2.06-.94 2.06-2.06.94z\"/><path d=\"M17.41 7.96l-1.37-1.37c-.4-.4-.92-.59-1.43-.59-.52 0-1.04.2-1.43.59L10.3 9.45l-7.72 7.72c-.78.78-.78 2.05 0 2.83L4 21.41c.39.39.9.59 1.41.59.51 0 1.02-.2 1.41-.59l7.78-7.78 2.81-2.81c.8-.78.8-2.07 0-2.86zM5.41 20L4 18.59l7.72-7.72 1.47 1.35L5.41 20z\"/>\n",
       "  </svg>\n",
       "      </button>\n",
       "      \n",
       "  <style>\n",
       "    .colab-df-container {\n",
       "      display:flex;\n",
       "      flex-wrap:wrap;\n",
       "      gap: 12px;\n",
       "    }\n",
       "\n",
       "    .colab-df-convert {\n",
       "      background-color: #E8F0FE;\n",
       "      border: none;\n",
       "      border-radius: 50%;\n",
       "      cursor: pointer;\n",
       "      display: none;\n",
       "      fill: #1967D2;\n",
       "      height: 32px;\n",
       "      padding: 0 0 0 0;\n",
       "      width: 32px;\n",
       "    }\n",
       "\n",
       "    .colab-df-convert:hover {\n",
       "      background-color: #E2EBFA;\n",
       "      box-shadow: 0px 1px 2px rgba(60, 64, 67, 0.3), 0px 1px 3px 1px rgba(60, 64, 67, 0.15);\n",
       "      fill: #174EA6;\n",
       "    }\n",
       "\n",
       "    [theme=dark] .colab-df-convert {\n",
       "      background-color: #3B4455;\n",
       "      fill: #D2E3FC;\n",
       "    }\n",
       "\n",
       "    [theme=dark] .colab-df-convert:hover {\n",
       "      background-color: #434B5C;\n",
       "      box-shadow: 0px 1px 3px 1px rgba(0, 0, 0, 0.15);\n",
       "      filter: drop-shadow(0px 1px 2px rgba(0, 0, 0, 0.3));\n",
       "      fill: #FFFFFF;\n",
       "    }\n",
       "  </style>\n",
       "\n",
       "      <script>\n",
       "        const buttonEl =\n",
       "          document.querySelector('#df-8f1bdb65-fb85-443f-8192-c0ab009dccdf button.colab-df-convert');\n",
       "        buttonEl.style.display =\n",
       "          google.colab.kernel.accessAllowed ? 'block' : 'none';\n",
       "\n",
       "        async function convertToInteractive(key) {\n",
       "          const element = document.querySelector('#df-8f1bdb65-fb85-443f-8192-c0ab009dccdf');\n",
       "          const dataTable =\n",
       "            await google.colab.kernel.invokeFunction('convertToInteractive',\n",
       "                                                     [key], {});\n",
       "          if (!dataTable) return;\n",
       "\n",
       "          const docLinkHtml = 'Like what you see? Visit the ' +\n",
       "            '<a target=\"_blank\" href=https://colab.research.google.com/notebooks/data_table.ipynb>data table notebook</a>'\n",
       "            + ' to learn more about interactive tables.';\n",
       "          element.innerHTML = '';\n",
       "          dataTable['output_type'] = 'display_data';\n",
       "          await google.colab.output.renderOutput(dataTable, element);\n",
       "          const docLink = document.createElement('div');\n",
       "          docLink.innerHTML = docLinkHtml;\n",
       "          element.appendChild(docLink);\n",
       "        }\n",
       "      </script>\n",
       "    </div>\n",
       "  </div>\n",
       "  "
      ],
      "text/plain": [
       "                                                    text emotions\n",
       "0                          i am feeling really impatient    anger\n",
       "1      i have a feeling that i am going to using thes...      joy\n",
       "2      i feel like my life has just gotten considerab...  sadness\n",
       "3      i had to sharpen up and concentrate and stop f...      joy\n",
       "4      i just feel so strongly because of how loyal t...     love\n",
       "...                                                  ...      ...\n",
       "34159  i am feeling very festive at the moment i thou...      joy\n",
       "34160  i feel so proud of him and i am so grateful fo...      joy\n",
       "34161            @daniellemhicks lol what!! where is it!  neutral\n",
       "34162        i feel dirty is a theme for a href http www  sadness\n",
       "34163                          i go and i feel so tragic  sadness\n",
       "\n",
       "[34164 rows x 2 columns]"
      ]
     },
     "execution_count": 8,
     "metadata": {},
     "output_type": "execute_result"
    }
   ],
   "source": [
    "train_df"
   ]
  },
  {
   "cell_type": "code",
   "execution_count": 9,
   "metadata": {
    "colab": {
     "base_uri": "https://localhost:8080/",
     "height": 424
    },
    "executionInfo": {
     "elapsed": 23,
     "status": "ok",
     "timestamp": 1681001901468,
     "user": {
      "displayName": "Christian Montecillo",
      "userId": "02267957112746133644"
     },
     "user_tz": 360
    },
    "id": "DbdHIPy4l0s_",
    "outputId": "085782da-d595-44aa-eb41-4e57fd8ef0c5"
   },
   "outputs": [
    {
     "data": {
      "text/html": [
       "\n",
       "  <div id=\"df-cd457065-394e-4c94-9ae9-8ac9a515c1ec\">\n",
       "    <div class=\"colab-df-container\">\n",
       "      <div>\n",
       "<style scoped>\n",
       "    .dataframe tbody tr th:only-of-type {\n",
       "        vertical-align: middle;\n",
       "    }\n",
       "\n",
       "    .dataframe tbody tr th {\n",
       "        vertical-align: top;\n",
       "    }\n",
       "\n",
       "    .dataframe thead th {\n",
       "        text-align: right;\n",
       "    }\n",
       "</style>\n",
       "<table border=\"1\" class=\"dataframe\">\n",
       "  <thead>\n",
       "    <tr style=\"text-align: right;\">\n",
       "      <th></th>\n",
       "      <th>text</th>\n",
       "      <th>emotions</th>\n",
       "    </tr>\n",
       "  </thead>\n",
       "  <tbody>\n",
       "    <tr>\n",
       "      <th>0</th>\n",
       "      <td>i have a list of things that i can do on any d...</td>\n",
       "      <td>joy</td>\n",
       "    </tr>\n",
       "    <tr>\n",
       "      <th>1</th>\n",
       "      <td>i feel very confident that you will get an awe...</td>\n",
       "      <td>joy</td>\n",
       "    </tr>\n",
       "    <tr>\n",
       "      <th>2</th>\n",
       "      <td>i feel radiant and sometimes</td>\n",
       "      <td>joy</td>\n",
       "    </tr>\n",
       "    <tr>\n",
       "      <th>3</th>\n",
       "      <td>i feel this section was the strongest in the b...</td>\n",
       "      <td>love</td>\n",
       "    </tr>\n",
       "    <tr>\n",
       "      <th>4</th>\n",
       "      <td>i feel somewhat messaging really artistic</td>\n",
       "      <td>joy</td>\n",
       "    </tr>\n",
       "    <tr>\n",
       "      <th>...</th>\n",
       "      <td>...</td>\n",
       "      <td>...</td>\n",
       "    </tr>\n",
       "    <tr>\n",
       "      <th>10245</th>\n",
       "      <td>i feel envious of them they have great jobs th...</td>\n",
       "      <td>anger</td>\n",
       "    </tr>\n",
       "    <tr>\n",
       "      <th>10246</th>\n",
       "      <td>i slept better slept more sound but was still ...</td>\n",
       "      <td>fear</td>\n",
       "    </tr>\n",
       "    <tr>\n",
       "      <th>10247</th>\n",
       "      <td>i have been irritable for no reason and i feel...</td>\n",
       "      <td>anger</td>\n",
       "    </tr>\n",
       "    <tr>\n",
       "      <th>10248</th>\n",
       "      <td>ive been feeling kind of gloomy and weird abou...</td>\n",
       "      <td>sadness</td>\n",
       "    </tr>\n",
       "    <tr>\n",
       "      <th>10249</th>\n",
       "      <td>i guess its good that im not going to have a h...</td>\n",
       "      <td>sadness</td>\n",
       "    </tr>\n",
       "  </tbody>\n",
       "</table>\n",
       "<p>10250 rows × 2 columns</p>\n",
       "</div>\n",
       "      <button class=\"colab-df-convert\" onclick=\"convertToInteractive('df-cd457065-394e-4c94-9ae9-8ac9a515c1ec')\"\n",
       "              title=\"Convert this dataframe to an interactive table.\"\n",
       "              style=\"display:none;\">\n",
       "        \n",
       "  <svg xmlns=\"http://www.w3.org/2000/svg\" height=\"24px\"viewBox=\"0 0 24 24\"\n",
       "       width=\"24px\">\n",
       "    <path d=\"M0 0h24v24H0V0z\" fill=\"none\"/>\n",
       "    <path d=\"M18.56 5.44l.94 2.06.94-2.06 2.06-.94-2.06-.94-.94-2.06-.94 2.06-2.06.94zm-11 1L8.5 8.5l.94-2.06 2.06-.94-2.06-.94L8.5 2.5l-.94 2.06-2.06.94zm10 10l.94 2.06.94-2.06 2.06-.94-2.06-.94-.94-2.06-.94 2.06-2.06.94z\"/><path d=\"M17.41 7.96l-1.37-1.37c-.4-.4-.92-.59-1.43-.59-.52 0-1.04.2-1.43.59L10.3 9.45l-7.72 7.72c-.78.78-.78 2.05 0 2.83L4 21.41c.39.39.9.59 1.41.59.51 0 1.02-.2 1.41-.59l7.78-7.78 2.81-2.81c.8-.78.8-2.07 0-2.86zM5.41 20L4 18.59l7.72-7.72 1.47 1.35L5.41 20z\"/>\n",
       "  </svg>\n",
       "      </button>\n",
       "      \n",
       "  <style>\n",
       "    .colab-df-container {\n",
       "      display:flex;\n",
       "      flex-wrap:wrap;\n",
       "      gap: 12px;\n",
       "    }\n",
       "\n",
       "    .colab-df-convert {\n",
       "      background-color: #E8F0FE;\n",
       "      border: none;\n",
       "      border-radius: 50%;\n",
       "      cursor: pointer;\n",
       "      display: none;\n",
       "      fill: #1967D2;\n",
       "      height: 32px;\n",
       "      padding: 0 0 0 0;\n",
       "      width: 32px;\n",
       "    }\n",
       "\n",
       "    .colab-df-convert:hover {\n",
       "      background-color: #E2EBFA;\n",
       "      box-shadow: 0px 1px 2px rgba(60, 64, 67, 0.3), 0px 1px 3px 1px rgba(60, 64, 67, 0.15);\n",
       "      fill: #174EA6;\n",
       "    }\n",
       "\n",
       "    [theme=dark] .colab-df-convert {\n",
       "      background-color: #3B4455;\n",
       "      fill: #D2E3FC;\n",
       "    }\n",
       "\n",
       "    [theme=dark] .colab-df-convert:hover {\n",
       "      background-color: #434B5C;\n",
       "      box-shadow: 0px 1px 3px 1px rgba(0, 0, 0, 0.15);\n",
       "      filter: drop-shadow(0px 1px 2px rgba(0, 0, 0, 0.3));\n",
       "      fill: #FFFFFF;\n",
       "    }\n",
       "  </style>\n",
       "\n",
       "      <script>\n",
       "        const buttonEl =\n",
       "          document.querySelector('#df-cd457065-394e-4c94-9ae9-8ac9a515c1ec button.colab-df-convert');\n",
       "        buttonEl.style.display =\n",
       "          google.colab.kernel.accessAllowed ? 'block' : 'none';\n",
       "\n",
       "        async function convertToInteractive(key) {\n",
       "          const element = document.querySelector('#df-cd457065-394e-4c94-9ae9-8ac9a515c1ec');\n",
       "          const dataTable =\n",
       "            await google.colab.kernel.invokeFunction('convertToInteractive',\n",
       "                                                     [key], {});\n",
       "          if (!dataTable) return;\n",
       "\n",
       "          const docLinkHtml = 'Like what you see? Visit the ' +\n",
       "            '<a target=\"_blank\" href=https://colab.research.google.com/notebooks/data_table.ipynb>data table notebook</a>'\n",
       "            + ' to learn more about interactive tables.';\n",
       "          element.innerHTML = '';\n",
       "          dataTable['output_type'] = 'display_data';\n",
       "          await google.colab.output.renderOutput(dataTable, element);\n",
       "          const docLink = document.createElement('div');\n",
       "          docLink.innerHTML = docLinkHtml;\n",
       "          element.appendChild(docLink);\n",
       "        }\n",
       "      </script>\n",
       "    </div>\n",
       "  </div>\n",
       "  "
      ],
      "text/plain": [
       "                                                    text emotions\n",
       "0      i have a list of things that i can do on any d...      joy\n",
       "1      i feel very confident that you will get an awe...      joy\n",
       "2                           i feel radiant and sometimes      joy\n",
       "3      i feel this section was the strongest in the b...     love\n",
       "4              i feel somewhat messaging really artistic      joy\n",
       "...                                                  ...      ...\n",
       "10245  i feel envious of them they have great jobs th...    anger\n",
       "10246  i slept better slept more sound but was still ...     fear\n",
       "10247  i have been irritable for no reason and i feel...    anger\n",
       "10248  ive been feeling kind of gloomy and weird abou...  sadness\n",
       "10249  i guess its good that im not going to have a h...  sadness\n",
       "\n",
       "[10250 rows x 2 columns]"
      ]
     },
     "execution_count": 9,
     "metadata": {},
     "output_type": "execute_result"
    }
   ],
   "source": [
    "val_df"
   ]
  },
  {
   "cell_type": "code",
   "execution_count": 10,
   "metadata": {
    "colab": {
     "base_uri": "https://localhost:8080/",
     "height": 424
    },
    "executionInfo": {
     "elapsed": 21,
     "status": "ok",
     "timestamp": 1681001901468,
     "user": {
      "displayName": "Christian Montecillo",
      "userId": "02267957112746133644"
     },
     "user_tz": 360
    },
    "id": "-fIcWgjQly2u",
    "outputId": "f9948862-47eb-4c71-93b6-2596bfc9c88c"
   },
   "outputs": [
    {
     "data": {
      "text/html": [
       "\n",
       "  <div id=\"df-35ef00b9-9677-442b-80a6-d21c26e49ae9\">\n",
       "    <div class=\"colab-df-container\">\n",
       "      <div>\n",
       "<style scoped>\n",
       "    .dataframe tbody tr th:only-of-type {\n",
       "        vertical-align: middle;\n",
       "    }\n",
       "\n",
       "    .dataframe tbody tr th {\n",
       "        vertical-align: top;\n",
       "    }\n",
       "\n",
       "    .dataframe thead th {\n",
       "        text-align: right;\n",
       "    }\n",
       "</style>\n",
       "<table border=\"1\" class=\"dataframe\">\n",
       "  <thead>\n",
       "    <tr style=\"text-align: right;\">\n",
       "      <th></th>\n",
       "      <th>text</th>\n",
       "      <th>emotions</th>\n",
       "    </tr>\n",
       "  </thead>\n",
       "  <tbody>\n",
       "    <tr>\n",
       "      <th>0</th>\n",
       "      <td>i feel impatient to get moving forward</td>\n",
       "      <td>anger</td>\n",
       "    </tr>\n",
       "    <tr>\n",
       "      <th>1</th>\n",
       "      <td>i have decided to open wb to a few thoughtful ...</td>\n",
       "      <td>joy</td>\n",
       "    </tr>\n",
       "    <tr>\n",
       "      <th>2</th>\n",
       "      <td>i resolved at that moment to do my bit when i ...</td>\n",
       "      <td>sadness</td>\n",
       "    </tr>\n",
       "    <tr>\n",
       "      <th>3</th>\n",
       "      <td>i like his tip especially if you need assistan...</td>\n",
       "      <td>joy</td>\n",
       "    </tr>\n",
       "    <tr>\n",
       "      <th>4</th>\n",
       "      <td>i feel that if he did not want to be on the sh...</td>\n",
       "      <td>joy</td>\n",
       "    </tr>\n",
       "    <tr>\n",
       "      <th>...</th>\n",
       "      <td>...</td>\n",
       "      <td>...</td>\n",
       "    </tr>\n",
       "    <tr>\n",
       "      <th>37956</th>\n",
       "      <td>i am serving alongside other leaders in the de...</td>\n",
       "      <td>fear</td>\n",
       "    </tr>\n",
       "    <tr>\n",
       "      <th>37957</th>\n",
       "      <td>i am a little tipsy and feeling quite fond of ...</td>\n",
       "      <td>love</td>\n",
       "    </tr>\n",
       "    <tr>\n",
       "      <th>37958</th>\n",
       "      <td>i made my way to the front of the stage feelin...</td>\n",
       "      <td>fear</td>\n",
       "    </tr>\n",
       "    <tr>\n",
       "      <th>37959</th>\n",
       "      <td>i feel like nicholas is a really smart guy and...</td>\n",
       "      <td>joy</td>\n",
       "    </tr>\n",
       "    <tr>\n",
       "      <th>37960</th>\n",
       "      <td>i have been praying spiritually disciplining m...</td>\n",
       "      <td>joy</td>\n",
       "    </tr>\n",
       "  </tbody>\n",
       "</table>\n",
       "<p>37961 rows × 2 columns</p>\n",
       "</div>\n",
       "      <button class=\"colab-df-convert\" onclick=\"convertToInteractive('df-35ef00b9-9677-442b-80a6-d21c26e49ae9')\"\n",
       "              title=\"Convert this dataframe to an interactive table.\"\n",
       "              style=\"display:none;\">\n",
       "        \n",
       "  <svg xmlns=\"http://www.w3.org/2000/svg\" height=\"24px\"viewBox=\"0 0 24 24\"\n",
       "       width=\"24px\">\n",
       "    <path d=\"M0 0h24v24H0V0z\" fill=\"none\"/>\n",
       "    <path d=\"M18.56 5.44l.94 2.06.94-2.06 2.06-.94-2.06-.94-.94-2.06-.94 2.06-2.06.94zm-11 1L8.5 8.5l.94-2.06 2.06-.94-2.06-.94L8.5 2.5l-.94 2.06-2.06.94zm10 10l.94 2.06.94-2.06 2.06-.94-2.06-.94-.94-2.06-.94 2.06-2.06.94z\"/><path d=\"M17.41 7.96l-1.37-1.37c-.4-.4-.92-.59-1.43-.59-.52 0-1.04.2-1.43.59L10.3 9.45l-7.72 7.72c-.78.78-.78 2.05 0 2.83L4 21.41c.39.39.9.59 1.41.59.51 0 1.02-.2 1.41-.59l7.78-7.78 2.81-2.81c.8-.78.8-2.07 0-2.86zM5.41 20L4 18.59l7.72-7.72 1.47 1.35L5.41 20z\"/>\n",
       "  </svg>\n",
       "      </button>\n",
       "      \n",
       "  <style>\n",
       "    .colab-df-container {\n",
       "      display:flex;\n",
       "      flex-wrap:wrap;\n",
       "      gap: 12px;\n",
       "    }\n",
       "\n",
       "    .colab-df-convert {\n",
       "      background-color: #E8F0FE;\n",
       "      border: none;\n",
       "      border-radius: 50%;\n",
       "      cursor: pointer;\n",
       "      display: none;\n",
       "      fill: #1967D2;\n",
       "      height: 32px;\n",
       "      padding: 0 0 0 0;\n",
       "      width: 32px;\n",
       "    }\n",
       "\n",
       "    .colab-df-convert:hover {\n",
       "      background-color: #E2EBFA;\n",
       "      box-shadow: 0px 1px 2px rgba(60, 64, 67, 0.3), 0px 1px 3px 1px rgba(60, 64, 67, 0.15);\n",
       "      fill: #174EA6;\n",
       "    }\n",
       "\n",
       "    [theme=dark] .colab-df-convert {\n",
       "      background-color: #3B4455;\n",
       "      fill: #D2E3FC;\n",
       "    }\n",
       "\n",
       "    [theme=dark] .colab-df-convert:hover {\n",
       "      background-color: #434B5C;\n",
       "      box-shadow: 0px 1px 3px 1px rgba(0, 0, 0, 0.15);\n",
       "      filter: drop-shadow(0px 1px 2px rgba(0, 0, 0, 0.3));\n",
       "      fill: #FFFFFF;\n",
       "    }\n",
       "  </style>\n",
       "\n",
       "      <script>\n",
       "        const buttonEl =\n",
       "          document.querySelector('#df-35ef00b9-9677-442b-80a6-d21c26e49ae9 button.colab-df-convert');\n",
       "        buttonEl.style.display =\n",
       "          google.colab.kernel.accessAllowed ? 'block' : 'none';\n",
       "\n",
       "        async function convertToInteractive(key) {\n",
       "          const element = document.querySelector('#df-35ef00b9-9677-442b-80a6-d21c26e49ae9');\n",
       "          const dataTable =\n",
       "            await google.colab.kernel.invokeFunction('convertToInteractive',\n",
       "                                                     [key], {});\n",
       "          if (!dataTable) return;\n",
       "\n",
       "          const docLinkHtml = 'Like what you see? Visit the ' +\n",
       "            '<a target=\"_blank\" href=https://colab.research.google.com/notebooks/data_table.ipynb>data table notebook</a>'\n",
       "            + ' to learn more about interactive tables.';\n",
       "          element.innerHTML = '';\n",
       "          dataTable['output_type'] = 'display_data';\n",
       "          await google.colab.output.renderOutput(dataTable, element);\n",
       "          const docLink = document.createElement('div');\n",
       "          docLink.innerHTML = docLinkHtml;\n",
       "          element.appendChild(docLink);\n",
       "        }\n",
       "      </script>\n",
       "    </div>\n",
       "  </div>\n",
       "  "
      ],
      "text/plain": [
       "                                                    text emotions\n",
       "0                 i feel impatient to get moving forward    anger\n",
       "1      i have decided to open wb to a few thoughtful ...      joy\n",
       "2      i resolved at that moment to do my bit when i ...  sadness\n",
       "3      i like his tip especially if you need assistan...      joy\n",
       "4      i feel that if he did not want to be on the sh...      joy\n",
       "...                                                  ...      ...\n",
       "37956  i am serving alongside other leaders in the de...     fear\n",
       "37957  i am a little tipsy and feeling quite fond of ...     love\n",
       "37958  i made my way to the front of the stage feelin...     fear\n",
       "37959  i feel like nicholas is a really smart guy and...      joy\n",
       "37960  i have been praying spiritually disciplining m...      joy\n",
       "\n",
       "[37961 rows x 2 columns]"
      ]
     },
     "execution_count": 10,
     "metadata": {},
     "output_type": "execute_result"
    }
   ],
   "source": [
    "test_df"
   ]
  },
  {
   "cell_type": "code",
   "execution_count": 11,
   "metadata": {
    "colab": {
     "base_uri": "https://localhost:8080/",
     "height": 424
    },
    "executionInfo": {
     "elapsed": 20,
     "status": "ok",
     "timestamp": 1681001901469,
     "user": {
      "displayName": "Christian Montecillo",
      "userId": "02267957112746133644"
     },
     "user_tz": 360
    },
    "id": "TiJHw1f3cDIn",
    "outputId": "6f701398-ff3c-4a03-965f-b7f711833f60"
   },
   "outputs": [
    {
     "data": {
      "text/html": [
       "\n",
       "  <div id=\"df-25ae94dd-8745-419f-af90-29a95a2068f0\">\n",
       "    <div class=\"colab-df-container\">\n",
       "      <div>\n",
       "<style scoped>\n",
       "    .dataframe tbody tr th:only-of-type {\n",
       "        vertical-align: middle;\n",
       "    }\n",
       "\n",
       "    .dataframe tbody tr th {\n",
       "        vertical-align: top;\n",
       "    }\n",
       "\n",
       "    .dataframe thead th {\n",
       "        text-align: right;\n",
       "    }\n",
       "</style>\n",
       "<table border=\"1\" class=\"dataframe\">\n",
       "  <thead>\n",
       "    <tr style=\"text-align: right;\">\n",
       "      <th></th>\n",
       "      <th>text</th>\n",
       "      <th>emotions</th>\n",
       "    </tr>\n",
       "  </thead>\n",
       "  <tbody>\n",
       "    <tr>\n",
       "      <th>0</th>\n",
       "      <td>i will get at the heart of the matter that you...</td>\n",
       "      <td>anger</td>\n",
       "    </tr>\n",
       "    <tr>\n",
       "      <th>1</th>\n",
       "      <td>i still feel selfish about it at times</td>\n",
       "      <td>anger</td>\n",
       "    </tr>\n",
       "    <tr>\n",
       "      <th>2</th>\n",
       "      <td>i feel a sarcastic emptyness and void in my life</td>\n",
       "      <td>anger</td>\n",
       "    </tr>\n",
       "    <tr>\n",
       "      <th>3</th>\n",
       "      <td>overeating a traditional type of food blood pu...</td>\n",
       "      <td>anger</td>\n",
       "    </tr>\n",
       "    <tr>\n",
       "      <th>4</th>\n",
       "      <td>i just have this feeling that im going to be b...</td>\n",
       "      <td>anger</td>\n",
       "    </tr>\n",
       "    <tr>\n",
       "      <th>...</th>\n",
       "      <td>...</td>\n",
       "      <td>...</td>\n",
       "    </tr>\n",
       "    <tr>\n",
       "      <th>6015</th>\n",
       "      <td>i am giving myself permission to feel funny aga</td>\n",
       "      <td>surprise</td>\n",
       "    </tr>\n",
       "    <tr>\n",
       "      <th>6016</th>\n",
       "      <td>i feel shocked angry confused</td>\n",
       "      <td>surprise</td>\n",
       "    </tr>\n",
       "    <tr>\n",
       "      <th>6017</th>\n",
       "      <td>im writing this blog post and feeling totally ...</td>\n",
       "      <td>surprise</td>\n",
       "    </tr>\n",
       "    <tr>\n",
       "      <th>6018</th>\n",
       "      <td>i feel this for all my grandchildren and with ...</td>\n",
       "      <td>surprise</td>\n",
       "    </tr>\n",
       "    <tr>\n",
       "      <th>6019</th>\n",
       "      <td>i think that s the prevailing feeling with all...</td>\n",
       "      <td>surprise</td>\n",
       "    </tr>\n",
       "  </tbody>\n",
       "</table>\n",
       "<p>6020 rows × 2 columns</p>\n",
       "</div>\n",
       "      <button class=\"colab-df-convert\" onclick=\"convertToInteractive('df-25ae94dd-8745-419f-af90-29a95a2068f0')\"\n",
       "              title=\"Convert this dataframe to an interactive table.\"\n",
       "              style=\"display:none;\">\n",
       "        \n",
       "  <svg xmlns=\"http://www.w3.org/2000/svg\" height=\"24px\"viewBox=\"0 0 24 24\"\n",
       "       width=\"24px\">\n",
       "    <path d=\"M0 0h24v24H0V0z\" fill=\"none\"/>\n",
       "    <path d=\"M18.56 5.44l.94 2.06.94-2.06 2.06-.94-2.06-.94-.94-2.06-.94 2.06-2.06.94zm-11 1L8.5 8.5l.94-2.06 2.06-.94-2.06-.94L8.5 2.5l-.94 2.06-2.06.94zm10 10l.94 2.06.94-2.06 2.06-.94-2.06-.94-.94-2.06-.94 2.06-2.06.94z\"/><path d=\"M17.41 7.96l-1.37-1.37c-.4-.4-.92-.59-1.43-.59-.52 0-1.04.2-1.43.59L10.3 9.45l-7.72 7.72c-.78.78-.78 2.05 0 2.83L4 21.41c.39.39.9.59 1.41.59.51 0 1.02-.2 1.41-.59l7.78-7.78 2.81-2.81c.8-.78.8-2.07 0-2.86zM5.41 20L4 18.59l7.72-7.72 1.47 1.35L5.41 20z\"/>\n",
       "  </svg>\n",
       "      </button>\n",
       "      \n",
       "  <style>\n",
       "    .colab-df-container {\n",
       "      display:flex;\n",
       "      flex-wrap:wrap;\n",
       "      gap: 12px;\n",
       "    }\n",
       "\n",
       "    .colab-df-convert {\n",
       "      background-color: #E8F0FE;\n",
       "      border: none;\n",
       "      border-radius: 50%;\n",
       "      cursor: pointer;\n",
       "      display: none;\n",
       "      fill: #1967D2;\n",
       "      height: 32px;\n",
       "      padding: 0 0 0 0;\n",
       "      width: 32px;\n",
       "    }\n",
       "\n",
       "    .colab-df-convert:hover {\n",
       "      background-color: #E2EBFA;\n",
       "      box-shadow: 0px 1px 2px rgba(60, 64, 67, 0.3), 0px 1px 3px 1px rgba(60, 64, 67, 0.15);\n",
       "      fill: #174EA6;\n",
       "    }\n",
       "\n",
       "    [theme=dark] .colab-df-convert {\n",
       "      background-color: #3B4455;\n",
       "      fill: #D2E3FC;\n",
       "    }\n",
       "\n",
       "    [theme=dark] .colab-df-convert:hover {\n",
       "      background-color: #434B5C;\n",
       "      box-shadow: 0px 1px 3px 1px rgba(0, 0, 0, 0.15);\n",
       "      filter: drop-shadow(0px 1px 2px rgba(0, 0, 0, 0.3));\n",
       "      fill: #FFFFFF;\n",
       "    }\n",
       "  </style>\n",
       "\n",
       "      <script>\n",
       "        const buttonEl =\n",
       "          document.querySelector('#df-25ae94dd-8745-419f-af90-29a95a2068f0 button.colab-df-convert');\n",
       "        buttonEl.style.display =\n",
       "          google.colab.kernel.accessAllowed ? 'block' : 'none';\n",
       "\n",
       "        async function convertToInteractive(key) {\n",
       "          const element = document.querySelector('#df-25ae94dd-8745-419f-af90-29a95a2068f0');\n",
       "          const dataTable =\n",
       "            await google.colab.kernel.invokeFunction('convertToInteractive',\n",
       "                                                     [key], {});\n",
       "          if (!dataTable) return;\n",
       "\n",
       "          const docLinkHtml = 'Like what you see? Visit the ' +\n",
       "            '<a target=\"_blank\" href=https://colab.research.google.com/notebooks/data_table.ipynb>data table notebook</a>'\n",
       "            + ' to learn more about interactive tables.';\n",
       "          element.innerHTML = '';\n",
       "          dataTable['output_type'] = 'display_data';\n",
       "          await google.colab.output.renderOutput(dataTable, element);\n",
       "          const docLink = document.createElement('div');\n",
       "          docLink.innerHTML = docLinkHtml;\n",
       "          element.appendChild(docLink);\n",
       "        }\n",
       "      </script>\n",
       "    </div>\n",
       "  </div>\n",
       "  "
      ],
      "text/plain": [
       "                                                   text  emotions\n",
       "0     i will get at the heart of the matter that you...     anger\n",
       "1                i still feel selfish about it at times     anger\n",
       "2      i feel a sarcastic emptyness and void in my life     anger\n",
       "3     overeating a traditional type of food blood pu...     anger\n",
       "4     i just have this feeling that im going to be b...     anger\n",
       "...                                                 ...       ...\n",
       "6015    i am giving myself permission to feel funny aga  surprise\n",
       "6016                      i feel shocked angry confused  surprise\n",
       "6017  im writing this blog post and feeling totally ...  surprise\n",
       "6018  i feel this for all my grandchildren and with ...  surprise\n",
       "6019  i think that s the prevailing feeling with all...  surprise\n",
       "\n",
       "[6020 rows x 2 columns]"
      ]
     },
     "execution_count": 11,
     "metadata": {},
     "output_type": "execute_result"
    }
   ],
   "source": [
    "balanced_test_df"
   ]
  },
  {
   "cell_type": "markdown",
   "metadata": {
    "id": "6IFXAvHAcWhN"
   },
   "source": [
    "***\n",
    "## 2 Tokenizer"
   ]
  },
  {
   "cell_type": "markdown",
   "metadata": {
    "id": "s4tMqwk8mRsF"
   },
   "source": [
    "### Find the top word count (frequency > 10)\n",
    "We'll use this number as our vocabulary size"
   ]
  },
  {
   "cell_type": "code",
   "execution_count": 12,
   "metadata": {
    "colab": {
     "base_uri": "https://localhost:8080/",
     "height": 424
    },
    "executionInfo": {
     "elapsed": 320,
     "status": "ok",
     "timestamp": 1681001901770,
     "user": {
      "displayName": "Christian Montecillo",
      "userId": "02267957112746133644"
     },
     "user_tz": 360
    },
    "id": "WboHk47gn6Mm",
    "outputId": "a72b82b1-252a-4440-bef9-8153a93a0d48"
   },
   "outputs": [
    {
     "data": {
      "text/html": [
       "\n",
       "  <div id=\"df-ca5c7d83-56ce-4a93-8e8c-408a2a5be3a9\">\n",
       "    <div class=\"colab-df-container\">\n",
       "      <div>\n",
       "<style scoped>\n",
       "    .dataframe tbody tr th:only-of-type {\n",
       "        vertical-align: middle;\n",
       "    }\n",
       "\n",
       "    .dataframe tbody tr th {\n",
       "        vertical-align: top;\n",
       "    }\n",
       "\n",
       "    .dataframe thead th {\n",
       "        text-align: right;\n",
       "    }\n",
       "</style>\n",
       "<table border=\"1\" class=\"dataframe\">\n",
       "  <thead>\n",
       "    <tr style=\"text-align: right;\">\n",
       "      <th></th>\n",
       "      <th>words</th>\n",
       "      <th>count</th>\n",
       "    </tr>\n",
       "  </thead>\n",
       "  <tbody>\n",
       "    <tr>\n",
       "      <th>0</th>\n",
       "      <td>!</td>\n",
       "      <td>3</td>\n",
       "    </tr>\n",
       "    <tr>\n",
       "      <th>1</th>\n",
       "      <td>!!</td>\n",
       "      <td>1</td>\n",
       "    </tr>\n",
       "    <tr>\n",
       "      <th>2</th>\n",
       "      <td>!!my</td>\n",
       "      <td>1</td>\n",
       "    </tr>\n",
       "    <tr>\n",
       "      <th>3</th>\n",
       "      <td>#Apple</td>\n",
       "      <td>1</td>\n",
       "    </tr>\n",
       "    <tr>\n",
       "      <th>4</th>\n",
       "      <td>#BGT</td>\n",
       "      <td>1</td>\n",
       "    </tr>\n",
       "    <tr>\n",
       "      <th>...</th>\n",
       "      <td>...</td>\n",
       "      <td>...</td>\n",
       "    </tr>\n",
       "    <tr>\n",
       "      <th>25033</th>\n",
       "      <td>|</td>\n",
       "      <td>1</td>\n",
       "    </tr>\n",
       "    <tr>\n",
       "      <th>25034</th>\n",
       "      <td>~</td>\n",
       "      <td>1</td>\n",
       "    </tr>\n",
       "    <tr>\n",
       "      <th>25035</th>\n",
       "      <td>ï¿½</td>\n",
       "      <td>1</td>\n",
       "    </tr>\n",
       "    <tr>\n",
       "      <th>25036</th>\n",
       "      <td>ï¿½WHYYY????????</td>\n",
       "      <td>1</td>\n",
       "    </tr>\n",
       "    <tr>\n",
       "      <th>25037</th>\n",
       "      <td>ï¿½why?</td>\n",
       "      <td>1</td>\n",
       "    </tr>\n",
       "  </tbody>\n",
       "</table>\n",
       "<p>25038 rows × 2 columns</p>\n",
       "</div>\n",
       "      <button class=\"colab-df-convert\" onclick=\"convertToInteractive('df-ca5c7d83-56ce-4a93-8e8c-408a2a5be3a9')\"\n",
       "              title=\"Convert this dataframe to an interactive table.\"\n",
       "              style=\"display:none;\">\n",
       "        \n",
       "  <svg xmlns=\"http://www.w3.org/2000/svg\" height=\"24px\"viewBox=\"0 0 24 24\"\n",
       "       width=\"24px\">\n",
       "    <path d=\"M0 0h24v24H0V0z\" fill=\"none\"/>\n",
       "    <path d=\"M18.56 5.44l.94 2.06.94-2.06 2.06-.94-2.06-.94-.94-2.06-.94 2.06-2.06.94zm-11 1L8.5 8.5l.94-2.06 2.06-.94-2.06-.94L8.5 2.5l-.94 2.06-2.06.94zm10 10l.94 2.06.94-2.06 2.06-.94-2.06-.94-.94-2.06-.94 2.06-2.06.94z\"/><path d=\"M17.41 7.96l-1.37-1.37c-.4-.4-.92-.59-1.43-.59-.52 0-1.04.2-1.43.59L10.3 9.45l-7.72 7.72c-.78.78-.78 2.05 0 2.83L4 21.41c.39.39.9.59 1.41.59.51 0 1.02-.2 1.41-.59l7.78-7.78 2.81-2.81c.8-.78.8-2.07 0-2.86zM5.41 20L4 18.59l7.72-7.72 1.47 1.35L5.41 20z\"/>\n",
       "  </svg>\n",
       "      </button>\n",
       "      \n",
       "  <style>\n",
       "    .colab-df-container {\n",
       "      display:flex;\n",
       "      flex-wrap:wrap;\n",
       "      gap: 12px;\n",
       "    }\n",
       "\n",
       "    .colab-df-convert {\n",
       "      background-color: #E8F0FE;\n",
       "      border: none;\n",
       "      border-radius: 50%;\n",
       "      cursor: pointer;\n",
       "      display: none;\n",
       "      fill: #1967D2;\n",
       "      height: 32px;\n",
       "      padding: 0 0 0 0;\n",
       "      width: 32px;\n",
       "    }\n",
       "\n",
       "    .colab-df-convert:hover {\n",
       "      background-color: #E2EBFA;\n",
       "      box-shadow: 0px 1px 2px rgba(60, 64, 67, 0.3), 0px 1px 3px 1px rgba(60, 64, 67, 0.15);\n",
       "      fill: #174EA6;\n",
       "    }\n",
       "\n",
       "    [theme=dark] .colab-df-convert {\n",
       "      background-color: #3B4455;\n",
       "      fill: #D2E3FC;\n",
       "    }\n",
       "\n",
       "    [theme=dark] .colab-df-convert:hover {\n",
       "      background-color: #434B5C;\n",
       "      box-shadow: 0px 1px 3px 1px rgba(0, 0, 0, 0.15);\n",
       "      filter: drop-shadow(0px 1px 2px rgba(0, 0, 0, 0.3));\n",
       "      fill: #FFFFFF;\n",
       "    }\n",
       "  </style>\n",
       "\n",
       "      <script>\n",
       "        const buttonEl =\n",
       "          document.querySelector('#df-ca5c7d83-56ce-4a93-8e8c-408a2a5be3a9 button.colab-df-convert');\n",
       "        buttonEl.style.display =\n",
       "          google.colab.kernel.accessAllowed ? 'block' : 'none';\n",
       "\n",
       "        async function convertToInteractive(key) {\n",
       "          const element = document.querySelector('#df-ca5c7d83-56ce-4a93-8e8c-408a2a5be3a9');\n",
       "          const dataTable =\n",
       "            await google.colab.kernel.invokeFunction('convertToInteractive',\n",
       "                                                     [key], {});\n",
       "          if (!dataTable) return;\n",
       "\n",
       "          const docLinkHtml = 'Like what you see? Visit the ' +\n",
       "            '<a target=\"_blank\" href=https://colab.research.google.com/notebooks/data_table.ipynb>data table notebook</a>'\n",
       "            + ' to learn more about interactive tables.';\n",
       "          element.innerHTML = '';\n",
       "          dataTable['output_type'] = 'display_data';\n",
       "          await google.colab.output.renderOutput(dataTable, element);\n",
       "          const docLink = document.createElement('div');\n",
       "          docLink.innerHTML = docLinkHtml;\n",
       "          element.appendChild(docLink);\n",
       "        }\n",
       "      </script>\n",
       "    </div>\n",
       "  </div>\n",
       "  "
      ],
      "text/plain": [
       "                  words  count\n",
       "0                     !      3\n",
       "1                    !!      1\n",
       "2                  !!my      1\n",
       "3                #Apple      1\n",
       "4                  #BGT      1\n",
       "...                 ...    ...\n",
       "25033                 |      1\n",
       "25034                 ~      1\n",
       "25035               ï¿½      1\n",
       "25036  ï¿½WHYYY????????      1\n",
       "25037           ï¿½why?      1\n",
       "\n",
       "[25038 rows x 2 columns]"
      ]
     },
     "execution_count": 12,
     "metadata": {},
     "output_type": "execute_result"
    }
   ],
   "source": [
    "# Split the text column into a list of words\n",
    "words_df = train_df['text'].str.split().to_frame('words')\n",
    "\n",
    "# Explode the list of words into separate rows\n",
    "words_df = words_df.explode('words')\n",
    "\n",
    "# Group by the words and count their occurrences\n",
    "words_df = words_df.groupby('words').size().reset_index(name='count')\n",
    "words_df"
   ]
  },
  {
   "cell_type": "code",
   "execution_count": 13,
   "metadata": {
    "colab": {
     "base_uri": "https://localhost:8080/",
     "height": 424
    },
    "executionInfo": {
     "elapsed": 7,
     "status": "ok",
     "timestamp": 1681001901771,
     "user": {
      "displayName": "Christian Montecillo",
      "userId": "02267957112746133644"
     },
     "user_tz": 360
    },
    "id": "rjvGdb_erVyw",
    "outputId": "d008f76a-c021-47a1-d979-7a85f6e1d707"
   },
   "outputs": [
    {
     "data": {
      "text/html": [
       "\n",
       "  <div id=\"df-f456d6ee-94ed-4f77-905d-20bdbc733a13\">\n",
       "    <div class=\"colab-df-container\">\n",
       "      <div>\n",
       "<style scoped>\n",
       "    .dataframe tbody tr th:only-of-type {\n",
       "        vertical-align: middle;\n",
       "    }\n",
       "\n",
       "    .dataframe tbody tr th {\n",
       "        vertical-align: top;\n",
       "    }\n",
       "\n",
       "    .dataframe thead th {\n",
       "        text-align: right;\n",
       "    }\n",
       "</style>\n",
       "<table border=\"1\" class=\"dataframe\">\n",
       "  <thead>\n",
       "    <tr style=\"text-align: right;\">\n",
       "      <th></th>\n",
       "      <th>words</th>\n",
       "      <th>count</th>\n",
       "    </tr>\n",
       "  </thead>\n",
       "  <tbody>\n",
       "    <tr>\n",
       "      <th>11383</th>\n",
       "      <td>i</td>\n",
       "      <td>53887</td>\n",
       "    </tr>\n",
       "    <tr>\n",
       "      <th>8865</th>\n",
       "      <td>feel</td>\n",
       "      <td>23028</td>\n",
       "    </tr>\n",
       "    <tr>\n",
       "      <th>2084</th>\n",
       "      <td>and</td>\n",
       "      <td>19673</td>\n",
       "    </tr>\n",
       "    <tr>\n",
       "      <th>22451</th>\n",
       "      <td>to</td>\n",
       "      <td>18832</td>\n",
       "    </tr>\n",
       "    <tr>\n",
       "      <th>22122</th>\n",
       "      <td>the</td>\n",
       "      <td>17340</td>\n",
       "    </tr>\n",
       "    <tr>\n",
       "      <th>...</th>\n",
       "      <td>...</td>\n",
       "      <td>...</td>\n",
       "    </tr>\n",
       "    <tr>\n",
       "      <th>22665</th>\n",
       "      <td>trailer</td>\n",
       "      <td>11</td>\n",
       "    </tr>\n",
       "    <tr>\n",
       "      <th>9401</th>\n",
       "      <td>foundation</td>\n",
       "      <td>11</td>\n",
       "    </tr>\n",
       "    <tr>\n",
       "      <th>9508</th>\n",
       "      <td>friendships</td>\n",
       "      <td>11</td>\n",
       "    </tr>\n",
       "    <tr>\n",
       "      <th>22601</th>\n",
       "      <td>touching</td>\n",
       "      <td>11</td>\n",
       "    </tr>\n",
       "    <tr>\n",
       "      <th>10712</th>\n",
       "      <td>heal</td>\n",
       "      <td>11</td>\n",
       "    </tr>\n",
       "  </tbody>\n",
       "</table>\n",
       "<p>3192 rows × 2 columns</p>\n",
       "</div>\n",
       "      <button class=\"colab-df-convert\" onclick=\"convertToInteractive('df-f456d6ee-94ed-4f77-905d-20bdbc733a13')\"\n",
       "              title=\"Convert this dataframe to an interactive table.\"\n",
       "              style=\"display:none;\">\n",
       "        \n",
       "  <svg xmlns=\"http://www.w3.org/2000/svg\" height=\"24px\"viewBox=\"0 0 24 24\"\n",
       "       width=\"24px\">\n",
       "    <path d=\"M0 0h24v24H0V0z\" fill=\"none\"/>\n",
       "    <path d=\"M18.56 5.44l.94 2.06.94-2.06 2.06-.94-2.06-.94-.94-2.06-.94 2.06-2.06.94zm-11 1L8.5 8.5l.94-2.06 2.06-.94-2.06-.94L8.5 2.5l-.94 2.06-2.06.94zm10 10l.94 2.06.94-2.06 2.06-.94-2.06-.94-.94-2.06-.94 2.06-2.06.94z\"/><path d=\"M17.41 7.96l-1.37-1.37c-.4-.4-.92-.59-1.43-.59-.52 0-1.04.2-1.43.59L10.3 9.45l-7.72 7.72c-.78.78-.78 2.05 0 2.83L4 21.41c.39.39.9.59 1.41.59.51 0 1.02-.2 1.41-.59l7.78-7.78 2.81-2.81c.8-.78.8-2.07 0-2.86zM5.41 20L4 18.59l7.72-7.72 1.47 1.35L5.41 20z\"/>\n",
       "  </svg>\n",
       "      </button>\n",
       "      \n",
       "  <style>\n",
       "    .colab-df-container {\n",
       "      display:flex;\n",
       "      flex-wrap:wrap;\n",
       "      gap: 12px;\n",
       "    }\n",
       "\n",
       "    .colab-df-convert {\n",
       "      background-color: #E8F0FE;\n",
       "      border: none;\n",
       "      border-radius: 50%;\n",
       "      cursor: pointer;\n",
       "      display: none;\n",
       "      fill: #1967D2;\n",
       "      height: 32px;\n",
       "      padding: 0 0 0 0;\n",
       "      width: 32px;\n",
       "    }\n",
       "\n",
       "    .colab-df-convert:hover {\n",
       "      background-color: #E2EBFA;\n",
       "      box-shadow: 0px 1px 2px rgba(60, 64, 67, 0.3), 0px 1px 3px 1px rgba(60, 64, 67, 0.15);\n",
       "      fill: #174EA6;\n",
       "    }\n",
       "\n",
       "    [theme=dark] .colab-df-convert {\n",
       "      background-color: #3B4455;\n",
       "      fill: #D2E3FC;\n",
       "    }\n",
       "\n",
       "    [theme=dark] .colab-df-convert:hover {\n",
       "      background-color: #434B5C;\n",
       "      box-shadow: 0px 1px 3px 1px rgba(0, 0, 0, 0.15);\n",
       "      filter: drop-shadow(0px 1px 2px rgba(0, 0, 0, 0.3));\n",
       "      fill: #FFFFFF;\n",
       "    }\n",
       "  </style>\n",
       "\n",
       "      <script>\n",
       "        const buttonEl =\n",
       "          document.querySelector('#df-f456d6ee-94ed-4f77-905d-20bdbc733a13 button.colab-df-convert');\n",
       "        buttonEl.style.display =\n",
       "          google.colab.kernel.accessAllowed ? 'block' : 'none';\n",
       "\n",
       "        async function convertToInteractive(key) {\n",
       "          const element = document.querySelector('#df-f456d6ee-94ed-4f77-905d-20bdbc733a13');\n",
       "          const dataTable =\n",
       "            await google.colab.kernel.invokeFunction('convertToInteractive',\n",
       "                                                     [key], {});\n",
       "          if (!dataTable) return;\n",
       "\n",
       "          const docLinkHtml = 'Like what you see? Visit the ' +\n",
       "            '<a target=\"_blank\" href=https://colab.research.google.com/notebooks/data_table.ipynb>data table notebook</a>'\n",
       "            + ' to learn more about interactive tables.';\n",
       "          element.innerHTML = '';\n",
       "          dataTable['output_type'] = 'display_data';\n",
       "          await google.colab.output.renderOutput(dataTable, element);\n",
       "          const docLink = document.createElement('div');\n",
       "          docLink.innerHTML = docLinkHtml;\n",
       "          element.appendChild(docLink);\n",
       "        }\n",
       "      </script>\n",
       "    </div>\n",
       "  </div>\n",
       "  "
      ],
      "text/plain": [
       "             words  count\n",
       "11383            i  53887\n",
       "8865          feel  23028\n",
       "2084           and  19673\n",
       "22451           to  18832\n",
       "22122          the  17340\n",
       "...            ...    ...\n",
       "22665      trailer     11\n",
       "9401    foundation     11\n",
       "9508   friendships     11\n",
       "22601     touching     11\n",
       "10712         heal     11\n",
       "\n",
       "[3192 rows x 2 columns]"
      ]
     },
     "execution_count": 13,
     "metadata": {},
     "output_type": "execute_result"
    }
   ],
   "source": [
    "# find the words with 'count' > 10\n",
    "condition = words_df['count'] > 10\n",
    "\n",
    "# sort the words based on count\n",
    "new_words_df = words_df[condition].sort_values('count', ascending=False)\n",
    "new_words_df"
   ]
  },
  {
   "cell_type": "code",
   "execution_count": 14,
   "metadata": {
    "colab": {
     "base_uri": "https://localhost:8080/"
    },
    "executionInfo": {
     "elapsed": 7,
     "status": "ok",
     "timestamp": 1681001901772,
     "user": {
      "displayName": "Christian Montecillo",
      "userId": "02267957112746133644"
     },
     "user_tz": 360
    },
    "id": "RJehRAE2zWhl",
    "outputId": "ca15ebe1-08b8-4ee0-efed-595b7a16debb"
   },
   "outputs": [
    {
     "name": "stdout",
     "output_type": "stream",
     "text": [
      "Vocabulary size: 3192\n"
     ]
    }
   ],
   "source": [
    "# how many words are > 10?\n",
    "top_word_count = len(new_words_df)\n",
    "print('Vocabulary size:', top_word_count)"
   ]
  },
  {
   "cell_type": "markdown",
   "metadata": {
    "id": "GSm2HlDyzZ8_"
   },
   "source": [
    "### Let's tokenize the train tweets!"
   ]
  },
  {
   "cell_type": "code",
   "execution_count": 15,
   "metadata": {
    "executionInfo": {
     "elapsed": 3350,
     "status": "ok",
     "timestamp": 1681001905117,
     "user": {
      "displayName": "Christian Montecillo",
      "userId": "02267957112746133644"
     },
     "user_tz": 360
    },
    "id": "gCxK46QPyoe1"
   },
   "outputs": [],
   "source": [
    "from tensorflow.keras.preprocessing.text import Tokenizer"
   ]
  },
  {
   "cell_type": "code",
   "execution_count": 16,
   "metadata": {
    "executionInfo": {
     "elapsed": 349,
     "status": "ok",
     "timestamp": 1681001905459,
     "user": {
      "displayName": "Christian Montecillo",
      "userId": "02267957112746133644"
     },
     "user_tz": 360
    },
    "id": "5bs47LbLwBl4"
   },
   "outputs": [],
   "source": [
    "tokenizer = Tokenizer(num_words=top_word_count, oov_token='<UNK>')\n",
    "tokenizer.fit_on_texts(train_df['text']) # pass in tweets from training set"
   ]
  },
  {
   "cell_type": "code",
   "execution_count": 17,
   "metadata": {
    "colab": {
     "base_uri": "https://localhost:8080/",
     "height": 36
    },
    "executionInfo": {
     "elapsed": 6,
     "status": "ok",
     "timestamp": 1681001905460,
     "user": {
      "displayName": "Christian Montecillo",
      "userId": "02267957112746133644"
     },
     "user_tz": 360
    },
    "id": "DPD0Tjjuy0Ko",
    "outputId": "1f44ad95-9b11-447b-84c3-3fc5d74b273a"
   },
   "outputs": [
    {
     "data": {
      "application/vnd.google.colaboratory.intrinsic+json": {
       "type": "string"
      },
      "text/plain": [
       "'i am feeling really impatient'"
      ]
     },
     "execution_count": 17,
     "metadata": {},
     "output_type": "execute_result"
    }
   ],
   "source": [
    "# this is what the tweet looks like as words\n",
    "train_df['text'][0]"
   ]
  },
  {
   "cell_type": "code",
   "execution_count": 18,
   "metadata": {
    "colab": {
     "base_uri": "https://localhost:8080/"
    },
    "executionInfo": {
     "elapsed": 6,
     "status": "ok",
     "timestamp": 1681001905460,
     "user": {
      "displayName": "Christian Montecillo",
      "userId": "02267957112746133644"
     },
     "user_tz": 360
    },
    "id": "yHPzHkTcye8y",
    "outputId": "ecde4767-662d-4d68-ee2e-297ea787fe59"
   },
   "outputs": [
    {
     "data": {
      "text/plain": [
       "[[2, 23, 8, 40, 565]]"
      ]
     },
     "execution_count": 18,
     "metadata": {},
     "output_type": "execute_result"
    }
   ],
   "source": [
    "# this is what the tokenized version of the tweet looks like\n",
    "tokenizer.texts_to_sequences([train_df['text'][0]])"
   ]
  },
  {
   "cell_type": "code",
   "execution_count": 19,
   "metadata": {
    "colab": {
     "base_uri": "https://localhost:8080/",
     "height": 933
    },
    "executionInfo": {
     "elapsed": 1026,
     "status": "ok",
     "timestamp": 1681001906483,
     "user": {
      "displayName": "Christian Montecillo",
      "userId": "02267957112746133644"
     },
     "user_tz": 360
    },
    "id": "NtdXLYGFjcPO",
    "outputId": "5ad42c5b-af2d-495b-b1d4-0b7b7a020c59"
   },
   "outputs": [
    {
     "data": {
      "text/plain": [
       "(array([4.100e+01, 1.010e+02, 6.480e+02, 1.059e+03, 1.232e+03, 1.390e+03,\n",
       "        1.369e+03, 1.404e+03, 1.309e+03, 1.334e+03, 1.417e+03, 1.294e+03,\n",
       "        1.386e+03, 2.666e+03, 1.292e+03, 1.300e+03, 1.207e+03, 1.070e+03,\n",
       "        1.048e+03, 9.590e+02, 9.020e+02, 8.050e+02, 8.220e+02, 7.250e+02,\n",
       "        6.210e+02, 6.280e+02, 5.780e+02, 1.000e+03, 4.500e+02, 4.530e+02,\n",
       "        3.460e+02, 3.430e+02, 3.090e+02, 2.650e+02, 2.700e+02, 2.480e+02,\n",
       "        1.980e+02, 1.890e+02, 1.650e+02, 1.550e+02, 2.590e+02, 1.130e+02,\n",
       "        1.250e+02, 8.900e+01, 7.700e+01, 8.200e+01, 6.500e+01, 4.700e+01,\n",
       "        6.100e+01, 5.100e+01, 4.600e+01, 3.800e+01, 3.000e+01, 2.700e+01,\n",
       "        2.400e+01, 9.000e+00, 7.000e+00, 4.000e+00, 4.000e+00, 4.000e+00,\n",
       "        2.000e+00, 0.000e+00, 1.000e+00, 0.000e+00, 0.000e+00, 0.000e+00,\n",
       "        0.000e+00, 1.000e+00]),\n",
       " array([ 1.        ,  2.07352941,  3.14705882,  4.22058824,  5.29411765,\n",
       "         6.36764706,  7.44117647,  8.51470588,  9.58823529, 10.66176471,\n",
       "        11.73529412, 12.80882353, 13.88235294, 14.95588235, 16.02941176,\n",
       "        17.10294118, 18.17647059, 19.25      , 20.32352941, 21.39705882,\n",
       "        22.47058824, 23.54411765, 24.61764706, 25.69117647, 26.76470588,\n",
       "        27.83823529, 28.91176471, 29.98529412, 31.05882353, 32.13235294,\n",
       "        33.20588235, 34.27941176, 35.35294118, 36.42647059, 37.5       ,\n",
       "        38.57352941, 39.64705882, 40.72058824, 41.79411765, 42.86764706,\n",
       "        43.94117647, 45.01470588, 46.08823529, 47.16176471, 48.23529412,\n",
       "        49.30882353, 50.38235294, 51.45588235, 52.52941176, 53.60294118,\n",
       "        54.67647059, 55.75      , 56.82352941, 57.89705882, 58.97058824,\n",
       "        60.04411765, 61.11764706, 62.19117647, 63.26470588, 64.33823529,\n",
       "        65.41176471, 66.48529412, 67.55882353, 68.63235294, 69.70588235,\n",
       "        70.77941176, 71.85294118, 72.92647059, 74.        ]),\n",
       " <BarContainer object of 68 artists>)"
      ]
     },
     "execution_count": 19,
     "metadata": {},
     "output_type": "execute_result"
    },
    {
     "data": {
      "image/png": "[encoded data removed]",
      "text/plain": [
       "<Figure size 640x480 with 1 Axes>"
      ]
     },
     "metadata": {},
     "output_type": "display_data"
    }
   ],
   "source": [
    "import matplotlib.pyplot as plt\n",
    "\n",
    "# check to see what lenghts of the tweets in the dataset\n",
    "lengths = [len(t.split(' ')) for t in train_df['text']]\n",
    "plt.hist(lengths, bins=len(set(lengths)))"
   ]
  },
  {
   "cell_type": "code",
   "execution_count": 20,
   "metadata": {
    "colab": {
     "base_uri": "https://localhost:8080/"
    },
    "executionInfo": {
     "elapsed": 6,
     "status": "ok",
     "timestamp": 1681001906483,
     "user": {
      "displayName": "Christian Montecillo",
      "userId": "02267957112746133644"
     },
     "user_tz": 360
    },
    "id": "Ht7mWyXS18Sd",
    "outputId": "ec2f3406-1229-48f7-f59a-5eedc7ac5d94"
   },
   "outputs": [
    {
     "name": "stdout",
     "output_type": "stream",
     "text": [
      "Maximum word count: 74\n",
      "Minimum word count: 1\n",
      "Mean word count: 18.91546657300082\n",
      "Median word count: 17.0\n",
      "75th percentile word count: 25.0\n",
      "85th percentile word count: 30.0\n",
      "95th percentile word count: 40.0\n"
     ]
    }
   ],
   "source": [
    "import statistics\n",
    "\n",
    "# Apply the lambda function to the 'content' column and list called word_count_list'\n",
    "word_count_list = list(train_df['text'].apply(lambda x: len(x.split(' '))))\n",
    "\n",
    "# display the maximum and minimum lengths\n",
    "print('Maximum word count:', max(word_count_list))\n",
    "print('Minimum word count:', min(word_count_list))\n",
    "print('Mean word count:', statistics.mean(word_count_list))\n",
    "print('Median word count:', statistics.median(word_count_list))\n",
    "print('75th percentile word count:', np.percentile(word_count_list, 75))\n",
    "print('85th percentile word count:', np.percentile(word_count_list, 85))\n",
    "print('95th percentile word count:', np.percentile(word_count_list, 95))"
   ]
  },
  {
   "cell_type": "markdown",
   "metadata": {
    "id": "G9ZVTKh01wGa"
   },
   "source": [
    "The max number of words is 101. We ultimately decided that we are going to keep all the words in the tweet. BERT can handle more than 200 so setting max_len = 200"
   ]
  },
  {
   "cell_type": "markdown",
   "metadata": {
    "id": "59O4aXaA0ljh"
   },
   "source": [
    "***\n",
    "## 3 Padding and truncating the training data sequences to make sure that the shape is the same for each string."
   ]
  },
  {
   "cell_type": "code",
   "execution_count": 21,
   "metadata": {
    "executionInfo": {
     "elapsed": 4,
     "status": "ok",
     "timestamp": 1681001906483,
     "user": {
      "displayName": "Christian Montecillo",
      "userId": "02267957112746133644"
     },
     "user_tz": 360
    },
    "id": "Y715X4Xg0zSg"
   },
   "outputs": [],
   "source": [
    "from tensorflow.keras.preprocessing.sequence import pad_sequences"
   ]
  },
  {
   "cell_type": "code",
   "execution_count": 22,
   "metadata": {
    "executionInfo": {
     "elapsed": 3,
     "status": "ok",
     "timestamp": 1681001906483,
     "user": {
      "displayName": "Christian Montecillo",
      "userId": "02267957112746133644"
     },
     "user_tz": 360
    },
    "id": "iEuNYWMScWhY"
   },
   "outputs": [],
   "source": [
    "max_len = 200 # set the largest tweet size, >200 words -> truncate, <200 words -> pad\n",
    "\n",
    "def get_sequences(tokenizer, tweets):\n",
    "  sequences = tokenizer.texts_to_sequences(tweets)\n",
    "  padded = pad_sequences(sequences, truncating='post', padding='post', maxlen=max_len) # truncating happens at the end of the sequence (post)\n",
    "  return padded # all examples will be the returned with same input size"
   ]
  },
  {
   "cell_type": "code",
   "execution_count": 23,
   "metadata": {
    "colab": {
     "base_uri": "https://localhost:8080/"
    },
    "executionInfo": {
     "elapsed": 1027,
     "status": "ok",
     "timestamp": 1681001907507,
     "user": {
      "displayName": "Christian Montecillo",
      "userId": "02267957112746133644"
     },
     "user_tz": 360
    },
    "id": "V2CMHoto0plB",
    "outputId": "1cc67982-4369-4516-9ec0-b723b8f709f7"
   },
   "outputs": [
    {
     "data": {
      "text/plain": [
       "array([  2,  23,   8,  40, 565,   0,   0,   0,   0,   0,   0,   0,   0,\n",
       "         0,   0,   0,   0,   0,   0,   0,   0,   0,   0,   0,   0,   0,\n",
       "         0,   0,   0,   0,   0,   0,   0,   0,   0,   0,   0,   0,   0,\n",
       "         0,   0,   0,   0,   0,   0,   0,   0,   0,   0,   0,   0,   0,\n",
       "         0,   0,   0,   0,   0,   0,   0,   0,   0,   0,   0,   0,   0,\n",
       "         0,   0,   0,   0,   0,   0,   0,   0,   0,   0,   0,   0,   0,\n",
       "         0,   0,   0,   0,   0,   0,   0,   0,   0,   0,   0,   0,   0,\n",
       "         0,   0,   0,   0,   0,   0,   0,   0,   0,   0,   0,   0,   0,\n",
       "         0,   0,   0,   0,   0,   0,   0,   0,   0,   0,   0,   0,   0,\n",
       "         0,   0,   0,   0,   0,   0,   0,   0,   0,   0,   0,   0,   0,\n",
       "         0,   0,   0,   0,   0,   0,   0,   0,   0,   0,   0,   0,   0,\n",
       "         0,   0,   0,   0,   0,   0,   0,   0,   0,   0,   0,   0,   0,\n",
       "         0,   0,   0,   0,   0,   0,   0,   0,   0,   0,   0,   0,   0,\n",
       "         0,   0,   0,   0,   0,   0,   0,   0,   0,   0,   0,   0,   0,\n",
       "         0,   0,   0,   0,   0,   0,   0,   0,   0,   0,   0,   0,   0,\n",
       "         0,   0,   0,   0,   0], dtype=int32)"
      ]
     },
     "execution_count": 23,
     "metadata": {},
     "output_type": "execute_result"
    }
   ],
   "source": [
    "padded_train_seq = get_sequences(tokenizer, train_df['text'])\n",
    "padded_train_seq[0]"
   ]
  },
  {
   "cell_type": "markdown",
   "metadata": {
    "id": "wAVdCL7s2YA6"
   },
   "source": [
    "***\n",
    "## 4 Convert labels to numeric"
   ]
  },
  {
   "cell_type": "markdown",
   "metadata": {
    "id": "cjoAOp23ROll"
   },
   "source": [
    "### Function to convert text labels to numeric (reuse for all datasets)"
   ]
  },
  {
   "cell_type": "code",
   "execution_count": 24,
   "metadata": {
    "colab": {
     "base_uri": "https://localhost:8080/"
    },
    "executionInfo": {
     "elapsed": 14,
     "status": "ok",
     "timestamp": 1681001907507,
     "user": {
      "displayName": "Christian Montecillo",
      "userId": "02267957112746133644"
     },
     "user_tz": 360
    },
    "id": "Fz-HIqgg9WTn",
    "outputId": "87b2da75-da9a-4699-c6df-ddcc3b3c1641"
   },
   "outputs": [
    {
     "data": {
      "text/plain": [
       "{'sadness': 0,\n",
       " 'anger': 1,\n",
       " 'fear': 2,\n",
       " 'surprise': 3,\n",
       " 'joy': 4,\n",
       " 'love': 5,\n",
       " 'neutral': 6}"
      ]
     },
     "execution_count": 24,
     "metadata": {},
     "output_type": "execute_result"
    }
   ],
   "source": [
    "# keeping this consistent for all models\n",
    "class_to_index_dict = {'sadness': 0, 'anger': 1, 'fear': 2, 'surprise': 3, 'joy': 4, 'love': 5, 'neutral': 6}\n",
    "class_to_index_dict"
   ]
  },
  {
   "cell_type": "code",
   "execution_count": 25,
   "metadata": {
    "executionInfo": {
     "elapsed": 10,
     "status": "ok",
     "timestamp": 1681001907508,
     "user": {
      "displayName": "Christian Montecillo",
      "userId": "02267957112746133644"
     },
     "user_tz": 360
    },
    "id": "LshrgGmE3Vw1"
   },
   "outputs": [],
   "source": [
    "def names_to_ids(class_to_index, data):\n",
    "  return np.array([class_to_index.get(x) for x in data])"
   ]
  },
  {
   "cell_type": "code",
   "execution_count": 26,
   "metadata": {
    "colab": {
     "base_uri": "https://localhost:8080/"
    },
    "executionInfo": {
     "elapsed": 9,
     "status": "ok",
     "timestamp": 1681001907508,
     "user": {
      "displayName": "Christian Montecillo",
      "userId": "02267957112746133644"
     },
     "user_tz": 360
    },
    "id": "6EKQbC433hL-",
    "outputId": "25ee92a4-be8f-4229-9a4b-5c5774898fb2"
   },
   "outputs": [
    {
     "name": "stdout",
     "output_type": "stream",
     "text": [
      "train_df.iloc[7]:\n",
      " text        i feel idiotic about it but i cant\n",
      "emotions                               sadness\n",
      "Name: 7, dtype: object\n",
      "numeric label: 0\n"
     ]
    }
   ],
   "source": [
    "# confirming if it worked (change index) and they should line up with above dict\n",
    "index = 7\n",
    "train_labels = names_to_ids(class_to_index_dict, train_df['emotions'])\n",
    "print('train_df.iloc[7]:\\n', train_df.iloc[index])\n",
    "print('numeric label:', train_labels[index])"
   ]
  },
  {
   "cell_type": "markdown",
   "metadata": {
    "id": "JqCOVtUd5SN1"
   },
   "source": [
    "***\n",
    "## 5 Create the model"
   ]
  },
  {
   "cell_type": "code",
   "execution_count": 27,
   "metadata": {
    "colab": {
     "base_uri": "https://localhost:8080/"
    },
    "executionInfo": {
     "elapsed": 7,
     "status": "ok",
     "timestamp": 1681001907508,
     "user": {
      "displayName": "Christian Montecillo",
      "userId": "02267957112746133644"
     },
     "user_tz": 360
    },
    "id": "0x19MiiQ5s7S",
    "outputId": "86e40bdc-7128-47ab-c435-fdc6ac40b9f4"
   },
   "outputs": [
    {
     "name": "stdout",
     "output_type": "stream",
     "text": [
      "Using TensorFlow version 2.12.0\n"
     ]
    }
   ],
   "source": [
    "%matplotlib inline\n",
    "\n",
    "import tensorflow as tf\n",
    "import matplotlib.pyplot as plt\n",
    "import random\n",
    "\n",
    "def show_history(h):\n",
    "    epochs_trained = len(h.history['loss'])\n",
    "    plt.figure(figsize=(16, 6))\n",
    "\n",
    "    plt.subplot(1, 2, 1)\n",
    "    plt.plot(range(0, epochs_trained), h.history.get('accuracy'), label='Training')\n",
    "    plt.plot(range(0, epochs_trained), h.history.get('val_accuracy'), label='Validation')\n",
    "    plt.ylim([0., 1.])\n",
    "    plt.xlabel('Epochs')\n",
    "    plt.ylabel('Accuracy')\n",
    "    plt.legend()\n",
    "\n",
    "    plt.subplot(1, 2, 2)\n",
    "    plt.plot(range(0, epochs_trained), h.history.get('loss'), label='Training')\n",
    "    plt.plot(range(0, epochs_trained), h.history.get('val_loss'), label='Validation')\n",
    "    plt.xlabel('Epochs')\n",
    "    plt.ylabel('Loss')\n",
    "    plt.legend()\n",
    "    plt.show()\n",
    "    \n",
    "print('Using TensorFlow version', tf.__version__)"
   ]
  },
  {
   "cell_type": "code",
   "execution_count": 66,
   "metadata": {
    "colab": {
     "base_uri": "https://localhost:8080/"
    },
    "executionInfo": {
     "elapsed": 496,
     "status": "ok",
     "timestamp": 1681002130193,
     "user": {
      "displayName": "Christian Montecillo",
      "userId": "02267957112746133644"
     },
     "user_tz": 360
    },
    "id": "lDqou2dmzrV0",
    "outputId": "68964da0-a353-42b4-e4e6-c6bb33700b8f"
   },
   "outputs": [
    {
     "name": "stdout",
     "output_type": "stream",
     "text": [
      "top_word_count: 3192\n",
      "max_len: 200\n"
     ]
    }
   ],
   "source": [
    "print('top_word_count:', top_word_count)\n",
    "print('max_len:', max_len)"
   ]
  },
  {
   "cell_type": "code",
   "execution_count": 67,
   "metadata": {
    "executionInfo": {
     "elapsed": 1131,
     "status": "ok",
     "timestamp": 1681002131647,
     "user": {
      "displayName": "Christian Montecillo",
      "userId": "02267957112746133644"
     },
     "user_tz": 360
    },
    "id": "ZmbxOHXS5VoW"
   },
   "outputs": [],
   "source": [
    "# ref: https://machinelearningmastery.com/develop-bidirectional-lstm-sequence-classification-python-keras/\n",
    "# ref: https://analyticsindiamag.com/complete-guide-to-bidirectional-lstm-with-python-codes/\n",
    "# ref: https://stackoverflow.com/questions/40331510/how-to-stack-multiple-lstm-in-keras\n",
    "\n",
    "# keep the vocabulary size the same as the base model, 11039\n",
    "model = tf.keras.models.Sequential([\n",
    "    tf.keras.layers.Embedding(input_dim=8000, output_dim=8, input_length=max_len),\n",
    "    \n",
    "    # the RNN part of the model\n",
    "    # tf.keras.layers.Bidirectional(tf.keras.layers.LSTM(10, return_sequences=True)), # since using an LSTM layer inside a bidrectional layer, context can go in either direction; return_sequences=True means at every time step, there is an output\n",
    "    tf.keras.layers.Bidirectional(tf.keras.layers.LSTM(10, )),\n",
    "\n",
    "    tf.keras.layers.Dense(7, activation='softmax') # 7 for the seven classes\n",
    "\n",
    "])\n",
    "\n",
    "model.compile(\n",
    "    loss='sparse_categorical_crossentropy', # since this is a multiclass classification problem, use categorical crossentropy; since classes are integers (not one hot encoded/binary), use sparse (just like in A3)\n",
    "    optimizer='adam',\n",
    "    metrics=['accuracy']\n",
    ")"
   ]
  },
  {
   "cell_type": "code",
   "execution_count": 68,
   "metadata": {
    "colab": {
     "base_uri": "https://localhost:8080/"
    },
    "executionInfo": {
     "elapsed": 14,
     "status": "ok",
     "timestamp": 1681002131647,
     "user": {
      "displayName": "Christian Montecillo",
      "userId": "02267957112746133644"
     },
     "user_tz": 360
    },
    "id": "zsYrBdzP6lNv",
    "outputId": "66d07f3d-de30-4569-ac1f-90b8f81d5ff1"
   },
   "outputs": [
    {
     "name": "stdout",
     "output_type": "stream",
     "text": [
      "Model: \"sequential_1\"\n",
      "_________________________________________________________________\n",
      " Layer (type)                Output Shape              Param #   \n",
      "=================================================================\n",
      " embedding_1 (Embedding)     (None, 200, 8)            64000     \n",
      "                                                                 \n",
      " bidirectional_1 (Bidirectio  (None, 20)               1520      \n",
      " nal)                                                            \n",
      "                                                                 \n",
      " dense_1 (Dense)             (None, 7)                 147       \n",
      "                                                                 \n",
      "=================================================================\n",
      "Total params: 65,667\n",
      "Trainable params: 65,667\n",
      "Non-trainable params: 0\n",
      "_________________________________________________________________\n"
     ]
    }
   ],
   "source": [
    "model.summary()"
   ]
  },
  {
   "cell_type": "markdown",
   "metadata": {
    "id": "idlS4gpC67sM"
   },
   "source": [
    "***\n",
    "## 6 Train the model"
   ]
  },
  {
   "cell_type": "markdown",
   "metadata": {
    "id": "lQQwKn13Qrm9"
   },
   "source": [
    "### Convert the labels of the validation set to numeric (just like the training set)"
   ]
  },
  {
   "cell_type": "code",
   "execution_count": 69,
   "metadata": {
    "colab": {
     "base_uri": "https://localhost:8080/"
    },
    "executionInfo": {
     "elapsed": 9,
     "status": "ok",
     "timestamp": 1681002131648,
     "user": {
      "displayName": "Christian Montecillo",
      "userId": "02267957112746133644"
     },
     "user_tz": 360
    },
    "id": "yNF1izoe_fPt",
    "outputId": "22410cea-cf1f-4ba2-d3ce-361a53f40fc8"
   },
   "outputs": [
    {
     "data": {
      "text/plain": [
       "{'sadness': 0,\n",
       " 'anger': 1,\n",
       " 'fear': 2,\n",
       " 'surprise': 3,\n",
       " 'joy': 4,\n",
       " 'love': 5,\n",
       " 'neutral': 6}"
      ]
     },
     "execution_count": 69,
     "metadata": {},
     "output_type": "execute_result"
    }
   ],
   "source": [
    "# reminder of the class_to_index mapping\n",
    "class_to_index_dict"
   ]
  },
  {
   "cell_type": "code",
   "execution_count": 70,
   "metadata": {
    "executionInfo": {
     "elapsed": 358,
     "status": "ok",
     "timestamp": 1681002132001,
     "user": {
      "displayName": "Christian Montecillo",
      "userId": "02267957112746133644"
     },
     "user_tz": 360
    },
    "id": "bQmthZKy7B6A"
   },
   "outputs": [],
   "source": [
    "val_seq = get_sequences(tokenizer, val_df['text'])\n",
    "val_labels = names_to_ids(class_to_index_dict, val_df['emotions'])"
   ]
  },
  {
   "cell_type": "code",
   "execution_count": 71,
   "metadata": {
    "colab": {
     "base_uri": "https://localhost:8080/"
    },
    "executionInfo": {
     "elapsed": 6,
     "status": "ok",
     "timestamp": 1681002132002,
     "user": {
      "displayName": "Christian Montecillo",
      "userId": "02267957112746133644"
     },
     "user_tz": 360
    },
    "id": "b1KDU5Hi8IWQ",
    "outputId": "8bd04cea-7ce4-415e-cc15-32b2745c1e8d"
   },
   "outputs": [
    {
     "data": {
      "text/plain": [
       "(array([  2,  19,   7, 881,   9,  84,  10,   2,  42,  39,  29, 136,  92,\n",
       "         10,   1,  83,  18,   3, 175,   4,   1,   0,   0,   0,   0,   0,\n",
       "          0,   0,   0,   0,   0,   0,   0,   0,   0,   0,   0,   0,   0,\n",
       "          0,   0,   0,   0,   0,   0,   0,   0,   0,   0,   0,   0,   0,\n",
       "          0,   0,   0,   0,   0,   0,   0,   0,   0,   0,   0,   0,   0,\n",
       "          0,   0,   0,   0,   0,   0,   0,   0,   0,   0,   0,   0,   0,\n",
       "          0,   0,   0,   0,   0,   0,   0,   0,   0,   0,   0,   0,   0,\n",
       "          0,   0,   0,   0,   0,   0,   0,   0,   0,   0,   0,   0,   0,\n",
       "          0,   0,   0,   0,   0,   0,   0,   0,   0,   0,   0,   0,   0,\n",
       "          0,   0,   0,   0,   0,   0,   0,   0,   0,   0,   0,   0,   0,\n",
       "          0,   0,   0,   0,   0,   0,   0,   0,   0,   0,   0,   0,   0,\n",
       "          0,   0,   0,   0,   0,   0,   0,   0,   0,   0,   0,   0,   0,\n",
       "          0,   0,   0,   0,   0,   0,   0,   0,   0,   0,   0,   0,   0,\n",
       "          0,   0,   0,   0,   0,   0,   0,   0,   0,   0,   0,   0,   0,\n",
       "          0,   0,   0,   0,   0,   0,   0,   0,   0,   0,   0,   0,   0,\n",
       "          0,   0,   0,   0,   0], dtype=int32),\n",
       " 'i have a list of things that i can do on any day that automatically make me feel better and healthier',\n",
       " 'joy')"
      ]
     },
     "execution_count": 71,
     "metadata": {},
     "output_type": "execute_result"
    }
   ],
   "source": [
    "# checking out the first input in validation sequence\n",
    "val_seq[0], val_df['text'][0], val_df['emotions'][0]"
   ]
  },
  {
   "cell_type": "code",
   "execution_count": 72,
   "metadata": {
    "colab": {
     "base_uri": "https://localhost:8080/"
    },
    "executionInfo": {
     "elapsed": 27,
     "status": "ok",
     "timestamp": 1681002132468,
     "user": {
      "displayName": "Christian Montecillo",
      "userId": "02267957112746133644"
     },
     "user_tz": 360
    },
    "id": "VCjxGzpW7rCT",
    "outputId": "6119668a-b5f8-4fec-bb0e-57140bc31e8b"
   },
   "outputs": [
    {
     "name": "stdout",
     "output_type": "stream",
     "text": [
      "val_df.iloc[0]:\n",
      " text        i have a list of things that i can do on any d...\n",
      "emotions                                                  joy\n",
      "Name: 0, dtype: object\n",
      "numeric label: 4\n"
     ]
    }
   ],
   "source": [
    "print('val_df.iloc[0]:\\n', val_df.iloc[0])\n",
    "print('numeric label:', val_labels[0])"
   ]
  },
  {
   "cell_type": "markdown",
   "metadata": {
    "id": "RdCRJ_QdQ2B6"
   },
   "source": [
    "#### Check out the shape to make sure they're as expected"
   ]
  },
  {
   "cell_type": "code",
   "execution_count": 73,
   "metadata": {
    "colab": {
     "base_uri": "https://localhost:8080/"
    },
    "executionInfo": {
     "elapsed": 24,
     "status": "ok",
     "timestamp": 1681002132468,
     "user": {
      "displayName": "Christian Montecillo",
      "userId": "02267957112746133644"
     },
     "user_tz": 360
    },
    "id": "ynlY2BgkA7in",
    "outputId": "768df8c1-a0bd-456e-8df9-ec9fb68bff86"
   },
   "outputs": [
    {
     "data": {
      "text/plain": [
       "(34164, 200)"
      ]
     },
     "execution_count": 73,
     "metadata": {},
     "output_type": "execute_result"
    }
   ],
   "source": [
    "padded_train_seq.shape"
   ]
  },
  {
   "cell_type": "code",
   "execution_count": 74,
   "metadata": {
    "colab": {
     "base_uri": "https://localhost:8080/"
    },
    "executionInfo": {
     "elapsed": 20,
     "status": "ok",
     "timestamp": 1681002132468,
     "user": {
      "displayName": "Christian Montecillo",
      "userId": "02267957112746133644"
     },
     "user_tz": 360
    },
    "id": "Y5fiYZr7Bz0W",
    "outputId": "9cae4618-5bf4-4778-f51f-bd45cd9d1ef3"
   },
   "outputs": [
    {
     "data": {
      "text/plain": [
       "(34164,)"
      ]
     },
     "execution_count": 74,
     "metadata": {},
     "output_type": "execute_result"
    }
   ],
   "source": [
    "train_labels.shape"
   ]
  },
  {
   "cell_type": "code",
   "execution_count": 75,
   "metadata": {
    "colab": {
     "base_uri": "https://localhost:8080/"
    },
    "executionInfo": {
     "elapsed": 18,
     "status": "ok",
     "timestamp": 1681002132468,
     "user": {
      "displayName": "Christian Montecillo",
      "userId": "02267957112746133644"
     },
     "user_tz": 360
    },
    "id": "Ht_KveuuB30e",
    "outputId": "c38b3c7e-2c8a-4be6-a0ad-4fb378f91240"
   },
   "outputs": [
    {
     "data": {
      "text/plain": [
       "(10250, 200)"
      ]
     },
     "execution_count": 75,
     "metadata": {},
     "output_type": "execute_result"
    }
   ],
   "source": [
    "val_seq.shape"
   ]
  },
  {
   "cell_type": "code",
   "execution_count": 76,
   "metadata": {
    "colab": {
     "base_uri": "https://localhost:8080/"
    },
    "executionInfo": {
     "elapsed": 15,
     "status": "ok",
     "timestamp": 1681002132468,
     "user": {
      "displayName": "Christian Montecillo",
      "userId": "02267957112746133644"
     },
     "user_tz": 360
    },
    "id": "jN1vULmpB6gE",
    "outputId": "dec5cfff-feef-4c5a-a5ac-f324181ff680"
   },
   "outputs": [
    {
     "data": {
      "text/plain": [
       "(10250,)"
      ]
     },
     "execution_count": 76,
     "metadata": {},
     "output_type": "execute_result"
    }
   ],
   "source": [
    "val_labels.shape"
   ]
  },
  {
   "cell_type": "markdown",
   "metadata": {
    "id": "yIzq6Av3QPt8"
   },
   "source": [
    "### From Natalie's Notebook\n",
    "https://github.com/datasci-w266/2023-spring-main/blob/master/materials/walkthrough_notebooks/keras_with_limited_ram/keras_training_with_limited_ram.ipynb<br><br>\n",
    "https://edstem.org/us/courses/32607/discussion/2699088?comment=6229916"
   ]
  },
  {
   "cell_type": "markdown",
   "metadata": {
    "id": "xXt_pSdk8hNd"
   },
   "source": [
    "#### Inspired by Natalie's notebook, made my own generator that chunks up my data into pieces that won't make my machine run out of memory before completing one epoch\n",
    "If generator is not used, might delete this section"
   ]
  },
  {
   "cell_type": "code",
   "execution_count": 77,
   "metadata": {
    "executionInfo": {
     "elapsed": 13,
     "status": "ok",
     "timestamp": 1681002132468,
     "user": {
      "displayName": "Christian Montecillo",
      "userId": "02267957112746133644"
     },
     "user_tz": 360
    },
    "id": "VqlRB7kLgciK"
   },
   "outputs": [],
   "source": [
    "# from sklearn.utils.random import sample_without_replacement\n",
    "\n",
    "# # Define a generator function\n",
    "# def generator(data, labels, batch_size):\n",
    "#     # num_samples = len(data)\n",
    "#     # while True:\n",
    "#     #     indices = np.random.randint(num_samples, size=batch_size)\n",
    "#     #     yield data[indices], labels[indices]\n",
    "\n",
    "#     # Loop over batches\n",
    "#     for i in range(0, len(data), batch_size):\n",
    "      \n",
    "#       # Get a batch of indices using sample_without_replacement()\n",
    "#       batch_indices = sample_without_replacement(n_population=len(data), n_samples=batch_size)\n",
    "      \n",
    "#       # Yield a batch of features and labels using the indices\n",
    "#       yield data[batch_indices], labels[batch_indices]"
   ]
  },
  {
   "cell_type": "code",
   "execution_count": 78,
   "metadata": {
    "executionInfo": {
     "elapsed": 13,
     "status": "ok",
     "timestamp": 1681002132468,
     "user": {
      "displayName": "Christian Montecillo",
      "userId": "02267957112746133644"
     },
     "user_tz": 360
    },
    "id": "nct6qudng5T4"
   },
   "outputs": [],
   "source": [
    "# Create the generator\n",
    "# batch_size = 1 # using this batch size because that's what seemed reasonable based on the number of records in the training dataset\n",
    "# gen = generator(data=padded_train_seq, labels=train_labels, batch_size=batch_size)"
   ]
  },
  {
   "cell_type": "markdown",
   "metadata": {
    "id": "5qWdOrSvDBxP"
   },
   "source": [
    "#### Setting up checkpoints"
   ]
  },
  {
   "cell_type": "code",
   "execution_count": 79,
   "metadata": {
    "colab": {
     "base_uri": "https://localhost:8080/"
    },
    "executionInfo": {
     "elapsed": 13,
     "status": "ok",
     "timestamp": 1681002132469,
     "user": {
      "displayName": "Christian Montecillo",
      "userId": "02267957112746133644"
     },
     "user_tz": 360
    },
    "id": "DLCin0Ms-_QM",
    "outputId": "0c969a35-928d-41dc-e8e2-51444d88fb38"
   },
   "outputs": [
    {
     "name": "stdout",
     "output_type": "stream",
     "text": [
      "/2023-04-08-1902\n"
     ]
    }
   ],
   "source": [
    "# reference: https://pynative.com/python-timezone/\n",
    "# make a timestamp so it can be part of the folder name\n",
    "# otherwise, all the checkpoints get dumped into the same\n",
    "# folder and that's not great\n",
    "import datetime\n",
    "import pytz\n",
    "\n",
    "local_tz = pytz.timezone('America/Denver')\n",
    "local_dt = datetime.datetime.now(local_tz)\n",
    "\n",
    "# Format the datetime object as a string without spaces\n",
    "timestamp = local_dt.strftime('/%Y-%m-%d-%H%M')\n",
    "\n",
    "# Print the string\n",
    "print(timestamp)"
   ]
  },
  {
   "cell_type": "code",
   "execution_count": 80,
   "metadata": {
    "colab": {
     "base_uri": "https://localhost:8080/"
    },
    "executionInfo": {
     "elapsed": 333,
     "status": "ok",
     "timestamp": 1681002132790,
     "user": {
      "displayName": "Christian Montecillo",
      "userId": "02267957112746133644"
     },
     "user_tz": 360
    },
    "id": "UYF2mq-rnikf",
    "outputId": "86665e13-b039-4471-edd8-80386979f69e"
   },
   "outputs": [
    {
     "name": "stdout",
     "output_type": "stream",
     "text": [
      "136_40_model  34_10_model  68_20_model\tbase_model\n",
      "17_5_model    52_mixed\t   archive\tclean_plus_kaggle_model\n"
     ]
    }
   ],
   "source": [
    "!ls '/content/gdrive/MyDrive/266_Final_Project_Folder/cm_working_dir/cm_checkpoints/'"
   ]
  },
  {
   "cell_type": "code",
   "execution_count": 81,
   "metadata": {
    "executionInfo": {
     "elapsed": 7,
     "status": "ok",
     "timestamp": 1681002132790,
     "user": {
      "displayName": "Christian Montecillo",
      "userId": "02267957112746133644"
     },
     "user_tz": 360
    },
    "id": "fWUjoVx_oQ1p"
   },
   "outputs": [],
   "source": [
    "checkpoint_dir = project_folder + '/cm_working_dir/cm_checkpoints/34_10_model'\n",
    "checkpoint_filepath = checkpoint_dir + '/weights.{epoch:02d}-{val_accuracy:.2f}.hdf5' #+ timestamp + '/weights.{epoch:02d}-{val_accuracy:.2f}.hdf5'\n",
    "model_checkpoint_callback = tf.keras.callbacks.ModelCheckpoint(\n",
    "    filepath=checkpoint_filepath,\n",
    "    save_weights_only=True)"
   ]
  },
  {
   "cell_type": "code",
   "execution_count": 82,
   "metadata": {
    "colab": {
     "base_uri": "https://localhost:8080/"
    },
    "executionInfo": {
     "elapsed": 6,
     "status": "ok",
     "timestamp": 1681002132790,
     "user": {
      "displayName": "Christian Montecillo",
      "userId": "02267957112746133644"
     },
     "user_tz": 360
    },
    "id": "vEGdADVWY5aV",
    "outputId": "9e6ecf41-ef9d-4e32-d767-9db2114072f7"
   },
   "outputs": [
    {
     "name": "stdout",
     "output_type": "stream",
     "text": [
      "/content/gdrive/MyDrive/266_Final_Project_Folder/cm_working_dir/cm_checkpoints/34_10_model/weights.{epoch:02d}-{val_accuracy:.2f}.hdf5\n"
     ]
    }
   ],
   "source": [
    "# check to make sure that the folder name is as expected\n",
    "# format: .....cm_checkpoints/YYYY-MM-DD-TIME/....\n",
    "print(checkpoint_filepath)"
   ]
  },
  {
   "cell_type": "markdown",
   "metadata": {
    "id": "Tu0tD3XEQYxO"
   },
   "source": [
    "### Training the Model!!!"
   ]
  },
  {
   "cell_type": "markdown",
   "metadata": {
    "id": "kGXLqEfMvIUu"
   },
   "source": [
    "##### Uncomment cell below to load checkpoints; else keep commented to start fresh"
   ]
  },
  {
   "cell_type": "code",
   "execution_count": 83,
   "metadata": {
    "executionInfo": {
     "elapsed": 5,
     "status": "ok",
     "timestamp": 1681002132790,
     "user": {
      "displayName": "Christian Montecillo",
      "userId": "02267957112746133644"
     },
     "user_tz": 360
    },
    "id": "wm6zmRBWPA4F"
   },
   "outputs": [],
   "source": [
    "# uncomment below when loading checkpoints\n",
    "# hdf5_checkpoint = 'weights.05-0.99' # change this to the right filename for the checkpoint\n",
    "# checkpoint_filepath = checkpoint_dir + '/' + hdf5_checkpoint + '.hdf5'\n",
    "# model.load_weights(checkpoint_filepath)"
   ]
  },
  {
   "cell_type": "code",
   "execution_count": 84,
   "metadata": {
    "executionInfo": {
     "elapsed": 4,
     "status": "ok",
     "timestamp": 1681002132790,
     "user": {
      "displayName": "Christian Montecillo",
      "userId": "02267957112746133644"
     },
     "user_tz": 360
    },
    "id": "WrvGsgIf9Z2W"
   },
   "outputs": [],
   "source": [
    "# batch_size = 64\n",
    "# steps_per_epoch = len(padded_train_seq) / batch_size\n",
    "\n",
    "# history = model.fit(\n",
    "#     gen,\n",
    "#     validation_data=(val_seq, val_labels),\n",
    "#     steps_per_epoch=steps_per_epoch,\n",
    "#     epochs=1,\n",
    "#     callbacks=[\n",
    "#         tf.keras.callbacks.EarlyStopping(monitor='val_accuracy', patience=2), # if model doesn't see improvement in val_accuracy after 2 epochs, it will stop training\n",
    "#         model_checkpoint_callback\n",
    "#     ]\n",
    "# )"
   ]
  },
  {
   "cell_type": "markdown",
   "metadata": {
    "id": "nrrGcqfzvbnA"
   },
   "source": [
    "##### Training a fresh model (don't run this if running cells above)"
   ]
  },
  {
   "cell_type": "code",
   "execution_count": 85,
   "metadata": {
    "colab": {
     "base_uri": "https://localhost:8080/"
    },
    "executionInfo": {
     "elapsed": 88957,
     "status": "ok",
     "timestamp": 1681002221743,
     "user": {
      "displayName": "Christian Montecillo",
      "userId": "02267957112746133644"
     },
     "user_tz": 360
    },
    "id": "oCfI-LfAn9nR",
    "outputId": "be567f25-1d00-475e-faf2-58f219a41bb1"
   },
   "outputs": [
    {
     "name": "stdout",
     "output_type": "stream",
     "text": [
      "Epoch 1/5\n",
      "533/533 [==============================] - 41s 67ms/step - loss: 1.5062 - accuracy: 0.4483 - val_loss: 1.5763 - val_accuracy: 0.3403\n",
      "Epoch 2/5\n",
      "533/533 [==============================] - 13s 25ms/step - loss: 1.0569 - accuracy: 0.6151 - val_loss: 0.8920 - val_accuracy: 0.6437\n",
      "Epoch 3/5\n",
      "533/533 [==============================] - 13s 24ms/step - loss: 0.7557 - accuracy: 0.7215 - val_loss: 0.6678 - val_accuracy: 0.7544\n",
      "Epoch 4/5\n",
      "533/533 [==============================] - 11s 20ms/step - loss: 0.5766 - accuracy: 0.7898 - val_loss: 0.5304 - val_accuracy: 0.8317\n",
      "Epoch 5/5\n",
      "533/533 [==============================] - 12s 22ms/step - loss: 0.4206 - accuracy: 0.8659 - val_loss: 0.4051 - val_accuracy: 0.8805\n"
     ]
    }
   ],
   "source": [
    "batch_size = 64\n",
    "steps_per_epoch = len(padded_train_seq) / batch_size\n",
    "\n",
    "history = model.fit(\n",
    "    padded_train_seq,\n",
    "    train_labels,\n",
    "    validation_data=(val_seq, val_labels),\n",
    "    steps_per_epoch=steps_per_epoch,\n",
    "    epochs=5,\n",
    "    callbacks=[\n",
    "        tf.keras.callbacks.EarlyStopping(monitor='val_accuracy', patience=2), # if model doesn't see improvement in val_accuracy after 2 epochs, it will stop training\n",
    "        model_checkpoint_callback\n",
    "    ]\n",
    ")"
   ]
  },
  {
   "cell_type": "code",
   "execution_count": 86,
   "metadata": {
    "colab": {
     "base_uri": "https://localhost:8080/",
     "height": 547
    },
    "executionInfo": {
     "elapsed": 712,
     "status": "ok",
     "timestamp": 1681002222452,
     "user": {
      "displayName": "Christian Montecillo",
      "userId": "02267957112746133644"
     },
     "user_tz": 360
    },
    "id": "1mfKwJdT1YFz",
    "outputId": "d0b419fa-c099-4aa2-c136-5d5aa3a98d3d"
   },
   "outputs": [
    {
     "data": {
      "image/png": "[encoded data removed]",
      "text/plain": [
       "<Figure size 1600x600 with 2 Axes>"
      ]
     },
     "metadata": {},
     "output_type": "display_data"
    }
   ],
   "source": [
    "show_history(history)"
   ]
  },
  {
   "cell_type": "markdown",
   "metadata": {
    "id": "cBYWJDCg5eN1"
   },
   "source": [
    "***\n",
    "## 7 Evaluate the model using imbalanced test_df"
   ]
  },
  {
   "cell_type": "code",
   "execution_count": 87,
   "metadata": {
    "executionInfo": {
     "elapsed": 12,
     "status": "ok",
     "timestamp": 1681002222453,
     "user": {
      "displayName": "Christian Montecillo",
      "userId": "02267957112746133644"
     },
     "user_tz": 360
    },
    "id": "nDap2-694dQM"
   },
   "outputs": [],
   "source": [
    "# borrowing this from A3 assignment, but turned it into a function\n",
    "# classification report (cr) and confusion matrix (cm) from A3\n",
    "from sklearn.metrics import classification_report\n",
    "import seaborn as sns\n",
    "\n",
    "def make_cr_cm(preds, labels):\n",
    "\n",
    "  predictions_model = tf.argmax(preds, axis=-1)\n",
    "  predictions_model\n",
    "\n",
    "  # convert labels to string because classification_report needs target_names as str\n",
    "  # labels are currently ints, but will change to str of in (i.e. '0', '1', etc)\n",
    "  class_names = list(set([str(digit) for digit in labels]))\n",
    "\n",
    "  # convert digits in target_names to the actual name of the emotion from the \n",
    "  # using class_to_index dictionary (i.e. '0' -> 'love', '5' -> 'neutral', etc.)\n",
    "  class_names = [list(class_to_index_dict.keys())[list(class_to_index_dict.values()).index(int(name))] for name in class_names]\n",
    "\n",
    "  print('Classification Report:\\n\\n', classification_report(labels, predictions_model.numpy(), target_names=class_names))\n",
    "\n",
    "  print('Confusion Matrix:\\n')\n",
    "  \n",
    "  # confusion matrix from A3\n",
    "  cm = tf.math.confusion_matrix(labels, predictions_model)\n",
    "  cm = cm/cm.numpy().sum(axis=1)[:, tf.newaxis]\n",
    "\n",
    "  plt.figure(figsize=(20,7))\n",
    "  sns.heatmap(\n",
    "      cm, annot=True,\n",
    "      xticklabels=class_names,\n",
    "      yticklabels=class_names)\n",
    "  plt.xlabel(\"Predicted\")\n",
    "  plt.ylabel(\"True\")\n",
    "  plt.show()"
   ]
  },
  {
   "cell_type": "markdown",
   "metadata": {
    "id": "_a6PRIxbbDzo"
   },
   "source": [
    "### Padding the imbalanced test set for evaluation"
   ]
  },
  {
   "cell_type": "code",
   "execution_count": 88,
   "metadata": {
    "colab": {
     "base_uri": "https://localhost:8080/",
     "height": 269
    },
    "executionInfo": {
     "elapsed": 11,
     "status": "ok",
     "timestamp": 1681002222454,
     "user": {
      "displayName": "Christian Montecillo",
      "userId": "02267957112746133644"
     },
     "user_tz": 360
    },
    "id": "IbiwwlUu50dW",
    "outputId": "b88359f8-3196-4baf-8adf-9c59a7236e0b"
   },
   "outputs": [
    {
     "data": {
      "text/html": [
       "\n",
       "  <div id=\"df-a45deba0-7fc3-4e0e-81c2-4122aad7e822\">\n",
       "    <div class=\"colab-df-container\">\n",
       "      <div>\n",
       "<style scoped>\n",
       "    .dataframe tbody tr th:only-of-type {\n",
       "        vertical-align: middle;\n",
       "    }\n",
       "\n",
       "    .dataframe tbody tr th {\n",
       "        vertical-align: top;\n",
       "    }\n",
       "\n",
       "    .dataframe thead th {\n",
       "        text-align: right;\n",
       "    }\n",
       "</style>\n",
       "<table border=\"1\" class=\"dataframe\">\n",
       "  <thead>\n",
       "    <tr style=\"text-align: right;\">\n",
       "      <th></th>\n",
       "      <th>count</th>\n",
       "      <th>percentage</th>\n",
       "    </tr>\n",
       "  </thead>\n",
       "  <tbody>\n",
       "    <tr>\n",
       "      <th>joy</th>\n",
       "      <td>12917</td>\n",
       "      <td>34.027028</td>\n",
       "    </tr>\n",
       "    <tr>\n",
       "      <th>sadness</th>\n",
       "      <td>11587</td>\n",
       "      <td>30.523432</td>\n",
       "    </tr>\n",
       "    <tr>\n",
       "      <th>anger</th>\n",
       "      <td>5226</td>\n",
       "      <td>13.766761</td>\n",
       "    </tr>\n",
       "    <tr>\n",
       "      <th>fear</th>\n",
       "      <td>3955</td>\n",
       "      <td>10.418587</td>\n",
       "    </tr>\n",
       "    <tr>\n",
       "      <th>love</th>\n",
       "      <td>2434</td>\n",
       "      <td>6.411844</td>\n",
       "    </tr>\n",
       "    <tr>\n",
       "      <th>surprise</th>\n",
       "      <td>982</td>\n",
       "      <td>2.586865</td>\n",
       "    </tr>\n",
       "    <tr>\n",
       "      <th>neutral</th>\n",
       "      <td>860</td>\n",
       "      <td>2.265483</td>\n",
       "    </tr>\n",
       "  </tbody>\n",
       "</table>\n",
       "</div>\n",
       "      <button class=\"colab-df-convert\" onclick=\"convertToInteractive('df-a45deba0-7fc3-4e0e-81c2-4122aad7e822')\"\n",
       "              title=\"Convert this dataframe to an interactive table.\"\n",
       "              style=\"display:none;\">\n",
       "        \n",
       "  <svg xmlns=\"http://www.w3.org/2000/svg\" height=\"24px\"viewBox=\"0 0 24 24\"\n",
       "       width=\"24px\">\n",
       "    <path d=\"M0 0h24v24H0V0z\" fill=\"none\"/>\n",
       "    <path d=\"M18.56 5.44l.94 2.06.94-2.06 2.06-.94-2.06-.94-.94-2.06-.94 2.06-2.06.94zm-11 1L8.5 8.5l.94-2.06 2.06-.94-2.06-.94L8.5 2.5l-.94 2.06-2.06.94zm10 10l.94 2.06.94-2.06 2.06-.94-2.06-.94-.94-2.06-.94 2.06-2.06.94z\"/><path d=\"M17.41 7.96l-1.37-1.37c-.4-.4-.92-.59-1.43-.59-.52 0-1.04.2-1.43.59L10.3 9.45l-7.72 7.72c-.78.78-.78 2.05 0 2.83L4 21.41c.39.39.9.59 1.41.59.51 0 1.02-.2 1.41-.59l7.78-7.78 2.81-2.81c.8-.78.8-2.07 0-2.86zM5.41 20L4 18.59l7.72-7.72 1.47 1.35L5.41 20z\"/>\n",
       "  </svg>\n",
       "      </button>\n",
       "      \n",
       "  <style>\n",
       "    .colab-df-container {\n",
       "      display:flex;\n",
       "      flex-wrap:wrap;\n",
       "      gap: 12px;\n",
       "    }\n",
       "\n",
       "    .colab-df-convert {\n",
       "      background-color: #E8F0FE;\n",
       "      border: none;\n",
       "      border-radius: 50%;\n",
       "      cursor: pointer;\n",
       "      display: none;\n",
       "      fill: #1967D2;\n",
       "      height: 32px;\n",
       "      padding: 0 0 0 0;\n",
       "      width: 32px;\n",
       "    }\n",
       "\n",
       "    .colab-df-convert:hover {\n",
       "      background-color: #E2EBFA;\n",
       "      box-shadow: 0px 1px 2px rgba(60, 64, 67, 0.3), 0px 1px 3px 1px rgba(60, 64, 67, 0.15);\n",
       "      fill: #174EA6;\n",
       "    }\n",
       "\n",
       "    [theme=dark] .colab-df-convert {\n",
       "      background-color: #3B4455;\n",
       "      fill: #D2E3FC;\n",
       "    }\n",
       "\n",
       "    [theme=dark] .colab-df-convert:hover {\n",
       "      background-color: #434B5C;\n",
       "      box-shadow: 0px 1px 3px 1px rgba(0, 0, 0, 0.15);\n",
       "      filter: drop-shadow(0px 1px 2px rgba(0, 0, 0, 0.3));\n",
       "      fill: #FFFFFF;\n",
       "    }\n",
       "  </style>\n",
       "\n",
       "      <script>\n",
       "        const buttonEl =\n",
       "          document.querySelector('#df-a45deba0-7fc3-4e0e-81c2-4122aad7e822 button.colab-df-convert');\n",
       "        buttonEl.style.display =\n",
       "          google.colab.kernel.accessAllowed ? 'block' : 'none';\n",
       "\n",
       "        async function convertToInteractive(key) {\n",
       "          const element = document.querySelector('#df-a45deba0-7fc3-4e0e-81c2-4122aad7e822');\n",
       "          const dataTable =\n",
       "            await google.colab.kernel.invokeFunction('convertToInteractive',\n",
       "                                                     [key], {});\n",
       "          if (!dataTable) return;\n",
       "\n",
       "          const docLinkHtml = 'Like what you see? Visit the ' +\n",
       "            '<a target=\"_blank\" href=https://colab.research.google.com/notebooks/data_table.ipynb>data table notebook</a>'\n",
       "            + ' to learn more about interactive tables.';\n",
       "          element.innerHTML = '';\n",
       "          dataTable['output_type'] = 'display_data';\n",
       "          await google.colab.output.renderOutput(dataTable, element);\n",
       "          const docLink = document.createElement('div');\n",
       "          docLink.innerHTML = docLinkHtml;\n",
       "          element.appendChild(docLink);\n",
       "        }\n",
       "      </script>\n",
       "    </div>\n",
       "  </div>\n",
       "  "
      ],
      "text/plain": [
       "          count  percentage\n",
       "joy       12917   34.027028\n",
       "sadness   11587   30.523432\n",
       "anger      5226   13.766761\n",
       "fear       3955   10.418587\n",
       "love       2434    6.411844\n",
       "surprise    982    2.586865\n",
       "neutral     860    2.265483"
      ]
     },
     "execution_count": 88,
     "metadata": {},
     "output_type": "execute_result"
    }
   ],
   "source": [
    "get_proportions(test_df['emotions'])"
   ]
  },
  {
   "cell_type": "code",
   "execution_count": 89,
   "metadata": {
    "colab": {
     "base_uri": "https://localhost:8080/"
    },
    "executionInfo": {
     "elapsed": 997,
     "status": "ok",
     "timestamp": 1681002223443,
     "user": {
      "displayName": "Christian Montecillo",
      "userId": "02267957112746133644"
     },
     "user_tz": 360
    },
    "id": "gEMdQ78M2Rz-",
    "outputId": "1e722df7-e36e-4811-9abb-a5be1681a3d1"
   },
   "outputs": [
    {
     "data": {
      "text/plain": [
       "array([  2,   3, 565,   5,  57, 826, 737,   0,   0,   0,   0,   0,   0,\n",
       "         0,   0,   0,   0,   0,   0,   0,   0,   0,   0,   0,   0,   0,\n",
       "         0,   0,   0,   0,   0,   0,   0,   0,   0,   0,   0,   0,   0,\n",
       "         0,   0,   0,   0,   0,   0,   0,   0,   0,   0,   0,   0,   0,\n",
       "         0,   0,   0,   0,   0,   0,   0,   0,   0,   0,   0,   0,   0,\n",
       "         0,   0,   0,   0,   0,   0,   0,   0,   0,   0,   0,   0,   0,\n",
       "         0,   0,   0,   0,   0,   0,   0,   0,   0,   0,   0,   0,   0,\n",
       "         0,   0,   0,   0,   0,   0,   0,   0,   0,   0,   0,   0,   0,\n",
       "         0,   0,   0,   0,   0,   0,   0,   0,   0,   0,   0,   0,   0,\n",
       "         0,   0,   0,   0,   0,   0,   0,   0,   0,   0,   0,   0,   0,\n",
       "         0,   0,   0,   0,   0,   0,   0,   0,   0,   0,   0,   0,   0,\n",
       "         0,   0,   0,   0,   0,   0,   0,   0,   0,   0,   0,   0,   0,\n",
       "         0,   0,   0,   0,   0,   0,   0,   0,   0,   0,   0,   0,   0,\n",
       "         0,   0,   0,   0,   0,   0,   0,   0,   0,   0,   0,   0,   0,\n",
       "         0,   0,   0,   0,   0,   0,   0,   0,   0,   0,   0,   0,   0,\n",
       "         0,   0,   0,   0,   0], dtype=int32)"
      ]
     },
     "execution_count": 89,
     "metadata": {},
     "output_type": "execute_result"
    }
   ],
   "source": [
    "padded_test_seq = get_sequences(tokenizer, test_df['text'])\n",
    "padded_test_seq[0]"
   ]
  },
  {
   "cell_type": "code",
   "execution_count": 90,
   "metadata": {
    "colab": {
     "base_uri": "https://localhost:8080/"
    },
    "executionInfo": {
     "elapsed": 18,
     "status": "ok",
     "timestamp": 1681002223443,
     "user": {
      "displayName": "Christian Montecillo",
      "userId": "02267957112746133644"
     },
     "user_tz": 360
    },
    "id": "jBACmE2L2sW1",
    "outputId": "d96dd50c-e7ff-48d9-d12a-190b619f3abe"
   },
   "outputs": [
    {
     "data": {
      "text/plain": [
       "{'sadness': 0,\n",
       " 'anger': 1,\n",
       " 'fear': 2,\n",
       " 'surprise': 3,\n",
       " 'joy': 4,\n",
       " 'love': 5,\n",
       " 'neutral': 6}"
      ]
     },
     "execution_count": 90,
     "metadata": {},
     "output_type": "execute_result"
    }
   ],
   "source": [
    "# reminder of the class_to_index mapping\n",
    "class_to_index_dict"
   ]
  },
  {
   "cell_type": "code",
   "execution_count": 91,
   "metadata": {
    "colab": {
     "base_uri": "https://localhost:8080/"
    },
    "executionInfo": {
     "elapsed": 16,
     "status": "ok",
     "timestamp": 1681002223444,
     "user": {
      "displayName": "Christian Montecillo",
      "userId": "02267957112746133644"
     },
     "user_tz": 360
    },
    "id": "YbXURKrqVaou",
    "outputId": "941d51dd-480c-4b25-c5d2-f294c87f51f2"
   },
   "outputs": [
    {
     "name": "stdout",
     "output_type": "stream",
     "text": [
      "test_df.iloc[7]:\n",
      " text        i resolved at that moment to do my bit when i ...\n",
      "emotions                                              sadness\n",
      "Name: 2, dtype: object\n",
      "numeric label: 0\n"
     ]
    }
   ],
   "source": [
    "# confirming if it worked (change index) and they should line up with above dict\n",
    "index = 2\n",
    "test_labels = names_to_ids(class_to_index_dict, test_df['emotions'])\n",
    "print('test_df.iloc[7]:\\n', test_df.iloc[index])\n",
    "print('numeric label:', test_labels[index])"
   ]
  },
  {
   "cell_type": "markdown",
   "metadata": {
    "id": "3sQ_CJUk6cHw"
   },
   "source": [
    "### Evaluating the model using test_df!!!"
   ]
  },
  {
   "cell_type": "code",
   "execution_count": 92,
   "metadata": {
    "colab": {
     "base_uri": "https://localhost:8080/"
    },
    "executionInfo": {
     "elapsed": 11,
     "status": "ok",
     "timestamp": 1681002223444,
     "user": {
      "displayName": "Christian Montecillo",
      "userId": "02267957112746133644"
     },
     "user_tz": 360
    },
    "id": "lia0cPgY6AQx",
    "outputId": "4f411162-dc75-47d4-c694-69e859b04178"
   },
   "outputs": [
    {
     "data": {
      "text/plain": [
       "array([1, 4, 0, 4, 4, 0, 4, 5, 0, 1, 0, 4, 2, 3, 1, 0, 0, 1, 0, 4, 0, 6,\n",
       "       0, 0, 4, 5, 4, 4, 2, 1, 4, 6, 0, 4, 1, 0, 1, 4, 0, 1, 4, 2, 0, 4,\n",
       "       0, 1, 4, 4, 4, 0, 2, 0, 5, 1, 3, 5, 4, 5, 1, 4, 2, 4, 0, 1, 4, 0,\n",
       "       0, 4, 0, 4, 2, 4, 2, 1, 2, 4, 4, 2, 1, 0, 0, 2, 1, 2, 4, 0, 4, 4,\n",
       "       0, 1, 0, 4, 0, 2, 4, 0, 0, 1, 0, 4])"
      ]
     },
     "execution_count": 92,
     "metadata": {},
     "output_type": "execute_result"
    }
   ],
   "source": [
    "test_labels[:100]"
   ]
  },
  {
   "cell_type": "code",
   "execution_count": 93,
   "metadata": {
    "colab": {
     "base_uri": "https://localhost:8080/"
    },
    "executionInfo": {
     "elapsed": 10416,
     "status": "ok",
     "timestamp": 1681002233852,
     "user": {
      "displayName": "Christian Montecillo",
      "userId": "02267957112746133644"
     },
     "user_tz": 360
    },
    "id": "053kYMU11ufb",
    "outputId": "2d550ba9-09c9-4145-d430-a90159c6db59"
   },
   "outputs": [
    {
     "name": "stdout",
     "output_type": "stream",
     "text": [
      "1187/1187 [==============================] - 9s 7ms/step - loss: 0.4097 - accuracy: 0.8771\n"
     ]
    },
    {
     "data": {
      "text/plain": [
       "[0.40971240401268005, 0.8770580291748047]"
      ]
     },
     "execution_count": 93,
     "metadata": {},
     "output_type": "execute_result"
    }
   ],
   "source": [
    "model.evaluate(padded_test_seq, test_labels)"
   ]
  },
  {
   "cell_type": "code",
   "execution_count": 94,
   "metadata": {
    "colab": {
     "base_uri": "https://localhost:8080/"
    },
    "executionInfo": {
     "elapsed": 1118,
     "status": "ok",
     "timestamp": 1681002234952,
     "user": {
      "displayName": "Christian Montecillo",
      "userId": "02267957112746133644"
     },
     "user_tz": 360
    },
    "id": "wyu3GMil3mJX",
    "outputId": "6343f438-f3da-4982-d41e-009f326e81f2"
   },
   "outputs": [
    {
     "name": "stdout",
     "output_type": "stream",
     "text": [
      "Sentence: text        i want to love people more and not feel enviou...\n",
      "emotions                                                anger\n",
      "Name: 30123, dtype: object\n",
      "Emotion: 1\n",
      "1/1 [==============================] - 1s 636ms/step\n",
      "Predicted Emotion: 1\n"
     ]
    }
   ],
   "source": [
    "# printing out a random tweet and its label, then calling\n",
    "# model.predict to see what the model predicts\n",
    "i = random.randint(0, len(test_labels) - 1)\n",
    "\n",
    "print('Sentence:', test_df.iloc[i])\n",
    "print('Emotion:', test_labels[i])\n",
    "\n",
    "p = model.predict(np.expand_dims(padded_test_seq[i], axis=0))[0]\n",
    "pred_class = np.argmax(p).astype('uint8')\n",
    "\n",
    "print('Predicted Emotion:', pred_class)"
   ]
  },
  {
   "cell_type": "code",
   "execution_count": 95,
   "metadata": {
    "colab": {
     "base_uri": "https://localhost:8080/"
    },
    "executionInfo": {
     "elapsed": 8399,
     "status": "ok",
     "timestamp": 1681002243342,
     "user": {
      "displayName": "Christian Montecillo",
      "userId": "02267957112746133644"
     },
     "user_tz": 360
    },
    "id": "91fRNuUubO7U",
    "outputId": "a2ce0c50-dd88-4465-a884-455395f72573"
   },
   "outputs": [
    {
     "name": "stdout",
     "output_type": "stream",
     "text": [
      "1187/1187 [==============================] - 9s 7ms/step\n"
     ]
    }
   ],
   "source": [
    "preds_imbalanced_test_set = model.predict(padded_test_seq)"
   ]
  },
  {
   "cell_type": "code",
   "execution_count": 96,
   "metadata": {
    "colab": {
     "base_uri": "https://localhost:8080/",
     "height": 1000
    },
    "executionInfo": {
     "elapsed": 735,
     "status": "ok",
     "timestamp": 1681002244069,
     "user": {
      "displayName": "Christian Montecillo",
      "userId": "02267957112746133644"
     },
     "user_tz": 360
    },
    "id": "0d24DBx7-Jft",
    "outputId": "1b1e2458-92ba-4399-cb96-dde5171de211"
   },
   "outputs": [
    {
     "name": "stderr",
     "output_type": "stream",
     "text": [
      "/usr/local/lib/python3.9/dist-packages/sklearn/metrics/_classification.py:1344: UndefinedMetricWarning: Precision and F-score are ill-defined and being set to 0.0 in labels with no predicted samples. Use `zero_division` parameter to control this behavior.\n",
      "  _warn_prf(average, modifier, msg_start, len(result))\n",
      "/usr/local/lib/python3.9/dist-packages/sklearn/metrics/_classification.py:1344: UndefinedMetricWarning: Precision and F-score are ill-defined and being set to 0.0 in labels with no predicted samples. Use `zero_division` parameter to control this behavior.\n",
      "  _warn_prf(average, modifier, msg_start, len(result))\n",
      "/usr/local/lib/python3.9/dist-packages/sklearn/metrics/_classification.py:1344: UndefinedMetricWarning: Precision and F-score are ill-defined and being set to 0.0 in labels with no predicted samples. Use `zero_division` parameter to control this behavior.\n",
      "  _warn_prf(average, modifier, msg_start, len(result))\n"
     ]
    },
    {
     "name": "stdout",
     "output_type": "stream",
     "text": [
      "Classification Report:\n",
      "\n",
      "               precision    recall  f1-score   support\n",
      "\n",
      "     sadness       0.93      0.97      0.95     11587\n",
      "     neutral       0.79      0.87      0.82      5226\n",
      "    surprise       0.80      0.56      0.66      3955\n",
      "        fear       0.00      0.00      0.00       982\n",
      "         joy       0.95      0.97      0.96     12917\n",
      "       anger       0.64      0.87      0.73      2434\n",
      "        love       0.83      0.80      0.82       860\n",
      "\n",
      "    accuracy                           0.88     37961\n",
      "   macro avg       0.70      0.72      0.71     37961\n",
      "weighted avg       0.86      0.88      0.86     37961\n",
      "\n",
      "Confusion Matrix:\n",
      "\n"
     ]
    },
    {
     "data": {
      "image/png": "[encoded data removed]",
      "text/plain": [
       "<Figure size 2000x700 with 2 Axes>"
      ]
     },
     "metadata": {},
     "output_type": "display_data"
    }
   ],
   "source": [
    "make_cr_cm(preds_imbalanced_test_set, test_labels)"
   ]
  },
  {
   "cell_type": "markdown",
   "metadata": {
    "id": "3-ekehsJ54yk"
   },
   "source": [
    "***\n",
    "## 8 Evaluating the model again, but with balanced_test_df!!!"
   ]
  },
  {
   "cell_type": "markdown",
   "metadata": {
    "id": "OSNNBLBDbU_J"
   },
   "source": [
    "### Padding the balanced test set for evaluation"
   ]
  },
  {
   "cell_type": "code",
   "execution_count": 97,
   "metadata": {
    "colab": {
     "base_uri": "https://localhost:8080/"
    },
    "executionInfo": {
     "elapsed": 19,
     "status": "ok",
     "timestamp": 1681002244070,
     "user": {
      "displayName": "Christian Montecillo",
      "userId": "02267957112746133644"
     },
     "user_tz": 360
    },
    "id": "z_w8r3SeVAWx",
    "outputId": "ea994512-7058-4da9-dfde-8cd3d7af337f"
   },
   "outputs": [
    {
     "data": {
      "text/plain": [
       "array([   2,   54,   57,   33,    6,  235,    9,    6,  620,   10,   31,\n",
       "        111,   31,   66,   25,    4,    3,   59,    6,  235,   10, 1069,\n",
       "         31,   37,  145,  708,    6, 2081,    9,  117,    1,    9,  113,\n",
       "         31,  814, 1196,   18,    7,  921,  865,    1, 2178,    0,    0,\n",
       "          0,    0,    0,    0,    0,    0,    0,    0,    0,    0,    0,\n",
       "          0,    0,    0,    0,    0,    0,    0,    0,    0,    0,    0,\n",
       "          0,    0,    0,    0,    0,    0,    0,    0,    0,    0,    0,\n",
       "          0,    0,    0,    0,    0,    0,    0,    0,    0,    0,    0,\n",
       "          0,    0,    0,    0,    0,    0,    0,    0,    0,    0,    0,\n",
       "          0,    0,    0,    0,    0,    0,    0,    0,    0,    0,    0,\n",
       "          0,    0,    0,    0,    0,    0,    0,    0,    0,    0,    0,\n",
       "          0,    0,    0,    0,    0,    0,    0,    0,    0,    0,    0,\n",
       "          0,    0,    0,    0,    0,    0,    0,    0,    0,    0,    0,\n",
       "          0,    0,    0,    0,    0,    0,    0,    0,    0,    0,    0,\n",
       "          0,    0,    0,    0,    0,    0,    0,    0,    0,    0,    0,\n",
       "          0,    0,    0,    0,    0,    0,    0,    0,    0,    0,    0,\n",
       "          0,    0,    0,    0,    0,    0,    0,    0,    0,    0,    0,\n",
       "          0,    0,    0,    0,    0,    0,    0,    0,    0,    0,    0,\n",
       "          0,    0], dtype=int32)"
      ]
     },
     "execution_count": 97,
     "metadata": {},
     "output_type": "execute_result"
    }
   ],
   "source": [
    "padded_balanced_test_seq = get_sequences(tokenizer, balanced_test_df['text'])\n",
    "padded_balanced_test_seq[0]"
   ]
  },
  {
   "cell_type": "code",
   "execution_count": 98,
   "metadata": {
    "colab": {
     "base_uri": "https://localhost:8080/"
    },
    "executionInfo": {
     "elapsed": 14,
     "status": "ok",
     "timestamp": 1681002244071,
     "user": {
      "displayName": "Christian Montecillo",
      "userId": "02267957112746133644"
     },
     "user_tz": 360
    },
    "id": "cedRkeI7VPig",
    "outputId": "79f8f6fe-5448-4ba1-b10f-6a5ba8cb95fa"
   },
   "outputs": [
    {
     "data": {
      "text/plain": [
       "{'sadness': 0,\n",
       " 'anger': 1,\n",
       " 'fear': 2,\n",
       " 'surprise': 3,\n",
       " 'joy': 4,\n",
       " 'love': 5,\n",
       " 'neutral': 6}"
      ]
     },
     "execution_count": 98,
     "metadata": {},
     "output_type": "execute_result"
    }
   ],
   "source": [
    "# reminder of the class_to_index mapping\n",
    "class_to_index_dict"
   ]
  },
  {
   "cell_type": "code",
   "execution_count": 99,
   "metadata": {
    "colab": {
     "base_uri": "https://localhost:8080/"
    },
    "executionInfo": {
     "elapsed": 12,
     "status": "ok",
     "timestamp": 1681002244072,
     "user": {
      "displayName": "Christian Montecillo",
      "userId": "02267957112746133644"
     },
     "user_tz": 360
    },
    "id": "hm-MP1dM3HQL",
    "outputId": "0a61bebb-f1bb-4d23-eed2-c7cf99fe7614"
   },
   "outputs": [
    {
     "name": "stdout",
     "output_type": "stream",
     "text": [
      "balanced_test_df.iloc[7]:\n",
      " text        i feel like i m wronged\n",
      "emotions                      anger\n",
      "Name: 7, dtype: object\n",
      "numeric label: 1\n"
     ]
    }
   ],
   "source": [
    "# confirming if it worked (change index) and they should line up with above dict\n",
    "index = 7\n",
    "balanced_test_labels = names_to_ids(class_to_index_dict, balanced_test_df['emotions'])\n",
    "print('balanced_test_df.iloc[7]:\\n', balanced_test_df.iloc[index])\n",
    "print('numeric label:', balanced_test_labels[index])"
   ]
  },
  {
   "cell_type": "markdown",
   "metadata": {
    "id": "MJasH3YlbfCW"
   },
   "source": [
    "### Evaluating the model using balanced_test_df!!!"
   ]
  },
  {
   "cell_type": "code",
   "execution_count": 100,
   "metadata": {
    "colab": {
     "base_uri": "https://localhost:8080/"
    },
    "executionInfo": {
     "elapsed": 2094,
     "status": "ok",
     "timestamp": 1681002246158,
     "user": {
      "displayName": "Christian Montecillo",
      "userId": "02267957112746133644"
     },
     "user_tz": 360
    },
    "id": "1X2dswfs83FG",
    "outputId": "d0182e2d-6e3a-40f4-a146-725852836a95"
   },
   "outputs": [
    {
     "name": "stdout",
     "output_type": "stream",
     "text": [
      "189/189 [==============================] - 1s 7ms/step - loss: 0.8207 - accuracy: 0.7159\n"
     ]
    },
    {
     "data": {
      "text/plain": [
       "[0.8206605315208435, 0.7159468531608582]"
      ]
     },
     "execution_count": 100,
     "metadata": {},
     "output_type": "execute_result"
    }
   ],
   "source": [
    "model.evaluate(padded_balanced_test_seq, balanced_test_labels)"
   ]
  },
  {
   "cell_type": "code",
   "execution_count": 101,
   "metadata": {
    "colab": {
     "base_uri": "https://localhost:8080/"
    },
    "executionInfo": {
     "elapsed": 9,
     "status": "ok",
     "timestamp": 1681002246159,
     "user": {
      "displayName": "Christian Montecillo",
      "userId": "02267957112746133644"
     },
     "user_tz": 360
    },
    "id": "v98-_YwrV2t_",
    "outputId": "f5d46092-fb6c-47da-8465-b5cd159c0fb0"
   },
   "outputs": [
    {
     "name": "stdout",
     "output_type": "stream",
     "text": [
      "Sentence: text        @chhophyel That's not how we share links on Tw...\n",
      "emotions                                              neutral\n",
      "Name: 3914, dtype: object\n",
      "Emotion: 6\n",
      "1/1 [==============================] - 0s 25ms/step\n",
      "Predicted Emotion: 6\n"
     ]
    }
   ],
   "source": [
    "# printing out a random tweet and its label, then calling\n",
    "# model.predict to see what the model predicts\n",
    "i = random.randint(0, len(balanced_test_labels) - 1)\n",
    "\n",
    "print('Sentence:', balanced_test_df.iloc[i])\n",
    "print('Emotion:', balanced_test_labels[i])\n",
    "\n",
    "p = model.predict(np.expand_dims(padded_balanced_test_seq[i], axis=0))[0]\n",
    "pred_class = np.argmax(p).astype('uint8')\n",
    "\n",
    "print('Predicted Emotion:', pred_class)"
   ]
  },
  {
   "cell_type": "code",
   "execution_count": 102,
   "metadata": {
    "colab": {
     "base_uri": "https://localhost:8080/"
    },
    "executionInfo": {
     "elapsed": 1044,
     "status": "ok",
     "timestamp": 1681002247197,
     "user": {
      "displayName": "Christian Montecillo",
      "userId": "02267957112746133644"
     },
     "user_tz": 360
    },
    "id": "VtERWaIyiQ2k",
    "outputId": "52dca051-e4e8-4bf2-cded-def3afc70a9e"
   },
   "outputs": [
    {
     "name": "stdout",
     "output_type": "stream",
     "text": [
      "189/189 [==============================] - 1s 6ms/step\n"
     ]
    }
   ],
   "source": [
    "preds_balanced_test_set = model.predict(padded_balanced_test_seq)"
   ]
  },
  {
   "cell_type": "code",
   "execution_count": 103,
   "metadata": {
    "colab": {
     "base_uri": "https://localhost:8080/",
     "height": 1000
    },
    "executionInfo": {
     "elapsed": 389,
     "status": "ok",
     "timestamp": 1681002247583,
     "user": {
      "displayName": "Christian Montecillo",
      "userId": "02267957112746133644"
     },
     "user_tz": 360
    },
    "id": "I5qqhODF-hyO",
    "outputId": "f39d86f2-caf0-484b-aafb-f179e8b03cea"
   },
   "outputs": [
    {
     "name": "stdout",
     "output_type": "stream",
     "text": [
      "Classification Report:\n",
      "\n",
      "               precision    recall  f1-score   support\n",
      "\n",
      "     neutral       0.82      0.97      0.89       860\n",
      "     sadness       0.72      0.88      0.79       860\n",
      "    surprise       0.85      0.55      0.67       860\n",
      "        fear       0.00      0.00      0.00       860\n",
      "         joy       0.76      0.96      0.85       860\n",
      "       anger       0.46      0.85      0.60       860\n",
      "        love       0.96      0.80      0.87       860\n",
      "\n",
      "    accuracy                           0.72      6020\n",
      "   macro avg       0.65      0.72      0.67      6020\n",
      "weighted avg       0.65      0.72      0.67      6020\n",
      "\n",
      "Confusion Matrix:\n",
      "\n"
     ]
    },
    {
     "name": "stderr",
     "output_type": "stream",
     "text": [
      "/usr/local/lib/python3.9/dist-packages/sklearn/metrics/_classification.py:1344: UndefinedMetricWarning: Precision and F-score are ill-defined and being set to 0.0 in labels with no predicted samples. Use `zero_division` parameter to control this behavior.\n",
      "  _warn_prf(average, modifier, msg_start, len(result))\n",
      "/usr/local/lib/python3.9/dist-packages/sklearn/metrics/_classification.py:1344: UndefinedMetricWarning: Precision and F-score are ill-defined and being set to 0.0 in labels with no predicted samples. Use `zero_division` parameter to control this behavior.\n",
      "  _warn_prf(average, modifier, msg_start, len(result))\n",
      "/usr/local/lib/python3.9/dist-packages/sklearn/metrics/_classification.py:1344: UndefinedMetricWarning: Precision and F-score are ill-defined and being set to 0.0 in labels with no predicted samples. Use `zero_division` parameter to control this behavior.\n",
      "  _warn_prf(average, modifier, msg_start, len(result))\n"
     ]
    },
    {
     "data": {
      "image/png": "[encoded data removed]",
      "text/plain": [
       "<Figure size 2000x700 with 2 Axes>"
      ]
     },
     "metadata": {},
     "output_type": "display_data"
    }
   ],
   "source": [
    "make_cr_cm(preds_balanced_test_set, balanced_test_labels)"
   ]
  }
 ],
 "metadata": {
  "accelerator": "GPU",
  "colab": {
   "provenance": [
    {
     "file_id": "1si0TY6-hs70VBlbYCS_6UQMdC1HopG7R",
     "timestamp": 1678417410096
    },
    {
     "file_id": "1GgqjlJKTRlHcJ97Fqdaa2dssTvFjb7jH",
     "timestamp": 1677994986960
    }
   ]
  },
  "gpuClass": "standard",
  "kernelspec": {
   "display_name": "Python 3 (ipykernel)",
   "language": "python",
   "name": "python3"
  },
  "language_info": {
   "codemirror_mode": {
    "name": "ipython",
    "version": 3
   },
   "file_extension": ".py",
   "mimetype": "text/x-python",
   "name": "python",
   "nbconvert_exporter": "python",
   "pygments_lexer": "ipython3",
   "version": "3.9.12"
  }
 },
 "nbformat": 4,
 "nbformat_minor": 1
}
