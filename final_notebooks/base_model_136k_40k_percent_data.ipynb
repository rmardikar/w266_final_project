{
 "cells": [
  {
   "cell_type": "markdown",
   "metadata": {
    "id": "z9rigx9lYp0r"
   },
   "source": [
    "***\n",
    "# Base Bi-LSTM Model using only 136k training and 40k of val of the original data of 90% training<br>\n",
    "***"
   ]
  },
  {
   "cell_type": "markdown",
   "metadata": {
    "id": "kX3XryQmcWhL"
   },
   "source": [
    "***\n",
    "## 1 Load the train/val/test/balanced test datasets"
   ]
  },
  {
   "cell_type": "code",
   "execution_count": 1,
   "metadata": {
    "colab": {
     "base_uri": "https://localhost:8080/"
    },
    "executionInfo": {
     "elapsed": 19330,
     "status": "ok",
     "timestamp": 1681012637961,
     "user": {
      "displayName": "Christian Montecillo",
      "userId": "02267957112746133644"
     },
     "user_tz": 360
    },
    "id": "06sIOQnaaF9P",
    "outputId": "0b5fad27-92de-4360-bd68-de71992155d2"
   },
   "outputs": [
    {
     "name": "stdout",
     "output_type": "stream",
     "text": [
      "Mounted at /content/gdrive\n"
     ]
    }
   ],
   "source": [
    "import pandas as pd\n",
    "import numpy as np\n",
    "\n",
    "# mount google drive\n",
    "from google.colab import drive \n",
    "drive.mount('/content/gdrive')"
   ]
  },
  {
   "cell_type": "code",
   "execution_count": 2,
   "metadata": {
    "executionInfo": {
     "elapsed": 3276,
     "status": "ok",
     "timestamp": 1681012641232,
     "user": {
      "displayName": "Christian Montecillo",
      "userId": "02267957112746133644"
     },
     "user_tz": 360
    },
    "id": "9j2cEQQtYMBR"
   },
   "outputs": [],
   "source": [
    "# read from the google drive\n",
    "project_folder = '/content/gdrive/MyDrive/266_Final_Project_Folder'\n",
    "\n",
    "version = '_136k_40k'\n",
    "\n",
    "train_source = project_folder + '/datasets/train_data_imbalanced_stratified_no_dupe' + version + '.csv'\n",
    "test_source = project_folder + '/datasets/test_data_imbalanced_stratified_no_dupe.csv'\n",
    "val_source = project_folder + '/datasets/validation_data_imbalanced_stratified_no_dupe' + version + '.csv'\n",
    "balanced_test_source = project_folder + '/datasets/test_data_balanced_no_dupe.csv'\n",
    "\n",
    "# Load the dfs\n",
    "train_df = pd.read_csv(train_source)\n",
    "test_df = pd.read_csv(test_source)\n",
    "val_df = pd.read_csv(val_source)\n",
    "balanced_test_df = pd.read_csv(balanced_test_source)\n",
    "\n",
    "# drop the tweet_id column\n",
    "train_df.drop(columns=train_df.columns[0], axis=1, inplace=True)\n",
    "test_df.drop(columns=test_df.columns[0], axis=1, inplace=True)\n",
    "val_df.drop(columns=val_df.columns[0], axis=1, inplace=True)\n",
    "balanced_test_df.drop(columns=balanced_test_df.columns[0], axis=1, inplace=True)"
   ]
  },
  {
   "cell_type": "markdown",
   "metadata": {
    "id": "IbaQ2JZUcJcH"
   },
   "source": [
    "### Confirm no overlapping records "
   ]
  },
  {
   "cell_type": "code",
   "execution_count": 3,
   "metadata": {
    "colab": {
     "base_uri": "https://localhost:8080/"
    },
    "executionInfo": {
     "elapsed": 297,
     "status": "ok",
     "timestamp": 1681012641524,
     "user": {
      "displayName": "Christian Montecillo",
      "userId": "02267957112746133644"
     },
     "user_tz": 360
    },
    "id": "PIydFV55QM8H",
    "outputId": "9bc4053f-8f53-4a39-8012-921d31df6f76"
   },
   "outputs": [
    {
     "name": "stdout",
     "output_type": "stream",
     "text": [
      "Number of overlapping records, train-val: 0\n",
      "Number of overlapping records, val-train: 0\n",
      "Number of overlapping records, train-test: 0\n",
      "Number of overlapping records, test-train: 0\n",
      "Number of overlapping records, train-balanced test: 0\n",
      "Number of overlapping records, balanced test, train: 0\n"
     ]
    }
   ],
   "source": [
    "# Check if there are any records in train_df that are in val_df\n",
    "overlap = train_df['text'].isin(val_df['text'])\n",
    "print(f\"Number of overlapping records, train-val: {overlap.sum()}\")\n",
    "\n",
    "# Check if there are any records in val_df that are in train_df\n",
    "overlap = val_df['text'].isin(train_df['text'])\n",
    "print(f\"Number of overlapping records, val-train: {overlap.sum()}\")\n",
    "\n",
    "\n",
    "# Check if there are any records in train_df that are in test_df\n",
    "overlap = train_df['text'].isin(test_df['text'])\n",
    "print(f\"Number of overlapping records, train-test: {overlap.sum()}\")\n",
    "\n",
    "# Check if there are any records in test_df that are in train_df\n",
    "overlap = test_df['text'].isin(train_df['text'])\n",
    "print(f\"Number of overlapping records, test-train: {overlap.sum()}\")\n",
    "\n",
    "\n",
    "# Check if there are any records in train_df that are in balanced_test_df\n",
    "overlap = train_df['text'].isin(balanced_test_df['text'])\n",
    "print(f\"Number of overlapping records, train-balanced test: {overlap.sum()}\")\n",
    "\n",
    "# Check if there are any records in train_df that are in balanced_test_df\n",
    "overlap = balanced_test_df['text'].isin(train_df['text'])\n",
    "print(f\"Number of overlapping records, balanced test, train: {overlap.sum()}\")"
   ]
  },
  {
   "cell_type": "code",
   "execution_count": 4,
   "metadata": {
    "colab": {
     "base_uri": "https://localhost:8080/",
     "height": 424
    },
    "executionInfo": {
     "elapsed": 5,
     "status": "ok",
     "timestamp": 1681012641614,
     "user": {
      "displayName": "Christian Montecillo",
      "userId": "02267957112746133644"
     },
     "user_tz": 360
    },
    "id": "7W2PlC_Ulv0O",
    "outputId": "9552af33-178b-4d5f-c28c-ac3faf4abdb2"
   },
   "outputs": [
    {
     "data": {
      "text/html": [
       "\n",
       "  <div id=\"df-e352ce47-99bc-4557-9741-b19354b5e852\">\n",
       "    <div class=\"colab-df-container\">\n",
       "      <div>\n",
       "<style scoped>\n",
       "    .dataframe tbody tr th:only-of-type {\n",
       "        vertical-align: middle;\n",
       "    }\n",
       "\n",
       "    .dataframe tbody tr th {\n",
       "        vertical-align: top;\n",
       "    }\n",
       "\n",
       "    .dataframe thead th {\n",
       "        text-align: right;\n",
       "    }\n",
       "</style>\n",
       "<table border=\"1\" class=\"dataframe\">\n",
       "  <thead>\n",
       "    <tr style=\"text-align: right;\">\n",
       "      <th></th>\n",
       "      <th>text</th>\n",
       "      <th>emotions</th>\n",
       "    </tr>\n",
       "  </thead>\n",
       "  <tbody>\n",
       "    <tr>\n",
       "      <th>0</th>\n",
       "      <td>ive had some pent up feelings of anger discont...</td>\n",
       "      <td>sadness</td>\n",
       "    </tr>\n",
       "    <tr>\n",
       "      <th>1</th>\n",
       "      <td>i and those with me at the time have felt some...</td>\n",
       "      <td>fear</td>\n",
       "    </tr>\n",
       "    <tr>\n",
       "      <th>2</th>\n",
       "      <td>i do feel exhausted today though so much so th...</td>\n",
       "      <td>sadness</td>\n",
       "    </tr>\n",
       "    <tr>\n",
       "      <th>3</th>\n",
       "      <td>i feel more relaxed i have saved a shedload of...</td>\n",
       "      <td>joy</td>\n",
       "    </tr>\n",
       "    <tr>\n",
       "      <th>4</th>\n",
       "      <td>i know he feels that he doesnt deserve to be l...</td>\n",
       "      <td>love</td>\n",
       "    </tr>\n",
       "    <tr>\n",
       "      <th>...</th>\n",
       "      <td>...</td>\n",
       "      <td>...</td>\n",
       "    </tr>\n",
       "    <tr>\n",
       "      <th>136652</th>\n",
       "      <td>i feel a little disappointed in myself for bre...</td>\n",
       "      <td>sadness</td>\n",
       "    </tr>\n",
       "    <tr>\n",
       "      <th>136653</th>\n",
       "      <td>i also feel very irritable i shake and i sweat...</td>\n",
       "      <td>anger</td>\n",
       "    </tr>\n",
       "    <tr>\n",
       "      <th>136654</th>\n",
       "      <td>im excited to get home and spend time with eve...</td>\n",
       "      <td>joy</td>\n",
       "    </tr>\n",
       "    <tr>\n",
       "      <th>136655</th>\n",
       "      <td>i feel as though he can not be romantic with m...</td>\n",
       "      <td>love</td>\n",
       "    </tr>\n",
       "    <tr>\n",
       "      <th>136656</th>\n",
       "      <td>im glad that i feel so distressed about leavin...</td>\n",
       "      <td>fear</td>\n",
       "    </tr>\n",
       "  </tbody>\n",
       "</table>\n",
       "<p>136657 rows × 2 columns</p>\n",
       "</div>\n",
       "      <button class=\"colab-df-convert\" onclick=\"convertToInteractive('df-e352ce47-99bc-4557-9741-b19354b5e852')\"\n",
       "              title=\"Convert this dataframe to an interactive table.\"\n",
       "              style=\"display:none;\">\n",
       "        \n",
       "  <svg xmlns=\"http://www.w3.org/2000/svg\" height=\"24px\"viewBox=\"0 0 24 24\"\n",
       "       width=\"24px\">\n",
       "    <path d=\"M0 0h24v24H0V0z\" fill=\"none\"/>\n",
       "    <path d=\"M18.56 5.44l.94 2.06.94-2.06 2.06-.94-2.06-.94-.94-2.06-.94 2.06-2.06.94zm-11 1L8.5 8.5l.94-2.06 2.06-.94-2.06-.94L8.5 2.5l-.94 2.06-2.06.94zm10 10l.94 2.06.94-2.06 2.06-.94-2.06-.94-.94-2.06-.94 2.06-2.06.94z\"/><path d=\"M17.41 7.96l-1.37-1.37c-.4-.4-.92-.59-1.43-.59-.52 0-1.04.2-1.43.59L10.3 9.45l-7.72 7.72c-.78.78-.78 2.05 0 2.83L4 21.41c.39.39.9.59 1.41.59.51 0 1.02-.2 1.41-.59l7.78-7.78 2.81-2.81c.8-.78.8-2.07 0-2.86zM5.41 20L4 18.59l7.72-7.72 1.47 1.35L5.41 20z\"/>\n",
       "  </svg>\n",
       "      </button>\n",
       "      \n",
       "  <style>\n",
       "    .colab-df-container {\n",
       "      display:flex;\n",
       "      flex-wrap:wrap;\n",
       "      gap: 12px;\n",
       "    }\n",
       "\n",
       "    .colab-df-convert {\n",
       "      background-color: #E8F0FE;\n",
       "      border: none;\n",
       "      border-radius: 50%;\n",
       "      cursor: pointer;\n",
       "      display: none;\n",
       "      fill: #1967D2;\n",
       "      height: 32px;\n",
       "      padding: 0 0 0 0;\n",
       "      width: 32px;\n",
       "    }\n",
       "\n",
       "    .colab-df-convert:hover {\n",
       "      background-color: #E2EBFA;\n",
       "      box-shadow: 0px 1px 2px rgba(60, 64, 67, 0.3), 0px 1px 3px 1px rgba(60, 64, 67, 0.15);\n",
       "      fill: #174EA6;\n",
       "    }\n",
       "\n",
       "    [theme=dark] .colab-df-convert {\n",
       "      background-color: #3B4455;\n",
       "      fill: #D2E3FC;\n",
       "    }\n",
       "\n",
       "    [theme=dark] .colab-df-convert:hover {\n",
       "      background-color: #434B5C;\n",
       "      box-shadow: 0px 1px 3px 1px rgba(0, 0, 0, 0.15);\n",
       "      filter: drop-shadow(0px 1px 2px rgba(0, 0, 0, 0.3));\n",
       "      fill: #FFFFFF;\n",
       "    }\n",
       "  </style>\n",
       "\n",
       "      <script>\n",
       "        const buttonEl =\n",
       "          document.querySelector('#df-e352ce47-99bc-4557-9741-b19354b5e852 button.colab-df-convert');\n",
       "        buttonEl.style.display =\n",
       "          google.colab.kernel.accessAllowed ? 'block' : 'none';\n",
       "\n",
       "        async function convertToInteractive(key) {\n",
       "          const element = document.querySelector('#df-e352ce47-99bc-4557-9741-b19354b5e852');\n",
       "          const dataTable =\n",
       "            await google.colab.kernel.invokeFunction('convertToInteractive',\n",
       "                                                     [key], {});\n",
       "          if (!dataTable) return;\n",
       "\n",
       "          const docLinkHtml = 'Like what you see? Visit the ' +\n",
       "            '<a target=\"_blank\" href=https://colab.research.google.com/notebooks/data_table.ipynb>data table notebook</a>'\n",
       "            + ' to learn more about interactive tables.';\n",
       "          element.innerHTML = '';\n",
       "          dataTable['output_type'] = 'display_data';\n",
       "          await google.colab.output.renderOutput(dataTable, element);\n",
       "          const docLink = document.createElement('div');\n",
       "          docLink.innerHTML = docLinkHtml;\n",
       "          element.appendChild(docLink);\n",
       "        }\n",
       "      </script>\n",
       "    </div>\n",
       "  </div>\n",
       "  "
      ],
      "text/plain": [
       "                                                     text emotions\n",
       "0       ive had some pent up feelings of anger discont...  sadness\n",
       "1       i and those with me at the time have felt some...     fear\n",
       "2       i do feel exhausted today though so much so th...  sadness\n",
       "3       i feel more relaxed i have saved a shedload of...      joy\n",
       "4       i know he feels that he doesnt deserve to be l...     love\n",
       "...                                                   ...      ...\n",
       "136652  i feel a little disappointed in myself for bre...  sadness\n",
       "136653  i also feel very irritable i shake and i sweat...    anger\n",
       "136654  im excited to get home and spend time with eve...      joy\n",
       "136655  i feel as though he can not be romantic with m...     love\n",
       "136656  im glad that i feel so distressed about leavin...     fear\n",
       "\n",
       "[136657 rows x 2 columns]"
      ]
     },
     "execution_count": 4,
     "metadata": {},
     "output_type": "execute_result"
    }
   ],
   "source": [
    "train_df"
   ]
  },
  {
   "cell_type": "code",
   "execution_count": 5,
   "metadata": {
    "colab": {
     "base_uri": "https://localhost:8080/",
     "height": 424
    },
    "executionInfo": {
     "elapsed": 89,
     "status": "ok",
     "timestamp": 1681012641700,
     "user": {
      "displayName": "Christian Montecillo",
      "userId": "02267957112746133644"
     },
     "user_tz": 360
    },
    "id": "DbdHIPy4l0s_",
    "outputId": "b17fbe13-c2e1-429f-9221-611346f70f16"
   },
   "outputs": [
    {
     "data": {
      "text/html": [
       "\n",
       "  <div id=\"df-cbd9e1d9-8df0-4ceb-adc4-b7acd961d814\">\n",
       "    <div class=\"colab-df-container\">\n",
       "      <div>\n",
       "<style scoped>\n",
       "    .dataframe tbody tr th:only-of-type {\n",
       "        vertical-align: middle;\n",
       "    }\n",
       "\n",
       "    .dataframe tbody tr th {\n",
       "        vertical-align: top;\n",
       "    }\n",
       "\n",
       "    .dataframe thead th {\n",
       "        text-align: right;\n",
       "    }\n",
       "</style>\n",
       "<table border=\"1\" class=\"dataframe\">\n",
       "  <thead>\n",
       "    <tr style=\"text-align: right;\">\n",
       "      <th></th>\n",
       "      <th>text</th>\n",
       "      <th>emotions</th>\n",
       "    </tr>\n",
       "  </thead>\n",
       "  <tbody>\n",
       "    <tr>\n",
       "      <th>0</th>\n",
       "      <td>i started feeling unwelcome insulted and angry</td>\n",
       "      <td>sadness</td>\n",
       "    </tr>\n",
       "    <tr>\n",
       "      <th>1</th>\n",
       "      <td>i tell them how i stayed motivated or how i di...</td>\n",
       "      <td>sadness</td>\n",
       "    </tr>\n",
       "    <tr>\n",
       "      <th>2</th>\n",
       "      <td>i was starting to feel pretty pissed</td>\n",
       "      <td>anger</td>\n",
       "    </tr>\n",
       "    <tr>\n",
       "      <th>3</th>\n",
       "      <td>i should feel insulted by her eagerness to get...</td>\n",
       "      <td>anger</td>\n",
       "    </tr>\n",
       "    <tr>\n",
       "      <th>4</th>\n",
       "      <td>i looked for my supervisor early secured a pro...</td>\n",
       "      <td>joy</td>\n",
       "    </tr>\n",
       "    <tr>\n",
       "      <th>...</th>\n",
       "      <td>...</td>\n",
       "      <td>...</td>\n",
       "    </tr>\n",
       "    <tr>\n",
       "      <th>40993</th>\n",
       "      <td>i could understand why this happened there wer...</td>\n",
       "      <td>fear</td>\n",
       "    </tr>\n",
       "    <tr>\n",
       "      <th>40994</th>\n",
       "      <td>i am a human being capable of feeling then the...</td>\n",
       "      <td>sadness</td>\n",
       "    </tr>\n",
       "    <tr>\n",
       "      <th>40995</th>\n",
       "      <td>i look outside at my surroundings and feel a h...</td>\n",
       "      <td>joy</td>\n",
       "    </tr>\n",
       "    <tr>\n",
       "      <th>40996</th>\n",
       "      <td>i feel your shame for you pity you and yet sni...</td>\n",
       "      <td>sadness</td>\n",
       "    </tr>\n",
       "    <tr>\n",
       "      <th>40997</th>\n",
       "      <td>ive been finding little bits of time to cook t...</td>\n",
       "      <td>joy</td>\n",
       "    </tr>\n",
       "  </tbody>\n",
       "</table>\n",
       "<p>40998 rows × 2 columns</p>\n",
       "</div>\n",
       "      <button class=\"colab-df-convert\" onclick=\"convertToInteractive('df-cbd9e1d9-8df0-4ceb-adc4-b7acd961d814')\"\n",
       "              title=\"Convert this dataframe to an interactive table.\"\n",
       "              style=\"display:none;\">\n",
       "        \n",
       "  <svg xmlns=\"http://www.w3.org/2000/svg\" height=\"24px\"viewBox=\"0 0 24 24\"\n",
       "       width=\"24px\">\n",
       "    <path d=\"M0 0h24v24H0V0z\" fill=\"none\"/>\n",
       "    <path d=\"M18.56 5.44l.94 2.06.94-2.06 2.06-.94-2.06-.94-.94-2.06-.94 2.06-2.06.94zm-11 1L8.5 8.5l.94-2.06 2.06-.94-2.06-.94L8.5 2.5l-.94 2.06-2.06.94zm10 10l.94 2.06.94-2.06 2.06-.94-2.06-.94-.94-2.06-.94 2.06-2.06.94z\"/><path d=\"M17.41 7.96l-1.37-1.37c-.4-.4-.92-.59-1.43-.59-.52 0-1.04.2-1.43.59L10.3 9.45l-7.72 7.72c-.78.78-.78 2.05 0 2.83L4 21.41c.39.39.9.59 1.41.59.51 0 1.02-.2 1.41-.59l7.78-7.78 2.81-2.81c.8-.78.8-2.07 0-2.86zM5.41 20L4 18.59l7.72-7.72 1.47 1.35L5.41 20z\"/>\n",
       "  </svg>\n",
       "      </button>\n",
       "      \n",
       "  <style>\n",
       "    .colab-df-container {\n",
       "      display:flex;\n",
       "      flex-wrap:wrap;\n",
       "      gap: 12px;\n",
       "    }\n",
       "\n",
       "    .colab-df-convert {\n",
       "      background-color: #E8F0FE;\n",
       "      border: none;\n",
       "      border-radius: 50%;\n",
       "      cursor: pointer;\n",
       "      display: none;\n",
       "      fill: #1967D2;\n",
       "      height: 32px;\n",
       "      padding: 0 0 0 0;\n",
       "      width: 32px;\n",
       "    }\n",
       "\n",
       "    .colab-df-convert:hover {\n",
       "      background-color: #E2EBFA;\n",
       "      box-shadow: 0px 1px 2px rgba(60, 64, 67, 0.3), 0px 1px 3px 1px rgba(60, 64, 67, 0.15);\n",
       "      fill: #174EA6;\n",
       "    }\n",
       "\n",
       "    [theme=dark] .colab-df-convert {\n",
       "      background-color: #3B4455;\n",
       "      fill: #D2E3FC;\n",
       "    }\n",
       "\n",
       "    [theme=dark] .colab-df-convert:hover {\n",
       "      background-color: #434B5C;\n",
       "      box-shadow: 0px 1px 3px 1px rgba(0, 0, 0, 0.15);\n",
       "      filter: drop-shadow(0px 1px 2px rgba(0, 0, 0, 0.3));\n",
       "      fill: #FFFFFF;\n",
       "    }\n",
       "  </style>\n",
       "\n",
       "      <script>\n",
       "        const buttonEl =\n",
       "          document.querySelector('#df-cbd9e1d9-8df0-4ceb-adc4-b7acd961d814 button.colab-df-convert');\n",
       "        buttonEl.style.display =\n",
       "          google.colab.kernel.accessAllowed ? 'block' : 'none';\n",
       "\n",
       "        async function convertToInteractive(key) {\n",
       "          const element = document.querySelector('#df-cbd9e1d9-8df0-4ceb-adc4-b7acd961d814');\n",
       "          const dataTable =\n",
       "            await google.colab.kernel.invokeFunction('convertToInteractive',\n",
       "                                                     [key], {});\n",
       "          if (!dataTable) return;\n",
       "\n",
       "          const docLinkHtml = 'Like what you see? Visit the ' +\n",
       "            '<a target=\"_blank\" href=https://colab.research.google.com/notebooks/data_table.ipynb>data table notebook</a>'\n",
       "            + ' to learn more about interactive tables.';\n",
       "          element.innerHTML = '';\n",
       "          dataTable['output_type'] = 'display_data';\n",
       "          await google.colab.output.renderOutput(dataTable, element);\n",
       "          const docLink = document.createElement('div');\n",
       "          docLink.innerHTML = docLinkHtml;\n",
       "          element.appendChild(docLink);\n",
       "        }\n",
       "      </script>\n",
       "    </div>\n",
       "  </div>\n",
       "  "
      ],
      "text/plain": [
       "                                                    text emotions\n",
       "0         i started feeling unwelcome insulted and angry  sadness\n",
       "1      i tell them how i stayed motivated or how i di...  sadness\n",
       "2                   i was starting to feel pretty pissed    anger\n",
       "3      i should feel insulted by her eagerness to get...    anger\n",
       "4      i looked for my supervisor early secured a pro...      joy\n",
       "...                                                  ...      ...\n",
       "40993  i could understand why this happened there wer...     fear\n",
       "40994  i am a human being capable of feeling then the...  sadness\n",
       "40995  i look outside at my surroundings and feel a h...      joy\n",
       "40996  i feel your shame for you pity you and yet sni...  sadness\n",
       "40997  ive been finding little bits of time to cook t...      joy\n",
       "\n",
       "[40998 rows x 2 columns]"
      ]
     },
     "execution_count": 5,
     "metadata": {},
     "output_type": "execute_result"
    }
   ],
   "source": [
    "val_df"
   ]
  },
  {
   "cell_type": "code",
   "execution_count": 6,
   "metadata": {
    "colab": {
     "base_uri": "https://localhost:8080/",
     "height": 424
    },
    "executionInfo": {
     "elapsed": 8,
     "status": "ok",
     "timestamp": 1681012641701,
     "user": {
      "displayName": "Christian Montecillo",
      "userId": "02267957112746133644"
     },
     "user_tz": 360
    },
    "id": "-fIcWgjQly2u",
    "outputId": "2c6cbb06-f5c4-4c13-e4c3-da47dfcd0c9d"
   },
   "outputs": [
    {
     "data": {
      "text/html": [
       "\n",
       "  <div id=\"df-0c4ca3fa-8074-4290-a9c3-8498a09dc099\">\n",
       "    <div class=\"colab-df-container\">\n",
       "      <div>\n",
       "<style scoped>\n",
       "    .dataframe tbody tr th:only-of-type {\n",
       "        vertical-align: middle;\n",
       "    }\n",
       "\n",
       "    .dataframe tbody tr th {\n",
       "        vertical-align: top;\n",
       "    }\n",
       "\n",
       "    .dataframe thead th {\n",
       "        text-align: right;\n",
       "    }\n",
       "</style>\n",
       "<table border=\"1\" class=\"dataframe\">\n",
       "  <thead>\n",
       "    <tr style=\"text-align: right;\">\n",
       "      <th></th>\n",
       "      <th>text</th>\n",
       "      <th>emotions</th>\n",
       "    </tr>\n",
       "  </thead>\n",
       "  <tbody>\n",
       "    <tr>\n",
       "      <th>0</th>\n",
       "      <td>i feel impatient to get moving forward</td>\n",
       "      <td>anger</td>\n",
       "    </tr>\n",
       "    <tr>\n",
       "      <th>1</th>\n",
       "      <td>i have decided to open wb to a few thoughtful ...</td>\n",
       "      <td>joy</td>\n",
       "    </tr>\n",
       "    <tr>\n",
       "      <th>2</th>\n",
       "      <td>i resolved at that moment to do my bit when i ...</td>\n",
       "      <td>sadness</td>\n",
       "    </tr>\n",
       "    <tr>\n",
       "      <th>3</th>\n",
       "      <td>i like his tip especially if you need assistan...</td>\n",
       "      <td>joy</td>\n",
       "    </tr>\n",
       "    <tr>\n",
       "      <th>4</th>\n",
       "      <td>i feel that if he did not want to be on the sh...</td>\n",
       "      <td>joy</td>\n",
       "    </tr>\n",
       "    <tr>\n",
       "      <th>...</th>\n",
       "      <td>...</td>\n",
       "      <td>...</td>\n",
       "    </tr>\n",
       "    <tr>\n",
       "      <th>37956</th>\n",
       "      <td>i am serving alongside other leaders in the de...</td>\n",
       "      <td>fear</td>\n",
       "    </tr>\n",
       "    <tr>\n",
       "      <th>37957</th>\n",
       "      <td>i am a little tipsy and feeling quite fond of ...</td>\n",
       "      <td>love</td>\n",
       "    </tr>\n",
       "    <tr>\n",
       "      <th>37958</th>\n",
       "      <td>i made my way to the front of the stage feelin...</td>\n",
       "      <td>fear</td>\n",
       "    </tr>\n",
       "    <tr>\n",
       "      <th>37959</th>\n",
       "      <td>i feel like nicholas is a really smart guy and...</td>\n",
       "      <td>joy</td>\n",
       "    </tr>\n",
       "    <tr>\n",
       "      <th>37960</th>\n",
       "      <td>i have been praying spiritually disciplining m...</td>\n",
       "      <td>joy</td>\n",
       "    </tr>\n",
       "  </tbody>\n",
       "</table>\n",
       "<p>37961 rows × 2 columns</p>\n",
       "</div>\n",
       "      <button class=\"colab-df-convert\" onclick=\"convertToInteractive('df-0c4ca3fa-8074-4290-a9c3-8498a09dc099')\"\n",
       "              title=\"Convert this dataframe to an interactive table.\"\n",
       "              style=\"display:none;\">\n",
       "        \n",
       "  <svg xmlns=\"http://www.w3.org/2000/svg\" height=\"24px\"viewBox=\"0 0 24 24\"\n",
       "       width=\"24px\">\n",
       "    <path d=\"M0 0h24v24H0V0z\" fill=\"none\"/>\n",
       "    <path d=\"M18.56 5.44l.94 2.06.94-2.06 2.06-.94-2.06-.94-.94-2.06-.94 2.06-2.06.94zm-11 1L8.5 8.5l.94-2.06 2.06-.94-2.06-.94L8.5 2.5l-.94 2.06-2.06.94zm10 10l.94 2.06.94-2.06 2.06-.94-2.06-.94-.94-2.06-.94 2.06-2.06.94z\"/><path d=\"M17.41 7.96l-1.37-1.37c-.4-.4-.92-.59-1.43-.59-.52 0-1.04.2-1.43.59L10.3 9.45l-7.72 7.72c-.78.78-.78 2.05 0 2.83L4 21.41c.39.39.9.59 1.41.59.51 0 1.02-.2 1.41-.59l7.78-7.78 2.81-2.81c.8-.78.8-2.07 0-2.86zM5.41 20L4 18.59l7.72-7.72 1.47 1.35L5.41 20z\"/>\n",
       "  </svg>\n",
       "      </button>\n",
       "      \n",
       "  <style>\n",
       "    .colab-df-container {\n",
       "      display:flex;\n",
       "      flex-wrap:wrap;\n",
       "      gap: 12px;\n",
       "    }\n",
       "\n",
       "    .colab-df-convert {\n",
       "      background-color: #E8F0FE;\n",
       "      border: none;\n",
       "      border-radius: 50%;\n",
       "      cursor: pointer;\n",
       "      display: none;\n",
       "      fill: #1967D2;\n",
       "      height: 32px;\n",
       "      padding: 0 0 0 0;\n",
       "      width: 32px;\n",
       "    }\n",
       "\n",
       "    .colab-df-convert:hover {\n",
       "      background-color: #E2EBFA;\n",
       "      box-shadow: 0px 1px 2px rgba(60, 64, 67, 0.3), 0px 1px 3px 1px rgba(60, 64, 67, 0.15);\n",
       "      fill: #174EA6;\n",
       "    }\n",
       "\n",
       "    [theme=dark] .colab-df-convert {\n",
       "      background-color: #3B4455;\n",
       "      fill: #D2E3FC;\n",
       "    }\n",
       "\n",
       "    [theme=dark] .colab-df-convert:hover {\n",
       "      background-color: #434B5C;\n",
       "      box-shadow: 0px 1px 3px 1px rgba(0, 0, 0, 0.15);\n",
       "      filter: drop-shadow(0px 1px 2px rgba(0, 0, 0, 0.3));\n",
       "      fill: #FFFFFF;\n",
       "    }\n",
       "  </style>\n",
       "\n",
       "      <script>\n",
       "        const buttonEl =\n",
       "          document.querySelector('#df-0c4ca3fa-8074-4290-a9c3-8498a09dc099 button.colab-df-convert');\n",
       "        buttonEl.style.display =\n",
       "          google.colab.kernel.accessAllowed ? 'block' : 'none';\n",
       "\n",
       "        async function convertToInteractive(key) {\n",
       "          const element = document.querySelector('#df-0c4ca3fa-8074-4290-a9c3-8498a09dc099');\n",
       "          const dataTable =\n",
       "            await google.colab.kernel.invokeFunction('convertToInteractive',\n",
       "                                                     [key], {});\n",
       "          if (!dataTable) return;\n",
       "\n",
       "          const docLinkHtml = 'Like what you see? Visit the ' +\n",
       "            '<a target=\"_blank\" href=https://colab.research.google.com/notebooks/data_table.ipynb>data table notebook</a>'\n",
       "            + ' to learn more about interactive tables.';\n",
       "          element.innerHTML = '';\n",
       "          dataTable['output_type'] = 'display_data';\n",
       "          await google.colab.output.renderOutput(dataTable, element);\n",
       "          const docLink = document.createElement('div');\n",
       "          docLink.innerHTML = docLinkHtml;\n",
       "          element.appendChild(docLink);\n",
       "        }\n",
       "      </script>\n",
       "    </div>\n",
       "  </div>\n",
       "  "
      ],
      "text/plain": [
       "                                                    text emotions\n",
       "0                 i feel impatient to get moving forward    anger\n",
       "1      i have decided to open wb to a few thoughtful ...      joy\n",
       "2      i resolved at that moment to do my bit when i ...  sadness\n",
       "3      i like his tip especially if you need assistan...      joy\n",
       "4      i feel that if he did not want to be on the sh...      joy\n",
       "...                                                  ...      ...\n",
       "37956  i am serving alongside other leaders in the de...     fear\n",
       "37957  i am a little tipsy and feeling quite fond of ...     love\n",
       "37958  i made my way to the front of the stage feelin...     fear\n",
       "37959  i feel like nicholas is a really smart guy and...      joy\n",
       "37960  i have been praying spiritually disciplining m...      joy\n",
       "\n",
       "[37961 rows x 2 columns]"
      ]
     },
     "execution_count": 6,
     "metadata": {},
     "output_type": "execute_result"
    }
   ],
   "source": [
    "test_df"
   ]
  },
  {
   "cell_type": "code",
   "execution_count": 7,
   "metadata": {
    "colab": {
     "base_uri": "https://localhost:8080/",
     "height": 424
    },
    "executionInfo": {
     "elapsed": 7,
     "status": "ok",
     "timestamp": 1681012641701,
     "user": {
      "displayName": "Christian Montecillo",
      "userId": "02267957112746133644"
     },
     "user_tz": 360
    },
    "id": "TiJHw1f3cDIn",
    "outputId": "93ed2e89-42eb-46b2-a529-05ed90563131"
   },
   "outputs": [
    {
     "data": {
      "text/html": [
       "\n",
       "  <div id=\"df-ac18a0b0-bf1d-4318-a2b0-9b15275ccb9b\">\n",
       "    <div class=\"colab-df-container\">\n",
       "      <div>\n",
       "<style scoped>\n",
       "    .dataframe tbody tr th:only-of-type {\n",
       "        vertical-align: middle;\n",
       "    }\n",
       "\n",
       "    .dataframe tbody tr th {\n",
       "        vertical-align: top;\n",
       "    }\n",
       "\n",
       "    .dataframe thead th {\n",
       "        text-align: right;\n",
       "    }\n",
       "</style>\n",
       "<table border=\"1\" class=\"dataframe\">\n",
       "  <thead>\n",
       "    <tr style=\"text-align: right;\">\n",
       "      <th></th>\n",
       "      <th>text</th>\n",
       "      <th>emotions</th>\n",
       "    </tr>\n",
       "  </thead>\n",
       "  <tbody>\n",
       "    <tr>\n",
       "      <th>0</th>\n",
       "      <td>i will get at the heart of the matter that you...</td>\n",
       "      <td>anger</td>\n",
       "    </tr>\n",
       "    <tr>\n",
       "      <th>1</th>\n",
       "      <td>i still feel selfish about it at times</td>\n",
       "      <td>anger</td>\n",
       "    </tr>\n",
       "    <tr>\n",
       "      <th>2</th>\n",
       "      <td>i feel a sarcastic emptyness and void in my life</td>\n",
       "      <td>anger</td>\n",
       "    </tr>\n",
       "    <tr>\n",
       "      <th>3</th>\n",
       "      <td>overeating a traditional type of food blood pu...</td>\n",
       "      <td>anger</td>\n",
       "    </tr>\n",
       "    <tr>\n",
       "      <th>4</th>\n",
       "      <td>i just have this feeling that im going to be b...</td>\n",
       "      <td>anger</td>\n",
       "    </tr>\n",
       "    <tr>\n",
       "      <th>...</th>\n",
       "      <td>...</td>\n",
       "      <td>...</td>\n",
       "    </tr>\n",
       "    <tr>\n",
       "      <th>6015</th>\n",
       "      <td>i am giving myself permission to feel funny aga</td>\n",
       "      <td>surprise</td>\n",
       "    </tr>\n",
       "    <tr>\n",
       "      <th>6016</th>\n",
       "      <td>i feel shocked angry confused</td>\n",
       "      <td>surprise</td>\n",
       "    </tr>\n",
       "    <tr>\n",
       "      <th>6017</th>\n",
       "      <td>im writing this blog post and feeling totally ...</td>\n",
       "      <td>surprise</td>\n",
       "    </tr>\n",
       "    <tr>\n",
       "      <th>6018</th>\n",
       "      <td>i feel this for all my grandchildren and with ...</td>\n",
       "      <td>surprise</td>\n",
       "    </tr>\n",
       "    <tr>\n",
       "      <th>6019</th>\n",
       "      <td>i think that s the prevailing feeling with all...</td>\n",
       "      <td>surprise</td>\n",
       "    </tr>\n",
       "  </tbody>\n",
       "</table>\n",
       "<p>6020 rows × 2 columns</p>\n",
       "</div>\n",
       "      <button class=\"colab-df-convert\" onclick=\"convertToInteractive('df-ac18a0b0-bf1d-4318-a2b0-9b15275ccb9b')\"\n",
       "              title=\"Convert this dataframe to an interactive table.\"\n",
       "              style=\"display:none;\">\n",
       "        \n",
       "  <svg xmlns=\"http://www.w3.org/2000/svg\" height=\"24px\"viewBox=\"0 0 24 24\"\n",
       "       width=\"24px\">\n",
       "    <path d=\"M0 0h24v24H0V0z\" fill=\"none\"/>\n",
       "    <path d=\"M18.56 5.44l.94 2.06.94-2.06 2.06-.94-2.06-.94-.94-2.06-.94 2.06-2.06.94zm-11 1L8.5 8.5l.94-2.06 2.06-.94-2.06-.94L8.5 2.5l-.94 2.06-2.06.94zm10 10l.94 2.06.94-2.06 2.06-.94-2.06-.94-.94-2.06-.94 2.06-2.06.94z\"/><path d=\"M17.41 7.96l-1.37-1.37c-.4-.4-.92-.59-1.43-.59-.52 0-1.04.2-1.43.59L10.3 9.45l-7.72 7.72c-.78.78-.78 2.05 0 2.83L4 21.41c.39.39.9.59 1.41.59.51 0 1.02-.2 1.41-.59l7.78-7.78 2.81-2.81c.8-.78.8-2.07 0-2.86zM5.41 20L4 18.59l7.72-7.72 1.47 1.35L5.41 20z\"/>\n",
       "  </svg>\n",
       "      </button>\n",
       "      \n",
       "  <style>\n",
       "    .colab-df-container {\n",
       "      display:flex;\n",
       "      flex-wrap:wrap;\n",
       "      gap: 12px;\n",
       "    }\n",
       "\n",
       "    .colab-df-convert {\n",
       "      background-color: #E8F0FE;\n",
       "      border: none;\n",
       "      border-radius: 50%;\n",
       "      cursor: pointer;\n",
       "      display: none;\n",
       "      fill: #1967D2;\n",
       "      height: 32px;\n",
       "      padding: 0 0 0 0;\n",
       "      width: 32px;\n",
       "    }\n",
       "\n",
       "    .colab-df-convert:hover {\n",
       "      background-color: #E2EBFA;\n",
       "      box-shadow: 0px 1px 2px rgba(60, 64, 67, 0.3), 0px 1px 3px 1px rgba(60, 64, 67, 0.15);\n",
       "      fill: #174EA6;\n",
       "    }\n",
       "\n",
       "    [theme=dark] .colab-df-convert {\n",
       "      background-color: #3B4455;\n",
       "      fill: #D2E3FC;\n",
       "    }\n",
       "\n",
       "    [theme=dark] .colab-df-convert:hover {\n",
       "      background-color: #434B5C;\n",
       "      box-shadow: 0px 1px 3px 1px rgba(0, 0, 0, 0.15);\n",
       "      filter: drop-shadow(0px 1px 2px rgba(0, 0, 0, 0.3));\n",
       "      fill: #FFFFFF;\n",
       "    }\n",
       "  </style>\n",
       "\n",
       "      <script>\n",
       "        const buttonEl =\n",
       "          document.querySelector('#df-ac18a0b0-bf1d-4318-a2b0-9b15275ccb9b button.colab-df-convert');\n",
       "        buttonEl.style.display =\n",
       "          google.colab.kernel.accessAllowed ? 'block' : 'none';\n",
       "\n",
       "        async function convertToInteractive(key) {\n",
       "          const element = document.querySelector('#df-ac18a0b0-bf1d-4318-a2b0-9b15275ccb9b');\n",
       "          const dataTable =\n",
       "            await google.colab.kernel.invokeFunction('convertToInteractive',\n",
       "                                                     [key], {});\n",
       "          if (!dataTable) return;\n",
       "\n",
       "          const docLinkHtml = 'Like what you see? Visit the ' +\n",
       "            '<a target=\"_blank\" href=https://colab.research.google.com/notebooks/data_table.ipynb>data table notebook</a>'\n",
       "            + ' to learn more about interactive tables.';\n",
       "          element.innerHTML = '';\n",
       "          dataTable['output_type'] = 'display_data';\n",
       "          await google.colab.output.renderOutput(dataTable, element);\n",
       "          const docLink = document.createElement('div');\n",
       "          docLink.innerHTML = docLinkHtml;\n",
       "          element.appendChild(docLink);\n",
       "        }\n",
       "      </script>\n",
       "    </div>\n",
       "  </div>\n",
       "  "
      ],
      "text/plain": [
       "                                                   text  emotions\n",
       "0     i will get at the heart of the matter that you...     anger\n",
       "1                i still feel selfish about it at times     anger\n",
       "2      i feel a sarcastic emptyness and void in my life     anger\n",
       "3     overeating a traditional type of food blood pu...     anger\n",
       "4     i just have this feeling that im going to be b...     anger\n",
       "...                                                 ...       ...\n",
       "6015    i am giving myself permission to feel funny aga  surprise\n",
       "6016                      i feel shocked angry confused  surprise\n",
       "6017  im writing this blog post and feeling totally ...  surprise\n",
       "6018  i feel this for all my grandchildren and with ...  surprise\n",
       "6019  i think that s the prevailing feeling with all...  surprise\n",
       "\n",
       "[6020 rows x 2 columns]"
      ]
     },
     "execution_count": 7,
     "metadata": {},
     "output_type": "execute_result"
    }
   ],
   "source": [
    "balanced_test_df"
   ]
  },
  {
   "cell_type": "markdown",
   "metadata": {
    "id": "6IFXAvHAcWhN"
   },
   "source": [
    "***\n",
    "## 2 Tokenizer"
   ]
  },
  {
   "cell_type": "markdown",
   "metadata": {
    "id": "s4tMqwk8mRsF"
   },
   "source": [
    "### Find the top word count (frequency > 10)\n",
    "We'll use this number as our vocabulary size"
   ]
  },
  {
   "cell_type": "code",
   "execution_count": 8,
   "metadata": {
    "colab": {
     "base_uri": "https://localhost:8080/",
     "height": 424
    },
    "executionInfo": {
     "elapsed": 2037,
     "status": "ok",
     "timestamp": 1681012643732,
     "user": {
      "displayName": "Christian Montecillo",
      "userId": "02267957112746133644"
     },
     "user_tz": 360
    },
    "id": "WboHk47gn6Mm",
    "outputId": "5d8ca5c1-17d3-41b9-cfc3-fb4f04613bbf"
   },
   "outputs": [
    {
     "data": {
      "text/html": [
       "\n",
       "  <div id=\"df-d10501cd-acbd-4347-bdee-d202e40cb4ba\">\n",
       "    <div class=\"colab-df-container\">\n",
       "      <div>\n",
       "<style scoped>\n",
       "    .dataframe tbody tr th:only-of-type {\n",
       "        vertical-align: middle;\n",
       "    }\n",
       "\n",
       "    .dataframe tbody tr th {\n",
       "        vertical-align: top;\n",
       "    }\n",
       "\n",
       "    .dataframe thead th {\n",
       "        text-align: right;\n",
       "    }\n",
       "</style>\n",
       "<table border=\"1\" class=\"dataframe\">\n",
       "  <thead>\n",
       "    <tr style=\"text-align: right;\">\n",
       "      <th></th>\n",
       "      <th>words</th>\n",
       "      <th>count</th>\n",
       "    </tr>\n",
       "  </thead>\n",
       "  <tbody>\n",
       "    <tr>\n",
       "      <th>0</th>\n",
       "      <td>!</td>\n",
       "      <td>21</td>\n",
       "    </tr>\n",
       "    <tr>\n",
       "      <th>1</th>\n",
       "      <td>!!</td>\n",
       "      <td>4</td>\n",
       "    </tr>\n",
       "    <tr>\n",
       "      <th>2</th>\n",
       "      <td>!!!</td>\n",
       "      <td>2</td>\n",
       "    </tr>\n",
       "    <tr>\n",
       "      <th>3</th>\n",
       "      <td>!!!!</td>\n",
       "      <td>1</td>\n",
       "    </tr>\n",
       "    <tr>\n",
       "      <th>4</th>\n",
       "      <td>!!!!!</td>\n",
       "      <td>1</td>\n",
       "    </tr>\n",
       "    <tr>\n",
       "      <th>...</th>\n",
       "      <td>...</td>\n",
       "      <td>...</td>\n",
       "    </tr>\n",
       "    <tr>\n",
       "      <th>52617</th>\n",
       "      <td>ï¿½91...each...BUT</td>\n",
       "      <td>1</td>\n",
       "    </tr>\n",
       "    <tr>\n",
       "      <th>52618</th>\n",
       "      <td>ï¿½WHYYY????????</td>\n",
       "      <td>1</td>\n",
       "    </tr>\n",
       "    <tr>\n",
       "      <th>52619</th>\n",
       "      <td>ï¿½tearï¿½</td>\n",
       "      <td>1</td>\n",
       "    </tr>\n",
       "    <tr>\n",
       "      <th>52620</th>\n",
       "      <td>ï¿½why?</td>\n",
       "      <td>1</td>\n",
       "    </tr>\n",
       "    <tr>\n",
       "      <th>52621</th>\n",
       "      <td>ï¿½ï¿½</td>\n",
       "      <td>1</td>\n",
       "    </tr>\n",
       "  </tbody>\n",
       "</table>\n",
       "<p>52622 rows × 2 columns</p>\n",
       "</div>\n",
       "      <button class=\"colab-df-convert\" onclick=\"convertToInteractive('df-d10501cd-acbd-4347-bdee-d202e40cb4ba')\"\n",
       "              title=\"Convert this dataframe to an interactive table.\"\n",
       "              style=\"display:none;\">\n",
       "        \n",
       "  <svg xmlns=\"http://www.w3.org/2000/svg\" height=\"24px\"viewBox=\"0 0 24 24\"\n",
       "       width=\"24px\">\n",
       "    <path d=\"M0 0h24v24H0V0z\" fill=\"none\"/>\n",
       "    <path d=\"M18.56 5.44l.94 2.06.94-2.06 2.06-.94-2.06-.94-.94-2.06-.94 2.06-2.06.94zm-11 1L8.5 8.5l.94-2.06 2.06-.94-2.06-.94L8.5 2.5l-.94 2.06-2.06.94zm10 10l.94 2.06.94-2.06 2.06-.94-2.06-.94-.94-2.06-.94 2.06-2.06.94z\"/><path d=\"M17.41 7.96l-1.37-1.37c-.4-.4-.92-.59-1.43-.59-.52 0-1.04.2-1.43.59L10.3 9.45l-7.72 7.72c-.78.78-.78 2.05 0 2.83L4 21.41c.39.39.9.59 1.41.59.51 0 1.02-.2 1.41-.59l7.78-7.78 2.81-2.81c.8-.78.8-2.07 0-2.86zM5.41 20L4 18.59l7.72-7.72 1.47 1.35L5.41 20z\"/>\n",
       "  </svg>\n",
       "      </button>\n",
       "      \n",
       "  <style>\n",
       "    .colab-df-container {\n",
       "      display:flex;\n",
       "      flex-wrap:wrap;\n",
       "      gap: 12px;\n",
       "    }\n",
       "\n",
       "    .colab-df-convert {\n",
       "      background-color: #E8F0FE;\n",
       "      border: none;\n",
       "      border-radius: 50%;\n",
       "      cursor: pointer;\n",
       "      display: none;\n",
       "      fill: #1967D2;\n",
       "      height: 32px;\n",
       "      padding: 0 0 0 0;\n",
       "      width: 32px;\n",
       "    }\n",
       "\n",
       "    .colab-df-convert:hover {\n",
       "      background-color: #E2EBFA;\n",
       "      box-shadow: 0px 1px 2px rgba(60, 64, 67, 0.3), 0px 1px 3px 1px rgba(60, 64, 67, 0.15);\n",
       "      fill: #174EA6;\n",
       "    }\n",
       "\n",
       "    [theme=dark] .colab-df-convert {\n",
       "      background-color: #3B4455;\n",
       "      fill: #D2E3FC;\n",
       "    }\n",
       "\n",
       "    [theme=dark] .colab-df-convert:hover {\n",
       "      background-color: #434B5C;\n",
       "      box-shadow: 0px 1px 3px 1px rgba(0, 0, 0, 0.15);\n",
       "      filter: drop-shadow(0px 1px 2px rgba(0, 0, 0, 0.3));\n",
       "      fill: #FFFFFF;\n",
       "    }\n",
       "  </style>\n",
       "\n",
       "      <script>\n",
       "        const buttonEl =\n",
       "          document.querySelector('#df-d10501cd-acbd-4347-bdee-d202e40cb4ba button.colab-df-convert');\n",
       "        buttonEl.style.display =\n",
       "          google.colab.kernel.accessAllowed ? 'block' : 'none';\n",
       "\n",
       "        async function convertToInteractive(key) {\n",
       "          const element = document.querySelector('#df-d10501cd-acbd-4347-bdee-d202e40cb4ba');\n",
       "          const dataTable =\n",
       "            await google.colab.kernel.invokeFunction('convertToInteractive',\n",
       "                                                     [key], {});\n",
       "          if (!dataTable) return;\n",
       "\n",
       "          const docLinkHtml = 'Like what you see? Visit the ' +\n",
       "            '<a target=\"_blank\" href=https://colab.research.google.com/notebooks/data_table.ipynb>data table notebook</a>'\n",
       "            + ' to learn more about interactive tables.';\n",
       "          element.innerHTML = '';\n",
       "          dataTable['output_type'] = 'display_data';\n",
       "          await google.colab.output.renderOutput(dataTable, element);\n",
       "          const docLink = document.createElement('div');\n",
       "          docLink.innerHTML = docLinkHtml;\n",
       "          element.appendChild(docLink);\n",
       "        }\n",
       "      </script>\n",
       "    </div>\n",
       "  </div>\n",
       "  "
      ],
      "text/plain": [
       "                    words  count\n",
       "0                       !     21\n",
       "1                      !!      4\n",
       "2                     !!!      2\n",
       "3                    !!!!      1\n",
       "4                   !!!!!      1\n",
       "...                   ...    ...\n",
       "52617  ï¿½91...each...BUT      1\n",
       "52618    ï¿½WHYYY????????      1\n",
       "52619          ï¿½tearï¿½      1\n",
       "52620             ï¿½why?      1\n",
       "52621              ï¿½ï¿½      1\n",
       "\n",
       "[52622 rows x 2 columns]"
      ]
     },
     "execution_count": 8,
     "metadata": {},
     "output_type": "execute_result"
    }
   ],
   "source": [
    "# Split the text column into a list of words\n",
    "words_df = train_df['text'].str.split().to_frame('words')\n",
    "\n",
    "# Explode the list of words into separate rows\n",
    "words_df = words_df.explode('words')\n",
    "\n",
    "# Group by the words and count their occurrences\n",
    "words_df = words_df.groupby('words').size().reset_index(name='count')\n",
    "words_df"
   ]
  },
  {
   "cell_type": "code",
   "execution_count": 9,
   "metadata": {
    "colab": {
     "base_uri": "https://localhost:8080/",
     "height": 424
    },
    "executionInfo": {
     "elapsed": 6,
     "status": "ok",
     "timestamp": 1681012643733,
     "user": {
      "displayName": "Christian Montecillo",
      "userId": "02267957112746133644"
     },
     "user_tz": 360
    },
    "id": "rjvGdb_erVyw",
    "outputId": "0de46796-1475-415b-94a9-5789c706df04"
   },
   "outputs": [
    {
     "data": {
      "text/html": [
       "\n",
       "  <div id=\"df-4701b5dc-a0d0-4e6f-9967-0d55b904ba83\">\n",
       "    <div class=\"colab-df-container\">\n",
       "      <div>\n",
       "<style scoped>\n",
       "    .dataframe tbody tr th:only-of-type {\n",
       "        vertical-align: middle;\n",
       "    }\n",
       "\n",
       "    .dataframe tbody tr th {\n",
       "        vertical-align: top;\n",
       "    }\n",
       "\n",
       "    .dataframe thead th {\n",
       "        text-align: right;\n",
       "    }\n",
       "</style>\n",
       "<table border=\"1\" class=\"dataframe\">\n",
       "  <thead>\n",
       "    <tr style=\"text-align: right;\">\n",
       "      <th></th>\n",
       "      <th>words</th>\n",
       "      <th>count</th>\n",
       "    </tr>\n",
       "  </thead>\n",
       "  <tbody>\n",
       "    <tr>\n",
       "      <th>24831</th>\n",
       "      <td>i</td>\n",
       "      <td>216288</td>\n",
       "    </tr>\n",
       "    <tr>\n",
       "      <th>19623</th>\n",
       "      <td>feel</td>\n",
       "      <td>92453</td>\n",
       "    </tr>\n",
       "    <tr>\n",
       "      <th>6207</th>\n",
       "      <td>and</td>\n",
       "      <td>79893</td>\n",
       "    </tr>\n",
       "    <tr>\n",
       "      <th>47421</th>\n",
       "      <td>to</td>\n",
       "      <td>75097</td>\n",
       "    </tr>\n",
       "    <tr>\n",
       "      <th>46770</th>\n",
       "      <td>the</td>\n",
       "      <td>69739</td>\n",
       "    </tr>\n",
       "    <tr>\n",
       "      <th>...</th>\n",
       "      <td>...</td>\n",
       "      <td>...</td>\n",
       "    </tr>\n",
       "    <tr>\n",
       "      <th>25311</th>\n",
       "      <td>impulsive</td>\n",
       "      <td>11</td>\n",
       "    </tr>\n",
       "    <tr>\n",
       "      <th>25365</th>\n",
       "      <td>inbox</td>\n",
       "      <td>11</td>\n",
       "    </tr>\n",
       "    <tr>\n",
       "      <th>44455</th>\n",
       "      <td>stake</td>\n",
       "      <td>11</td>\n",
       "    </tr>\n",
       "    <tr>\n",
       "      <th>17737</th>\n",
       "      <td>eliminate</td>\n",
       "      <td>11</td>\n",
       "    </tr>\n",
       "    <tr>\n",
       "      <th>22860</th>\n",
       "      <td>hairs</td>\n",
       "      <td>11</td>\n",
       "    </tr>\n",
       "  </tbody>\n",
       "</table>\n",
       "<p>7623 rows × 2 columns</p>\n",
       "</div>\n",
       "      <button class=\"colab-df-convert\" onclick=\"convertToInteractive('df-4701b5dc-a0d0-4e6f-9967-0d55b904ba83')\"\n",
       "              title=\"Convert this dataframe to an interactive table.\"\n",
       "              style=\"display:none;\">\n",
       "        \n",
       "  <svg xmlns=\"http://www.w3.org/2000/svg\" height=\"24px\"viewBox=\"0 0 24 24\"\n",
       "       width=\"24px\">\n",
       "    <path d=\"M0 0h24v24H0V0z\" fill=\"none\"/>\n",
       "    <path d=\"M18.56 5.44l.94 2.06.94-2.06 2.06-.94-2.06-.94-.94-2.06-.94 2.06-2.06.94zm-11 1L8.5 8.5l.94-2.06 2.06-.94-2.06-.94L8.5 2.5l-.94 2.06-2.06.94zm10 10l.94 2.06.94-2.06 2.06-.94-2.06-.94-.94-2.06-.94 2.06-2.06.94z\"/><path d=\"M17.41 7.96l-1.37-1.37c-.4-.4-.92-.59-1.43-.59-.52 0-1.04.2-1.43.59L10.3 9.45l-7.72 7.72c-.78.78-.78 2.05 0 2.83L4 21.41c.39.39.9.59 1.41.59.51 0 1.02-.2 1.41-.59l7.78-7.78 2.81-2.81c.8-.78.8-2.07 0-2.86zM5.41 20L4 18.59l7.72-7.72 1.47 1.35L5.41 20z\"/>\n",
       "  </svg>\n",
       "      </button>\n",
       "      \n",
       "  <style>\n",
       "    .colab-df-container {\n",
       "      display:flex;\n",
       "      flex-wrap:wrap;\n",
       "      gap: 12px;\n",
       "    }\n",
       "\n",
       "    .colab-df-convert {\n",
       "      background-color: #E8F0FE;\n",
       "      border: none;\n",
       "      border-radius: 50%;\n",
       "      cursor: pointer;\n",
       "      display: none;\n",
       "      fill: #1967D2;\n",
       "      height: 32px;\n",
       "      padding: 0 0 0 0;\n",
       "      width: 32px;\n",
       "    }\n",
       "\n",
       "    .colab-df-convert:hover {\n",
       "      background-color: #E2EBFA;\n",
       "      box-shadow: 0px 1px 2px rgba(60, 64, 67, 0.3), 0px 1px 3px 1px rgba(60, 64, 67, 0.15);\n",
       "      fill: #174EA6;\n",
       "    }\n",
       "\n",
       "    [theme=dark] .colab-df-convert {\n",
       "      background-color: #3B4455;\n",
       "      fill: #D2E3FC;\n",
       "    }\n",
       "\n",
       "    [theme=dark] .colab-df-convert:hover {\n",
       "      background-color: #434B5C;\n",
       "      box-shadow: 0px 1px 3px 1px rgba(0, 0, 0, 0.15);\n",
       "      filter: drop-shadow(0px 1px 2px rgba(0, 0, 0, 0.3));\n",
       "      fill: #FFFFFF;\n",
       "    }\n",
       "  </style>\n",
       "\n",
       "      <script>\n",
       "        const buttonEl =\n",
       "          document.querySelector('#df-4701b5dc-a0d0-4e6f-9967-0d55b904ba83 button.colab-df-convert');\n",
       "        buttonEl.style.display =\n",
       "          google.colab.kernel.accessAllowed ? 'block' : 'none';\n",
       "\n",
       "        async function convertToInteractive(key) {\n",
       "          const element = document.querySelector('#df-4701b5dc-a0d0-4e6f-9967-0d55b904ba83');\n",
       "          const dataTable =\n",
       "            await google.colab.kernel.invokeFunction('convertToInteractive',\n",
       "                                                     [key], {});\n",
       "          if (!dataTable) return;\n",
       "\n",
       "          const docLinkHtml = 'Like what you see? Visit the ' +\n",
       "            '<a target=\"_blank\" href=https://colab.research.google.com/notebooks/data_table.ipynb>data table notebook</a>'\n",
       "            + ' to learn more about interactive tables.';\n",
       "          element.innerHTML = '';\n",
       "          dataTable['output_type'] = 'display_data';\n",
       "          await google.colab.output.renderOutput(dataTable, element);\n",
       "          const docLink = document.createElement('div');\n",
       "          docLink.innerHTML = docLinkHtml;\n",
       "          element.appendChild(docLink);\n",
       "        }\n",
       "      </script>\n",
       "    </div>\n",
       "  </div>\n",
       "  "
      ],
      "text/plain": [
       "           words   count\n",
       "24831          i  216288\n",
       "19623       feel   92453\n",
       "6207         and   79893\n",
       "47421         to   75097\n",
       "46770        the   69739\n",
       "...          ...     ...\n",
       "25311  impulsive      11\n",
       "25365      inbox      11\n",
       "44455      stake      11\n",
       "17737  eliminate      11\n",
       "22860      hairs      11\n",
       "\n",
       "[7623 rows x 2 columns]"
      ]
     },
     "execution_count": 9,
     "metadata": {},
     "output_type": "execute_result"
    }
   ],
   "source": [
    "# find the words with 'count' > 10\n",
    "condition = words_df['count'] > 10\n",
    "\n",
    "# sort the words based on count\n",
    "new_words_df = words_df[condition].sort_values('count', ascending=False)\n",
    "new_words_df"
   ]
  },
  {
   "cell_type": "code",
   "execution_count": 10,
   "metadata": {
    "colab": {
     "base_uri": "https://localhost:8080/"
    },
    "executionInfo": {
     "elapsed": 116,
     "status": "ok",
     "timestamp": 1681012643845,
     "user": {
      "displayName": "Christian Montecillo",
      "userId": "02267957112746133644"
     },
     "user_tz": 360
    },
    "id": "RJehRAE2zWhl",
    "outputId": "789450d1-a173-4b27-c8d3-5b10c480968a"
   },
   "outputs": [
    {
     "name": "stdout",
     "output_type": "stream",
     "text": [
      "Vocabulary size: 7623\n"
     ]
    }
   ],
   "source": [
    "# how many words are > 10?\n",
    "top_word_count = len(new_words_df)\n",
    "print('Vocabulary size:', top_word_count)"
   ]
  },
  {
   "cell_type": "markdown",
   "metadata": {
    "id": "GSm2HlDyzZ8_"
   },
   "source": [
    "### Let's tokenize the train tweets!"
   ]
  },
  {
   "cell_type": "code",
   "execution_count": 11,
   "metadata": {
    "executionInfo": {
     "elapsed": 2821,
     "status": "ok",
     "timestamp": 1681012646665,
     "user": {
      "displayName": "Christian Montecillo",
      "userId": "02267957112746133644"
     },
     "user_tz": 360
    },
    "id": "gCxK46QPyoe1"
   },
   "outputs": [],
   "source": [
    "from tensorflow.keras.preprocessing.text import Tokenizer"
   ]
  },
  {
   "cell_type": "code",
   "execution_count": 12,
   "metadata": {
    "executionInfo": {
     "elapsed": 4284,
     "status": "ok",
     "timestamp": 1681012650943,
     "user": {
      "displayName": "Christian Montecillo",
      "userId": "02267957112746133644"
     },
     "user_tz": 360
    },
    "id": "5bs47LbLwBl4"
   },
   "outputs": [],
   "source": [
    "tokenizer = Tokenizer(num_words=top_word_count, oov_token='<UNK>')\n",
    "tokenizer.fit_on_texts(train_df['text']) # pass in tweets from training set"
   ]
  },
  {
   "cell_type": "code",
   "execution_count": 13,
   "metadata": {
    "colab": {
     "base_uri": "https://localhost:8080/",
     "height": 36
    },
    "executionInfo": {
     "elapsed": 6,
     "status": "ok",
     "timestamp": 1681012650944,
     "user": {
      "displayName": "Christian Montecillo",
      "userId": "02267957112746133644"
     },
     "user_tz": 360
    },
    "id": "DPD0Tjjuy0Ko",
    "outputId": "8d166657-83da-453d-f546-249c904313de"
   },
   "outputs": [
    {
     "data": {
      "application/vnd.google.colaboratory.intrinsic+json": {
       "type": "string"
      },
      "text/plain": [
       "'ive had some pent up feelings of anger discontent for a while'"
      ]
     },
     "execution_count": 13,
     "metadata": {},
     "output_type": "execute_result"
    }
   ],
   "source": [
    "# this is what the tweet looks like as words\n",
    "train_df['text'][0]"
   ]
  },
  {
   "cell_type": "code",
   "execution_count": 14,
   "metadata": {
    "colab": {
     "base_uri": "https://localhost:8080/"
    },
    "executionInfo": {
     "elapsed": 7,
     "status": "ok",
     "timestamp": 1681012651053,
     "user": {
      "displayName": "Christian Montecillo",
      "userId": "02267957112746133644"
     },
     "user_tz": 360
    },
    "id": "yHPzHkTcye8y",
    "outputId": "4a90a9c2-945a-4d54-9e58-85129b5572db"
   },
   "outputs": [
    {
     "data": {
      "text/plain": [
       "[[74, 58, 72, 1, 42, 122, 10, 864, 702, 15, 7, 182]]"
      ]
     },
     "execution_count": 14,
     "metadata": {},
     "output_type": "execute_result"
    }
   ],
   "source": [
    "# this is what the tokenized version of the tweet looks like\n",
    "tokenizer.texts_to_sequences([train_df['text'][0]])"
   ]
  },
  {
   "cell_type": "code",
   "execution_count": 15,
   "metadata": {
    "colab": {
     "base_uri": "https://localhost:8080/",
     "height": 1000
    },
    "executionInfo": {
     "elapsed": 793,
     "status": "ok",
     "timestamp": 1681012651844,
     "user": {
      "displayName": "Christian Montecillo",
      "userId": "02267957112746133644"
     },
     "user_tz": 360
    },
    "id": "NtdXLYGFjcPO",
    "outputId": "46e6c573-2dda-45e3-d04d-b5183523d01e"
   },
   "outputs": [
    {
     "data": {
      "text/plain": [
       "(array([1.3800e+02, 4.0400e+02, 6.8720e+03, 5.0430e+03, 1.0767e+04,\n",
       "        5.5670e+03, 1.0954e+04, 5.6080e+03, 5.4800e+03, 1.0694e+04,\n",
       "        5.2250e+03, 9.8440e+03, 4.4980e+03, 8.6080e+03, 3.9530e+03,\n",
       "        3.5900e+03, 6.5910e+03, 3.1270e+03, 5.2930e+03, 2.3310e+03,\n",
       "        3.9870e+03, 1.7260e+03, 1.6360e+03, 2.7850e+03, 1.1930e+03,\n",
       "        2.0340e+03, 9.0800e+02, 1.5770e+03, 6.9400e+02, 1.1930e+03,\n",
       "        5.4900e+02, 4.7600e+02, 8.1800e+02, 3.1900e+02, 6.1900e+02,\n",
       "        2.6200e+02, 4.5700e+02, 1.8800e+02, 1.3900e+02, 2.1900e+02,\n",
       "        8.0000e+01, 1.0700e+02, 2.3000e+01, 4.5000e+01, 1.2000e+01,\n",
       "        1.0000e+01, 5.0000e+00, 2.0000e+00, 0.0000e+00, 0.0000e+00,\n",
       "        2.0000e+00, 0.0000e+00, 2.0000e+00, 0.0000e+00, 1.0000e+00,\n",
       "        0.0000e+00, 0.0000e+00, 0.0000e+00, 0.0000e+00, 0.0000e+00,\n",
       "        0.0000e+00, 0.0000e+00, 0.0000e+00, 0.0000e+00, 0.0000e+00,\n",
       "        0.0000e+00, 0.0000e+00, 0.0000e+00, 0.0000e+00, 1.0000e+00,\n",
       "        0.0000e+00, 0.0000e+00, 0.0000e+00, 0.0000e+00, 0.0000e+00,\n",
       "        1.0000e+00]),\n",
       " array([  1.        ,   2.43421053,   3.86842105,   5.30263158,\n",
       "          6.73684211,   8.17105263,   9.60526316,  11.03947368,\n",
       "         12.47368421,  13.90789474,  15.34210526,  16.77631579,\n",
       "         18.21052632,  19.64473684,  21.07894737,  22.51315789,\n",
       "         23.94736842,  25.38157895,  26.81578947,  28.25      ,\n",
       "         29.68421053,  31.11842105,  32.55263158,  33.98684211,\n",
       "         35.42105263,  36.85526316,  38.28947368,  39.72368421,\n",
       "         41.15789474,  42.59210526,  44.02631579,  45.46052632,\n",
       "         46.89473684,  48.32894737,  49.76315789,  51.19736842,\n",
       "         52.63157895,  54.06578947,  55.5       ,  56.93421053,\n",
       "         58.36842105,  59.80263158,  61.23684211,  62.67105263,\n",
       "         64.10526316,  65.53947368,  66.97368421,  68.40789474,\n",
       "         69.84210526,  71.27631579,  72.71052632,  74.14473684,\n",
       "         75.57894737,  77.01315789,  78.44736842,  79.88157895,\n",
       "         81.31578947,  82.75      ,  84.18421053,  85.61842105,\n",
       "         87.05263158,  88.48684211,  89.92105263,  91.35526316,\n",
       "         92.78947368,  94.22368421,  95.65789474,  97.09210526,\n",
       "         98.52631579,  99.96052632, 101.39473684, 102.82894737,\n",
       "        104.26315789, 105.69736842, 107.13157895, 108.56578947,\n",
       "        110.        ]),\n",
       " <BarContainer object of 76 artists>)"
      ]
     },
     "execution_count": 15,
     "metadata": {},
     "output_type": "execute_result"
    },
    {
     "data": {
      "image/png": "[encoded data removed]",
      "text/plain": [
       "<Figure size 640x480 with 1 Axes>"
      ]
     },
     "metadata": {},
     "output_type": "display_data"
    }
   ],
   "source": [
    "import matplotlib.pyplot as plt\n",
    "\n",
    "# check to see what lenghts of the tweets in the dataset\n",
    "lengths = [len(t.split(' ')) for t in train_df['text']]\n",
    "plt.hist(lengths, bins=len(set(lengths)))"
   ]
  },
  {
   "cell_type": "code",
   "execution_count": 16,
   "metadata": {
    "colab": {
     "base_uri": "https://localhost:8080/"
    },
    "executionInfo": {
     "elapsed": 285,
     "status": "ok",
     "timestamp": 1681012652127,
     "user": {
      "displayName": "Christian Montecillo",
      "userId": "02267957112746133644"
     },
     "user_tz": 360
    },
    "id": "Ht7mWyXS18Sd",
    "outputId": "25799283-39b3-468b-bf36-b681d6f97fe4"
   },
   "outputs": [
    {
     "name": "stdout",
     "output_type": "stream",
     "text": [
      "Maximum word count: 110\n",
      "Minimum word count: 1\n",
      "Mean word count: 18.960111812786757\n",
      "Median word count: 17\n",
      "75th percentile word count: 25.0\n",
      "85th percentile word count: 30.0\n",
      "95th percentile word count: 41.0\n"
     ]
    }
   ],
   "source": [
    "import statistics\n",
    "\n",
    "# Apply the lambda function to the 'content' column and list called word_count_list'\n",
    "word_count_list = list(train_df['text'].apply(lambda x: len(x.split(' '))))\n",
    "\n",
    "# display the maximum and minimum lengths\n",
    "print('Maximum word count:', max(word_count_list))\n",
    "print('Minimum word count:', min(word_count_list))\n",
    "print('Mean word count:', statistics.mean(word_count_list))\n",
    "print('Median word count:', statistics.median(word_count_list))\n",
    "print('75th percentile word count:', np.percentile(word_count_list, 75))\n",
    "print('85th percentile word count:', np.percentile(word_count_list, 85))\n",
    "print('95th percentile word count:', np.percentile(word_count_list, 95))"
   ]
  },
  {
   "cell_type": "markdown",
   "metadata": {
    "id": "G9ZVTKh01wGa"
   },
   "source": [
    "The max number of words is 101. We ultimately decided that we are going to keep all the words in the tweet. BERT can handle more than 200 so setting max_len = 200"
   ]
  },
  {
   "cell_type": "markdown",
   "metadata": {
    "id": "59O4aXaA0ljh"
   },
   "source": [
    "***\n",
    "## 3 Padding and truncating the training data sequences to make sure that the shape is the same for each string."
   ]
  },
  {
   "cell_type": "code",
   "execution_count": 17,
   "metadata": {
    "executionInfo": {
     "elapsed": 4,
     "status": "ok",
     "timestamp": 1681012652128,
     "user": {
      "displayName": "Christian Montecillo",
      "userId": "02267957112746133644"
     },
     "user_tz": 360
    },
    "id": "Y715X4Xg0zSg"
   },
   "outputs": [],
   "source": [
    "from tensorflow.keras.preprocessing.sequence import pad_sequences"
   ]
  },
  {
   "cell_type": "code",
   "execution_count": 18,
   "metadata": {
    "executionInfo": {
     "elapsed": 3,
     "status": "ok",
     "timestamp": 1681012652128,
     "user": {
      "displayName": "Christian Montecillo",
      "userId": "02267957112746133644"
     },
     "user_tz": 360
    },
    "id": "iEuNYWMScWhY"
   },
   "outputs": [],
   "source": [
    "max_len = 200 # set the largest tweet size, >200 words -> truncate, <200 words -> pad\n",
    "\n",
    "def get_sequences(tokenizer, tweets):\n",
    "  sequences = tokenizer.texts_to_sequences(tweets)\n",
    "  padded = pad_sequences(sequences, truncating='post', padding='post', maxlen=max_len) # truncating happens at the end of the sequence (post)\n",
    "  return padded # all examples will be the returned with same input size"
   ]
  },
  {
   "cell_type": "code",
   "execution_count": 19,
   "metadata": {
    "colab": {
     "base_uri": "https://localhost:8080/"
    },
    "executionInfo": {
     "elapsed": 2394,
     "status": "ok",
     "timestamp": 1681012654519,
     "user": {
      "displayName": "Christian Montecillo",
      "userId": "02267957112746133644"
     },
     "user_tz": 360
    },
    "id": "V2CMHoto0plB",
    "outputId": "3f2807c1-3e52-495b-db8b-59fc7f9fd409"
   },
   "outputs": [
    {
     "data": {
      "text/plain": [
       "array([ 74,  58,  72,   1,  42, 122,  10, 864, 702,  15,   7, 182,   0,\n",
       "         0,   0,   0,   0,   0,   0,   0,   0,   0,   0,   0,   0,   0,\n",
       "         0,   0,   0,   0,   0,   0,   0,   0,   0,   0,   0,   0,   0,\n",
       "         0,   0,   0,   0,   0,   0,   0,   0,   0,   0,   0,   0,   0,\n",
       "         0,   0,   0,   0,   0,   0,   0,   0,   0,   0,   0,   0,   0,\n",
       "         0,   0,   0,   0,   0,   0,   0,   0,   0,   0,   0,   0,   0,\n",
       "         0,   0,   0,   0,   0,   0,   0,   0,   0,   0,   0,   0,   0,\n",
       "         0,   0,   0,   0,   0,   0,   0,   0,   0,   0,   0,   0,   0,\n",
       "         0,   0,   0,   0,   0,   0,   0,   0,   0,   0,   0,   0,   0,\n",
       "         0,   0,   0,   0,   0,   0,   0,   0,   0,   0,   0,   0,   0,\n",
       "         0,   0,   0,   0,   0,   0,   0,   0,   0,   0,   0,   0,   0,\n",
       "         0,   0,   0,   0,   0,   0,   0,   0,   0,   0,   0,   0,   0,\n",
       "         0,   0,   0,   0,   0,   0,   0,   0,   0,   0,   0,   0,   0,\n",
       "         0,   0,   0,   0,   0,   0,   0,   0,   0,   0,   0,   0,   0,\n",
       "         0,   0,   0,   0,   0,   0,   0,   0,   0,   0,   0,   0,   0,\n",
       "         0,   0,   0,   0,   0], dtype=int32)"
      ]
     },
     "execution_count": 19,
     "metadata": {},
     "output_type": "execute_result"
    }
   ],
   "source": [
    "padded_train_seq = get_sequences(tokenizer, train_df['text'])\n",
    "padded_train_seq[0]"
   ]
  },
  {
   "cell_type": "markdown",
   "metadata": {
    "id": "wAVdCL7s2YA6"
   },
   "source": [
    "***\n",
    "## 4 Convert labels to numeric"
   ]
  },
  {
   "cell_type": "markdown",
   "metadata": {
    "id": "cjoAOp23ROll"
   },
   "source": [
    "### Function to convert text labels to numeric (reuse for all datasets)"
   ]
  },
  {
   "cell_type": "code",
   "execution_count": 20,
   "metadata": {
    "colab": {
     "base_uri": "https://localhost:8080/"
    },
    "executionInfo": {
     "elapsed": 28,
     "status": "ok",
     "timestamp": 1681012654520,
     "user": {
      "displayName": "Christian Montecillo",
      "userId": "02267957112746133644"
     },
     "user_tz": 360
    },
    "id": "Fz-HIqgg9WTn",
    "outputId": "4fd10033-eac1-46f5-9191-43c38fc5e262"
   },
   "outputs": [
    {
     "data": {
      "text/plain": [
       "{'sadness': 0,\n",
       " 'anger': 1,\n",
       " 'fear': 2,\n",
       " 'surprise': 3,\n",
       " 'joy': 4,\n",
       " 'love': 5,\n",
       " 'neutral': 6}"
      ]
     },
     "execution_count": 20,
     "metadata": {},
     "output_type": "execute_result"
    }
   ],
   "source": [
    "# keeping this consistent for all models\n",
    "class_to_index_dict = {'sadness': 0, 'anger': 1, 'fear': 2, 'surprise': 3, 'joy': 4, 'love': 5, 'neutral': 6}\n",
    "class_to_index_dict"
   ]
  },
  {
   "cell_type": "code",
   "execution_count": 21,
   "metadata": {
    "executionInfo": {
     "elapsed": 18,
     "status": "ok",
     "timestamp": 1681012654520,
     "user": {
      "displayName": "Christian Montecillo",
      "userId": "02267957112746133644"
     },
     "user_tz": 360
    },
    "id": "LshrgGmE3Vw1"
   },
   "outputs": [],
   "source": [
    "def names_to_ids(class_to_index, data):\n",
    "  return np.array([class_to_index.get(x) for x in data])"
   ]
  },
  {
   "cell_type": "code",
   "execution_count": 22,
   "metadata": {
    "colab": {
     "base_uri": "https://localhost:8080/"
    },
    "executionInfo": {
     "elapsed": 15,
     "status": "ok",
     "timestamp": 1681012654520,
     "user": {
      "displayName": "Christian Montecillo",
      "userId": "02267957112746133644"
     },
     "user_tz": 360
    },
    "id": "6EKQbC433hL-",
    "outputId": "f7ceb804-ee74-4569-b2ff-43f8a085d37f"
   },
   "outputs": [
    {
     "name": "stdout",
     "output_type": "stream",
     "text": [
      "train_df.iloc[7]:\n",
      " text        i know its not the ideal situation and im not ...\n",
      "emotions                                                 love\n",
      "Name: 7, dtype: object\n",
      "numeric label: 5\n"
     ]
    }
   ],
   "source": [
    "# confirming if it worked (change index) and they should line up with above dict\n",
    "index = 7\n",
    "train_labels = names_to_ids(class_to_index_dict, train_df['emotions'])\n",
    "print('train_df.iloc[7]:\\n', train_df.iloc[index])\n",
    "print('numeric label:', train_labels[index])"
   ]
  },
  {
   "cell_type": "markdown",
   "metadata": {
    "id": "JqCOVtUd5SN1"
   },
   "source": [
    "***\n",
    "## 5 Create the model"
   ]
  },
  {
   "cell_type": "code",
   "execution_count": 23,
   "metadata": {
    "colab": {
     "base_uri": "https://localhost:8080/"
    },
    "executionInfo": {
     "elapsed": 72,
     "status": "ok",
     "timestamp": 1681012654590,
     "user": {
      "displayName": "Christian Montecillo",
      "userId": "02267957112746133644"
     },
     "user_tz": 360
    },
    "id": "0x19MiiQ5s7S",
    "outputId": "f9d24904-63cb-4cca-944b-6f9d462e8277"
   },
   "outputs": [
    {
     "name": "stdout",
     "output_type": "stream",
     "text": [
      "Using TensorFlow version 2.12.0\n"
     ]
    }
   ],
   "source": [
    "%matplotlib inline\n",
    "\n",
    "import tensorflow as tf\n",
    "import matplotlib.pyplot as plt\n",
    "import random\n",
    "\n",
    "def show_history(h):\n",
    "    epochs_trained = len(h.history['loss'])\n",
    "    plt.figure(figsize=(16, 6))\n",
    "\n",
    "    plt.subplot(1, 2, 1)\n",
    "    plt.plot(range(0, epochs_trained), h.history.get('accuracy'), label='Training')\n",
    "    plt.plot(range(0, epochs_trained), h.history.get('val_accuracy'), label='Validation')\n",
    "    plt.ylim([0., 1.])\n",
    "    plt.xlabel('Epochs')\n",
    "    plt.ylabel('Accuracy')\n",
    "    plt.legend()\n",
    "\n",
    "    plt.subplot(1, 2, 2)\n",
    "    plt.plot(range(0, epochs_trained), h.history.get('loss'), label='Training')\n",
    "    plt.plot(range(0, epochs_trained), h.history.get('val_loss'), label='Validation')\n",
    "    plt.xlabel('Epochs')\n",
    "    plt.ylabel('Loss')\n",
    "    plt.legend()\n",
    "    plt.show()\n",
    "    \n",
    "print('Using TensorFlow version', tf.__version__)"
   ]
  },
  {
   "cell_type": "code",
   "execution_count": 24,
   "metadata": {
    "colab": {
     "base_uri": "https://localhost:8080/"
    },
    "executionInfo": {
     "elapsed": 4,
     "status": "ok",
     "timestamp": 1681012654590,
     "user": {
      "displayName": "Christian Montecillo",
      "userId": "02267957112746133644"
     },
     "user_tz": 360
    },
    "id": "rwuBpS3B502f",
    "outputId": "e47dba92-5e3e-48a4-e4c7-19a10ad3bbab"
   },
   "outputs": [
    {
     "name": "stdout",
     "output_type": "stream",
     "text": [
      "top_word_count: 7623\n",
      "max_len: 200\n"
     ]
    }
   ],
   "source": [
    "print('top_word_count:', top_word_count)\n",
    "print('max_len:', max_len)"
   ]
  },
  {
   "cell_type": "code",
   "execution_count": 25,
   "metadata": {
    "executionInfo": {
     "elapsed": 3875,
     "status": "ok",
     "timestamp": 1681012658463,
     "user": {
      "displayName": "Christian Montecillo",
      "userId": "02267957112746133644"
     },
     "user_tz": 360
    },
    "id": "ZmbxOHXS5VoW"
   },
   "outputs": [],
   "source": [
    "# ref: https://machinelearningmastery.com/develop-bidirectional-lstm-sequence-classification-python-keras/\n",
    "# ref: https://analyticsindiamag.com/complete-guide-to-bidirectional-lstm-with-python-codes/\n",
    "# ref: https://stackoverflow.com/questions/40331510/how-to-stack-multiple-lstm-in-keras\n",
    "\n",
    "# keep the vocabulary size the same as the base model, 11039\n",
    "model = tf.keras.models.Sequential([\n",
    "    tf.keras.layers.Embedding(input_dim=8000, output_dim=8, input_length=max_len),\n",
    "    \n",
    "    # the RNN part of the model\n",
    "    # tf.keras.layers.Bidirectional(tf.keras.layers.LSTM(10, return_sequences=True)), # since using an LSTM layer inside a bidrectional layer, context can go in either direction; return_sequences=True means at every time step, there is an output\n",
    "    tf.keras.layers.Bidirectional(tf.keras.layers.LSTM(10, )),\n",
    "\n",
    "    tf.keras.layers.Dense(7, activation='softmax') # 7 for the seven classes\n",
    "\n",
    "])\n",
    "\n",
    "model.compile(\n",
    "    loss='sparse_categorical_crossentropy', # since this is a multiclass classification problem, use categorical crossentropy; since classes are integers (not one hot encoded/binary), use sparse (just like in A3)\n",
    "    optimizer='adam',\n",
    "    metrics=['accuracy']\n",
    ")"
   ]
  },
  {
   "cell_type": "code",
   "execution_count": 26,
   "metadata": {
    "colab": {
     "base_uri": "https://localhost:8080/"
    },
    "executionInfo": {
     "elapsed": 101,
     "status": "ok",
     "timestamp": 1681012658556,
     "user": {
      "displayName": "Christian Montecillo",
      "userId": "02267957112746133644"
     },
     "user_tz": 360
    },
    "id": "zsYrBdzP6lNv",
    "outputId": "194f457b-2747-4465-b4dd-ca5e8bd79c95"
   },
   "outputs": [
    {
     "name": "stdout",
     "output_type": "stream",
     "text": [
      "Model: \"sequential\"\n",
      "_________________________________________________________________\n",
      " Layer (type)                Output Shape              Param #   \n",
      "=================================================================\n",
      " embedding (Embedding)       (None, 200, 8)            64000     \n",
      "                                                                 \n",
      " bidirectional (Bidirectiona  (None, 20)               1520      \n",
      " l)                                                              \n",
      "                                                                 \n",
      " dense (Dense)               (None, 7)                 147       \n",
      "                                                                 \n",
      "=================================================================\n",
      "Total params: 65,667\n",
      "Trainable params: 65,667\n",
      "Non-trainable params: 0\n",
      "_________________________________________________________________\n"
     ]
    }
   ],
   "source": [
    "model.summary()"
   ]
  },
  {
   "cell_type": "markdown",
   "metadata": {
    "id": "idlS4gpC67sM"
   },
   "source": [
    "***\n",
    "## 6 Train the model"
   ]
  },
  {
   "cell_type": "markdown",
   "metadata": {
    "id": "lQQwKn13Qrm9"
   },
   "source": [
    "### Convert the labels of the validation set to numeric (just like the training set)"
   ]
  },
  {
   "cell_type": "code",
   "execution_count": 27,
   "metadata": {
    "colab": {
     "base_uri": "https://localhost:8080/"
    },
    "executionInfo": {
     "elapsed": 3,
     "status": "ok",
     "timestamp": 1681012658556,
     "user": {
      "displayName": "Christian Montecillo",
      "userId": "02267957112746133644"
     },
     "user_tz": 360
    },
    "id": "yNF1izoe_fPt",
    "outputId": "a90d637c-ec4d-45c9-8d3f-82fa5780ad39"
   },
   "outputs": [
    {
     "data": {
      "text/plain": [
       "{'sadness': 0,\n",
       " 'anger': 1,\n",
       " 'fear': 2,\n",
       " 'surprise': 3,\n",
       " 'joy': 4,\n",
       " 'love': 5,\n",
       " 'neutral': 6}"
      ]
     },
     "execution_count": 27,
     "metadata": {},
     "output_type": "execute_result"
    }
   ],
   "source": [
    "# reminder of the class_to_index mapping\n",
    "class_to_index_dict"
   ]
  },
  {
   "cell_type": "code",
   "execution_count": 28,
   "metadata": {
    "executionInfo": {
     "elapsed": 743,
     "status": "ok",
     "timestamp": 1681012659297,
     "user": {
      "displayName": "Christian Montecillo",
      "userId": "02267957112746133644"
     },
     "user_tz": 360
    },
    "id": "bQmthZKy7B6A"
   },
   "outputs": [],
   "source": [
    "val_seq = get_sequences(tokenizer, val_df['text'])\n",
    "val_labels = names_to_ids(class_to_index_dict, val_df['emotions'])"
   ]
  },
  {
   "cell_type": "code",
   "execution_count": 29,
   "metadata": {
    "colab": {
     "base_uri": "https://localhost:8080/"
    },
    "executionInfo": {
     "elapsed": 12,
     "status": "ok",
     "timestamp": 1681012659298,
     "user": {
      "displayName": "Christian Montecillo",
      "userId": "02267957112746133644"
     },
     "user_tz": 360
    },
    "id": "b1KDU5Hi8IWQ",
    "outputId": "aa192d5f-6f51-4766-be3b-cc305b3a3c73"
   },
   "outputs": [
    {
     "data": {
      "text/plain": [
       "(array([  2, 185,   8, 708, 616,   4, 244,   0,   0,   0,   0,   0,   0,\n",
       "          0,   0,   0,   0,   0,   0,   0,   0,   0,   0,   0,   0,   0,\n",
       "          0,   0,   0,   0,   0,   0,   0,   0,   0,   0,   0,   0,   0,\n",
       "          0,   0,   0,   0,   0,   0,   0,   0,   0,   0,   0,   0,   0,\n",
       "          0,   0,   0,   0,   0,   0,   0,   0,   0,   0,   0,   0,   0,\n",
       "          0,   0,   0,   0,   0,   0,   0,   0,   0,   0,   0,   0,   0,\n",
       "          0,   0,   0,   0,   0,   0,   0,   0,   0,   0,   0,   0,   0,\n",
       "          0,   0,   0,   0,   0,   0,   0,   0,   0,   0,   0,   0,   0,\n",
       "          0,   0,   0,   0,   0,   0,   0,   0,   0,   0,   0,   0,   0,\n",
       "          0,   0,   0,   0,   0,   0,   0,   0,   0,   0,   0,   0,   0,\n",
       "          0,   0,   0,   0,   0,   0,   0,   0,   0,   0,   0,   0,   0,\n",
       "          0,   0,   0,   0,   0,   0,   0,   0,   0,   0,   0,   0,   0,\n",
       "          0,   0,   0,   0,   0,   0,   0,   0,   0,   0,   0,   0,   0,\n",
       "          0,   0,   0,   0,   0,   0,   0,   0,   0,   0,   0,   0,   0,\n",
       "          0,   0,   0,   0,   0,   0,   0,   0,   0,   0,   0,   0,   0,\n",
       "          0,   0,   0,   0,   0], dtype=int32),\n",
       " 'i started feeling unwelcome insulted and angry',\n",
       " 'sadness')"
      ]
     },
     "execution_count": 29,
     "metadata": {},
     "output_type": "execute_result"
    }
   ],
   "source": [
    "# checking out the first input in validation sequence\n",
    "val_seq[0], val_df['text'][0], val_df['emotions'][0]"
   ]
  },
  {
   "cell_type": "code",
   "execution_count": 30,
   "metadata": {
    "colab": {
     "base_uri": "https://localhost:8080/"
    },
    "executionInfo": {
     "elapsed": 6,
     "status": "ok",
     "timestamp": 1681012659298,
     "user": {
      "displayName": "Christian Montecillo",
      "userId": "02267957112746133644"
     },
     "user_tz": 360
    },
    "id": "VCjxGzpW7rCT",
    "outputId": "d7390f1d-22b1-4457-833a-45fbb8f35cf3"
   },
   "outputs": [
    {
     "name": "stdout",
     "output_type": "stream",
     "text": [
      "val_df.iloc[0]:\n",
      " text        i started feeling unwelcome insulted and angry\n",
      "emotions                                           sadness\n",
      "Name: 0, dtype: object\n",
      "numeric label: 0\n"
     ]
    }
   ],
   "source": [
    "print('val_df.iloc[0]:\\n', val_df.iloc[0])\n",
    "print('numeric label:', val_labels[0])"
   ]
  },
  {
   "cell_type": "markdown",
   "metadata": {
    "id": "RdCRJ_QdQ2B6"
   },
   "source": [
    "#### Check out the shape to make sure they're as expected"
   ]
  },
  {
   "cell_type": "code",
   "execution_count": 31,
   "metadata": {
    "colab": {
     "base_uri": "https://localhost:8080/"
    },
    "executionInfo": {
     "elapsed": 4,
     "status": "ok",
     "timestamp": 1681012659298,
     "user": {
      "displayName": "Christian Montecillo",
      "userId": "02267957112746133644"
     },
     "user_tz": 360
    },
    "id": "ynlY2BgkA7in",
    "outputId": "f0806235-30bd-43bd-cb28-a1460dbbbfcb"
   },
   "outputs": [
    {
     "data": {
      "text/plain": [
       "(136657, 200)"
      ]
     },
     "execution_count": 31,
     "metadata": {},
     "output_type": "execute_result"
    }
   ],
   "source": [
    "padded_train_seq.shape"
   ]
  },
  {
   "cell_type": "code",
   "execution_count": 32,
   "metadata": {
    "colab": {
     "base_uri": "https://localhost:8080/"
    },
    "executionInfo": {
     "elapsed": 3,
     "status": "ok",
     "timestamp": 1681012659298,
     "user": {
      "displayName": "Christian Montecillo",
      "userId": "02267957112746133644"
     },
     "user_tz": 360
    },
    "id": "Y5fiYZr7Bz0W",
    "outputId": "5943cf1c-71de-4ff5-ee6f-760772fbf9d0"
   },
   "outputs": [
    {
     "data": {
      "text/plain": [
       "(136657,)"
      ]
     },
     "execution_count": 32,
     "metadata": {},
     "output_type": "execute_result"
    }
   ],
   "source": [
    "train_labels.shape"
   ]
  },
  {
   "cell_type": "code",
   "execution_count": 33,
   "metadata": {
    "colab": {
     "base_uri": "https://localhost:8080/"
    },
    "executionInfo": {
     "elapsed": 87,
     "status": "ok",
     "timestamp": 1681012659383,
     "user": {
      "displayName": "Christian Montecillo",
      "userId": "02267957112746133644"
     },
     "user_tz": 360
    },
    "id": "Ht_KveuuB30e",
    "outputId": "6acc8ae6-2a55-4488-a7ed-9245c050b5fe"
   },
   "outputs": [
    {
     "data": {
      "text/plain": [
       "(40998, 200)"
      ]
     },
     "execution_count": 33,
     "metadata": {},
     "output_type": "execute_result"
    }
   ],
   "source": [
    "val_seq.shape"
   ]
  },
  {
   "cell_type": "code",
   "execution_count": 34,
   "metadata": {
    "colab": {
     "base_uri": "https://localhost:8080/"
    },
    "executionInfo": {
     "elapsed": 9,
     "status": "ok",
     "timestamp": 1681012659383,
     "user": {
      "displayName": "Christian Montecillo",
      "userId": "02267957112746133644"
     },
     "user_tz": 360
    },
    "id": "jN1vULmpB6gE",
    "outputId": "0de492b2-ee34-41cf-e710-d1f80bd26591"
   },
   "outputs": [
    {
     "data": {
      "text/plain": [
       "(40998,)"
      ]
     },
     "execution_count": 34,
     "metadata": {},
     "output_type": "execute_result"
    }
   ],
   "source": [
    "val_labels.shape"
   ]
  },
  {
   "cell_type": "markdown",
   "metadata": {
    "id": "yIzq6Av3QPt8"
   },
   "source": [
    "### From Natalie's Notebook\n",
    "https://github.com/datasci-w266/2023-spring-main/blob/master/materials/walkthrough_notebooks/keras_with_limited_ram/keras_training_with_limited_ram.ipynb<br><br>\n",
    "https://edstem.org/us/courses/32607/discussion/2699088?comment=6229916"
   ]
  },
  {
   "cell_type": "markdown",
   "metadata": {
    "id": "xXt_pSdk8hNd"
   },
   "source": [
    "#### Inspired by Natalie's notebook, made my own generator that chunks up my data into pieces that won't make my machine run out of memory before completing one epoch\n",
    "If generator is not used, might delete this section"
   ]
  },
  {
   "cell_type": "code",
   "execution_count": 35,
   "metadata": {
    "executionInfo": {
     "elapsed": 7,
     "status": "ok",
     "timestamp": 1681012659383,
     "user": {
      "displayName": "Christian Montecillo",
      "userId": "02267957112746133644"
     },
     "user_tz": 360
    },
    "id": "VqlRB7kLgciK"
   },
   "outputs": [],
   "source": [
    "# from sklearn.utils.random import sample_without_replacement\n",
    "\n",
    "# # Define a generator function\n",
    "# def generator(data, labels, batch_size):\n",
    "#     # num_samples = len(data)\n",
    "#     # while True:\n",
    "#     #     indices = np.random.randint(num_samples, size=batch_size)\n",
    "#     #     yield data[indices], labels[indices]\n",
    "\n",
    "#     # Loop over batches\n",
    "#     for i in range(0, len(data), batch_size):\n",
    "      \n",
    "#       # Get a batch of indices using sample_without_replacement()\n",
    "#       batch_indices = sample_without_replacement(n_population=len(data), n_samples=batch_size)\n",
    "      \n",
    "#       # Yield a batch of features and labels using the indices\n",
    "#       yield data[batch_indices], labels[batch_indices]"
   ]
  },
  {
   "cell_type": "code",
   "execution_count": 36,
   "metadata": {
    "executionInfo": {
     "elapsed": 8,
     "status": "ok",
     "timestamp": 1681012659384,
     "user": {
      "displayName": "Christian Montecillo",
      "userId": "02267957112746133644"
     },
     "user_tz": 360
    },
    "id": "nct6qudng5T4"
   },
   "outputs": [],
   "source": [
    "# Create the generator\n",
    "# batch_size = 1 # using this batch size because that's what seemed reasonable based on the number of records in the training dataset\n",
    "# gen = generator(data=padded_train_seq, labels=train_labels, batch_size=batch_size)"
   ]
  },
  {
   "cell_type": "markdown",
   "metadata": {
    "id": "5qWdOrSvDBxP"
   },
   "source": [
    "#### Setting up checkpoints"
   ]
  },
  {
   "cell_type": "code",
   "execution_count": 37,
   "metadata": {
    "colab": {
     "base_uri": "https://localhost:8080/"
    },
    "executionInfo": {
     "elapsed": 8,
     "status": "ok",
     "timestamp": 1681012659385,
     "user": {
      "displayName": "Christian Montecillo",
      "userId": "02267957112746133644"
     },
     "user_tz": 360
    },
    "id": "DLCin0Ms-_QM",
    "outputId": "0ab96e32-2bed-4baf-86f5-23ae61d38142"
   },
   "outputs": [
    {
     "name": "stdout",
     "output_type": "stream",
     "text": [
      "/2023-04-08-2157\n"
     ]
    }
   ],
   "source": [
    "# reference: https://pynative.com/python-timezone/\n",
    "# make a timestamp so it can be part of the folder name\n",
    "# otherwise, all the checkpoints get dumped into the same\n",
    "# folder and that's not great\n",
    "import datetime\n",
    "import pytz\n",
    "\n",
    "local_tz = pytz.timezone('America/Denver')\n",
    "local_dt = datetime.datetime.now(local_tz)\n",
    "\n",
    "# Format the datetime object as a string without spaces\n",
    "timestamp = local_dt.strftime('/%Y-%m-%d-%H%M')\n",
    "\n",
    "# Print the string\n",
    "print(timestamp)"
   ]
  },
  {
   "cell_type": "code",
   "execution_count": 38,
   "metadata": {
    "colab": {
     "base_uri": "https://localhost:8080/"
    },
    "executionInfo": {
     "elapsed": 662,
     "status": "ok",
     "timestamp": 1681012660040,
     "user": {
      "displayName": "Christian Montecillo",
      "userId": "02267957112746133644"
     },
     "user_tz": 360
    },
    "id": "UYF2mq-rnikf",
    "outputId": "b94e624d-b289-484b-d81c-912a822b788c"
   },
   "outputs": [
    {
     "name": "stdout",
     "output_type": "stream",
     "text": [
      "136_40_model  34_10_model  68_20_model\tbase_model\n",
      "17_5_model    52_mixed\t   archive\tclean_plus_kaggle_model\n"
     ]
    }
   ],
   "source": [
    "!ls '/content/gdrive/MyDrive/266_Final_Project_Folder/cm_working_dir/cm_checkpoints/'"
   ]
  },
  {
   "cell_type": "code",
   "execution_count": 39,
   "metadata": {
    "executionInfo": {
     "elapsed": 75,
     "status": "ok",
     "timestamp": 1681012660111,
     "user": {
      "displayName": "Christian Montecillo",
      "userId": "02267957112746133644"
     },
     "user_tz": 360
    },
    "id": "fWUjoVx_oQ1p"
   },
   "outputs": [],
   "source": [
    "checkpoint_dir = project_folder + '/cm_working_dir/cm_checkpoints/136_40_model'\n",
    "checkpoint_filepath = checkpoint_dir + '/weights.{epoch:02d}-{val_accuracy:.2f}.hdf5' #+ timestamp + '/weights.{epoch:02d}-{val_accuracy:.2f}.hdf5'\n",
    "model_checkpoint_callback = tf.keras.callbacks.ModelCheckpoint(\n",
    "    filepath=checkpoint_filepath,\n",
    "    save_weights_only=True)"
   ]
  },
  {
   "cell_type": "code",
   "execution_count": 40,
   "metadata": {
    "colab": {
     "base_uri": "https://localhost:8080/"
    },
    "executionInfo": {
     "elapsed": 4,
     "status": "ok",
     "timestamp": 1681012660111,
     "user": {
      "displayName": "Christian Montecillo",
      "userId": "02267957112746133644"
     },
     "user_tz": 360
    },
    "id": "vEGdADVWY5aV",
    "outputId": "943210c8-e28a-453e-e8fc-448397af37d6"
   },
   "outputs": [
    {
     "name": "stdout",
     "output_type": "stream",
     "text": [
      "/content/gdrive/MyDrive/266_Final_Project_Folder/cm_working_dir/cm_checkpoints/136_40_model/weights.{epoch:02d}-{val_accuracy:.2f}.hdf5\n"
     ]
    }
   ],
   "source": [
    "# check to make sure that the folder name is as expected\n",
    "# format: .....cm_checkpoints/YYYY-MM-DD-TIME/....\n",
    "print(checkpoint_filepath)"
   ]
  },
  {
   "cell_type": "markdown",
   "metadata": {
    "id": "Tu0tD3XEQYxO"
   },
   "source": [
    "### Training the Model!!!"
   ]
  },
  {
   "cell_type": "markdown",
   "metadata": {
    "id": "kGXLqEfMvIUu"
   },
   "source": [
    "##### Uncomment cell below to load checkpoints; else keep commented to start fresh"
   ]
  },
  {
   "cell_type": "code",
   "execution_count": 41,
   "metadata": {
    "executionInfo": {
     "elapsed": 3,
     "status": "ok",
     "timestamp": 1681012660111,
     "user": {
      "displayName": "Christian Montecillo",
      "userId": "02267957112746133644"
     },
     "user_tz": 360
    },
    "id": "wm6zmRBWPA4F"
   },
   "outputs": [],
   "source": [
    "# # uncomment below when loading checkpoints\n",
    "# hdf5_checkpoint = 'weights.05-0.99' # change this to the right filename for the checkpoint\n",
    "# checkpoint_filepath = checkpoint_dir + '/' + hdf5_checkpoint + '.hdf5'\n",
    "# model.load_weights(checkpoint_filepath)"
   ]
  },
  {
   "cell_type": "code",
   "execution_count": 42,
   "metadata": {
    "executionInfo": {
     "elapsed": 5,
     "status": "ok",
     "timestamp": 1681012660113,
     "user": {
      "displayName": "Christian Montecillo",
      "userId": "02267957112746133644"
     },
     "user_tz": 360
    },
    "id": "WrvGsgIf9Z2W"
   },
   "outputs": [],
   "source": [
    "# # batch_size = 64\n",
    "# steps_per_epoch = len(padded_train_seq) / batch_size\n",
    "\n",
    "# history = model.fit(\n",
    "#     gen,\n",
    "#     validation_data=(val_seq, val_labels),\n",
    "#     steps_per_epoch=steps_per_epoch,\n",
    "#     epochs=1,\n",
    "#     callbacks=[\n",
    "#         tf.keras.callbacks.EarlyStopping(monitor='val_accuracy', patience=2), # if model doesn't see improvement in val_accuracy after 2 epochs, it will stop training\n",
    "#         model_checkpoint_callback\n",
    "#     ]\n",
    "# )"
   ]
  },
  {
   "cell_type": "markdown",
   "metadata": {
    "id": "nrrGcqfzvbnA"
   },
   "source": [
    "##### Training a fresh model (don't run this if running cells above)"
   ]
  },
  {
   "cell_type": "code",
   "execution_count": 43,
   "metadata": {
    "colab": {
     "base_uri": "https://localhost:8080/"
    },
    "executionInfo": {
     "elapsed": 266034,
     "status": "ok",
     "timestamp": 1681012926142,
     "user": {
      "displayName": "Christian Montecillo",
      "userId": "02267957112746133644"
     },
     "user_tz": 360
    },
    "id": "oCfI-LfAn9nR",
    "outputId": "33ed2128-69c1-4fe4-97d7-14aa4cf03b08"
   },
   "outputs": [
    {
     "name": "stdout",
     "output_type": "stream",
     "text": [
      "Epoch 1/5\n",
      "2135/2135 [==============================] - 88s 37ms/step - loss: 0.9572 - accuracy: 0.6527 - val_loss: 0.5242 - val_accuracy: 0.8367\n",
      "Epoch 2/5\n",
      "2135/2135 [==============================] - 44s 20ms/step - loss: 0.4599 - accuracy: 0.8450 - val_loss: 0.4240 - val_accuracy: 0.8508\n",
      "Epoch 3/5\n",
      "2135/2135 [==============================] - 43s 20ms/step - loss: 0.3928 - accuracy: 0.8603 - val_loss: 0.3743 - val_accuracy: 0.8642\n",
      "Epoch 4/5\n",
      "2135/2135 [==============================] - 44s 20ms/step - loss: 0.3000 - accuracy: 0.9049 - val_loss: 0.2845 - val_accuracy: 0.9136\n",
      "Epoch 5/5\n",
      "2135/2135 [==============================] - 41s 19ms/step - loss: 0.1990 - accuracy: 0.9469 - val_loss: 0.1941 - val_accuracy: 0.9491\n"
     ]
    }
   ],
   "source": [
    "batch_size = 64\n",
    "steps_per_epoch = len(padded_train_seq) / batch_size\n",
    "\n",
    "history = model.fit(\n",
    "    # gen,\n",
    "    padded_train_seq,\n",
    "    train_labels,\n",
    "    validation_data=(val_seq, val_labels),\n",
    "    steps_per_epoch=steps_per_epoch,\n",
    "    epochs=5,\n",
    "    callbacks=[\n",
    "        tf.keras.callbacks.EarlyStopping(monitor='val_accuracy', patience=2), # if model doesn't see improvement in val_accuracy after 2 epochs, it will stop training\n",
    "        model_checkpoint_callback\n",
    "    ]\n",
    ")"
   ]
  },
  {
   "cell_type": "code",
   "execution_count": 44,
   "metadata": {
    "colab": {
     "base_uri": "https://localhost:8080/",
     "height": 547
    },
    "executionInfo": {
     "elapsed": 366,
     "status": "ok",
     "timestamp": 1681012926499,
     "user": {
      "displayName": "Christian Montecillo",
      "userId": "02267957112746133644"
     },
     "user_tz": 360
    },
    "id": "1mfKwJdT1YFz",
    "outputId": "da0ce977-c488-4736-c7ce-b74335955255"
   },
   "outputs": [
    {
     "data": {
      "image/png": "[encoded data removed]",
      "text/plain": [
       "<Figure size 1600x600 with 2 Axes>"
      ]
     },
     "metadata": {},
     "output_type": "display_data"
    }
   ],
   "source": [
    "show_history(history)"
   ]
  },
  {
   "cell_type": "markdown",
   "metadata": {
    "id": "cBYWJDCg5eN1"
   },
   "source": [
    "***\n",
    "## 7 Evaluate the model using imbalanced test_df"
   ]
  },
  {
   "cell_type": "code",
   "execution_count": 45,
   "metadata": {
    "executionInfo": {
     "elapsed": 838,
     "status": "ok",
     "timestamp": 1681012927336,
     "user": {
      "displayName": "Christian Montecillo",
      "userId": "02267957112746133644"
     },
     "user_tz": 360
    },
    "id": "nDap2-694dQM"
   },
   "outputs": [],
   "source": [
    "# borrowing this from A3 assignment, but turned it into a function\n",
    "# classification report (cr) and confusion matrix (cm) from A3\n",
    "from sklearn.metrics import classification_report\n",
    "import seaborn as sns\n",
    "\n",
    "def make_cr_cm(preds, labels):\n",
    "\n",
    "  predictions_model = tf.argmax(preds, axis=-1)\n",
    "  predictions_model\n",
    "\n",
    "  # convert labels to string because classification_report needs target_names as str\n",
    "  # labels are currently ints, but will change to str of in (i.e. '0', '1', etc)\n",
    "  class_names = list(set([str(digit) for digit in labels]))\n",
    "\n",
    "  # convert digits in target_names to the actual name of the emotion from the \n",
    "  # using class_to_index dictionary (i.e. '0' -> 'love', '5' -> 'neutral', etc.)\n",
    "  class_names = [list(class_to_index_dict.keys())[list(class_to_index_dict.values()).index(int(name))] for name in class_names]\n",
    "\n",
    "  print('Classification Report:\\n\\n', classification_report(labels, predictions_model.numpy(), target_names=class_names))\n",
    "\n",
    "  print('Confusion Matrix:\\n')\n",
    "  \n",
    "  # confusion matrix from A3\n",
    "  cm = tf.math.confusion_matrix(labels, predictions_model)\n",
    "  cm = cm/cm.numpy().sum(axis=1)[:, tf.newaxis]\n",
    "\n",
    "  plt.figure(figsize=(20,7))\n",
    "  sns.heatmap(\n",
    "      cm, annot=True,\n",
    "      xticklabels=class_names,\n",
    "      yticklabels=class_names)\n",
    "  plt.xlabel(\"Predicted\")\n",
    "  plt.ylabel(\"True\")\n",
    "  plt.show()"
   ]
  },
  {
   "cell_type": "markdown",
   "metadata": {
    "id": "_a6PRIxbbDzo"
   },
   "source": [
    "### Padding the imbalanced test set for evaluation"
   ]
  },
  {
   "cell_type": "code",
   "execution_count": 46,
   "metadata": {
    "colab": {
     "base_uri": "https://localhost:8080/"
    },
    "executionInfo": {
     "elapsed": 671,
     "status": "ok",
     "timestamp": 1681012928000,
     "user": {
      "displayName": "Christian Montecillo",
      "userId": "02267957112746133644"
     },
     "user_tz": 360
    },
    "id": "gEMdQ78M2Rz-",
    "outputId": "cc359202-ed80-4c62-ff63-2b31848f45db"
   },
   "outputs": [
    {
     "data": {
      "text/plain": [
       "array([  2,   3, 508,   5,  54, 851, 740,   0,   0,   0,   0,   0,   0,\n",
       "         0,   0,   0,   0,   0,   0,   0,   0,   0,   0,   0,   0,   0,\n",
       "         0,   0,   0,   0,   0,   0,   0,   0,   0,   0,   0,   0,   0,\n",
       "         0,   0,   0,   0,   0,   0,   0,   0,   0,   0,   0,   0,   0,\n",
       "         0,   0,   0,   0,   0,   0,   0,   0,   0,   0,   0,   0,   0,\n",
       "         0,   0,   0,   0,   0,   0,   0,   0,   0,   0,   0,   0,   0,\n",
       "         0,   0,   0,   0,   0,   0,   0,   0,   0,   0,   0,   0,   0,\n",
       "         0,   0,   0,   0,   0,   0,   0,   0,   0,   0,   0,   0,   0,\n",
       "         0,   0,   0,   0,   0,   0,   0,   0,   0,   0,   0,   0,   0,\n",
       "         0,   0,   0,   0,   0,   0,   0,   0,   0,   0,   0,   0,   0,\n",
       "         0,   0,   0,   0,   0,   0,   0,   0,   0,   0,   0,   0,   0,\n",
       "         0,   0,   0,   0,   0,   0,   0,   0,   0,   0,   0,   0,   0,\n",
       "         0,   0,   0,   0,   0,   0,   0,   0,   0,   0,   0,   0,   0,\n",
       "         0,   0,   0,   0,   0,   0,   0,   0,   0,   0,   0,   0,   0,\n",
       "         0,   0,   0,   0,   0,   0,   0,   0,   0,   0,   0,   0,   0,\n",
       "         0,   0,   0,   0,   0], dtype=int32)"
      ]
     },
     "execution_count": 46,
     "metadata": {},
     "output_type": "execute_result"
    }
   ],
   "source": [
    "padded_test_seq = get_sequences(tokenizer, test_df['text'])\n",
    "padded_test_seq[0]"
   ]
  },
  {
   "cell_type": "code",
   "execution_count": 47,
   "metadata": {
    "colab": {
     "base_uri": "https://localhost:8080/"
    },
    "executionInfo": {
     "elapsed": 6,
     "status": "ok",
     "timestamp": 1681012928001,
     "user": {
      "displayName": "Christian Montecillo",
      "userId": "02267957112746133644"
     },
     "user_tz": 360
    },
    "id": "jBACmE2L2sW1",
    "outputId": "f8fba735-1cdf-466c-9c53-0698e11925bf"
   },
   "outputs": [
    {
     "data": {
      "text/plain": [
       "{'sadness': 0,\n",
       " 'anger': 1,\n",
       " 'fear': 2,\n",
       " 'surprise': 3,\n",
       " 'joy': 4,\n",
       " 'love': 5,\n",
       " 'neutral': 6}"
      ]
     },
     "execution_count": 47,
     "metadata": {},
     "output_type": "execute_result"
    }
   ],
   "source": [
    "# reminder of the class_to_index mapping\n",
    "class_to_index_dict"
   ]
  },
  {
   "cell_type": "code",
   "execution_count": 48,
   "metadata": {
    "colab": {
     "base_uri": "https://localhost:8080/"
    },
    "executionInfo": {
     "elapsed": 4,
     "status": "ok",
     "timestamp": 1681012928001,
     "user": {
      "displayName": "Christian Montecillo",
      "userId": "02267957112746133644"
     },
     "user_tz": 360
    },
    "id": "YbXURKrqVaou",
    "outputId": "c8d4148d-6152-417d-b09f-d977edf860bb"
   },
   "outputs": [
    {
     "name": "stdout",
     "output_type": "stream",
     "text": [
      "test_df.iloc[7]:\n",
      " text        i never orgasm the feeling is lovely\n",
      "emotions                                    love\n",
      "Name: 7, dtype: object\n",
      "numeric label: 5\n"
     ]
    }
   ],
   "source": [
    "# confirming if it worked (change index) and they should line up with above dict\n",
    "index = 7\n",
    "test_labels = names_to_ids(class_to_index_dict, test_df['emotions'])\n",
    "print('test_df.iloc[7]:\\n', test_df.iloc[index])\n",
    "print('numeric label:', test_labels[index])"
   ]
  },
  {
   "cell_type": "markdown",
   "metadata": {
    "id": "3sQ_CJUk6cHw"
   },
   "source": [
    "### Evaluating the model using test_df!!!"
   ]
  },
  {
   "cell_type": "code",
   "execution_count": 49,
   "metadata": {
    "colab": {
     "base_uri": "https://localhost:8080/"
    },
    "executionInfo": {
     "elapsed": 10319,
     "status": "ok",
     "timestamp": 1681012938317,
     "user": {
      "displayName": "Christian Montecillo",
      "userId": "02267957112746133644"
     },
     "user_tz": 360
    },
    "id": "053kYMU11ufb",
    "outputId": "81b181eb-0038-4a93-a13b-a5d7043ee462"
   },
   "outputs": [
    {
     "name": "stdout",
     "output_type": "stream",
     "text": [
      "1187/1187 [==============================] - 8s 7ms/step - loss: 0.1866 - accuracy: 0.9507\n"
     ]
    },
    {
     "data": {
      "text/plain": [
       "[0.1866343915462494, 0.9506598711013794]"
      ]
     },
     "execution_count": 49,
     "metadata": {},
     "output_type": "execute_result"
    }
   ],
   "source": [
    "model.evaluate(padded_test_seq, test_labels)"
   ]
  },
  {
   "cell_type": "code",
   "execution_count": 50,
   "metadata": {
    "colab": {
     "base_uri": "https://localhost:8080/"
    },
    "executionInfo": {
     "elapsed": 750,
     "status": "ok",
     "timestamp": 1681012939054,
     "user": {
      "displayName": "Christian Montecillo",
      "userId": "02267957112746133644"
     },
     "user_tz": 360
    },
    "id": "wyu3GMil3mJX",
    "outputId": "2cc30149-f8af-483f-f0ae-3ccff81692ed"
   },
   "outputs": [
    {
     "name": "stdout",
     "output_type": "stream",
     "text": [
      "Sentence: text        i feel its being rude\n",
      "emotions                    anger\n",
      "Name: 28044, dtype: object\n",
      "Emotion: 1\n",
      "1/1 [==============================] - 1s 710ms/step\n",
      "Predicted Emotion: 1\n"
     ]
    }
   ],
   "source": [
    "# printing out a random tweet and its label, then calling\n",
    "# model.predict to see what the model predicts\n",
    "i = random.randint(0, len(test_labels) - 1)\n",
    "\n",
    "print('Sentence:', test_df.iloc[i])\n",
    "print('Emotion:', test_labels[i])\n",
    "\n",
    "p = model.predict(np.expand_dims(padded_test_seq[i], axis=0))[0]\n",
    "pred_class = np.argmax(p).astype('uint8')\n",
    "\n",
    "print('Predicted Emotion:', pred_class)"
   ]
  },
  {
   "cell_type": "code",
   "execution_count": 51,
   "metadata": {
    "colab": {
     "base_uri": "https://localhost:8080/"
    },
    "executionInfo": {
     "elapsed": 7804,
     "status": "ok",
     "timestamp": 1681012946852,
     "user": {
      "displayName": "Christian Montecillo",
      "userId": "02267957112746133644"
     },
     "user_tz": 360
    },
    "id": "91fRNuUubO7U",
    "outputId": "a6ece1b0-b0bd-4799-f5ff-8bb721f0916e"
   },
   "outputs": [
    {
     "name": "stdout",
     "output_type": "stream",
     "text": [
      "1187/1187 [==============================] - 7s 6ms/step\n"
     ]
    }
   ],
   "source": [
    "preds_imbalanced_test_set = model.predict(padded_test_seq)"
   ]
  },
  {
   "cell_type": "code",
   "execution_count": 52,
   "metadata": {
    "colab": {
     "base_uri": "https://localhost:8080/",
     "height": 954
    },
    "executionInfo": {
     "elapsed": 540,
     "status": "ok",
     "timestamp": 1681012947386,
     "user": {
      "displayName": "Christian Montecillo",
      "userId": "02267957112746133644"
     },
     "user_tz": 360
    },
    "id": "0d24DBx7-Jft",
    "outputId": "55265d5b-0999-4ef2-9eec-df44689d5101"
   },
   "outputs": [
    {
     "name": "stdout",
     "output_type": "stream",
     "text": [
      "Classification Report:\n",
      "\n",
      "               precision    recall  f1-score   support\n",
      "\n",
      "        fear       0.96      0.94      0.95     11587\n",
      "     neutral       0.94      0.96      0.95      5226\n",
      "     sadness       0.94      0.94      0.94      3955\n",
      "       anger       0.89      0.90      0.89       982\n",
      "         joy       0.97      0.97      0.97     12917\n",
      "        love       0.92      0.94      0.93      2434\n",
      "    surprise       0.81      0.93      0.87       860\n",
      "\n",
      "    accuracy                           0.95     37961\n",
      "   macro avg       0.92      0.94      0.93     37961\n",
      "weighted avg       0.95      0.95      0.95     37961\n",
      "\n",
      "Confusion Matrix:\n",
      "\n"
     ]
    },
    {
     "data": {
      "image/png": "[encoded data removed]",
      "text/plain": [
       "<Figure size 2000x700 with 2 Axes>"
      ]
     },
     "metadata": {},
     "output_type": "display_data"
    }
   ],
   "source": [
    "make_cr_cm(preds_imbalanced_test_set, test_labels)"
   ]
  },
  {
   "cell_type": "markdown",
   "metadata": {
    "id": "3-ekehsJ54yk"
   },
   "source": [
    "***\n",
    "## 8 Evaluating the model again, but with balanced_test_df!!!"
   ]
  },
  {
   "cell_type": "markdown",
   "metadata": {
    "id": "OSNNBLBDbU_J"
   },
   "source": [
    "### Padding the balanced test set for evaluation"
   ]
  },
  {
   "cell_type": "code",
   "execution_count": 53,
   "metadata": {
    "colab": {
     "base_uri": "https://localhost:8080/"
    },
    "executionInfo": {
     "elapsed": 91,
     "status": "ok",
     "timestamp": 1681012947474,
     "user": {
      "displayName": "Christian Montecillo",
      "userId": "02267957112746133644"
     },
     "user_tz": 360
    },
    "id": "z_w8r3SeVAWx",
    "outputId": "5359a5b7-2bc6-45a2-be14-b3d61ce77a55"
   },
   "outputs": [
    {
     "data": {
      "text/plain": [
       "array([   2,   56,   54,   33,    6,  237,   10,    6,  535,    9,   31,\n",
       "        114,   31,   68,   25,    4,    3,   60,    6,  237,    9, 1047,\n",
       "         31,   37,  141,  724,    6, 1935,   10,  118, 5821,   10,  106,\n",
       "         31,  766, 1149,   19,    7,  999,  878,    1, 2258,    0,    0,\n",
       "          0,    0,    0,    0,    0,    0,    0,    0,    0,    0,    0,\n",
       "          0,    0,    0,    0,    0,    0,    0,    0,    0,    0,    0,\n",
       "          0,    0,    0,    0,    0,    0,    0,    0,    0,    0,    0,\n",
       "          0,    0,    0,    0,    0,    0,    0,    0,    0,    0,    0,\n",
       "          0,    0,    0,    0,    0,    0,    0,    0,    0,    0,    0,\n",
       "          0,    0,    0,    0,    0,    0,    0,    0,    0,    0,    0,\n",
       "          0,    0,    0,    0,    0,    0,    0,    0,    0,    0,    0,\n",
       "          0,    0,    0,    0,    0,    0,    0,    0,    0,    0,    0,\n",
       "          0,    0,    0,    0,    0,    0,    0,    0,    0,    0,    0,\n",
       "          0,    0,    0,    0,    0,    0,    0,    0,    0,    0,    0,\n",
       "          0,    0,    0,    0,    0,    0,    0,    0,    0,    0,    0,\n",
       "          0,    0,    0,    0,    0,    0,    0,    0,    0,    0,    0,\n",
       "          0,    0,    0,    0,    0,    0,    0,    0,    0,    0,    0,\n",
       "          0,    0,    0,    0,    0,    0,    0,    0,    0,    0,    0,\n",
       "          0,    0], dtype=int32)"
      ]
     },
     "execution_count": 53,
     "metadata": {},
     "output_type": "execute_result"
    }
   ],
   "source": [
    "padded_balanced_test_seq = get_sequences(tokenizer, balanced_test_df['text'])\n",
    "padded_balanced_test_seq[0]"
   ]
  },
  {
   "cell_type": "code",
   "execution_count": 54,
   "metadata": {
    "colab": {
     "base_uri": "https://localhost:8080/"
    },
    "executionInfo": {
     "elapsed": 6,
     "status": "ok",
     "timestamp": 1681012947474,
     "user": {
      "displayName": "Christian Montecillo",
      "userId": "02267957112746133644"
     },
     "user_tz": 360
    },
    "id": "cedRkeI7VPig",
    "outputId": "43e70d2b-1e3f-46fc-a103-59c5296d3dca"
   },
   "outputs": [
    {
     "data": {
      "text/plain": [
       "{'sadness': 0,\n",
       " 'anger': 1,\n",
       " 'fear': 2,\n",
       " 'surprise': 3,\n",
       " 'joy': 4,\n",
       " 'love': 5,\n",
       " 'neutral': 6}"
      ]
     },
     "execution_count": 54,
     "metadata": {},
     "output_type": "execute_result"
    }
   ],
   "source": [
    "# reminder of the class_to_index mapping\n",
    "class_to_index_dict"
   ]
  },
  {
   "cell_type": "code",
   "execution_count": 55,
   "metadata": {
    "colab": {
     "base_uri": "https://localhost:8080/"
    },
    "executionInfo": {
     "elapsed": 5,
     "status": "ok",
     "timestamp": 1681012947475,
     "user": {
      "displayName": "Christian Montecillo",
      "userId": "02267957112746133644"
     },
     "user_tz": 360
    },
    "id": "hm-MP1dM3HQL",
    "outputId": "2b6cec81-6056-4726-fdd2-8a0cd84737f7"
   },
   "outputs": [
    {
     "name": "stdout",
     "output_type": "stream",
     "text": [
      "balanced_test_df.iloc[7]:\n",
      " text        i feel like i m wronged\n",
      "emotions                      anger\n",
      "Name: 7, dtype: object\n",
      "numeric label: 1\n"
     ]
    }
   ],
   "source": [
    "# confirming if it worked (change index) and they should line up with above dict\n",
    "index = 7\n",
    "balanced_test_labels = names_to_ids(class_to_index_dict, balanced_test_df['emotions'])\n",
    "print('balanced_test_df.iloc[7]:\\n', balanced_test_df.iloc[index])\n",
    "print('numeric label:', balanced_test_labels[index])"
   ]
  },
  {
   "cell_type": "markdown",
   "metadata": {
    "id": "MJasH3YlbfCW"
   },
   "source": [
    "### Evaluating the model using balanced_test_df!!!"
   ]
  },
  {
   "cell_type": "code",
   "execution_count": 56,
   "metadata": {
    "colab": {
     "base_uri": "https://localhost:8080/"
    },
    "executionInfo": {
     "elapsed": 1774,
     "status": "ok",
     "timestamp": 1681012949246,
     "user": {
      "displayName": "Christian Montecillo",
      "userId": "02267957112746133644"
     },
     "user_tz": 360
    },
    "id": "1X2dswfs83FG",
    "outputId": "612f5a5b-5d8a-423f-b869-dcc91e27dfa7"
   },
   "outputs": [
    {
     "name": "stdout",
     "output_type": "stream",
     "text": [
      "189/189 [==============================] - 2s 8ms/step - loss: 0.2906 - accuracy: 0.9380\n"
     ]
    },
    {
     "data": {
      "text/plain": [
       "[0.2906270921230316, 0.9380398392677307]"
      ]
     },
     "execution_count": 56,
     "metadata": {},
     "output_type": "execute_result"
    }
   ],
   "source": [
    "model.evaluate(padded_balanced_test_seq, balanced_test_labels)"
   ]
  },
  {
   "cell_type": "code",
   "execution_count": 57,
   "metadata": {
    "colab": {
     "base_uri": "https://localhost:8080/"
    },
    "executionInfo": {
     "elapsed": 5,
     "status": "ok",
     "timestamp": 1681012949247,
     "user": {
      "displayName": "Christian Montecillo",
      "userId": "02267957112746133644"
     },
     "user_tz": 360
    },
    "id": "v98-_YwrV2t_",
    "outputId": "f484cacc-91fe-42d1-8974-f2bc375cca56"
   },
   "outputs": [
    {
     "name": "stdout",
     "output_type": "stream",
     "text": [
      "Sentence: text        is cleaning the house for her family who is co...\n",
      "emotions                                              neutral\n",
      "Name: 3936, dtype: object\n",
      "Emotion: 6\n",
      "1/1 [==============================] - 0s 35ms/step\n",
      "Predicted Emotion: 6\n"
     ]
    }
   ],
   "source": [
    "# printing out a random tweet and its label, then calling\n",
    "# model.predict to see what the model predicts\n",
    "i = random.randint(0, len(balanced_test_labels) - 1)\n",
    "\n",
    "print('Sentence:', balanced_test_df.iloc[i])\n",
    "print('Emotion:', balanced_test_labels[i])\n",
    "\n",
    "p = model.predict(np.expand_dims(padded_balanced_test_seq[i], axis=0))[0]\n",
    "pred_class = np.argmax(p).astype('uint8')\n",
    "\n",
    "print('Predicted Emotion:', pred_class)"
   ]
  },
  {
   "cell_type": "code",
   "execution_count": 58,
   "metadata": {
    "colab": {
     "base_uri": "https://localhost:8080/"
    },
    "executionInfo": {
     "elapsed": 1672,
     "status": "ok",
     "timestamp": 1681012950998,
     "user": {
      "displayName": "Christian Montecillo",
      "userId": "02267957112746133644"
     },
     "user_tz": 360
    },
    "id": "VtERWaIyiQ2k",
    "outputId": "8914d7a4-f801-4da7-fe5b-79247da45ddd"
   },
   "outputs": [
    {
     "name": "stdout",
     "output_type": "stream",
     "text": [
      "189/189 [==============================] - 1s 8ms/step\n"
     ]
    }
   ],
   "source": [
    "preds_balanced_test_set = model.predict(padded_balanced_test_seq)"
   ]
  },
  {
   "cell_type": "code",
   "execution_count": 59,
   "metadata": {
    "colab": {
     "base_uri": "https://localhost:8080/",
     "height": 954
    },
    "executionInfo": {
     "elapsed": 585,
     "status": "ok",
     "timestamp": 1681012951581,
     "user": {
      "displayName": "Christian Montecillo",
      "userId": "02267957112746133644"
     },
     "user_tz": 360
    },
    "id": "I5qqhODF-hyO",
    "outputId": "106c41e4-ed74-45f5-8329-9fb342860628"
   },
   "outputs": [
    {
     "name": "stdout",
     "output_type": "stream",
     "text": [
      "Classification Report:\n",
      "\n",
      "               precision    recall  f1-score   support\n",
      "\n",
      "        fear       0.89      0.94      0.92       860\n",
      "     neutral       0.91      0.95      0.93       860\n",
      "     sadness       0.94      0.94      0.94       860\n",
      "       anger       0.97      0.90      0.93       860\n",
      "         joy       0.91      0.97      0.94       860\n",
      "        love       0.97      0.93      0.95       860\n",
      "    surprise       0.98      0.93      0.95       860\n",
      "\n",
      "    accuracy                           0.94      6020\n",
      "   macro avg       0.94      0.94      0.94      6020\n",
      "weighted avg       0.94      0.94      0.94      6020\n",
      "\n",
      "Confusion Matrix:\n",
      "\n"
     ]
    },
    {
     "data": {
      "image/png": "[encoded data removed]",
      "text/plain": [
       "<Figure size 2000x700 with 2 Axes>"
      ]
     },
     "metadata": {},
     "output_type": "display_data"
    }
   ],
   "source": [
    "make_cr_cm(preds_balanced_test_set, balanced_test_labels)"
   ]
  }
 ],
 "metadata": {
  "accelerator": "GPU",
  "colab": {
   "provenance": [
    {
     "file_id": "1si0TY6-hs70VBlbYCS_6UQMdC1HopG7R",
     "timestamp": 1678417410096
    },
    {
     "file_id": "1GgqjlJKTRlHcJ97Fqdaa2dssTvFjb7jH",
     "timestamp": 1677994986960
    }
   ]
  },
  "gpuClass": "standard",
  "kernelspec": {
   "display_name": "Python 3 (ipykernel)",
   "language": "python",
   "name": "python3"
  },
  "language_info": {
   "codemirror_mode": {
    "name": "ipython",
    "version": 3
   },
   "file_extension": ".py",
   "mimetype": "text/x-python",
   "name": "python",
   "nbconvert_exporter": "python",
   "pygments_lexer": "ipython3",
   "version": "3.9.12"
  }
 },
 "nbformat": 4,
 "nbformat_minor": 1
}
