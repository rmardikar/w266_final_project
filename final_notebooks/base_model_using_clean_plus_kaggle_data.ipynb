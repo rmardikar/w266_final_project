{
 "cells": [
  {
   "cell_type": "markdown",
   "metadata": {
    "id": "z9rigx9lYp0r"
   },
   "source": [
    "***\n",
    "# Base Bi-LSTM Model with combined Kaggle + CARER dataset, 20k Training, 12k Validation<br>\n",
    "***"
   ]
  },
  {
   "cell_type": "markdown",
   "metadata": {
    "id": "kX3XryQmcWhL"
   },
   "source": [
    "***\n",
    "## 1 Load the train/val/test/balanced test datasets"
   ]
  },
  {
   "cell_type": "code",
   "execution_count": 1,
   "metadata": {
    "colab": {
     "base_uri": "https://localhost:8080/"
    },
    "executionInfo": {
     "elapsed": 17694,
     "status": "ok",
     "timestamp": 1681013228598,
     "user": {
      "displayName": "Christian Montecillo",
      "userId": "02267957112746133644"
     },
     "user_tz": 360
    },
    "id": "06sIOQnaaF9P",
    "outputId": "f314e6ad-ee9c-4175-99df-a7947769131e"
   },
   "outputs": [
    {
     "name": "stdout",
     "output_type": "stream",
     "text": [
      "Mounted at /content/gdrive\n"
     ]
    }
   ],
   "source": [
    "import pandas as pd\n",
    "import numpy as np\n",
    "\n",
    "# mount google drive\n",
    "from google.colab import drive \n",
    "drive.mount('/content/gdrive')"
   ]
  },
  {
   "cell_type": "code",
   "execution_count": 2,
   "metadata": {
    "executionInfo": {
     "elapsed": 2306,
     "status": "ok",
     "timestamp": 1681013230901,
     "user": {
      "displayName": "Christian Montecillo",
      "userId": "02267957112746133644"
     },
     "user_tz": 360
    },
    "id": "9j2cEQQtYMBR"
   },
   "outputs": [],
   "source": [
    "# read from the google drive\n",
    "project_folder = '/content/gdrive/MyDrive/266_Final_Project_Folder'\n",
    "\n",
    "train_source = project_folder + '/datasets/train_20k_12k_mixed_strat_clean_kaggle_230404.csv'\n",
    "test_source = project_folder + '/datasets/test_data_imbalanced_stratified_no_dupe.csv'\n",
    "val_source = project_folder + '/datasets/validation_20k_12k_mixed_strat_clean_kaggle_230404.csv'\n",
    "balanced_test_source = project_folder + '/datasets/test_data_balanced_no_dupe.csv'\n",
    "\n",
    "# Load the dfs\n",
    "train_df = pd.read_csv(train_source)\n",
    "test_df = pd.read_csv(test_source)\n",
    "val_df = pd.read_csv(val_source)\n",
    "balanced_test_df = pd.read_csv(balanced_test_source)\n",
    "\n",
    "# drop the tweet_id column\n",
    "train_df.drop(columns=train_df.columns[0], axis=1, inplace=True)\n",
    "test_df.drop(columns=test_df.columns[0], axis=1, inplace=True)\n",
    "val_df.drop(columns=val_df.columns[0], axis=1, inplace=True)\n",
    "balanced_test_df.drop(columns=balanced_test_df.columns[0], axis=1, inplace=True)"
   ]
  },
  {
   "cell_type": "markdown",
   "metadata": {
    "id": "4UoM9Sdcholh"
   },
   "source": [
    "### Drop, from train, the common rows in train and test. Keep test intact."
   ]
  },
  {
   "cell_type": "code",
   "execution_count": 3,
   "metadata": {
    "colab": {
     "base_uri": "https://localhost:8080/"
    },
    "executionInfo": {
     "elapsed": 13,
     "status": "ok",
     "timestamp": 1681013230902,
     "user": {
      "displayName": "Christian Montecillo",
      "userId": "02267957112746133644"
     },
     "user_tz": 360
    },
    "id": "vXvLaE_sh2nh",
    "outputId": "4d78e3cf-1440-4f4a-db41-b1c199661f53"
   },
   "outputs": [
    {
     "data": {
      "text/plain": [
       "(37961, 2)"
      ]
     },
     "execution_count": 3,
     "metadata": {},
     "output_type": "execute_result"
    }
   ],
   "source": [
    "test_df.shape"
   ]
  },
  {
   "cell_type": "code",
   "execution_count": 4,
   "metadata": {
    "colab": {
     "base_uri": "https://localhost:8080/"
    },
    "executionInfo": {
     "elapsed": 172,
     "status": "ok",
     "timestamp": 1681013231065,
     "user": {
      "displayName": "Christian Montecillo",
      "userId": "02267957112746133644"
     },
     "user_tz": 360
    },
    "id": "X0UKXyI5h44j",
    "outputId": "392ca26d-e17e-4285-dcf0-1c1ee09c393e"
   },
   "outputs": [
    {
     "data": {
      "text/plain": [
       "(20535, 2)"
      ]
     },
     "execution_count": 4,
     "metadata": {},
     "output_type": "execute_result"
    }
   ],
   "source": [
    "train_df.shape"
   ]
  },
  {
   "cell_type": "code",
   "execution_count": 5,
   "metadata": {
    "colab": {
     "base_uri": "https://localhost:8080/"
    },
    "executionInfo": {
     "elapsed": 9,
     "status": "ok",
     "timestamp": 1681013231065,
     "user": {
      "displayName": "Christian Montecillo",
      "userId": "02267957112746133644"
     },
     "user_tz": 360
    },
    "id": "Ajil_algcw46",
    "outputId": "1318ccf9-b509-4dd0-bbf7-82242d042503"
   },
   "outputs": [
    {
     "data": {
      "text/plain": [
       "(20324, 2)"
      ]
     },
     "execution_count": 5,
     "metadata": {},
     "output_type": "execute_result"
    }
   ],
   "source": [
    "common_rows = pd.merge(train_df, test_df, on='text')\n",
    "\n",
    "# Create a boolean mask for rows to drop\n",
    "rows_to_drop = train_df['text'].isin(common_rows['text'])\n",
    "\n",
    "# Drop the rows from the train dataframe\n",
    "train_df = train_df[~rows_to_drop]\n",
    "\n",
    "train_df.shape"
   ]
  },
  {
   "cell_type": "code",
   "execution_count": 6,
   "metadata": {
    "colab": {
     "base_uri": "https://localhost:8080/"
    },
    "executionInfo": {
     "elapsed": 6,
     "status": "ok",
     "timestamp": 1681013231065,
     "user": {
      "displayName": "Christian Montecillo",
      "userId": "02267957112746133644"
     },
     "user_tz": 360
    },
    "id": "AvLOQpxLhys3",
    "outputId": "65880acf-afc1-404a-d522-492d14e3f15d"
   },
   "outputs": [
    {
     "data": {
      "text/plain": [
       "(37961, 2)"
      ]
     },
     "execution_count": 6,
     "metadata": {},
     "output_type": "execute_result"
    }
   ],
   "source": [
    "test_df.shape"
   ]
  },
  {
   "cell_type": "markdown",
   "metadata": {
    "id": "IbaQ2JZUcJcH"
   },
   "source": [
    "### Confirm no overlapping records "
   ]
  },
  {
   "cell_type": "code",
   "execution_count": 7,
   "metadata": {
    "colab": {
     "base_uri": "https://localhost:8080/"
    },
    "executionInfo": {
     "elapsed": 144,
     "status": "ok",
     "timestamp": 1681013231205,
     "user": {
      "displayName": "Christian Montecillo",
      "userId": "02267957112746133644"
     },
     "user_tz": 360
    },
    "id": "PIydFV55QM8H",
    "outputId": "0e081eea-0bd9-48ec-ff81-242b2fd4ac25"
   },
   "outputs": [
    {
     "name": "stdout",
     "output_type": "stream",
     "text": [
      "Number of overlapping records, train-val: 0\n",
      "Number of overlapping records, val-train: 0\n",
      "Number of overlapping records, train-test: 0\n",
      "Number of overlapping records, test-train: 0\n",
      "Number of overlapping records, train-balanced test: 0\n",
      "Number of overlapping records, balanced test, train: 0\n"
     ]
    }
   ],
   "source": [
    "# Check if there are any records in train_df that are in val_df\n",
    "overlap = train_df['text'].isin(val_df['text'])\n",
    "print(f\"Number of overlapping records, train-val: {overlap.sum()}\")\n",
    "\n",
    "# Check if there are any records in val_df that are in train_df\n",
    "overlap = val_df['text'].isin(train_df['text'])\n",
    "print(f\"Number of overlapping records, val-train: {overlap.sum()}\")\n",
    "\n",
    "\n",
    "# Check if there are any records in train_df that are in test_df\n",
    "overlap = train_df['text'].isin(test_df['text'])\n",
    "print(f\"Number of overlapping records, train-test: {overlap.sum()}\")\n",
    "\n",
    "# Check if there are any records in test_df that are in train_df\n",
    "overlap = test_df['text'].isin(train_df['text'])\n",
    "print(f\"Number of overlapping records, test-train: {overlap.sum()}\")\n",
    "\n",
    "\n",
    "# Check if there are any records in train_df that are in balanced_test_df\n",
    "overlap = train_df['text'].isin(balanced_test_df['text'])\n",
    "print(f\"Number of overlapping records, train-balanced test: {overlap.sum()}\")\n",
    "\n",
    "# Check if there are any records in train_df that are in balanced_test_df\n",
    "overlap = balanced_test_df['text'].isin(train_df['text'])\n",
    "print(f\"Number of overlapping records, balanced test, train: {overlap.sum()}\")"
   ]
  },
  {
   "cell_type": "code",
   "execution_count": 8,
   "metadata": {
    "colab": {
     "base_uri": "https://localhost:8080/",
     "height": 424
    },
    "executionInfo": {
     "elapsed": 215,
     "status": "ok",
     "timestamp": 1681013231419,
     "user": {
      "displayName": "Christian Montecillo",
      "userId": "02267957112746133644"
     },
     "user_tz": 360
    },
    "id": "7W2PlC_Ulv0O",
    "outputId": "a6f1b94f-f91c-4b61-dc47-3bb5adddf82f"
   },
   "outputs": [
    {
     "data": {
      "text/html": [
       "\n",
       "  <div id=\"df-6d5c4b73-7d1f-4df8-ba42-602f635d31e3\">\n",
       "    <div class=\"colab-df-container\">\n",
       "      <div>\n",
       "<style scoped>\n",
       "    .dataframe tbody tr th:only-of-type {\n",
       "        vertical-align: middle;\n",
       "    }\n",
       "\n",
       "    .dataframe tbody tr th {\n",
       "        vertical-align: top;\n",
       "    }\n",
       "\n",
       "    .dataframe thead th {\n",
       "        text-align: right;\n",
       "    }\n",
       "</style>\n",
       "<table border=\"1\" class=\"dataframe\">\n",
       "  <thead>\n",
       "    <tr style=\"text-align: right;\">\n",
       "      <th></th>\n",
       "      <th>text</th>\n",
       "      <th>emotions</th>\n",
       "    </tr>\n",
       "  </thead>\n",
       "  <tbody>\n",
       "    <tr>\n",
       "      <th>0</th>\n",
       "      <td>i forget that especially when i feel lost and ...</td>\n",
       "      <td>sadness</td>\n",
       "    </tr>\n",
       "    <tr>\n",
       "      <th>1</th>\n",
       "      <td>why did i sunbathe today  i look like a lobste...</td>\n",
       "      <td>sadness</td>\n",
       "    </tr>\n",
       "    <tr>\n",
       "      <th>2</th>\n",
       "      <td>@babycakes1966 i agree</td>\n",
       "      <td>neutral</td>\n",
       "    </tr>\n",
       "    <tr>\n",
       "      <th>3</th>\n",
       "      <td>i feel like i will be more adventurous with fo...</td>\n",
       "      <td>joy</td>\n",
       "    </tr>\n",
       "    <tr>\n",
       "      <th>4</th>\n",
       "      <td>i post a song true to my feelings will everyon...</td>\n",
       "      <td>sadness</td>\n",
       "    </tr>\n",
       "    <tr>\n",
       "      <th>...</th>\n",
       "      <td>...</td>\n",
       "      <td>...</td>\n",
       "    </tr>\n",
       "    <tr>\n",
       "      <th>20530</th>\n",
       "      <td>i see these painting as exercises i feel less ...</td>\n",
       "      <td>fear</td>\n",
       "    </tr>\n",
       "    <tr>\n",
       "      <th>20531</th>\n",
       "      <td>Thinks FML should changed to LML (love my life)</td>\n",
       "      <td>love</td>\n",
       "    </tr>\n",
       "    <tr>\n",
       "      <th>20532</th>\n",
       "      <td>im not so sure if it will end up winning the w...</td>\n",
       "      <td>joy</td>\n",
       "    </tr>\n",
       "    <tr>\n",
       "      <th>20533</th>\n",
       "      <td>Not gonna lie, i'm going to miss high school l...</td>\n",
       "      <td>neutral</td>\n",
       "    </tr>\n",
       "    <tr>\n",
       "      <th>20534</th>\n",
       "      <td>i usually get when im not feeling adventurous ...</td>\n",
       "      <td>joy</td>\n",
       "    </tr>\n",
       "  </tbody>\n",
       "</table>\n",
       "<p>20324 rows × 2 columns</p>\n",
       "</div>\n",
       "      <button class=\"colab-df-convert\" onclick=\"convertToInteractive('df-6d5c4b73-7d1f-4df8-ba42-602f635d31e3')\"\n",
       "              title=\"Convert this dataframe to an interactive table.\"\n",
       "              style=\"display:none;\">\n",
       "        \n",
       "  <svg xmlns=\"http://www.w3.org/2000/svg\" height=\"24px\"viewBox=\"0 0 24 24\"\n",
       "       width=\"24px\">\n",
       "    <path d=\"M0 0h24v24H0V0z\" fill=\"none\"/>\n",
       "    <path d=\"M18.56 5.44l.94 2.06.94-2.06 2.06-.94-2.06-.94-.94-2.06-.94 2.06-2.06.94zm-11 1L8.5 8.5l.94-2.06 2.06-.94-2.06-.94L8.5 2.5l-.94 2.06-2.06.94zm10 10l.94 2.06.94-2.06 2.06-.94-2.06-.94-.94-2.06-.94 2.06-2.06.94z\"/><path d=\"M17.41 7.96l-1.37-1.37c-.4-.4-.92-.59-1.43-.59-.52 0-1.04.2-1.43.59L10.3 9.45l-7.72 7.72c-.78.78-.78 2.05 0 2.83L4 21.41c.39.39.9.59 1.41.59.51 0 1.02-.2 1.41-.59l7.78-7.78 2.81-2.81c.8-.78.8-2.07 0-2.86zM5.41 20L4 18.59l7.72-7.72 1.47 1.35L5.41 20z\"/>\n",
       "  </svg>\n",
       "      </button>\n",
       "      \n",
       "  <style>\n",
       "    .colab-df-container {\n",
       "      display:flex;\n",
       "      flex-wrap:wrap;\n",
       "      gap: 12px;\n",
       "    }\n",
       "\n",
       "    .colab-df-convert {\n",
       "      background-color: #E8F0FE;\n",
       "      border: none;\n",
       "      border-radius: 50%;\n",
       "      cursor: pointer;\n",
       "      display: none;\n",
       "      fill: #1967D2;\n",
       "      height: 32px;\n",
       "      padding: 0 0 0 0;\n",
       "      width: 32px;\n",
       "    }\n",
       "\n",
       "    .colab-df-convert:hover {\n",
       "      background-color: #E2EBFA;\n",
       "      box-shadow: 0px 1px 2px rgba(60, 64, 67, 0.3), 0px 1px 3px 1px rgba(60, 64, 67, 0.15);\n",
       "      fill: #174EA6;\n",
       "    }\n",
       "\n",
       "    [theme=dark] .colab-df-convert {\n",
       "      background-color: #3B4455;\n",
       "      fill: #D2E3FC;\n",
       "    }\n",
       "\n",
       "    [theme=dark] .colab-df-convert:hover {\n",
       "      background-color: #434B5C;\n",
       "      box-shadow: 0px 1px 3px 1px rgba(0, 0, 0, 0.15);\n",
       "      filter: drop-shadow(0px 1px 2px rgba(0, 0, 0, 0.3));\n",
       "      fill: #FFFFFF;\n",
       "    }\n",
       "  </style>\n",
       "\n",
       "      <script>\n",
       "        const buttonEl =\n",
       "          document.querySelector('#df-6d5c4b73-7d1f-4df8-ba42-602f635d31e3 button.colab-df-convert');\n",
       "        buttonEl.style.display =\n",
       "          google.colab.kernel.accessAllowed ? 'block' : 'none';\n",
       "\n",
       "        async function convertToInteractive(key) {\n",
       "          const element = document.querySelector('#df-6d5c4b73-7d1f-4df8-ba42-602f635d31e3');\n",
       "          const dataTable =\n",
       "            await google.colab.kernel.invokeFunction('convertToInteractive',\n",
       "                                                     [key], {});\n",
       "          if (!dataTable) return;\n",
       "\n",
       "          const docLinkHtml = 'Like what you see? Visit the ' +\n",
       "            '<a target=\"_blank\" href=https://colab.research.google.com/notebooks/data_table.ipynb>data table notebook</a>'\n",
       "            + ' to learn more about interactive tables.';\n",
       "          element.innerHTML = '';\n",
       "          dataTable['output_type'] = 'display_data';\n",
       "          await google.colab.output.renderOutput(dataTable, element);\n",
       "          const docLink = document.createElement('div');\n",
       "          docLink.innerHTML = docLinkHtml;\n",
       "          element.appendChild(docLink);\n",
       "        }\n",
       "      </script>\n",
       "    </div>\n",
       "  </div>\n",
       "  "
      ],
      "text/plain": [
       "                                                    text emotions\n",
       "0      i forget that especially when i feel lost and ...  sadness\n",
       "1      why did i sunbathe today  i look like a lobste...  sadness\n",
       "2                                 @babycakes1966 i agree  neutral\n",
       "3      i feel like i will be more adventurous with fo...      joy\n",
       "4      i post a song true to my feelings will everyon...  sadness\n",
       "...                                                  ...      ...\n",
       "20530  i see these painting as exercises i feel less ...     fear\n",
       "20531    Thinks FML should changed to LML (love my life)     love\n",
       "20532  im not so sure if it will end up winning the w...      joy\n",
       "20533  Not gonna lie, i'm going to miss high school l...  neutral\n",
       "20534  i usually get when im not feeling adventurous ...      joy\n",
       "\n",
       "[20324 rows x 2 columns]"
      ]
     },
     "execution_count": 8,
     "metadata": {},
     "output_type": "execute_result"
    }
   ],
   "source": [
    "train_df"
   ]
  },
  {
   "cell_type": "code",
   "execution_count": 9,
   "metadata": {
    "colab": {
     "base_uri": "https://localhost:8080/",
     "height": 424
    },
    "executionInfo": {
     "elapsed": 86,
     "status": "ok",
     "timestamp": 1681013231496,
     "user": {
      "displayName": "Christian Montecillo",
      "userId": "02267957112746133644"
     },
     "user_tz": 360
    },
    "id": "-fIcWgjQly2u",
    "outputId": "b28e796e-1c17-4feb-963b-0dd727be1538"
   },
   "outputs": [
    {
     "data": {
      "text/html": [
       "\n",
       "  <div id=\"df-3b8a244f-1b20-4e82-9647-a5b161bcd30b\">\n",
       "    <div class=\"colab-df-container\">\n",
       "      <div>\n",
       "<style scoped>\n",
       "    .dataframe tbody tr th:only-of-type {\n",
       "        vertical-align: middle;\n",
       "    }\n",
       "\n",
       "    .dataframe tbody tr th {\n",
       "        vertical-align: top;\n",
       "    }\n",
       "\n",
       "    .dataframe thead th {\n",
       "        text-align: right;\n",
       "    }\n",
       "</style>\n",
       "<table border=\"1\" class=\"dataframe\">\n",
       "  <thead>\n",
       "    <tr style=\"text-align: right;\">\n",
       "      <th></th>\n",
       "      <th>text</th>\n",
       "      <th>emotions</th>\n",
       "    </tr>\n",
       "  </thead>\n",
       "  <tbody>\n",
       "    <tr>\n",
       "      <th>0</th>\n",
       "      <td>i feel impatient to get moving forward</td>\n",
       "      <td>anger</td>\n",
       "    </tr>\n",
       "    <tr>\n",
       "      <th>1</th>\n",
       "      <td>i have decided to open wb to a few thoughtful ...</td>\n",
       "      <td>joy</td>\n",
       "    </tr>\n",
       "    <tr>\n",
       "      <th>2</th>\n",
       "      <td>i resolved at that moment to do my bit when i ...</td>\n",
       "      <td>sadness</td>\n",
       "    </tr>\n",
       "    <tr>\n",
       "      <th>3</th>\n",
       "      <td>i like his tip especially if you need assistan...</td>\n",
       "      <td>joy</td>\n",
       "    </tr>\n",
       "    <tr>\n",
       "      <th>4</th>\n",
       "      <td>i feel that if he did not want to be on the sh...</td>\n",
       "      <td>joy</td>\n",
       "    </tr>\n",
       "    <tr>\n",
       "      <th>...</th>\n",
       "      <td>...</td>\n",
       "      <td>...</td>\n",
       "    </tr>\n",
       "    <tr>\n",
       "      <th>37956</th>\n",
       "      <td>i am serving alongside other leaders in the de...</td>\n",
       "      <td>fear</td>\n",
       "    </tr>\n",
       "    <tr>\n",
       "      <th>37957</th>\n",
       "      <td>i am a little tipsy and feeling quite fond of ...</td>\n",
       "      <td>love</td>\n",
       "    </tr>\n",
       "    <tr>\n",
       "      <th>37958</th>\n",
       "      <td>i made my way to the front of the stage feelin...</td>\n",
       "      <td>fear</td>\n",
       "    </tr>\n",
       "    <tr>\n",
       "      <th>37959</th>\n",
       "      <td>i feel like nicholas is a really smart guy and...</td>\n",
       "      <td>joy</td>\n",
       "    </tr>\n",
       "    <tr>\n",
       "      <th>37960</th>\n",
       "      <td>i have been praying spiritually disciplining m...</td>\n",
       "      <td>joy</td>\n",
       "    </tr>\n",
       "  </tbody>\n",
       "</table>\n",
       "<p>37961 rows × 2 columns</p>\n",
       "</div>\n",
       "      <button class=\"colab-df-convert\" onclick=\"convertToInteractive('df-3b8a244f-1b20-4e82-9647-a5b161bcd30b')\"\n",
       "              title=\"Convert this dataframe to an interactive table.\"\n",
       "              style=\"display:none;\">\n",
       "        \n",
       "  <svg xmlns=\"http://www.w3.org/2000/svg\" height=\"24px\"viewBox=\"0 0 24 24\"\n",
       "       width=\"24px\">\n",
       "    <path d=\"M0 0h24v24H0V0z\" fill=\"none\"/>\n",
       "    <path d=\"M18.56 5.44l.94 2.06.94-2.06 2.06-.94-2.06-.94-.94-2.06-.94 2.06-2.06.94zm-11 1L8.5 8.5l.94-2.06 2.06-.94-2.06-.94L8.5 2.5l-.94 2.06-2.06.94zm10 10l.94 2.06.94-2.06 2.06-.94-2.06-.94-.94-2.06-.94 2.06-2.06.94z\"/><path d=\"M17.41 7.96l-1.37-1.37c-.4-.4-.92-.59-1.43-.59-.52 0-1.04.2-1.43.59L10.3 9.45l-7.72 7.72c-.78.78-.78 2.05 0 2.83L4 21.41c.39.39.9.59 1.41.59.51 0 1.02-.2 1.41-.59l7.78-7.78 2.81-2.81c.8-.78.8-2.07 0-2.86zM5.41 20L4 18.59l7.72-7.72 1.47 1.35L5.41 20z\"/>\n",
       "  </svg>\n",
       "      </button>\n",
       "      \n",
       "  <style>\n",
       "    .colab-df-container {\n",
       "      display:flex;\n",
       "      flex-wrap:wrap;\n",
       "      gap: 12px;\n",
       "    }\n",
       "\n",
       "    .colab-df-convert {\n",
       "      background-color: #E8F0FE;\n",
       "      border: none;\n",
       "      border-radius: 50%;\n",
       "      cursor: pointer;\n",
       "      display: none;\n",
       "      fill: #1967D2;\n",
       "      height: 32px;\n",
       "      padding: 0 0 0 0;\n",
       "      width: 32px;\n",
       "    }\n",
       "\n",
       "    .colab-df-convert:hover {\n",
       "      background-color: #E2EBFA;\n",
       "      box-shadow: 0px 1px 2px rgba(60, 64, 67, 0.3), 0px 1px 3px 1px rgba(60, 64, 67, 0.15);\n",
       "      fill: #174EA6;\n",
       "    }\n",
       "\n",
       "    [theme=dark] .colab-df-convert {\n",
       "      background-color: #3B4455;\n",
       "      fill: #D2E3FC;\n",
       "    }\n",
       "\n",
       "    [theme=dark] .colab-df-convert:hover {\n",
       "      background-color: #434B5C;\n",
       "      box-shadow: 0px 1px 3px 1px rgba(0, 0, 0, 0.15);\n",
       "      filter: drop-shadow(0px 1px 2px rgba(0, 0, 0, 0.3));\n",
       "      fill: #FFFFFF;\n",
       "    }\n",
       "  </style>\n",
       "\n",
       "      <script>\n",
       "        const buttonEl =\n",
       "          document.querySelector('#df-3b8a244f-1b20-4e82-9647-a5b161bcd30b button.colab-df-convert');\n",
       "        buttonEl.style.display =\n",
       "          google.colab.kernel.accessAllowed ? 'block' : 'none';\n",
       "\n",
       "        async function convertToInteractive(key) {\n",
       "          const element = document.querySelector('#df-3b8a244f-1b20-4e82-9647-a5b161bcd30b');\n",
       "          const dataTable =\n",
       "            await google.colab.kernel.invokeFunction('convertToInteractive',\n",
       "                                                     [key], {});\n",
       "          if (!dataTable) return;\n",
       "\n",
       "          const docLinkHtml = 'Like what you see? Visit the ' +\n",
       "            '<a target=\"_blank\" href=https://colab.research.google.com/notebooks/data_table.ipynb>data table notebook</a>'\n",
       "            + ' to learn more about interactive tables.';\n",
       "          element.innerHTML = '';\n",
       "          dataTable['output_type'] = 'display_data';\n",
       "          await google.colab.output.renderOutput(dataTable, element);\n",
       "          const docLink = document.createElement('div');\n",
       "          docLink.innerHTML = docLinkHtml;\n",
       "          element.appendChild(docLink);\n",
       "        }\n",
       "      </script>\n",
       "    </div>\n",
       "  </div>\n",
       "  "
      ],
      "text/plain": [
       "                                                    text emotions\n",
       "0                 i feel impatient to get moving forward    anger\n",
       "1      i have decided to open wb to a few thoughtful ...      joy\n",
       "2      i resolved at that moment to do my bit when i ...  sadness\n",
       "3      i like his tip especially if you need assistan...      joy\n",
       "4      i feel that if he did not want to be on the sh...      joy\n",
       "...                                                  ...      ...\n",
       "37956  i am serving alongside other leaders in the de...     fear\n",
       "37957  i am a little tipsy and feeling quite fond of ...     love\n",
       "37958  i made my way to the front of the stage feelin...     fear\n",
       "37959  i feel like nicholas is a really smart guy and...      joy\n",
       "37960  i have been praying spiritually disciplining m...      joy\n",
       "\n",
       "[37961 rows x 2 columns]"
      ]
     },
     "execution_count": 9,
     "metadata": {},
     "output_type": "execute_result"
    }
   ],
   "source": [
    "test_df"
   ]
  },
  {
   "cell_type": "code",
   "execution_count": 10,
   "metadata": {
    "colab": {
     "base_uri": "https://localhost:8080/",
     "height": 424
    },
    "executionInfo": {
     "elapsed": 6,
     "status": "ok",
     "timestamp": 1681013231496,
     "user": {
      "displayName": "Christian Montecillo",
      "userId": "02267957112746133644"
     },
     "user_tz": 360
    },
    "id": "DbdHIPy4l0s_",
    "outputId": "158dc00d-0a6b-4255-bafa-5cfb2aa54932"
   },
   "outputs": [
    {
     "data": {
      "text/html": [
       "\n",
       "  <div id=\"df-20582291-500f-4d6e-9e73-b9b75fd8a336\">\n",
       "    <div class=\"colab-df-container\">\n",
       "      <div>\n",
       "<style scoped>\n",
       "    .dataframe tbody tr th:only-of-type {\n",
       "        vertical-align: middle;\n",
       "    }\n",
       "\n",
       "    .dataframe tbody tr th {\n",
       "        vertical-align: top;\n",
       "    }\n",
       "\n",
       "    .dataframe thead th {\n",
       "        text-align: right;\n",
       "    }\n",
       "</style>\n",
       "<table border=\"1\" class=\"dataframe\">\n",
       "  <thead>\n",
       "    <tr style=\"text-align: right;\">\n",
       "      <th></th>\n",
       "      <th>text</th>\n",
       "      <th>emotions</th>\n",
       "    </tr>\n",
       "  </thead>\n",
       "  <tbody>\n",
       "    <tr>\n",
       "      <th>0</th>\n",
       "      <td>i feel more confident in identifying my body i...</td>\n",
       "      <td>joy</td>\n",
       "    </tr>\n",
       "    <tr>\n",
       "      <th>1</th>\n",
       "      <td>i got stressed and feeling burden with my stud...</td>\n",
       "      <td>joy</td>\n",
       "    </tr>\n",
       "    <tr>\n",
       "      <th>2</th>\n",
       "      <td>Wow, it's so early. Just had the best conversa...</td>\n",
       "      <td>joy</td>\n",
       "    </tr>\n",
       "    <tr>\n",
       "      <th>3</th>\n",
       "      <td>@hermorrine Yeah I've noticed  I miss Spender....</td>\n",
       "      <td>fear</td>\n",
       "    </tr>\n",
       "    <tr>\n",
       "      <th>4</th>\n",
       "      <td>loves it that the first Monday of May is a Ban...</td>\n",
       "      <td>joy</td>\n",
       "    </tr>\n",
       "    <tr>\n",
       "      <th>...</th>\n",
       "      <td>...</td>\n",
       "      <td>...</td>\n",
       "    </tr>\n",
       "    <tr>\n",
       "      <th>12317</th>\n",
       "      <td>i feel a little pathetic that i cant shake off...</td>\n",
       "      <td>sadness</td>\n",
       "    </tr>\n",
       "    <tr>\n",
       "      <th>12318</th>\n",
       "      <td>it might be sunny today, but alas, new product...</td>\n",
       "      <td>fear</td>\n",
       "    </tr>\n",
       "    <tr>\n",
       "      <th>12319</th>\n",
       "      <td>@moodleman somehow I am going to have to figur...</td>\n",
       "      <td>joy</td>\n",
       "    </tr>\n",
       "    <tr>\n",
       "      <th>12320</th>\n",
       "      <td>i translated it just to feel like i was doing ...</td>\n",
       "      <td>joy</td>\n",
       "    </tr>\n",
       "    <tr>\n",
       "      <th>12321</th>\n",
       "      <td>is on cloud 20 minus 11, razzle dazzle in amaz...</td>\n",
       "      <td>anger</td>\n",
       "    </tr>\n",
       "  </tbody>\n",
       "</table>\n",
       "<p>12322 rows × 2 columns</p>\n",
       "</div>\n",
       "      <button class=\"colab-df-convert\" onclick=\"convertToInteractive('df-20582291-500f-4d6e-9e73-b9b75fd8a336')\"\n",
       "              title=\"Convert this dataframe to an interactive table.\"\n",
       "              style=\"display:none;\">\n",
       "        \n",
       "  <svg xmlns=\"http://www.w3.org/2000/svg\" height=\"24px\"viewBox=\"0 0 24 24\"\n",
       "       width=\"24px\">\n",
       "    <path d=\"M0 0h24v24H0V0z\" fill=\"none\"/>\n",
       "    <path d=\"M18.56 5.44l.94 2.06.94-2.06 2.06-.94-2.06-.94-.94-2.06-.94 2.06-2.06.94zm-11 1L8.5 8.5l.94-2.06 2.06-.94-2.06-.94L8.5 2.5l-.94 2.06-2.06.94zm10 10l.94 2.06.94-2.06 2.06-.94-2.06-.94-.94-2.06-.94 2.06-2.06.94z\"/><path d=\"M17.41 7.96l-1.37-1.37c-.4-.4-.92-.59-1.43-.59-.52 0-1.04.2-1.43.59L10.3 9.45l-7.72 7.72c-.78.78-.78 2.05 0 2.83L4 21.41c.39.39.9.59 1.41.59.51 0 1.02-.2 1.41-.59l7.78-7.78 2.81-2.81c.8-.78.8-2.07 0-2.86zM5.41 20L4 18.59l7.72-7.72 1.47 1.35L5.41 20z\"/>\n",
       "  </svg>\n",
       "      </button>\n",
       "      \n",
       "  <style>\n",
       "    .colab-df-container {\n",
       "      display:flex;\n",
       "      flex-wrap:wrap;\n",
       "      gap: 12px;\n",
       "    }\n",
       "\n",
       "    .colab-df-convert {\n",
       "      background-color: #E8F0FE;\n",
       "      border: none;\n",
       "      border-radius: 50%;\n",
       "      cursor: pointer;\n",
       "      display: none;\n",
       "      fill: #1967D2;\n",
       "      height: 32px;\n",
       "      padding: 0 0 0 0;\n",
       "      width: 32px;\n",
       "    }\n",
       "\n",
       "    .colab-df-convert:hover {\n",
       "      background-color: #E2EBFA;\n",
       "      box-shadow: 0px 1px 2px rgba(60, 64, 67, 0.3), 0px 1px 3px 1px rgba(60, 64, 67, 0.15);\n",
       "      fill: #174EA6;\n",
       "    }\n",
       "\n",
       "    [theme=dark] .colab-df-convert {\n",
       "      background-color: #3B4455;\n",
       "      fill: #D2E3FC;\n",
       "    }\n",
       "\n",
       "    [theme=dark] .colab-df-convert:hover {\n",
       "      background-color: #434B5C;\n",
       "      box-shadow: 0px 1px 3px 1px rgba(0, 0, 0, 0.15);\n",
       "      filter: drop-shadow(0px 1px 2px rgba(0, 0, 0, 0.3));\n",
       "      fill: #FFFFFF;\n",
       "    }\n",
       "  </style>\n",
       "\n",
       "      <script>\n",
       "        const buttonEl =\n",
       "          document.querySelector('#df-20582291-500f-4d6e-9e73-b9b75fd8a336 button.colab-df-convert');\n",
       "        buttonEl.style.display =\n",
       "          google.colab.kernel.accessAllowed ? 'block' : 'none';\n",
       "\n",
       "        async function convertToInteractive(key) {\n",
       "          const element = document.querySelector('#df-20582291-500f-4d6e-9e73-b9b75fd8a336');\n",
       "          const dataTable =\n",
       "            await google.colab.kernel.invokeFunction('convertToInteractive',\n",
       "                                                     [key], {});\n",
       "          if (!dataTable) return;\n",
       "\n",
       "          const docLinkHtml = 'Like what you see? Visit the ' +\n",
       "            '<a target=\"_blank\" href=https://colab.research.google.com/notebooks/data_table.ipynb>data table notebook</a>'\n",
       "            + ' to learn more about interactive tables.';\n",
       "          element.innerHTML = '';\n",
       "          dataTable['output_type'] = 'display_data';\n",
       "          await google.colab.output.renderOutput(dataTable, element);\n",
       "          const docLink = document.createElement('div');\n",
       "          docLink.innerHTML = docLinkHtml;\n",
       "          element.appendChild(docLink);\n",
       "        }\n",
       "      </script>\n",
       "    </div>\n",
       "  </div>\n",
       "  "
      ],
      "text/plain": [
       "                                                    text emotions\n",
       "0      i feel more confident in identifying my body i...      joy\n",
       "1      i got stressed and feeling burden with my stud...      joy\n",
       "2      Wow, it's so early. Just had the best conversa...      joy\n",
       "3      @hermorrine Yeah I've noticed  I miss Spender....     fear\n",
       "4      loves it that the first Monday of May is a Ban...      joy\n",
       "...                                                  ...      ...\n",
       "12317  i feel a little pathetic that i cant shake off...  sadness\n",
       "12318  it might be sunny today, but alas, new product...     fear\n",
       "12319  @moodleman somehow I am going to have to figur...      joy\n",
       "12320  i translated it just to feel like i was doing ...      joy\n",
       "12321  is on cloud 20 minus 11, razzle dazzle in amaz...    anger\n",
       "\n",
       "[12322 rows x 2 columns]"
      ]
     },
     "execution_count": 10,
     "metadata": {},
     "output_type": "execute_result"
    }
   ],
   "source": [
    "val_df"
   ]
  },
  {
   "cell_type": "code",
   "execution_count": 11,
   "metadata": {
    "colab": {
     "base_uri": "https://localhost:8080/",
     "height": 424
    },
    "executionInfo": {
     "elapsed": 6,
     "status": "ok",
     "timestamp": 1681013231497,
     "user": {
      "displayName": "Christian Montecillo",
      "userId": "02267957112746133644"
     },
     "user_tz": 360
    },
    "id": "TiJHw1f3cDIn",
    "outputId": "fd077453-3eb6-47bd-b86c-3bf1175dc96e"
   },
   "outputs": [
    {
     "data": {
      "text/html": [
       "\n",
       "  <div id=\"df-7106707b-7595-45c9-983a-26563b46f574\">\n",
       "    <div class=\"colab-df-container\">\n",
       "      <div>\n",
       "<style scoped>\n",
       "    .dataframe tbody tr th:only-of-type {\n",
       "        vertical-align: middle;\n",
       "    }\n",
       "\n",
       "    .dataframe tbody tr th {\n",
       "        vertical-align: top;\n",
       "    }\n",
       "\n",
       "    .dataframe thead th {\n",
       "        text-align: right;\n",
       "    }\n",
       "</style>\n",
       "<table border=\"1\" class=\"dataframe\">\n",
       "  <thead>\n",
       "    <tr style=\"text-align: right;\">\n",
       "      <th></th>\n",
       "      <th>text</th>\n",
       "      <th>emotions</th>\n",
       "    </tr>\n",
       "  </thead>\n",
       "  <tbody>\n",
       "    <tr>\n",
       "      <th>0</th>\n",
       "      <td>i will get at the heart of the matter that you...</td>\n",
       "      <td>anger</td>\n",
       "    </tr>\n",
       "    <tr>\n",
       "      <th>1</th>\n",
       "      <td>i still feel selfish about it at times</td>\n",
       "      <td>anger</td>\n",
       "    </tr>\n",
       "    <tr>\n",
       "      <th>2</th>\n",
       "      <td>i feel a sarcastic emptyness and void in my life</td>\n",
       "      <td>anger</td>\n",
       "    </tr>\n",
       "    <tr>\n",
       "      <th>3</th>\n",
       "      <td>overeating a traditional type of food blood pu...</td>\n",
       "      <td>anger</td>\n",
       "    </tr>\n",
       "    <tr>\n",
       "      <th>4</th>\n",
       "      <td>i just have this feeling that im going to be b...</td>\n",
       "      <td>anger</td>\n",
       "    </tr>\n",
       "    <tr>\n",
       "      <th>...</th>\n",
       "      <td>...</td>\n",
       "      <td>...</td>\n",
       "    </tr>\n",
       "    <tr>\n",
       "      <th>6015</th>\n",
       "      <td>i am giving myself permission to feel funny aga</td>\n",
       "      <td>surprise</td>\n",
       "    </tr>\n",
       "    <tr>\n",
       "      <th>6016</th>\n",
       "      <td>i feel shocked angry confused</td>\n",
       "      <td>surprise</td>\n",
       "    </tr>\n",
       "    <tr>\n",
       "      <th>6017</th>\n",
       "      <td>im writing this blog post and feeling totally ...</td>\n",
       "      <td>surprise</td>\n",
       "    </tr>\n",
       "    <tr>\n",
       "      <th>6018</th>\n",
       "      <td>i feel this for all my grandchildren and with ...</td>\n",
       "      <td>surprise</td>\n",
       "    </tr>\n",
       "    <tr>\n",
       "      <th>6019</th>\n",
       "      <td>i think that s the prevailing feeling with all...</td>\n",
       "      <td>surprise</td>\n",
       "    </tr>\n",
       "  </tbody>\n",
       "</table>\n",
       "<p>6020 rows × 2 columns</p>\n",
       "</div>\n",
       "      <button class=\"colab-df-convert\" onclick=\"convertToInteractive('df-7106707b-7595-45c9-983a-26563b46f574')\"\n",
       "              title=\"Convert this dataframe to an interactive table.\"\n",
       "              style=\"display:none;\">\n",
       "        \n",
       "  <svg xmlns=\"http://www.w3.org/2000/svg\" height=\"24px\"viewBox=\"0 0 24 24\"\n",
       "       width=\"24px\">\n",
       "    <path d=\"M0 0h24v24H0V0z\" fill=\"none\"/>\n",
       "    <path d=\"M18.56 5.44l.94 2.06.94-2.06 2.06-.94-2.06-.94-.94-2.06-.94 2.06-2.06.94zm-11 1L8.5 8.5l.94-2.06 2.06-.94-2.06-.94L8.5 2.5l-.94 2.06-2.06.94zm10 10l.94 2.06.94-2.06 2.06-.94-2.06-.94-.94-2.06-.94 2.06-2.06.94z\"/><path d=\"M17.41 7.96l-1.37-1.37c-.4-.4-.92-.59-1.43-.59-.52 0-1.04.2-1.43.59L10.3 9.45l-7.72 7.72c-.78.78-.78 2.05 0 2.83L4 21.41c.39.39.9.59 1.41.59.51 0 1.02-.2 1.41-.59l7.78-7.78 2.81-2.81c.8-.78.8-2.07 0-2.86zM5.41 20L4 18.59l7.72-7.72 1.47 1.35L5.41 20z\"/>\n",
       "  </svg>\n",
       "      </button>\n",
       "      \n",
       "  <style>\n",
       "    .colab-df-container {\n",
       "      display:flex;\n",
       "      flex-wrap:wrap;\n",
       "      gap: 12px;\n",
       "    }\n",
       "\n",
       "    .colab-df-convert {\n",
       "      background-color: #E8F0FE;\n",
       "      border: none;\n",
       "      border-radius: 50%;\n",
       "      cursor: pointer;\n",
       "      display: none;\n",
       "      fill: #1967D2;\n",
       "      height: 32px;\n",
       "      padding: 0 0 0 0;\n",
       "      width: 32px;\n",
       "    }\n",
       "\n",
       "    .colab-df-convert:hover {\n",
       "      background-color: #E2EBFA;\n",
       "      box-shadow: 0px 1px 2px rgba(60, 64, 67, 0.3), 0px 1px 3px 1px rgba(60, 64, 67, 0.15);\n",
       "      fill: #174EA6;\n",
       "    }\n",
       "\n",
       "    [theme=dark] .colab-df-convert {\n",
       "      background-color: #3B4455;\n",
       "      fill: #D2E3FC;\n",
       "    }\n",
       "\n",
       "    [theme=dark] .colab-df-convert:hover {\n",
       "      background-color: #434B5C;\n",
       "      box-shadow: 0px 1px 3px 1px rgba(0, 0, 0, 0.15);\n",
       "      filter: drop-shadow(0px 1px 2px rgba(0, 0, 0, 0.3));\n",
       "      fill: #FFFFFF;\n",
       "    }\n",
       "  </style>\n",
       "\n",
       "      <script>\n",
       "        const buttonEl =\n",
       "          document.querySelector('#df-7106707b-7595-45c9-983a-26563b46f574 button.colab-df-convert');\n",
       "        buttonEl.style.display =\n",
       "          google.colab.kernel.accessAllowed ? 'block' : 'none';\n",
       "\n",
       "        async function convertToInteractive(key) {\n",
       "          const element = document.querySelector('#df-7106707b-7595-45c9-983a-26563b46f574');\n",
       "          const dataTable =\n",
       "            await google.colab.kernel.invokeFunction('convertToInteractive',\n",
       "                                                     [key], {});\n",
       "          if (!dataTable) return;\n",
       "\n",
       "          const docLinkHtml = 'Like what you see? Visit the ' +\n",
       "            '<a target=\"_blank\" href=https://colab.research.google.com/notebooks/data_table.ipynb>data table notebook</a>'\n",
       "            + ' to learn more about interactive tables.';\n",
       "          element.innerHTML = '';\n",
       "          dataTable['output_type'] = 'display_data';\n",
       "          await google.colab.output.renderOutput(dataTable, element);\n",
       "          const docLink = document.createElement('div');\n",
       "          docLink.innerHTML = docLinkHtml;\n",
       "          element.appendChild(docLink);\n",
       "        }\n",
       "      </script>\n",
       "    </div>\n",
       "  </div>\n",
       "  "
      ],
      "text/plain": [
       "                                                   text  emotions\n",
       "0     i will get at the heart of the matter that you...     anger\n",
       "1                i still feel selfish about it at times     anger\n",
       "2      i feel a sarcastic emptyness and void in my life     anger\n",
       "3     overeating a traditional type of food blood pu...     anger\n",
       "4     i just have this feeling that im going to be b...     anger\n",
       "...                                                 ...       ...\n",
       "6015    i am giving myself permission to feel funny aga  surprise\n",
       "6016                      i feel shocked angry confused  surprise\n",
       "6017  im writing this blog post and feeling totally ...  surprise\n",
       "6018  i feel this for all my grandchildren and with ...  surprise\n",
       "6019  i think that s the prevailing feeling with all...  surprise\n",
       "\n",
       "[6020 rows x 2 columns]"
      ]
     },
     "execution_count": 11,
     "metadata": {},
     "output_type": "execute_result"
    }
   ],
   "source": [
    "balanced_test_df"
   ]
  },
  {
   "cell_type": "markdown",
   "metadata": {
    "id": "6IFXAvHAcWhN"
   },
   "source": [
    "***\n",
    "## 2 Tokenizer"
   ]
  },
  {
   "cell_type": "markdown",
   "metadata": {
    "id": "s4tMqwk8mRsF"
   },
   "source": [
    "### Find the top word count (frequency > 10)\n",
    "We'll use this number as our vocabulary size"
   ]
  },
  {
   "cell_type": "code",
   "execution_count": 12,
   "metadata": {
    "colab": {
     "base_uri": "https://localhost:8080/",
     "height": 424
    },
    "executionInfo": {
     "elapsed": 484,
     "status": "ok",
     "timestamp": 1681013231976,
     "user": {
      "displayName": "Christian Montecillo",
      "userId": "02267957112746133644"
     },
     "user_tz": 360
    },
    "id": "WboHk47gn6Mm",
    "outputId": "00900e65-db55-4716-f98d-131d0be3709b"
   },
   "outputs": [
    {
     "data": {
      "text/html": [
       "\n",
       "  <div id=\"df-5270da60-a66a-4979-b624-6bd98e545a60\">\n",
       "    <div class=\"colab-df-container\">\n",
       "      <div>\n",
       "<style scoped>\n",
       "    .dataframe tbody tr th:only-of-type {\n",
       "        vertical-align: middle;\n",
       "    }\n",
       "\n",
       "    .dataframe tbody tr th {\n",
       "        vertical-align: top;\n",
       "    }\n",
       "\n",
       "    .dataframe thead th {\n",
       "        text-align: right;\n",
       "    }\n",
       "</style>\n",
       "<table border=\"1\" class=\"dataframe\">\n",
       "  <thead>\n",
       "    <tr style=\"text-align: right;\">\n",
       "      <th></th>\n",
       "      <th>words</th>\n",
       "      <th>count</th>\n",
       "    </tr>\n",
       "  </thead>\n",
       "  <tbody>\n",
       "    <tr>\n",
       "      <th>0</th>\n",
       "      <td>!</td>\n",
       "      <td>86</td>\n",
       "    </tr>\n",
       "    <tr>\n",
       "      <th>1</th>\n",
       "      <td>!!</td>\n",
       "      <td>25</td>\n",
       "    </tr>\n",
       "    <tr>\n",
       "      <th>2</th>\n",
       "      <td>!!!</td>\n",
       "      <td>23</td>\n",
       "    </tr>\n",
       "    <tr>\n",
       "      <th>3</th>\n",
       "      <td>!!!!</td>\n",
       "      <td>6</td>\n",
       "    </tr>\n",
       "    <tr>\n",
       "      <th>4</th>\n",
       "      <td>!!!!!</td>\n",
       "      <td>2</td>\n",
       "    </tr>\n",
       "    <tr>\n",
       "      <th>...</th>\n",
       "      <td>...</td>\n",
       "      <td>...</td>\n",
       "    </tr>\n",
       "    <tr>\n",
       "      <th>35932</th>\n",
       "      <td>ï¿½anisalovesu</td>\n",
       "      <td>1</td>\n",
       "    </tr>\n",
       "    <tr>\n",
       "      <th>35933</th>\n",
       "      <td>ï¿½o_0ï¿½*giggles*ï¿½who</td>\n",
       "      <td>1</td>\n",
       "    </tr>\n",
       "    <tr>\n",
       "      <th>35934</th>\n",
       "      <td>ï¿½ï¿½</td>\n",
       "      <td>1</td>\n",
       "    </tr>\n",
       "    <tr>\n",
       "      <th>35935</th>\n",
       "      <td>ï¿½ï¿½We</td>\n",
       "      <td>1</td>\n",
       "    </tr>\n",
       "    <tr>\n",
       "      <th>35936</th>\n",
       "      <td>ï¿½ï¿½h.</td>\n",
       "      <td>1</td>\n",
       "    </tr>\n",
       "  </tbody>\n",
       "</table>\n",
       "<p>35937 rows × 2 columns</p>\n",
       "</div>\n",
       "      <button class=\"colab-df-convert\" onclick=\"convertToInteractive('df-5270da60-a66a-4979-b624-6bd98e545a60')\"\n",
       "              title=\"Convert this dataframe to an interactive table.\"\n",
       "              style=\"display:none;\">\n",
       "        \n",
       "  <svg xmlns=\"http://www.w3.org/2000/svg\" height=\"24px\"viewBox=\"0 0 24 24\"\n",
       "       width=\"24px\">\n",
       "    <path d=\"M0 0h24v24H0V0z\" fill=\"none\"/>\n",
       "    <path d=\"M18.56 5.44l.94 2.06.94-2.06 2.06-.94-2.06-.94-.94-2.06-.94 2.06-2.06.94zm-11 1L8.5 8.5l.94-2.06 2.06-.94-2.06-.94L8.5 2.5l-.94 2.06-2.06.94zm10 10l.94 2.06.94-2.06 2.06-.94-2.06-.94-.94-2.06-.94 2.06-2.06.94z\"/><path d=\"M17.41 7.96l-1.37-1.37c-.4-.4-.92-.59-1.43-.59-.52 0-1.04.2-1.43.59L10.3 9.45l-7.72 7.72c-.78.78-.78 2.05 0 2.83L4 21.41c.39.39.9.59 1.41.59.51 0 1.02-.2 1.41-.59l7.78-7.78 2.81-2.81c.8-.78.8-2.07 0-2.86zM5.41 20L4 18.59l7.72-7.72 1.47 1.35L5.41 20z\"/>\n",
       "  </svg>\n",
       "      </button>\n",
       "      \n",
       "  <style>\n",
       "    .colab-df-container {\n",
       "      display:flex;\n",
       "      flex-wrap:wrap;\n",
       "      gap: 12px;\n",
       "    }\n",
       "\n",
       "    .colab-df-convert {\n",
       "      background-color: #E8F0FE;\n",
       "      border: none;\n",
       "      border-radius: 50%;\n",
       "      cursor: pointer;\n",
       "      display: none;\n",
       "      fill: #1967D2;\n",
       "      height: 32px;\n",
       "      padding: 0 0 0 0;\n",
       "      width: 32px;\n",
       "    }\n",
       "\n",
       "    .colab-df-convert:hover {\n",
       "      background-color: #E2EBFA;\n",
       "      box-shadow: 0px 1px 2px rgba(60, 64, 67, 0.3), 0px 1px 3px 1px rgba(60, 64, 67, 0.15);\n",
       "      fill: #174EA6;\n",
       "    }\n",
       "\n",
       "    [theme=dark] .colab-df-convert {\n",
       "      background-color: #3B4455;\n",
       "      fill: #D2E3FC;\n",
       "    }\n",
       "\n",
       "    [theme=dark] .colab-df-convert:hover {\n",
       "      background-color: #434B5C;\n",
       "      box-shadow: 0px 1px 3px 1px rgba(0, 0, 0, 0.15);\n",
       "      filter: drop-shadow(0px 1px 2px rgba(0, 0, 0, 0.3));\n",
       "      fill: #FFFFFF;\n",
       "    }\n",
       "  </style>\n",
       "\n",
       "      <script>\n",
       "        const buttonEl =\n",
       "          document.querySelector('#df-5270da60-a66a-4979-b624-6bd98e545a60 button.colab-df-convert');\n",
       "        buttonEl.style.display =\n",
       "          google.colab.kernel.accessAllowed ? 'block' : 'none';\n",
       "\n",
       "        async function convertToInteractive(key) {\n",
       "          const element = document.querySelector('#df-5270da60-a66a-4979-b624-6bd98e545a60');\n",
       "          const dataTable =\n",
       "            await google.colab.kernel.invokeFunction('convertToInteractive',\n",
       "                                                     [key], {});\n",
       "          if (!dataTable) return;\n",
       "\n",
       "          const docLinkHtml = 'Like what you see? Visit the ' +\n",
       "            '<a target=\"_blank\" href=https://colab.research.google.com/notebooks/data_table.ipynb>data table notebook</a>'\n",
       "            + ' to learn more about interactive tables.';\n",
       "          element.innerHTML = '';\n",
       "          dataTable['output_type'] = 'display_data';\n",
       "          await google.colab.output.renderOutput(dataTable, element);\n",
       "          const docLink = document.createElement('div');\n",
       "          docLink.innerHTML = docLinkHtml;\n",
       "          element.appendChild(docLink);\n",
       "        }\n",
       "      </script>\n",
       "    </div>\n",
       "  </div>\n",
       "  "
      ],
      "text/plain": [
       "                          words  count\n",
       "0                             !     86\n",
       "1                            !!     25\n",
       "2                           !!!     23\n",
       "3                          !!!!      6\n",
       "4                         !!!!!      2\n",
       "...                         ...    ...\n",
       "35932            ï¿½anisalovesu      1\n",
       "35933  ï¿½o_0ï¿½*giggles*ï¿½who      1\n",
       "35934                    ï¿½ï¿½      1\n",
       "35935                  ï¿½ï¿½We      1\n",
       "35936                  ï¿½ï¿½h.      1\n",
       "\n",
       "[35937 rows x 2 columns]"
      ]
     },
     "execution_count": 12,
     "metadata": {},
     "output_type": "execute_result"
    }
   ],
   "source": [
    "# Split the text column into a list of words\n",
    "words_df = train_df['text'].str.split().to_frame('words')\n",
    "\n",
    "# Explode the list of words into separate rows\n",
    "words_df = words_df.explode('words')\n",
    "\n",
    "# Group by the words and count their occurrences\n",
    "words_df = words_df.groupby('words').size().reset_index(name='count')\n",
    "words_df"
   ]
  },
  {
   "cell_type": "code",
   "execution_count": 13,
   "metadata": {
    "colab": {
     "base_uri": "https://localhost:8080/",
     "height": 424
    },
    "executionInfo": {
     "elapsed": 13,
     "status": "ok",
     "timestamp": 1681013231976,
     "user": {
      "displayName": "Christian Montecillo",
      "userId": "02267957112746133644"
     },
     "user_tz": 360
    },
    "id": "rjvGdb_erVyw",
    "outputId": "e6b5b76b-f818-4c80-a4ed-516e45f5463d"
   },
   "outputs": [
    {
     "data": {
      "text/html": [
       "\n",
       "  <div id=\"df-bd5520a1-c3ce-4b3f-9fcf-36a1470ebddf\">\n",
       "    <div class=\"colab-df-container\">\n",
       "      <div>\n",
       "<style scoped>\n",
       "    .dataframe tbody tr th:only-of-type {\n",
       "        vertical-align: middle;\n",
       "    }\n",
       "\n",
       "    .dataframe tbody tr th {\n",
       "        vertical-align: top;\n",
       "    }\n",
       "\n",
       "    .dataframe thead th {\n",
       "        text-align: right;\n",
       "    }\n",
       "</style>\n",
       "<table border=\"1\" class=\"dataframe\">\n",
       "  <thead>\n",
       "    <tr style=\"text-align: right;\">\n",
       "      <th></th>\n",
       "      <th>words</th>\n",
       "      <th>count</th>\n",
       "    </tr>\n",
       "  </thead>\n",
       "  <tbody>\n",
       "    <tr>\n",
       "      <th>22255</th>\n",
       "      <td>i</td>\n",
       "      <td>18947</td>\n",
       "    </tr>\n",
       "    <tr>\n",
       "      <th>33052</th>\n",
       "      <td>to</td>\n",
       "      <td>9415</td>\n",
       "    </tr>\n",
       "    <tr>\n",
       "      <th>32601</th>\n",
       "      <td>the</td>\n",
       "      <td>8528</td>\n",
       "    </tr>\n",
       "    <tr>\n",
       "      <th>12804</th>\n",
       "      <td>and</td>\n",
       "      <td>8166</td>\n",
       "    </tr>\n",
       "    <tr>\n",
       "      <th>19229</th>\n",
       "      <td>feel</td>\n",
       "      <td>7632</td>\n",
       "    </tr>\n",
       "    <tr>\n",
       "      <th>...</th>\n",
       "      <td>...</td>\n",
       "      <td>...</td>\n",
       "    </tr>\n",
       "    <tr>\n",
       "      <th>11929</th>\n",
       "      <td>Yay!</td>\n",
       "      <td>11</td>\n",
       "    </tr>\n",
       "    <tr>\n",
       "      <th>11939</th>\n",
       "      <td>Yeah</td>\n",
       "      <td>11</td>\n",
       "    </tr>\n",
       "    <tr>\n",
       "      <th>33107</th>\n",
       "      <td>today?</td>\n",
       "      <td>11</td>\n",
       "    </tr>\n",
       "    <tr>\n",
       "      <th>33085</th>\n",
       "      <td>today...</td>\n",
       "      <td>11</td>\n",
       "    </tr>\n",
       "    <tr>\n",
       "      <th>15190</th>\n",
       "      <td>causing</td>\n",
       "      <td>11</td>\n",
       "    </tr>\n",
       "  </tbody>\n",
       "</table>\n",
       "<p>2379 rows × 2 columns</p>\n",
       "</div>\n",
       "      <button class=\"colab-df-convert\" onclick=\"convertToInteractive('df-bd5520a1-c3ce-4b3f-9fcf-36a1470ebddf')\"\n",
       "              title=\"Convert this dataframe to an interactive table.\"\n",
       "              style=\"display:none;\">\n",
       "        \n",
       "  <svg xmlns=\"http://www.w3.org/2000/svg\" height=\"24px\"viewBox=\"0 0 24 24\"\n",
       "       width=\"24px\">\n",
       "    <path d=\"M0 0h24v24H0V0z\" fill=\"none\"/>\n",
       "    <path d=\"M18.56 5.44l.94 2.06.94-2.06 2.06-.94-2.06-.94-.94-2.06-.94 2.06-2.06.94zm-11 1L8.5 8.5l.94-2.06 2.06-.94-2.06-.94L8.5 2.5l-.94 2.06-2.06.94zm10 10l.94 2.06.94-2.06 2.06-.94-2.06-.94-.94-2.06-.94 2.06-2.06.94z\"/><path d=\"M17.41 7.96l-1.37-1.37c-.4-.4-.92-.59-1.43-.59-.52 0-1.04.2-1.43.59L10.3 9.45l-7.72 7.72c-.78.78-.78 2.05 0 2.83L4 21.41c.39.39.9.59 1.41.59.51 0 1.02-.2 1.41-.59l7.78-7.78 2.81-2.81c.8-.78.8-2.07 0-2.86zM5.41 20L4 18.59l7.72-7.72 1.47 1.35L5.41 20z\"/>\n",
       "  </svg>\n",
       "      </button>\n",
       "      \n",
       "  <style>\n",
       "    .colab-df-container {\n",
       "      display:flex;\n",
       "      flex-wrap:wrap;\n",
       "      gap: 12px;\n",
       "    }\n",
       "\n",
       "    .colab-df-convert {\n",
       "      background-color: #E8F0FE;\n",
       "      border: none;\n",
       "      border-radius: 50%;\n",
       "      cursor: pointer;\n",
       "      display: none;\n",
       "      fill: #1967D2;\n",
       "      height: 32px;\n",
       "      padding: 0 0 0 0;\n",
       "      width: 32px;\n",
       "    }\n",
       "\n",
       "    .colab-df-convert:hover {\n",
       "      background-color: #E2EBFA;\n",
       "      box-shadow: 0px 1px 2px rgba(60, 64, 67, 0.3), 0px 1px 3px 1px rgba(60, 64, 67, 0.15);\n",
       "      fill: #174EA6;\n",
       "    }\n",
       "\n",
       "    [theme=dark] .colab-df-convert {\n",
       "      background-color: #3B4455;\n",
       "      fill: #D2E3FC;\n",
       "    }\n",
       "\n",
       "    [theme=dark] .colab-df-convert:hover {\n",
       "      background-color: #434B5C;\n",
       "      box-shadow: 0px 1px 3px 1px rgba(0, 0, 0, 0.15);\n",
       "      filter: drop-shadow(0px 1px 2px rgba(0, 0, 0, 0.3));\n",
       "      fill: #FFFFFF;\n",
       "    }\n",
       "  </style>\n",
       "\n",
       "      <script>\n",
       "        const buttonEl =\n",
       "          document.querySelector('#df-bd5520a1-c3ce-4b3f-9fcf-36a1470ebddf button.colab-df-convert');\n",
       "        buttonEl.style.display =\n",
       "          google.colab.kernel.accessAllowed ? 'block' : 'none';\n",
       "\n",
       "        async function convertToInteractive(key) {\n",
       "          const element = document.querySelector('#df-bd5520a1-c3ce-4b3f-9fcf-36a1470ebddf');\n",
       "          const dataTable =\n",
       "            await google.colab.kernel.invokeFunction('convertToInteractive',\n",
       "                                                     [key], {});\n",
       "          if (!dataTable) return;\n",
       "\n",
       "          const docLinkHtml = 'Like what you see? Visit the ' +\n",
       "            '<a target=\"_blank\" href=https://colab.research.google.com/notebooks/data_table.ipynb>data table notebook</a>'\n",
       "            + ' to learn more about interactive tables.';\n",
       "          element.innerHTML = '';\n",
       "          dataTable['output_type'] = 'display_data';\n",
       "          await google.colab.output.renderOutput(dataTable, element);\n",
       "          const docLink = document.createElement('div');\n",
       "          docLink.innerHTML = docLinkHtml;\n",
       "          element.appendChild(docLink);\n",
       "        }\n",
       "      </script>\n",
       "    </div>\n",
       "  </div>\n",
       "  "
      ],
      "text/plain": [
       "          words  count\n",
       "22255         i  18947\n",
       "33052        to   9415\n",
       "32601       the   8528\n",
       "12804       and   8166\n",
       "19229      feel   7632\n",
       "...         ...    ...\n",
       "11929      Yay!     11\n",
       "11939      Yeah     11\n",
       "33107    today?     11\n",
       "33085  today...     11\n",
       "15190   causing     11\n",
       "\n",
       "[2379 rows x 2 columns]"
      ]
     },
     "execution_count": 13,
     "metadata": {},
     "output_type": "execute_result"
    }
   ],
   "source": [
    "# find the words with 'count' > 10\n",
    "condition = words_df['count'] > 10\n",
    "\n",
    "# sort the words based on count\n",
    "new_words_df = words_df[condition].sort_values('count', ascending=False)\n",
    "new_words_df"
   ]
  },
  {
   "cell_type": "code",
   "execution_count": 14,
   "metadata": {
    "colab": {
     "base_uri": "https://localhost:8080/"
    },
    "executionInfo": {
     "elapsed": 11,
     "status": "ok",
     "timestamp": 1681013231977,
     "user": {
      "displayName": "Christian Montecillo",
      "userId": "02267957112746133644"
     },
     "user_tz": 360
    },
    "id": "RJehRAE2zWhl",
    "outputId": "816d5286-ec3a-465c-abd4-555d1c9481e0"
   },
   "outputs": [
    {
     "name": "stdout",
     "output_type": "stream",
     "text": [
      "Vocabulary size: 2379\n"
     ]
    }
   ],
   "source": [
    "# how many words are > 10?\n",
    "top_word_count = len(new_words_df)\n",
    "print('Vocabulary size:', top_word_count)"
   ]
  },
  {
   "cell_type": "markdown",
   "metadata": {
    "id": "GSm2HlDyzZ8_"
   },
   "source": [
    "### Let's tokenize the train tweets!"
   ]
  },
  {
   "cell_type": "code",
   "execution_count": 15,
   "metadata": {
    "executionInfo": {
     "elapsed": 7475,
     "status": "ok",
     "timestamp": 1681013239555,
     "user": {
      "displayName": "Christian Montecillo",
      "userId": "02267957112746133644"
     },
     "user_tz": 360
    },
    "id": "gCxK46QPyoe1"
   },
   "outputs": [],
   "source": [
    "from tensorflow.keras.preprocessing.text import Tokenizer"
   ]
  },
  {
   "cell_type": "code",
   "execution_count": 16,
   "metadata": {
    "executionInfo": {
     "elapsed": 848,
     "status": "ok",
     "timestamp": 1681013240400,
     "user": {
      "displayName": "Christian Montecillo",
      "userId": "02267957112746133644"
     },
     "user_tz": 360
    },
    "id": "5bs47LbLwBl4"
   },
   "outputs": [],
   "source": [
    "tokenizer = Tokenizer(num_words=top_word_count, oov_token='<UNK>')\n",
    "tokenizer.fit_on_texts(train_df['text']) # pass in tweets from training set"
   ]
  },
  {
   "cell_type": "code",
   "execution_count": 17,
   "metadata": {
    "colab": {
     "base_uri": "https://localhost:8080/",
     "height": 36
    },
    "executionInfo": {
     "elapsed": 10,
     "status": "ok",
     "timestamp": 1681013240402,
     "user": {
      "displayName": "Christian Montecillo",
      "userId": "02267957112746133644"
     },
     "user_tz": 360
    },
    "id": "DPD0Tjjuy0Ko",
    "outputId": "24f3ba2b-2681-4132-fc23-2f2aeb85f36c"
   },
   "outputs": [
    {
     "data": {
      "application/vnd.google.colaboratory.intrinsic+json": {
       "type": "string"
      },
      "text/plain": [
       "'i forget that especially when i feel lost and scared and dont trust that i have light within me'"
      ]
     },
     "execution_count": 17,
     "metadata": {},
     "output_type": "execute_result"
    }
   ],
   "source": [
    "# this is what the tweet looks like as words\n",
    "train_df['text'][0]"
   ]
  },
  {
   "cell_type": "code",
   "execution_count": 18,
   "metadata": {
    "colab": {
     "base_uri": "https://localhost:8080/"
    },
    "executionInfo": {
     "elapsed": 9,
     "status": "ok",
     "timestamp": 1681013240403,
     "user": {
      "displayName": "Christian Montecillo",
      "userId": "02267957112746133644"
     },
     "user_tz": 360
    },
    "id": "yHPzHkTcye8y",
    "outputId": "39eda50f-25cb-4a17-a928-c7ff2c0546bc"
   },
   "outputs": [
    {
     "data": {
      "text/plain": [
       "[[2,\n",
       "  682,\n",
       "  10,\n",
       "  353,\n",
       "  35,\n",
       "  2,\n",
       "  6,\n",
       "  248,\n",
       "  5,\n",
       "  422,\n",
       "  5,\n",
       "  105,\n",
       "  1306,\n",
       "  10,\n",
       "  2,\n",
       "  19,\n",
       "  1035,\n",
       "  740,\n",
       "  17]]"
      ]
     },
     "execution_count": 18,
     "metadata": {},
     "output_type": "execute_result"
    }
   ],
   "source": [
    "# this is what the tokenized version of the tweet looks like\n",
    "tokenizer.texts_to_sequences([train_df['text'][0]])"
   ]
  },
  {
   "cell_type": "code",
   "execution_count": 19,
   "metadata": {
    "colab": {
     "base_uri": "https://localhost:8080/",
     "height": 468
    },
    "executionInfo": {
     "elapsed": 821,
     "status": "ok",
     "timestamp": 1681013241342,
     "user": {
      "displayName": "Christian Montecillo",
      "userId": "02267957112746133644"
     },
     "user_tz": 360
    },
    "id": "NtdXLYGFjcPO",
    "outputId": "bc6450a3-a773-449d-9778-352783f65cff"
   },
   "outputs": [
    {
     "data": {
      "text/plain": [
       "Text(0, 0.5, 'Frequency')"
      ]
     },
     "execution_count": 19,
     "metadata": {},
     "output_type": "execute_result"
    },
    {
     "data": {
      "image/png": "[encoded data removed]",
      "text/plain": [
       "<Figure size 640x480 with 1 Axes>"
      ]
     },
     "metadata": {},
     "output_type": "display_data"
    }
   ],
   "source": [
    "import matplotlib.pyplot as plt\n",
    "\n",
    "# check to see what lenghts of the tweets in the dataset\n",
    "lengths = [len(t.split(' ')) for t in train_df['text']]\n",
    "plt.hist(lengths, bins=len(set(lengths)))\n",
    "plt.xlabel('Tweet Length')\n",
    "plt.ylabel('Frequency')"
   ]
  },
  {
   "cell_type": "code",
   "execution_count": 20,
   "metadata": {
    "colab": {
     "base_uri": "https://localhost:8080/"
    },
    "executionInfo": {
     "elapsed": 218,
     "status": "ok",
     "timestamp": 1681013241559,
     "user": {
      "displayName": "Christian Montecillo",
      "userId": "02267957112746133644"
     },
     "user_tz": 360
    },
    "id": "Ht7mWyXS18Sd",
    "outputId": "83d6bc00-c0ff-4781-9748-1e7e383fff4b"
   },
   "outputs": [
    {
     "name": "stdout",
     "output_type": "stream",
     "text": [
      "Maximum word count: 74\n",
      "Minimum word count: 1\n",
      "Mean word count: 16.59806140523519\n",
      "Median word count: 15.0\n",
      "75th percentile word count: 22.0\n",
      "85th percentile word count: 26.0\n",
      "95th percentile word count: 35.0\n"
     ]
    }
   ],
   "source": [
    "import statistics\n",
    "\n",
    "# Apply the lambda function to the 'content' column and list called word_count_list'\n",
    "word_count_list = list(train_df['text'].apply(lambda x: len(x.split(' '))))\n",
    "\n",
    "# display the maximum and minimum lengths\n",
    "print('Maximum word count:', max(word_count_list))\n",
    "print('Minimum word count:', min(word_count_list))\n",
    "print('Mean word count:', statistics.mean(word_count_list))\n",
    "print('Median word count:', statistics.median(word_count_list))\n",
    "print('75th percentile word count:', np.percentile(word_count_list, 75))\n",
    "print('85th percentile word count:', np.percentile(word_count_list, 85))\n",
    "print('95th percentile word count:', np.percentile(word_count_list, 95))"
   ]
  },
  {
   "cell_type": "markdown",
   "metadata": {
    "id": "G9ZVTKh01wGa"
   },
   "source": [
    "The max number of words is 101. We ultimately decided that we are going to keep all the words in the tweet. BERT can handle more than 200 so setting max_len = 200"
   ]
  },
  {
   "cell_type": "markdown",
   "metadata": {
    "id": "59O4aXaA0ljh"
   },
   "source": [
    "***\n",
    "## 3 Padding and truncating the training data sequences to make sure that the shape is the same for each string."
   ]
  },
  {
   "cell_type": "code",
   "execution_count": 21,
   "metadata": {
    "executionInfo": {
     "elapsed": 72,
     "status": "ok",
     "timestamp": 1681013241629,
     "user": {
      "displayName": "Christian Montecillo",
      "userId": "02267957112746133644"
     },
     "user_tz": 360
    },
    "id": "Y715X4Xg0zSg"
   },
   "outputs": [],
   "source": [
    "from tensorflow.keras.preprocessing.sequence import pad_sequences"
   ]
  },
  {
   "cell_type": "code",
   "execution_count": 22,
   "metadata": {
    "executionInfo": {
     "elapsed": 5,
     "status": "ok",
     "timestamp": 1681013241630,
     "user": {
      "displayName": "Christian Montecillo",
      "userId": "02267957112746133644"
     },
     "user_tz": 360
    },
    "id": "iEuNYWMScWhY"
   },
   "outputs": [],
   "source": [
    "max_len = 200 # set the largest tweet size, >200 words -> truncate, <200 words -> pad\n",
    "\n",
    "def get_sequences(tokenizer, tweets):\n",
    "  sequences = tokenizer.texts_to_sequences(tweets)\n",
    "  padded = pad_sequences(sequences, truncating='post', padding='post', maxlen=max_len) # truncating happens at the end of the sequence (post)\n",
    "  return padded # all examples will be the returned with same input size"
   ]
  },
  {
   "cell_type": "code",
   "execution_count": 23,
   "metadata": {
    "colab": {
     "base_uri": "https://localhost:8080/"
    },
    "executionInfo": {
     "elapsed": 1010,
     "status": "ok",
     "timestamp": 1681013242636,
     "user": {
      "displayName": "Christian Montecillo",
      "userId": "02267957112746133644"
     },
     "user_tz": 360
    },
    "id": "V2CMHoto0plB",
    "outputId": "340c12ac-702e-461b-de4a-6c6ca0eaafae"
   },
   "outputs": [
    {
     "data": {
      "text/plain": [
       "array([   2,  682,   10,  353,   35,    2,    6,  248,    5,  422,    5,\n",
       "        105, 1306,   10,    2,   19, 1035,  740,   17,    0,    0,    0,\n",
       "          0,    0,    0,    0,    0,    0,    0,    0,    0,    0,    0,\n",
       "          0,    0,    0,    0,    0,    0,    0,    0,    0,    0,    0,\n",
       "          0,    0,    0,    0,    0,    0,    0,    0,    0,    0,    0,\n",
       "          0,    0,    0,    0,    0,    0,    0,    0,    0,    0,    0,\n",
       "          0,    0,    0,    0,    0,    0,    0,    0,    0,    0,    0,\n",
       "          0,    0,    0,    0,    0,    0,    0,    0,    0,    0,    0,\n",
       "          0,    0,    0,    0,    0,    0,    0,    0,    0,    0,    0,\n",
       "          0,    0,    0,    0,    0,    0,    0,    0,    0,    0,    0,\n",
       "          0,    0,    0,    0,    0,    0,    0,    0,    0,    0,    0,\n",
       "          0,    0,    0,    0,    0,    0,    0,    0,    0,    0,    0,\n",
       "          0,    0,    0,    0,    0,    0,    0,    0,    0,    0,    0,\n",
       "          0,    0,    0,    0,    0,    0,    0,    0,    0,    0,    0,\n",
       "          0,    0,    0,    0,    0,    0,    0,    0,    0,    0,    0,\n",
       "          0,    0,    0,    0,    0,    0,    0,    0,    0,    0,    0,\n",
       "          0,    0,    0,    0,    0,    0,    0,    0,    0,    0,    0,\n",
       "          0,    0,    0,    0,    0,    0,    0,    0,    0,    0,    0,\n",
       "          0,    0], dtype=int32)"
      ]
     },
     "execution_count": 23,
     "metadata": {},
     "output_type": "execute_result"
    }
   ],
   "source": [
    "padded_train_seq = get_sequences(tokenizer, train_df['text'])\n",
    "padded_train_seq[0]"
   ]
  },
  {
   "cell_type": "markdown",
   "metadata": {
    "id": "wAVdCL7s2YA6"
   },
   "source": [
    "***\n",
    "## 4 Convert labels to numeric"
   ]
  },
  {
   "cell_type": "markdown",
   "metadata": {
    "id": "cjoAOp23ROll"
   },
   "source": [
    "### Function to convert text labels to numeric (reuse for all datasets)"
   ]
  },
  {
   "cell_type": "code",
   "execution_count": 24,
   "metadata": {
    "colab": {
     "base_uri": "https://localhost:8080/"
    },
    "executionInfo": {
     "elapsed": 13,
     "status": "ok",
     "timestamp": 1681013242636,
     "user": {
      "displayName": "Christian Montecillo",
      "userId": "02267957112746133644"
     },
     "user_tz": 360
    },
    "id": "Fz-HIqgg9WTn",
    "outputId": "3aa0812a-80dd-4a04-9ee2-7f92761ae557"
   },
   "outputs": [
    {
     "data": {
      "text/plain": [
       "{'sadness': 0,\n",
       " 'anger': 1,\n",
       " 'fear': 2,\n",
       " 'surprise': 3,\n",
       " 'joy': 4,\n",
       " 'love': 5,\n",
       " 'neutral': 6}"
      ]
     },
     "execution_count": 24,
     "metadata": {},
     "output_type": "execute_result"
    }
   ],
   "source": [
    "# keeping this consistent for all models\n",
    "class_to_index_dict = {'sadness': 0, 'anger': 1, 'fear': 2, 'surprise': 3, 'joy': 4, 'love': 5, 'neutral': 6}\n",
    "class_to_index_dict"
   ]
  },
  {
   "cell_type": "code",
   "execution_count": 25,
   "metadata": {
    "executionInfo": {
     "elapsed": 6,
     "status": "ok",
     "timestamp": 1681013242637,
     "user": {
      "displayName": "Christian Montecillo",
      "userId": "02267957112746133644"
     },
     "user_tz": 360
    },
    "id": "LshrgGmE3Vw1"
   },
   "outputs": [],
   "source": [
    "def names_to_ids(class_to_index, data):\n",
    "  return np.array([class_to_index.get(x) for x in data])"
   ]
  },
  {
   "cell_type": "code",
   "execution_count": 26,
   "metadata": {
    "colab": {
     "base_uri": "https://localhost:8080/"
    },
    "executionInfo": {
     "elapsed": 8,
     "status": "ok",
     "timestamp": 1681013242745,
     "user": {
      "displayName": "Christian Montecillo",
      "userId": "02267957112746133644"
     },
     "user_tz": 360
    },
    "id": "6EKQbC433hL-",
    "outputId": "a7bd7c51-f9f0-4da7-aea0-f41cf08db205"
   },
   "outputs": [
    {
     "name": "stdout",
     "output_type": "stream",
     "text": [
      "train_df.iloc[7]:\n",
      " text        i am so happy we have reached the point where ...\n",
      "emotions                                                  joy\n",
      "Name: 7, dtype: object\n",
      "numeric label: 4\n"
     ]
    }
   ],
   "source": [
    "# confirming if it worked (change index) and they should line up with above dict\n",
    "index = 7\n",
    "train_labels = names_to_ids(class_to_index_dict, train_df['emotions'])\n",
    "print('train_df.iloc[7]:\\n', train_df.iloc[index])\n",
    "print('numeric label:', train_labels[index])"
   ]
  },
  {
   "cell_type": "markdown",
   "metadata": {
    "id": "JqCOVtUd5SN1"
   },
   "source": [
    "***\n",
    "## 5 Create the model"
   ]
  },
  {
   "cell_type": "code",
   "execution_count": 27,
   "metadata": {
    "colab": {
     "base_uri": "https://localhost:8080/"
    },
    "executionInfo": {
     "elapsed": 7,
     "status": "ok",
     "timestamp": 1681013242746,
     "user": {
      "displayName": "Christian Montecillo",
      "userId": "02267957112746133644"
     },
     "user_tz": 360
    },
    "id": "0x19MiiQ5s7S",
    "outputId": "421c21ff-8b64-49db-fd41-ca80d09ad357"
   },
   "outputs": [
    {
     "name": "stdout",
     "output_type": "stream",
     "text": [
      "Using TensorFlow version 2.12.0\n"
     ]
    }
   ],
   "source": [
    "%matplotlib inline\n",
    "\n",
    "import tensorflow as tf\n",
    "import matplotlib.pyplot as plt\n",
    "import random\n",
    "\n",
    "def show_history(h):\n",
    "    epochs_trained = len(h.history['loss'])\n",
    "    plt.figure(figsize=(16, 6))\n",
    "\n",
    "    plt.subplot(1, 2, 1)\n",
    "    plt.plot(range(0, epochs_trained), h.history.get('accuracy'), label='Training')\n",
    "    plt.plot(range(0, epochs_trained), h.history.get('val_accuracy'), label='Validation')\n",
    "    plt.ylim([0., 1.])\n",
    "    plt.xlabel('Epochs')\n",
    "    plt.ylabel('Accuracy')\n",
    "    plt.legend()\n",
    "\n",
    "    plt.subplot(1, 2, 2)\n",
    "    plt.plot(range(0, epochs_trained), h.history.get('loss'), label='Training')\n",
    "    plt.plot(range(0, epochs_trained), h.history.get('val_loss'), label='Validation')\n",
    "    plt.xlabel('Epochs')\n",
    "    plt.ylabel('Loss')\n",
    "    plt.legend()\n",
    "    plt.show()\n",
    "    \n",
    "print('Using TensorFlow version', tf.__version__)"
   ]
  },
  {
   "cell_type": "code",
   "execution_count": 64,
   "metadata": {
    "colab": {
     "base_uri": "https://localhost:8080/"
    },
    "executionInfo": {
     "elapsed": 115,
     "status": "ok",
     "timestamp": 1681013499260,
     "user": {
      "displayName": "Christian Montecillo",
      "userId": "02267957112746133644"
     },
     "user_tz": 360
    },
    "id": "lLEciXZUsO0w",
    "outputId": "bc4452f6-01f8-45b9-ea12-00b2937e4c91"
   },
   "outputs": [
    {
     "name": "stdout",
     "output_type": "stream",
     "text": [
      "top_word_count: 2379\n",
      "max_len: 200\n"
     ]
    }
   ],
   "source": [
    "print('top_word_count:', top_word_count)\n",
    "print('max_len:', max_len)"
   ]
  },
  {
   "cell_type": "code",
   "execution_count": 65,
   "metadata": {
    "executionInfo": {
     "elapsed": 513,
     "status": "ok",
     "timestamp": 1681013499859,
     "user": {
      "displayName": "Christian Montecillo",
      "userId": "02267957112746133644"
     },
     "user_tz": 360
    },
    "id": "ZmbxOHXS5VoW"
   },
   "outputs": [],
   "source": [
    "# ref: https://machinelearningmastery.com/develop-bidirectional-lstm-sequence-classification-python-keras/\n",
    "# ref: https://analyticsindiamag.com/complete-guide-to-bidirectional-lstm-with-python-codes/\n",
    "# ref: https://stackoverflow.com/questions/40331510/how-to-stack-multiple-lstm-in-keras\n",
    "\n",
    "model = tf.keras.models.Sequential([\n",
    "    tf.keras.layers.Embedding(input_dim=8000, output_dim=8, input_length=max_len),\n",
    "    \n",
    "    # the RNN part of the model\n",
    "    # tf.keras.layers.Bidirectional(tf.keras.layers.LSTM(10, return_sequences=True)), # since using an LSTM layer inside a bidrectional layer, context can go in either direction; return_sequences=True means at every time step, there is an output\n",
    "    tf.keras.layers.Bidirectional(tf.keras.layers.LSTM(10, )),\n",
    "\n",
    "    tf.keras.layers.Dense(7, activation='softmax') # 7 for the seven classes\n",
    "\n",
    "])\n",
    "\n",
    "model.compile(\n",
    "    loss='sparse_categorical_crossentropy', # since this is a multiclass classification problem, use categorical crossentropy; since classes are integers (not one hot encoded/binary), use sparse (just like in A3)\n",
    "    optimizer='adam',\n",
    "    metrics=['accuracy']\n",
    ")"
   ]
  },
  {
   "cell_type": "code",
   "execution_count": 66,
   "metadata": {
    "colab": {
     "base_uri": "https://localhost:8080/"
    },
    "executionInfo": {
     "elapsed": 7,
     "status": "ok",
     "timestamp": 1681013499859,
     "user": {
      "displayName": "Christian Montecillo",
      "userId": "02267957112746133644"
     },
     "user_tz": 360
    },
    "id": "zsYrBdzP6lNv",
    "outputId": "e3cbe77b-a73b-48a2-b3e1-2fc2c7f0da67"
   },
   "outputs": [
    {
     "name": "stdout",
     "output_type": "stream",
     "text": [
      "Model: \"sequential_1\"\n",
      "_________________________________________________________________\n",
      " Layer (type)                Output Shape              Param #   \n",
      "=================================================================\n",
      " embedding_1 (Embedding)     (None, 200, 8)            64000     \n",
      "                                                                 \n",
      " bidirectional_1 (Bidirectio  (None, 20)               1520      \n",
      " nal)                                                            \n",
      "                                                                 \n",
      " dense_1 (Dense)             (None, 7)                 147       \n",
      "                                                                 \n",
      "=================================================================\n",
      "Total params: 65,667\n",
      "Trainable params: 65,667\n",
      "Non-trainable params: 0\n",
      "_________________________________________________________________\n"
     ]
    }
   ],
   "source": [
    "model.summary()"
   ]
  },
  {
   "cell_type": "markdown",
   "metadata": {
    "id": "idlS4gpC67sM"
   },
   "source": [
    "***\n",
    "## 6 Train the model"
   ]
  },
  {
   "cell_type": "markdown",
   "metadata": {
    "id": "lQQwKn13Qrm9"
   },
   "source": [
    "### Convert the labels of the validation set to numeric (just like the training set)"
   ]
  },
  {
   "cell_type": "code",
   "execution_count": 67,
   "metadata": {
    "colab": {
     "base_uri": "https://localhost:8080/"
    },
    "executionInfo": {
     "elapsed": 125,
     "status": "ok",
     "timestamp": 1681013499981,
     "user": {
      "displayName": "Christian Montecillo",
      "userId": "02267957112746133644"
     },
     "user_tz": 360
    },
    "id": "yNF1izoe_fPt",
    "outputId": "a72ae020-da32-44c4-8dc9-af534a382fb7"
   },
   "outputs": [
    {
     "data": {
      "text/plain": [
       "{'sadness': 0,\n",
       " 'anger': 1,\n",
       " 'fear': 2,\n",
       " 'surprise': 3,\n",
       " 'joy': 4,\n",
       " 'love': 5,\n",
       " 'neutral': 6}"
      ]
     },
     "execution_count": 67,
     "metadata": {},
     "output_type": "execute_result"
    }
   ],
   "source": [
    "# reminder of the class_to_index mapping\n",
    "class_to_index_dict"
   ]
  },
  {
   "cell_type": "code",
   "execution_count": 68,
   "metadata": {
    "executionInfo": {
     "elapsed": 189,
     "status": "ok",
     "timestamp": 1681013500168,
     "user": {
      "displayName": "Christian Montecillo",
      "userId": "02267957112746133644"
     },
     "user_tz": 360
    },
    "id": "bQmthZKy7B6A"
   },
   "outputs": [],
   "source": [
    "val_seq = get_sequences(tokenizer, val_df['text'])\n",
    "val_labels = names_to_ids(class_to_index_dict, val_df['emotions'])"
   ]
  },
  {
   "cell_type": "code",
   "execution_count": 69,
   "metadata": {
    "colab": {
     "base_uri": "https://localhost:8080/"
    },
    "executionInfo": {
     "elapsed": 7,
     "status": "ok",
     "timestamp": 1681013500168,
     "user": {
      "displayName": "Christian Montecillo",
      "userId": "02267957112746133644"
     },
     "user_tz": 360
    },
    "id": "b1KDU5Hi8IWQ",
    "outputId": "afd608e9-fb16-4a77-fff5-8fc239cd0a14"
   },
   "outputs": [
    {
     "data": {
      "text/plain": [
       "(array([   2,    6,   40,  485,   13,    1,    8,  392,   75, 2377,    5,\n",
       "         826,    0,    0,    0,    0,    0,    0,    0,    0,    0,    0,\n",
       "           0,    0,    0,    0,    0,    0,    0,    0,    0,    0,    0,\n",
       "           0,    0,    0,    0,    0,    0,    0,    0,    0,    0,    0,\n",
       "           0,    0,    0,    0,    0,    0,    0,    0,    0,    0,    0,\n",
       "           0,    0,    0,    0,    0,    0,    0,    0,    0,    0,    0,\n",
       "           0,    0,    0,    0,    0,    0,    0,    0,    0,    0,    0,\n",
       "           0,    0,    0,    0,    0,    0,    0,    0,    0,    0,    0,\n",
       "           0,    0,    0,    0,    0,    0,    0,    0,    0,    0,    0,\n",
       "           0,    0,    0,    0,    0,    0,    0,    0,    0,    0,    0,\n",
       "           0,    0,    0,    0,    0,    0,    0,    0,    0,    0,    0,\n",
       "           0,    0,    0,    0,    0,    0,    0,    0,    0,    0,    0,\n",
       "           0,    0,    0,    0,    0,    0,    0,    0,    0,    0,    0,\n",
       "           0,    0,    0,    0,    0,    0,    0,    0,    0,    0,    0,\n",
       "           0,    0,    0,    0,    0,    0,    0,    0,    0,    0,    0,\n",
       "           0,    0,    0,    0,    0,    0,    0,    0,    0,    0,    0,\n",
       "           0,    0,    0,    0,    0,    0,    0,    0,    0,    0,    0,\n",
       "           0,    0,    0,    0,    0,    0,    0,    0,    0,    0,    0,\n",
       "           0,    0], dtype=int32),\n",
       " 'i feel more confident in identifying my body its shape and space',\n",
       " 'joy')"
      ]
     },
     "execution_count": 69,
     "metadata": {},
     "output_type": "execute_result"
    }
   ],
   "source": [
    "# checking out the first input in validation sequence\n",
    "val_seq[0], val_df['text'][0], val_df['emotions'][0]"
   ]
  },
  {
   "cell_type": "code",
   "execution_count": 70,
   "metadata": {
    "colab": {
     "base_uri": "https://localhost:8080/"
    },
    "executionInfo": {
     "elapsed": 7,
     "status": "ok",
     "timestamp": 1681013500169,
     "user": {
      "displayName": "Christian Montecillo",
      "userId": "02267957112746133644"
     },
     "user_tz": 360
    },
    "id": "VCjxGzpW7rCT",
    "outputId": "9ef04adc-2766-4908-f5bf-2996cc6228e7"
   },
   "outputs": [
    {
     "name": "stdout",
     "output_type": "stream",
     "text": [
      "val_df.iloc[0]:\n",
      " text        i feel more confident in identifying my body i...\n",
      "emotions                                                  joy\n",
      "Name: 0, dtype: object\n",
      "numeric label: 4\n"
     ]
    }
   ],
   "source": [
    "print('val_df.iloc[0]:\\n', val_df.iloc[0])\n",
    "print('numeric label:', val_labels[0])"
   ]
  },
  {
   "cell_type": "markdown",
   "metadata": {
    "id": "RdCRJ_QdQ2B6"
   },
   "source": [
    "#### Check out the shape to make sure they're as expected"
   ]
  },
  {
   "cell_type": "code",
   "execution_count": 71,
   "metadata": {
    "colab": {
     "base_uri": "https://localhost:8080/"
    },
    "executionInfo": {
     "elapsed": 4,
     "status": "ok",
     "timestamp": 1681013500169,
     "user": {
      "displayName": "Christian Montecillo",
      "userId": "02267957112746133644"
     },
     "user_tz": 360
    },
    "id": "ynlY2BgkA7in",
    "outputId": "796606ec-4062-4daa-f753-a671336ecfcc"
   },
   "outputs": [
    {
     "data": {
      "text/plain": [
       "(20324, 200)"
      ]
     },
     "execution_count": 71,
     "metadata": {},
     "output_type": "execute_result"
    }
   ],
   "source": [
    "padded_train_seq.shape"
   ]
  },
  {
   "cell_type": "code",
   "execution_count": 72,
   "metadata": {
    "colab": {
     "base_uri": "https://localhost:8080/"
    },
    "executionInfo": {
     "elapsed": 11,
     "status": "ok",
     "timestamp": 1681013500279,
     "user": {
      "displayName": "Christian Montecillo",
      "userId": "02267957112746133644"
     },
     "user_tz": 360
    },
    "id": "Y5fiYZr7Bz0W",
    "outputId": "7cf3efa8-fb64-4ca0-e6c2-aa41ddad693b"
   },
   "outputs": [
    {
     "data": {
      "text/plain": [
       "(20324,)"
      ]
     },
     "execution_count": 72,
     "metadata": {},
     "output_type": "execute_result"
    }
   ],
   "source": [
    "train_labels.shape"
   ]
  },
  {
   "cell_type": "code",
   "execution_count": 73,
   "metadata": {
    "colab": {
     "base_uri": "https://localhost:8080/"
    },
    "executionInfo": {
     "elapsed": 11,
     "status": "ok",
     "timestamp": 1681013500280,
     "user": {
      "displayName": "Christian Montecillo",
      "userId": "02267957112746133644"
     },
     "user_tz": 360
    },
    "id": "Ht_KveuuB30e",
    "outputId": "3b0b649c-5569-44f6-bbe6-101ce5fd4b4a"
   },
   "outputs": [
    {
     "data": {
      "text/plain": [
       "(12322, 200)"
      ]
     },
     "execution_count": 73,
     "metadata": {},
     "output_type": "execute_result"
    }
   ],
   "source": [
    "val_seq.shape"
   ]
  },
  {
   "cell_type": "code",
   "execution_count": 74,
   "metadata": {
    "colab": {
     "base_uri": "https://localhost:8080/"
    },
    "executionInfo": {
     "elapsed": 9,
     "status": "ok",
     "timestamp": 1681013500280,
     "user": {
      "displayName": "Christian Montecillo",
      "userId": "02267957112746133644"
     },
     "user_tz": 360
    },
    "id": "jN1vULmpB6gE",
    "outputId": "a85456d2-4156-43ee-9695-20e3c001b86a"
   },
   "outputs": [
    {
     "data": {
      "text/plain": [
       "(12322,)"
      ]
     },
     "execution_count": 74,
     "metadata": {},
     "output_type": "execute_result"
    }
   ],
   "source": [
    "val_labels.shape"
   ]
  },
  {
   "cell_type": "markdown",
   "metadata": {
    "id": "yIzq6Av3QPt8"
   },
   "source": [
    "### From Natalie's Notebook\n",
    "https://github.com/datasci-w266/2023-spring-main/blob/master/materials/walkthrough_notebooks/keras_with_limited_ram/keras_training_with_limited_ram.ipynb<br><br>\n",
    "https://edstem.org/us/courses/32607/discussion/2699088?comment=6229916"
   ]
  },
  {
   "cell_type": "markdown",
   "metadata": {
    "id": "xXt_pSdk8hNd"
   },
   "source": [
    "#### Inspired by Natalie's notebook, made my own generator that chunks up my data into pieces that won't make my machine run out of memory before completing one epoch\n",
    "If generator is not used, might delete this section"
   ]
  },
  {
   "cell_type": "code",
   "execution_count": 75,
   "metadata": {
    "executionInfo": {
     "elapsed": 8,
     "status": "ok",
     "timestamp": 1681013500280,
     "user": {
      "displayName": "Christian Montecillo",
      "userId": "02267957112746133644"
     },
     "user_tz": 360
    },
    "id": "VqlRB7kLgciK"
   },
   "outputs": [],
   "source": [
    "# from sklearn.utils.random import sample_without_replacement\n",
    "\n",
    "# # Define a generator function\n",
    "# def generator(data, labels, batch_size):\n",
    "#     # num_samples = len(data)\n",
    "#     # while True:\n",
    "#     #     indices = np.random.randint(num_samples, size=batch_size)\n",
    "#     #     yield data[indices], labels[indices]\n",
    "\n",
    "#     # Loop over batches\n",
    "#     for i in range(0, len(data), batch_size):\n",
    "      \n",
    "#       # Get a batch of indices using sample_without_replacement()\n",
    "#       batch_indices = sample_without_replacement(n_population=len(data), n_samples=batch_size)\n",
    "      \n",
    "#       # Yield a batch of features and labels using the indices\n",
    "#       yield data[batch_indices], labels[batch_indices]"
   ]
  },
  {
   "cell_type": "code",
   "execution_count": 76,
   "metadata": {
    "executionInfo": {
     "elapsed": 7,
     "status": "ok",
     "timestamp": 1681013500280,
     "user": {
      "displayName": "Christian Montecillo",
      "userId": "02267957112746133644"
     },
     "user_tz": 360
    },
    "id": "nct6qudng5T4"
   },
   "outputs": [],
   "source": [
    "# Create the generator\n",
    "# batch_size = 1 # using this batch size because that's what seemed reasonable based on the number of records in the training dataset\n",
    "# gen = generator(data=padded_train_seq, labels=train_labels, batch_size=batch_size)"
   ]
  },
  {
   "cell_type": "markdown",
   "metadata": {
    "id": "5qWdOrSvDBxP"
   },
   "source": [
    "#### Setting up checkpoints"
   ]
  },
  {
   "cell_type": "code",
   "execution_count": 77,
   "metadata": {
    "colab": {
     "base_uri": "https://localhost:8080/"
    },
    "executionInfo": {
     "elapsed": 7,
     "status": "ok",
     "timestamp": 1681013500280,
     "user": {
      "displayName": "Christian Montecillo",
      "userId": "02267957112746133644"
     },
     "user_tz": 360
    },
    "id": "DLCin0Ms-_QM",
    "outputId": "baeff342-f4b2-4a33-98af-213d51ff55a3"
   },
   "outputs": [
    {
     "name": "stdout",
     "output_type": "stream",
     "text": [
      "/2023-04-08-2211\n"
     ]
    }
   ],
   "source": [
    "# reference: https://pynative.com/python-timezone/\n",
    "# make a timestamp so it can be part of the folder name\n",
    "# otherwise, all the checkpoints get dumped into the same\n",
    "# folder and that's not great\n",
    "import datetime\n",
    "import pytz\n",
    "\n",
    "local_tz = pytz.timezone('America/Denver')\n",
    "local_dt = datetime.datetime.now(local_tz)\n",
    "\n",
    "# Format the datetime object as a string without spaces\n",
    "timestamp = local_dt.strftime('/%Y-%m-%d-%H%M')\n",
    "\n",
    "# Print the string\n",
    "print(timestamp)"
   ]
  },
  {
   "cell_type": "code",
   "execution_count": 78,
   "metadata": {
    "colab": {
     "base_uri": "https://localhost:8080/"
    },
    "executionInfo": {
     "elapsed": 212,
     "status": "ok",
     "timestamp": 1681013500487,
     "user": {
      "displayName": "Christian Montecillo",
      "userId": "02267957112746133644"
     },
     "user_tz": 360
    },
    "id": "UYF2mq-rnikf",
    "outputId": "9ba0e9d4-e7db-473b-e4c3-0dfee722eb91"
   },
   "outputs": [
    {
     "name": "stdout",
     "output_type": "stream",
     "text": [
      "136_40_model  34_10_model  archive     clean_plus_kaggle_model\n",
      "17_5_model    68_20_model  base_model\n"
     ]
    }
   ],
   "source": [
    "!ls '/content/gdrive/MyDrive/266_Final_Project_Folder/cm_working_dir/cm_checkpoints/'"
   ]
  },
  {
   "cell_type": "code",
   "execution_count": 79,
   "metadata": {
    "executionInfo": {
     "elapsed": 6,
     "status": "ok",
     "timestamp": 1681013500487,
     "user": {
      "displayName": "Christian Montecillo",
      "userId": "02267957112746133644"
     },
     "user_tz": 360
    },
    "id": "fWUjoVx_oQ1p"
   },
   "outputs": [],
   "source": [
    "checkpoint_dir = project_folder + '/cm_working_dir/cm_checkpoints'\n",
    "checkpoint_filepath = checkpoint_dir + '/clean_plus_kaggle_model/weights.{epoch:02d}-{val_accuracy:.2f}.hdf5' #+ timestamp + '/weights.{epoch:02d}-{val_accuracy:.2f}.hdf5'\n",
    "model_checkpoint_callback = tf.keras.callbacks.ModelCheckpoint(\n",
    "    filepath=checkpoint_filepath,\n",
    "    save_weights_only=True)"
   ]
  },
  {
   "cell_type": "code",
   "execution_count": 80,
   "metadata": {
    "colab": {
     "base_uri": "https://localhost:8080/"
    },
    "executionInfo": {
     "elapsed": 5,
     "status": "ok",
     "timestamp": 1681013500487,
     "user": {
      "displayName": "Christian Montecillo",
      "userId": "02267957112746133644"
     },
     "user_tz": 360
    },
    "id": "vEGdADVWY5aV",
    "outputId": "ee61e198-c05b-4dca-af0a-df8ed485c631"
   },
   "outputs": [
    {
     "name": "stdout",
     "output_type": "stream",
     "text": [
      "/content/gdrive/MyDrive/266_Final_Project_Folder/cm_working_dir/cm_checkpoints/clean_plus_kaggle_model/weights.{epoch:02d}-{val_accuracy:.2f}.hdf5\n"
     ]
    }
   ],
   "source": [
    "# check to make sure that the folder name is as expected\n",
    "# format: .....cm_checkpoints/YYYY-MM-DD-TIME/....\n",
    "print(checkpoint_filepath)"
   ]
  },
  {
   "cell_type": "markdown",
   "metadata": {
    "id": "Tu0tD3XEQYxO"
   },
   "source": [
    "### Training the Model!!!"
   ]
  },
  {
   "cell_type": "markdown",
   "metadata": {
    "id": "kGXLqEfMvIUu"
   },
   "source": [
    "##### Uncomment cell below to load checkpoints; else keep commented to start fresh"
   ]
  },
  {
   "cell_type": "code",
   "execution_count": 81,
   "metadata": {
    "executionInfo": {
     "elapsed": 3,
     "status": "ok",
     "timestamp": 1681013500487,
     "user": {
      "displayName": "Christian Montecillo",
      "userId": "02267957112746133644"
     },
     "user_tz": 360
    },
    "id": "wm6zmRBWPA4F"
   },
   "outputs": [],
   "source": [
    "# uncomment below when loading checkpoints\n",
    "# hdf5_checkpoint = 'weights.05-0.99' # change this to the right filename for the checkpoint\n",
    "# checkpoint_filepath = checkpoint_dir + '/' + hdf5_checkpoint + '.hdf5'\n",
    "# model.load_weights(checkpoint_filepath)"
   ]
  },
  {
   "cell_type": "code",
   "execution_count": 82,
   "metadata": {
    "executionInfo": {
     "elapsed": 87,
     "status": "ok",
     "timestamp": 1681013500571,
     "user": {
      "displayName": "Christian Montecillo",
      "userId": "02267957112746133644"
     },
     "user_tz": 360
    },
    "id": "WrvGsgIf9Z2W"
   },
   "outputs": [],
   "source": [
    "# batch_size = 64\n",
    "# steps_per_epoch = len(padded_train_seq) / batch_size\n",
    "\n",
    "# history = model.fit(\n",
    "#     gen,\n",
    "#     validation_data=(val_seq, val_labels),\n",
    "#     steps_per_epoch=steps_per_epoch,\n",
    "#     epochs=1,\n",
    "#     callbacks=[\n",
    "#         tf.keras.callbacks.EarlyStopping(monitor='val_accuracy', patience=2), # if model doesn't see improvement in val_accuracy after 2 epochs, it will stop training\n",
    "#         model_checkpoint_callback\n",
    "#     ]\n",
    "# )"
   ]
  },
  {
   "cell_type": "markdown",
   "metadata": {
    "id": "nrrGcqfzvbnA"
   },
   "source": [
    "##### Training a fresh model (don't run this if running cells above)"
   ]
  },
  {
   "cell_type": "code",
   "execution_count": 83,
   "metadata": {
    "colab": {
     "base_uri": "https://localhost:8080/"
    },
    "executionInfo": {
     "elapsed": 85535,
     "status": "ok",
     "timestamp": 1681013586104,
     "user": {
      "displayName": "Christian Montecillo",
      "userId": "02267957112746133644"
     },
     "user_tz": 360
    },
    "id": "oCfI-LfAn9nR",
    "outputId": "1d05df8d-ad3e-40a3-8135-f283ee0c749b"
   },
   "outputs": [
    {
     "name": "stdout",
     "output_type": "stream",
     "text": [
      "Epoch 1/5\n",
      "317/317 [==============================] - 33s 89ms/step - loss: 1.7323 - accuracy: 0.2963 - val_loss: 1.6573 - val_accuracy: 0.2975\n",
      "Epoch 2/5\n",
      "317/317 [==============================] - 10s 31ms/step - loss: 1.6036 - accuracy: 0.3221 - val_loss: 1.6074 - val_accuracy: 0.3228\n",
      "Epoch 3/5\n",
      "317/317 [==============================] - 9s 29ms/step - loss: 1.4908 - accuracy: 0.3919 - val_loss: 1.4955 - val_accuracy: 0.4149\n",
      "Epoch 4/5\n",
      "317/317 [==============================] - 9s 29ms/step - loss: 1.3773 - accuracy: 0.4691 - val_loss: 1.3594 - val_accuracy: 0.5013\n",
      "Epoch 5/5\n",
      "317/317 [==============================] - 7s 23ms/step - loss: 1.2038 - accuracy: 0.5712 - val_loss: 1.2441 - val_accuracy: 0.5512\n"
     ]
    }
   ],
   "source": [
    "batch_size = 64\n",
    "steps_per_epoch = len(padded_train_seq) / batch_size\n",
    "\n",
    "history = model.fit(\n",
    "    padded_train_seq,\n",
    "    train_labels,\n",
    "    validation_data=(val_seq, val_labels),\n",
    "    steps_per_epoch=steps_per_epoch,\n",
    "    epochs=5,\n",
    "    callbacks=[\n",
    "        tf.keras.callbacks.EarlyStopping(monitor='val_accuracy', patience=2), # if model doesn't see improvement in val_accuracy after 2 epochs, it will stop training\n",
    "        model_checkpoint_callback\n",
    "    ]\n",
    ")"
   ]
  },
  {
   "cell_type": "code",
   "execution_count": 84,
   "metadata": {
    "colab": {
     "base_uri": "https://localhost:8080/",
     "height": 547
    },
    "executionInfo": {
     "elapsed": 332,
     "status": "ok",
     "timestamp": 1681013586433,
     "user": {
      "displayName": "Christian Montecillo",
      "userId": "02267957112746133644"
     },
     "user_tz": 360
    },
    "id": "1mfKwJdT1YFz",
    "outputId": "7def947f-88d4-437c-c9ad-8b7454a00ccc"
   },
   "outputs": [
    {
     "data": {
      "image/png": "[encoded data removed]",
      "text/plain": [
       "<Figure size 1600x600 with 2 Axes>"
      ]
     },
     "metadata": {},
     "output_type": "display_data"
    }
   ],
   "source": [
    "show_history(history)"
   ]
  },
  {
   "cell_type": "markdown",
   "metadata": {
    "id": "cBYWJDCg5eN1"
   },
   "source": [
    "***\n",
    "## 7 Evaluate the model using imbalanced test_df"
   ]
  },
  {
   "cell_type": "code",
   "execution_count": 85,
   "metadata": {
    "executionInfo": {
     "elapsed": 3,
     "status": "ok",
     "timestamp": 1681013586434,
     "user": {
      "displayName": "Christian Montecillo",
      "userId": "02267957112746133644"
     },
     "user_tz": 360
    },
    "id": "nDap2-694dQM"
   },
   "outputs": [],
   "source": [
    "# borrowing this from A3 assignment, but turned it into a function\n",
    "# classification report (cr) and confusion matrix (cm) from A3\n",
    "from sklearn.metrics import classification_report\n",
    "import seaborn as sns\n",
    "\n",
    "def make_cr_cm(preds, labels):\n",
    "\n",
    "  predictions_model = tf.argmax(preds, axis=-1)\n",
    "  predictions_model\n",
    "\n",
    "  # convert labels to string because classification_report needs target_names as str\n",
    "  # labels are currently ints, but will change to str of in (i.e. '0', '1', etc)\n",
    "  class_names = list(set([str(digit) for digit in labels]))\n",
    "\n",
    "  # convert digits in target_names to the actual name of the emotion from the \n",
    "  # using class_to_index dictionary (i.e. '0' -> 'love', '5' -> 'neutral', etc.)\n",
    "  class_names = [list(class_to_index_dict.keys())[list(class_to_index_dict.values()).index(int(name))] for name in class_names]\n",
    "\n",
    "  print('Classification Report:\\n\\n', classification_report(labels, predictions_model.numpy(), target_names=class_names))\n",
    "\n",
    "  print('Confusion Matrix:\\n')\n",
    "  \n",
    "  # confusion matrix from A3\n",
    "  cm = tf.math.confusion_matrix(labels, predictions_model)\n",
    "  cm = cm/cm.numpy().sum(axis=1)[:, tf.newaxis]\n",
    "\n",
    "  plt.figure(figsize=(20,7))\n",
    "  sns.heatmap(\n",
    "      cm, annot=True,\n",
    "      xticklabels=class_names,\n",
    "      yticklabels=class_names)\n",
    "  plt.xlabel(\"Predicted\")\n",
    "  plt.ylabel(\"True\")\n",
    "  plt.show()"
   ]
  },
  {
   "cell_type": "markdown",
   "metadata": {
    "id": "_a6PRIxbbDzo"
   },
   "source": [
    "### Padding the imbalanced test set for evaluation"
   ]
  },
  {
   "cell_type": "code",
   "execution_count": 86,
   "metadata": {
    "colab": {
     "base_uri": "https://localhost:8080/"
    },
    "executionInfo": {
     "elapsed": 1037,
     "status": "ok",
     "timestamp": 1681013587469,
     "user": {
      "displayName": "Christian Montecillo",
      "userId": "02267957112746133644"
     },
     "user_tz": 360
    },
    "id": "gEMdQ78M2Rz-",
    "outputId": "ddd15cfe-10e8-4954-8b69-0689cd45f122"
   },
   "outputs": [
    {
     "data": {
      "text/plain": [
       "array([  2,   6, 685,   3,  44, 707, 500,   0,   0,   0,   0,   0,   0,\n",
       "         0,   0,   0,   0,   0,   0,   0,   0,   0,   0,   0,   0,   0,\n",
       "         0,   0,   0,   0,   0,   0,   0,   0,   0,   0,   0,   0,   0,\n",
       "         0,   0,   0,   0,   0,   0,   0,   0,   0,   0,   0,   0,   0,\n",
       "         0,   0,   0,   0,   0,   0,   0,   0,   0,   0,   0,   0,   0,\n",
       "         0,   0,   0,   0,   0,   0,   0,   0,   0,   0,   0,   0,   0,\n",
       "         0,   0,   0,   0,   0,   0,   0,   0,   0,   0,   0,   0,   0,\n",
       "         0,   0,   0,   0,   0,   0,   0,   0,   0,   0,   0,   0,   0,\n",
       "         0,   0,   0,   0,   0,   0,   0,   0,   0,   0,   0,   0,   0,\n",
       "         0,   0,   0,   0,   0,   0,   0,   0,   0,   0,   0,   0,   0,\n",
       "         0,   0,   0,   0,   0,   0,   0,   0,   0,   0,   0,   0,   0,\n",
       "         0,   0,   0,   0,   0,   0,   0,   0,   0,   0,   0,   0,   0,\n",
       "         0,   0,   0,   0,   0,   0,   0,   0,   0,   0,   0,   0,   0,\n",
       "         0,   0,   0,   0,   0,   0,   0,   0,   0,   0,   0,   0,   0,\n",
       "         0,   0,   0,   0,   0,   0,   0,   0,   0,   0,   0,   0,   0,\n",
       "         0,   0,   0,   0,   0], dtype=int32)"
      ]
     },
     "execution_count": 86,
     "metadata": {},
     "output_type": "execute_result"
    }
   ],
   "source": [
    "padded_test_seq = get_sequences(tokenizer, test_df['text'])\n",
    "padded_test_seq[0]"
   ]
  },
  {
   "cell_type": "code",
   "execution_count": 87,
   "metadata": {
    "colab": {
     "base_uri": "https://localhost:8080/"
    },
    "executionInfo": {
     "elapsed": 8,
     "status": "ok",
     "timestamp": 1681013587470,
     "user": {
      "displayName": "Christian Montecillo",
      "userId": "02267957112746133644"
     },
     "user_tz": 360
    },
    "id": "jBACmE2L2sW1",
    "outputId": "c06e8297-b7e3-4eeb-a709-65b6de2cc1be"
   },
   "outputs": [
    {
     "data": {
      "text/plain": [
       "{'sadness': 0,\n",
       " 'anger': 1,\n",
       " 'fear': 2,\n",
       " 'surprise': 3,\n",
       " 'joy': 4,\n",
       " 'love': 5,\n",
       " 'neutral': 6}"
      ]
     },
     "execution_count": 87,
     "metadata": {},
     "output_type": "execute_result"
    }
   ],
   "source": [
    "# reminder of the class_to_index mapping\n",
    "class_to_index_dict"
   ]
  },
  {
   "cell_type": "code",
   "execution_count": 88,
   "metadata": {
    "colab": {
     "base_uri": "https://localhost:8080/"
    },
    "executionInfo": {
     "elapsed": 6,
     "status": "ok",
     "timestamp": 1681013587470,
     "user": {
      "displayName": "Christian Montecillo",
      "userId": "02267957112746133644"
     },
     "user_tz": 360
    },
    "id": "YbXURKrqVaou",
    "outputId": "a485231f-1ce9-4bd7-d5cb-aa22057ee52f"
   },
   "outputs": [
    {
     "name": "stdout",
     "output_type": "stream",
     "text": [
      "test_df.iloc[7]:\n",
      " text        i never orgasm the feeling is lovely\n",
      "emotions                                    love\n",
      "Name: 7, dtype: object\n",
      "numeric label: 5\n"
     ]
    }
   ],
   "source": [
    "# confirming if it worked (change index) and they should line up with above dict\n",
    "index = 7\n",
    "test_labels = names_to_ids(class_to_index_dict, test_df['emotions'])\n",
    "print('test_df.iloc[7]:\\n', test_df.iloc[index])\n",
    "print('numeric label:', test_labels[index])"
   ]
  },
  {
   "cell_type": "markdown",
   "metadata": {
    "id": "3sQ_CJUk6cHw"
   },
   "source": [
    "### Evaluating the model using test_df!!!"
   ]
  },
  {
   "cell_type": "code",
   "execution_count": 89,
   "metadata": {
    "colab": {
     "base_uri": "https://localhost:8080/"
    },
    "executionInfo": {
     "elapsed": 10429,
     "status": "ok",
     "timestamp": 1681013597896,
     "user": {
      "displayName": "Christian Montecillo",
      "userId": "02267957112746133644"
     },
     "user_tz": 360
    },
    "id": "053kYMU11ufb",
    "outputId": "25fb24f9-bad1-463f-ad9e-6dc58bc05fa1"
   },
   "outputs": [
    {
     "name": "stdout",
     "output_type": "stream",
     "text": [
      "1187/1187 [==============================] - 8s 7ms/step - loss: 0.7624 - accuracy: 0.7517\n"
     ]
    },
    {
     "data": {
      "text/plain": [
       "[0.7623846530914307, 0.7517452239990234]"
      ]
     },
     "execution_count": 89,
     "metadata": {},
     "output_type": "execute_result"
    }
   ],
   "source": [
    "model.evaluate(padded_test_seq, test_labels)"
   ]
  },
  {
   "cell_type": "code",
   "execution_count": 90,
   "metadata": {
    "colab": {
     "base_uri": "https://localhost:8080/"
    },
    "executionInfo": {
     "elapsed": 580,
     "status": "ok",
     "timestamp": 1681013598473,
     "user": {
      "displayName": "Christian Montecillo",
      "userId": "02267957112746133644"
     },
     "user_tz": 360
    },
    "id": "wyu3GMil3mJX",
    "outputId": "a9cc2098-eabb-479d-9dff-f5ace5e2b301"
   },
   "outputs": [
    {
     "name": "stdout",
     "output_type": "stream",
     "text": [
      "Sentence: text        im feeling optimistic about my number of follo...\n",
      "emotions                                                  joy\n",
      "Name: 21256, dtype: object\n",
      "Emotion: 4\n",
      "1/1 [==============================] - 1s 639ms/step\n",
      "Predicted Emotion: 4\n"
     ]
    }
   ],
   "source": [
    "# printing out a random tweet and its label, then calling\n",
    "# model.predict to see what the model predicts\n",
    "i = random.randint(0, len(test_labels) - 1)\n",
    "\n",
    "print('Sentence:', test_df.iloc[i])\n",
    "print('Emotion:', test_labels[i])\n",
    "\n",
    "p = model.predict(np.expand_dims(padded_test_seq[i], axis=0))[0]\n",
    "pred_class = np.argmax(p).astype('uint8')\n",
    "\n",
    "print('Predicted Emotion:', pred_class)"
   ]
  },
  {
   "cell_type": "code",
   "execution_count": 91,
   "metadata": {
    "colab": {
     "base_uri": "https://localhost:8080/"
    },
    "executionInfo": {
     "elapsed": 10325,
     "status": "ok",
     "timestamp": 1681013608796,
     "user": {
      "displayName": "Christian Montecillo",
      "userId": "02267957112746133644"
     },
     "user_tz": 360
    },
    "id": "91fRNuUubO7U",
    "outputId": "5f97f391-cd5c-4834-f51e-8d12bdd042e0"
   },
   "outputs": [
    {
     "name": "stdout",
     "output_type": "stream",
     "text": [
      "1187/1187 [==============================] - 7s 6ms/step\n"
     ]
    }
   ],
   "source": [
    "preds_imbalanced_test_set = model.predict(padded_test_seq)"
   ]
  },
  {
   "cell_type": "code",
   "execution_count": 92,
   "metadata": {
    "colab": {
     "base_uri": "https://localhost:8080/",
     "height": 1000
    },
    "executionInfo": {
     "elapsed": 736,
     "status": "ok",
     "timestamp": 1681013609528,
     "user": {
      "displayName": "Christian Montecillo",
      "userId": "02267957112746133644"
     },
     "user_tz": 360
    },
    "id": "0d24DBx7-Jft",
    "outputId": "bd2a76f8-d350-4366-841f-4d1caa7c0b70"
   },
   "outputs": [
    {
     "name": "stderr",
     "output_type": "stream",
     "text": [
      "/usr/local/lib/python3.9/dist-packages/sklearn/metrics/_classification.py:1344: UndefinedMetricWarning: Precision and F-score are ill-defined and being set to 0.0 in labels with no predicted samples. Use `zero_division` parameter to control this behavior.\n",
      "  _warn_prf(average, modifier, msg_start, len(result))\n",
      "/usr/local/lib/python3.9/dist-packages/sklearn/metrics/_classification.py:1344: UndefinedMetricWarning: Precision and F-score are ill-defined and being set to 0.0 in labels with no predicted samples. Use `zero_division` parameter to control this behavior.\n",
      "  _warn_prf(average, modifier, msg_start, len(result))\n",
      "/usr/local/lib/python3.9/dist-packages/sklearn/metrics/_classification.py:1344: UndefinedMetricWarning: Precision and F-score are ill-defined and being set to 0.0 in labels with no predicted samples. Use `zero_division` parameter to control this behavior.\n",
      "  _warn_prf(average, modifier, msg_start, len(result))\n"
     ]
    },
    {
     "name": "stdout",
     "output_type": "stream",
     "text": [
      "Classification Report:\n",
      "\n",
      "               precision    recall  f1-score   support\n",
      "\n",
      "     neutral       0.79      0.91      0.85     11587\n",
      "     sadness       0.60      0.59      0.60      5226\n",
      "        fear       0.49      0.79      0.60      3955\n",
      "       anger       0.00      0.00      0.00       982\n",
      "    surprise       0.90      0.89      0.90     12917\n",
      "         joy       0.00      0.00      0.00      2434\n",
      "        love       0.87      0.31      0.46       860\n",
      "\n",
      "    accuracy                           0.75     37961\n",
      "   macro avg       0.52      0.50      0.49     37961\n",
      "weighted avg       0.70      0.75      0.72     37961\n",
      "\n",
      "Confusion Matrix:\n",
      "\n"
     ]
    },
    {
     "data": {
      "image/png": "[encoded data removed]",
      "text/plain": [
       "<Figure size 2000x700 with 2 Axes>"
      ]
     },
     "metadata": {},
     "output_type": "display_data"
    }
   ],
   "source": [
    "make_cr_cm(preds_imbalanced_test_set, test_labels)"
   ]
  },
  {
   "cell_type": "markdown",
   "metadata": {
    "id": "3-ekehsJ54yk"
   },
   "source": [
    "***\n",
    "## 8 Evaluating the model again, but with balanced_test_df!!!"
   ]
  },
  {
   "cell_type": "markdown",
   "metadata": {
    "id": "OSNNBLBDbU_J"
   },
   "source": [
    "### Padding the balanced test set for evaluation"
   ]
  },
  {
   "cell_type": "code",
   "execution_count": 93,
   "metadata": {
    "colab": {
     "base_uri": "https://localhost:8080/"
    },
    "executionInfo": {
     "elapsed": 231,
     "status": "ok",
     "timestamp": 1681013609756,
     "user": {
      "displayName": "Christian Montecillo",
      "userId": "02267957112746133644"
     },
     "user_tz": 360
    },
    "id": "z_w8r3SeVAWx",
    "outputId": "f3c96262-5884-4fb4-b637-ed1ebcd93f64"
   },
   "outputs": [
    {
     "data": {
      "text/plain": [
       "array([   2,   51,   44,   31,    4,  331,    9,    4,  629,   10,   16,\n",
       "        133,   16,   66,   23,    5,    6,   54,    4,  331,   10, 1385,\n",
       "         16,   33,  175, 1477,    4,    1,    9,   79,    1,    9,  153,\n",
       "         16,  975, 1688,   17,    7, 1662, 1252,    1,    1,    0,    0,\n",
       "          0,    0,    0,    0,    0,    0,    0,    0,    0,    0,    0,\n",
       "          0,    0,    0,    0,    0,    0,    0,    0,    0,    0,    0,\n",
       "          0,    0,    0,    0,    0,    0,    0,    0,    0,    0,    0,\n",
       "          0,    0,    0,    0,    0,    0,    0,    0,    0,    0,    0,\n",
       "          0,    0,    0,    0,    0,    0,    0,    0,    0,    0,    0,\n",
       "          0,    0,    0,    0,    0,    0,    0,    0,    0,    0,    0,\n",
       "          0,    0,    0,    0,    0,    0,    0,    0,    0,    0,    0,\n",
       "          0,    0,    0,    0,    0,    0,    0,    0,    0,    0,    0,\n",
       "          0,    0,    0,    0,    0,    0,    0,    0,    0,    0,    0,\n",
       "          0,    0,    0,    0,    0,    0,    0,    0,    0,    0,    0,\n",
       "          0,    0,    0,    0,    0,    0,    0,    0,    0,    0,    0,\n",
       "          0,    0,    0,    0,    0,    0,    0,    0,    0,    0,    0,\n",
       "          0,    0,    0,    0,    0,    0,    0,    0,    0,    0,    0,\n",
       "          0,    0,    0,    0,    0,    0,    0,    0,    0,    0,    0,\n",
       "          0,    0], dtype=int32)"
      ]
     },
     "execution_count": 93,
     "metadata": {},
     "output_type": "execute_result"
    }
   ],
   "source": [
    "padded_balanced_test_seq = get_sequences(tokenizer, balanced_test_df['text'])\n",
    "padded_balanced_test_seq[0]"
   ]
  },
  {
   "cell_type": "code",
   "execution_count": 94,
   "metadata": {
    "colab": {
     "base_uri": "https://localhost:8080/"
    },
    "executionInfo": {
     "elapsed": 3,
     "status": "ok",
     "timestamp": 1681013609756,
     "user": {
      "displayName": "Christian Montecillo",
      "userId": "02267957112746133644"
     },
     "user_tz": 360
    },
    "id": "cedRkeI7VPig",
    "outputId": "67d0b7b0-5d6d-469d-96c9-f8a64cc95467"
   },
   "outputs": [
    {
     "data": {
      "text/plain": [
       "{'sadness': 0,\n",
       " 'anger': 1,\n",
       " 'fear': 2,\n",
       " 'surprise': 3,\n",
       " 'joy': 4,\n",
       " 'love': 5,\n",
       " 'neutral': 6}"
      ]
     },
     "execution_count": 94,
     "metadata": {},
     "output_type": "execute_result"
    }
   ],
   "source": [
    "# reminder of the class_to_index mapping\n",
    "class_to_index_dict"
   ]
  },
  {
   "cell_type": "code",
   "execution_count": 95,
   "metadata": {
    "colab": {
     "base_uri": "https://localhost:8080/"
    },
    "executionInfo": {
     "elapsed": 110,
     "status": "ok",
     "timestamp": 1681013609864,
     "user": {
      "displayName": "Christian Montecillo",
      "userId": "02267957112746133644"
     },
     "user_tz": 360
    },
    "id": "hm-MP1dM3HQL",
    "outputId": "1fbf7bf4-7e74-4f3f-f3ae-e88c5da4db48"
   },
   "outputs": [
    {
     "name": "stdout",
     "output_type": "stream",
     "text": [
      "balanced_test_df.iloc[7]:\n",
      " text        i feel like i m wronged\n",
      "emotions                      anger\n",
      "Name: 7, dtype: object\n",
      "numeric label: 1\n"
     ]
    }
   ],
   "source": [
    "# confirming if it worked (change index) and they should line up with above dict\n",
    "index = 7\n",
    "balanced_test_labels = names_to_ids(class_to_index_dict, balanced_test_df['emotions'])\n",
    "print('balanced_test_df.iloc[7]:\\n', balanced_test_df.iloc[index])\n",
    "print('numeric label:', balanced_test_labels[index])"
   ]
  },
  {
   "cell_type": "markdown",
   "metadata": {
    "id": "MJasH3YlbfCW"
   },
   "source": [
    "### Evaluating the model using balanced_test_df!!!"
   ]
  },
  {
   "cell_type": "code",
   "execution_count": 96,
   "metadata": {
    "colab": {
     "base_uri": "https://localhost:8080/"
    },
    "executionInfo": {
     "elapsed": 2524,
     "status": "ok",
     "timestamp": 1681013612385,
     "user": {
      "displayName": "Christian Montecillo",
      "userId": "02267957112746133644"
     },
     "user_tz": 360
    },
    "id": "1X2dswfs83FG",
    "outputId": "64b2fd06-272e-4e26-93b2-9e1d61899f83"
   },
   "outputs": [
    {
     "name": "stdout",
     "output_type": "stream",
     "text": [
      "189/189 [==============================] - 2s 8ms/step - loss: 1.3608 - accuracy: 0.4982\n"
     ]
    },
    {
     "data": {
      "text/plain": [
       "[1.3607748746871948, 0.4981727600097656]"
      ]
     },
     "execution_count": 96,
     "metadata": {},
     "output_type": "execute_result"
    }
   ],
   "source": [
    "model.evaluate(padded_balanced_test_seq, balanced_test_labels)"
   ]
  },
  {
   "cell_type": "code",
   "execution_count": 97,
   "metadata": {
    "colab": {
     "base_uri": "https://localhost:8080/"
    },
    "executionInfo": {
     "elapsed": 95,
     "status": "ok",
     "timestamp": 1681013612478,
     "user": {
      "displayName": "Christian Montecillo",
      "userId": "02267957112746133644"
     },
     "user_tz": 360
    },
    "id": "v98-_YwrV2t_",
    "outputId": "41fd8671-a874-4fb6-d71b-c3f0adb04a24"
   },
   "outputs": [
    {
     "name": "stdout",
     "output_type": "stream",
     "text": [
      "Sentence: text        i liked what blackauthority said in his recent...\n",
      "emotions                                                 fear\n",
      "Name: 920, dtype: object\n",
      "Emotion: 2\n",
      "1/1 [==============================] - 0s 26ms/step\n",
      "Predicted Emotion: 2\n"
     ]
    }
   ],
   "source": [
    "# printing out a random tweet and its label, then calling\n",
    "# model.predict to see what the model predicts\n",
    "i = random.randint(0, len(balanced_test_labels) - 1)\n",
    "\n",
    "print('Sentence:', balanced_test_df.iloc[i])\n",
    "print('Emotion:', balanced_test_labels[i])\n",
    "\n",
    "p = model.predict(np.expand_dims(padded_balanced_test_seq[i], axis=0))[0]\n",
    "pred_class = np.argmax(p).astype('uint8')\n",
    "\n",
    "print('Predicted Emotion:', pred_class)"
   ]
  },
  {
   "cell_type": "code",
   "execution_count": 98,
   "metadata": {
    "colab": {
     "base_uri": "https://localhost:8080/"
    },
    "executionInfo": {
     "elapsed": 1241,
     "status": "ok",
     "timestamp": 1681013613716,
     "user": {
      "displayName": "Christian Montecillo",
      "userId": "02267957112746133644"
     },
     "user_tz": 360
    },
    "id": "VtERWaIyiQ2k",
    "outputId": "c7af9a9e-d363-401f-eccb-55ce15c0ee75"
   },
   "outputs": [
    {
     "name": "stdout",
     "output_type": "stream",
     "text": [
      "189/189 [==============================] - 1s 6ms/step\n"
     ]
    }
   ],
   "source": [
    "preds_balanced_test_set = model.predict(padded_balanced_test_seq)"
   ]
  },
  {
   "cell_type": "code",
   "execution_count": 99,
   "metadata": {
    "colab": {
     "base_uri": "https://localhost:8080/",
     "height": 1000
    },
    "executionInfo": {
     "elapsed": 348,
     "status": "ok",
     "timestamp": 1681013614142,
     "user": {
      "displayName": "Christian Montecillo",
      "userId": "02267957112746133644"
     },
     "user_tz": 360
    },
    "id": "I5qqhODF-hyO",
    "outputId": "ad4669d2-2792-4a01-f8da-20698ea97715"
   },
   "outputs": [
    {
     "name": "stdout",
     "output_type": "stream",
     "text": [
      "Classification Report:\n",
      "\n",
      "               precision    recall  f1-score   support\n",
      "\n",
      "     neutral       0.64      0.89      0.75       860\n",
      "     sadness       0.50      0.59      0.54       860\n",
      "        fear       0.31      0.80      0.44       860\n",
      "       anger       0.00      0.00      0.00       860\n",
      "    surprise       0.60      0.89      0.72       860\n",
      "         joy       0.00      0.00      0.00       860\n",
      "        love       0.99      0.31      0.48       860\n",
      "\n",
      "    accuracy                           0.50      6020\n",
      "   macro avg       0.43      0.50      0.42      6020\n",
      "weighted avg       0.43      0.50      0.42      6020\n",
      "\n",
      "Confusion Matrix:\n",
      "\n"
     ]
    },
    {
     "name": "stderr",
     "output_type": "stream",
     "text": [
      "/usr/local/lib/python3.9/dist-packages/sklearn/metrics/_classification.py:1344: UndefinedMetricWarning: Precision and F-score are ill-defined and being set to 0.0 in labels with no predicted samples. Use `zero_division` parameter to control this behavior.\n",
      "  _warn_prf(average, modifier, msg_start, len(result))\n",
      "/usr/local/lib/python3.9/dist-packages/sklearn/metrics/_classification.py:1344: UndefinedMetricWarning: Precision and F-score are ill-defined and being set to 0.0 in labels with no predicted samples. Use `zero_division` parameter to control this behavior.\n",
      "  _warn_prf(average, modifier, msg_start, len(result))\n",
      "/usr/local/lib/python3.9/dist-packages/sklearn/metrics/_classification.py:1344: UndefinedMetricWarning: Precision and F-score are ill-defined and being set to 0.0 in labels with no predicted samples. Use `zero_division` parameter to control this behavior.\n",
      "  _warn_prf(average, modifier, msg_start, len(result))\n"
     ]
    },
    {
     "data": {
      "image/png": "[encoded data removed]",
      "text/plain": [
       "<Figure size 2000x700 with 2 Axes>"
      ]
     },
     "metadata": {},
     "output_type": "display_data"
    }
   ],
   "source": [
    "make_cr_cm(preds_balanced_test_set, balanced_test_labels)"
   ]
  }
 ],
 "metadata": {
  "accelerator": "GPU",
  "colab": {
   "provenance": [
    {
     "file_id": "1GgqjlJKTRlHcJ97Fqdaa2dssTvFjb7jH",
     "timestamp": 1677994986960
    }
   ]
  },
  "gpuClass": "standard",
  "kernelspec": {
   "display_name": "Python 3 (ipykernel)",
   "language": "python",
   "name": "python3"
  },
  "language_info": {
   "codemirror_mode": {
    "name": "ipython",
    "version": 3
   },
   "file_extension": ".py",
   "mimetype": "text/x-python",
   "name": "python",
   "nbconvert_exporter": "python",
   "pygments_lexer": "ipython3",
   "version": "3.9.12"
  }
 },
 "nbformat": 4,
 "nbformat_minor": 1
}
